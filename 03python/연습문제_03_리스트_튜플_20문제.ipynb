{
 "cells": [
  {
   "cell_type": "markdown",
   "id": "2f36cfaf",
   "metadata": {},
   "source": [
    "1.**빈 리스트 `numbers`를 생성하고 출력하세요.**  \n",
    "   ```python\n",
    "   []\n",
    "   ```"
   ]
  },
  {
   "cell_type": "code",
   "execution_count": 33,
   "id": "cb38001d",
   "metadata": {},
   "outputs": [
    {
     "data": {
      "text/plain": [
       "[]"
      ]
     },
     "execution_count": 33,
     "metadata": {},
     "output_type": "execute_result"
    }
   ],
   "source": [
    "numbers = []\n",
    "numbers"
   ]
  },
  {
   "cell_type": "markdown",
   "id": "c1ee7c56",
   "metadata": {},
   "source": [
    "2.**`'numbers'`에 1,2,3,4,5 를 추가하고 출력하세요.**\n",
    "```python\n",
    "[1,2,3,4,5]\n",
    "```"
   ]
  },
  {
   "cell_type": "code",
   "execution_count": 34,
   "id": "9a7e491c",
   "metadata": {},
   "outputs": [
    {
     "data": {
      "text/plain": [
       "[1, 2, 3, 4, 5]"
      ]
     },
     "execution_count": 34,
     "metadata": {},
     "output_type": "execute_result"
    }
   ],
   "source": [
    "numbers.extend([1,2,3,4,5])\n",
    "numbers"
   ]
  },
  {
   "cell_type": "markdown",
   "id": "b356443b",
   "metadata": {},
   "source": [
    "3.**리스트 `numbers`에 숫자 `6`을 추가하고 출력하세요.**  \n",
    "   ```python\n",
    "   [1, 2, 3, 4, 5, 6]\n",
    "   ```"
   ]
  },
  {
   "cell_type": "code",
   "execution_count": 35,
   "id": "df3b9870",
   "metadata": {},
   "outputs": [
    {
     "data": {
      "text/plain": [
       "[1, 2, 3, 4, 5, 6]"
      ]
     },
     "execution_count": 35,
     "metadata": {},
     "output_type": "execute_result"
    }
   ],
   "source": [
    "numbers.extend([6])\n",
    "numbers"
   ]
  },
  {
   "cell_type": "markdown",
   "id": "29600ada",
   "metadata": {},
   "source": [
    "4.**`'numbers'` 에 자료 1,2,3,4,5 를 추가하세요. append가 아닌 다른 함수로 추가**\n",
    "```python\n",
    "[1, 2, 3, 4, 5, 6, 1, 2, 3, 4, 5]\n",
    "```"
   ]
  },
  {
   "cell_type": "code",
   "execution_count": 36,
   "id": "5ce3df07",
   "metadata": {
    "scrolled": false
   },
   "outputs": [
    {
     "data": {
      "text/plain": [
       "[1, 2, 3, 4, 5, 6, 1, 2, 3, 4, 5]"
      ]
     },
     "execution_count": 36,
     "metadata": {},
     "output_type": "execute_result"
    }
   ],
   "source": [
    "numbers.extend([1,2,3,4,5])\n",
    "numbers"
   ]
  },
  {
   "cell_type": "markdown",
   "id": "4eb7175a",
   "metadata": {},
   "source": [
    "5.**`'numbers'` 에 자료 1,2,3,4,5를 연산자를 이용해 추가하세요.**\n",
    "```python\n",
    "[1, 2, 3, 4, 5, 6, 1, 2, 3, 4, 5, 1, 2, 3, 4, 5]\n",
    "```"
   ]
  },
  {
   "cell_type": "code",
   "execution_count": 37,
   "id": "4b316849",
   "metadata": {},
   "outputs": [
    {
     "data": {
      "text/plain": [
       "[1, 2, 3, 4, 5, 6, 1, 2, 3, 4, 5]"
      ]
     },
     "execution_count": 37,
     "metadata": {},
     "output_type": "execute_result"
    }
   ],
   "source": [
    "a = numbers\n",
    "a"
   ]
  },
  {
   "cell_type": "code",
   "execution_count": 38,
   "id": "18adeb27",
   "metadata": {},
   "outputs": [
    {
     "data": {
      "text/plain": [
       "[1, 2, 3, 4, 5]"
      ]
     },
     "execution_count": 38,
     "metadata": {},
     "output_type": "execute_result"
    }
   ],
   "source": [
    "b = [1,2,3,4,5]\n",
    "b"
   ]
  },
  {
   "cell_type": "code",
   "execution_count": 39,
   "id": "409f6edd",
   "metadata": {},
   "outputs": [
    {
     "data": {
      "text/plain": [
       "[1, 2, 3, 4, 5, 6, 1, 2, 3, 4, 5, 1, 2, 3, 4, 5]"
      ]
     },
     "execution_count": 39,
     "metadata": {},
     "output_type": "execute_result"
    }
   ],
   "source": [
    "a + b"
   ]
  },
  {
   "cell_type": "markdown",
   "id": "9b9c7567",
   "metadata": {},
   "source": [
    "6.**`'numbers'` 의 자료를 2배로 늘리세요.**\n",
    "```python\n",
    "[1, 2, 3, 4, 5, 6, 1, 2, 3, 4, 5, 1, 2, 3, 4, 5, 1, 2, 3, 4, 5, 6, 1, 2, 3, 4, 5, 1, 2, 3, 4, 5]\n",
    "```"
   ]
  },
  {
   "cell_type": "code",
   "execution_count": 40,
   "id": "a9a9bd05",
   "metadata": {},
   "outputs": [
    {
     "data": {
      "text/plain": [
       "[1, 2, 3, 4, 5, 6, 1, 2, 3, 4, 5, 1, 2, 3, 4, 5, 6, 1, 2, 3, 4, 5]"
      ]
     },
     "execution_count": 40,
     "metadata": {},
     "output_type": "execute_result"
    }
   ],
   "source": [
    "numbers * 2"
   ]
  },
  {
   "cell_type": "markdown",
   "id": "cb546b6f",
   "metadata": {},
   "source": [
    "7. **리스트 `numbers`에서 두 번째 요소를 `99`로 변경하고 출력하세요.**  \n",
    "```python\n",
    "[1, 99, 3, 4, 5, 6, 1, 2, 3, 4, 5, 1, 2, 3, 4, 5, 1, 2, 3, 4, 5, 6, 1, 2, 3, 4, 5, 1, 2, 3, 4, 5]\n",
    "```"
   ]
  },
  {
   "cell_type": "code",
   "execution_count": 41,
   "id": "c4b0af23",
   "metadata": {},
   "outputs": [],
   "source": [
    "numbers[1] = 99"
   ]
  },
  {
   "cell_type": "code",
   "execution_count": 42,
   "id": "50e691f7",
   "metadata": {},
   "outputs": [
    {
     "data": {
      "text/plain": [
       "[1, 99, 3, 4, 5, 6, 1, 2, 3, 4, 5]"
      ]
     },
     "execution_count": 42,
     "metadata": {},
     "output_type": "execute_result"
    }
   ],
   "source": [
    "numbers"
   ]
  },
  {
   "cell_type": "markdown",
   "id": "dc81bba6",
   "metadata": {},
   "source": [
    "8. **리스트 `numbers`에서 마지막 요소를 제거하고 출력하세요.**  \n",
    "```python\n",
    "[1, 99, 3, 4, 5, 6, 1, 2, 3, 4, 5, 1, 2, 3, 4, 5, 1, 2, 3, 4, 5, 6, 1, 2, 3, 4, 5, 1, 2, 3, 4]\n",
    "```"
   ]
  },
  {
   "cell_type": "code",
   "execution_count": 43,
   "id": "bcac9e58",
   "metadata": {},
   "outputs": [
    {
     "data": {
      "text/plain": [
       "[1, 99, 3, 4, 5, 6, 1, 2, 3, 4]"
      ]
     },
     "execution_count": 43,
     "metadata": {},
     "output_type": "execute_result"
    }
   ],
   "source": [
    "numbers.pop()\n",
    "numbers"
   ]
  },
  {
   "cell_type": "markdown",
   "id": "06bba1b6",
   "metadata": {},
   "source": [
    "9. **리스트 `numbers`에서 `99`를 삭제하고 출력하세요.**\n",
    "```python\n",
    "[1, 3, 4, 5, 6, 1, 2, 3, 4, 5, 1, 2, 3, 4, 5, 1, 2, 3, 4, 5, 6, 1, 2, 3, 4, 5, 1, 2, 3, 4]\n",
    "```"
   ]
  },
  {
   "cell_type": "code",
   "execution_count": 47,
   "id": "47613219",
   "metadata": {},
   "outputs": [],
   "source": [
    "del numbers[1]"
   ]
  },
  {
   "cell_type": "code",
   "execution_count": 48,
   "id": "bbd1223b",
   "metadata": {},
   "outputs": [
    {
     "data": {
      "text/plain": [
       "[1, 4, 5, 6, 1, 2, 3, 4]"
      ]
     },
     "execution_count": 48,
     "metadata": {},
     "output_type": "execute_result"
    }
   ],
   "source": [
    "numbers"
   ]
  },
  {
   "cell_type": "markdown",
   "id": "2aefd51e",
   "metadata": {},
   "source": [
    "10.**리스트 `numbers`에서 4번째 `4`의 인덱스를 출력하고 삭제하세요.**\n",
    "```python\n",
    "18\n",
    "4\n",
    "[1, 3, 4, 5, 6, 1, 2, 3, 4, 5, 1, 2, 3, 4, 5, 1, 2, 3, 5, 6, 1, 2, 3, 4, 5, 1, 2, 3, 4]\n",
    "```\n"
   ]
  },
  {
   "cell_type": "code",
   "execution_count": 49,
   "id": "8d14bbe6",
   "metadata": {},
   "outputs": [
    {
     "data": {
      "text/plain": [
       "7"
      ]
     },
     "execution_count": 49,
     "metadata": {},
     "output_type": "execute_result"
    }
   ],
   "source": [
    "numbers.index(4, 3)"
   ]
  },
  {
   "cell_type": "markdown",
   "id": "f5483151",
   "metadata": {},
   "source": [
    "11.**리스트 `numbers`에서 `5`의 개수를 출력하세요.**\n",
    "```python\n",
    "5\n",
    "```\n"
   ]
  },
  {
   "cell_type": "code",
   "execution_count": 50,
   "id": "47c15361",
   "metadata": {
    "scrolled": true
   },
   "outputs": [
    {
     "data": {
      "text/plain": [
       "1"
      ]
     },
     "execution_count": 50,
     "metadata": {},
     "output_type": "execute_result"
    }
   ],
   "source": [
    "numbers.count(5)"
   ]
  },
  {
   "cell_type": "markdown",
   "id": "8a6e6b24",
   "metadata": {},
   "source": [
    "12. **complex_list 변수에 리스트 `[1, 2, 3, [4, 5, 6], (7, 8, \"튜플\")]`을 만들고 ``\"튜플\"`을 출력하세요.**  \n",
    "```python\n",
    "[1, 2, 3, [4, 5, 6], (7, 8, '튜플')]\n",
    "튜플\n",
    "```"
   ]
  },
  {
   "cell_type": "code",
   "execution_count": 90,
   "id": "82ab6dc0",
   "metadata": {},
   "outputs": [
    {
     "name": "stdout",
     "output_type": "stream",
     "text": [
      "튜플\n"
     ]
    },
    {
     "data": {
      "text/plain": [
       "([1, 2, 3, [4, 5, 6], (7, 8, '튜플')], None)"
      ]
     },
     "execution_count": 90,
     "metadata": {},
     "output_type": "execute_result"
    }
   ],
   "source": [
    "complex_list = [1, 2, 3, [4, 5, 6], (7, 8, '튜플')]\n",
    "complex_list, print(\"튜플\")"
   ]
  },
  {
   "cell_type": "markdown",
   "id": "ac469393",
   "metadata": {},
   "source": [
    "13. **`complex_list`의 모든 요소를 역순으로 출력하세요.**  \n",
    "```python\n",
    "[(7, 8, '튜플'), [4, 5, 6], 3, 2, 1]\n",
    "```"
   ]
  },
  {
   "cell_type": "code",
   "execution_count": 82,
   "id": "04e7954d",
   "metadata": {},
   "outputs": [],
   "source": [
    "complex_list.reverse()"
   ]
  },
  {
   "cell_type": "code",
   "execution_count": 83,
   "id": "deab4ac8",
   "metadata": {},
   "outputs": [
    {
     "data": {
      "text/plain": [
       "[(7, 8, '튜플'), [4, 5, 6], 3, 2, 1]"
      ]
     },
     "execution_count": 83,
     "metadata": {},
     "output_type": "execute_result"
    }
   ],
   "source": [
    "complex_list"
   ]
  },
  {
   "cell_type": "markdown",
   "id": "f97447ed",
   "metadata": {},
   "source": [
    "14. **`complex_list`내의 [4,5,6] 리스트를 역순 정렬하고 출력하세요.**  \n",
    "```python\n",
    "[1, 2, 3, [6, 5, 4], (7, 8, '튜플')]\n",
    "```"
   ]
  },
  {
   "cell_type": "code",
   "execution_count": 86,
   "id": "ed20321d",
   "metadata": {},
   "outputs": [
    {
     "ename": "SyntaxError",
     "evalue": "invalid syntax (1131721128.py, line 1)",
     "output_type": "error",
     "traceback": [
      "\u001b[1;36m  Cell \u001b[1;32mIn[86], line 1\u001b[1;36m\u001b[0m\n\u001b[1;33m    complex_list[3]index(4,5,6).sort(reverse=True)\u001b[0m\n\u001b[1;37m                   ^\u001b[0m\n\u001b[1;31mSyntaxError\u001b[0m\u001b[1;31m:\u001b[0m invalid syntax\n"
     ]
    }
   ],
   "source": [
    "complex_list[3]index(4,5,6).sort(reverse=True)"
   ]
  },
  {
   "cell_type": "markdown",
   "id": "674f8d21",
   "metadata": {},
   "source": [
    "15. **`complex_list`에서 '튜플'을 삭제하세요**\n",
    "```python\n",
    "[1, 2, 3, [6, 5, 4], [7, 8]]\n",
    "```"
   ]
  },
  {
   "cell_type": "code",
   "execution_count": 91,
   "id": "9fd0c06e",
   "metadata": {},
   "outputs": [
    {
     "ename": "TypeError",
     "evalue": "'tuple' object doesn't support item deletion",
     "output_type": "error",
     "traceback": [
      "\u001b[1;31m---------------------------------------------------------------------------\u001b[0m",
      "\u001b[1;31mTypeError\u001b[0m                                 Traceback (most recent call last)",
      "Cell \u001b[1;32mIn[91], line 1\u001b[0m\n\u001b[1;32m----> 1\u001b[0m \u001b[38;5;28;01mdel\u001b[39;00m complex_list[\u001b[38;5;241m4\u001b[39m][\u001b[38;5;241m2\u001b[39m]\n",
      "\u001b[1;31mTypeError\u001b[0m: 'tuple' object doesn't support item deletion"
     ]
    }
   ],
   "source": [
    "del complex_list[4][2]"
   ]
  },
  {
   "cell_type": "markdown",
   "id": "ea115721",
   "metadata": {},
   "source": [
    "16.**변수 t에 튜플 `(10, 20, 30, 40, 50)`을 만들고 최대값과 최소값을 결과 형식에 맞게 출력하세요.**  \n",
    "```python\n",
    "(10, 20, 30, 40, 50)\n",
    "최대값: 50 최솟값: 10\n",
    "```"
   ]
  },
  {
   "cell_type": "code",
   "execution_count": 94,
   "id": "70e0c3ee",
   "metadata": {},
   "outputs": [],
   "source": [
    "t = (10, 20, 30, 40, 50)"
   ]
  },
  {
   "cell_type": "code",
   "execution_count": 97,
   "id": "974d660d",
   "metadata": {},
   "outputs": [
    {
     "name": "stdout",
     "output_type": "stream",
     "text": [
      "최대값:  50\n"
     ]
    }
   ],
   "source": [
    "print(\"최대값: \",max(t))"
   ]
  },
  {
   "cell_type": "code",
   "execution_count": 98,
   "id": "8d07b88a",
   "metadata": {},
   "outputs": [
    {
     "name": "stdout",
     "output_type": "stream",
     "text": [
      "최솟값:  10\n"
     ]
    }
   ],
   "source": [
    "print(\"최솟값: \", min(t))"
   ]
  },
  {
   "cell_type": "markdown",
   "id": "7ce95e67",
   "metadata": {},
   "source": [
    "17.**튜플 `t`에서 모든 요소의 합을 출력하세요.**  \n",
    "```python\n",
    "150\n",
    "```"
   ]
  },
  {
   "cell_type": "code",
   "execution_count": 99,
   "id": "3443ba2a",
   "metadata": {},
   "outputs": [
    {
     "data": {
      "text/plain": [
       "150"
      ]
     },
     "execution_count": 99,
     "metadata": {},
     "output_type": "execute_result"
    }
   ],
   "source": [
    "sum(t)"
   ]
  },
  {
   "cell_type": "markdown",
   "id": "ab804deb",
   "metadata": {},
   "source": [
    "18.**튜플 `t`에서 두 번째 요소(20)을 `\"Python\"`으로 변경하고 출력하세요.**  \n",
    "```python\n",
    "(10, 'Python', 30, 40, 50)\n",
    "```"
   ]
  },
  {
   "cell_type": "code",
   "execution_count": 103,
   "id": "a8c2150f",
   "metadata": {},
   "outputs": [
    {
     "data": {
      "text/plain": [
       "[10, 20, 30, 40, 50]"
      ]
     },
     "execution_count": 103,
     "metadata": {},
     "output_type": "execute_result"
    }
   ],
   "source": [
    "t = list(t)\n",
    "t"
   ]
  },
  {
   "cell_type": "code",
   "execution_count": 104,
   "id": "8aa9f829",
   "metadata": {},
   "outputs": [
    {
     "data": {
      "text/plain": [
       "[10, 'python', 30, 40, 50]"
      ]
     },
     "execution_count": 104,
     "metadata": {},
     "output_type": "execute_result"
    }
   ],
   "source": [
    "t[1] = 'python'\n",
    "t"
   ]
  },
  {
   "cell_type": "markdown",
   "id": "2e117188",
   "metadata": {},
   "source": [
    "19.**튜플 t에 1,2,3,4,5를 list로 변경 없이 추가하고 출력하세요**\n",
    "```python\n",
    "(10, 'Python', 30, 40, 50, 1, 2, 3, 4, 5)\n",
    "```"
   ]
  },
  {
   "cell_type": "code",
   "execution_count": 109,
   "id": "291c7ce9",
   "metadata": {},
   "outputs": [
    {
     "data": {
      "text/plain": [
       "(1, 2, 3, 4, 5)"
      ]
     },
     "execution_count": 109,
     "metadata": {},
     "output_type": "execute_result"
    }
   ],
   "source": [
    "t1 = (1,2,3,4,5)\n",
    "t1"
   ]
  },
  {
   "cell_type": "code",
   "execution_count": 111,
   "id": "ae3b1b1f",
   "metadata": {},
   "outputs": [
    {
     "data": {
      "text/plain": [
       "(10, 'python', 30, 40, 50)"
      ]
     },
     "execution_count": 111,
     "metadata": {},
     "output_type": "execute_result"
    }
   ],
   "source": [
    "t = tuple(t)\n",
    "t"
   ]
  },
  {
   "cell_type": "code",
   "execution_count": 112,
   "id": "35934841",
   "metadata": {},
   "outputs": [
    {
     "data": {
      "text/plain": [
       "(10, 'python', 30, 40, 50, 1, 2, 3, 4, 5)"
      ]
     },
     "execution_count": 112,
     "metadata": {},
     "output_type": "execute_result"
    }
   ],
   "source": [
    "t + t1"
   ]
  },
  {
   "cell_type": "markdown",
   "id": "187dd6d0",
   "metadata": {},
   "source": [
    "20. **`'튜플 t'`의 요소를 2배로 늘리세요.**\n",
    "```python\n",
    "(10, 'Python', 30, 40, 50, 1, 2, 3, 4, 5, 10, 'Python', 30, 40, 50, 1, 2, 3, 4, 5)\n",
    "```"
   ]
  },
  {
   "cell_type": "code",
   "execution_count": 113,
   "id": "69e34b7b",
   "metadata": {},
   "outputs": [
    {
     "data": {
      "text/plain": [
       "(10, 'python', 30, 40, 50, 10, 'python', 30, 40, 50)"
      ]
     },
     "execution_count": 113,
     "metadata": {},
     "output_type": "execute_result"
    }
   ],
   "source": [
    "t * 2"
   ]
  }
 ],
 "metadata": {
  "kernelspec": {
   "display_name": "Python 3 (ipykernel)",
   "language": "python",
   "name": "python3"
  },
  "language_info": {
   "codemirror_mode": {
    "name": "ipython",
    "version": 3
   },
   "file_extension": ".py",
   "mimetype": "text/x-python",
   "name": "python",
   "nbconvert_exporter": "python",
   "pygments_lexer": "ipython3",
   "version": "3.9.21"
  }
 },
 "nbformat": 4,
 "nbformat_minor": 5
}
