{
 "cells": [
  {
   "cell_type": "markdown",
   "id": "4f8bda34",
   "metadata": {},
   "source": [
    "# 서식지정자, format 메서드\n",
    "* 문자열로만 입력해야 하는 상황에서 같은 위치에 문자를 여러번 바꿔야 할 때 사용\n",
    "* 문자의 자릿수를 맞추거나, 위치 정렬에 사용\n"
   ]
  },
  {
   "cell_type": "markdown",
   "id": "453a2d30",
   "metadata": {},
   "source": [
    "## 1. \n",
    "## 서식지정자 %d(정수), %s(문자열), %f(실수), %길이s"
   ]
  },
  {
   "cell_type": "markdown",
   "id": "3452fa34",
   "metadata": {},
   "source": [
    "### 1) 문자를 입력할 때 %s"
   ]
  },
  {
   "cell_type": "code",
   "execution_count": 3,
   "id": "b4677470",
   "metadata": {},
   "outputs": [
    {
     "name": "stdout",
     "output_type": "stream",
     "text": [
      "이 수업의 이름은 국어 입니다.\n"
     ]
    }
   ],
   "source": [
    "print(\"이 수업의 이름은 %s 입니다.\" % \"국어\")"
   ]
  },
  {
   "cell_type": "code",
   "execution_count": 5,
   "id": "f414eb2a",
   "metadata": {},
   "outputs": [
    {
     "name": "stdout",
     "output_type": "stream",
     "text": [
      "이 수업의 이름은 김영훈 입니다.\n"
     ]
    }
   ],
   "source": [
    "print(\"이 수업의 이름은 %s 입니다.\" % \"김영훈\")"
   ]
  },
  {
   "cell_type": "code",
   "execution_count": 7,
   "id": "b3fec76b",
   "metadata": {},
   "outputs": [
    {
     "name": "stdout",
     "output_type": "stream",
     "text": [
      "이 수업의 이름은 국어 입니다.\n",
      "이 수업의 이름은 수학 입니다.\n",
      "이 수업의 이름은 사회 입니다.\n",
      "이 수업의 이름은 영어 입니다.\n"
     ]
    }
   ],
   "source": [
    "for i in [\"국어\", \"수학\", \"사회\", \"영어\"]:\n",
    "    print(\"이 수업의 이름은 %s 입니다.\" %i)"
   ]
  },
  {
   "cell_type": "markdown",
   "id": "73a0ebf9",
   "metadata": {},
   "source": [
    "### 2) 정수를 입력할 때 %d"
   ]
  },
  {
   "cell_type": "code",
   "execution_count": 9,
   "id": "c4b097dd",
   "metadata": {},
   "outputs": [
    {
     "name": "stdout",
     "output_type": "stream",
     "text": [
      "올해는 2025년 입니다.\n"
     ]
    }
   ],
   "source": [
    "print(\"올해는 %d년 입니다.\" %2025)"
   ]
  },
  {
   "cell_type": "code",
   "execution_count": 11,
   "id": "9566825a",
   "metadata": {},
   "outputs": [
    {
     "name": "stdout",
     "output_type": "stream",
     "text": [
      "올해는 2025년 입니다.\n"
     ]
    }
   ],
   "source": [
    "print(\"올해는 %d년 입니다.\" %2025.55)"
   ]
  },
  {
   "cell_type": "markdown",
   "id": "c6f18c92",
   "metadata": {},
   "source": [
    "### 3) 실수를 입력할 때 %f 기본 소수점이 6자리로 표시"
   ]
  },
  {
   "cell_type": "code",
   "execution_count": 13,
   "id": "21da78d9",
   "metadata": {},
   "outputs": [
    {
     "name": "stdout",
     "output_type": "stream",
     "text": [
      "사람의 정상 체온은 약 36.500000도 입니다. \n"
     ]
    }
   ],
   "source": [
    "print(\"사람의 정상 체온은 약 %f도 입니다. \" %36.5)"
   ]
  },
  {
   "cell_type": "markdown",
   "id": "53d0997f",
   "metadata": {},
   "source": [
    "* 소숫점 표기를 조절할 때 % . 소숫점 자리수 f ex)  %2f"
   ]
  },
  {
   "cell_type": "code",
   "execution_count": 3,
   "id": "e61cd499",
   "metadata": {},
   "outputs": [
    {
     "name": "stdout",
     "output_type": "stream",
     "text": [
      "사람의 정상체온은 36.50 도 입니다.\n"
     ]
    }
   ],
   "source": [
    "print(\"사람의 정상체온은 %.2f 도 입니다.\" %36.5)"
   ]
  },
  {
   "cell_type": "markdown",
   "id": "b3e86f42",
   "metadata": {},
   "source": [
    "### 4) 서식지정자로 문자열 길이, 정렬 %길이s"
   ]
  },
  {
   "cell_type": "code",
   "execution_count": 26,
   "id": "e1bac6d0",
   "metadata": {},
   "outputs": [
    {
     "name": "stdout",
     "output_type": "stream",
     "text": [
      " 10자리의 자리수\n"
     ]
    }
   ],
   "source": [
    "print(\"%10s\" % \"10자리의 자리수\")"
   ]
  },
  {
   "cell_type": "code",
   "execution_count": 28,
   "id": "f11e5ec4",
   "metadata": {},
   "outputs": [
    {
     "name": "stdout",
     "output_type": "stream",
     "text": [
      "150000\n",
      "15000\n"
     ]
    }
   ],
   "source": [
    "print(150000)\n",
    "print(15000)"
   ]
  },
  {
   "cell_type": "code",
   "execution_count": 30,
   "id": "5e7c6960",
   "metadata": {},
   "outputs": [
    {
     "name": "stdout",
     "output_type": "stream",
     "text": [
      "가격은     150000 입니다.\n",
      "가격은      15000 입니다.\n"
     ]
    }
   ],
   "source": [
    "print(\"가격은 %10d 입니다.\" % 150000)\n",
    "print(\"가격은 %10d 입니다.\" % 15000)"
   ]
  },
  {
   "cell_type": "markdown",
   "id": "b0dae27f",
   "metadata": {},
   "source": [
    "### 5) 여러 항목 동시에 넣기"
   ]
  },
  {
   "cell_type": "code",
   "execution_count": 6,
   "id": "5c94e50d",
   "metadata": {},
   "outputs": [
    {
     "name": "stdout",
     "output_type": "stream",
     "text": [
      "오늘은 2025년 13월 17일 입니다. \n"
     ]
    }
   ],
   "source": [
    "print(\"오늘은 %4d년 %2d월 %2d일 입니다. \" % (2025, 13, 17))"
   ]
  },
  {
   "cell_type": "code",
   "execution_count": 40,
   "id": "f6a266fe",
   "metadata": {},
   "outputs": [],
   "source": [
    "company = ['삼성전자', 'LG전자', '현대차', '대한항공', '하나투어']\n",
    "stock = [71800, 121000, 195000, 31900, 86600]"
   ]
  },
  {
   "cell_type": "code",
   "execution_count": 43,
   "id": "d554caa7",
   "metadata": {},
   "outputs": [
    {
     "name": "stdout",
     "output_type": "stream",
     "text": [
      "삼성전자의 주가는 71800입니다.\n",
      "LG전자의 주가는 121000입니다.\n",
      "현대차의 주가는 195000입니다.\n",
      "대한항공의 주가는 31900입니다.\n",
      "하나투어의 주가는 86600입니다.\n"
     ]
    }
   ],
   "source": [
    "for com, st in zip (company, stock):\n",
    "    print(\"%s의 주가는 %d입니다.\" %  (com, st))"
   ]
  },
  {
   "cell_type": "markdown",
   "id": "895a3a38",
   "metadata": {},
   "source": [
    "# 2\n",
    "# format 메서드 사용하기, f-string 문자열 포멧팅"
   ]
  },
  {
   "cell_type": "markdown",
   "id": "155a6c2a",
   "metadata": {},
   "source": [
    "### 1) format 메서드 사용하기\n",
    "* \"문자열 {인덱스} 문자열 끝\".format(값)"
   ]
  },
  {
   "cell_type": "code",
   "execution_count": 47,
   "id": "ef2d1226",
   "metadata": {},
   "outputs": [
    {
     "name": "stdout",
     "output_type": "stream",
     "text": [
      "삼성전자의 주가는 71800입니다.\n"
     ]
    }
   ],
   "source": [
    "print(\"{}의 주가는 {}입니다.\".format('삼성전자', 71800))"
   ]
  },
  {
   "cell_type": "code",
   "execution_count": 48,
   "id": "b66096a4",
   "metadata": {},
   "outputs": [
    {
     "name": "stdout",
     "output_type": "stream",
     "text": [
      "삼성전자의 주가는 71800입니다.\n"
     ]
    }
   ],
   "source": [
    "print(\"{0}의 주가는 {1}입니다.\".format('삼성전자', 71800))"
   ]
  },
  {
   "cell_type": "code",
   "execution_count": 49,
   "id": "f04035c7",
   "metadata": {},
   "outputs": [
    {
     "name": "stdout",
     "output_type": "stream",
     "text": [
      "71800의 주가는 삼성전자입니다.\n"
     ]
    }
   ],
   "source": [
    "print(\"{1}의 주가는 {0}입니다.\".format('삼성전자', 71800))"
   ]
  },
  {
   "cell_type": "code",
   "execution_count": 53,
   "id": "c9be29f5",
   "metadata": {},
   "outputs": [
    {
     "name": "stdout",
     "output_type": "stream",
     "text": [
      "삼성전자의 주가는 71500원 입니다.\n",
      "삼성전자의 상한가는 93000\n",
      "삼성전자의 하한가는 50200 입니다.\n"
     ]
    }
   ],
   "source": [
    "print(\"{0}의 주가는 {1}원 입니다.\\n{0}의 상한가는 {3}\\n{0}의 하한가는 {2} 입니다.\".format(\"삼성전자\", 71500, 50200, 93000))"
   ]
  },
  {
   "cell_type": "markdown",
   "id": "3d35d526",
   "metadata": {},
   "source": [
    "### f-string으로 값 넣기 python 3.6 ver. 부터 사용 가능"
   ]
  },
  {
   "cell_type": "code",
   "execution_count": 54,
   "id": "c2e759e0",
   "metadata": {},
   "outputs": [
    {
     "data": {
      "text/plain": [
       "['삼성전자', 'LG전자', '현대차', '대한항공', '하나투어']"
      ]
     },
     "execution_count": 54,
     "metadata": {},
     "output_type": "execute_result"
    }
   ],
   "source": [
    "company"
   ]
  },
  {
   "cell_type": "code",
   "execution_count": 55,
   "id": "4a9c227a",
   "metadata": {},
   "outputs": [
    {
     "data": {
      "text/plain": [
       "[71800, 121000, 195000, 31900, 86600]"
      ]
     },
     "execution_count": 55,
     "metadata": {},
     "output_type": "execute_result"
    }
   ],
   "source": [
    "stock"
   ]
  },
  {
   "cell_type": "code",
   "execution_count": 56,
   "id": "0ac9e449",
   "metadata": {},
   "outputs": [
    {
     "name": "stdout",
     "output_type": "stream",
     "text": [
      "삼성전자의 주가는 71800 입니다.\n"
     ]
    }
   ],
   "source": [
    "print(f\"{company[0]}의 주가는 {stock[0]} 입니다.\")"
   ]
  },
  {
   "cell_type": "code",
   "execution_count": 57,
   "id": "e66183dc",
   "metadata": {},
   "outputs": [
    {
     "name": "stdout",
     "output_type": "stream",
     "text": [
      "LG전자의 주가는 31900 입니다.\n"
     ]
    }
   ],
   "source": [
    "print(f\"{company[1]}의 주가는 {stock[3]} 입니다.\")"
   ]
  },
  {
   "cell_type": "code",
   "execution_count": 58,
   "id": "201d80eb",
   "metadata": {},
   "outputs": [
    {
     "name": "stdout",
     "output_type": "stream",
     "text": [
      "삼성전자의 주가는 71800 입니다.\n"
     ]
    }
   ],
   "source": [
    "sam = \"삼성전자\"\n",
    "sto = 71800\n",
    "print(f\"{sam}의 주가는 {sto} 입니다.\")"
   ]
  },
  {
   "cell_type": "code",
   "execution_count": 59,
   "id": "5cd709a6",
   "metadata": {},
   "outputs": [
    {
     "name": "stdout",
     "output_type": "stream",
     "text": [
      "\n",
      "\n",
      "\n",
      "\n",
      "\n"
     ]
    }
   ],
   "source": [
    "for com, sto in zip(company, stock):\n",
    "    print()"
   ]
  },
  {
   "cell_type": "code",
   "execution_count": 61,
   "id": "8bfc99b6",
   "metadata": {},
   "outputs": [
    {
     "name": "stdout",
     "output_type": "stream",
     "text": [
      "삼성전자의 주가는 71800입니다.\n",
      "LG전자의 주가는 121000입니다.\n",
      "현대차의 주가는 195000입니다.\n",
      "대한항공의 주가는 31900입니다.\n",
      "하나투어의 주가는 86600입니다.\n"
     ]
    }
   ],
   "source": [
    "for com, sto in zip (company, stock):\n",
    "    print(f\"{com}의 주가는 {sto}입니다.\")"
   ]
  },
  {
   "cell_type": "markdown",
   "id": "838a4b1c",
   "metadata": {},
   "source": [
    "# 3. \n",
    "# format 메서드와 f-string으로 문자열 정렬, \n",
    "# 자리수 지정 출력"
   ]
  },
  {
   "cell_type": "markdown",
   "id": "4a711c37",
   "metadata": {},
   "source": [
    "###  \"{인덱스: <길이}\".format(값)\n",
    "### f\"{값:>길이}\""
   ]
  },
  {
   "cell_type": "markdown",
   "id": "e2ae02ff",
   "metadata": {},
   "source": [
    "<10 : 공간을 10칸 확보하고 글자를 왼쪽 정렬"
   ]
  },
  {
   "cell_type": "code",
   "execution_count": 63,
   "id": "5207443c",
   "metadata": {},
   "outputs": [
    {
     "name": "stdout",
     "output_type": "stream",
     "text": [
      "삼성전자      \n"
     ]
    }
   ],
   "source": [
    "print(\"{0:<10}\".format(\"삼성전자\"))\n",
    "#왼쪽으로 정렬되어 삼성전자가 들어가고 난 이후 공백이 생김 (6칸)"
   ]
  },
  {
   "cell_type": "code",
   "execution_count": 66,
   "id": "22bc4b3d",
   "metadata": {},
   "outputs": [
    {
     "name": "stdout",
     "output_type": "stream",
     "text": [
      "      삼성전자\n"
     ]
    }
   ],
   "source": [
    "print(\"{0:>10}\".format(\"삼성전자\"))\n",
    "#오른쪽 정렬,,"
   ]
  },
  {
   "cell_type": "code",
   "execution_count": 69,
   "id": "f386caf6",
   "metadata": {},
   "outputs": [
    {
     "data": {
      "text/plain": [
       "'      삼성전자'"
      ]
     },
     "execution_count": 69,
     "metadata": {},
     "output_type": "execute_result"
    }
   ],
   "source": [
    "\"%10s\" % '삼성전자'"
   ]
  },
  {
   "cell_type": "code",
   "execution_count": 71,
   "id": "77b36bbd",
   "metadata": {},
   "outputs": [
    {
     "data": {
      "text/plain": [
       "'      삼성전자'"
      ]
     },
     "execution_count": 71,
     "metadata": {},
     "output_type": "execute_result"
    }
   ],
   "source": [
    "f\"{'삼성전자':>10}\""
   ]
  },
  {
   "cell_type": "code",
   "execution_count": 75,
   "id": "14d2e3bc",
   "metadata": {},
   "outputs": [
    {
     "data": {
      "text/plain": [
       "'삼성전자      '"
      ]
     },
     "execution_count": 75,
     "metadata": {},
     "output_type": "execute_result"
    }
   ],
   "source": [
    "f'{\"삼성전자\":<10}'\n",
    "# 중괄호 안팍의 따옴표가 중복되면 안 됨"
   ]
  },
  {
   "cell_type": "markdown",
   "id": "a8e001e1",
   "metadata": {},
   "source": [
    "* 숫자 표기시 숫자 자리수 맞추고 기본 값 지정하기\n",
    "* \"{인덱스:채울숫자 길이 서식지정자}\".format(값),, 단, 서식 지정자에서 %는 빼고 사용\n",
    "* f\"{값:채울 숫자 길이 서식지정}\" %는 뺌"
   ]
  },
  {
   "cell_type": "code",
   "execution_count": 77,
   "id": "07615292",
   "metadata": {},
   "outputs": [
    {
     "name": "stdout",
     "output_type": "stream",
     "text": [
      "1월\n"
     ]
    }
   ],
   "source": [
    "print(\"{0}월\". format(1))"
   ]
  },
  {
   "cell_type": "code",
   "execution_count": 78,
   "id": "16d17e4f",
   "metadata": {},
   "outputs": [
    {
     "name": "stdout",
     "output_type": "stream",
     "text": [
      "01월\n"
     ]
    }
   ],
   "source": [
    "print(\"{0:02d}월\".format(1))"
   ]
  },
  {
   "cell_type": "code",
   "execution_count": 79,
   "id": "b43d5ce5",
   "metadata": {},
   "outputs": [
    {
     "name": "stdout",
     "output_type": "stream",
     "text": [
      "12월\n"
     ]
    }
   ],
   "source": [
    "print(\"{0:02d}월\".format(12))"
   ]
  },
  {
   "cell_type": "code",
   "execution_count": 1,
   "id": "b093630f",
   "metadata": {},
   "outputs": [
    {
     "name": "stdout",
     "output_type": "stream",
     "text": [
      "111일\n"
     ]
    }
   ],
   "source": [
    "print(\"{0:003d}일\".format(111))"
   ]
  },
  {
   "cell_type": "code",
   "execution_count": 85,
   "id": "c98a6201",
   "metadata": {},
   "outputs": [
    {
     "name": "stdout",
     "output_type": "stream",
     "text": [
      "10월\n"
     ]
    }
   ],
   "source": [
    "print(f\"{10:02d}월\")"
   ]
  },
  {
   "cell_type": "code",
   "execution_count": 87,
   "id": "c7489666",
   "metadata": {},
   "outputs": [
    {
     "name": "stdout",
     "output_type": "stream",
     "text": [
      "01월\n"
     ]
    }
   ],
   "source": [
    "print(f\"{1:02d}월\")"
   ]
  },
  {
   "cell_type": "markdown",
   "id": "9270c30f",
   "metadata": {},
   "source": [
    "* 실수의 정수 자리수와 소수점 자리수 지정하기\n",
    "* \"{인덱스: 기본값 자리수 서식 지정자}\".format(값)\n",
    "* f\"{값:기본값 자리수 서식지정자}\"\n",
    "* 실수에서 자리수는 정수 + . + 소숫점"
   ]
  },
  {
   "cell_type": "code",
   "execution_count": 89,
   "id": "9cfb8d18",
   "metadata": {
    "scrolled": true
   },
   "outputs": [
    {
     "name": "stdout",
     "output_type": "stream",
     "text": [
      "2.246\n"
     ]
    }
   ],
   "source": [
    "print(\"{0:03.3f}\".format(2.245678))"
   ]
  },
  {
   "cell_type": "code",
   "execution_count": 90,
   "id": "b055a93a",
   "metadata": {
    "scrolled": true
   },
   "outputs": [
    {
     "name": "stdout",
     "output_type": "stream",
     "text": [
      "02.246\n"
     ]
    }
   ],
   "source": [
    "print(\"{0:06.3f}\".format(2.245678))"
   ]
  },
  {
   "cell_type": "code",
   "execution_count": 92,
   "id": "7bf75e97",
   "metadata": {
    "scrolled": true
   },
   "outputs": [
    {
     "name": "stdout",
     "output_type": "stream",
     "text": [
      "2.245678\n"
     ]
    }
   ],
   "source": [
    "print(\"{0:07.6f}\".format(2.245678))"
   ]
  },
  {
   "cell_type": "markdown",
   "id": "9a250219",
   "metadata": {},
   "source": [
    "00시 00분부터 11시 59분까지 출력하세요. 1자리는 01 형식으로 출력하세요."
   ]
  },
  {
   "cell_type": "code",
   "execution_count": 97,
   "id": "76971cd6",
   "metadata": {},
   "outputs": [
    {
     "name": "stdout",
     "output_type": "stream",
     "text": [
      "00시\n",
      "01시\n",
      "02시\n",
      "03시\n",
      "04시\n",
      "05시\n",
      "06시\n",
      "07시\n",
      "08시\n",
      "09시\n",
      "10시\n",
      "11시\n"
     ]
    }
   ],
   "source": [
    "for si in range(0, 12):\n",
    "    print(f\"{si:02d}시\")"
   ]
  },
  {
   "cell_type": "code",
   "execution_count": null,
   "id": "b0bab18a",
   "metadata": {},
   "outputs": [],
   "source": []
  },
  {
   "cell_type": "code",
   "execution_count": 99,
   "id": "70ac42c7",
   "metadata": {},
   "outputs": [
    {
     "name": "stdout",
     "output_type": "stream",
     "text": [
      "00시 00분\n",
      "00시 01분\n",
      "00시 02분\n",
      "00시 03분\n",
      "00시 04분\n",
      "00시 05분\n",
      "00시 06분\n",
      "00시 07분\n",
      "00시 08분\n",
      "00시 09분\n",
      "00시 10분\n",
      "00시 11분\n",
      "00시 12분\n",
      "00시 13분\n",
      "00시 14분\n",
      "00시 15분\n",
      "00시 16분\n",
      "00시 17분\n",
      "00시 18분\n",
      "00시 19분\n",
      "00시 20분\n",
      "00시 21분\n",
      "00시 22분\n",
      "00시 23분\n",
      "00시 24분\n",
      "00시 25분\n",
      "00시 26분\n",
      "00시 27분\n",
      "00시 28분\n",
      "00시 29분\n",
      "00시 30분\n",
      "00시 31분\n",
      "00시 32분\n",
      "00시 33분\n",
      "00시 34분\n",
      "00시 35분\n",
      "00시 36분\n",
      "00시 37분\n",
      "00시 38분\n",
      "00시 39분\n",
      "00시 40분\n",
      "00시 41분\n",
      "00시 42분\n",
      "00시 43분\n",
      "00시 44분\n",
      "00시 45분\n",
      "00시 46분\n",
      "00시 47분\n",
      "00시 48분\n",
      "00시 49분\n",
      "00시 50분\n",
      "00시 51분\n",
      "00시 52분\n",
      "00시 53분\n",
      "00시 54분\n",
      "00시 55분\n",
      "00시 56분\n",
      "00시 57분\n",
      "00시 58분\n",
      "00시 59분\n",
      "01시 00분\n",
      "01시 01분\n",
      "01시 02분\n",
      "01시 03분\n",
      "01시 04분\n",
      "01시 05분\n",
      "01시 06분\n",
      "01시 07분\n",
      "01시 08분\n",
      "01시 09분\n",
      "01시 10분\n",
      "01시 11분\n",
      "01시 12분\n",
      "01시 13분\n",
      "01시 14분\n",
      "01시 15분\n",
      "01시 16분\n",
      "01시 17분\n",
      "01시 18분\n",
      "01시 19분\n",
      "01시 20분\n",
      "01시 21분\n",
      "01시 22분\n",
      "01시 23분\n",
      "01시 24분\n",
      "01시 25분\n",
      "01시 26분\n",
      "01시 27분\n",
      "01시 28분\n",
      "01시 29분\n",
      "01시 30분\n",
      "01시 31분\n",
      "01시 32분\n",
      "01시 33분\n",
      "01시 34분\n",
      "01시 35분\n",
      "01시 36분\n",
      "01시 37분\n",
      "01시 38분\n",
      "01시 39분\n",
      "01시 40분\n",
      "01시 41분\n",
      "01시 42분\n",
      "01시 43분\n",
      "01시 44분\n",
      "01시 45분\n",
      "01시 46분\n",
      "01시 47분\n",
      "01시 48분\n",
      "01시 49분\n",
      "01시 50분\n",
      "01시 51분\n",
      "01시 52분\n",
      "01시 53분\n",
      "01시 54분\n",
      "01시 55분\n",
      "01시 56분\n",
      "01시 57분\n",
      "01시 58분\n",
      "01시 59분\n",
      "02시 00분\n",
      "02시 01분\n",
      "02시 02분\n",
      "02시 03분\n",
      "02시 04분\n",
      "02시 05분\n",
      "02시 06분\n",
      "02시 07분\n",
      "02시 08분\n",
      "02시 09분\n",
      "02시 10분\n",
      "02시 11분\n",
      "02시 12분\n",
      "02시 13분\n",
      "02시 14분\n",
      "02시 15분\n",
      "02시 16분\n",
      "02시 17분\n",
      "02시 18분\n",
      "02시 19분\n",
      "02시 20분\n",
      "02시 21분\n",
      "02시 22분\n",
      "02시 23분\n",
      "02시 24분\n",
      "02시 25분\n",
      "02시 26분\n",
      "02시 27분\n",
      "02시 28분\n",
      "02시 29분\n",
      "02시 30분\n",
      "02시 31분\n",
      "02시 32분\n",
      "02시 33분\n",
      "02시 34분\n",
      "02시 35분\n",
      "02시 36분\n",
      "02시 37분\n",
      "02시 38분\n",
      "02시 39분\n",
      "02시 40분\n",
      "02시 41분\n",
      "02시 42분\n",
      "02시 43분\n",
      "02시 44분\n",
      "02시 45분\n",
      "02시 46분\n",
      "02시 47분\n",
      "02시 48분\n",
      "02시 49분\n",
      "02시 50분\n",
      "02시 51분\n",
      "02시 52분\n",
      "02시 53분\n",
      "02시 54분\n",
      "02시 55분\n",
      "02시 56분\n",
      "02시 57분\n",
      "02시 58분\n",
      "02시 59분\n",
      "03시 00분\n",
      "03시 01분\n",
      "03시 02분\n",
      "03시 03분\n",
      "03시 04분\n",
      "03시 05분\n",
      "03시 06분\n",
      "03시 07분\n",
      "03시 08분\n",
      "03시 09분\n",
      "03시 10분\n",
      "03시 11분\n",
      "03시 12분\n",
      "03시 13분\n",
      "03시 14분\n",
      "03시 15분\n",
      "03시 16분\n",
      "03시 17분\n",
      "03시 18분\n",
      "03시 19분\n",
      "03시 20분\n",
      "03시 21분\n",
      "03시 22분\n",
      "03시 23분\n",
      "03시 24분\n",
      "03시 25분\n",
      "03시 26분\n",
      "03시 27분\n",
      "03시 28분\n",
      "03시 29분\n",
      "03시 30분\n",
      "03시 31분\n",
      "03시 32분\n",
      "03시 33분\n",
      "03시 34분\n",
      "03시 35분\n",
      "03시 36분\n",
      "03시 37분\n",
      "03시 38분\n",
      "03시 39분\n",
      "03시 40분\n",
      "03시 41분\n",
      "03시 42분\n",
      "03시 43분\n",
      "03시 44분\n",
      "03시 45분\n",
      "03시 46분\n",
      "03시 47분\n",
      "03시 48분\n",
      "03시 49분\n",
      "03시 50분\n",
      "03시 51분\n",
      "03시 52분\n",
      "03시 53분\n",
      "03시 54분\n",
      "03시 55분\n",
      "03시 56분\n",
      "03시 57분\n",
      "03시 58분\n",
      "03시 59분\n",
      "04시 00분\n",
      "04시 01분\n",
      "04시 02분\n",
      "04시 03분\n",
      "04시 04분\n",
      "04시 05분\n",
      "04시 06분\n",
      "04시 07분\n",
      "04시 08분\n",
      "04시 09분\n",
      "04시 10분\n",
      "04시 11분\n",
      "04시 12분\n",
      "04시 13분\n",
      "04시 14분\n",
      "04시 15분\n",
      "04시 16분\n",
      "04시 17분\n",
      "04시 18분\n",
      "04시 19분\n",
      "04시 20분\n",
      "04시 21분\n",
      "04시 22분\n",
      "04시 23분\n",
      "04시 24분\n",
      "04시 25분\n",
      "04시 26분\n",
      "04시 27분\n",
      "04시 28분\n",
      "04시 29분\n",
      "04시 30분\n",
      "04시 31분\n",
      "04시 32분\n",
      "04시 33분\n",
      "04시 34분\n",
      "04시 35분\n",
      "04시 36분\n",
      "04시 37분\n",
      "04시 38분\n",
      "04시 39분\n",
      "04시 40분\n",
      "04시 41분\n",
      "04시 42분\n",
      "04시 43분\n",
      "04시 44분\n",
      "04시 45분\n",
      "04시 46분\n",
      "04시 47분\n",
      "04시 48분\n",
      "04시 49분\n",
      "04시 50분\n",
      "04시 51분\n",
      "04시 52분\n",
      "04시 53분\n",
      "04시 54분\n",
      "04시 55분\n",
      "04시 56분\n",
      "04시 57분\n",
      "04시 58분\n",
      "04시 59분\n",
      "05시 00분\n",
      "05시 01분\n",
      "05시 02분\n",
      "05시 03분\n",
      "05시 04분\n",
      "05시 05분\n",
      "05시 06분\n",
      "05시 07분\n",
      "05시 08분\n",
      "05시 09분\n",
      "05시 10분\n",
      "05시 11분\n",
      "05시 12분\n",
      "05시 13분\n",
      "05시 14분\n",
      "05시 15분\n",
      "05시 16분\n",
      "05시 17분\n",
      "05시 18분\n",
      "05시 19분\n",
      "05시 20분\n",
      "05시 21분\n",
      "05시 22분\n",
      "05시 23분\n",
      "05시 24분\n",
      "05시 25분\n",
      "05시 26분\n",
      "05시 27분\n",
      "05시 28분\n",
      "05시 29분\n",
      "05시 30분\n",
      "05시 31분\n",
      "05시 32분\n",
      "05시 33분\n",
      "05시 34분\n",
      "05시 35분\n",
      "05시 36분\n",
      "05시 37분\n",
      "05시 38분\n",
      "05시 39분\n",
      "05시 40분\n",
      "05시 41분\n",
      "05시 42분\n",
      "05시 43분\n",
      "05시 44분\n",
      "05시 45분\n",
      "05시 46분\n",
      "05시 47분\n",
      "05시 48분\n",
      "05시 49분\n",
      "05시 50분\n",
      "05시 51분\n",
      "05시 52분\n",
      "05시 53분\n",
      "05시 54분\n",
      "05시 55분\n",
      "05시 56분\n",
      "05시 57분\n",
      "05시 58분\n",
      "05시 59분\n",
      "06시 00분\n",
      "06시 01분\n",
      "06시 02분\n",
      "06시 03분\n",
      "06시 04분\n",
      "06시 05분\n",
      "06시 06분\n",
      "06시 07분\n",
      "06시 08분\n",
      "06시 09분\n",
      "06시 10분\n",
      "06시 11분\n",
      "06시 12분\n",
      "06시 13분\n",
      "06시 14분\n",
      "06시 15분\n",
      "06시 16분\n",
      "06시 17분\n",
      "06시 18분\n",
      "06시 19분\n",
      "06시 20분\n",
      "06시 21분\n",
      "06시 22분\n",
      "06시 23분\n",
      "06시 24분\n",
      "06시 25분\n",
      "06시 26분\n",
      "06시 27분\n",
      "06시 28분\n",
      "06시 29분\n",
      "06시 30분\n",
      "06시 31분\n",
      "06시 32분\n",
      "06시 33분\n",
      "06시 34분\n",
      "06시 35분\n",
      "06시 36분\n",
      "06시 37분\n",
      "06시 38분\n",
      "06시 39분\n",
      "06시 40분\n",
      "06시 41분\n",
      "06시 42분\n",
      "06시 43분\n",
      "06시 44분\n",
      "06시 45분\n",
      "06시 46분\n",
      "06시 47분\n",
      "06시 48분\n",
      "06시 49분\n",
      "06시 50분\n",
      "06시 51분\n",
      "06시 52분\n",
      "06시 53분\n",
      "06시 54분\n",
      "06시 55분\n",
      "06시 56분\n",
      "06시 57분\n",
      "06시 58분\n",
      "06시 59분\n",
      "07시 00분\n",
      "07시 01분\n",
      "07시 02분\n",
      "07시 03분\n",
      "07시 04분\n",
      "07시 05분\n",
      "07시 06분\n",
      "07시 07분\n",
      "07시 08분\n",
      "07시 09분\n",
      "07시 10분\n",
      "07시 11분\n",
      "07시 12분\n",
      "07시 13분\n",
      "07시 14분\n",
      "07시 15분\n",
      "07시 16분\n",
      "07시 17분\n",
      "07시 18분\n",
      "07시 19분\n",
      "07시 20분\n",
      "07시 21분\n",
      "07시 22분\n",
      "07시 23분\n",
      "07시 24분\n",
      "07시 25분\n",
      "07시 26분\n",
      "07시 27분\n",
      "07시 28분\n",
      "07시 29분\n",
      "07시 30분\n",
      "07시 31분\n",
      "07시 32분\n",
      "07시 33분\n",
      "07시 34분\n",
      "07시 35분\n",
      "07시 36분\n",
      "07시 37분\n",
      "07시 38분\n",
      "07시 39분\n",
      "07시 40분\n",
      "07시 41분\n",
      "07시 42분\n",
      "07시 43분\n",
      "07시 44분\n",
      "07시 45분\n",
      "07시 46분\n",
      "07시 47분\n",
      "07시 48분\n",
      "07시 49분\n",
      "07시 50분\n",
      "07시 51분\n",
      "07시 52분\n",
      "07시 53분\n",
      "07시 54분\n",
      "07시 55분\n",
      "07시 56분\n",
      "07시 57분\n",
      "07시 58분\n",
      "07시 59분\n",
      "08시 00분\n",
      "08시 01분\n",
      "08시 02분\n",
      "08시 03분\n",
      "08시 04분\n",
      "08시 05분\n",
      "08시 06분\n",
      "08시 07분\n",
      "08시 08분\n",
      "08시 09분\n",
      "08시 10분\n",
      "08시 11분\n",
      "08시 12분\n",
      "08시 13분\n",
      "08시 14분\n",
      "08시 15분\n",
      "08시 16분\n",
      "08시 17분\n",
      "08시 18분\n",
      "08시 19분\n",
      "08시 20분\n",
      "08시 21분\n",
      "08시 22분\n",
      "08시 23분\n",
      "08시 24분\n",
      "08시 25분\n",
      "08시 26분\n",
      "08시 27분\n",
      "08시 28분\n",
      "08시 29분\n",
      "08시 30분\n",
      "08시 31분\n",
      "08시 32분\n",
      "08시 33분\n",
      "08시 34분\n",
      "08시 35분\n",
      "08시 36분\n",
      "08시 37분\n",
      "08시 38분\n",
      "08시 39분\n",
      "08시 40분\n",
      "08시 41분\n",
      "08시 42분\n",
      "08시 43분\n",
      "08시 44분\n",
      "08시 45분\n",
      "08시 46분\n",
      "08시 47분\n",
      "08시 48분\n",
      "08시 49분\n",
      "08시 50분\n",
      "08시 51분\n",
      "08시 52분\n",
      "08시 53분\n",
      "08시 54분\n",
      "08시 55분\n",
      "08시 56분\n",
      "08시 57분\n",
      "08시 58분\n",
      "08시 59분\n",
      "09시 00분\n",
      "09시 01분\n",
      "09시 02분\n",
      "09시 03분\n",
      "09시 04분\n",
      "09시 05분\n",
      "09시 06분\n",
      "09시 07분\n",
      "09시 08분\n",
      "09시 09분\n",
      "09시 10분\n",
      "09시 11분\n",
      "09시 12분\n",
      "09시 13분\n",
      "09시 14분\n",
      "09시 15분\n",
      "09시 16분\n",
      "09시 17분\n",
      "09시 18분\n",
      "09시 19분\n",
      "09시 20분\n",
      "09시 21분\n",
      "09시 22분\n",
      "09시 23분\n",
      "09시 24분\n",
      "09시 25분\n",
      "09시 26분\n",
      "09시 27분\n",
      "09시 28분\n",
      "09시 29분\n",
      "09시 30분\n",
      "09시 31분\n",
      "09시 32분\n",
      "09시 33분\n",
      "09시 34분\n",
      "09시 35분\n",
      "09시 36분\n",
      "09시 37분\n",
      "09시 38분\n",
      "09시 39분\n",
      "09시 40분\n",
      "09시 41분\n",
      "09시 42분\n",
      "09시 43분\n",
      "09시 44분\n",
      "09시 45분\n",
      "09시 46분\n",
      "09시 47분\n",
      "09시 48분\n",
      "09시 49분\n",
      "09시 50분\n",
      "09시 51분\n",
      "09시 52분\n",
      "09시 53분\n",
      "09시 54분\n",
      "09시 55분\n",
      "09시 56분\n",
      "09시 57분\n",
      "09시 58분\n",
      "09시 59분\n",
      "10시 00분\n",
      "10시 01분\n",
      "10시 02분\n",
      "10시 03분\n",
      "10시 04분\n",
      "10시 05분\n",
      "10시 06분\n",
      "10시 07분\n",
      "10시 08분\n",
      "10시 09분\n",
      "10시 10분\n",
      "10시 11분\n",
      "10시 12분\n",
      "10시 13분\n",
      "10시 14분\n",
      "10시 15분\n",
      "10시 16분\n",
      "10시 17분\n",
      "10시 18분\n",
      "10시 19분\n",
      "10시 20분\n",
      "10시 21분\n",
      "10시 22분\n",
      "10시 23분\n",
      "10시 24분\n",
      "10시 25분\n",
      "10시 26분\n",
      "10시 27분\n",
      "10시 28분\n",
      "10시 29분\n",
      "10시 30분\n",
      "10시 31분\n",
      "10시 32분\n",
      "10시 33분\n",
      "10시 34분\n",
      "10시 35분\n",
      "10시 36분\n",
      "10시 37분\n",
      "10시 38분\n",
      "10시 39분\n",
      "10시 40분\n",
      "10시 41분\n",
      "10시 42분\n",
      "10시 43분\n",
      "10시 44분\n",
      "10시 45분\n",
      "10시 46분\n",
      "10시 47분\n",
      "10시 48분\n",
      "10시 49분\n",
      "10시 50분\n",
      "10시 51분\n",
      "10시 52분\n",
      "10시 53분\n",
      "10시 54분\n",
      "10시 55분\n",
      "10시 56분\n",
      "10시 57분\n",
      "10시 58분\n",
      "10시 59분\n",
      "11시 00분\n",
      "11시 01분\n",
      "11시 02분\n",
      "11시 03분\n",
      "11시 04분\n",
      "11시 05분\n",
      "11시 06분\n",
      "11시 07분\n",
      "11시 08분\n",
      "11시 09분\n",
      "11시 10분\n",
      "11시 11분\n",
      "11시 12분\n",
      "11시 13분\n",
      "11시 14분\n",
      "11시 15분\n",
      "11시 16분\n",
      "11시 17분\n",
      "11시 18분\n",
      "11시 19분\n",
      "11시 20분\n",
      "11시 21분\n",
      "11시 22분\n",
      "11시 23분\n",
      "11시 24분\n",
      "11시 25분\n",
      "11시 26분\n",
      "11시 27분\n",
      "11시 28분\n",
      "11시 29분\n",
      "11시 30분\n",
      "11시 31분\n",
      "11시 32분\n",
      "11시 33분\n",
      "11시 34분\n",
      "11시 35분\n",
      "11시 36분\n",
      "11시 37분\n",
      "11시 38분\n",
      "11시 39분\n",
      "11시 40분\n",
      "11시 41분\n",
      "11시 42분\n",
      "11시 43분\n",
      "11시 44분\n",
      "11시 45분\n",
      "11시 46분\n",
      "11시 47분\n",
      "11시 48분\n",
      "11시 49분\n",
      "11시 50분\n",
      "11시 51분\n",
      "11시 52분\n",
      "11시 53분\n",
      "11시 54분\n",
      "11시 55분\n",
      "11시 56분\n",
      "11시 57분\n",
      "11시 58분\n",
      "11시 59분\n"
     ]
    }
   ],
   "source": [
    "for si in range(0, 12):\n",
    "    for bun in range(0, 60):\n",
    "        print(f\"{si:02d}시 {bun:02d}분\")"
   ]
  },
  {
   "cell_type": "markdown",
   "id": "45dfeef9",
   "metadata": {},
   "source": [
    "* 공백을 원하는 문자로 채우고 자리수 맞추기\n",
    "* {인덱스: 원하는 숫자/문자 > < 자리수.format(값)\n",
    "* f\"{값: 원하는 숫자/문자 > < 자리수}\""
   ]
  },
  {
   "cell_type": "code",
   "execution_count": 102,
   "id": "1ee80a89",
   "metadata": {},
   "outputs": [
    {
     "data": {
      "text/plain": [
       "'0001'"
      ]
     },
     "execution_count": 102,
     "metadata": {},
     "output_type": "execute_result"
    }
   ],
   "source": [
    "\"{0:0>4}\".format(1)"
   ]
  },
  {
   "cell_type": "code",
   "execution_count": 106,
   "id": "7d37dd45",
   "metadata": {},
   "outputs": [
    {
     "data": {
      "text/plain": [
       "'$$달러'"
      ]
     },
     "execution_count": 106,
     "metadata": {},
     "output_type": "execute_result"
    }
   ],
   "source": [
    "\"{0:$>4}\".format(\"달러\")"
   ]
  },
  {
   "cell_type": "code",
   "execution_count": 108,
   "id": "57a12f9e",
   "metadata": {},
   "outputs": [
    {
     "data": {
      "text/plain": [
       "'달러$$$$$$$$'"
      ]
     },
     "execution_count": 108,
     "metadata": {},
     "output_type": "execute_result"
    }
   ],
   "source": [
    "f\"{'달러':$<10}\""
   ]
  },
  {
   "cell_type": "code",
   "execution_count": 112,
   "id": "59607990",
   "metadata": {},
   "outputs": [],
   "source": [
    "url = \"https://finance.naver.com/sise/sise_trans_style.naver?sosok=\""
   ]
  },
  {
   "cell_type": "code",
   "execution_count": 114,
   "id": "f7a867cc",
   "metadata": {},
   "outputs": [
    {
     "data": {
      "text/plain": [
       "'https://finance.naver.com/sise/sise_trans_style.naver?sosok=02'"
      ]
     },
     "execution_count": 114,
     "metadata": {},
     "output_type": "execute_result"
    }
   ],
   "source": [
    "url + \"02\""
   ]
  },
  {
   "cell_type": "code",
   "execution_count": 1,
   "id": "c468f770",
   "metadata": {},
   "outputs": [
    {
     "ename": "NameError",
     "evalue": "name 'url' is not defined",
     "output_type": "error",
     "traceback": [
      "\u001b[1;31m---------------------------------------------------------------------------\u001b[0m",
      "\u001b[1;31mNameError\u001b[0m                                 Traceback (most recent call last)",
      "Cell \u001b[1;32mIn[1], line 2\u001b[0m\n\u001b[0;32m      1\u001b[0m \u001b[38;5;28;01mfor\u001b[39;00m i \u001b[38;5;129;01min\u001b[39;00m \u001b[38;5;28mrange\u001b[39m(\u001b[38;5;241m1\u001b[39m, \u001b[38;5;241m11\u001b[39m):\n\u001b[1;32m----> 2\u001b[0m     \u001b[38;5;28mprint\u001b[39m(\u001b[38;5;124mf\u001b[39m\u001b[38;5;124m\"\u001b[39m\u001b[38;5;132;01m{\u001b[39;00murl\u001b[38;5;132;01m}\u001b[39;00m\u001b[38;5;124m+\u001b[39m\u001b[38;5;132;01m{\u001b[39;00mi\u001b[38;5;132;01m:\u001b[39;00m\u001b[38;5;124m02d\u001b[39m\u001b[38;5;132;01m}\u001b[39;00m\u001b[38;5;124m\"\u001b[39m)\n",
      "\u001b[1;31mNameError\u001b[0m: name 'url' is not defined"
     ]
    }
   ],
   "source": [
    "for i in range(1, 11):\n",
    "    print(f\"{url}+{i:02d}\")"
   ]
  }
 ],
 "metadata": {
  "kernelspec": {
   "display_name": "Python 3 (ipykernel)",
   "language": "python",
   "name": "python3"
  },
  "language_info": {
   "codemirror_mode": {
    "name": "ipython",
    "version": 3
   },
   "file_extension": ".py",
   "mimetype": "text/x-python",
   "name": "python",
   "nbconvert_exporter": "python",
   "pygments_lexer": "ipython3",
   "version": "3.9.21"
  }
 },
 "nbformat": 4,
 "nbformat_minor": 5
}
