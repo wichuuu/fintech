{
 "cells": [
  {
   "cell_type": "markdown",
   "id": "8f15d904",
   "metadata": {},
   "source": [
    "## 파이썬 시작하기 1-10"
   ]
  },
  {
   "cell_type": "code",
   "execution_count": 35,
   "id": "16521340",
   "metadata": {},
   "outputs": [
    {
     "name": "stdout",
     "output_type": "stream",
     "text": [
      "Hello World\n"
     ]
    }
   ],
   "source": [
    "print(\"Hello World\")"
   ]
  },
  {
   "cell_type": "code",
   "execution_count": 5,
   "id": "bf7e6c1c",
   "metadata": {},
   "outputs": [
    {
     "name": "stdout",
     "output_type": "stream",
     "text": [
      "Mary's cosmetics\n"
     ]
    }
   ],
   "source": [
    "print(\"Mary's cosmetics\")"
   ]
  },
  {
   "cell_type": "code",
   "execution_count": 14,
   "id": "91448f15",
   "metadata": {},
   "outputs": [
    {
     "name": "stdout",
     "output_type": "stream",
     "text": [
      "신씨가 소리질렀다. \"도둑이야\".\n"
     ]
    }
   ],
   "source": [
    "print('신씨가 소리질렀다. \"도둑이야\".')"
   ]
  },
  {
   "cell_type": "code",
   "execution_count": 18,
   "id": "b2477d84",
   "metadata": {},
   "outputs": [
    {
     "name": "stdout",
     "output_type": "stream",
     "text": [
      "C:\\Windows\n"
     ]
    }
   ],
   "source": [
    "print(\"C:\\Windows\")"
   ]
  },
  {
   "cell_type": "code",
   "execution_count": 21,
   "id": "f21c3cdf",
   "metadata": {},
   "outputs": [
    {
     "name": "stdout",
     "output_type": "stream",
     "text": [
      "안녕하세요.\n",
      "만나서\t\t반갑습니다.\n"
     ]
    }
   ],
   "source": [
    "print(\"안녕하세요.\\n만나서\\t\\t반갑습니다.\")\n",
    "#\\t는 탭, \\n은 줄바꿈"
   ]
  },
  {
   "cell_type": "code",
   "execution_count": 23,
   "id": "57a39b2b",
   "metadata": {},
   "outputs": [
    {
     "name": "stdout",
     "output_type": "stream",
     "text": [
      "오늘은 일요일\n"
     ]
    }
   ],
   "source": [
    "print(\"오늘은\", \"일요일\")"
   ]
  },
  {
   "cell_type": "code",
   "execution_count": 26,
   "id": "f8c5b6cf",
   "metadata": {},
   "outputs": [
    {
     "name": "stdout",
     "output_type": "stream",
     "text": [
      "naver;kakao;sk;samsug\n"
     ]
    }
   ],
   "source": [
    "print(\"naver;kakao;sk;samsug\")"
   ]
  },
  {
   "cell_type": "code",
   "execution_count": 28,
   "id": "58397203",
   "metadata": {},
   "outputs": [
    {
     "name": "stdout",
     "output_type": "stream",
     "text": [
      "naver/kakao/sk/samsung\n"
     ]
    }
   ],
   "source": [
    "print(\"naver/kakao/sk/samsung\")"
   ]
  },
  {
   "cell_type": "code",
   "execution_count": 33,
   "id": "fa86512c",
   "metadata": {},
   "outputs": [
    {
     "name": "stdout",
     "output_type": "stream",
     "text": [
      "first second\n"
     ]
    }
   ],
   "source": [
    "print(\"first\", end=\" \"); print(\"second\")"
   ]
  },
  {
   "cell_type": "code",
   "execution_count": 36,
   "id": "e596d151",
   "metadata": {},
   "outputs": [
    {
     "name": "stdout",
     "output_type": "stream",
     "text": [
      "1.6666666666666667\n"
     ]
    }
   ],
   "source": [
    "print(5/3)"
   ]
  },
  {
   "cell_type": "markdown",
   "id": "294d3f02",
   "metadata": {},
   "source": [
    "## 파이썬 변수 11-20"
   ]
  },
  {
   "cell_type": "code",
   "execution_count": 40,
   "id": "1fc3be7e",
   "metadata": {},
   "outputs": [
    {
     "name": "stdout",
     "output_type": "stream",
     "text": [
      "500000\n"
     ]
    }
   ],
   "source": [
    "삼성전자 = 50000\n",
    "총평가금액 = 10 * 삼성전자\n",
    "print(총평가금액)"
   ]
  },
  {
   "cell_type": "code",
   "execution_count": 43,
   "id": "180de0f4",
   "metadata": {},
   "outputs": [
    {
     "name": "stdout",
     "output_type": "stream",
     "text": [
      "298조 50000 15.79\n"
     ]
    }
   ],
   "source": [
    "시가총액 = \"298조\"\n",
    "현재가 = 50000\n",
    "PER = 15.79\n",
    "print(시가총액, 현재가, PER)"
   ]
  },
  {
   "cell_type": "code",
   "execution_count": 51,
   "id": "1dc30ba7",
   "metadata": {},
   "outputs": [
    {
     "name": "stdout",
     "output_type": "stream",
     "text": [
      "hello! python\n"
     ]
    }
   ],
   "source": [
    "s = \"hello\"\n",
    "t = \"python\"\n",
    "print(s+\"!\", t)"
   ]
  },
  {
   "cell_type": "code",
   "execution_count": 53,
   "id": "8a05c9f0",
   "metadata": {},
   "outputs": [
    {
     "data": {
      "text/plain": [
       "8"
      ]
     },
     "execution_count": 53,
     "metadata": {},
     "output_type": "execute_result"
    }
   ],
   "source": [
    "2 + 2 * 3"
   ]
  },
  {
   "cell_type": "code",
   "execution_count": 56,
   "id": "2bae684c",
   "metadata": {},
   "outputs": [
    {
     "name": "stdout",
     "output_type": "stream",
     "text": [
      "<class 'str'>\n"
     ]
    }
   ],
   "source": [
    "a = \"132\"\n",
    "print(type(a))"
   ]
  },
  {
   "cell_type": "code",
   "execution_count": 63,
   "id": "ad852ed2",
   "metadata": {},
   "outputs": [],
   "source": [
    "num_str = \"720\""
   ]
  },
  {
   "cell_type": "code",
   "execution_count": 64,
   "id": "49c53301",
   "metadata": {},
   "outputs": [],
   "source": [
    "# int 는 정수형\n",
    "num_int = int(num_str)"
   ]
  },
  {
   "cell_type": "code",
   "execution_count": 69,
   "id": "fb7f3556",
   "metadata": {
    "scrolled": true
   },
   "outputs": [
    {
     "name": "stdout",
     "output_type": "stream",
     "text": [
      "721 <class 'int'>\n"
     ]
    }
   ],
   "source": [
    "print(num_int+1, type(num_int))"
   ]
  },
  {
   "cell_type": "code",
   "execution_count": 73,
   "id": "f69ceb1c",
   "metadata": {},
   "outputs": [],
   "source": [
    "# str 은 문자형\n",
    "num = 100\n",
    "num_float = str(num)"
   ]
  },
  {
   "cell_type": "code",
   "execution_count": 75,
   "id": "2fb7e07f",
   "metadata": {},
   "outputs": [
    {
     "name": "stdout",
     "output_type": "stream",
     "text": [
      "100 <class 'str'>\n"
     ]
    }
   ],
   "source": [
    "print(num_float, type(num_float))"
   ]
  },
  {
   "cell_type": "code",
   "execution_count": 81,
   "id": "097c77b9",
   "metadata": {},
   "outputs": [],
   "source": [
    "# float은 실수형\n",
    "num = \"15.79\"\n",
    "t = float(num)"
   ]
  },
  {
   "cell_type": "code",
   "execution_count": 80,
   "id": "c6e8911c",
   "metadata": {},
   "outputs": [
    {
     "name": "stdout",
     "output_type": "stream",
     "text": [
      "15.79 <class 'float'>\n"
     ]
    }
   ],
   "source": [
    "print(t, type(t))"
   ]
  },
  {
   "cell_type": "code",
   "execution_count": 1,
   "id": "5fdab1da",
   "metadata": {},
   "outputs": [],
   "source": [
    "year = \"2020\"\n",
    "int = int(year)"
   ]
  },
  {
   "cell_type": "code",
   "execution_count": 5,
   "id": "07e334b2",
   "metadata": {},
   "outputs": [
    {
     "name": "stdout",
     "output_type": "stream",
     "text": [
      "2019\n",
      "2018\n",
      "2017\n"
     ]
    }
   ],
   "source": [
    "print(int-1)\n",
    "print(int-2)\n",
    "print(int-3)"
   ]
  },
  {
   "cell_type": "code",
   "execution_count": 8,
   "id": "f12b3a95",
   "metadata": {},
   "outputs": [
    {
     "name": "stdout",
     "output_type": "stream",
     "text": [
      "총금액:  1749024\n"
     ]
    }
   ],
   "source": [
    "air = 48584\n",
    "print(\"총금액: \", air * 36)"
   ]
  },
  {
   "cell_type": "code",
   "execution_count": 10,
   "id": "19b3ede7",
   "metadata": {},
   "outputs": [
    {
     "name": "stdout",
     "output_type": "stream",
     "text": [
      "1749024\n"
     ]
    }
   ],
   "source": [
    "월 = 48584\n",
    "총금액 = 월 * 36\n",
    "print(총금액)"
   ]
  },
  {
   "cell_type": "markdown",
   "id": "4f0fb784",
   "metadata": {},
   "source": [
    "## 파이썬 문자열 21 - 30"
   ]
  },
  {
   "cell_type": "code",
   "execution_count": 22,
   "id": "4b1721d1",
   "metadata": {
    "scrolled": true
   },
   "outputs": [
    {
     "name": "stdout",
     "output_type": "stream",
     "text": [
      "p t\n"
     ]
    }
   ],
   "source": [
    "letters = 'python'\n",
    "print(letters[0], letters[2])"
   ]
  },
  {
   "cell_type": "code",
   "execution_count": 27,
   "id": "d945c93e",
   "metadata": {},
   "outputs": [
    {
     "name": "stdout",
     "output_type": "stream",
     "text": [
      "2210\n"
     ]
    }
   ],
   "source": [
    "license_plate = \"24가 2210\"\n",
    "print(license_plate[4:])"
   ]
  },
  {
   "cell_type": "code",
   "execution_count": 34,
   "id": "bcda2032",
   "metadata": {},
   "outputs": [
    {
     "name": "stdout",
     "output_type": "stream",
     "text": [
      "홀홀홀\n"
     ]
    }
   ],
   "source": [
    "string = \"홀짝홀짝홀짝\"\n",
    "print(string[::2])"
   ]
  },
  {
   "cell_type": "code",
   "execution_count": null,
   "id": "9f5ea4b4",
   "metadata": {},
   "outputs": [],
   "source": []
  }
 ],
 "metadata": {
  "kernelspec": {
   "display_name": "Python 3 (ipykernel)",
   "language": "python",
   "name": "python3"
  },
  "language_info": {
   "codemirror_mode": {
    "name": "ipython",
    "version": 3
   },
   "file_extension": ".py",
   "mimetype": "text/x-python",
   "name": "python",
   "nbconvert_exporter": "python",
   "pygments_lexer": "ipython3",
   "version": "3.9.21"
  }
 },
 "nbformat": 4,
 "nbformat_minor": 5
}
