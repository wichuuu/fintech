{
 "cells": [
  {
   "cell_type": "markdown",
   "id": "15af1f50",
   "metadata": {},
   "source": [
    "# 함수만들기\n",
    "* print(), split(), input() => 함수\n",
    "* 함수의 괄호 안에 값을 넣으면 출력을 해주거나 입력을 받거나 변환을 해줌\n",
    "* 만들어져 있는 도구\n",
    "* funcntion 기능\n",
    "* 자주 사용하는 기능을 미리 만들어서 **반복 재사용**을 할 수 있게 만든 것"
   ]
  },
  {
   "cell_type": "code",
   "execution_count": 138,
   "id": "a9070910",
   "metadata": {},
   "outputs": [
    {
     "data": {
      "text/plain": [
       "[10, 20, 30, 40]"
      ]
     },
     "execution_count": 138,
     "metadata": {},
     "output_type": "execute_result"
    }
   ],
   "source": [
    "# 리스트의 자료에 10을 곱해서 다시 리스트로 출력하세요.\n",
    "# result = [10, 20, 30, 40]\n",
    "t = [1, 2, 3, 4]\n",
    "result = []\n",
    "for i in t:\n",
    "    result.append(i*10) # 빈 리스트인 result에 요소 추가\n",
    "result"
   ]
  },
  {
   "cell_type": "code",
   "execution_count": 139,
   "id": "7f1ce231",
   "metadata": {},
   "outputs": [],
   "source": [
    "def mul10(num):   #실행 안 됨, 메모리에 저장되어 있음\n",
    "    result_in_func = []\n",
    "    for i in num:\n",
    "        result_in_func.append(i*10)\n",
    "    print(result_in_func)\n",
    "    return result_in_func"
   ]
  },
  {
   "cell_type": "code",
   "execution_count": 140,
   "id": "bdc7e2ef",
   "metadata": {},
   "outputs": [
    {
     "data": {
      "text/plain": [
       "[1, 2, 3, 4]"
      ]
     },
     "execution_count": 140,
     "metadata": {},
     "output_type": "execute_result"
    }
   ],
   "source": [
    "t"
   ]
  },
  {
   "cell_type": "code",
   "execution_count": 14,
   "id": "86d22c2a",
   "metadata": {},
   "outputs": [
    {
     "data": {
      "text/plain": [
       "[10, 20, 30, 40]"
      ]
     },
     "execution_count": 14,
     "metadata": {},
     "output_type": "execute_result"
    }
   ],
   "source": [
    "result = mul10(t)\n",
    "result"
   ]
  },
  {
   "cell_type": "code",
   "execution_count": 16,
   "id": "9dc0c210",
   "metadata": {},
   "outputs": [
    {
     "data": {
      "text/plain": [
       "[0,\n",
       " 1,\n",
       " 2,\n",
       " 3,\n",
       " 4,\n",
       " 5,\n",
       " 6,\n",
       " 7,\n",
       " 8,\n",
       " 9,\n",
       " 10,\n",
       " 11,\n",
       " 12,\n",
       " 13,\n",
       " 14,\n",
       " 15,\n",
       " 16,\n",
       " 17,\n",
       " 18,\n",
       " 19,\n",
       " 20,\n",
       " 21,\n",
       " 22,\n",
       " 23,\n",
       " 24,\n",
       " 25,\n",
       " 26,\n",
       " 27,\n",
       " 28,\n",
       " 29,\n",
       " 30,\n",
       " 31,\n",
       " 32,\n",
       " 33,\n",
       " 34,\n",
       " 35,\n",
       " 36,\n",
       " 37,\n",
       " 38,\n",
       " 39,\n",
       " 40,\n",
       " 41,\n",
       " 42,\n",
       " 43,\n",
       " 44,\n",
       " 45,\n",
       " 46,\n",
       " 47,\n",
       " 48,\n",
       " 49,\n",
       " 50,\n",
       " 51,\n",
       " 52]"
      ]
     },
     "execution_count": 16,
     "metadata": {},
     "output_type": "execute_result"
    }
   ],
   "source": [
    "t2 = list(range(53))\n",
    "t2"
   ]
  },
  {
   "cell_type": "code",
   "execution_count": 13,
   "id": "f541558d",
   "metadata": {},
   "outputs": [
    {
     "data": {
      "text/plain": [
       "[10, 20, 30, 40]"
      ]
     },
     "execution_count": 13,
     "metadata": {},
     "output_type": "execute_result"
    }
   ],
   "source": [
    "mul10(t)"
   ]
  },
  {
   "cell_type": "code",
   "execution_count": 17,
   "id": "9e1e55ef",
   "metadata": {},
   "outputs": [
    {
     "data": {
      "text/plain": [
       "[0,\n",
       " 10,\n",
       " 20,\n",
       " 30,\n",
       " 40,\n",
       " 50,\n",
       " 60,\n",
       " 70,\n",
       " 80,\n",
       " 90,\n",
       " 100,\n",
       " 110,\n",
       " 120,\n",
       " 130,\n",
       " 140,\n",
       " 150,\n",
       " 160,\n",
       " 170,\n",
       " 180,\n",
       " 190,\n",
       " 200,\n",
       " 210,\n",
       " 220,\n",
       " 230,\n",
       " 240,\n",
       " 250,\n",
       " 260,\n",
       " 270,\n",
       " 280,\n",
       " 290,\n",
       " 300,\n",
       " 310,\n",
       " 320,\n",
       " 330,\n",
       " 340,\n",
       " 350,\n",
       " 360,\n",
       " 370,\n",
       " 380,\n",
       " 390,\n",
       " 400,\n",
       " 410,\n",
       " 420,\n",
       " 430,\n",
       " 440,\n",
       " 450,\n",
       " 460,\n",
       " 470,\n",
       " 480,\n",
       " 490,\n",
       " 500,\n",
       " 510,\n",
       " 520]"
      ]
     },
     "execution_count": 17,
     "metadata": {},
     "output_type": "execute_result"
    }
   ],
   "source": [
    "mul10(t2)"
   ]
  },
  {
   "cell_type": "markdown",
   "id": "96b8018b",
   "metadata": {},
   "source": [
    "# 함수 만드는 법\n",
    "def 함수이름(변수명1, 변수명2,...): <br>\n",
    "____실행코드<br>\n",
    "____return 반환할 값(결과)<br>"
   ]
  },
  {
   "cell_type": "code",
   "execution_count": 19,
   "id": "8eea6e3c",
   "metadata": {},
   "outputs": [],
   "source": [
    "def hello():\n",
    "    print(\"Hello python 함수 만들기\")"
   ]
  },
  {
   "cell_type": "code",
   "execution_count": 22,
   "id": "4855bac3",
   "metadata": {},
   "outputs": [
    {
     "name": "stdout",
     "output_type": "stream",
     "text": [
      "hello2 파이썬 함수 만들기\n"
     ]
    }
   ],
   "source": [
    "hello2()"
   ]
  },
  {
   "cell_type": "markdown",
   "id": "9915b1ef",
   "metadata": {},
   "source": [
    "# 함수 호출 순서\n",
    "* 함수는 호출하기 전에 반드시 먼저 정의되어야 하고 (만들어 놓아야 함)\n",
    "* 함수 정의가 함수 실행보다 위에 있어야 한다."
   ]
  },
  {
   "cell_type": "code",
   "execution_count": 21,
   "id": "cf5882b0",
   "metadata": {},
   "outputs": [],
   "source": [
    "def hello2():\n",
    "    print(\"hello2 파이썬 함수 만들기\")"
   ]
  },
  {
   "cell_type": "code",
   "execution_count": 23,
   "id": "08b3f5c6",
   "metadata": {},
   "outputs": [
    {
     "name": "stdout",
     "output_type": "stream",
     "text": [
      "hello2 파이썬 함수 만들기\n"
     ]
    }
   ],
   "source": [
    "hello2()"
   ]
  },
  {
   "cell_type": "markdown",
   "id": "2b3209e7",
   "metadata": {},
   "source": [
    "# 함수의 매개변수\n",
    "* 함수의 ()안에 받는 값을 저장하는 변수\n",
    "* ()안에 값을 받아서 함수 내에서 처리할 때 사용"
   ]
  },
  {
   "cell_type": "markdown",
   "id": "5235b6c8",
   "metadata": {},
   "source": [
    "* 매개변수 1개짜리 함수"
   ]
  },
  {
   "cell_type": "code",
   "execution_count": 36,
   "id": "a52077d2",
   "metadata": {},
   "outputs": [],
   "source": [
    "# 원의 넓이를 구하는 함수 - 반지름 * 반지름 * 3.14\n",
    "def circle(c): #매개변수가 c 하나\n",
    "    print(f\"반지름의 길이가 {c}인 원의 넓이는: {c*c*3.14} 입니다.\")"
   ]
  },
  {
   "cell_type": "code",
   "execution_count": 37,
   "id": "e2964e3e",
   "metadata": {},
   "outputs": [
    {
     "name": "stdout",
     "output_type": "stream",
     "text": [
      "반지름의 길이가 3인 원의 넓이는: 28.26 입니다.\n"
     ]
    }
   ],
   "source": [
    "#반지름이 3인 원의 넓이\n",
    "circle(3)"
   ]
  },
  {
   "cell_type": "markdown",
   "id": "b171defc",
   "metadata": {},
   "source": [
    "* 매개변수 ２개짜리 함수 덧셈 함수 만들기"
   ]
  },
  {
   "cell_type": "code",
   "execution_count": 38,
   "id": "367ac400",
   "metadata": {},
   "outputs": [],
   "source": [
    "def add(a, b): #매개변수가 a, b 두 개\n",
    "    return a + b"
   ]
  },
  {
   "cell_type": "code",
   "execution_count": 39,
   "id": "7868ba50",
   "metadata": {},
   "outputs": [
    {
     "name": "stdout",
     "output_type": "stream",
     "text": [
      "13\n"
     ]
    }
   ],
   "source": [
    "result = add(10, 3)\n",
    "print(result)"
   ]
  },
  {
   "cell_type": "code",
   "execution_count": 41,
   "id": "9298dc02",
   "metadata": {},
   "outputs": [
    {
     "name": "stdout",
     "output_type": "stream",
     "text": [
      "반지름의 길이가 5인 원의 넓이는: 78.5 입니다.\n",
      "None\n"
     ]
    }
   ],
   "source": [
    "circle_result = circle(5)\n",
    "print(circle_result)"
   ]
  },
  {
   "cell_type": "markdown",
   "id": "ac62e1a8",
   "metadata": {},
   "source": [
    "* 매개변수 3개짜리 함수\n",
    "* num_maker라는 함수를 매개변수 3개를 이용해서 만드세요\n",
    "* 숫자를 3개 입력받아 첫번째 숫자는 시작숫자, 두번째 숫자는 끝숫자, 마지막 숫자는 step으로 작동하게 하세요\n",
    "\n",
    "* 먼저 숫자를 생성한 결과를 출력하고\n",
    "* 숫자 리스트에 *10한 결과를 다시 출력하세요\n",
    "* num_maker(1, 11, 2)\n",
    "* 결과: 1, 3, 5, 7, 9"
   ]
  },
  {
   "cell_type": "code",
   "execution_count": 48,
   "id": "92ca4cb7",
   "metadata": {},
   "outputs": [],
   "source": [
    "def num_maker(a, b, c):\n",
    "    result = list(range(a, b, c))\n",
    "    result2 = []\n",
    "    print(result)\n",
    "    for i in result:\n",
    "        result2.append(i*10)\n",
    "    print(result2)\n",
    "    return result, result2"
   ]
  },
  {
   "cell_type": "code",
   "execution_count": 49,
   "id": "736f9c0b",
   "metadata": {},
   "outputs": [
    {
     "name": "stdout",
     "output_type": "stream",
     "text": [
      "[1, 3, 5, 7, 9]\n",
      "[10, 30, 50, 70, 90]\n"
     ]
    },
    {
     "data": {
      "text/plain": [
       "([1, 3, 5, 7, 9], [10, 30, 50, 70, 90])"
      ]
     },
     "execution_count": 49,
     "metadata": {},
     "output_type": "execute_result"
    }
   ],
   "source": [
    "num_maker(1, 11, 2)"
   ]
  },
  {
   "cell_type": "markdown",
   "id": "b2526e5e",
   "metadata": {},
   "source": [
    "# 리턴 값이 여러개인 함수"
   ]
  },
  {
   "cell_type": "code",
   "execution_count": 50,
   "id": "d714ba4e",
   "metadata": {},
   "outputs": [],
   "source": [
    "def add_sub(a, b):\n",
    "    add = a + b\n",
    "    sub = a - b\n",
    "    return add, sub"
   ]
  },
  {
   "cell_type": "code",
   "execution_count": 54,
   "id": "50d48b43",
   "metadata": {},
   "outputs": [
    {
     "name": "stdout",
     "output_type": "stream",
     "text": [
      "8 -2\n"
     ]
    }
   ],
   "source": [
    "add_result, sub_result = add_sub(3, 5) #튜플로 출력되는 결과를 변수를 지정하여 따로 출력할 수 있음\n",
    "print(add_result, sub_result)"
   ]
  },
  {
   "cell_type": "code",
   "execution_count": 55,
   "id": "2182bb60",
   "metadata": {},
   "outputs": [
    {
     "name": "stdout",
     "output_type": "stream",
     "text": [
      "8 -2\n"
     ]
    }
   ],
   "source": [
    "result = add_sub(3, 5)\n",
    "print (result[0], result[1])"
   ]
  },
  {
   "cell_type": "markdown",
   "id": "84151c96",
   "metadata": {},
   "source": [
    "* num_maker2 - 정방향, 역방향 리스트가 출력되는 함수\n",
    "* 3개의 숫자를 입력받아서 숫자 리스트를 만들고\n",
    "* 리스트 + 3을 한 결과를 리스트로 반환\n",
    "* 한 번은 정방향으로 출력\n",
    "* 또 한 번은 역방향으로 출력"
   ]
  },
  {
   "cell_type": "code",
   "execution_count": 4,
   "id": "4e32b8dd",
   "metadata": {},
   "outputs": [],
   "source": [
    "def num_maker2(start, end, step):\n",
    "    list_result = list(range(start, end, step))\n",
    "    reversed_list = list_result[::-1]\n",
    "#     print(list_result, reserved_list)\n",
    "    return list_result, reversed_list"
   ]
  },
  {
   "cell_type": "code",
   "execution_count": 5,
   "id": "dc5d5f77",
   "metadata": {},
   "outputs": [
    {
     "name": "stdout",
     "output_type": "stream",
     "text": [
      "([3, 5, 7, 9, 11, 13, 15, 17, 19], [19, 17, 15, 13, 11, 9, 7, 5, 3])\n"
     ]
    }
   ],
   "source": [
    "result = num_maker2(3, 20, 2)\n",
    "print(result)"
   ]
  },
  {
   "cell_type": "code",
   "execution_count": 8,
   "id": "3cc57a68",
   "metadata": {},
   "outputs": [],
   "source": [
    "# for i in result:\n",
    "#     for j in i:\n",
    "#         print(j)"
   ]
  },
  {
   "cell_type": "markdown",
   "id": "31a517c0",
   "metadata": {},
   "source": [
    "## 중간에 함수를 종료시키기 위한 용도의 return\n",
    "* 반복문에서 break 처럼 활용 가능\n",
    "* 함수 내에서 return 실행시, 함수 종료"
   ]
  },
  {
   "cell_type": "markdown",
   "id": "9283b77b",
   "metadata": {},
   "source": [
    "* 1에서 100까지 숫자 중에서 짝수만 더해서 출력하세요\n",
    "* 단, 숫자가 50 이상이 되면 멈추세요\n",
    "* 더해지는 과정도 출력"
   ]
  },
  {
   "cell_type": "code",
   "execution_count": 28,
   "id": "6ed52b98",
   "metadata": {},
   "outputs": [],
   "source": [
    "def even(num): #num이라는 변수에 1부터 100까지 저장\n",
    "#     print(num)\n",
    "    hap = 0\n",
    "    for i in num:\n",
    "        if i < 50:\n",
    "            if i % 2 == 0:\n",
    "                hap += i\n",
    "                print(hap, end=\" \")\n",
    "        else:\n",
    "            break\n",
    "    return hap\n",
    "#         print(e_result + 2)\n",
    "#         return(e_result)"
   ]
  },
  {
   "cell_type": "code",
   "execution_count": 29,
   "id": "efcff1d7",
   "metadata": {},
   "outputs": [
    {
     "name": "stdout",
     "output_type": "stream",
     "text": [
      "2 6 12 20 30 42 56 72 90 110 132 156 182 210 240 272 306 342 380 420 462 506 552 600 "
     ]
    },
    {
     "data": {
      "text/plain": [
       "600"
      ]
     },
     "execution_count": 29,
     "metadata": {},
     "output_type": "execute_result"
    }
   ],
   "source": [
    "even(list(range(1, 101)))"
   ]
  },
  {
   "cell_type": "code",
   "execution_count": 37,
   "id": "4e8bfbc1",
   "metadata": {},
   "outputs": [],
   "source": [
    "def even2(num): #num이라는 변수에 1부터 100까지 저장\n",
    "#     print(num)\n",
    "    hap = 0\n",
    "    for i in num:\n",
    "        if i < 50:\n",
    "            if i % 2 == 0:\n",
    "                print(f\"{i}+{hap}=\", end=\"\")\n",
    "                hap += i\n",
    "                print(hap, end=\" \")\n",
    "        else:\n",
    "            return hap"
   ]
  },
  {
   "cell_type": "code",
   "execution_count": 39,
   "id": "e1bbba77",
   "metadata": {},
   "outputs": [
    {
     "name": "stdout",
     "output_type": "stream",
     "text": [
      "2+0=2 4+2=6 6+6=12 8+12=20 10+20=30 12+30=42 14+42=56 16+56=72 18+72=90 20+90=110 22+110=132 24+132=156 26+156=182 28+182=210 30+210=240 32+240=272 34+272=306 36+306=342 38+342=380 40+380=420 42+420=462 44+462=506 46+506=552 48+552=600 "
     ]
    },
    {
     "data": {
      "text/plain": [
       "600"
      ]
     },
     "execution_count": 39,
     "metadata": {},
     "output_type": "execute_result"
    }
   ],
   "source": [
    "even2(list(range(1, 101)))"
   ]
  },
  {
   "cell_type": "markdown",
   "id": "ed67f117",
   "metadata": {},
   "source": [
    "* 점수를 입력받아서 91-100 A학점, 81-90 B학점, 71-80 C학점, 61-70 D학점 60이하는 F학점을 출력하는 student_grade 함수를 만드세요.\n",
    "\n",
    "* 점수를 입력받아야 함 input()\n",
    "* student_grade 함수에 입력받은 값을 넣어주기\n",
    "* student_grade 함수에서는 입력받은 값을 비교해서 학점 출력"
   ]
  },
  {
   "cell_type": "code",
   "execution_count": 3,
   "id": "e295a78a",
   "metadata": {},
   "outputs": [],
   "source": [
    "def student_grade(score): #score는 매개변수\n",
    "#     score = int(input(\"점수를 입력하세요: \"))\n",
    "    if 91 <= score <= 100:\n",
    "        return \"A학점\"\n",
    "    elif 81 <= score <= 90:\n",
    "        return \"B학점\"\n",
    "    elif 71 <= score <= 80:\n",
    "        return \"C학점\"\n",
    "    elif 61 <= score <= 70:\n",
    "        return \"D학점\"\n",
    "    else:\n",
    "        return \"F학점\"\n",
    "    "
   ]
  },
  {
   "cell_type": "code",
   "execution_count": 4,
   "id": "2a533a08",
   "metadata": {},
   "outputs": [
    {
     "name": "stdout",
     "output_type": "stream",
     "text": [
      "점수를 입력하세요69\n",
      "D학점\n"
     ]
    }
   ],
   "source": [
    "mark = int(input(\"점수를 입력하세요\"))\n",
    "result = student_grade(mark)\n",
    "print(result)"
   ]
  },
  {
   "cell_type": "markdown",
   "id": "8503214d",
   "metadata": {},
   "source": [
    "## 인수: 함수에 집어넣는 자료 (매개변수에 넣는 자료)\n",
    "#### 위치인수(positional argument): \n",
    "* 위치가 고정된 인수\n",
    "#### 가변위치인수(args, Variable-length Arguments):\n",
    "* 여러개의 자료를 넣을 수 있는 인수, 제한 없음\n",
    "#### 키워드 인수(keyword arguments):\n",
    "* 매개변수에 이름을 명시해서 인수를 넣어주는 것\n",
    "#### 가변 키워드 인수(kwargs, variable-length keyword argument):\n",
    "* 키워드 인수를 숫자 제한 없이 넣는 경우"
   ]
  },
  {
   "cell_type": "markdown",
   "id": "50c86ce6",
   "metadata": {},
   "source": [
    "* 위치인수\n",
    "* 넣는 수서와 개수를 일치시켜야만 함"
   ]
  },
  {
   "cell_type": "code",
   "execution_count": 2,
   "id": "75864c8e",
   "metadata": {},
   "outputs": [],
   "source": [
    "def print_nums(a, b, c):\n",
    "    print(a, b, c)"
   ]
  },
  {
   "cell_type": "code",
   "execution_count": 7,
   "id": "73790d6a",
   "metadata": {},
   "outputs": [
    {
     "ename": "TypeError",
     "evalue": "print_nums() missing 1 required positional argument: 'c'",
     "output_type": "error",
     "traceback": [
      "\u001b[1;31m---------------------------------------------------------------------------\u001b[0m",
      "\u001b[1;31mTypeError\u001b[0m                                 Traceback (most recent call last)",
      "Cell \u001b[1;32mIn[7], line 1\u001b[0m\n\u001b[1;32m----> 1\u001b[0m \u001b[43mprint_nums\u001b[49m\u001b[43m(\u001b[49m\u001b[38;5;241;43m1\u001b[39;49m\u001b[43m,\u001b[49m\u001b[43m \u001b[49m\u001b[38;5;241;43m5\u001b[39;49m\u001b[43m)\u001b[49m\n",
      "\u001b[1;31mTypeError\u001b[0m: print_nums() missing 1 required positional argument: 'c'"
     ]
    }
   ],
   "source": [
    "print_nums(1, 5)"
   ]
  },
  {
   "cell_type": "code",
   "execution_count": 3,
   "id": "0ec39aa9",
   "metadata": {},
   "outputs": [
    {
     "ename": "TypeError",
     "evalue": "print_nums() missing 2 required positional arguments: 'b' and 'c'",
     "output_type": "error",
     "traceback": [
      "\u001b[1;31m---------------------------------------------------------------------------\u001b[0m",
      "\u001b[1;31mTypeError\u001b[0m                                 Traceback (most recent call last)",
      "Cell \u001b[1;32mIn[3], line 2\u001b[0m\n\u001b[0;32m      1\u001b[0m l1 \u001b[38;5;241m=\u001b[39m [\u001b[38;5;241m1\u001b[39m, \u001b[38;5;241m2\u001b[39m, \u001b[38;5;241m3\u001b[39m]\n\u001b[1;32m----> 2\u001b[0m \u001b[43mprint_nums\u001b[49m\u001b[43m(\u001b[49m\u001b[43ml1\u001b[49m\u001b[43m)\u001b[49m\n",
      "\u001b[1;31mTypeError\u001b[0m: print_nums() missing 2 required positional arguments: 'b' and 'c'"
     ]
    }
   ],
   "source": [
    "l1 = [1, 2, 3]\n",
    "print_nums(l1)"
   ]
  },
  {
   "cell_type": "code",
   "execution_count": 7,
   "id": "4b921b62",
   "metadata": {},
   "outputs": [
    {
     "name": "stdout",
     "output_type": "stream",
     "text": [
      "[1, 2, 3]\n",
      "1 2 3\n"
     ]
    }
   ],
   "source": [
    "print(l1)\n",
    "print(*l1)"
   ]
  },
  {
   "cell_type": "markdown",
   "id": "3effe47b",
   "metadata": {},
   "source": [
    "* 가변위치인수\n",
    "* 자료를 개수의 제한 없이 넣을 수 있는 인수"
   ]
  },
  {
   "cell_type": "code",
   "execution_count": 14,
   "id": "875af9cb",
   "metadata": {},
   "outputs": [],
   "source": [
    "def print_nums(*nums):\n",
    "    print(nums, type(nums))\n",
    "    for i in nums:\n",
    "        print(i, end=\" \")"
   ]
  },
  {
   "cell_type": "code",
   "execution_count": 15,
   "id": "3b708c82",
   "metadata": {},
   "outputs": [
    {
     "name": "stdout",
     "output_type": "stream",
     "text": [
      "(1, 2, 3, 4, 5, 6, 7, 8, 9, 10) <class 'tuple'>\n",
      "1 2 3 4 5 6 7 8 9 10 "
     ]
    }
   ],
   "source": [
    "print_nums(1, 2, 3, 4, 5, 6, 7, 8, 9, 10)"
   ]
  },
  {
   "cell_type": "code",
   "execution_count": 16,
   "id": "a0df437a",
   "metadata": {},
   "outputs": [
    {
     "name": "stdout",
     "output_type": "stream",
     "text": [
      "1 2 3 4 5 6 7\n"
     ]
    }
   ],
   "source": [
    "print(1, 2, 3, 4, 5, 6, 7)"
   ]
  },
  {
   "cell_type": "markdown",
   "id": "02154e66",
   "metadata": {},
   "source": [
    "* my_sum\n",
    "* 여러개의 숫자를 입력받으면 합계를 구해주는 함수"
   ]
  },
  {
   "cell_type": "code",
   "execution_count": 35,
   "id": "45ab22cd",
   "metadata": {},
   "outputs": [],
   "source": [
    "def my_sum(*args): #변수명은 네 맘대로하라긔\n",
    "    hap = 0\n",
    "    for i in args:\n",
    "        hap += i\n",
    "    return(hap)"
   ]
  },
  {
   "cell_type": "code",
   "execution_count": 38,
   "id": "3728d1e1",
   "metadata": {},
   "outputs": [
    {
     "name": "stdout",
     "output_type": "stream",
     "text": [
      "55\n"
     ]
    }
   ],
   "source": [
    "# 사용방식 1\n",
    "result = my_sum(1, 2, 3, 4, 5, 6, 7, 8, 9, 10)\n",
    "print(result)"
   ]
  },
  {
   "cell_type": "code",
   "execution_count": 40,
   "id": "586402a2",
   "metadata": {},
   "outputs": [
    {
     "name": "stdout",
     "output_type": "stream",
     "text": [
      "1 2 3 4 5 6 7 8 9 10\n"
     ]
    }
   ],
   "source": [
    "print(*list(range(1, 11)))"
   ]
  },
  {
   "cell_type": "code",
   "execution_count": 42,
   "id": "7cbac3ce",
   "metadata": {},
   "outputs": [
    {
     "data": {
      "text/plain": [
       "55"
      ]
     },
     "execution_count": 42,
     "metadata": {},
     "output_type": "execute_result"
    }
   ],
   "source": [
    "# 사용방식 2\n",
    "my_sum(*list(range(1, 11)))"
   ]
  },
  {
   "cell_type": "markdown",
   "id": "c7ec3839",
   "metadata": {},
   "source": [
    "* 위치인수와 가변인수 동시에 받기\n",
    "* 위치인수와 가변인수를 동시에 받을 때는 반드시 위치인수가 먼저 와야 한다.\n",
    "* def muls(a, *args): OK\n",
    "* def muls(*args, a): X"
   ]
  },
  {
   "cell_type": "code",
   "execution_count": null,
   "id": "e2ab9e83",
   "metadata": {},
   "outputs": [],
   "source": [
    "# 정수와 리스트를 입력받아 리스트의 요소에 입력받은 정수를 곱하는 함수"
   ]
  },
  {
   "cell_type": "code",
   "execution_count": 49,
   "id": "8585173e",
   "metadata": {},
   "outputs": [],
   "source": [
    "def muls(a, *args):\n",
    "    print(a, args)\n",
    "    result = []\n",
    "    for num in args:\n",
    "        result.append(a*num)\n",
    "    return result"
   ]
  },
  {
   "cell_type": "code",
   "execution_count": 50,
   "id": "a9bbeb88",
   "metadata": {},
   "outputs": [],
   "source": [
    "l2 = [1, 2, 3, 4, 5]"
   ]
  },
  {
   "cell_type": "code",
   "execution_count": 51,
   "id": "03e39f7b",
   "metadata": {},
   "outputs": [
    {
     "name": "stdout",
     "output_type": "stream",
     "text": [
      "2 ([1, 2, 3, 4, 5],)\n"
     ]
    },
    {
     "data": {
      "text/plain": [
       "[[1, 2, 3, 4, 5, 1, 2, 3, 4, 5]]"
      ]
     },
     "execution_count": 51,
     "metadata": {},
     "output_type": "execute_result"
    }
   ],
   "source": [
    "muls(2, l2)"
   ]
  },
  {
   "cell_type": "code",
   "execution_count": 52,
   "id": "5430b737",
   "metadata": {},
   "outputs": [
    {
     "name": "stdout",
     "output_type": "stream",
     "text": [
      "2 (1, 2, 3, 4, 5)\n"
     ]
    },
    {
     "data": {
      "text/plain": [
       "[2, 4, 6, 8, 10]"
      ]
     },
     "execution_count": 52,
     "metadata": {},
     "output_type": "execute_result"
    }
   ],
   "source": [
    "muls(2, *l2)"
   ]
  },
  {
   "cell_type": "code",
   "execution_count": 59,
   "id": "81e5eb84",
   "metadata": {},
   "outputs": [],
   "source": [
    "def muls(*args, a):\n",
    "    print(a, args)\n",
    "    result = []\n",
    "    for num in args:\n",
    "        result.append(a*num)\n",
    "    return result"
   ]
  },
  {
   "cell_type": "code",
   "execution_count": 60,
   "id": "574cf264",
   "metadata": {},
   "outputs": [
    {
     "ename": "TypeError",
     "evalue": "muls() missing 1 required keyword-only argument: 'a'",
     "output_type": "error",
     "traceback": [
      "\u001b[1;31m---------------------------------------------------------------------------\u001b[0m",
      "\u001b[1;31mTypeError\u001b[0m                                 Traceback (most recent call last)",
      "Cell \u001b[1;32mIn[60], line 1\u001b[0m\n\u001b[1;32m----> 1\u001b[0m \u001b[43mmuls\u001b[49m\u001b[43m(\u001b[49m\u001b[38;5;241;43m*\u001b[39;49m\u001b[43ml2\u001b[49m\u001b[43m,\u001b[49m\u001b[43m \u001b[49m\u001b[38;5;241;43m3\u001b[39;49m\u001b[43m)\u001b[49m\n",
      "\u001b[1;31mTypeError\u001b[0m: muls() missing 1 required keyword-only argument: 'a'"
     ]
    }
   ],
   "source": [
    "muls(*l2, 3)"
   ]
  },
  {
   "cell_type": "markdown",
   "id": "2999de5a",
   "metadata": {},
   "source": [
    "* 키워드 인수\n",
    "* 매개변수 이름을 직접 입력하고 자료를 할당하는 것"
   ]
  },
  {
   "cell_type": "code",
   "execution_count": 61,
   "id": "35bcf40a",
   "metadata": {},
   "outputs": [
    {
     "name": "stdout",
     "output_type": "stream",
     "text": [
      "1 vs 2 vs 3!!"
     ]
    }
   ],
   "source": [
    "print(1, 2, 3, sep=\" vs \", end=\"!!\")"
   ]
  },
  {
   "cell_type": "markdown",
   "id": "fd51517c",
   "metadata": {},
   "source": [
    "* 개인 정보를 출력하는 함수"
   ]
  },
  {
   "cell_type": "code",
   "execution_count": 64,
   "id": "2a38920f",
   "metadata": {},
   "outputs": [],
   "source": [
    "def personal_info(name, age, address):\n",
    "    print(\"이름: \", name)\n",
    "    print(\"나이: \", age)\n",
    "    print(\"주소: \", address)"
   ]
  },
  {
   "cell_type": "code",
   "execution_count": 65,
   "id": "a2dfd917",
   "metadata": {},
   "outputs": [
    {
     "name": "stdout",
     "output_type": "stream",
     "text": [
      "이름:  홍길동\n",
      "나이:  30\n",
      "주소:  서울시\n"
     ]
    }
   ],
   "source": [
    "personal_info('홍길동', 30, \"서울시\")"
   ]
  },
  {
   "cell_type": "markdown",
   "id": "4254ac40",
   "metadata": {},
   "source": [
    "* 키워드 인수는 기본값 설정 가능"
   ]
  },
  {
   "cell_type": "code",
   "execution_count": 66,
   "id": "a499cd42",
   "metadata": {},
   "outputs": [],
   "source": [
    "def personal_info(name, age, address=\"안알려줌\"):\n",
    "    print(\"이름: \", name)\n",
    "    print(\"나이: \", age)\n",
    "    print(\"주소: \", address)"
   ]
  },
  {
   "cell_type": "code",
   "execution_count": 67,
   "id": "96bbefc0",
   "metadata": {},
   "outputs": [
    {
     "name": "stdout",
     "output_type": "stream",
     "text": [
      "이름:  홍길동\n",
      "나이:  30\n",
      "주소:  안알려줌\n"
     ]
    }
   ],
   "source": [
    "personal_info(age=30, name='홍길동')"
   ]
  },
  {
   "cell_type": "markdown",
   "id": "54745efa",
   "metadata": {},
   "source": [
    "* 딕셔너리 언패킹\n",
    "* 딕셔너리 앞에 **을 붙여서 딕셔너리 언패킹 가능\n",
    "* **{\"address\": '서울시 강남구', \"name\": \"홍길동\", \"age\": 30}"
   ]
  },
  {
   "cell_type": "code",
   "execution_count": 70,
   "id": "69cd4569",
   "metadata": {},
   "outputs": [
    {
     "name": "stdout",
     "output_type": "stream",
     "text": [
      "이름:  홍길동\n",
      "나이:  30\n",
      "주소:  서울시 강남구\n"
     ]
    }
   ],
   "source": [
    "personal_info(**{\"address\": '서울시 강남구', \"name\": \"홍길동\", \"age\": 30})"
   ]
  },
  {
   "cell_type": "markdown",
   "id": "81d7bc9b",
   "metadata": {},
   "source": [
    "* 키워드 가변인수<br>\n",
    "* def 함수이름(**kwargs): <br>"
   ]
  },
  {
   "cell_type": "code",
   "execution_count": 74,
   "id": "4602d69b",
   "metadata": {},
   "outputs": [],
   "source": [
    "def personal_info2(**kwargs):\n",
    "    print(kwargs)\n",
    "    key = list(kwargs.keys())\n",
    "    value = list(kwargs.values())\n",
    "    print(key)\n",
    "    print(value)"
   ]
  },
  {
   "cell_type": "code",
   "execution_count": 75,
   "id": "fcea50b8",
   "metadata": {},
   "outputs": [
    {
     "name": "stdout",
     "output_type": "stream",
     "text": [
      "{'address': '서울시', 'name': '홍길동'}\n",
      "['address', 'name']\n",
      "['서울시', '홍길동']\n"
     ]
    }
   ],
   "source": [
    "personal_info2(address=\"서울시\", name=\"홍길동\") #딕셔너리로 저장"
   ]
  },
  {
   "cell_type": "markdown",
   "id": "d2e486b4",
   "metadata": {},
   "source": [
    "* 위치인수와 키워드 가변인수 같이 사용하기\n",
    "* 위치인수 다음에 키워드 가변 인수가 옴"
   ]
  },
  {
   "cell_type": "code",
   "execution_count": 77,
   "id": "6d356a1d",
   "metadata": {},
   "outputs": [],
   "source": [
    "def personal_info3(num, **kwargs):\n",
    "    print(kwargs)\n",
    "    key = list(kwargs.keys())\n",
    "    value = list(kwargs.values())\n",
    "    print(num)\n",
    "    print(key)\n",
    "    print(value)"
   ]
  },
  {
   "cell_type": "code",
   "execution_count": 80,
   "id": "efcdf8c5",
   "metadata": {},
   "outputs": [
    {
     "name": "stdout",
     "output_type": "stream",
     "text": [
      "{'address': '서울시', 'name': '홍길동'}\n",
      "1\n",
      "['address', 'name']\n",
      "['서울시', '홍길동']\n"
     ]
    }
   ],
   "source": [
    "personal_info3(1, address=\"서울시\", name=\"홍길동\")"
   ]
  },
  {
   "cell_type": "markdown",
   "id": "b320b995",
   "metadata": {},
   "source": [
    "* 가변인수와 키워드 가변인수 함께 쓰기\n",
    "* 가변인수 => 키워드 가변인수 순으로 쓴다\n",
    "* def 함수명 (*args, **kwargs) "
   ]
  },
  {
   "cell_type": "code",
   "execution_count": 81,
   "id": "b30f69fa",
   "metadata": {},
   "outputs": [],
   "source": [
    "def custom_print(*args, **kwargs):\n",
    "#     print(args, kwargs)\n",
    "    print(*args, **kwargs)"
   ]
  },
  {
   "cell_type": "code",
   "execution_count": 83,
   "id": "2ebf7c9c",
   "metadata": {
    "scrolled": true
   },
   "outputs": [
    {
     "name": "stdout",
     "output_type": "stream",
     "text": [
      "(1, 2, 3) {'sep': '||', 'end': '!!'}\n"
     ]
    }
   ],
   "source": [
    "custom_print(1,2,3, sep=\"||\", end=\"!!\")"
   ]
  },
  {
   "cell_type": "code",
   "execution_count": 84,
   "id": "b3d72739",
   "metadata": {},
   "outputs": [
    {
     "name": "stdout",
     "output_type": "stream",
     "text": [
      "1||2||3!!"
     ]
    }
   ],
   "source": [
    "print(1,2,3, sep=\"||\", end=\"!!\")"
   ]
  },
  {
   "cell_type": "markdown",
   "id": "ec39c140",
   "metadata": {},
   "source": [
    "#### 매개변수 = 함수에서 자료를 받을 때 사용하는 변수\n",
    "* 위치인수(a): 위치가 고정된 매개변수, 위치인수는 키워드 인수로 사용가능(변수명=값)\n",
    "* 가변인수(*args): 여러 개의 자료를 동시에 받을 수 있음 => tuple로 변환되어 들어옴\n",
    "* 키워드 가변인수(**kwargs): 여러 개의 자료를 동시에 받을 수 있는데 key=value 형태로 받는 인수 => dict로 들어옴"
   ]
  },
  {
   "cell_type": "markdown",
   "id": "76553a55",
   "metadata": {},
   "source": [
    "* 매개변수의 초기값 지정하기\n",
    "* 초기값이 지정된 매개변수는 반드시 마지막에 위치해야 함\n",
    "<br><br>\n",
    "* 위치인수, 키워드인수, 가변인수, 키워드 가변인수를 동시에 다 사용할 경우\n",
    "* 위치인수 => 키워드 인수(기본값), 가변인수, 키워드 가변인수 순서로 사용"
   ]
  },
  {
   "cell_type": "code",
   "execution_count": 87,
   "id": "5a0e15fa",
   "metadata": {},
   "outputs": [],
   "source": [
    "def personal_info6(idx, address=\"비공개\", *args, **kwargs):\n",
    "    print(f\"idx:{idx}\")\n",
    "    print(f\"address:{address}\")\n",
    "    print(f\"*args:{args}\")\n",
    "    print(f\"**kwargs:{kwargs}\")"
   ]
  },
  {
   "cell_type": "code",
   "execution_count": 90,
   "id": "4cd950e4",
   "metadata": {},
   "outputs": [
    {
     "name": "stdout",
     "output_type": "stream",
     "text": [
      "idx:1\n",
      "address:서울\n",
      "*args:(30, 40, 50)\n",
      "**kwargs:{'이름': '홍길동', '성별': '남자'}\n"
     ]
    }
   ],
   "source": [
    "personal_info6(1, \"서울\", 30, 40, 50, 이름=\"홍길동\", 성별=\"남자\") #키워드인수로 서울이 들어감"
   ]
  },
  {
   "cell_type": "markdown",
   "id": "823dd184",
   "metadata": {},
   "source": [
    "* 함수 doc 스트링 사용하기\n",
    "* 함수의 기능을 설명하거나 사용법을 함수 내에 적어놓는 것\n",
    "* def 함수이름(매개변수):<br>\n",
    "  \"\"\" 독스트링으로 설명 \"\"\"\n",
    "* docstringd은 함수 실행시에는 출력되지 않음\n",
    "* print(함수이름.__doc__)\n",
    "* help(함수이름)"
   ]
  },
  {
   "cell_type": "code",
   "execution_count": 91,
   "id": "0879faf2",
   "metadata": {},
   "outputs": [
    {
     "name": "stdout",
     "output_type": "stream",
     "text": [
      "Help on built-in function print in module builtins:\n",
      "\n",
      "print(...)\n",
      "    print(value, ..., sep=' ', end='\\n', file=sys.stdout, flush=False)\n",
      "    \n",
      "    Prints the values to a stream, or to sys.stdout by default.\n",
      "    Optional keyword arguments:\n",
      "    file:  a file-like object (stream); defaults to the current sys.stdout.\n",
      "    sep:   string inserted between values, default a space.\n",
      "    end:   string appended after the last value, default a newline.\n",
      "    flush: whether to forcibly flush the stream.\n",
      "\n"
     ]
    }
   ],
   "source": [
    "help(print)"
   ]
  },
  {
   "cell_type": "code",
   "execution_count": 92,
   "id": "2c002f07",
   "metadata": {},
   "outputs": [
    {
     "name": "stdout",
     "output_type": "stream",
     "text": [
      "print(value, ..., sep=' ', end='\\n', file=sys.stdout, flush=False)\n",
      "\n",
      "Prints the values to a stream, or to sys.stdout by default.\n",
      "Optional keyword arguments:\n",
      "file:  a file-like object (stream); defaults to the current sys.stdout.\n",
      "sep:   string inserted between values, default a space.\n",
      "end:   string appended after the last value, default a newline.\n",
      "flush: whether to forcibly flush the stream.\n"
     ]
    }
   ],
   "source": [
    "print(print.__doc__)"
   ]
  },
  {
   "cell_type": "code",
   "execution_count": 93,
   "id": "de9de887",
   "metadata": {},
   "outputs": [
    {
     "name": "stdout",
     "output_type": "stream",
     "text": [
      "Help on function open in module io:\n",
      "\n",
      "open(file, mode='r', buffering=-1, encoding=None, errors=None, newline=None, closefd=True, opener=None)\n",
      "    Open file and return a stream.  Raise OSError upon failure.\n",
      "    \n",
      "    file is either a text or byte string giving the name (and the path\n",
      "    if the file isn't in the current working directory) of the file to\n",
      "    be opened or an integer file descriptor of the file to be\n",
      "    wrapped. (If a file descriptor is given, it is closed when the\n",
      "    returned I/O object is closed, unless closefd is set to False.)\n",
      "    \n",
      "    mode is an optional string that specifies the mode in which the file\n",
      "    is opened. It defaults to 'r' which means open for reading in text\n",
      "    mode.  Other common values are 'w' for writing (truncating the file if\n",
      "    it already exists), 'x' for creating and writing to a new file, and\n",
      "    'a' for appending (which on some Unix systems, means that all writes\n",
      "    append to the end of the file regardless of the current seek position).\n",
      "    In text mode, if encoding is not specified the encoding used is platform\n",
      "    dependent: locale.getpreferredencoding(False) is called to get the\n",
      "    current locale encoding. (For reading and writing raw bytes use binary\n",
      "    mode and leave encoding unspecified.) The available modes are:\n",
      "    \n",
      "    ========= ===============================================================\n",
      "    Character Meaning\n",
      "    --------- ---------------------------------------------------------------\n",
      "    'r'       open for reading (default)\n",
      "    'w'       open for writing, truncating the file first\n",
      "    'x'       create a new file and open it for writing\n",
      "    'a'       open for writing, appending to the end of the file if it exists\n",
      "    'b'       binary mode\n",
      "    't'       text mode (default)\n",
      "    '+'       open a disk file for updating (reading and writing)\n",
      "    'U'       universal newline mode (deprecated)\n",
      "    ========= ===============================================================\n",
      "    \n",
      "    The default mode is 'rt' (open for reading text). For binary random\n",
      "    access, the mode 'w+b' opens and truncates the file to 0 bytes, while\n",
      "    'r+b' opens the file without truncation. The 'x' mode implies 'w' and\n",
      "    raises an `FileExistsError` if the file already exists.\n",
      "    \n",
      "    Python distinguishes between files opened in binary and text modes,\n",
      "    even when the underlying operating system doesn't. Files opened in\n",
      "    binary mode (appending 'b' to the mode argument) return contents as\n",
      "    bytes objects without any decoding. In text mode (the default, or when\n",
      "    't' is appended to the mode argument), the contents of the file are\n",
      "    returned as strings, the bytes having been first decoded using a\n",
      "    platform-dependent encoding or using the specified encoding if given.\n",
      "    \n",
      "    'U' mode is deprecated and will raise an exception in future versions\n",
      "    of Python.  It has no effect in Python 3.  Use newline to control\n",
      "    universal newlines mode.\n",
      "    \n",
      "    buffering is an optional integer used to set the buffering policy.\n",
      "    Pass 0 to switch buffering off (only allowed in binary mode), 1 to select\n",
      "    line buffering (only usable in text mode), and an integer > 1 to indicate\n",
      "    the size of a fixed-size chunk buffer.  When no buffering argument is\n",
      "    given, the default buffering policy works as follows:\n",
      "    \n",
      "    * Binary files are buffered in fixed-size chunks; the size of the buffer\n",
      "      is chosen using a heuristic trying to determine the underlying device's\n",
      "      \"block size\" and falling back on `io.DEFAULT_BUFFER_SIZE`.\n",
      "      On many systems, the buffer will typically be 4096 or 8192 bytes long.\n",
      "    \n",
      "    * \"Interactive\" text files (files for which isatty() returns True)\n",
      "      use line buffering.  Other text files use the policy described above\n",
      "      for binary files.\n",
      "    \n",
      "    encoding is the name of the encoding used to decode or encode the\n",
      "    file. This should only be used in text mode. The default encoding is\n",
      "    platform dependent, but any encoding supported by Python can be\n",
      "    passed.  See the codecs module for the list of supported encodings.\n",
      "    \n",
      "    errors is an optional string that specifies how encoding errors are to\n",
      "    be handled---this argument should not be used in binary mode. Pass\n",
      "    'strict' to raise a ValueError exception if there is an encoding error\n",
      "    (the default of None has the same effect), or pass 'ignore' to ignore\n",
      "    errors. (Note that ignoring encoding errors can lead to data loss.)\n",
      "    See the documentation for codecs.register or run 'help(codecs.Codec)'\n",
      "    for a list of the permitted encoding error strings.\n",
      "    \n",
      "    newline controls how universal newlines works (it only applies to text\n",
      "    mode). It can be None, '', '\\n', '\\r', and '\\r\\n'.  It works as\n",
      "    follows:\n",
      "    \n",
      "    * On input, if newline is None, universal newlines mode is\n",
      "      enabled. Lines in the input can end in '\\n', '\\r', or '\\r\\n', and\n",
      "      these are translated into '\\n' before being returned to the\n",
      "      caller. If it is '', universal newline mode is enabled, but line\n",
      "      endings are returned to the caller untranslated. If it has any of\n",
      "      the other legal values, input lines are only terminated by the given\n",
      "      string, and the line ending is returned to the caller untranslated.\n",
      "    \n",
      "    * On output, if newline is None, any '\\n' characters written are\n",
      "      translated to the system default line separator, os.linesep. If\n",
      "      newline is '' or '\\n', no translation takes place. If newline is any\n",
      "      of the other legal values, any '\\n' characters written are translated\n",
      "      to the given string.\n",
      "    \n",
      "    If closefd is False, the underlying file descriptor will be kept open\n",
      "    when the file is closed. This does not work when a file name is given\n",
      "    and must be True in that case.\n",
      "    \n",
      "    A custom opener can be used by passing a callable as *opener*. The\n",
      "    underlying file descriptor for the file object is then obtained by\n",
      "    calling *opener* with (*file*, *flags*). *opener* must return an open\n",
      "    file descriptor (passing os.open as *opener* results in functionality\n",
      "    similar to passing None).\n",
      "    \n",
      "    open() returns a file object whose type depends on the mode, and\n",
      "    through which the standard file operations such as reading and writing\n",
      "    are performed. When open() is used to open a file in a text mode ('w',\n",
      "    'r', 'wt', 'rt', etc.), it returns a TextIOWrapper. When used to open\n",
      "    a file in a binary mode, the returned class varies: in read binary\n",
      "    mode, it returns a BufferedReader; in write binary and append binary\n",
      "    modes, it returns a BufferedWriter, and in read/write mode, it returns\n",
      "    a BufferedRandom.\n",
      "    \n",
      "    It is also possible to use a string or bytearray as a file for both\n",
      "    reading and writing. For strings StringIO can be used like a file\n",
      "    opened in a text mode, and for bytes a BytesIO can be used like a file\n",
      "    opened in a binary mode.\n",
      "\n"
     ]
    }
   ],
   "source": [
    "help(open)"
   ]
  },
  {
   "cell_type": "code",
   "execution_count": 94,
   "id": "a51316c9",
   "metadata": {},
   "outputs": [
    {
     "name": "stdout",
     "output_type": "stream",
     "text": [
      "Help on function personal_info6 in module __main__:\n",
      "\n",
      "personal_info6(idx, address='비공개', *args, **kwargs)\n",
      "\n"
     ]
    }
   ],
   "source": [
    "help(personal_info6)"
   ]
  },
  {
   "cell_type": "code",
   "execution_count": 95,
   "id": "4998c1c1",
   "metadata": {},
   "outputs": [],
   "source": [
    "def add(a, b):\n",
    "    \"\"\"\n",
    "    이 함수는 a와 b를 더한 뒤 결과를 반환하는 함수입니다.\n",
    "    \"\"\"\n",
    "    return a + b"
   ]
  },
  {
   "cell_type": "code",
   "execution_count": 96,
   "id": "3f6476fe",
   "metadata": {},
   "outputs": [
    {
     "name": "stdout",
     "output_type": "stream",
     "text": [
      "Help on function add in module __main__:\n",
      "\n",
      "add(a, b)\n",
      "    이 함수는 a와 b를 더한 뒤 결과를 반환하는 함수입니다.\n",
      "\n"
     ]
    }
   ],
   "source": [
    "help(add)"
   ]
  },
  {
   "cell_type": "markdown",
   "id": "538abaf8",
   "metadata": {},
   "source": [
    "# 람다 표현식(lambda expression)\n",
    "* 익명 함수(함수 이름이 없음)\n",
    "* 간단한 함수를 작성하거나 다른 함수의 인수로 함수를 넣을 때 사용\n",
    "* 사용 후 메모리에서 삭제\n",
    "* lambda 매개변수: return할 값, 계산 "
   ]
  },
  {
   "cell_type": "code",
   "execution_count": 98,
   "id": "df7533b1",
   "metadata": {},
   "outputs": [],
   "source": [
    "# print(globals())"
   ]
  },
  {
   "cell_type": "code",
   "execution_count": 99,
   "id": "9a0b4320",
   "metadata": {},
   "outputs": [],
   "source": [
    "# 자료 1개를 입력받아 10을 더해서 리턴하는 함수\n",
    "def plus_ten(x):\n",
    "    return x + 10"
   ]
  },
  {
   "cell_type": "code",
   "execution_count": 100,
   "id": "f5489d42",
   "metadata": {},
   "outputs": [
    {
     "data": {
      "text/plain": [
       "15"
      ]
     },
     "execution_count": 100,
     "metadata": {},
     "output_type": "execute_result"
    }
   ],
   "source": [
    "plus_ten(5)"
   ]
  },
  {
   "cell_type": "code",
   "execution_count": 107,
   "id": "c237e1c8",
   "metadata": {},
   "outputs": [
    {
     "data": {
      "text/plain": [
       "15"
      ]
     },
     "execution_count": 107,
     "metadata": {},
     "output_type": "execute_result"
    }
   ],
   "source": [
    "(lambda x: x+10)(5)"
   ]
  },
  {
   "cell_type": "code",
   "execution_count": 111,
   "id": "01da0b84",
   "metadata": {},
   "outputs": [
    {
     "data": {
      "text/plain": [
       "'홀수'"
      ]
     },
     "execution_count": 111,
     "metadata": {},
     "output_type": "execute_result"
    }
   ],
   "source": [
    "# 숫자를 넣어서 홀수 짝수 구분하는 람다함수\n",
    "(lambda x: \"짝수\" if x%2 == 0 else \"홀수\")(17)"
   ]
  },
  {
   "cell_type": "code",
   "execution_count": 105,
   "id": "3d68a76c",
   "metadata": {},
   "outputs": [],
   "source": [
    "plus_five = (lambda x: x+10)"
   ]
  },
  {
   "cell_type": "code",
   "execution_count": 112,
   "id": "413791eb",
   "metadata": {},
   "outputs": [
    {
     "data": {
      "text/plain": [
       "15"
      ]
     },
     "execution_count": 112,
     "metadata": {},
     "output_type": "execute_result"
    }
   ],
   "source": [
    "plus_five(5)"
   ]
  },
  {
   "cell_type": "markdown",
   "id": "c8571cf9",
   "metadata": {},
   "source": [
    "* 1에서 10까지의 숫자 중에서 3의 배수만 문자열로 바꾸기"
   ]
  },
  {
   "cell_type": "code",
   "execution_count": 116,
   "id": "71d18425",
   "metadata": {},
   "outputs": [],
   "source": [
    "def tostr(x):\n",
    "    result=[] # 빈 리스트 만들기\n",
    "    for i in x:\n",
    "        if i % 3 == 0:\n",
    "            result.append(str(i)) # 3의 배수만 문자로 변환\n",
    "        else:\n",
    "            result.append(i)\n",
    "    return result"
   ]
  },
  {
   "cell_type": "code",
   "execution_count": 117,
   "id": "24ed432b",
   "metadata": {},
   "outputs": [
    {
     "name": "stdout",
     "output_type": "stream",
     "text": [
      "[1, 2, '3', 4, 5, '6', 7, 8, '9', 10]\n"
     ]
    }
   ],
   "source": [
    "result_str = tostr(list(range(1, 11)))\n",
    "print(result_str)"
   ]
  },
  {
   "cell_type": "code",
   "execution_count": 125,
   "id": "98801740",
   "metadata": {},
   "outputs": [
    {
     "name": "stdout",
     "output_type": "stream",
     "text": [
      "Help on class map in module builtins:\n",
      "\n",
      "class map(object)\n",
      " |  map(func, *iterables) --> map object\n",
      " |  \n",
      " |  Make an iterator that computes the function using arguments from\n",
      " |  each of the iterables.  Stops when the shortest iterable is exhausted.\n",
      " |  \n",
      " |  Methods defined here:\n",
      " |  \n",
      " |  __getattribute__(self, name, /)\n",
      " |      Return getattr(self, name).\n",
      " |  \n",
      " |  __iter__(self, /)\n",
      " |      Implement iter(self).\n",
      " |  \n",
      " |  __next__(self, /)\n",
      " |      Implement next(self).\n",
      " |  \n",
      " |  __reduce__(...)\n",
      " |      Return state information for pickling.\n",
      " |  \n",
      " |  ----------------------------------------------------------------------\n",
      " |  Static methods defined here:\n",
      " |  \n",
      " |  __new__(*args, **kwargs) from builtins.type\n",
      " |      Create and return a new object.  See help(type) for accurate signature.\n",
      "\n"
     ]
    }
   ],
   "source": [
    "help(map)"
   ]
  },
  {
   "cell_type": "code",
   "execution_count": 127,
   "id": "d558853b",
   "metadata": {},
   "outputs": [
    {
     "data": {
      "text/plain": [
       "'18'"
      ]
     },
     "execution_count": 127,
     "metadata": {},
     "output_type": "execute_result"
    }
   ],
   "source": [
    "(lambda x: str(x) if x % 3 == 0 else x)(18)"
   ]
  },
  {
   "cell_type": "code",
   "execution_count": 124,
   "id": "5c24827d",
   "metadata": {},
   "outputs": [
    {
     "name": "stdout",
     "output_type": "stream",
     "text": [
      "<class 'str'>\n"
     ]
    },
    {
     "data": {
      "text/plain": [
       "['1', '2', '3', '4', '5', '6', '7', '8', '9', '10']"
      ]
     },
     "execution_count": 124,
     "metadata": {},
     "output_type": "execute_result"
    }
   ],
   "source": [
    "a = list(map(str, list(range(1, 11))))\n",
    "print(type(a[0]))\n",
    "a"
   ]
  },
  {
   "cell_type": "code",
   "execution_count": 129,
   "id": "2fd8501d",
   "metadata": {},
   "outputs": [
    {
     "name": "stdout",
     "output_type": "stream",
     "text": [
      "<class 'int'>\n"
     ]
    },
    {
     "data": {
      "text/plain": [
       "[1, 2, '3', 4, 5, '6', 7, 8, '9', 10]"
      ]
     },
     "execution_count": 129,
     "metadata": {},
     "output_type": "execute_result"
    }
   ],
   "source": [
    "a = list(map((lambda x: str(x) if x % 3 == 0 else x), list(range(1, 11))))\n",
    "print(type(a[0]))\n",
    "a"
   ]
  },
  {
   "cell_type": "code",
   "execution_count": 131,
   "id": "93aae854",
   "metadata": {},
   "outputs": [
    {
     "ename": "TypeError",
     "evalue": "'int' object is not iterable",
     "output_type": "error",
     "traceback": [
      "\u001b[1;31m---------------------------------------------------------------------------\u001b[0m",
      "\u001b[1;31mTypeError\u001b[0m                                 Traceback (most recent call last)",
      "Cell \u001b[1;32mIn[131], line 1\u001b[0m\n\u001b[1;32m----> 1\u001b[0m a \u001b[38;5;241m=\u001b[39m \u001b[38;5;28;43mlist\u001b[39;49m\u001b[43m(\u001b[49m\u001b[38;5;28;43mmap\u001b[39;49m\u001b[43m(\u001b[49m\u001b[43mtostr\u001b[49m\u001b[43m,\u001b[49m\u001b[43m \u001b[49m\u001b[38;5;28;43mlist\u001b[39;49m\u001b[43m(\u001b[49m\u001b[38;5;28;43mrange\u001b[39;49m\u001b[43m(\u001b[49m\u001b[38;5;241;43m1\u001b[39;49m\u001b[43m,\u001b[49m\u001b[43m \u001b[49m\u001b[38;5;241;43m11\u001b[39;49m\u001b[43m)\u001b[49m\u001b[43m)\u001b[49m\u001b[43m)\u001b[49m\u001b[43m)\u001b[49m\n\u001b[0;32m      2\u001b[0m \u001b[38;5;28mprint\u001b[39m(result_str)\n",
      "Cell \u001b[1;32mIn[116], line 3\u001b[0m, in \u001b[0;36mtostr\u001b[1;34m(x)\u001b[0m\n\u001b[0;32m      1\u001b[0m \u001b[38;5;28;01mdef\u001b[39;00m\u001b[38;5;250m \u001b[39m\u001b[38;5;21mtostr\u001b[39m(x):\n\u001b[0;32m      2\u001b[0m     result\u001b[38;5;241m=\u001b[39m[] \u001b[38;5;66;03m# 빈 리스트 만들기\u001b[39;00m\n\u001b[1;32m----> 3\u001b[0m     \u001b[38;5;28;01mfor\u001b[39;00m i \u001b[38;5;129;01min\u001b[39;00m x:\n\u001b[0;32m      4\u001b[0m         \u001b[38;5;28;01mif\u001b[39;00m i \u001b[38;5;241m%\u001b[39m \u001b[38;5;241m3\u001b[39m \u001b[38;5;241m==\u001b[39m \u001b[38;5;241m0\u001b[39m:\n\u001b[0;32m      5\u001b[0m             result\u001b[38;5;241m.\u001b[39mappend(\u001b[38;5;28mstr\u001b[39m(i)) \u001b[38;5;66;03m# 3의 배수만 문자로 변환\u001b[39;00m\n",
      "\u001b[1;31mTypeError\u001b[0m: 'int' object is not iterable"
     ]
    }
   ],
   "source": [
    "a = list(map(tostr, list(range(1, 11))))\n",
    "print(result_str)"
   ]
  },
  {
   "cell_type": "code",
   "execution_count": 132,
   "id": "cb1de9d9",
   "metadata": {},
   "outputs": [],
   "source": [
    "a = [1,2,3,4,5]\n",
    "b = [2,4,6,8,10]\n",
    "c = [3,6,9,12,15]"
   ]
  },
  {
   "cell_type": "code",
   "execution_count": 133,
   "id": "7dd4bd74",
   "metadata": {},
   "outputs": [
    {
     "data": {
      "text/plain": [
       "[6, 48, 162, 384, 750]"
      ]
     },
     "execution_count": 133,
     "metadata": {},
     "output_type": "execute_result"
    }
   ],
   "source": [
    "result = []\n",
    "for x, y, z in zip(a, b, c):\n",
    "    result.append(x * y * z)\n",
    "result"
   ]
  },
  {
   "cell_type": "code",
   "execution_count": 135,
   "id": "28bcd6aa",
   "metadata": {},
   "outputs": [
    {
     "data": {
      "text/plain": [
       "[6, 48, 162, 384, 750]"
      ]
     },
     "execution_count": 135,
     "metadata": {},
     "output_type": "execute_result"
    }
   ],
   "source": [
    "list(map(lambda x, y, z: x * y * z, a, b, c))"
   ]
  },
  {
   "cell_type": "code",
   "execution_count": null,
   "id": "b18ff622",
   "metadata": {},
   "outputs": [],
   "source": []
  }
 ],
 "metadata": {
  "kernelspec": {
   "display_name": "Python 3 (ipykernel)",
   "language": "python",
   "name": "python3"
  },
  "language_info": {
   "codemirror_mode": {
    "name": "ipython",
    "version": 3
   },
   "file_extension": ".py",
   "mimetype": "text/x-python",
   "name": "python",
   "nbconvert_exporter": "python",
   "pygments_lexer": "ipython3",
   "version": "3.9.21"
  }
 },
 "nbformat": 4,
 "nbformat_minor": 5
}
