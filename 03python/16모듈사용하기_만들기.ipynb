{
 "cells": [
  {
   "cell_type": "markdown",
   "id": "6591d9b6",
   "metadata": {},
   "source": [
    "# 모듈 사용하기\n",
    "* 누군가가 미리 사용하기 편하게 만들어 놓은 함수, 클래스\n",
    "* import 명령을 통해서 프로그램 가장 위에서 모듈을 불러와 사용 할 수 있음\n",
    "* 모듈에 너무 많은 기능이 있는 경우 from 모듈명 import 함수/메서드명 형식으로 일부 기능만 불러올 수 있음\n",
    "* 모듈은 사용자가 직접 만들 수도 있음\n",
    "* 사용자 모듈을 불러올 때는 실행하는 파일과 같은 위치에 있어야 함"
   ]
  },
  {
   "cell_type": "markdown",
   "id": "5abc5a06",
   "metadata": {},
   "source": [
    "# datetime 모듈 사용하기"
   ]
  },
  {
   "cell_type": "code",
   "execution_count": 3,
   "id": "1e5606d8",
   "metadata": {},
   "outputs": [],
   "source": [
    "from datetime import datetime "
   ]
  },
  {
   "cell_type": "code",
   "execution_count": 11,
   "id": "ea43f94b",
   "metadata": {},
   "outputs": [
    {
     "data": {
      "text/plain": [
       "datetime.datetime(2025, 3, 28, 16, 28, 32, 411905)"
      ]
     },
     "execution_count": 11,
     "metadata": {},
     "output_type": "execute_result"
    }
   ],
   "source": [
    "datetime.now()"
   ]
  },
  {
   "cell_type": "code",
   "execution_count": 13,
   "id": "e5e48084",
   "metadata": {},
   "outputs": [],
   "source": [
    "now = datetime.now()"
   ]
  },
  {
   "cell_type": "code",
   "execution_count": 14,
   "id": "a8a900ba",
   "metadata": {},
   "outputs": [
    {
     "data": {
      "text/plain": [
       "2025"
      ]
     },
     "execution_count": 14,
     "metadata": {},
     "output_type": "execute_result"
    }
   ],
   "source": [
    "now.year"
   ]
  },
  {
   "cell_type": "code",
   "execution_count": 15,
   "id": "51ff5c00",
   "metadata": {},
   "outputs": [
    {
     "data": {
      "text/plain": [
       "datetime.datetime(2025, 3, 28, 16, 28, 50, 314409)"
      ]
     },
     "execution_count": 15,
     "metadata": {},
     "output_type": "execute_result"
    }
   ],
   "source": [
    "now"
   ]
  },
  {
   "cell_type": "code",
   "execution_count": 16,
   "id": "eb2a57d4",
   "metadata": {},
   "outputs": [
    {
     "data": {
      "text/plain": [
       "3"
      ]
     },
     "execution_count": 16,
     "metadata": {},
     "output_type": "execute_result"
    }
   ],
   "source": [
    "now.month"
   ]
  },
  {
   "cell_type": "code",
   "execution_count": 18,
   "id": "3167de1b",
   "metadata": {},
   "outputs": [
    {
     "data": {
      "text/plain": [
       "28"
      ]
     },
     "execution_count": 18,
     "metadata": {},
     "output_type": "execute_result"
    }
   ],
   "source": [
    "now.day"
   ]
  },
  {
   "cell_type": "code",
   "execution_count": 21,
   "id": "e63d5936",
   "metadata": {},
   "outputs": [
    {
     "data": {
      "text/plain": [
       "16"
      ]
     },
     "execution_count": 21,
     "metadata": {},
     "output_type": "execute_result"
    }
   ],
   "source": [
    "now.hour"
   ]
  },
  {
   "cell_type": "code",
   "execution_count": 22,
   "id": "07e85c96",
   "metadata": {},
   "outputs": [
    {
     "data": {
      "text/plain": [
       "28"
      ]
     },
     "execution_count": 22,
     "metadata": {},
     "output_type": "execute_result"
    }
   ],
   "source": [
    "now.minute"
   ]
  },
  {
   "cell_type": "code",
   "execution_count": 24,
   "id": "298f702f",
   "metadata": {},
   "outputs": [
    {
     "data": {
      "text/plain": [
       "50"
      ]
     },
     "execution_count": 24,
     "metadata": {},
     "output_type": "execute_result"
    }
   ],
   "source": [
    "now.second"
   ]
  },
  {
   "cell_type": "code",
   "execution_count": 26,
   "id": "2ac3e392",
   "metadata": {},
   "outputs": [
    {
     "data": {
      "text/plain": [
       "50"
      ]
     },
     "execution_count": 26,
     "metadata": {},
     "output_type": "execute_result"
    }
   ],
   "source": [
    "now.second"
   ]
  },
  {
   "cell_type": "markdown",
   "id": "987c3848",
   "metadata": {},
   "source": [
    "시간을 포멧에 맞춰 출력하기"
   ]
  },
  {
   "cell_type": "code",
   "execution_count": 30,
   "id": "9026b23f",
   "metadata": {},
   "outputs": [
    {
     "data": {
      "text/plain": [
       "'2025.03.28 16:28:50'"
      ]
     },
     "execution_count": 30,
     "metadata": {},
     "output_type": "execute_result"
    }
   ],
   "source": [
    "now.strftime(\"%Y.%m.%d %H:%M:%S\")"
   ]
  },
  {
   "cell_type": "markdown",
   "id": "781a4e79",
   "metadata": {},
   "source": [
    "# OS 모듈"
   ]
  },
  {
   "cell_type": "code",
   "execution_count": 31,
   "id": "4e7d9da0",
   "metadata": {},
   "outputs": [],
   "source": [
    "import os"
   ]
  },
  {
   "cell_type": "code",
   "execution_count": 34,
   "id": "d02e0a50",
   "metadata": {},
   "outputs": [
    {
     "name": "stdout",
     "output_type": "stream",
     "text": [
      "현재 운영체제:  nt\n",
      "현재 사용하는 폴더:  C:\\fintech\\03python\n",
      "현재 폴더 내부의 파일 리스트:  ['.ipynb_checkpoints', '01주피터노트북사용법.ipynb', '02파이썬문법기초.ipynb', '03파이썬의_자료형.ipynb', '04연산자의_종류와_활용.ipynb', '05문자열과_문자열함수.ipynb', '06리스트와_튜플_사용하기.ipynb', '07딕셔너리_사용하기.ipynb', '08서식지정자와_문자열_포멧팅.ipynb', '09_if_else조건문.ipynb', '10반복문_for_while.ipynb', '11리스트표현식_파일읽기쓰기.ipynb', '12-1데이터언패킹.ipynb', '12JSON데이터언패킹,csv파일로만들기.ipynb', '13함수만들기_예외처리.ipynb', '14JSON언패킹2_호텔스닷컴리뷰_자료정리하기.ipynb', '15클래스만들기.ipynb', '16모듈사용하기_만들기.ipynb', 'data', 'test.txt', 'test2.txt', 'test_utf-8.txt', '반복문 연습.ipynb', '연습문제_01_print_자료형_연산자.ipynb', '연습문제_02_문자열_리스트.ipynb', '연습문제_03_리스트_튜플_20문제.ipynb', '연습문제_04_딕셔너리_30문제.ipynb', '연습문제_05_딕셔너리_조건문_반복문연습문제.ipynb', '위키독스 파이썬 300제.ipynb', '호텔스닷컴리뷰.csv', '호텔스닷컴리뷰정리.txt', '호텔정보.csv']\n"
     ]
    }
   ],
   "source": [
    "# 내가 사용하는 컴퓨터의 기본 정보 출력하기\n",
    "print(\"현재 운영체제: \", os.name)\n",
    "print(\"현재 사용하는 폴더: \", os.getcwd())\n",
    "print(\"현재 폴더 내부의 파일 리스트: \", os.listdir())"
   ]
  },
  {
   "cell_type": "code",
   "execution_count": 35,
   "id": "d0ac24ae",
   "metadata": {},
   "outputs": [
    {
     "name": "stdout",
     "output_type": "stream",
     "text": [
      ".ipynb_checkpoints\n",
      "01주피터노트북사용법.ipynb\n",
      "02파이썬문법기초.ipynb\n",
      "03파이썬의_자료형.ipynb\n",
      "04연산자의_종류와_활용.ipynb\n",
      "05문자열과_문자열함수.ipynb\n",
      "06리스트와_튜플_사용하기.ipynb\n",
      "07딕셔너리_사용하기.ipynb\n",
      "08서식지정자와_문자열_포멧팅.ipynb\n",
      "09_if_else조건문.ipynb\n",
      "10반복문_for_while.ipynb\n",
      "11리스트표현식_파일읽기쓰기.ipynb\n",
      "12-1데이터언패킹.ipynb\n",
      "12JSON데이터언패킹,csv파일로만들기.ipynb\n",
      "13함수만들기_예외처리.ipynb\n",
      "14JSON언패킹2_호텔스닷컴리뷰_자료정리하기.ipynb\n",
      "15클래스만들기.ipynb\n",
      "16모듈사용하기_만들기.ipynb\n",
      "data\n",
      "test.txt\n",
      "test2.txt\n",
      "test_utf-8.txt\n",
      "반복문 연습.ipynb\n",
      "연습문제_01_print_자료형_연산자.ipynb\n",
      "연습문제_02_문자열_리스트.ipynb\n",
      "연습문제_03_리스트_튜플_20문제.ipynb\n",
      "연습문제_04_딕셔너리_30문제.ipynb\n",
      "연습문제_05_딕셔너리_조건문_반복문연습문제.ipynb\n",
      "위키독스 파이썬 300제.ipynb\n",
      "호텔스닷컴리뷰.csv\n",
      "호텔스닷컴리뷰정리.txt\n",
      "호텔정보.csv\n"
     ]
    }
   ],
   "source": [
    "for i in os.listdir():\n",
    "    print(i)"
   ]
  },
  {
   "cell_type": "code",
   "execution_count": 40,
   "id": "eeae3ed8",
   "metadata": {
    "scrolled": true
   },
   "outputs": [
    {
     "name": "stdout",
     "output_type": "stream",
     "text": [
      "test.txt\n"
     ]
    },
    {
     "ename": "UnicodeDecodeError",
     "evalue": "'utf-8' codec can't decode byte 0xc6 in position 0: invalid continuation byte",
     "output_type": "error",
     "traceback": [
      "\u001b[1;31m--------------------------------------------------------------------\u001b[0m",
      "\u001b[1;31mUnicodeDecodeError\u001b[0m                 Traceback (most recent call last)",
      "Cell \u001b[1;32mIn[40], line 8\u001b[0m\n\u001b[0;32m      6\u001b[0m \u001b[38;5;28mprint\u001b[39m(i)\n\u001b[0;32m      7\u001b[0m \u001b[38;5;28;01mwith\u001b[39;00m \u001b[38;5;28mopen\u001b[39m(i, encoding\u001b[38;5;241m=\u001b[39m\u001b[38;5;124m\"\u001b[39m\u001b[38;5;124mutf-8\u001b[39m\u001b[38;5;124m\"\u001b[39m) \u001b[38;5;28;01mas\u001b[39;00m file:\n\u001b[1;32m----> 8\u001b[0m     data \u001b[38;5;241m=\u001b[39m \u001b[43mfile\u001b[49m\u001b[38;5;241;43m.\u001b[39;49m\u001b[43mread\u001b[49m\u001b[43m(\u001b[49m\u001b[43m)\u001b[49m\n\u001b[0;32m      9\u001b[0m     filelist\u001b[38;5;241m.\u001b[39mappend(data)\n",
      "File \u001b[1;32m~\\miniforge3\\envs\\fintech\\lib\\codecs.py:322\u001b[0m, in \u001b[0;36mBufferedIncrementalDecoder.decode\u001b[1;34m(self, input, final)\u001b[0m\n\u001b[0;32m    319\u001b[0m \u001b[38;5;28;01mdef\u001b[39;00m\u001b[38;5;250m \u001b[39m\u001b[38;5;21mdecode\u001b[39m(\u001b[38;5;28mself\u001b[39m, \u001b[38;5;28minput\u001b[39m, final\u001b[38;5;241m=\u001b[39m\u001b[38;5;28;01mFalse\u001b[39;00m):\n\u001b[0;32m    320\u001b[0m     \u001b[38;5;66;03m# decode input (taking the buffer into account)\u001b[39;00m\n\u001b[0;32m    321\u001b[0m     data \u001b[38;5;241m=\u001b[39m \u001b[38;5;28mself\u001b[39m\u001b[38;5;241m.\u001b[39mbuffer \u001b[38;5;241m+\u001b[39m \u001b[38;5;28minput\u001b[39m\n\u001b[1;32m--> 322\u001b[0m     (result, consumed) \u001b[38;5;241m=\u001b[39m \u001b[38;5;28;43mself\u001b[39;49m\u001b[38;5;241;43m.\u001b[39;49m\u001b[43m_buffer_decode\u001b[49m\u001b[43m(\u001b[49m\u001b[43mdata\u001b[49m\u001b[43m,\u001b[49m\u001b[43m \u001b[49m\u001b[38;5;28;43mself\u001b[39;49m\u001b[38;5;241;43m.\u001b[39;49m\u001b[43merrors\u001b[49m\u001b[43m,\u001b[49m\u001b[43m \u001b[49m\u001b[43mfinal\u001b[49m\u001b[43m)\u001b[49m\n\u001b[0;32m    323\u001b[0m     \u001b[38;5;66;03m# keep undecoded input until the next call\u001b[39;00m\n\u001b[0;32m    324\u001b[0m     \u001b[38;5;28mself\u001b[39m\u001b[38;5;241m.\u001b[39mbuffer \u001b[38;5;241m=\u001b[39m data[consumed:]\n",
      "\u001b[1;31mUnicodeDecodeError\u001b[0m: 'utf-8' codec can't decode byte 0xc6 in position 0: invalid continuation byte"
     ]
    }
   ],
   "source": [
    "filelist = []\n",
    "\n",
    "for i in os.listdir():\n",
    "#     print(i)\n",
    "    if i[-3:] == \"txt\":\n",
    "        print(i)\n",
    "        with open(i, encoding=\"utf-8\") as file:\n",
    "            data = file.read()\n",
    "            filelist.append(data)"
   ]
  },
  {
   "cell_type": "code",
   "execution_count": 45,
   "id": "c96fe3af",
   "metadata": {},
   "outputs": [],
   "source": [
    "# 현재 위치에서 폴더 만들기\n",
    "os.mkdir(\"testdir\")"
   ]
  },
  {
   "cell_type": "code",
   "execution_count": 46,
   "id": "3b037e30",
   "metadata": {},
   "outputs": [],
   "source": [
    "# 현재 위치에서 폴더 삭제하기\n",
    "os.rmdir(\"testdir\")"
   ]
  },
  {
   "cell_type": "code",
   "execution_count": 48,
   "id": "87bcd95e",
   "metadata": {},
   "outputs": [
    {
     "data": {
      "text/plain": [
       "0"
      ]
     },
     "execution_count": 48,
     "metadata": {},
     "output_type": "execute_result"
    }
   ],
   "source": [
    "# cmd 명령어 실행하기\n",
    "os.system(\"dir\")"
   ]
  },
  {
   "cell_type": "code",
   "execution_count": 49,
   "id": "8d085784",
   "metadata": {},
   "outputs": [
    {
     "ename": "SyntaxError",
     "evalue": "invalid syntax (2198240606.py, line 2)",
     "output_type": "error",
     "traceback": [
      "\u001b[1;36m  Cell \u001b[1;32mIn[49], line 2\u001b[1;36m\u001b[0m\n\u001b[1;33m    with open(\"original.txt\")\u001b[0m\n\u001b[1;37m                             ^\u001b[0m\n\u001b[1;31mSyntaxError\u001b[0m\u001b[1;31m:\u001b[0m invalid syntax\n"
     ]
    }
   ],
   "source": [
    "# 파일을 생성하고 파일이름 변경하기\n",
    "with open(\"original.txt\", \"w\") as file:\n",
    "    file.write(\"안녕하세요\")\n",
    "    "
   ]
  },
  {
   "cell_type": "code",
   "execution_count": null,
   "id": "149fdb98",
   "metadata": {},
   "outputs": [],
   "source": [
    "os.rename(\"original.txt\", \"new.txt\")"
   ]
  },
  {
   "cell_type": "markdown",
   "id": "60cb62c5",
   "metadata": {},
   "source": [
    "# 폴더가 있는지 확인, 없으면 폴더 생성\n"
   ]
  },
  {
   "cell_type": "code",
   "execution_count": 52,
   "id": "67e7e892",
   "metadata": {},
   "outputs": [
    {
     "name": "stdout",
     "output_type": "stream",
     "text": [
      "testdir이 이미 있습니다.\n"
     ]
    }
   ],
   "source": [
    "if not os.path.exists(\"./testdir\"):\n",
    "    os.mkdir(\"testdir\")\n",
    "    \n",
    "else:\n",
    "    print(\"testdir이 이미 있습니다.\")"
   ]
  },
  {
   "cell_type": "code",
   "execution_count": 53,
   "id": "067e6319",
   "metadata": {},
   "outputs": [
    {
     "name": "stdout",
     "output_type": "stream",
     "text": [
      "value\n"
     ]
    }
   ],
   "source": [
    "# 환경변수에 변수와 값 추가하기\n",
    "os.environ['key'] = \"value\"\n",
    "print(os.environ.get('key'))"
   ]
  },
  {
   "cell_type": "code",
   "execution_count": 54,
   "id": "95bc013c",
   "metadata": {
    "scrolled": true
   },
   "outputs": [
    {
     "name": "stdout",
     "output_type": "stream",
     "text": [
      "None\n"
     ]
    }
   ],
   "source": [
    "print(os.environ.get('conda'))"
   ]
  },
  {
   "cell_type": "code",
   "execution_count": 1,
   "id": "c0c5c832",
   "metadata": {},
   "outputs": [],
   "source": [
    "from myfunc import*"
   ]
  },
  {
   "cell_type": "code",
   "execution_count": 2,
   "id": "0fb1d8ab",
   "metadata": {},
   "outputs": [
    {
     "data": {
      "text/plain": [
       "7"
      ]
     },
     "execution_count": 2,
     "metadata": {},
     "output_type": "execute_result"
    }
   ],
   "source": [
    "add(3, 4)"
   ]
  },
  {
   "cell_type": "code",
   "execution_count": 6,
   "id": "0fe0229f",
   "metadata": {},
   "outputs": [],
   "source": [
    "sam = Cal(3, 4)"
   ]
  },
  {
   "cell_type": "code",
   "execution_count": 7,
   "id": "c820ac4a",
   "metadata": {},
   "outputs": [
    {
     "data": {
      "text/plain": [
       "7"
      ]
     },
     "execution_count": 7,
     "metadata": {},
     "output_type": "execute_result"
    }
   ],
   "source": [
    "sam.add()"
   ]
  },
  {
   "cell_type": "code",
   "execution_count": 8,
   "id": "539bcc3c",
   "metadata": {},
   "outputs": [
    {
     "data": {
      "text/plain": [
       "-1"
      ]
     },
     "execution_count": 8,
     "metadata": {},
     "output_type": "execute_result"
    }
   ],
   "source": [
    "sam.sub()"
   ]
  },
  {
   "cell_type": "code",
   "execution_count": null,
   "id": "bd2b4b0f",
   "metadata": {},
   "outputs": [],
   "source": []
  }
 ],
 "metadata": {
  "kernelspec": {
   "display_name": "Python 3 (ipykernel)",
   "language": "python",
   "name": "python3"
  },
  "language_info": {
   "codemirror_mode": {
    "name": "ipython",
    "version": 3
   },
   "file_extension": ".py",
   "mimetype": "text/x-python",
   "name": "python",
   "nbconvert_exporter": "python",
   "pygments_lexer": "ipython3",
   "version": "3.9.21"
  }
 },
 "nbformat": 4,
 "nbformat_minor": 5
}
