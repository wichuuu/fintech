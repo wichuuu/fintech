{
 "cells": [
  {
   "cell_type": "markdown",
   "id": "c918d685",
   "metadata": {},
   "source": [
    "## 1. 조건문이란? 특정 조건을 판별해서 작업을 분리시키는 문법"
   ]
  },
  {
   "cell_type": "markdown",
   "id": "803b9f73",
   "metadata": {},
   "source": [
    "if 조건식 <br>\n",
    "____조건이 참일 때 실행할 코드 <br>\n",
    "else: <br>\n",
    "____조건이 거짓일 때 실행할 코드"
   ]
  },
  {
   "cell_type": "code",
   "execution_count": 3,
   "id": "bab3cd3c",
   "metadata": {},
   "outputs": [],
   "source": [
    "x = 10"
   ]
  },
  {
   "cell_type": "code",
   "execution_count": null,
   "id": "90e106b8",
   "metadata": {},
   "outputs": [],
   "source": [
    "if x == 10:\n",
    "    print(f\"{x}는, 10입니다.\")\n",
    "else:\n",
    "    print(f\"{x}는, 10이 아닙니다.\")"
   ]
  },
  {
   "cell_type": "code",
   "execution_count": null,
   "id": "3cbab6cd",
   "metadata": {},
   "outputs": [],
   "source": [
    "l1 = ['파이썬', \"조건문\", 10, 15.3, True, [1,2,3], (4,5,6), {\"key\":365}]"
   ]
  },
  {
   "cell_type": "code",
   "execution_count": 2,
   "id": "a0f0e80c",
   "metadata": {},
   "outputs": [
    {
     "name": "stdout",
     "output_type": "stream",
     "text": [
      "l1안에 파이썬이 있습니다.\n"
     ]
    }
   ],
   "source": [
    "if \"파이썬\" in l1:\n",
    "    print(\"l1안에 파이썬이 있습니다.\")"
   ]
  },
  {
   "cell_type": "code",
   "execution_count": 4,
   "id": "844d1c39",
   "metadata": {},
   "outputs": [
    {
     "name": "stdout",
     "output_type": "stream",
     "text": [
      "l1안에 파이썬이 있습니다.\n"
     ]
    }
   ],
   "source": [
    "if \"파이썬\" not in l1:\n",
    "    print(\"l1안에 파이썬이 없습니다.\")\n",
    "else:\n",
    "    print(\"l1안에 파이썬이 있습니다.\")"
   ]
  },
  {
   "cell_type": "markdown",
   "id": "4beb3af5",
   "metadata": {},
   "source": [
    "* 숫자를 입력받아 홀수인지 짝수인지 판단하는 프로그램"
   ]
  },
  {
   "cell_type": "code",
   "execution_count": 8,
   "id": "517b3474",
   "metadata": {},
   "outputs": [
    {
     "name": "stdout",
     "output_type": "stream",
     "text": [
      "숫자를 입력하세요444\n",
      "입력한 숫자 444는 짝수입니다.\n"
     ]
    }
   ],
   "source": [
    "x = input(\"숫자를 입력하세요\")\n",
    "if int(x) % 2 == 0:\n",
    "    print(f\"입력한 숫자 {x}는 짝수입니다.\") #참일 때\n",
    "else:\n",
    "    print(f\"입력한 숫자 {x}는 홀수입니다.\") #거짓일 때"
   ]
  },
  {
   "cell_type": "code",
   "execution_count": 14,
   "id": "c26106a5",
   "metadata": {},
   "outputs": [
    {
     "name": "stdout",
     "output_type": "stream",
     "text": [
      "8\n",
      "8는 0에서 10 사이에 있는 숫자이고 짝수입니다.\n"
     ]
    }
   ],
   "source": [
    "x = input()\n",
    "\n",
    "if 0<= int(x) <=10 and int(x) %2 == 0:\n",
    "    print(f\"{x}는 0에서 10 사이에 있는 숫자이고 짝수입니다.\")\n",
    "else:\n",
    "    print(f\"{x}는 0에서 10 사이에 있는 숫자가 아니고 홀수입니다.\")"
   ]
  },
  {
   "cell_type": "markdown",
   "id": "77109332",
   "metadata": {},
   "source": [
    "## 2. 다중 조건문 사용하기 elif\n",
    "if 조건식: <br>\n",
    "____조건이 참일 떼 실행할 코드 <br>\n",
    "elif 조건식2: <br>\n",
    "____조건식2가 참일 때 실행할 코드 <br>\n",
    "elif 조건식3: <br>\n",
    "____조건식3이 참일 때 실행할 코드 <br>\n",
    "else: <br>\n",
    "____조건식 1,2,3이 모두 거짓일 때 실행할 코드"
   ]
  },
  {
   "cell_type": "markdown",
   "id": "e3e573e9",
   "metadata": {},
   "source": [
    "* 점수를 입력받아서 81-100 A, 61-80 B, 41-60 C,21-40 D, 0-20 F 등급"
   ]
  },
  {
   "cell_type": "code",
   "execution_count": 7,
   "id": "3f00d4c2",
   "metadata": {},
   "outputs": [
    {
     "name": "stdout",
     "output_type": "stream",
     "text": [
      "점수를 입력하세요200\n",
      "숫자를 0-100 사이로 입력해주세요\n"
     ]
    }
   ],
   "source": [
    "score = int(input(\"점수를 입력하세요\"))\n",
    "if 0 <= score <= 100:\n",
    "    if 0 <= score <= 20:\n",
    "        print(f\"{score}는 F등급 입니다.\")\n",
    "    elif 21 <= score <= 40:\n",
    "        print(f\"{score}는 D등급 입니다.\")\n",
    "    elif 41 <= score <=60:\n",
    "        print(f\"{score}는 C등급 입니다.\")\n",
    "    elif 61 <= score <=80:\n",
    "        print(f\"{score}는 B등급 입니다.\")\n",
    "    elif 81 <= score <= 100:\n",
    "        print(f\"{score}는 A등급 입니다.\")\n",
    "else: \n",
    "    print(\"숫자를 0-100 사이로 입력해주세요\")"
   ]
  },
  {
   "cell_type": "markdown",
   "id": "85affd27",
   "metadata": {},
   "source": [
    "* 1-50 사이의 숫자를 입력받아서 3의 배수면 3의 배수입니다.\n",
    "* 3의 배수가 아니면 3의 배수가 아닙니다.\n",
    "    * 입력받기, 정수로 변환하기\n",
    "    * 1에서 50 사이의 숫자인가?\n",
    "    * 3의 배수인가? %3 == 0\n",
    "    * 출력"
   ]
  },
  {
   "cell_type": "code",
   "execution_count": 4,
   "id": "e082c09d",
   "metadata": {},
   "outputs": [
    {
     "name": "stdout",
     "output_type": "stream",
     "text": [
      "숫자를 입력하세요.30\n"
     ]
    },
    {
     "ename": "TypeError",
     "evalue": "'<=' not supported between instances of 'int' and 'set'",
     "output_type": "error",
     "traceback": [
      "\u001b[1;31m---------------------------------------------------------------------------\u001b[0m",
      "\u001b[1;31mTypeError\u001b[0m                                 Traceback (most recent call last)",
      "Cell \u001b[1;32mIn[4], line 3\u001b[0m\n\u001b[0;32m      1\u001b[0m x \u001b[38;5;241m=\u001b[39m \u001b[38;5;28mint\u001b[39m(\u001b[38;5;28minput\u001b[39m(\u001b[38;5;124m\"\u001b[39m\u001b[38;5;124m숫자를 입력하세요.\u001b[39m\u001b[38;5;124m\"\u001b[39m))\n\u001b[0;32m      2\u001b[0m \u001b[38;5;28;01mif\u001b[39;00m \u001b[38;5;241m1\u001b[39m \u001b[38;5;241m<\u001b[39m\u001b[38;5;241m=\u001b[39m \u001b[38;5;28mint\u001b[39m(x\u001b[38;5;241m%\u001b[39m\u001b[38;5;241m3\u001b[39m \u001b[38;5;241m==\u001b[39m \u001b[38;5;241m0\u001b[39m) \u001b[38;5;241m<\u001b[39m\u001b[38;5;241m=\u001b[39m \u001b[38;5;241m50\u001b[39m:\n\u001b[1;32m----> 3\u001b[0m     \u001b[38;5;28;01mif\u001b[39;00m \u001b[38;5;241m0\u001b[39m \u001b[38;5;241m<\u001b[39m\u001b[38;5;241m=\u001b[39m {\u001b[38;5;28mint\u001b[39m(x\u001b[38;5;241m%\u001b[39m\u001b[38;5;241m3\u001b[39m \u001b[38;5;241m==\u001b[39m \u001b[38;5;241m0\u001b[39m)} \u001b[38;5;241m<\u001b[39m\u001b[38;5;241m=\u001b[39m \u001b[38;5;241m50\u001b[39m:\n\u001b[0;32m      4\u001b[0m         \u001b[38;5;28mprint\u001b[39m(\u001b[38;5;124mf\u001b[39m\u001b[38;5;124m\"\u001b[39m\u001b[38;5;132;01m{\u001b[39;00mx\u001b[38;5;132;01m}\u001b[39;00m\u001b[38;5;124m은(는) 3의 배수입니다.\u001b[39m\u001b[38;5;124m\"\u001b[39m)\n\u001b[0;32m      5\u001b[0m     \u001b[38;5;28;01melif\u001b[39;00m \u001b[38;5;241m0\u001b[39m \u001b[38;5;241m<\u001b[39m\u001b[38;5;241m=\u001b[39m ({x}) \u001b[38;5;241m<\u001b[39m\u001b[38;5;241m=\u001b[39m \u001b[38;5;241m50\u001b[39m:\n",
      "\u001b[1;31mTypeError\u001b[0m: '<=' not supported between instances of 'int' and 'set'"
     ]
    }
   ],
   "source": [
    "num = int(input(\"정수로 숫자를 입력하세요.\"))\n",
    "if 1 <= int(x%3 == 0) <= 50:\n",
    "    if 0 <= {int(x%3 == 0)} <= 50:\n",
    "        print(f\"{x}은(는) 3의 배수입니다.\")\n",
    "    elif 0 <= ({x}) <= 50:\n",
    "        print(f\"{x}은(는) 3의 배수가 아닙니다.\")"
   ]
  },
  {
   "cell_type": "code",
   "execution_count": 11,
   "id": "151be4d3",
   "metadata": {},
   "outputs": [
    {
     "name": "stdout",
     "output_type": "stream",
     "text": [
      "정수로 숫자를 입력하세요81\n",
      "숫자를 1-50 사이의 정수로 입력해주세요.\n"
     ]
    }
   ],
   "source": [
    "num = int(input(\"정수로 숫자를 입력하세요\"))\n",
    "#print(num, type(num))\n",
    "if 1<= num <= 50:\n",
    "# print(\"숫자가 1-50 사이의 정수입니다.\")\n",
    "    if num % 3 == 0:\n",
    "        print(f\"{num}은 3의 배수입니다.\")\n",
    "    else:\n",
    "        print(f\"{num}은 3의 배수가 아닙니다.\")\n",
    "else:\n",
    "    print(\"숫자를 1-50 사이의 정수로 입력해주세요.\")"
   ]
  },
  {
   "cell_type": "markdown",
   "id": "28739ca6",
   "metadata": {},
   "source": [
    "## 3. 조건 표현식\n",
    "* 참일 때 실행 코드 if 조건 else 거짓일 때 실행 코드"
   ]
  },
  {
   "cell_type": "code",
   "execution_count": 15,
   "id": "593e872a",
   "metadata": {},
   "outputs": [
    {
     "name": "stdout",
     "output_type": "stream",
     "text": [
      "숫자를 입력하세요17\n",
      "홀수\n"
     ]
    }
   ],
   "source": [
    "# 일반적인 조건문\n",
    "num = int(input(\"숫자를 입력하세요\"))\n",
    "#print(num, type(num))\n",
    "if num % 2 == 0:\n",
    "    print(\"짝수\")\n",
    "else:\n",
    "    print(\"홀수\")"
   ]
  },
  {
   "cell_type": "code",
   "execution_count": 16,
   "id": "cc9db2d6",
   "metadata": {},
   "outputs": [
    {
     "name": "stdout",
     "output_type": "stream",
     "text": [
      "숫자를 입력하세요45\n",
      "홀수\n"
     ]
    }
   ],
   "source": [
    "# 조건 표현식,, 단순 조건,, 조건이 2개일 때만\n",
    "num = int(input(\"숫자를 입력하세요\"))\n",
    "#print(num, type(num))\n",
    "print(\"짝수\") if num % 2 == 0 else print(\"홀수\")"
   ]
  },
  {
   "cell_type": "code",
   "execution_count": null,
   "id": "fe855ef2",
   "metadata": {},
   "outputs": [],
   "source": []
  }
 ],
 "metadata": {
  "kernelspec": {
   "display_name": "Python 3 (ipykernel)",
   "language": "python",
   "name": "python3"
  },
  "language_info": {
   "codemirror_mode": {
    "name": "ipython",
    "version": 3
   },
   "file_extension": ".py",
   "mimetype": "text/x-python",
   "name": "python",
   "nbconvert_exporter": "python",
   "pygments_lexer": "ipython3",
   "version": "3.9.21"
  }
 },
 "nbformat": 4,
 "nbformat_minor": 5
}
