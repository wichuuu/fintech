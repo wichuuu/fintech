{
 "cells": [
  {
   "cell_type": "markdown",
   "id": "b5582e1d",
   "metadata": {},
   "source": [
    "# 반복문 for, while\n",
    "* 반복문은 동일한 작업을 여러 번 반복해야 할 경우 사용\n",
    "* for, while 두 종류의 반복문이 있음\n",
    "* for는 **반복 횟수가 정해져 있는 경우 사용**\n",
    "* while은 반복 횟수가 정해져 있지 않은 경우 **(무한 반복)** 사용"
   ]
  },
  {
   "cell_type": "markdown",
   "id": "9ea49e81",
   "metadata": {},
   "source": [
    "## for 반복문: 반복할 횟수가 정해져 있는 경우\n",
    "for 변수1, 변수2 in 반복할 객체/자료(문자열, 리스트, 튜플, 딕셔너리): <br>\n",
    "____반복할 코드"
   ]
  },
  {
   "cell_type": "code",
   "execution_count": null,
   "id": "3ae548d9",
   "metadata": {},
   "outputs": [],
   "source": [
    "# 숫자 생성 함수 range(시작, 끝, step)"
   ]
  },
  {
   "cell_type": "code",
   "execution_count": null,
   "id": "dbb72b19",
   "metadata": {},
   "outputs": [],
   "source": [
    "# for문을 이용해서 숫자 1-10을 출력\n",
    "for num in range(1, 11):\n",
    "    print(num, end=\" \")"
   ]
  },
  {
   "cell_type": "markdown",
   "id": "76c96c4b",
   "metadata": {},
   "source": [
    "* 순서가 있는 자료형(문자열, 리스트, 튜플) + 순서는 없지만 dict도 가능"
   ]
  },
  {
   "cell_type": "code",
   "execution_count": 1,
   "id": "acc74ae3",
   "metadata": {},
   "outputs": [
    {
     "name": "stdout",
     "output_type": "stream",
     "text": [
      "파이썬은 문자열을 반복문에 넣어 출력 가능"
     ]
    }
   ],
   "source": [
    "# 문자열\n",
    "for char in \"파이썬은 문자열을 반복문에 넣어 출력 가능\":\n",
    "    print(char, end=\"\")"
   ]
  },
  {
   "cell_type": "code",
   "execution_count": 1,
   "id": "2d269789",
   "metadata": {},
   "outputs": [
    {
     "name": "stdout",
     "output_type": "stream",
     "text": [
      "1\n",
      "2\n",
      "3\n",
      "사\n",
      "오\n",
      "[6, 7, 8]\n",
      "(8, 9, 10)\n",
      "{'key': 'value'}\n"
     ]
    }
   ],
   "source": [
    "# 리스트\n",
    "for l_item in [1,2,3,\"사\", \"오\", [6,7,8], (8,9,10), {\"key\":\"value\"}]:\n",
    "    print(l_item)"
   ]
  },
  {
   "cell_type": "code",
   "execution_count": null,
   "id": "872244ab",
   "metadata": {},
   "outputs": [],
   "source": [
    "# 튜플\n",
    "for l_item in (1,2,3,\"사\", \"오\", [6,7,8], (8,9,10), {\"key\":\"value\"}):\n",
    "    print(l_item)"
   ]
  },
  {
   "cell_type": "code",
   "execution_count": null,
   "id": "802cb333",
   "metadata": {},
   "outputs": [],
   "source": [
    "d = dict(이름=\"홍길동\", 나이=40, 주소=\"서울\", 전화번호=\"010-1111-1111\")"
   ]
  },
  {
   "cell_type": "code",
   "execution_count": null,
   "id": "bd0afd0b",
   "metadata": {},
   "outputs": [],
   "source": [
    "d"
   ]
  },
  {
   "cell_type": "code",
   "execution_count": null,
   "id": "001f2837",
   "metadata": {},
   "outputs": [],
   "source": [
    "for item in d:\n",
    "    print(item)"
   ]
  },
  {
   "cell_type": "code",
   "execution_count": null,
   "id": "a455edf1",
   "metadata": {},
   "outputs": [],
   "source": [
    "for key in d:\n",
    "    print(d[key])"
   ]
  },
  {
   "cell_type": "code",
   "execution_count": null,
   "id": "0103ffc5",
   "metadata": {},
   "outputs": [],
   "source": [
    "d.values()"
   ]
  },
  {
   "cell_type": "code",
   "execution_count": null,
   "id": "99f156cc",
   "metadata": {},
   "outputs": [],
   "source": [
    "for vlaue in d.values():\n",
    "    print(value)"
   ]
  },
  {
   "cell_type": "code",
   "execution_count": null,
   "id": "fe0cfc59",
   "metadata": {},
   "outputs": [],
   "source": [
    "d.items()"
   ]
  },
  {
   "cell_type": "code",
   "execution_count": null,
   "id": "2f4999d8",
   "metadata": {},
   "outputs": [],
   "source": [
    "for key,value in d:\n",
    "    print(\"key\", key, \"value\", value)"
   ]
  },
  {
   "cell_type": "code",
   "execution_count": null,
   "id": "9c379b55",
   "metadata": {},
   "outputs": [],
   "source": [
    "for item in d:\n",
    "    print(d.get(item, \"key 없음\"))"
   ]
  },
  {
   "cell_type": "markdown",
   "id": "e09ee461",
   "metadata": {},
   "source": [
    "* for 반복문을 이용해서 1부터 10까지 정수를 더한 합을 출력하세요\n",
    "    * 1부터 10까지 숫자를 만들어서 반복문에 넣는다.\n",
    "    * 1부터 10까지 누적 덧셈을 한다.\n",
    "    * 누적 덧셈을 한 결과를 출력한다."
   ]
  },
  {
   "cell_type": "code",
   "execution_count": null,
   "id": "80cc4fcd",
   "metadata": {},
   "outputs": [],
   "source": [
    "hap = 0\n",
    "for num in range(1, 11):\n",
    "#print(num)\n",
    "    \n",
    "    hap = hap + num\n",
    "    print(hap)"
   ]
  },
  {
   "cell_type": "code",
   "execution_count": null,
   "id": "f5d041e1",
   "metadata": {},
   "outputs": [],
   "source": [
    "hap = 0\n",
    "for num in range(1,11):\n",
    "   # print(num, end=\" \")\n",
    "    print(f\"hap: {hap} +num: {num}\", end=\": \")\n",
    "    hap += num #hap = hap + num\n",
    "    print(f\"{hap}\")"
   ]
  },
  {
   "cell_type": "markdown",
   "id": "3de82ae0",
   "metadata": {},
   "source": [
    "* 1부터 50까지 수 중에서 짝수인 수의 합을 구하시오.\n",
    "* 1-50 수를 만들기 (range(1-51))\n",
    "* 홀수, 짝수 구분 if, % 2 == 0\n",
    "* 짝수일 때 누적 합, 결과 저장할 변수 hap\n",
    "* 최종 결과 출력"
   ]
  },
  {
   "cell_type": "code",
   "execution_count": null,
   "id": "7c47212a",
   "metadata": {},
   "outputs": [],
   "source": [
    "hap = 0\n",
    "for num in range(1, 51):\n",
    "    #print(num, end=\" \")\n",
    "    if num % 2 == 0:\n",
    "        print(f\"hap: {hap}, num: {num}\")\n",
    "        hap += num\n",
    "    print(hap)\n",
    "        "
   ]
  },
  {
   "cell_type": "markdown",
   "id": "2786394f",
   "metadata": {},
   "source": [
    "* 1부터 100까지 수를 만들고 그 중에서 30-70까지만 더해서 출력하세요\n",
    "* 과정 출력\n",
    "* 2가지 방법을 이용해서 코드 작성 if 조건문, 슬라이싱"
   ]
  },
  {
   "cell_type": "code",
   "execution_count": null,
   "id": "e1d7fd52",
   "metadata": {},
   "outputs": [],
   "source": [
    "hap = 0\n",
    "for num in range(1, 101):\n",
    "    #print(num, end=\" \")\n",
    "    if 30 <= num <= 70:\n",
    "        print(f\"hap: {hap}, num: {num}\")\n",
    "        hap += num\n",
    "        print(hap)"
   ]
  },
  {
   "cell_type": "code",
   "execution_count": null,
   "id": "cadfc9cd",
   "metadata": {},
   "outputs": [],
   "source": [
    "hap = 0\n",
    "for num in range(1, 101):\n",
    "    #print(num, end=\" \")\n",
    "    if 30 <= num <= 70:\n",
    "        print(f\"hap: {hap}, num: {num}\")\n",
    "        hap += num\n",
    "        print(hap)"
   ]
  },
  {
   "cell_type": "code",
   "execution_count": null,
   "id": "bf81aa98",
   "metadata": {},
   "outputs": [],
   "source": [
    "hap = 0\n",
    "for num in range(1, 100)[29:70]:\n",
    "    #print(num, end=\" \")\n",
    "    print(f\"hap: {hap}, num: {num}\")\n",
    "    hap += num\n",
    "print(hap)"
   ]
  },
  {
   "cell_type": "code",
   "execution_count": null,
   "id": "1fa4166f",
   "metadata": {},
   "outputs": [],
   "source": [
    "#인덱싱에 2를 추가로 주어 짝수만 가져오기\n",
    "for num in range(1, 100)[29:70:2]:\n",
    "    print(num, end=\" \")"
   ]
  },
  {
   "cell_type": "markdown",
   "id": "7fbe451a",
   "metadata": {},
   "source": [
    "* 100에서 1까지 더하는 반복문을 만드세요.\n",
    "* range에서 역순으로 숫자를 생성\n",
    "* range(1, 101)을 뒤집는 방법 2가지"
   ]
  },
  {
   "cell_type": "code",
   "execution_count": null,
   "id": "9ea2f870",
   "metadata": {},
   "outputs": [],
   "source": [
    "hap = 0\n",
    "for num in range(100, 1)[100:0]:\n",
    "    #print(num)\n",
    "    hap += num\n",
    "    print(hap)"
   ]
  },
  {
   "cell_type": "code",
   "execution_count": null,
   "id": "1a17567e",
   "metadata": {},
   "outputs": [],
   "source": [
    "#1번\n",
    "hap = 0\n",
    "for num in range(100, 0, -1):\n",
    "    #print(num, end=\" \")\n",
    "    hap += num\n",
    "print(hap)"
   ]
  },
  {
   "cell_type": "code",
   "execution_count": null,
   "id": "10e6b4f6",
   "metadata": {},
   "outputs": [],
   "source": [
    "#2번\n",
    "# 슬라이싱을 이용해서 순서 뒤집기\n",
    "hap = 0\n",
    "for num in range(1, 101)[::-1]:\n",
    "    print(num, end=\" \")\n",
    "    hap += num\n",
    "print(hap)"
   ]
  },
  {
   "cell_type": "markdown",
   "id": "d2ada343",
   "metadata": {},
   "source": [
    "* reversed() 리스트를 역순으로 뒤집는 함수"
   ]
  },
  {
   "cell_type": "code",
   "execution_count": null,
   "id": "06c71a47",
   "metadata": {},
   "outputs": [],
   "source": [
    "#3번\n",
    "\n",
    "hap = 0\n",
    "for num in reversed(range(1, 101)):\n",
    "    print(num, end=\" \")\n",
    "    hap += num\n",
    "print(hap)"
   ]
  },
  {
   "cell_type": "markdown",
   "id": "7ce203b3",
   "metadata": {},
   "source": [
    "## enumerate() 자료의 인덱스를 만들어주는 함수"
   ]
  },
  {
   "cell_type": "code",
   "execution_count": null,
   "id": "7f606ef4",
   "metadata": {},
   "outputs": [],
   "source": [
    "s = \"enumerate 함수는 반복문에서 index를 만들어 출력해주는 함수입니다.\""
   ]
  },
  {
   "cell_type": "code",
   "execution_count": null,
   "id": "592cebd3",
   "metadata": {},
   "outputs": [],
   "source": [
    "for i in enumerate(s):\n",
    "    print(i)"
   ]
  },
  {
   "cell_type": "code",
   "execution_count": null,
   "id": "db82c0ae",
   "metadata": {},
   "outputs": [],
   "source": [
    "for idx, i in enumerate(s):\n",
    "    print(f\"현재 반복 횟수: {idx+1}\", end=\"\\r\")\n",
    "    print(idx, i)"
   ]
  },
  {
   "cell_type": "code",
   "execution_count": null,
   "id": "7b13a490",
   "metadata": {},
   "outputs": [],
   "source": [
    "import time"
   ]
  },
  {
   "cell_type": "code",
   "execution_count": null,
   "id": "03a8e68a",
   "metadata": {},
   "outputs": [],
   "source": [
    "for idx, i in enumerate(s):\n",
    "    print(f\"현재 반복 횟수: {idx+1}/{len(s)}\", end=\"\\r\")\n",
    "    #time.sleep(1)\n",
    "    #print(idx, i)"
   ]
  },
  {
   "cell_type": "markdown",
   "id": "ece92556",
   "metadata": {},
   "source": [
    "## continue, break\n",
    "* continue: 코드 실행을 건너뛰고 반복 계속 진행\n",
    "* break: 특정 조건이 되었을 때 반복문 정지"
   ]
  },
  {
   "cell_type": "code",
   "execution_count": null,
   "id": "5bb9cb7a",
   "metadata": {},
   "outputs": [],
   "source": [
    "for idx, i in enumerate(s):\n",
    "   # print(f\"현재 반복 횟수: {idx+1}/{len(s)}\", end=\"\\r\")\n",
    "    if idx % 2 == 0:#짝수 인덱스는 건너 뛰어라\n",
    "        continue\n",
    "    else:\n",
    "        if idx > 19: #인덱스가 19보다 크면, 멈춰라\n",
    "            break\n",
    "        print(idx, i)\n",
    "    time.sleep(1)\n",
    "    #print(idx, i)"
   ]
  },
  {
   "cell_type": "markdown",
   "id": "20b24f19",
   "metadata": {},
   "source": [
    "# while 반복할 횟수가 정해지지 않은 경우\n",
    "* 무한 반복 가능\n",
    "* 무한 반복이 되지 않도록 조건식을 잘 짜주는 것이 중요\n",
    "\n",
    "\n",
    "변수 선언 및 초기화 <br>\n",
    "while 조건식: <br>\n",
    "____반복할 코드 <br>\n",
    "____변수 증가/감소 코드 <br>\n",
    "____반복문이 종료될 조건 + break <br>"
   ]
  },
  {
   "cell_type": "code",
   "execution_count": null,
   "id": "97afc288",
   "metadata": {},
   "outputs": [],
   "source": []
  },
  {
   "cell_type": "markdown",
   "id": "d699de5a",
   "metadata": {},
   "source": [
    "while 문으로 1-10까지 출력하기"
   ]
  },
  {
   "cell_type": "code",
   "execution_count": null,
   "id": "49e0a82e",
   "metadata": {},
   "outputs": [],
   "source": []
  },
  {
   "cell_type": "code",
   "execution_count": null,
   "id": "c7239b61",
   "metadata": {},
   "outputs": [],
   "source": [
    "# i = 1\n",
    "# while i <= 10:\n",
    "# print(i, end=\" \")\n",
    "# i += 1"
   ]
  },
  {
   "cell_type": "markdown",
   "id": "916fc757",
   "metadata": {},
   "source": [
    "* 20에서 1까지 숫자를 더한 값을 출력"
   ]
  },
  {
   "cell_type": "code",
   "execution_count": null,
   "id": "c0763e46",
   "metadata": {},
   "outputs": [],
   "source": [
    "i = 20\n",
    "hap = 0\n",
    "while i > 0:\n",
    "    print(f\"hap: {hap}, i:{i}\")\n",
    "    hap += i\n",
    "    i -=  1\n",
    "print(hap)"
   ]
  },
  {
   "cell_type": "code",
   "execution_count": null,
   "id": "1eb0d419",
   "metadata": {},
   "outputs": [],
   "source": [
    "i = 20\n",
    "while i <= 100:\n",
    "    print(i, end=\" \")\n",
    "    i += 1\n",
    "    print(f{i})"
   ]
  },
  {
   "cell_type": "markdown",
   "id": "8dc7d6e5",
   "metadata": {},
   "source": [
    "* 1-50 까지 수 중에서 3의 배수이거나, 짝수인 수를 찾아서 더한 값을 출력하세요.\n",
    "* if 문 사용"
   ]
  },
  {
   "cell_type": "code",
   "execution_count": 1,
   "id": "a3abf3c0",
   "metadata": {},
   "outputs": [
    {
     "name": "stdout",
     "output_type": "stream",
     "text": [
      "hap: 0, i:2\n",
      "hap: 2, i:3\n",
      "hap: 5, i:4\n",
      "hap: 9, i:6\n",
      "hap: 15, i:8\n",
      "hap: 23, i:9\n",
      "hap: 32, i:10\n",
      "hap: 42, i:12\n",
      "hap: 54, i:14\n",
      "hap: 68, i:15\n",
      "hap: 83, i:16\n",
      "hap: 99, i:18\n",
      "hap: 117, i:20\n",
      "hap: 137, i:21\n",
      "hap: 158, i:22\n",
      "hap: 180, i:24\n",
      "hap: 204, i:26\n",
      "hap: 230, i:27\n",
      "hap: 257, i:28\n",
      "hap: 285, i:30\n",
      "hap: 315, i:32\n",
      "hap: 347, i:33\n",
      "hap: 380, i:34\n",
      "hap: 414, i:36\n",
      "hap: 450, i:38\n",
      "hap: 488, i:39\n",
      "hap: 527, i:40\n",
      "hap: 567, i:42\n",
      "hap: 609, i:44\n",
      "hap: 653, i:45\n",
      "hap: 698, i:46\n",
      "hap: 744, i:48\n",
      "hap: 792, i:50\n",
      "842\n"
     ]
    }
   ],
   "source": [
    "i = 1\n",
    "hap = 0\n",
    "while i <= 50:\n",
    "    #print(i, end=\" \")\n",
    "    if i % 3 == 0 or i % 2 == 0:\n",
    "        print(f\"hap: {hap}, i:{i}\")\n",
    "        hap += i\n",
    "    i += 1\n",
    "print(hap)"
   ]
  },
  {
   "cell_type": "markdown",
   "id": "f4c2085f",
   "metadata": {},
   "source": [
    "## while의 무한반복 \n",
    "* while 뒤의 조건이 true인 경우 무한 반복\n",
    "* while 문 내에서 if 조건문으로 break를 걸어주어야 멈춤"
   ]
  },
  {
   "cell_type": "code",
   "execution_count": null,
   "id": "991b190f",
   "metadata": {},
   "outputs": [],
   "source": [
    "# 무한 반복\n",
    "while True:\n",
    "    print(\"무한반복\": end = \" \")"
   ]
  },
  {
   "cell_type": "markdown",
   "id": "8780591b",
   "metadata": {},
   "source": [
    "* 무한 반복 후 while 문 내에서 조건을 주어 멈추기"
   ]
  },
  {
   "cell_type": "code",
   "execution_count": 2,
   "id": "90d4ec14",
   "metadata": {},
   "outputs": [
    {
     "name": "stdout",
     "output_type": "stream",
     "text": [
      "1 조건 반복 2 조건 반복 3 조건 반복 4 조건 반복 5 조건 반복 6 조건 반복 7 조건 반복 8 조건 반복 9 조건 반복 10 조건 반복 11 조건 반복 12 조건 반복 13 조건 반복 14 조건 반복 15 조건 반복 16 조건 반복 17 조건 반복 18 조건 반복 19 조건 반복 20 조건 반복 21 조건 반복 22 조건 반복 23 조건 반복 24 조건 반복 25 조건 반복 26 조건 반복 27 조건 반복 28 조건 반복 29 조건 반복 30 조건 반복 31 조건 반복 32 조건 반복 33 조건 반복 34 조건 반복 35 조건 반복 36 조건 반복 37 조건 반복 38 조건 반복 39 조건 반복 40 조건 반복 41 조건 반복 42 조건 반복 43 조건 반복 44 조건 반복 45 조건 반복 46 조건 반복 47 조건 반복 48 조건 반복 49 조건 반복 50 조건 반복 51 조건 반복 52 조건 반복 53 조건 반복 54 조건 반복 55 조건 반복 56 조건 반복 57 조건 반복 58 조건 반복 59 조건 반복 60 조건 반복 61 조건 반복 62 조건 반복 63 조건 반복 64 조건 반복 65 조건 반복 66 조건 반복 67 조건 반복 68 조건 반복 69 조건 반복 70 조건 반복 71 조건 반복 72 조건 반복 73 조건 반복 74 조건 반복 75 조건 반복 76 조건 반복 77 조건 반복 78 조건 반복 79 조건 반복 80 조건 반복 81 조건 반복 82 조건 반복 83 조건 반복 84 조건 반복 85 조건 반복 86 조건 반복 87 조건 반복 88 조건 반복 89 조건 반복 90 조건 반복 91 조건 반복 92 조건 반복 93 조건 반복 94 조건 반복 95 조건 반복 96 조건 반복 97 조건 반복 98 조건 반복 99 조건 반복 100 조건 반복 "
     ]
    }
   ],
   "source": [
    "i = 1\n",
    "while True:\n",
    "    print(i, \"조건 반복\", end = \" \")\n",
    "    if i >= 100:\n",
    "        break\n",
    "    i += 1"
   ]
  },
  {
   "cell_type": "markdown",
   "id": "6357d603",
   "metadata": {},
   "source": [
    "* 무한 반복이 되는 조건: True\n",
    "* True가 되는 경우: 1, 정수, 실수, 문자열, list, tuple, dict, True\n",
    "* False가 되는 경우: 0, 0.0, \"\",'', {}, [], (), False"
   ]
  },
  {
   "cell_type": "code",
   "execution_count": 14,
   "id": "18842350",
   "metadata": {},
   "outputs": [
    {
     "data": {
      "text/plain": [
       "False"
      ]
     },
     "execution_count": 14,
     "metadata": {},
     "output_type": "execute_result"
    }
   ],
   "source": [
    "101 <= 100"
   ]
  },
  {
   "cell_type": "code",
   "execution_count": 15,
   "id": "a30675ea",
   "metadata": {},
   "outputs": [
    {
     "name": "stdout",
     "output_type": "stream",
     "text": [
      "1 김영훈 얼차려 반복\n",
      "2 김영훈 얼차려 반복\n",
      "3 김영훈 얼차려 반복\n",
      "4 김영훈 얼차려 반복\n",
      "5 김영훈 얼차려 반복\n",
      "6 김영훈 얼차려 반복\n",
      "7 김영훈 얼차려 반복\n",
      "8 김영훈 얼차려 반복\n",
      "9 김영훈 얼차려 반복\n",
      "10 김영훈 얼차려 반복\n",
      "11 김영훈 얼차려 반복\n",
      "12 김영훈 얼차려 반복\n",
      "13 김영훈 얼차려 반복\n",
      "14 김영훈 얼차려 반복\n",
      "15 김영훈 얼차려 반복\n",
      "16 김영훈 얼차려 반복\n",
      "17 김영훈 얼차려 반복\n",
      "18 김영훈 얼차려 반복\n",
      "19 김영훈 얼차려 반복\n",
      "20 김영훈 얼차려 반복\n",
      "21 김영훈 얼차려 반복\n",
      "22 김영훈 얼차려 반복\n",
      "23 김영훈 얼차려 반복\n",
      "24 김영훈 얼차려 반복\n",
      "25 김영훈 얼차려 반복\n",
      "26 김영훈 얼차려 반복\n",
      "27 김영훈 얼차려 반복\n",
      "28 김영훈 얼차려 반복\n",
      "29 김영훈 얼차려 반복\n",
      "30 김영훈 얼차려 반복\n",
      "31 김영훈 얼차려 반복\n",
      "32 김영훈 얼차려 반복\n",
      "33 김영훈 얼차려 반복\n",
      "34 김영훈 얼차려 반복\n",
      "35 김영훈 얼차려 반복\n",
      "36 김영훈 얼차려 반복\n",
      "37 김영훈 얼차려 반복\n",
      "38 김영훈 얼차려 반복\n",
      "39 김영훈 얼차려 반복\n",
      "40 김영훈 얼차려 반복\n",
      "41 김영훈 얼차려 반복\n",
      "42 김영훈 얼차려 반복\n",
      "43 김영훈 얼차려 반복\n",
      "44 김영훈 얼차려 반복\n",
      "45 김영훈 얼차려 반복\n",
      "46 김영훈 얼차려 반복\n",
      "47 김영훈 얼차려 반복\n",
      "48 김영훈 얼차려 반복\n",
      "49 김영훈 얼차려 반복\n",
      "50 김영훈 얼차려 반복\n",
      "51 김영훈 얼차려 반복\n",
      "52 김영훈 얼차려 반복\n",
      "53 김영훈 얼차려 반복\n",
      "54 김영훈 얼차려 반복\n",
      "55 김영훈 얼차려 반복\n",
      "56 김영훈 얼차려 반복\n",
      "57 김영훈 얼차려 반복\n",
      "58 김영훈 얼차려 반복\n",
      "59 김영훈 얼차려 반복\n",
      "60 김영훈 얼차려 반복\n",
      "61 김영훈 얼차려 반복\n",
      "62 김영훈 얼차려 반복\n",
      "63 김영훈 얼차려 반복\n",
      "64 김영훈 얼차려 반복\n",
      "65 김영훈 얼차려 반복\n",
      "66 김영훈 얼차려 반복\n",
      "67 김영훈 얼차려 반복\n",
      "68 김영훈 얼차려 반복\n",
      "69 김영훈 얼차려 반복\n",
      "70 김영훈 얼차려 반복\n",
      "71 김영훈 얼차려 반복\n",
      "72 김영훈 얼차려 반복\n",
      "73 김영훈 얼차려 반복\n",
      "74 김영훈 얼차려 반복\n",
      "75 김영훈 얼차려 반복\n",
      "76 김영훈 얼차려 반복\n",
      "77 김영훈 얼차려 반복\n",
      "78 김영훈 얼차려 반복\n",
      "79 김영훈 얼차려 반복\n",
      "80 김영훈 얼차려 반복\n",
      "81 김영훈 얼차려 반복\n",
      "82 김영훈 얼차려 반복\n",
      "83 김영훈 얼차려 반복\n",
      "84 김영훈 얼차려 반복\n",
      "85 김영훈 얼차려 반복\n",
      "86 김영훈 얼차려 반복\n",
      "87 김영훈 얼차려 반복\n",
      "88 김영훈 얼차려 반복\n",
      "89 김영훈 얼차려 반복\n",
      "90 김영훈 얼차려 반복\n",
      "91 김영훈 얼차려 반복\n",
      "92 김영훈 얼차려 반복\n",
      "93 김영훈 얼차려 반복\n",
      "94 김영훈 얼차려 반복\n",
      "95 김영훈 얼차려 반복\n",
      "96 김영훈 얼차려 반복\n",
      "97 김영훈 얼차려 반복\n",
      "98 김영훈 얼차려 반복\n",
      "99 김영훈 얼차려 반복\n",
      "100 김영훈 얼차려 반복\n"
     ]
    }
   ],
   "source": [
    "i = 1\n",
    "while \" \":\n",
    "    print(i, \"김영훈 얼차려 반복\")\n",
    "    if i >= 100:\n",
    "        break\n",
    "    i += 1"
   ]
  },
  {
   "cell_type": "markdown",
   "id": "c912bad8",
   "metadata": {},
   "source": [
    "# 중첩 반복문\n",
    "* 반복문을 2개 이상 겹쳐서 사용\n",
    "* 바늘 시계의 원리와 같음\n",
    "* 안쪽 반복문이 끝난 후 바깥쪽 반복문이 실행\n",
    "* 초침 -> 분침 -> 시침"
   ]
  },
  {
   "cell_type": "markdown",
   "id": "70b40305",
   "metadata": {},
   "source": [
    "* 구구단 만들기 2중 중첩 for 문\n",
    "* 2단 - 9단\n",
    "* 1-9\n",
    "* 2 * 1 = 2"
   ]
  },
  {
   "cell_type": "code",
   "execution_count": 20,
   "id": "38448757",
   "metadata": {},
   "outputs": [
    {
     "name": "stdout",
     "output_type": "stream",
     "text": [
      "2 x 1 =  2\n",
      "2 x 2 =  4\n",
      "2 x 3 =  6\n",
      "2 x 4 =  8\n",
      "2 x 5 =  10\n",
      "2 x 6 =  12\n",
      "2 x 7 =  14\n",
      "2 x 8 =  16\n",
      "2 x 9 =  18\n",
      "3 x 1 =  3\n",
      "3 x 2 =  6\n",
      "3 x 3 =  9\n",
      "3 x 4 =  12\n",
      "3 x 5 =  15\n",
      "3 x 6 =  18\n",
      "3 x 7 =  21\n",
      "3 x 8 =  24\n",
      "3 x 9 =  27\n",
      "4 x 1 =  4\n",
      "4 x 2 =  8\n",
      "4 x 3 =  12\n",
      "4 x 4 =  16\n",
      "4 x 5 =  20\n",
      "4 x 6 =  24\n",
      "4 x 7 =  28\n",
      "4 x 8 =  32\n",
      "4 x 9 =  36\n",
      "5 x 1 =  5\n",
      "5 x 2 =  10\n",
      "5 x 3 =  15\n",
      "5 x 4 =  20\n",
      "5 x 5 =  25\n",
      "5 x 6 =  30\n",
      "5 x 7 =  35\n",
      "5 x 8 =  40\n",
      "5 x 9 =  45\n",
      "6 x 1 =  6\n",
      "6 x 2 =  12\n",
      "6 x 3 =  18\n",
      "6 x 4 =  24\n",
      "6 x 5 =  30\n",
      "6 x 6 =  36\n",
      "6 x 7 =  42\n",
      "6 x 8 =  48\n",
      "6 x 9 =  54\n",
      "7 x 1 =  7\n",
      "7 x 2 =  14\n",
      "7 x 3 =  21\n",
      "7 x 4 =  28\n",
      "7 x 5 =  35\n",
      "7 x 6 =  42\n",
      "7 x 7 =  49\n",
      "7 x 8 =  56\n",
      "7 x 9 =  63\n",
      "8 x 1 =  8\n",
      "8 x 2 =  16\n",
      "8 x 3 =  24\n",
      "8 x 4 =  32\n",
      "8 x 5 =  40\n",
      "8 x 6 =  48\n",
      "8 x 7 =  56\n",
      "8 x 8 =  64\n",
      "8 x 9 =  72\n",
      "9 x 1 =  9\n",
      "9 x 2 =  18\n",
      "9 x 3 =  27\n",
      "9 x 4 =  36\n",
      "9 x 5 =  45\n",
      "9 x 6 =  54\n",
      "9 x 7 =  63\n",
      "9 x 8 =  72\n",
      "9 x 9 =  81\n"
     ]
    }
   ],
   "source": [
    "for num1 in range(2, 10):\n",
    " #   print(num1)\n",
    "    for num2 in range(1, 10):\n",
    "        print(f\"{num1} x {num2} = \", num1*num2)"
   ]
  },
  {
   "cell_type": "markdown",
   "id": "679b48fd",
   "metadata": {},
   "source": [
    "* 반복문 3개로 시계 만들기\n",
    "* 초 00 - 59\n",
    "* 분 00 - 59\n",
    "* 시 00 - 23"
   ]
  },
  {
   "cell_type": "code",
   "execution_count": 6,
   "id": "5f3d4ccb",
   "metadata": {},
   "outputs": [],
   "source": [
    "import time"
   ]
  },
  {
   "cell_type": "code",
   "execution_count": 8,
   "id": "c05f1dac",
   "metadata": {},
   "outputs": [
    {
     "name": "stdout",
     "output_type": "stream",
     "text": [
      "00:17:47\r"
     ]
    },
    {
     "ename": "KeyboardInterrupt",
     "evalue": "",
     "output_type": "error",
     "traceback": [
      "\u001b[1;31m---------------------------------------------------------------------------\u001b[0m",
      "\u001b[1;31mKeyboardInterrupt\u001b[0m                         Traceback (most recent call last)",
      "Cell \u001b[1;32mIn[8], line 6\u001b[0m\n\u001b[0;32m      4\u001b[0m \u001b[38;5;28;01mfor\u001b[39;00m cho \u001b[38;5;129;01min\u001b[39;00m \u001b[38;5;28mrange\u001b[39m(\u001b[38;5;241m0\u001b[39m, \u001b[38;5;241m60\u001b[39m):\n\u001b[0;32m      5\u001b[0m     \u001b[38;5;28mprint\u001b[39m(\u001b[38;5;124mf\u001b[39m\u001b[38;5;124m\"\u001b[39m\u001b[38;5;132;01m{\u001b[39;00msi\u001b[38;5;132;01m:\u001b[39;00m\u001b[38;5;124m02d\u001b[39m\u001b[38;5;132;01m}\u001b[39;00m\u001b[38;5;124m:\u001b[39m\u001b[38;5;132;01m{\u001b[39;00mbun\u001b[38;5;132;01m:\u001b[39;00m\u001b[38;5;124m02d\u001b[39m\u001b[38;5;132;01m}\u001b[39;00m\u001b[38;5;124m:\u001b[39m\u001b[38;5;132;01m{\u001b[39;00mcho\u001b[38;5;132;01m:\u001b[39;00m\u001b[38;5;124m02d\u001b[39m\u001b[38;5;132;01m}\u001b[39;00m\u001b[38;5;124m\"\u001b[39m, end\u001b[38;5;241m=\u001b[39m\u001b[38;5;124m\"\u001b[39m\u001b[38;5;130;01m\\r\u001b[39;00m\u001b[38;5;124m\"\u001b[39m)\n\u001b[1;32m----> 6\u001b[0m     \u001b[43mtime\u001b[49m\u001b[38;5;241;43m.\u001b[39;49m\u001b[43msleep\u001b[49m\u001b[43m(\u001b[49m\u001b[38;5;241;43m0.2\u001b[39;49m\u001b[43m)\u001b[49m\n",
      "\u001b[1;31mKeyboardInterrupt\u001b[0m: "
     ]
    }
   ],
   "source": [
    "for si in range(0, 24):\n",
    "    for bun in range(0, 60):\n",
    "        #print(bun)\n",
    "        for cho in range(0, 60):\n",
    "            print(f\"{si:02d}:{bun:02d}:{cho:02d}\", end=\"\\r\")\n",
    "            #time.sleep(0.2)"
   ]
  },
  {
   "cell_type": "markdown",
   "id": "d2c33cf3",
   "metadata": {},
   "source": [
    "## 중첩 반복문을 사용해서 다중리스트 출력하기"
   ]
  },
  {
   "cell_type": "code",
   "execution_count": 15,
   "id": "3a467be6",
   "metadata": {},
   "outputs": [],
   "source": [
    "l1 = []"
   ]
  },
  {
   "cell_type": "code",
   "execution_count": 32,
   "id": "6d1e7b11",
   "metadata": {},
   "outputs": [],
   "source": [
    "l1.append(list(range(1,11)))"
   ]
  },
  {
   "cell_type": "code",
   "execution_count": 33,
   "id": "831d9755",
   "metadata": {},
   "outputs": [
    {
     "data": {
      "text/plain": [
       "[[1, 2, 3, 4, 5],\n",
       " [1, 2, 3, 4, 5],\n",
       " [1, 2, 3, 4, 5],\n",
       " [1, 2, 3, 4, 5],\n",
       " [1, 2, 3, 4, 5],\n",
       " [1, 2, 3, 4, 5, 6, 7, 8, 9, 10, 11, 12, 13, 14, 15, 16, 17, 18, 19],\n",
       " [1, 2, 3, 4, 5, 6, 7, 8, 9, 10]]"
      ]
     },
     "execution_count": 33,
     "metadata": {},
     "output_type": "execute_result"
    }
   ],
   "source": [
    "l1"
   ]
  },
  {
   "cell_type": "code",
   "execution_count": 25,
   "id": "a3639cec",
   "metadata": {},
   "outputs": [
    {
     "name": "stdout",
     "output_type": "stream",
     "text": [
      "1\n",
      "2\n",
      "3\n",
      "4\n",
      "5\n",
      "1\n",
      "2\n",
      "3\n",
      "4\n",
      "5\n"
     ]
    }
   ],
   "source": [
    "print(l1[0][0])\n",
    "print(l1[0][1])\n",
    "print(l1[0][2])\n",
    "print(l1[0][3])\n",
    "print(l1[0][4])\n",
    "print(l1[1][0])\n",
    "print(l1[1][1])\n",
    "print(l1[1][2])\n",
    "print(l1[1][3])\n",
    "print(l1[1][4])"
   ]
  },
  {
   "cell_type": "code",
   "execution_count": 29,
   "id": "270b55de",
   "metadata": {},
   "outputs": [
    {
     "name": "stdout",
     "output_type": "stream",
     "text": [
      "1\n",
      "2\n",
      "3\n",
      "4\n",
      "5\n",
      "1\n",
      "2\n",
      "3\n",
      "4\n",
      "5\n",
      "1\n",
      "2\n",
      "3\n",
      "4\n",
      "5\n",
      "1\n",
      "2\n",
      "3\n",
      "4\n",
      "5\n",
      "1\n",
      "2\n",
      "3\n",
      "4\n",
      "5\n"
     ]
    }
   ],
   "source": [
    "for item1 in l1:\n",
    "    #print(item1)\n",
    "    for item2 in item1:\n",
    "        print(item2)"
   ]
  },
  {
   "cell_type": "markdown",
   "id": "c13f4789",
   "metadata": {},
   "source": [
    "l1 리스트에 있는 모든 요소를 l2 리스트에 넣으세요"
   ]
  },
  {
   "cell_type": "code",
   "execution_count": 41,
   "id": "de57ebcc",
   "metadata": {},
   "outputs": [
    {
     "name": "stdout",
     "output_type": "stream",
     "text": [
      "[1, 2, 3, 4, 5, 1, 2, 3, 4, 5, 1, 2, 3, 4, 5, 1, 2, 3, 4, 5, 1, 2, 3, 4, 5, 1, 2, 3, 4, 5, 6, 7, 8, 9, 10, 11, 12, 13, 14, 15, 16, 17, 18, 19, 1, 2, 3, 4, 5, 6, 7, 8, 9, 10]\n"
     ]
    }
   ],
   "source": [
    "l2 = []\n",
    "\n",
    "for item1 in l1:\n",
    "    for item2 in item1:\n",
    "        l2.append(item2)\n",
    "        \n",
    "print(l2)"
   ]
  },
  {
   "cell_type": "markdown",
   "id": "9ce61a26",
   "metadata": {},
   "source": [
    "* 리스트에 동물 이름이 저장되어 있다. 여기서 동물 이름의 첫글자만 출력하세요\n",
    "* animal = ['dog', 'cat', 'parrot']\n",
    "* for 반복문을 이용하세요"
   ]
  },
  {
   "cell_type": "code",
   "execution_count": 42,
   "id": "0b5ffabc",
   "metadata": {},
   "outputs": [
    {
     "data": {
      "text/plain": [
       "['dog', 'cat', 'parrot']"
      ]
     },
     "execution_count": 42,
     "metadata": {},
     "output_type": "execute_result"
    }
   ],
   "source": [
    "animal = ['dog', 'cat', 'parrot']\n",
    "animal"
   ]
  },
  {
   "cell_type": "code",
   "execution_count": 49,
   "id": "7eb83e29",
   "metadata": {},
   "outputs": [
    {
     "name": "stdout",
     "output_type": "stream",
     "text": [
      "d\n",
      "c\n",
      "p\n"
     ]
    }
   ],
   "source": [
    "# animal 리스트 만들고 확인\n",
    "# 요소 한 개씩 꺼내기 for\n",
    "# 앞글자 한 개 출력하기 - 인덱싱 \n",
    "for name in animal:\n",
    "    print(name[0])\n",
    "    "
   ]
  },
  {
   "cell_type": "markdown",
   "id": "a8bcdfa7",
   "metadata": {},
   "source": [
    "* 리스트에서 세 글자 이상의 문자를 화면에 출력하라 <br>\n",
    "L2 = [\"I\", \"study\", \"python\", \"language\", \"!\"] <br>\n",
    "study <br>\n",
    "python <br>\n",
    "language <br>"
   ]
  },
  {
   "cell_type": "code",
   "execution_count": null,
   "id": "b09abc90",
   "metadata": {},
   "outputs": [],
   "source": [
    "# L2 리스트 만들기\n",
    "# for 문으로 자료 1개씩 꺼내기\n",
    "# 1개씩 꺼내온 자료의 길이를 재서 (len()) 3 이상인 것만 출력"
   ]
  },
  {
   "cell_type": "code",
   "execution_count": 50,
   "id": "1dcbfa63",
   "metadata": {},
   "outputs": [
    {
     "data": {
      "text/plain": [
       "['I', 'study', 'python', 'language', '!']"
      ]
     },
     "execution_count": 50,
     "metadata": {},
     "output_type": "execute_result"
    }
   ],
   "source": [
    "L2 = [\"I\", \"study\", \"python\", \"language\", \"!\"]\n",
    "L2"
   ]
  },
  {
   "cell_type": "code",
   "execution_count": 52,
   "id": "8a702412",
   "metadata": {},
   "outputs": [
    {
     "name": "stdout",
     "output_type": "stream",
     "text": [
      "study\n",
      "python\n",
      "language\n"
     ]
    }
   ],
   "source": [
    "for i in L2:\n",
    "  #  print(i)\n",
    "    if len(i) >= 3:\n",
    "        print(i)"
   ]
  },
  {
   "cell_type": "markdown",
   "id": "02bada7a",
   "metadata": {},
   "source": [
    "리스트에 저장된 데이터를 아래와 같이 출력하세요 <br>\n",
    "101호 <br>\n",
    "102호 <br>\n",
    "201호 <br>\n",
    "202호 <br>\n",
    "301호 <br>\n",
    "303호 <br>"
   ]
  },
  {
   "cell_type": "code",
   "execution_count": 1,
   "id": "80fe95dd",
   "metadata": {},
   "outputs": [],
   "source": [
    "apart = [[101, 102], [201, 202], [301, 302]]"
   ]
  },
  {
   "cell_type": "code",
   "execution_count": 2,
   "id": "f2afc525",
   "metadata": {},
   "outputs": [
    {
     "name": "stdout",
     "output_type": "stream",
     "text": [
      "101호\n",
      "102호\n",
      "201호\n",
      "202호\n",
      "301호\n",
      "302호\n"
     ]
    }
   ],
   "source": [
    "# list에서 자료를 for문으로 1개씩 꺼내기\n",
    "# 꺼낸 자료를 다시 for문에 넣어서 안쪽 자료 꺼내기\n",
    "# 자료 + \"호\" 붙여서 출력하기\n",
    "for home in apart:\n",
    "    #print(home)\n",
    "    for home2 in home:\n",
    "        #print(home2)\n",
    "        print(f\"{home2}호\")"
   ]
  },
  {
   "cell_type": "code",
   "execution_count": 3,
   "id": "947d8cd0",
   "metadata": {},
   "outputs": [
    {
     "name": "stdout",
     "output_type": "stream",
     "text": [
      "301호\n",
      "302호\n",
      "201호\n",
      "202호\n",
      "101호\n",
      "102호\n"
     ]
    }
   ],
   "source": [
    "# 층 있는 바깥 리스트의 순서를 역순 정렬\n",
    "# 반복문으로 하나씩 꺼내기\n",
    "# 꺼낸 자료 다시 반복문에 넣고 출력, \"호\" 붙이기\n",
    "for home in apart[::-1]:\n",
    "    #print(home)\n",
    "    for home2 in home:\n",
    "        #print(home2)\n",
    "        print(f\"{home2}호\")"
   ]
  },
  {
   "cell_type": "code",
   "execution_count": 7,
   "id": "b261971f",
   "metadata": {},
   "outputs": [
    {
     "name": "stdout",
     "output_type": "stream",
     "text": [
      "301호\n",
      "302호\n",
      "201호\n",
      "202호\n",
      "101호\n",
      "102호\n"
     ]
    }
   ],
   "source": [
    "# 층 있는 바깥 리스트의 순서를 역순 정렬\n",
    "# 반복문으로 하나씩 꺼내기\n",
    "# 꺼낸 자료 다시 반복문에 넣고 출력, \"호\" 붙이기\n",
    "for home in reversed(apart):\n",
    "    #print(home)\n",
    "    for home2 in home:\n",
    "        #print(home2)\n",
    "        print(f\"{home2}호\")"
   ]
  },
  {
   "cell_type": "code",
   "execution_count": null,
   "id": "733f1997",
   "metadata": {},
   "outputs": [],
   "source": []
  },
  {
   "cell_type": "code",
   "execution_count": null,
   "id": "aae5d5f7",
   "metadata": {},
   "outputs": [],
   "source": []
  },
  {
   "cell_type": "code",
   "execution_count": null,
   "id": "79de478d",
   "metadata": {},
   "outputs": [],
   "source": []
  }
 ],
 "metadata": {
  "kernelspec": {
   "display_name": "Python 3 (ipykernel)",
   "language": "python",
   "name": "python3"
  },
  "language_info": {
   "codemirror_mode": {
    "name": "ipython",
    "version": 3
   },
   "file_extension": ".py",
   "mimetype": "text/x-python",
   "name": "python",
   "nbconvert_exporter": "python",
   "pygments_lexer": "ipython3",
   "version": "3.9.21"
  }
 },
 "nbformat": 4,
 "nbformat_minor": 5
}
