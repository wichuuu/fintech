{
 "cells": [
  {
   "cell_type": "markdown",
   "id": "390e0d05",
   "metadata": {},
   "source": [
    "# 딕셔너리 사용 연습문제 30개"
   ]
  },
  {
   "cell_type": "markdown",
   "id": "e8558338",
   "metadata": {},
   "source": [
    "1. **빈 딕셔너리 `empty_dict`를 생성하고 출력하세요.**  "
   ]
  },
  {
   "cell_type": "code",
   "execution_count": 2,
   "id": "1b64bbe4",
   "metadata": {},
   "outputs": [
    {
     "data": {
      "text/plain": [
       "{}"
      ]
     },
     "execution_count": 2,
     "metadata": {},
     "output_type": "execute_result"
    }
   ],
   "source": [
    "empty_dict={}\n",
    "empty_dict"
   ]
  },
  {
   "cell_type": "markdown",
   "id": "65850ac2",
   "metadata": {},
   "source": [
    "2. **다음과 같은 딕셔너리를 생성하고 출력하세요.**  \n",
    "   ```python\n",
    "   person = {\"name\": \"Alice\", \"age\": 25, \"city\": \"Seoul\"}\n",
    " \n",
    "   ```"
   ]
  },
  {
   "cell_type": "code",
   "execution_count": 6,
   "id": "618318d3",
   "metadata": {},
   "outputs": [
    {
     "data": {
      "text/plain": [
       "{'name': 'Alice', 'age': 25, 'city': 'seoul'}"
      ]
     },
     "execution_count": 6,
     "metadata": {},
     "output_type": "execute_result"
    }
   ],
   "source": [
    "person = {\"name\": \"Alice\", \"age\": 25, \"city\": \"seoul\"}\n",
    "person"
   ]
  },
  {
   "cell_type": "markdown",
   "id": "c3427c56",
   "metadata": {},
   "source": [
    "3. **딕셔너리 `person`에서 `\"name\"` 키의 값을 출력하세요.**  \n",
    "```python\n",
    "Alice\n",
    "```"
   ]
  },
  {
   "cell_type": "code",
   "execution_count": 11,
   "id": "7d2b0f10",
   "metadata": {},
   "outputs": [
    {
     "data": {
      "text/plain": [
       "'Alice'"
      ]
     },
     "execution_count": 11,
     "metadata": {},
     "output_type": "execute_result"
    }
   ],
   "source": [
    "person[\"name\"]"
   ]
  },
  {
   "cell_type": "markdown",
   "id": "cda292d7",
   "metadata": {},
   "source": [
    "4. **딕셔너리 `person`에서 `\"age\"` 키의 값을 출력하세요.**  \n",
    "   ```python\n",
    "   25\n",
    "   ```"
   ]
  },
  {
   "cell_type": "code",
   "execution_count": 12,
   "id": "1fa8e06c",
   "metadata": {},
   "outputs": [
    {
     "data": {
      "text/plain": [
       "25"
      ]
     },
     "execution_count": 12,
     "metadata": {},
     "output_type": "execute_result"
    }
   ],
   "source": [
    "person[\"age\"]"
   ]
  },
  {
   "cell_type": "markdown",
   "id": "9c9bf58c",
   "metadata": {},
   "source": [
    "5. **딕셔너리 `person`에 `\"job\": \"Engineer\"`를 추가하고 출력하세요.**  \n",
    "   ```python\n",
    "   {\"name\": \"Alice\", \"age\": 25, \"city\": \"Seoul\", \"job\": \"Engineer\"}\n",
    "   ```"
   ]
  },
  {
   "cell_type": "code",
   "execution_count": 14,
   "id": "51083ccd",
   "metadata": {},
   "outputs": [
    {
     "data": {
      "text/plain": [
       "{'name': 'Alice', 'age': 25, 'city': 'seoul', 'job': 'Engineer'}"
      ]
     },
     "execution_count": 14,
     "metadata": {},
     "output_type": "execute_result"
    }
   ],
   "source": [
    "person[\"job\"] = \"Engineer\"\n",
    "person"
   ]
  },
  {
   "cell_type": "markdown",
   "id": "f1e12ed4",
   "metadata": {},
   "source": [
    "6. **딕셔너리 `person`에서 `\"city\"`의 값을 `\"Busan\"`으로 변경하고 출력하세요.**  \n",
    "   ```python\n",
    "{\"name\": \"Alice\", \"age\": 25, \"city\": \"Busan\", \"job\": \"Engineer\"}\n",
    "   \n",
    "   ```"
   ]
  },
  {
   "cell_type": "code",
   "execution_count": 15,
   "id": "d9c42b60",
   "metadata": {},
   "outputs": [
    {
     "data": {
      "text/plain": [
       "{'name': 'Alice', 'age': 25, 'city': 'Busan', 'job': 'Engineer'}"
      ]
     },
     "execution_count": 15,
     "metadata": {},
     "output_type": "execute_result"
    }
   ],
   "source": [
    "person[\"city\"] = \"Busan\"\n",
    "person"
   ]
  },
  {
   "cell_type": "markdown",
   "id": "2799c34c",
   "metadata": {},
   "source": [
    "7. **딕셔너리 `person`에서 `\"age\"` 키를 삭제하고 출력하세요.**  \n",
    "   ```python\n",
    "   {\"name\": \"Alice\", \"city\": \"Busan\", \"job\": \"Engineer\"}\n",
    "   ```"
   ]
  },
  {
   "cell_type": "code",
   "execution_count": 17,
   "id": "6c1e7848",
   "metadata": {},
   "outputs": [
    {
     "ename": "KeyError",
     "evalue": "'age'",
     "output_type": "error",
     "traceback": [
      "\u001b[1;31m---------------------------------------------------------------------------\u001b[0m",
      "\u001b[1;31mKeyError\u001b[0m                                  Traceback (most recent call last)",
      "Cell \u001b[1;32mIn[17], line 1\u001b[0m\n\u001b[1;32m----> 1\u001b[0m \u001b[38;5;28;01mdel\u001b[39;00m person[\u001b[38;5;124m\"\u001b[39m\u001b[38;5;124mage\u001b[39m\u001b[38;5;124m\"\u001b[39m]\n",
      "\u001b[1;31mKeyError\u001b[0m: 'age'"
     ]
    }
   ],
   "source": [
    "del person[\"age\"]"
   ]
  },
  {
   "cell_type": "code",
   "execution_count": 18,
   "id": "278276aa",
   "metadata": {},
   "outputs": [
    {
     "data": {
      "text/plain": [
       "{'name': 'Alice', 'city': 'Busan', 'job': 'Engineer'}"
      ]
     },
     "execution_count": 18,
     "metadata": {},
     "output_type": "execute_result"
    }
   ],
   "source": [
    "person"
   ]
  },
  {
   "cell_type": "markdown",
   "id": "c482e2f1",
   "metadata": {},
   "source": [
    "8. **딕셔너리 `person`의 모든 키를 출력하세요.**  \n",
    "   ```python\n",
    "   dict_keys(['name', 'city', 'job'])\n",
    "   ```"
   ]
  },
  {
   "cell_type": "code",
   "execution_count": 21,
   "id": "a2658fd6",
   "metadata": {},
   "outputs": [
    {
     "data": {
      "text/plain": [
       "dict_keys(['name', 'city', 'job'])"
      ]
     },
     "execution_count": 21,
     "metadata": {},
     "output_type": "execute_result"
    }
   ],
   "source": [
    "person.keys()"
   ]
  },
  {
   "cell_type": "markdown",
   "id": "45921484",
   "metadata": {},
   "source": [
    "9. **딕셔너리 `person`의 모든 값(value)을 출력하세요.**  \n",
    "   ```python\n",
    "   dict_values(['Alice', 'Busan', 'Engineer'])\n",
    "   ```"
   ]
  },
  {
   "cell_type": "code",
   "execution_count": 22,
   "id": "babc77b2",
   "metadata": {},
   "outputs": [
    {
     "data": {
      "text/plain": [
       "dict_values(['Alice', 'Busan', 'Engineer'])"
      ]
     },
     "execution_count": 22,
     "metadata": {},
     "output_type": "execute_result"
    }
   ],
   "source": [
    "person.values()"
   ]
  },
  {
   "cell_type": "markdown",
   "id": "59c335b6",
   "metadata": {},
   "source": [
    "10. **딕셔너리 `person`의 모든 키-값 쌍을 출력하세요.**  \n",
    "    ```python\n",
    "    dict_items([('name', 'Alice'), ('city', 'Busan'), ('job', 'Engineer')])\n",
    "    ```"
   ]
  },
  {
   "cell_type": "code",
   "execution_count": 24,
   "id": "b2a99000",
   "metadata": {
    "scrolled": true
   },
   "outputs": [
    {
     "data": {
      "text/plain": [
       "dict_items([('name', 'Alice'), ('city', 'Busan'), ('job', 'Engineer')])"
      ]
     },
     "execution_count": 24,
     "metadata": {},
     "output_type": "execute_result"
    }
   ],
   "source": [
    "person.items()"
   ]
  },
  {
   "cell_type": "markdown",
   "id": "b2f41530",
   "metadata": {},
   "source": [
    "11. **`\"email\"` 키가 딕셔너리 `person`에 존재하는지 확인하세요.**  \n",
    "    ```python\n",
    " False\n",
    "    ```"
   ]
  },
  {
   "cell_type": "code",
   "execution_count": 25,
   "id": "2a6d2b52",
   "metadata": {},
   "outputs": [
    {
     "data": {
      "text/plain": [
       "False"
      ]
     },
     "execution_count": 25,
     "metadata": {},
     "output_type": "execute_result"
    }
   ],
   "source": [
    "\"email\" in person"
   ]
  },
  {
   "cell_type": "markdown",
   "id": "a8c0ffb4",
   "metadata": {},
   "source": [
    "12.**`person`에서 `\"job\"`을 제거하고 출력하세요.**  \n",
    "    \n",
    "```python\n",
    "\"Engineer\",\n",
    "{'name': 'Alice', 'city': 'Busan'}\n",
    "```"
   ]
  },
  {
   "cell_type": "code",
   "execution_count": 27,
   "id": "588aa9f4",
   "metadata": {},
   "outputs": [
    {
     "ename": "KeyError",
     "evalue": "'job'",
     "output_type": "error",
     "traceback": [
      "\u001b[1;31m---------------------------------------------------------------------------\u001b[0m",
      "\u001b[1;31mKeyError\u001b[0m                                  Traceback (most recent call last)",
      "Cell \u001b[1;32mIn[27], line 1\u001b[0m\n\u001b[1;32m----> 1\u001b[0m \u001b[38;5;28;01mdel\u001b[39;00m person[\u001b[38;5;124m\"\u001b[39m\u001b[38;5;124mjob\u001b[39m\u001b[38;5;124m\"\u001b[39m]\n",
      "\u001b[1;31mKeyError\u001b[0m: 'job'"
     ]
    }
   ],
   "source": [
    "del person[\"job\"]"
   ]
  },
  {
   "cell_type": "code",
   "execution_count": 28,
   "id": "f0af72cd",
   "metadata": {},
   "outputs": [
    {
     "data": {
      "text/plain": [
       "{'name': 'Alice', 'city': 'Busan'}"
      ]
     },
     "execution_count": 28,
     "metadata": {},
     "output_type": "execute_result"
    }
   ],
   "source": [
    "person"
   ]
  },
  {
   "cell_type": "markdown",
   "id": "3748db0a",
   "metadata": {},
   "source": [
    "13. **`person` 딕셔너리의 모든 키-값 쌍을 초기화하고 출력하세요.**  \n",
    "    ```python\n",
    "    {}\n",
    "    ```"
   ]
  },
  {
   "cell_type": "code",
   "execution_count": 30,
   "id": "2f7cba40",
   "metadata": {},
   "outputs": [
    {
     "ename": "TypeError",
     "evalue": "pop expected at least 1 argument, got 0",
     "output_type": "error",
     "traceback": [
      "\u001b[1;31m---------------------------------------------------------------------------\u001b[0m",
      "\u001b[1;31mTypeError\u001b[0m                                 Traceback (most recent call last)",
      "Cell \u001b[1;32mIn[30], line 1\u001b[0m\n\u001b[1;32m----> 1\u001b[0m \u001b[43mperson\u001b[49m\u001b[38;5;241;43m.\u001b[39;49m\u001b[43mpop\u001b[49m\u001b[43m(\u001b[49m\u001b[43m)\u001b[49m\n",
      "\u001b[1;31mTypeError\u001b[0m: pop expected at least 1 argument, got 0"
     ]
    }
   ],
   "source": []
  },
  {
   "cell_type": "markdown",
   "id": "dffe8c44",
   "metadata": {},
   "source": [
    "14. **중첩 딕셔너리를 student 변수에 생성하고 출력하세요.**  \n",
    "```python\n",
    "{\"name\": \"Bob\",\n",
    " \"grades\": {\"math\": 85, \"science\": 90, \"history\": 80}\n",
    "}\n",
    "```"
   ]
  },
  {
   "cell_type": "code",
   "execution_count": 44,
   "id": "d200f060",
   "metadata": {},
   "outputs": [
    {
     "data": {
      "text/plain": [
       "{'name': 'Bob', 'grades': {'math': 85, 'science': 90, 'history': 80}}"
      ]
     },
     "execution_count": 44,
     "metadata": {},
     "output_type": "execute_result"
    }
   ],
   "source": [
    "student = {\"name\": \"Bob\",\n",
    " \"grades\": {\"math\": 85, \"science\": 90, \"history\": 80}\n",
    "}\n",
    "student"
   ]
  },
  {
   "cell_type": "markdown",
   "id": "94914f3e",
   "metadata": {},
   "source": [
    "15.**student에서 \"science\" 점수를 출력하세요.**  \n",
    "```python\n",
    "90\n",
    "```"
   ]
  },
  {
   "cell_type": "code",
   "execution_count": 45,
   "id": "a4c75a28",
   "metadata": {},
   "outputs": [
    {
     "data": {
      "text/plain": [
       "90"
      ]
     },
     "execution_count": 45,
     "metadata": {},
     "output_type": "execute_result"
    }
   ],
   "source": [
    "student[\"grades\"][\"science\"]"
   ]
  },
  {
   "cell_type": "markdown",
   "id": "408d082f",
   "metadata": {},
   "source": [
    "16. **`student`의 `\"grades\"`에 `\"english\": 95`를 추가하고 출력하세요.**  \n",
    "    ```python\n",
    "    {'math': 85, 'science': 90, 'history': 80, 'english': 95}\n",
    "    ```"
   ]
  },
  {
   "cell_type": "code",
   "execution_count": 46,
   "id": "8ff44a80",
   "metadata": {},
   "outputs": [],
   "source": [
    "student[\"grades\"].update(englisg=95)"
   ]
  },
  {
   "cell_type": "code",
   "execution_count": 47,
   "id": "727e12b9",
   "metadata": {},
   "outputs": [
    {
     "data": {
      "text/plain": [
       "{'math': 85, 'science': 90, 'history': 80, 'englisg': 95}"
      ]
     },
     "execution_count": 47,
     "metadata": {},
     "output_type": "execute_result"
    }
   ],
   "source": [
    "student[\"grades\"]"
   ]
  },
  {
   "cell_type": "markdown",
   "id": "8ff0acb5",
   "metadata": {},
   "source": [
    "17. **`student`의 `\"math\"` 점수를 88로 변경하고 출력하세요.**  \n",
    "    ```python\n",
    "    {'math': 88, 'science': 90, 'history': 80, 'english': 95}\n",
    "    ```"
   ]
  },
  {
   "cell_type": "code",
   "execution_count": 49,
   "id": "e8900e70",
   "metadata": {},
   "outputs": [],
   "source": [
    "student[\"grades\"][\"math\"] = 88"
   ]
  },
  {
   "cell_type": "code",
   "execution_count": 50,
   "id": "853df6ba",
   "metadata": {},
   "outputs": [
    {
     "data": {
      "text/plain": [
       "{'name': 'Bob',\n",
       " 'grades': {'math': 88, 'science': 90, 'history': 80, 'englisg': 95}}"
      ]
     },
     "execution_count": 50,
     "metadata": {},
     "output_type": "execute_result"
    }
   ],
   "source": [
    "student"
   ]
  },
  {
   "cell_type": "markdown",
   "id": "2cc3c926",
   "metadata": {},
   "source": [
    "18. **`student`에서 `\"history\"` 점수를 삭제하고 출력하세요.**  \n",
    "    ```python\n",
    "    {'math': 88, 'science': 90, 'english': 95}\n",
    "    ```"
   ]
  },
  {
   "cell_type": "code",
   "execution_count": 52,
   "id": "8043137e",
   "metadata": {},
   "outputs": [
    {
     "ename": "KeyError",
     "evalue": "'history'",
     "output_type": "error",
     "traceback": [
      "\u001b[1;31m---------------------------------------------------------------------------\u001b[0m",
      "\u001b[1;31mKeyError\u001b[0m                                  Traceback (most recent call last)",
      "Cell \u001b[1;32mIn[52], line 1\u001b[0m\n\u001b[1;32m----> 1\u001b[0m \u001b[38;5;28;01mdel\u001b[39;00m student[\u001b[38;5;124m\"\u001b[39m\u001b[38;5;124mgrades\u001b[39m\u001b[38;5;124m\"\u001b[39m][\u001b[38;5;124m\"\u001b[39m\u001b[38;5;124mhistory\u001b[39m\u001b[38;5;124m\"\u001b[39m]\n",
      "\u001b[1;31mKeyError\u001b[0m: 'history'"
     ]
    }
   ],
   "source": [
    "del student[\"grades\"][\"history\"]"
   ]
  },
  {
   "cell_type": "code",
   "execution_count": 53,
   "id": "612537c0",
   "metadata": {},
   "outputs": [
    {
     "data": {
      "text/plain": [
       "{'name': 'Bob', 'grades': {'math': 88, 'science': 90, 'englisg': 95}}"
      ]
     },
     "execution_count": 53,
     "metadata": {},
     "output_type": "execute_result"
    }
   ],
   "source": [
    "student"
   ]
  },
  {
   "cell_type": "markdown",
   "id": "6a6fa813",
   "metadata": {},
   "source": [
    "19. **딕셔너리 `student`에서 setdefault를 이용하여 `\"total\"`이란 키를 만들고 math, science, english의 합계를 입력하세요. 단, 합계를 구할 때 값을 수동입력 하지 말고 딕셔너리에서 추출해서 더하도록 하세요.**  \n",
    "    ```python\n",
    "    {'name': 'Bob',\n",
    "    'grades': {'math': 85, 'science': 90, 'english': 95},\n",
    "    'total': 270}\n",
    "    ```"
   ]
  },
  {
   "cell_type": "code",
   "execution_count": null,
   "id": "136d96d7",
   "metadata": {},
   "outputs": [],
   "source": []
  },
  {
   "cell_type": "markdown",
   "id": "88a32762",
   "metadata": {},
   "source": [
    "20. **딕셔너리 `student`에서 update를 이용하여 'english' 는 100, 'history'는 80를 입력하세요.**  \n",
    "```python\n",
    " {'name': 'Bob',\n",
    " 'grades': {'math': 85, 'science': 90, 'english': 100, 'history': 80},\n",
    " 'total': 270}\n",
    "```"
   ]
  },
  {
   "cell_type": "code",
   "execution_count": null,
   "id": "ba971f25",
   "metadata": {},
   "outputs": [],
   "source": []
  },
  {
   "cell_type": "markdown",
   "id": "505c5f30",
   "metadata": {},
   "source": [
    "21.**courses라는 변수에 dict() 함수를 사용하여 다음과 같은 딕셔너리를 생성하세요.**\n",
    "```python\n",
    "{'programming': {'python': 50, 'java': 30, 'Cpp': 20},\n",
    " 'design': {'Photoshop': 25, 'Illustrator': 15}}\n",
    "```"
   ]
  },
  {
   "cell_type": "code",
   "execution_count": 54,
   "id": "f3d31c06",
   "metadata": {},
   "outputs": [],
   "source": [
    "courses = {'programming': {'python': 50, 'java': 30, 'Cpp': 20},\n",
    " 'design': {'Photoshop': 25, 'Illustrator': 15}}"
   ]
  },
  {
   "cell_type": "markdown",
   "id": "2973ce4b",
   "metadata": {},
   "source": [
    "22. **\"python\"의 수강생 수를 출력하세요.**  \n",
    "```python\n",
    "50\n",
    "```"
   ]
  },
  {
   "cell_type": "code",
   "execution_count": 55,
   "id": "f4a9a788",
   "metadata": {},
   "outputs": [
    {
     "data": {
      "text/plain": [
       "50"
      ]
     },
     "execution_count": 55,
     "metadata": {},
     "output_type": "execute_result"
    }
   ],
   "source": [
    "courses[\"programming\"][\"python\"]"
   ]
  },
  {
   "cell_type": "markdown",
   "id": "c574c0b7",
   "metadata": {},
   "source": [
    "23. **딕셔너리 `courses`에서 `\"Cpp\"` 수강생 수를 25로 변경하고 출력하세요.**  \n",
    "    ```python\n",
    "    {'python': 50, 'java': 30, 'Cpp': 25}\n",
    "    ```\n"
   ]
  },
  {
   "cell_type": "code",
   "execution_count": 56,
   "id": "be0d727b",
   "metadata": {},
   "outputs": [
    {
     "data": {
      "text/plain": [
       "{'programming': {'python': 50, 'java': 30, 'Cpp': 20, 'cpp': 25},\n",
       " 'design': {'Photoshop': 25, 'Illustrator': 15}}"
      ]
     },
     "execution_count": 56,
     "metadata": {},
     "output_type": "execute_result"
    }
   ],
   "source": [
    "courses[\"programming\"][\"cpp\"] = 25\n",
    "courses"
   ]
  },
  {
   "cell_type": "markdown",
   "id": "fa06d68c",
   "metadata": {},
   "source": [
    "24. **딕셔너리 `courses`에서 `\"Photoshop\"` 수강생 수를 삭제하고 출력하세요.**  \n",
    "    ```python\n",
    "{'programming': {'python': 50, 'java': 30, 'Cpp': 25},\n",
    " 'design': {'Illustrator': 15}}\n",
    "    ```"
   ]
  },
  {
   "cell_type": "code",
   "execution_count": 58,
   "id": "db2701a4",
   "metadata": {},
   "outputs": [],
   "source": [
    "del courses[\"design\"][\"Photoshop\"]"
   ]
  },
  {
   "cell_type": "code",
   "execution_count": 59,
   "id": "830cff99",
   "metadata": {},
   "outputs": [
    {
     "data": {
      "text/plain": [
       "{'programming': {'python': 50, 'java': 30, 'Cpp': 20, 'cpp': 25},\n",
       " 'design': {'Illustrator': 15}}"
      ]
     },
     "execution_count": 59,
     "metadata": {},
     "output_type": "execute_result"
    }
   ],
   "source": [
    "courses"
   ]
  },
  {
   "cell_type": "markdown",
   "id": "e3569b30",
   "metadata": {},
   "source": [
    "25. **딕셔너리 `courses`에서 `\"JavaScript\": 40`을 `\"programming\"` 항목에 추가하고 출력하세요.**  \n",
    "    ```python\n",
    "    {'python': 50, 'java': 30, 'Cpp': 25, 'JavaScript': 40}\n",
    "    ```"
   ]
  },
  {
   "cell_type": "code",
   "execution_count": 61,
   "id": "c93fafca",
   "metadata": {
    "scrolled": true
   },
   "outputs": [
    {
     "data": {
      "text/plain": [
       "{'programming': {'python': 50,\n",
       "  'java': 30,\n",
       "  'Cpp': 20,\n",
       "  'cpp': 25,\n",
       "  'Javascript': 40},\n",
       " 'design': {'Illustrator': 15}}"
      ]
     },
     "execution_count": 61,
     "metadata": {},
     "output_type": "execute_result"
    }
   ],
   "source": [
    "courses[\"programming\"].update(Javascript=40)\n",
    "courses"
   ]
  },
  {
   "cell_type": "markdown",
   "id": "4ecadc8c",
   "metadata": {},
   "source": [
    "26. **딕셔너리 `courses`의 모든 과목명을 출력하세요.**  \n",
    "    ```python\n",
    "    dict_keys(['programming', 'design'])\n",
    "    ```"
   ]
  },
  {
   "cell_type": "code",
   "execution_count": 63,
   "id": "b8311f71",
   "metadata": {},
   "outputs": [
    {
     "data": {
      "text/plain": [
       "dict_keys(['programming', 'design'])"
      ]
     },
     "execution_count": 63,
     "metadata": {},
     "output_type": "execute_result"
    }
   ],
   "source": [
    "courses.keys()"
   ]
  },
  {
   "cell_type": "markdown",
   "id": "d8e20b0c",
   "metadata": {},
   "source": [
    "27. **딕셔너리 `courses`에서 `\"design\"` 과목의 모든 정보를 출력하세요.**  \n",
    "    ```python\n",
    "    {'Illustrator': 15}\n",
    "    ```"
   ]
  },
  {
   "cell_type": "code",
   "execution_count": 64,
   "id": "7e5be589",
   "metadata": {},
   "outputs": [
    {
     "data": {
      "text/plain": [
       "{'Illustrator': 15}"
      ]
     },
     "execution_count": 64,
     "metadata": {},
     "output_type": "execute_result"
    }
   ],
   "source": [
    "courses[\"design\"]"
   ]
  },
  {
   "cell_type": "markdown",
   "id": "7330bae3",
   "metadata": {},
   "source": [
    "28. **딕셔너리 `courses`에서 `\"design\"` 항목을 삭제하고 전체 딕셔너리를 출력하세요.**  \n",
    "    ```python\n",
    "    {'programming': {'python': 50, 'java': 30, 'Cpp': 25, 'JavaScript': 40}}\n",
    "    ```"
   ]
  },
  {
   "cell_type": "code",
   "execution_count": 69,
   "id": "850d00f8",
   "metadata": {},
   "outputs": [
    {
     "name": "stdout",
     "output_type": "stream",
     "text": [
      "True\n"
     ]
    }
   ],
   "source": [
    "print(\"programming\" in courses)"
   ]
  },
  {
   "cell_type": "markdown",
   "id": "c5c05027",
   "metadata": {},
   "source": [
    "29. **딕셔너리 `courses`에서 `\"programming\"` 항목이 존재하는지 확인하세요.**  \n",
    "    ```python\n",
    "    True\n",
    "    ```"
   ]
  },
  {
   "cell_type": "code",
   "execution_count": 65,
   "id": "48168ce4",
   "metadata": {},
   "outputs": [
    {
     "data": {
      "text/plain": [
       "True"
      ]
     },
     "execution_count": 65,
     "metadata": {},
     "output_type": "execute_result"
    }
   ],
   "source": [
    "\"programming\" in courses"
   ]
  },
  {
   "cell_type": "markdown",
   "id": "ef0816ad",
   "metadata": {},
   "source": [
    "30. **딕셔너리 `courses`에서 `\"design\"` 항목을 출력하고 `\"design\"` 이 없다면 design key 없음 이라고 출력하도록 하세요.** \n",
    "```python\n",
    "design key 없음\n",
    "```"
   ]
  },
  {
   "cell_type": "code",
   "execution_count": 66,
   "id": "d23cbfa3",
   "metadata": {},
   "outputs": [
    {
     "name": "stdout",
     "output_type": "stream",
     "text": [
      "design key 없음\n"
     ]
    },
    {
     "data": {
      "text/plain": [
       "(True, None)"
      ]
     },
     "execution_count": 66,
     "metadata": {},
     "output_type": "execute_result"
    }
   ],
   "source": [
    "\"design\" in courses, print(\"design key 없음\")"
   ]
  }
 ],
 "metadata": {
  "kernelspec": {
   "display_name": "Python 3 (ipykernel)",
   "language": "python",
   "name": "python3"
  },
  "language_info": {
   "codemirror_mode": {
    "name": "ipython",
    "version": 3
   },
   "file_extension": ".py",
   "mimetype": "text/x-python",
   "name": "python",
   "nbconvert_exporter": "python",
   "pygments_lexer": "ipython3",
   "version": "3.9.21"
  }
 },
 "nbformat": 4,
 "nbformat_minor": 5
}
