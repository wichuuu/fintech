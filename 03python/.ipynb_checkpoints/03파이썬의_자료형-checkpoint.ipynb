{
 "cells": [
  {
   "cell_type": "markdown",
   "id": "9105ac48",
   "metadata": {},
   "source": [
    "# 파이썬의 자료형 (data type)\n",
    "## 파이썬의 자료형은 동적으로 변화\n",
    "* int: 정수(소숫점이 없는 숫자)\n",
    "* float: 실수 (소숫점이 있는 숫자)\n",
    "* str: 문자/문자열\n",
    "* list: 여러 개의 자료가 순서대로 저장된 자료형, 모든 자료형을 넣어 만들 수 있음\n",
    "* tuple: list와 비슷하나 한 번 만들면 수정이 불가함, 모든 자료형을 넣을 수 있음\n",
    "* dictionary(dict): key : value 쌍으로 이루어진 자료형, 모든 자료형을 넣을 수 있음"
   ]
  },
  {
   "cell_type": "markdown",
   "id": "a21da966",
   "metadata": {},
   "source": [
    "# 데이터 타입을 출력하는 함수 type (변수)"
   ]
  },
  {
   "cell_type": "markdown",
   "id": "a6c02d7a",
   "metadata": {},
   "source": [
    "# 정수형 변수 (int)"
   ]
  },
  {
   "cell_type": "code",
   "execution_count": 1,
   "id": "ac8bb079",
   "metadata": {},
   "outputs": [
    {
     "name": "stdout",
     "output_type": "stream",
     "text": [
      "10\n"
     ]
    }
   ],
   "source": [
    "a = 10\n",
    "print(a)"
   ]
  },
  {
   "cell_type": "code",
   "execution_count": 7,
   "id": "5a200cc5",
   "metadata": {},
   "outputs": [
    {
     "name": "stdout",
     "output_type": "stream",
     "text": [
      "10\n"
     ]
    }
   ],
   "source": [
    "aa = \"10\"\n",
    "print(aa)"
   ]
  },
  {
   "cell_type": "code",
   "execution_count": 8,
   "id": "26eb814a",
   "metadata": {},
   "outputs": [
    {
     "data": {
      "text/plain": [
       "int"
      ]
     },
     "execution_count": 8,
     "metadata": {},
     "output_type": "execute_result"
    }
   ],
   "source": [
    "type(a)"
   ]
  },
  {
   "cell_type": "code",
   "execution_count": 9,
   "id": "1aeaa925",
   "metadata": {},
   "outputs": [
    {
     "data": {
      "text/plain": [
       "str"
      ]
     },
     "execution_count": 9,
     "metadata": {},
     "output_type": "execute_result"
    }
   ],
   "source": [
    "type(aa)"
   ]
  },
  {
   "cell_type": "code",
   "execution_count": 12,
   "id": "82c50bcf",
   "metadata": {},
   "outputs": [
    {
     "name": "stdout",
     "output_type": "stream",
     "text": [
      "10 <class 'int'>\n"
     ]
    }
   ],
   "source": [
    "print(a, type(a))"
   ]
  },
  {
   "cell_type": "code",
   "execution_count": 16,
   "id": "0e0d3d39",
   "metadata": {},
   "outputs": [
    {
     "name": "stdout",
     "output_type": "stream",
     "text": [
      "3.14 <class 'float'>\n"
     ]
    }
   ],
   "source": [
    "a = 3.14\n",
    "print(a, type(a))"
   ]
  },
  {
   "cell_type": "code",
   "execution_count": 17,
   "id": "818a0f53",
   "metadata": {},
   "outputs": [],
   "source": [
    "a = \"삼점일\""
   ]
  },
  {
   "cell_type": "code",
   "execution_count": 18,
   "id": "e5c3250b",
   "metadata": {},
   "outputs": [],
   "source": [
    "b = 5"
   ]
  },
  {
   "cell_type": "code",
   "execution_count": 23,
   "id": "d0aa446d",
   "metadata": {},
   "outputs": [
    {
     "data": {
      "text/plain": [
       "'삼점일삼점일삼점일삼점일삼점일'"
      ]
     },
     "execution_count": 23,
     "metadata": {},
     "output_type": "execute_result"
    }
   ],
   "source": [
    "a * b"
   ]
  },
  {
   "cell_type": "markdown",
   "id": "ca13ec0b",
   "metadata": {},
   "source": [
    "# 실수형 변수"
   ]
  },
  {
   "cell_type": "code",
   "execution_count": 25,
   "id": "10f3884a",
   "metadata": {},
   "outputs": [
    {
     "name": "stdout",
     "output_type": "stream",
     "text": [
      "3.14 <class 'float'>\n"
     ]
    }
   ],
   "source": [
    "f = 3.14\n",
    "print(f, type(f))"
   ]
  },
  {
   "cell_type": "code",
   "execution_count": 35,
   "id": "aecaada9",
   "metadata": {},
   "outputs": [
    {
     "name": "stdout",
     "output_type": "stream",
     "text": [
      "4\n",
      "-2\n",
      "3\n",
      "0.3333333333333333\n"
     ]
    }
   ],
   "source": [
    "a = 1\n",
    "b = 3\n",
    "print(a+b)\n",
    "print(a-b)\n",
    "print(a*b)\n",
    "print(a/b) #나눗셈의 결과는 실수"
   ]
  },
  {
   "cell_type": "markdown",
   "id": "cfeae02a",
   "metadata": {},
   "source": [
    "# 정수형 변수 +, -, *, / 실수형 변수\n",
    "* 정수형 변수(int)와 실수형 변수(float)를 연산하면 모두 실수(float)"
   ]
  },
  {
   "cell_type": "code",
   "execution_count": 29,
   "id": "5dda7c76",
   "metadata": {},
   "outputs": [
    {
     "name": "stdout",
     "output_type": "stream",
     "text": [
      "4.140000000000001\n",
      "-2.14\n",
      "3.14\n",
      "0.3184713375796178\n"
     ]
    }
   ],
   "source": [
    "print(a + f) \n",
    "print(a - f) \n",
    "print(a * f) \n",
    "print(a / f) "
   ]
  },
  {
   "cell_type": "code",
   "execution_count": 33,
   "id": "c570b5f8",
   "metadata": {},
   "outputs": [
    {
     "name": "stdout",
     "output_type": "stream",
     "text": [
      "a_plus_f: 4.140000000000001 <class 'float'>\n",
      "a_minus_f: -2.14 <class 'float'>\n",
      "a_mul_f: 3.14 <class 'float'>\n",
      "a_div_f: 0.3184713375796178 <class 'float'>\n"
     ]
    }
   ],
   "source": [
    "a_plus_f = a+f\n",
    "a_minus_f = a-f\n",
    "a_mul_f = a*f\n",
    "a_div_f = a/f\n",
    "print(\"a_plus_f:\", a_plus_f, type(a_plus_f))\n",
    "print(\"a_minus_f:\", a_minus_f, type(a_minus_f))\n",
    "print(\"a_mul_f:\", a_mul_f, type(a_mul_f))\n",
    "print(\"a_div_f:\", a_div_f,type(a_div_f))"
   ]
  },
  {
   "cell_type": "markdown",
   "id": "ae43a905",
   "metadata": {},
   "source": [
    "# 문자형 str"
   ]
  },
  {
   "cell_type": "code",
   "execution_count": 38,
   "id": "bb2be52a",
   "metadata": {},
   "outputs": [],
   "source": [
    "c = '문'\n",
    "d = \"자\"\n",
    "e = \"문자열\""
   ]
  },
  {
   "cell_type": "code",
   "execution_count": 40,
   "id": "5d9b6123",
   "metadata": {},
   "outputs": [
    {
     "name": "stdout",
     "output_type": "stream",
     "text": [
      "문 <class 'str'>\n",
      "자 <class 'str'>\n",
      "문자열 <class 'str'>\n"
     ]
    }
   ],
   "source": [
    "print(c, type(c))\n",
    "print(d, type(d))\n",
    "print(e, type(e))"
   ]
  },
  {
   "cell_type": "code",
   "execution_count": 43,
   "id": "f1ef01fe",
   "metadata": {},
   "outputs": [],
   "source": [
    "long_char = \"문자열은 아무리 길이가 길어도 한 줄로 되어 있어야 한다. 줄바꿈이 안 된다.\""
   ]
  },
  {
   "cell_type": "code",
   "execution_count": 44,
   "id": "6c451f5a",
   "metadata": {},
   "outputs": [
    {
     "data": {
      "text/plain": [
       "'문자열은 아무리 길이가 길어도 한 줄로 되어 있어야 한다. 줄바꿈이 안 된다.'"
      ]
     },
     "execution_count": 44,
     "metadata": {},
     "output_type": "execute_result"
    }
   ],
   "source": [
    "long_char"
   ]
  },
  {
   "cell_type": "code",
   "execution_count": 45,
   "id": "c06ee9d1",
   "metadata": {},
   "outputs": [],
   "source": [
    "long_char3 = \"문자열은 아무리 길이가 길어도 \\\n",
    "한 줄로 되어 있어야 한다.\\\n",
    "줄바꿈이 안 된다.\""
   ]
  },
  {
   "cell_type": "code",
   "execution_count": 47,
   "id": "f1bf1739",
   "metadata": {},
   "outputs": [
    {
     "data": {
      "text/plain": [
       "'문자열은 아무리 길이가 길어도 한 줄로 되어 있어야 한다.줄바꿈이 안 된다.'"
      ]
     },
     "execution_count": 47,
     "metadata": {},
     "output_type": "execute_result"
    }
   ],
   "source": [
    "long_char3"
   ]
  },
  {
   "cell_type": "code",
   "execution_count": 52,
   "id": "2d957d85",
   "metadata": {},
   "outputs": [
    {
     "ename": "SyntaxError",
     "evalue": "EOL while scanning string literal (3814093650.py, line 1)",
     "output_type": "error",
     "traceback": [
      "\u001b[1;36m  Cell \u001b[1;32mIn[52], line 1\u001b[1;36m\u001b[0m\n\u001b[1;33m    long_char4 = \"문자열은 아무리 길이가 길어도 \\n\u001b[0m\n\u001b[1;37m                                     ^\u001b[0m\n\u001b[1;31mSyntaxError\u001b[0m\u001b[1;31m:\u001b[0m EOL while scanning string literal\n"
     ]
    }
   ],
   "source": [
    "long_char4 = \"문자열은 아무리 길이가 길어도 \\n\n",
    "한 줄로 되어 있어야 한다.\\n\n",
    "줄바꿈이 안 된다.\" "
   ]
  },
  {
   "cell_type": "code",
   "execution_count": 58,
   "id": "e8b600f4",
   "metadata": {},
   "outputs": [],
   "source": [
    "long_char5 = \"\"\"따옴표 3개로 문자열을 감싸면\n",
    "줄바꿈을 해도 모두 그대로 출력이 된다.\n",
    "쌍따옴표 3개나 홀따옴표 3개로 감싸면 된다.\"\"\""
   ]
  },
  {
   "cell_type": "code",
   "execution_count": 59,
   "id": "29678582",
   "metadata": {},
   "outputs": [
    {
     "name": "stdout",
     "output_type": "stream",
     "text": [
      "따옴표 3개로 문자열을 감싸면\n",
      "줄바꿈을 해도 모두 그대로 출력이 된다.\n",
      "쌍따옴표 3개나 홀따옴표 3개로 감싸면 된다.\n"
     ]
    }
   ],
   "source": [
    "print(long_char5)"
   ]
  },
  {
   "cell_type": "code",
   "execution_count": 61,
   "id": "592b9521",
   "metadata": {},
   "outputs": [],
   "source": [
    "long_char6 = '''따옴표 3개로 문자열을 감싸면\n",
    "  줄바꿈을 해도 모두 그대로 출력이 된다.\n",
    "    쌍따옴표 3개나 홀따옴표 3개로 감싸면 된다.'''"
   ]
  },
  {
   "cell_type": "code",
   "execution_count": 71,
   "id": "d4ed018c",
   "metadata": {},
   "outputs": [
    {
     "name": "stdout",
     "output_type": "stream",
     "text": [
      "따옴표 3개로 문자열을 감싸면\n",
      "  줄바꿈을 해도 모두 그대로 출력이 된다.\n",
      "    쌍따옴표 3개나 홀따옴표 3개로 감싸면 된다.\n"
     ]
    }
   ],
   "source": [
    "print(long_char6)"
   ]
  },
  {
   "cell_type": "code",
   "execution_count": 72,
   "id": "d5d985db",
   "metadata": {},
   "outputs": [
    {
     "data": {
      "text/plain": [
       "'따옴표 3개로 문자열을 감싸면\\n  줄바꿈을 해도 모두 그대로 출력이 된다.\\n    쌍따옴표 3개나 홀따옴표 3개로 감싸면 된다.'"
      ]
     },
     "execution_count": 72,
     "metadata": {},
     "output_type": "execute_result"
    }
   ],
   "source": [
    "long_char6"
   ]
  },
  {
   "cell_type": "markdown",
   "id": "edba9e14",
   "metadata": {},
   "source": [
    "# 문자 덧셈 + , 문자 반복 *"
   ]
  },
  {
   "cell_type": "markdown",
   "id": "c44ffd0b",
   "metadata": {},
   "source": [
    "문자 변수1 + 문자 변수2 = 문자가 합쳐짐"
   ]
  },
  {
   "cell_type": "code",
   "execution_count": 67,
   "id": "dcbc2aa4",
   "metadata": {},
   "outputs": [
    {
     "data": {
      "text/plain": [
       "'문자'"
      ]
     },
     "execution_count": 67,
     "metadata": {},
     "output_type": "execute_result"
    }
   ],
   "source": [
    "c + d"
   ]
  },
  {
   "cell_type": "markdown",
   "id": "a766d35d",
   "metadata": {},
   "source": [
    "문자나 문자열을 반복하고 싶을 때: 문자 변수 * 숫자"
   ]
  },
  {
   "cell_type": "code",
   "execution_count": 69,
   "id": "3d91f4e6",
   "metadata": {},
   "outputs": [
    {
     "name": "stdout",
     "output_type": "stream",
     "text": [
      "--------------------------------------------------\n"
     ]
    }
   ],
   "source": [
    "print(\"-\" * 50)"
   ]
  },
  {
   "cell_type": "markdown",
   "id": "16ce2d7f",
   "metadata": {},
   "source": [
    "# 문자열은 순서가 있다.\n",
    "# 가장 앞글자가 0번부터 순서대로 숫자가 증가"
   ]
  },
  {
   "cell_type": "code",
   "execution_count": 73,
   "id": "8d916cf4",
   "metadata": {},
   "outputs": [
    {
     "data": {
      "text/plain": [
       "'문자열은 아무리 길이가 길어도 한 줄로 되어 있어야 한다. 줄바꿈이 안 된다.'"
      ]
     },
     "execution_count": 73,
     "metadata": {},
     "output_type": "execute_result"
    }
   ],
   "source": [
    "long_char"
   ]
  },
  {
   "cell_type": "markdown",
   "id": "6d9efd1c",
   "metadata": {},
   "source": [
    "길이를 재는 함수 len()"
   ]
  },
  {
   "cell_type": "code",
   "execution_count": 75,
   "id": "25eda228",
   "metadata": {},
   "outputs": [
    {
     "data": {
      "text/plain": [
       "43"
      ]
     },
     "execution_count": 75,
     "metadata": {},
     "output_type": "execute_result"
    }
   ],
   "source": [
    "len(long_char)"
   ]
  },
  {
   "cell_type": "markdown",
   "id": "65ac64ec",
   "metadata": {},
   "source": [
    "* 인덱싱 : 변수명 [인덱스번호]\n",
    "* 슬라이싱 : 변수명 [시작번호:끝번호+1]"
   ]
  },
  {
   "cell_type": "code",
   "execution_count": 80,
   "id": "3edd2e9f",
   "metadata": {},
   "outputs": [
    {
     "data": {
      "text/plain": [
       "'문'"
      ]
     },
     "execution_count": 80,
     "metadata": {},
     "output_type": "execute_result"
    }
   ],
   "source": [
    "long_char[0]"
   ]
  },
  {
   "cell_type": "code",
   "execution_count": 81,
   "id": "d268ad24",
   "metadata": {},
   "outputs": [
    {
     "data": {
      "text/plain": [
       "'어'"
      ]
     },
     "execution_count": 81,
     "metadata": {},
     "output_type": "execute_result"
    }
   ],
   "source": [
    "long_char[14]"
   ]
  },
  {
   "cell_type": "code",
   "execution_count": 79,
   "id": "482d7888",
   "metadata": {},
   "outputs": [
    {
     "ename": "NameError",
     "evalue": "name 'lonh_char' is not defined",
     "output_type": "error",
     "traceback": [
      "\u001b[1;31m----------------------------------------------------------------\u001b[0m",
      "\u001b[1;31mNameError\u001b[0m                      Traceback (most recent call last)",
      "Cell \u001b[1;32mIn[79], line 1\u001b[0m\n\u001b[1;32m----> 1\u001b[0m \u001b[43mlonh_char\u001b[49m[\u001b[38;5;241m43\u001b[39m]\n",
      "\u001b[1;31mNameError\u001b[0m: name 'lonh_char' is not defined"
     ]
    }
   ],
   "source": [
    "lonh_char[43]"
   ]
  },
  {
   "cell_type": "markdown",
   "id": "4f3e1bf1",
   "metadata": {},
   "source": [
    "# 리스트 list\n",
    "* 리스트는 [정수, 실수, 문자, 리스트, 튜플, 딕셔너리] 모두 넣을 수 있다.\n",
    "* 리스트는 여러 자료가 같이 나열된 형태이므로 순서가 있다.\n",
    "* 인덱싱, 슬라이싱 가능\n",
    "* 자료의 추가 삭제가 가능하다."
   ]
  },
  {
   "cell_type": "code",
   "execution_count": 82,
   "id": "a2bbd946",
   "metadata": {},
   "outputs": [],
   "source": [
    "L = [1, 2.0, \"삼\", [1, 2, 3], (4, 5, 6), {\"key\" : \"value\"}]"
   ]
  },
  {
   "cell_type": "code",
   "execution_count": 84,
   "id": "8a004f37",
   "metadata": {},
   "outputs": [
    {
     "data": {
      "text/plain": [
       "[1, 2.0, '삼', [1, 2, 3], (4, 5, 6), {'key': 'value'}]"
      ]
     },
     "execution_count": 84,
     "metadata": {},
     "output_type": "execute_result"
    }
   ],
   "source": [
    "L"
   ]
  },
  {
   "cell_type": "code",
   "execution_count": 86,
   "id": "d3e2d1eb",
   "metadata": {},
   "outputs": [
    {
     "name": "stdout",
     "output_type": "stream",
     "text": [
      "[1, 2.0, '삼', [1, 2, 3], (4, 5, 6), {'key': 'value'}]\n"
     ]
    }
   ],
   "source": [
    "print(L)"
   ]
  },
  {
   "cell_type": "code",
   "execution_count": 88,
   "id": "660d17b4",
   "metadata": {},
   "outputs": [
    {
     "data": {
      "text/plain": [
       "list"
      ]
     },
     "execution_count": 88,
     "metadata": {},
     "output_type": "execute_result"
    }
   ],
   "source": [
    "type(L)"
   ]
  },
  {
   "cell_type": "markdown",
   "id": "dd4f64a9",
   "metadata": {},
   "source": [
    "* list는 순서가 있는 자료형"
   ]
  },
  {
   "cell_type": "code",
   "execution_count": 90,
   "id": "07efeea9",
   "metadata": {},
   "outputs": [
    {
     "data": {
      "text/plain": [
       "1"
      ]
     },
     "execution_count": 90,
     "metadata": {},
     "output_type": "execute_result"
    }
   ],
   "source": [
    "L[0]"
   ]
  },
  {
   "cell_type": "code",
   "execution_count": 91,
   "id": "18196a2a",
   "metadata": {},
   "outputs": [
    {
     "data": {
      "text/plain": [
       "2.0"
      ]
     },
     "execution_count": 91,
     "metadata": {},
     "output_type": "execute_result"
    }
   ],
   "source": [
    "L[1]"
   ]
  },
  {
   "cell_type": "code",
   "execution_count": 93,
   "id": "b3112f30",
   "metadata": {},
   "outputs": [
    {
     "data": {
      "text/plain": [
       "(4, 5, 6)"
      ]
     },
     "execution_count": 93,
     "metadata": {},
     "output_type": "execute_result"
    }
   ],
   "source": [
    "L[4]"
   ]
  },
  {
   "cell_type": "code",
   "execution_count": 94,
   "id": "698bf358",
   "metadata": {},
   "outputs": [
    {
     "data": {
      "text/plain": [
       "[1, 2, 3]"
      ]
     },
     "execution_count": 94,
     "metadata": {},
     "output_type": "execute_result"
    }
   ],
   "source": [
    "L[3]"
   ]
  },
  {
   "cell_type": "code",
   "execution_count": 95,
   "id": "e6b4e25b",
   "metadata": {},
   "outputs": [
    {
     "data": {
      "text/plain": [
       "2"
      ]
     },
     "execution_count": 95,
     "metadata": {},
     "output_type": "execute_result"
    }
   ],
   "source": [
    "L[3][1]"
   ]
  },
  {
   "cell_type": "code",
   "execution_count": 101,
   "id": "f0ddf80f",
   "metadata": {},
   "outputs": [],
   "source": [
    "# 중첩 리스트\n",
    "l2 = [1,2,3, [4, 5, [6, 7, 8, [9, 10]]]]\n",
    "# 4부터 10까지는 3으로 카운트"
   ]
  },
  {
   "cell_type": "code",
   "execution_count": 104,
   "id": "b8939285",
   "metadata": {},
   "outputs": [
    {
     "data": {
      "text/plain": [
       "4"
      ]
     },
     "execution_count": 104,
     "metadata": {},
     "output_type": "execute_result"
    }
   ],
   "source": [
    "len(l2)"
   ]
  },
  {
   "cell_type": "code",
   "execution_count": 106,
   "id": "959b7cf8",
   "metadata": {},
   "outputs": [
    {
     "data": {
      "text/plain": [
       "1"
      ]
     },
     "execution_count": 106,
     "metadata": {},
     "output_type": "execute_result"
    }
   ],
   "source": [
    "l2[0]"
   ]
  },
  {
   "cell_type": "code",
   "execution_count": 108,
   "id": "5ef7371d",
   "metadata": {},
   "outputs": [
    {
     "data": {
      "text/plain": [
       "2"
      ]
     },
     "execution_count": 108,
     "metadata": {},
     "output_type": "execute_result"
    }
   ],
   "source": [
    "l2[1]"
   ]
  },
  {
   "cell_type": "code",
   "execution_count": 109,
   "id": "d7882db5",
   "metadata": {},
   "outputs": [
    {
     "data": {
      "text/plain": [
       "3"
      ]
     },
     "execution_count": 109,
     "metadata": {},
     "output_type": "execute_result"
    }
   ],
   "source": [
    "l2[2]"
   ]
  },
  {
   "cell_type": "code",
   "execution_count": 111,
   "id": "88805961",
   "metadata": {},
   "outputs": [
    {
     "data": {
      "text/plain": [
       "[4, 5, [6, 7, 8, [9, 10]]]"
      ]
     },
     "execution_count": 111,
     "metadata": {},
     "output_type": "execute_result"
    }
   ],
   "source": [
    "l2[3]"
   ]
  },
  {
   "cell_type": "code",
   "execution_count": 113,
   "id": "6d6c02fe",
   "metadata": {},
   "outputs": [
    {
     "data": {
      "text/plain": [
       "3"
      ]
     },
     "execution_count": 113,
     "metadata": {},
     "output_type": "execute_result"
    }
   ],
   "source": [
    "len(l2[3])"
   ]
  },
  {
   "cell_type": "code",
   "execution_count": 115,
   "id": "77336ea0",
   "metadata": {},
   "outputs": [
    {
     "data": {
      "text/plain": [
       "[6, 7, 8, [9, 10]]"
      ]
     },
     "execution_count": 115,
     "metadata": {},
     "output_type": "execute_result"
    }
   ],
   "source": [
    "l2[3][2]"
   ]
  },
  {
   "cell_type": "code",
   "execution_count": 118,
   "id": "0a6f2564",
   "metadata": {},
   "outputs": [
    {
     "data": {
      "text/plain": [
       "[9, 10]"
      ]
     },
     "execution_count": 118,
     "metadata": {},
     "output_type": "execute_result"
    }
   ],
   "source": [
    "l2[3][2][3]"
   ]
  },
  {
   "cell_type": "code",
   "execution_count": 120,
   "id": "a21c993c",
   "metadata": {},
   "outputs": [
    {
     "data": {
      "text/plain": [
       "9"
      ]
     },
     "execution_count": 120,
     "metadata": {},
     "output_type": "execute_result"
    }
   ],
   "source": [
    "l2[3][2][3][0]"
   ]
  },
  {
   "cell_type": "code",
   "execution_count": 122,
   "id": "18e89899",
   "metadata": {},
   "outputs": [
    {
     "data": {
      "text/plain": [
       "[1, 2, 3, [4, 5, [6, 7, 8, [9, 10]]], 'append', 'append']"
      ]
     },
     "execution_count": 122,
     "metadata": {},
     "output_type": "execute_result"
    }
   ],
   "source": [
    "#리스트 속성 추가\n",
    "l2.append(\"append\")\n",
    "l2"
   ]
  },
  {
   "cell_type": "code",
   "execution_count": 124,
   "id": "0230e44a",
   "metadata": {},
   "outputs": [
    {
     "data": {
      "text/plain": [
       "[1,\n",
       " 2,\n",
       " 3,\n",
       " [4, 5, [6, 7, 8, [9, 10]]],\n",
       " 'append',\n",
       " 'append',\n",
       " '[11,12,13]',\n",
       " '[11,12,13]']"
      ]
     },
     "execution_count": 124,
     "metadata": {},
     "output_type": "execute_result"
    }
   ],
   "source": [
    "l2.append(\"[11,12,13]\")\n",
    "l2"
   ]
  },
  {
   "cell_type": "markdown",
   "id": "6f6ae417",
   "metadata": {},
   "source": [
    "# tuple 튜플\n",
    "* 여러가지 자료를 () 안에 넣어서 만드는 자료형\n",
    "* 모든 data type을 자료로 받을 수 있다.\n",
    "* 한 번 생성하면 수정이 되지 않는다.\n",
    "* 튜플이 리스트보다 실행시 더 빠르다."
   ]
  },
  {
   "cell_type": "code",
   "execution_count": 125,
   "id": "36319b1b",
   "metadata": {},
   "outputs": [],
   "source": [
    "t = (1,)"
   ]
  },
  {
   "cell_type": "code",
   "execution_count": 127,
   "id": "f18df7ec",
   "metadata": {},
   "outputs": [
    {
     "name": "stdout",
     "output_type": "stream",
     "text": [
      "(1,) <class 'tuple'>\n"
     ]
    }
   ],
   "source": [
    "print(t, type(t))"
   ]
  },
  {
   "cell_type": "code",
   "execution_count": 129,
   "id": "ac8b928d",
   "metadata": {},
   "outputs": [
    {
     "data": {
      "text/plain": [
       "(10, 34.5, '튜플', [1, 2, 3], (4, 5, 6), {'key': 'value'})"
      ]
     },
     "execution_count": 129,
     "metadata": {},
     "output_type": "execute_result"
    }
   ],
   "source": [
    "t2 = (10, 34.5, \"튜플\", [1, 2, 3], (4, 5, 6), {\"key\" : \"value\"})\n",
    "t2"
   ]
  },
  {
   "cell_type": "code",
   "execution_count": 131,
   "id": "902e1a83",
   "metadata": {},
   "outputs": [
    {
     "name": "stdout",
     "output_type": "stream",
     "text": [
      "(10, 34.5, '튜플', [1, 2, 3], (4, 5, 6), {'key': 'value'})\n"
     ]
    }
   ],
   "source": [
    "print(t2)"
   ]
  },
  {
   "cell_type": "code",
   "execution_count": 133,
   "id": "4e8baf99",
   "metadata": {},
   "outputs": [
    {
     "data": {
      "text/plain": [
       "10"
      ]
     },
     "execution_count": 133,
     "metadata": {},
     "output_type": "execute_result"
    }
   ],
   "source": [
    "t2[0]"
   ]
  },
  {
   "cell_type": "code",
   "execution_count": 136,
   "id": "f226a235",
   "metadata": {},
   "outputs": [
    {
     "data": {
      "text/plain": [
       "5"
      ]
     },
     "execution_count": 136,
     "metadata": {},
     "output_type": "execute_result"
    }
   ],
   "source": [
    "t2[4][1]"
   ]
  },
  {
   "cell_type": "code",
   "execution_count": 137,
   "id": "a7f27e53",
   "metadata": {},
   "outputs": [
    {
     "data": {
      "text/plain": [
       "1"
      ]
     },
     "execution_count": 137,
     "metadata": {},
     "output_type": "execute_result"
    }
   ],
   "source": [
    "t2[3][0]"
   ]
  },
  {
   "cell_type": "code",
   "execution_count": 138,
   "id": "5fc14b0f",
   "metadata": {},
   "outputs": [
    {
     "data": {
      "text/plain": [
       "(10, 34.5, '튜플', [1, 2, 3])"
      ]
     },
     "execution_count": 138,
     "metadata": {},
     "output_type": "execute_result"
    }
   ],
   "source": [
    "t2[0:4]"
   ]
  },
  {
   "cell_type": "code",
   "execution_count": 139,
   "id": "211957b5",
   "metadata": {},
   "outputs": [],
   "source": [
    "t3 = (1, 2, 3, (4, 5, 6, [7, 8, 9, (10, 11, 12)]))"
   ]
  },
  {
   "cell_type": "code",
   "execution_count": 140,
   "id": "9e6a9d87",
   "metadata": {},
   "outputs": [
    {
     "data": {
      "text/plain": [
       "1"
      ]
     },
     "execution_count": 140,
     "metadata": {},
     "output_type": "execute_result"
    }
   ],
   "source": [
    "t3[0]"
   ]
  },
  {
   "cell_type": "code",
   "execution_count": 141,
   "id": "96c9ac55",
   "metadata": {},
   "outputs": [
    {
     "data": {
      "text/plain": [
       "(4, 5, 6, [7, 8, 9, (10, 11, 12)])"
      ]
     },
     "execution_count": 141,
     "metadata": {},
     "output_type": "execute_result"
    }
   ],
   "source": [
    "t3[3]"
   ]
  },
  {
   "cell_type": "code",
   "execution_count": 143,
   "id": "12dbb23b",
   "metadata": {},
   "outputs": [
    {
     "data": {
      "text/plain": [
       "11"
      ]
     },
     "execution_count": 143,
     "metadata": {},
     "output_type": "execute_result"
    }
   ],
   "source": [
    "t3[3][3][3][1]"
   ]
  },
  {
   "cell_type": "code",
   "execution_count": 148,
   "id": "76d94d77",
   "metadata": {},
   "outputs": [
    {
     "name": "stdout",
     "output_type": "stream",
     "text": [
      "t3: <class 'tuple'>\n",
      "t3[3]: <class 'tuple'>\n",
      "t3[3][3]: <class 'list'>\n",
      "t3[3][3][3]: <class 'tuple'>\n",
      "t3[3][3][3][1]: <class 'int'>\n"
     ]
    }
   ],
   "source": [
    "print(\"t3:\", type(t3))\n",
    "print(\"t3[3]:\", type(t3[3]))\n",
    "print(\"t3[3][3]:\", type(t3[3][3]))\n",
    "print(\"t3[3][3][3]:\", type(t3[3][3][3]))\n",
    "print(\"t3[3][3][3][1]:\", type(t3[3][3][3][1]))"
   ]
  },
  {
   "cell_type": "markdown",
   "id": "16b4be86",
   "metadata": {},
   "source": [
    "# 딕셔너리형 (dict) JSON {\"key\" : \"value\"}\n",
    "* key와 value로 이루어진 데이터형\n",
    "* json 이라고 불리며 웹상에서 데이터를 주고 받을 때 주로 사용\n",
    "* 딕셔너리의 value에는 모든 자료형이 올 수 있음\n",
    "* 딕셔너리는 순서가 없는 자료형\n",
    "* key를 호출하면 value가 출력됨\n"
   ]
  },
  {
   "cell_type": "code",
   "execution_count": 158,
   "id": "47408957",
   "metadata": {},
   "outputs": [],
   "source": [
    "dic1 = {'이름': '홍길동', '나이': 33, '키' : 175.4, '가족': [\"둘리\", \"또치\", \"도우너\"]}"
   ]
  },
  {
   "cell_type": "code",
   "execution_count": 159,
   "id": "22129661",
   "metadata": {},
   "outputs": [
    {
     "data": {
      "text/plain": [
       "{'이름': '홍길동', '나이': 33, '키': 175.4, '가족': ['둘리', '또치', '도우너']}"
      ]
     },
     "execution_count": 159,
     "metadata": {},
     "output_type": "execute_result"
    }
   ],
   "source": [
    "dic1"
   ]
  },
  {
   "cell_type": "code",
   "execution_count": 160,
   "id": "c78633e3",
   "metadata": {},
   "outputs": [
    {
     "name": "stdout",
     "output_type": "stream",
     "text": [
      "{'이름': '홍길동', '나이': 33, '키': 175.4, '가족': ['둘리', '또치', '도우너']}\n"
     ]
    }
   ],
   "source": [
    "print(dic1)"
   ]
  },
  {
   "cell_type": "code",
   "execution_count": 162,
   "id": "c8d0439c",
   "metadata": {},
   "outputs": [
    {
     "data": {
      "text/plain": [
       "'홍길동'"
      ]
     },
     "execution_count": 162,
     "metadata": {},
     "output_type": "execute_result"
    }
   ],
   "source": [
    "dic1['이름']"
   ]
  },
  {
   "cell_type": "markdown",
   "id": "c836a70c",
   "metadata": {},
   "source": [
    "딕셔너리의 길이는 key의 갯수"
   ]
  },
  {
   "cell_type": "code",
   "execution_count": 164,
   "id": "c8541a32",
   "metadata": {},
   "outputs": [
    {
     "data": {
      "text/plain": [
       "4"
      ]
     },
     "execution_count": 164,
     "metadata": {},
     "output_type": "execute_result"
    }
   ],
   "source": [
    "len(dic1)"
   ]
  },
  {
   "cell_type": "code",
   "execution_count": 168,
   "id": "de933e1e",
   "metadata": {},
   "outputs": [],
   "source": [
    "dic2 = {'이름': '홍길동', '나이': 33, '키' : 175.4, '가족': [\"둘리\", \"또치\", \"도우너\", {'신장':[130, 120, 150]}]}"
   ]
  },
  {
   "cell_type": "code",
   "execution_count": 171,
   "id": "87668ea1",
   "metadata": {},
   "outputs": [
    {
     "name": "stdout",
     "output_type": "stream",
     "text": [
      "dic2['가족']:  <class 'list'>\n"
     ]
    }
   ],
   "source": [
    "print(\"dic2['가족']: \", type(dic2['가족']))"
   ]
  },
  {
   "cell_type": "code",
   "execution_count": 167,
   "id": "7f9c6642",
   "metadata": {},
   "outputs": [
    {
     "data": {
      "text/plain": [
       "['둘리', '또치', '도우너', {'신장': [130, 120, 150]}]"
      ]
     },
     "execution_count": 167,
     "metadata": {},
     "output_type": "execute_result"
    }
   ],
   "source": [
    "dic2['가족']"
   ]
  },
  {
   "cell_type": "code",
   "execution_count": 173,
   "id": "e295dec4",
   "metadata": {},
   "outputs": [
    {
     "data": {
      "text/plain": [
       "{'신장': [130, 120, 150]}"
      ]
     },
     "execution_count": 173,
     "metadata": {},
     "output_type": "execute_result"
    }
   ],
   "source": [
    "dic2['가족'][3]"
   ]
  },
  {
   "cell_type": "code",
   "execution_count": 175,
   "id": "40429b58",
   "metadata": {},
   "outputs": [
    {
     "data": {
      "text/plain": [
       "[130, 120, 150]"
      ]
     },
     "execution_count": 175,
     "metadata": {},
     "output_type": "execute_result"
    }
   ],
   "source": [
    "dic2['가족'][3]['신장']"
   ]
  },
  {
   "cell_type": "code",
   "execution_count": 177,
   "id": "1b45dba2",
   "metadata": {},
   "outputs": [
    {
     "data": {
      "text/plain": [
       "120"
      ]
     },
     "execution_count": 177,
     "metadata": {},
     "output_type": "execute_result"
    }
   ],
   "source": [
    "dic2['가족'][3]['신장'][1]"
   ]
  },
  {
   "cell_type": "markdown",
   "id": "ab3c49bc",
   "metadata": {},
   "source": [
    "딕셔너리에 자료추가"
   ]
  },
  {
   "cell_type": "code",
   "execution_count": 179,
   "id": "d9c11263",
   "metadata": {},
   "outputs": [],
   "source": [
    "dic2['새자료']=(1,2,3)"
   ]
  },
  {
   "cell_type": "code",
   "execution_count": 181,
   "id": "0152e1aa",
   "metadata": {},
   "outputs": [
    {
     "data": {
      "text/plain": [
       "{'이름': '홍길동',\n",
       " '나이': 33,\n",
       " '키': 175.4,\n",
       " '가족': ['둘리', '또치', '도우너', {'신장': [130, 120, 150]}],\n",
       " '새자료': (1, 2, 3)}"
      ]
     },
     "execution_count": 181,
     "metadata": {},
     "output_type": "execute_result"
    }
   ],
   "source": [
    "dic2"
   ]
  },
  {
   "cell_type": "code",
   "execution_count": 184,
   "id": "0555aa12",
   "metadata": {},
   "outputs": [
    {
     "ename": "KeyError",
     "evalue": "'가족'",
     "output_type": "error",
     "traceback": [
      "\u001b[1;31m----------------------------------------------------------------\u001b[0m",
      "\u001b[1;31mKeyError\u001b[0m                       Traceback (most recent call last)",
      "Cell \u001b[1;32mIn[184], line 1\u001b[0m\n\u001b[1;32m----> 1\u001b[0m \u001b[38;5;28;01mdel\u001b[39;00m dic2[\u001b[38;5;124m'\u001b[39m\u001b[38;5;124m가족\u001b[39m\u001b[38;5;124m'\u001b[39m]\n",
      "\u001b[1;31mKeyError\u001b[0m: '가족'"
     ]
    }
   ],
   "source": [
    "del dic2['가족']"
   ]
  },
  {
   "cell_type": "code",
   "execution_count": 186,
   "id": "574ea3d2",
   "metadata": {},
   "outputs": [
    {
     "data": {
      "text/plain": [
       "{'이름': '홍길동', '나이': 33, '키': 175.4, '새자료': (1, 2, 3)}"
      ]
     },
     "execution_count": 186,
     "metadata": {},
     "output_type": "execute_result"
    }
   ],
   "source": [
    "dic2"
   ]
  },
  {
   "cell_type": "code",
   "execution_count": 188,
   "id": "6e366668",
   "metadata": {},
   "outputs": [],
   "source": [
    "dic3 = {'이름' : ['홍길동', '둘리', '또치'], \n",
    "       '나이' : (33, 12, 14),\n",
    "       '성별' : ('남', '남', '남'),\n",
    "       '주소' : ['서울', '남극', '아프리카']}"
   ]
  },
  {
   "cell_type": "code",
   "execution_count": 190,
   "id": "b7972cf7",
   "metadata": {},
   "outputs": [
    {
     "data": {
      "text/plain": [
       "{'이름': ['홍길동', '둘리', '또치'],\n",
       " '나이': (33, 12, 14),\n",
       " '성별': ('남', '남', '남'),\n",
       " '주소': ['서울', '남극', '아프리카']}"
      ]
     },
     "execution_count": 190,
     "metadata": {},
     "output_type": "execute_result"
    }
   ],
   "source": [
    "dic3"
   ]
  },
  {
   "cell_type": "code",
   "execution_count": 194,
   "id": "5d0aaefa",
   "metadata": {},
   "outputs": [],
   "source": [
    "import pandas as pd"
   ]
  },
  {
   "cell_type": "code",
   "execution_count": 195,
   "id": "5e90a0d7",
   "metadata": {},
   "outputs": [],
   "source": [
    "df = pd.DataFrame(dic3)"
   ]
  },
  {
   "cell_type": "code",
   "execution_count": 196,
   "id": "4f560573",
   "metadata": {},
   "outputs": [
    {
     "data": {
      "text/html": [
       "<div>\n",
       "<style scoped>\n",
       "    .dataframe tbody tr th:only-of-type {\n",
       "        vertical-align: middle;\n",
       "    }\n",
       "\n",
       "    .dataframe tbody tr th {\n",
       "        vertical-align: top;\n",
       "    }\n",
       "\n",
       "    .dataframe thead th {\n",
       "        text-align: right;\n",
       "    }\n",
       "</style>\n",
       "<table border=\"1\" class=\"dataframe\">\n",
       "  <thead>\n",
       "    <tr style=\"text-align: right;\">\n",
       "      <th></th>\n",
       "      <th>이름</th>\n",
       "      <th>나이</th>\n",
       "      <th>성별</th>\n",
       "      <th>주소</th>\n",
       "    </tr>\n",
       "  </thead>\n",
       "  <tbody>\n",
       "    <tr>\n",
       "      <th>0</th>\n",
       "      <td>홍길동</td>\n",
       "      <td>33</td>\n",
       "      <td>남</td>\n",
       "      <td>서울</td>\n",
       "    </tr>\n",
       "    <tr>\n",
       "      <th>1</th>\n",
       "      <td>둘리</td>\n",
       "      <td>12</td>\n",
       "      <td>남</td>\n",
       "      <td>남극</td>\n",
       "    </tr>\n",
       "    <tr>\n",
       "      <th>2</th>\n",
       "      <td>또치</td>\n",
       "      <td>14</td>\n",
       "      <td>남</td>\n",
       "      <td>아프리카</td>\n",
       "    </tr>\n",
       "  </tbody>\n",
       "</table>\n",
       "</div>"
      ],
      "text/plain": [
       "    이름  나이 성별    주소\n",
       "0  홍길동  33  남    서울\n",
       "1   둘리  12  남    남극\n",
       "2   또치  14  남  아프리카"
      ]
     },
     "execution_count": 196,
     "metadata": {},
     "output_type": "execute_result"
    }
   ],
   "source": [
    "df"
   ]
  },
  {
   "cell_type": "code",
   "execution_count": null,
   "id": "8cac0c4a",
   "metadata": {},
   "outputs": [],
   "source": []
  }
 ],
 "metadata": {
  "kernelspec": {
   "display_name": "Python 3 (ipykernel)",
   "language": "python",
   "name": "python3"
  },
  "language_info": {
   "codemirror_mode": {
    "name": "ipython",
    "version": 3
   },
   "file_extension": ".py",
   "mimetype": "text/x-python",
   "name": "python",
   "nbconvert_exporter": "python",
   "pygments_lexer": "ipython3",
   "version": "3.9.21"
  }
 },
 "nbformat": 4,
 "nbformat_minor": 5
}
