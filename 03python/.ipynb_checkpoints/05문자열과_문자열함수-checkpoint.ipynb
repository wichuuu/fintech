{
 "cells": [
  {
   "cell_type": "markdown",
   "id": "e5f91921",
   "metadata": {},
   "source": [
    "# 문자열과 문자열 함수"
   ]
  },
  {
   "cell_type": "markdown",
   "id": "e13c5bba",
   "metadata": {},
   "source": [
    "## 1. 문자열 사용하기의 기본\n",
    "* \" \", ' ' 따옴표 안에 문자를 넣어서 문자열을 만든다."
   ]
  },
  {
   "cell_type": "code",
   "execution_count": 2,
   "id": "06ce8264",
   "metadata": {},
   "outputs": [
    {
     "data": {
      "text/plain": [
       "'hello world'"
      ]
     },
     "execution_count": 2,
     "metadata": {},
     "output_type": "execute_result"
    }
   ],
   "source": [
    "a = \"hello world\"\n",
    "a"
   ]
  },
  {
   "cell_type": "markdown",
   "id": "e19e542e",
   "metadata": {},
   "source": [
    "* 여러 줄로 된 문자열은 \"\"\" \"\"\" or ''' ''' 로 만든다.\n",
    "* 자동으로 \\n 과 \" \" 공백이 적용되어 입력한 그대로 출력된다."
   ]
  },
  {
   "cell_type": "code",
   "execution_count": 4,
   "id": "c6f53374",
   "metadata": {},
   "outputs": [],
   "source": [
    "a2 = \"\"\"\n",
    "안녕하세요.\n",
    "python 수업입니다.\n",
    "잘 부탁드립니다.\n",
    "\"\"\""
   ]
  },
  {
   "cell_type": "code",
   "execution_count": 6,
   "id": "439fb7b8",
   "metadata": {},
   "outputs": [
    {
     "data": {
      "text/plain": [
       "'\\n안녕하세요.\\npython 수업입니다.\\n잘 부탁드립니다.\\n'"
      ]
     },
     "execution_count": 6,
     "metadata": {},
     "output_type": "execute_result"
    }
   ],
   "source": [
    "a2"
   ]
  },
  {
   "cell_type": "markdown",
   "id": "9004d459",
   "metadata": {},
   "source": [
    "* 이스케이프 문자 \n",
    "* \\n 줄바꿈\n",
    "* \\t tap\n",
    "* \\r carrige return\n",
    "* 문자열 안에서 특수 문자를 출력하고 싶을 때 \\+특수문자 형태로 입력"
   ]
  },
  {
   "cell_type": "code",
   "execution_count": 8,
   "id": "71c774dd",
   "metadata": {},
   "outputs": [
    {
     "name": "stdout",
     "output_type": "stream",
     "text": [
      "파이썬에서 줄바꿈은 \\n으로 합니다. \n",
      "\n",
      "\n",
      "3줄 줄바꿈\n"
     ]
    }
   ],
   "source": [
    "h1 = \"파이썬에서 줄바꿈은 \\\\n으로 합니다. \\n\\n\\n3줄 줄바꿈\"\n",
    "print(h1)"
   ]
  },
  {
   "cell_type": "code",
   "execution_count": 9,
   "id": "c116b0b3",
   "metadata": {},
   "outputs": [
    {
     "name": "stdout",
     "output_type": "stream",
     "text": [
      "탭으로 공간을 띄우는 것은 \\t \t로 합니다.\n"
     ]
    }
   ],
   "source": [
    "h2 = \"탭으로 공간을 띄우는 것은 \\\\t \\t로 합니다.\"\n",
    "print(h2)"
   ]
  },
  {
   "cell_type": "code",
   "execution_count": 10,
   "id": "1b4c8b65",
   "metadata": {},
   "outputs": [
    {
     "name": "stdout",
     "output_type": "stream",
     "text": [
      "캐리지 리턴은 \\r 입니다. \n",
      " 커서가 같은 줄 가장 앞으로 이동하기 때문에 \r",
      " 글자가 겹쳐져서 지워졌습니다.\n"
     ]
    }
   ],
   "source": [
    "h3 = \"캐리지 리턴은 \\\\r 입니다. \\n 커서가 같은 줄 가장 앞으로 이동하기 때문에 \\r 글자가 겹쳐져서 지워졌습니다.\"\n",
    "print(h3)"
   ]
  },
  {
   "cell_type": "markdown",
   "id": "d682e2bc",
   "metadata": {},
   "source": [
    "## 인덱스와 문자열\n",
    "* 문자 : 글자 1개\n",
    "* 문자열 : 글자가 여러 개 => 순서가 있다 => 앞에서부터 0번 1번 순으로 번호가 매겨짐\n",
    "* 순서가 있는 자료는 번호를 불러서 그 번호에 해당하는 자료를 꺼낼 수 있다."
   ]
  },
  {
   "cell_type": "code",
   "execution_count": 12,
   "id": "a586b933",
   "metadata": {},
   "outputs": [
    {
     "name": "stdout",
     "output_type": "stream",
     "text": [
      "문자열은 왼쪽부터 번호를 매길 수 있으며 시작은 0번 부터 입니다.\n"
     ]
    }
   ],
   "source": [
    "h4 = \"문자열은 왼쪽부터 번호를 매길 수 있으며 시작은 0번 부터 입니다.\"\n",
    "print(h4)"
   ]
  },
  {
   "cell_type": "code",
   "execution_count": 14,
   "id": "76f0e2e5",
   "metadata": {},
   "outputs": [
    {
     "data": {
      "text/plain": [
       "'문'"
      ]
     },
     "execution_count": 14,
     "metadata": {},
     "output_type": "execute_result"
    }
   ],
   "source": [
    "# h4 문자열에서 첫번째 글자를 추출하세요\n",
    "h4[0]"
   ]
  },
  {
   "cell_type": "code",
   "execution_count": 16,
   "id": "414e2859",
   "metadata": {},
   "outputs": [
    {
     "data": {
      "text/plain": [
       "'문자열은 '"
      ]
     },
     "execution_count": 16,
     "metadata": {},
     "output_type": "execute_result"
    }
   ],
   "source": [
    "# h4 문자열에서 앞에서부터 5글자를 추출하세요.\n",
    "h4[0:5]"
   ]
  },
  {
   "cell_type": "code",
   "execution_count": 18,
   "id": "ba7dd375",
   "metadata": {},
   "outputs": [
    {
     "data": {
      "text/plain": [
       "'번호를 매길 수 있으며'"
      ]
     },
     "execution_count": 18,
     "metadata": {},
     "output_type": "execute_result"
    }
   ],
   "source": [
    "# 인덱스 10번부터 21번까지 추출하세요\n",
    "h4[10:22]"
   ]
  },
  {
   "cell_type": "code",
   "execution_count": 21,
   "id": "12bec88c",
   "metadata": {},
   "outputs": [
    {
     "data": {
      "text/plain": [
       "37"
      ]
     },
     "execution_count": 21,
     "metadata": {},
     "output_type": "execute_result"
    }
   ],
   "source": [
    "# 문자열의 길이를 잴 때 len()\n",
    "len(h4)"
   ]
  },
  {
   "cell_type": "markdown",
   "id": "01b79b90",
   "metadata": {},
   "source": [
    "* 순서가 있는 자료의 인덱스는 앞에서부터 0, 1, 2, 3\n",
    "* 뒤에서부터 -1, -2, -3\n"
   ]
  },
  {
   "cell_type": "code",
   "execution_count": 23,
   "id": "4d06288d",
   "metadata": {},
   "outputs": [
    {
     "data": {
      "text/plain": [
       "'0번 부터 입니다'"
      ]
     },
     "execution_count": 23,
     "metadata": {},
     "output_type": "execute_result"
    }
   ],
   "source": [
    "#문자열의 끝에서 10개를 가져오고 싶을 때\n",
    "h4[-10:-1]"
   ]
  },
  {
   "cell_type": "markdown",
   "id": "5a8a393e",
   "metadata": {},
   "source": [
    "* 슬라이싱 시 시작과 끝은 생략이 가능"
   ]
  },
  {
   "cell_type": "code",
   "execution_count": 24,
   "id": "7a4f309b",
   "metadata": {},
   "outputs": [
    {
     "data": {
      "text/plain": [
       "'문자열은 왼쪽부터 번'"
      ]
     },
     "execution_count": 24,
     "metadata": {},
     "output_type": "execute_result"
    }
   ],
   "source": [
    "#h4에서 0번부터 10번까지 가져올 때\n",
    "# h4[0:11]\n",
    "h4[:11]"
   ]
  },
  {
   "cell_type": "code",
   "execution_count": 25,
   "id": "7c393bd2",
   "metadata": {},
   "outputs": [
    {
     "data": {
      "text/plain": [
       "' 0번 부터 입니다.'"
      ]
     },
     "execution_count": 25,
     "metadata": {},
     "output_type": "execute_result"
    }
   ],
   "source": [
    "# 뒤에서부터 10개 가져올 때\n",
    "h4[-11:]"
   ]
  },
  {
   "cell_type": "code",
   "execution_count": 26,
   "id": "c7676ea3",
   "metadata": {},
   "outputs": [
    {
     "data": {
      "text/plain": [
       "'문자열은 왼쪽부터 번호를 매길 수 있으며 시작은 0번 부터 입니다.'"
      ]
     },
     "execution_count": 26,
     "metadata": {},
     "output_type": "execute_result"
    }
   ],
   "source": [
    "#시작 인덱스와 끝 인덱스를 모두 생략한 경우\n",
    "h4[:]"
   ]
  },
  {
   "cell_type": "markdown",
   "id": "920903a1",
   "metadata": {},
   "source": [
    "## 슬라이싱 [시작인덱스:끝인덱스+1:step]"
   ]
  },
  {
   "cell_type": "code",
   "execution_count": 27,
   "id": "b48e2364",
   "metadata": {},
   "outputs": [
    {
     "data": {
      "text/plain": [
       "'문자열은 왼쪽부터 번호를 매길 수 있으며 시작은 0번 부터 입니다.'"
      ]
     },
     "execution_count": 27,
     "metadata": {},
     "output_type": "execute_result"
    }
   ],
   "source": [
    "h4"
   ]
  },
  {
   "cell_type": "code",
   "execution_count": 30,
   "id": "0551bdf8",
   "metadata": {},
   "outputs": [
    {
     "data": {
      "text/plain": [
       "'문열 쪽터번를매  으 작 번부 니.'"
      ]
     },
     "execution_count": 30,
     "metadata": {},
     "output_type": "execute_result"
    }
   ],
   "source": [
    "#두 칸씩 띄어서 가져와라\n",
    "h4[0::2]"
   ]
  },
  {
   "cell_type": "code",
   "execution_count": 31,
   "id": "5d835df5",
   "metadata": {},
   "outputs": [
    {
     "data": {
      "text/plain": [
       "'문은쪽 를길 며작0부입.'"
      ]
     },
     "execution_count": 31,
     "metadata": {},
     "output_type": "execute_result"
    }
   ],
   "source": [
    "h4[::3]"
   ]
  },
  {
   "cell_type": "code",
   "execution_count": 35,
   "id": "24a2097f",
   "metadata": {},
   "outputs": [
    {
     "data": {
      "text/plain": [
       "'.다니입 터부 번0 은작시 며으있 수 길매 를호번 터부쪽왼 은열자문'"
      ]
     },
     "execution_count": 35,
     "metadata": {},
     "output_type": "execute_result"
    }
   ],
   "source": [
    "#역순 정렬\n",
    "#시작과 끝 인덱스 생략.. \n",
    "h4[::-1]"
   ]
  },
  {
   "cell_type": "markdown",
   "id": "eb064ad1",
   "metadata": {},
   "source": [
    "## 문자열 함수 \n",
    "* .replace() : 값을 찾아서 바꾸는 함수\n",
    "* .split() : 공백을 기준으로 자료를 나눠서 리스트로 변형\n",
    "* .join() : 기준자를 통해서 리스트를 하나의 문자열로 변형\n",
    "* .strip() : 문자열 외부의 공백 제거, 공백 + 특수문자 제거"
   ]
  },
  {
   "cell_type": "markdown",
   "id": "b8f935d2",
   "metadata": {},
   "source": [
    "## 문자열 바꾸기 replace (찾을 값, 바꿀 값)\n",
    "* replace 함수는 사용 후 결과를 재할당 해야함"
   ]
  },
  {
   "cell_type": "code",
   "execution_count": 37,
   "id": "4f116259",
   "metadata": {},
   "outputs": [
    {
     "data": {
      "text/plain": [
       "'hello python'"
      ]
     },
     "execution_count": 37,
     "metadata": {},
     "output_type": "execute_result"
    }
   ],
   "source": [
    "h5 = \"hello python\"\n",
    "h5"
   ]
  },
  {
   "cell_type": "code",
   "execution_count": 39,
   "id": "83501619",
   "metadata": {},
   "outputs": [
    {
     "data": {
      "text/plain": [
       "'hello world'"
      ]
     },
     "execution_count": 39,
     "metadata": {},
     "output_type": "execute_result"
    }
   ],
   "source": [
    "h5.replace(\"python\", \"world\")"
   ]
  },
  {
   "cell_type": "code",
   "execution_count": 41,
   "id": "eef73891",
   "metadata": {},
   "outputs": [],
   "source": [
    "h5 = h5.replace(\"python\", \"world\")"
   ]
  },
  {
   "cell_type": "code",
   "execution_count": 42,
   "id": "0c256138",
   "metadata": {},
   "outputs": [
    {
     "data": {
      "text/plain": [
       "'hello world'"
      ]
     },
     "execution_count": 42,
     "metadata": {},
     "output_type": "execute_result"
    }
   ],
   "source": [
    "h5"
   ]
  },
  {
   "cell_type": "markdown",
   "id": "7f9be503",
   "metadata": {},
   "source": [
    "* split() \n",
    "* 공백을 기준으로 자료를 나눠서 list로 만들어줌\n",
    "* 구분자를 따로 지정해서 사용 가능"
   ]
  },
  {
   "cell_type": "code",
   "execution_count": 43,
   "id": "81ebd726",
   "metadata": {},
   "outputs": [
    {
     "data": {
      "text/plain": [
       "'문자열은, 왼쪽부터, 번호를, 매길, 수, 있으며, 시작은, 0번부터, 입니다. '"
      ]
     },
     "execution_count": 43,
     "metadata": {},
     "output_type": "execute_result"
    }
   ],
   "source": [
    "h6 = \"문자열은, 왼쪽부터, 번호를, 매길, 수, 있으며, 시작은, 0번부터, 입니다. \"\n",
    "h6"
   ]
  },
  {
   "cell_type": "code",
   "execution_count": 45,
   "id": "c3f003c5",
   "metadata": {},
   "outputs": [
    {
     "name": "stdout",
     "output_type": "stream",
     "text": [
      "['문자열은,', '왼쪽부터,', '번호를,', '매길,', '수,', '있으며,', '시작은,', '0번부터,', '입니다.']\n"
     ]
    }
   ],
   "source": [
    "splited_h6 = h6.split()\n",
    "print(splited_h6)"
   ]
  },
  {
   "cell_type": "code",
   "execution_count": 46,
   "id": "5e230a0b",
   "metadata": {},
   "outputs": [
    {
     "data": {
      "text/plain": [
       "'문자열은,'"
      ]
     },
     "execution_count": 46,
     "metadata": {},
     "output_type": "execute_result"
    }
   ],
   "source": [
    "splited_h6[0]"
   ]
  },
  {
   "cell_type": "code",
   "execution_count": 48,
   "id": "5d28c62e",
   "metadata": {},
   "outputs": [
    {
     "data": {
      "text/plain": [
       "'왼쪽부터,'"
      ]
     },
     "execution_count": 48,
     "metadata": {},
     "output_type": "execute_result"
    }
   ],
   "source": [
    "splited_h6[1]"
   ]
  },
  {
   "cell_type": "code",
   "execution_count": 51,
   "id": "361f403c",
   "metadata": {},
   "outputs": [
    {
     "data": {
      "text/plain": [
       "['문자열은', '왼쪽부터', '번호를', '매길', '수', '있으며', '시작은', '0번부터', '입니다. ']"
      ]
     },
     "execution_count": 51,
     "metadata": {},
     "output_type": "execute_result"
    }
   ],
   "source": [
    "h6.split(\", \")"
   ]
  },
  {
   "cell_type": "code",
   "execution_count": 53,
   "id": "0c726d89",
   "metadata": {},
   "outputs": [
    {
     "data": {
      "text/plain": [
       "'문자열은, 왼쪽부터, 번호를, 매길, 수, 있으며, 시작은, 0번부터, 입니다. '"
      ]
     },
     "execution_count": 53,
     "metadata": {},
     "output_type": "execute_result"
    }
   ],
   "source": [
    "#저장이 안 되는 함수,, 결과만 보여줌.. 재할당 필요\n",
    "h6"
   ]
  },
  {
   "cell_type": "code",
   "execution_count": 55,
   "id": "a293c555",
   "metadata": {
    "scrolled": true
   },
   "outputs": [
    {
     "ename": "AttributeError",
     "evalue": "'list' object has no attribute 'split'",
     "output_type": "error",
     "traceback": [
      "\u001b[1;31m---------------------------------------------------------------------\u001b[0m",
      "\u001b[1;31mAttributeError\u001b[0m                      Traceback (most recent call last)",
      "Cell \u001b[1;32mIn[55], line 1\u001b[0m\n\u001b[1;32m----> 1\u001b[0m h6 \u001b[38;5;241m=\u001b[39m \u001b[43mh6\u001b[49m\u001b[38;5;241;43m.\u001b[39;49m\u001b[43msplit\u001b[49m(\u001b[38;5;124m\"\u001b[39m\u001b[38;5;124m,\u001b[39m\u001b[38;5;124m\"\u001b[39m)\n\u001b[0;32m      2\u001b[0m \u001b[38;5;28mprint\u001b[39m(h6, \u001b[38;5;28mtype\u001b[39m(h6))\n",
      "\u001b[1;31mAttributeError\u001b[0m: 'list' object has no attribute 'split'"
     ]
    }
   ],
   "source": [
    "h6 = h6.split(\",\")\n",
    "print(h6, type(h6))"
   ]
  },
  {
   "cell_type": "markdown",
   "id": "36f3a857",
   "metadata": {},
   "source": [
    "# join\n",
    "* join() : 리스트, 튜플을 하나의 문자열로 합치는 함수\n",
    "* 합칠 기준.join(list/tuple)"
   ]
  },
  {
   "cell_type": "code",
   "execution_count": 56,
   "id": "e700fe31",
   "metadata": {},
   "outputs": [
    {
     "data": {
      "text/plain": [
       "'문자열은  왼쪽부터  번호를  매길  수  있으며  시작은  0번부터  입니다. '"
      ]
     },
     "execution_count": 56,
     "metadata": {},
     "output_type": "execute_result"
    }
   ],
   "source": [
    "\" \".join(h6)\n",
    "#재할당 필요"
   ]
  },
  {
   "cell_type": "code",
   "execution_count": 57,
   "id": "3e71a79a",
   "metadata": {},
   "outputs": [
    {
     "data": {
      "text/plain": [
       "['문자열은', ' 왼쪽부터', ' 번호를', ' 매길', ' 수', ' 있으며', ' 시작은', ' 0번부터', ' 입니다. ']"
      ]
     },
     "execution_count": 57,
     "metadata": {},
     "output_type": "execute_result"
    }
   ],
   "source": [
    "h6"
   ]
  },
  {
   "cell_type": "code",
   "execution_count": 58,
   "id": "0d5decfc",
   "metadata": {},
   "outputs": [
    {
     "data": {
      "text/plain": [
       "'문자열은,  왼쪽부터,  번호를,  매길,  수,  있으며,  시작은,  0번부터,  입니다. '"
      ]
     },
     "execution_count": 58,
     "metadata": {},
     "output_type": "execute_result"
    }
   ],
   "source": [
    "\", \".join(h6)"
   ]
  },
  {
   "cell_type": "code",
   "execution_count": 60,
   "id": "80b92fbb",
   "metadata": {},
   "outputs": [
    {
     "data": {
      "text/plain": [
       "'문자열은 :  왼쪽부터 :  번호를 :  매길 :  수 :  있으며 :  시작은 :  0번부터 :  입니다. '"
      ]
     },
     "execution_count": 60,
     "metadata": {},
     "output_type": "execute_result"
    }
   ],
   "source": [
    "\" : \".join(h6)"
   ]
  },
  {
   "cell_type": "code",
   "execution_count": 61,
   "id": "bbe5bbf1",
   "metadata": {},
   "outputs": [
    {
     "data": {
      "text/plain": [
       "'문자열은 !  왼쪽부터 !  번호를 !  매길 !  수 !  있으며 !  시작은 !  0번부터 !  입니다. '"
      ]
     },
     "execution_count": 61,
     "metadata": {},
     "output_type": "execute_result"
    }
   ],
   "source": [
    "\" ! \".join(h6)"
   ]
  },
  {
   "cell_type": "code",
   "execution_count": 63,
   "id": "3969d4fa",
   "metadata": {},
   "outputs": [
    {
     "name": "stdout",
     "output_type": "stream",
     "text": [
      "문 자 열 은     왼 쪽 부 터     번 호 를     매 길     수     있 으 며     시 작 은     0 번 부 터     입 니 다 .   <class 'str'>\n"
     ]
    }
   ],
   "source": [
    "h6 = \" \".join(h6)\n",
    "print(h6, type(h6))"
   ]
  },
  {
   "cell_type": "markdown",
   "id": "91b47867",
   "metadata": {},
   "source": [
    "## 소문자 / 대문자 변환 함수\n",
    "* upper(), lower()"
   ]
  },
  {
   "cell_type": "code",
   "execution_count": 65,
   "id": "2aab2532",
   "metadata": {},
   "outputs": [
    {
     "data": {
      "text/plain": [
       "'iron-man spider-man hulk'"
      ]
     },
     "execution_count": 65,
     "metadata": {},
     "output_type": "execute_result"
    }
   ],
   "source": [
    "h7 = 'iron-man spider-man hulk'\n",
    "h7"
   ]
  },
  {
   "cell_type": "code",
   "execution_count": 67,
   "id": "192bcd03",
   "metadata": {},
   "outputs": [
    {
     "data": {
      "text/plain": [
       "'IRON-MAN SPIDER-MAN HULK'"
      ]
     },
     "execution_count": 67,
     "metadata": {},
     "output_type": "execute_result"
    }
   ],
   "source": [
    "h7.upper()"
   ]
  },
  {
   "cell_type": "code",
   "execution_count": 69,
   "id": "818a785d",
   "metadata": {},
   "outputs": [
    {
     "data": {
      "text/plain": [
       "'IRON-MAN SPIDER-MAN HULK'"
      ]
     },
     "execution_count": 69,
     "metadata": {},
     "output_type": "execute_result"
    }
   ],
   "source": [
    "h7 = h7.upper()\n",
    "h7"
   ]
  },
  {
   "cell_type": "code",
   "execution_count": 71,
   "id": "0604de7a",
   "metadata": {},
   "outputs": [
    {
     "data": {
      "text/plain": [
       "'iron-man spider-man hulk'"
      ]
     },
     "execution_count": 71,
     "metadata": {},
     "output_type": "execute_result"
    }
   ],
   "source": [
    "h7.lower()"
   ]
  },
  {
   "cell_type": "code",
   "execution_count": 73,
   "id": "449a35ea",
   "metadata": {},
   "outputs": [
    {
     "data": {
      "text/plain": [
       "'IRON-MAN SPIDER-MAN HULK'"
      ]
     },
     "execution_count": 73,
     "metadata": {},
     "output_type": "execute_result"
    }
   ],
   "source": [
    "h7"
   ]
  },
  {
   "cell_type": "code",
   "execution_count": 75,
   "id": "24c3a0b5",
   "metadata": {},
   "outputs": [],
   "source": [
    "h7 = h7.lower()"
   ]
  },
  {
   "cell_type": "code",
   "execution_count": 77,
   "id": "82ac543d",
   "metadata": {},
   "outputs": [
    {
     "data": {
      "text/plain": [
       "'iron-man spider-man hulk'"
      ]
     },
     "execution_count": 77,
     "metadata": {},
     "output_type": "execute_result"
    }
   ],
   "source": [
    "h7"
   ]
  },
  {
   "cell_type": "markdown",
   "id": "00b38393",
   "metadata": {},
   "source": [
    "## 왼쪽, 오른쪽, 양쪽 공백/특정 문자 제거하기\n",
    "* lstrip() : 왼쪽 공백 삭제\n",
    "* rstrip() : 오른쪽 공백 삭제\n",
    "* strip() : 양쪽 공백 삭제"
   ]
  },
  {
   "cell_type": "code",
   "execution_count": 78,
   "id": "8b8009f1",
   "metadata": {},
   "outputs": [
    {
     "data": {
      "text/plain": [
       "'    공백이 있는 문자열    '"
      ]
     },
     "execution_count": 78,
     "metadata": {},
     "output_type": "execute_result"
    }
   ],
   "source": [
    "h8 = \"    공백이 있는 문자열    \"\n",
    "h8"
   ]
  },
  {
   "cell_type": "code",
   "execution_count": 79,
   "id": "40cadddb",
   "metadata": {},
   "outputs": [
    {
     "data": {
      "text/plain": [
       "'공백이 있는 문자열    '"
      ]
     },
     "execution_count": 79,
     "metadata": {},
     "output_type": "execute_result"
    }
   ],
   "source": [
    "h8.lstrip()"
   ]
  },
  {
   "cell_type": "code",
   "execution_count": 81,
   "id": "7ce54db3",
   "metadata": {},
   "outputs": [
    {
     "data": {
      "text/plain": [
       "'    공백이 있는 문자열'"
      ]
     },
     "execution_count": 81,
     "metadata": {},
     "output_type": "execute_result"
    }
   ],
   "source": [
    "h8.rstrip()"
   ]
  },
  {
   "cell_type": "code",
   "execution_count": 83,
   "id": "c37e171d",
   "metadata": {},
   "outputs": [
    {
     "data": {
      "text/plain": [
       "'공백이 있는 문자열'"
      ]
     },
     "execution_count": 83,
     "metadata": {},
     "output_type": "execute_result"
    }
   ],
   "source": [
    "h8.strip()"
   ]
  },
  {
   "cell_type": "code",
   "execution_count": 85,
   "id": "643fc8aa",
   "metadata": {},
   "outputs": [
    {
     "data": {
      "text/plain": [
       "'공백이있는문자열'"
      ]
     },
     "execution_count": 85,
     "metadata": {},
     "output_type": "execute_result"
    }
   ],
   "source": [
    "h8.strip().replace(\" \", \"\")"
   ]
  },
  {
   "cell_type": "code",
   "execution_count": 87,
   "id": "3d700b7f",
   "metadata": {},
   "outputs": [
    {
     "data": {
      "text/plain": [
       "'    공백이 있는 문자열    '"
      ]
     },
     "execution_count": 87,
     "metadata": {},
     "output_type": "execute_result"
    }
   ],
   "source": [
    "h8"
   ]
  },
  {
   "cell_type": "code",
   "execution_count": 90,
   "id": "c949aaf2",
   "metadata": {},
   "outputs": [
    {
     "data": {
      "text/plain": [
       "'공백이 있는 문자열'"
      ]
     },
     "execution_count": 90,
     "metadata": {},
     "output_type": "execute_result"
    }
   ],
   "source": [
    "#앞 뒤 공백 2개짜리가 사라짐\n",
    "h8.replace(\"  \",\"\")"
   ]
  },
  {
   "cell_type": "code",
   "execution_count": 92,
   "id": "7fe10ce4",
   "metadata": {},
   "outputs": [
    {
     "data": {
      "text/plain": [
       "'... ,   공백과 특수문자가 같이 있는 문자열 !! ^^ ㅋㅋㅋㅋ  '"
      ]
     },
     "execution_count": 92,
     "metadata": {},
     "output_type": "execute_result"
    }
   ],
   "source": [
    "h9 = \"... ,   공백과 특수문자가 같이 있는 문자열 !! ^^ ㅋㅋㅋㅋ  \"\n",
    "h9"
   ]
  },
  {
   "cell_type": "code",
   "execution_count": 95,
   "id": "91bb6220",
   "metadata": {},
   "outputs": [
    {
     "data": {
      "text/plain": [
       "'공백과 특수문자가 같이 있는 문자열 !! ^^ ㅋㅋㅋㅋ  '"
      ]
     },
     "execution_count": 95,
     "metadata": {},
     "output_type": "execute_result"
    }
   ],
   "source": [
    "h9.lstrip(\",. \")"
   ]
  },
  {
   "cell_type": "code",
   "execution_count": 98,
   "id": "f34e9ad5",
   "metadata": {},
   "outputs": [
    {
     "data": {
      "text/plain": [
       "'... ,   공백과 특수문자가 같이 있는 문자열'"
      ]
     },
     "execution_count": 98,
     "metadata": {},
     "output_type": "execute_result"
    }
   ],
   "source": [
    "h9.rstrip(\"!^ㅋ \")"
   ]
  },
  {
   "cell_type": "code",
   "execution_count": 100,
   "id": "fe0ad1e3",
   "metadata": {},
   "outputs": [
    {
     "data": {
      "text/plain": [
       "'공백과 특수문자가 같이 있는 문자열'"
      ]
     },
     "execution_count": 100,
     "metadata": {},
     "output_type": "execute_result"
    }
   ],
   "source": [
    "h9.strip(\".,!^ㅋ \")"
   ]
  },
  {
   "cell_type": "code",
   "execution_count": 108,
   "id": "6ade482b",
   "metadata": {},
   "outputs": [
    {
     "name": "stdout",
     "output_type": "stream",
     "text": [
      "... , 공백과 특수문자가\n",
      " 같이 있는\t 문자열 !! ^^ ㅋㅋㅋㅋ\n"
     ]
    }
   ],
   "source": [
    "h10 = \"... , 공백과 특수문자가\\n 같이 있는\\t 문자열 !! ^^ ㅋㅋㅋㅋ\"\n",
    "print(h10)"
   ]
  },
  {
   "cell_type": "code",
   "execution_count": 109,
   "id": "e756ffca",
   "metadata": {},
   "outputs": [
    {
     "data": {
      "text/plain": [
       "'공백과 특수문자가\\n 같이 있는\\t 문자열'"
      ]
     },
     "execution_count": 109,
     "metadata": {},
     "output_type": "execute_result"
    }
   ],
   "source": [
    "h10.strip(\".,!^ㅋ \")"
   ]
  },
  {
   "cell_type": "markdown",
   "id": "b5964534",
   "metadata": {},
   "source": [
    "## method chaining (메서드 체이닝)\n",
    "* 여러개의 함수를 연결해서 사용하는 것"
   ]
  },
  {
   "cell_type": "code",
   "execution_count": 112,
   "id": "9df87644",
   "metadata": {},
   "outputs": [
    {
     "data": {
      "text/plain": [
       "'공백과 특수문자가 같이 있는 문자열'"
      ]
     },
     "execution_count": 112,
     "metadata": {},
     "output_type": "execute_result"
    }
   ],
   "source": [
    "h10.strip(\".,!^ㅋ \").replace(\"\\n\",\"\").replace(\"\\t\",\"\")"
   ]
  },
  {
   "cell_type": "markdown",
   "id": "e564c4ad",
   "metadata": {},
   "source": [
    "## 문자열 처리 연습 문제\n",
    "* 리뷰 글 부분만 추출\n",
    "* 1개의 문장으로 만들기\n",
    "* 문자열 함수를 이용하여 특수문자와 공백 지우기"
   ]
  },
  {
   "cell_type": "code",
   "execution_count": 238,
   "id": "539d64fc",
   "metadata": {},
   "outputs": [
    {
     "data": {
      "text/plain": [
       "'344,622642,더 호텔 수 (THE HOTEL SOO),family,1박 가족 여행,2018년 5월 21일,8.0,\"위치 : 이순신 광장과는 반대편이라 차량으로 이동해야 합니다. 루프탑에서의\\n바다 경치는 좋습니다.\\n시설 : 깔끔하고 좋습니다. 패밀리룸을 사용 했는데 저녁6시쯤 갔더니 마지막 방이라며 2층을 배정 받았습니다. 창문을 여니 약간 쓰레기 냄새가 났고 바다가 보이지 않습니다.        \\n루프탑 : 바베큐 세트가 저렴 했던거 같고 경치가 좋습니다. 수영장도 있었는데 계절이 아닌지.... \\n    하지만 여름이면 좋을것 같습니다. 주차장은 장소가 넓지 않았던거 같고, 저녁에 나갔다 왔더니 야외 공터에 차를 대라고 하였습니다.    \\n주말 저녁이라 그런지 가격을 제법 비싸게 준거 같은데... 2층이라 마음에 들지 않았습니다. 옆에 조선소 같은게 있어 쫌 보기에 좋지 않았습니다......................................'"
      ]
     },
     "execution_count": 238,
     "metadata": {},
     "output_type": "execute_result"
    }
   ],
   "source": [
    "test1 = '''344,622642,더 호텔 수 (THE HOTEL SOO),family,1박 가족 여행,2018년 5월 21일,8.0,\"위치 : 이순신 광장과는 반대편이라 차량으로 이동해야 합니다. 루프탑에서의\n",
    "바다 경치는 좋습니다.\n",
    "시설 : 깔끔하고 좋습니다. 패밀리룸을 사용 했는데 저녁6시쯤 갔더니 마지막 방이라며 2층을 배정 받았습니다. 창문을 여니 약간 쓰레기 냄새가 났고 바다가 보이지 않습니다.        \n",
    "루프탑 : 바베큐 세트가 저렴 했던거 같고 경치가 좋습니다. 수영장도 있었는데 계절이 아닌지.... \n",
    "    하지만 여름이면 좋을것 같습니다. 주차장은 장소가 넓지 않았던거 같고, 저녁에 나갔다 왔더니 야외 공터에 차를 대라고 하였습니다.    \n",
    "주말 저녁이라 그런지 가격을 제법 비싸게 준거 같은데... 2층이라 마음에 들지 않았습니다. 옆에 조선소 같은게 있어 쫌 보기에 좋지 않았습니다......................................'''\n",
    "test1"
   ]
  },
  {
   "cell_type": "code",
   "execution_count": 239,
   "id": "54363644",
   "metadata": {},
   "outputs": [
    {
     "data": {
      "text/plain": [
       "['344',\n",
       " '622642',\n",
       " '더 호텔 수 (THE HOTEL SOO)',\n",
       " 'family',\n",
       " '1박 가족 여행',\n",
       " '2018년 5월 21일',\n",
       " '8.0',\n",
       " '\"위치 : 이순신 광장과는 반대편이라 차량으로 이동해야 합니다. 루프탑에서의\\n바다 경치는 좋습니다.\\n시설 : 깔끔하고 좋습니다. 패밀리룸을 사용 했는데 저녁6시쯤 갔더니 마지막 방이라며 2층을 배정 받았습니다. 창문을 여니 약간 쓰레기 냄새가 났고 바다가 보이지 않습니다.        \\n루프탑 : 바베큐 세트가 저렴 했던거 같고 경치가 좋습니다. 수영장도 있었는데 계절이 아닌지.... \\n    하지만 여름이면 좋을것 같습니다. 주차장은 장소가 넓지 않았던거 같고',\n",
       " ' 저녁에 나갔다 왔더니 야외 공터에 차를 대라고 하였습니다.    \\n주말 저녁이라 그런지 가격을 제법 비싸게 준거 같은데... 2층이라 마음에 들지 않았습니다. 옆에 조선소 같은게 있어 쫌 보기에 좋지 않았습니다......................................']"
      ]
     },
     "execution_count": 239,
     "metadata": {},
     "output_type": "execute_result"
    }
   ],
   "source": [
    "test1.split(\",\")"
   ]
  },
  {
   "cell_type": "code",
   "execution_count": 240,
   "id": "07ae20e8",
   "metadata": {},
   "outputs": [],
   "source": [
    "test1 = test1.split(\",\")"
   ]
  },
  {
   "cell_type": "code",
   "execution_count": 241,
   "id": "d7979c84",
   "metadata": {},
   "outputs": [
    {
     "data": {
      "text/plain": [
       "['344',\n",
       " '622642',\n",
       " '더 호텔 수 (THE HOTEL SOO)',\n",
       " 'family',\n",
       " '1박 가족 여행',\n",
       " '2018년 5월 21일',\n",
       " '8.0',\n",
       " '\"위치 : 이순신 광장과는 반대편이라 차량으로 이동해야 합니다. 루프탑에서의\\n바다 경치는 좋습니다.\\n시설 : 깔끔하고 좋습니다. 패밀리룸을 사용 했는데 저녁6시쯤 갔더니 마지막 방이라며 2층을 배정 받았습니다. 창문을 여니 약간 쓰레기 냄새가 났고 바다가 보이지 않습니다.        \\n루프탑 : 바베큐 세트가 저렴 했던거 같고 경치가 좋습니다. 수영장도 있었는데 계절이 아닌지.... \\n    하지만 여름이면 좋을것 같습니다. 주차장은 장소가 넓지 않았던거 같고',\n",
       " ' 저녁에 나갔다 왔더니 야외 공터에 차를 대라고 하였습니다.    \\n주말 저녁이라 그런지 가격을 제법 비싸게 준거 같은데... 2층이라 마음에 들지 않았습니다. 옆에 조선소 같은게 있어 쫌 보기에 좋지 않았습니다......................................']"
      ]
     },
     "execution_count": 241,
     "metadata": {},
     "output_type": "execute_result"
    }
   ],
   "source": [
    "test1"
   ]
  },
  {
   "cell_type": "code",
   "execution_count": 242,
   "id": "e058b60b",
   "metadata": {},
   "outputs": [
    {
     "data": {
      "text/plain": [
       "9"
      ]
     },
     "execution_count": 242,
     "metadata": {},
     "output_type": "execute_result"
    }
   ],
   "source": [
    "len(test1)"
   ]
  },
  {
   "cell_type": "code",
   "execution_count": 243,
   "id": "3c45c74f",
   "metadata": {},
   "outputs": [
    {
     "data": {
      "text/plain": [
       "['\"위치 : 이순신 광장과는 반대편이라 차량으로 이동해야 합니다. 루프탑에서의\\n바다 경치는 좋습니다.\\n시설 : 깔끔하고 좋습니다. 패밀리룸을 사용 했는데 저녁6시쯤 갔더니 마지막 방이라며 2층을 배정 받았습니다. 창문을 여니 약간 쓰레기 냄새가 났고 바다가 보이지 않습니다.        \\n루프탑 : 바베큐 세트가 저렴 했던거 같고 경치가 좋습니다. 수영장도 있었는데 계절이 아닌지.... \\n    하지만 여름이면 좋을것 같습니다. 주차장은 장소가 넓지 않았던거 같고',\n",
       " ' 저녁에 나갔다 왔더니 야외 공터에 차를 대라고 하였습니다.    \\n주말 저녁이라 그런지 가격을 제법 비싸게 준거 같은데... 2층이라 마음에 들지 않았습니다. 옆에 조선소 같은게 있어 쫌 보기에 좋지 않았습니다......................................']"
      ]
     },
     "execution_count": 243,
     "metadata": {},
     "output_type": "execute_result"
    }
   ],
   "source": [
    "test1[7:]"
   ]
  },
  {
   "cell_type": "code",
   "execution_count": 244,
   "id": "aff3967a",
   "metadata": {},
   "outputs": [],
   "source": [
    "test1 = test1[7:]"
   ]
  },
  {
   "cell_type": "code",
   "execution_count": 245,
   "id": "76eb5126",
   "metadata": {},
   "outputs": [
    {
     "data": {
      "text/plain": [
       "2"
      ]
     },
     "execution_count": 245,
     "metadata": {},
     "output_type": "execute_result"
    }
   ],
   "source": [
    "len(test1)"
   ]
  },
  {
   "cell_type": "code",
   "execution_count": 246,
   "id": "43ad984b",
   "metadata": {},
   "outputs": [
    {
     "name": "stdout",
     "output_type": "stream",
     "text": [
      "\"위치 : 이순신 광장과는 반대편이라 차량으로 이동해야 합니다. 루프탑에서의\n",
      "바다 경치는 좋습니다.\n",
      "시설 : 깔끔하고 좋습니다. 패밀리룸을 사용 했는데 저녁6시쯤 갔더니 마지막 방이라며 2층을 배정 받았습니다. 창문을 여니 약간 쓰레기 냄새가 났고 바다가 보이지 않습니다.        \n",
      "루프탑 : 바베큐 세트가 저렴 했던거 같고 경치가 좋습니다. 수영장도 있었는데 계절이 아닌지.... \n",
      "    하지만 여름이면 좋을것 같습니다. 주차장은 장소가 넓지 않았던거 같고  저녁에 나갔다 왔더니 야외 공터에 차를 대라고 하였습니다.    \n",
      "주말 저녁이라 그런지 가격을 제법 비싸게 준거 같은데... 2층이라 마음에 들지 않았습니다. 옆에 조선소 같은게 있어 쫌 보기에 좋지 않았습니다......................................\n"
     ]
    }
   ],
   "source": [
    "test1 = \" \".join(test1)\n",
    "print(test1)"
   ]
  },
  {
   "cell_type": "code",
   "execution_count": 247,
   "id": "a1ebdf4c",
   "metadata": {},
   "outputs": [
    {
     "data": {
      "text/plain": [
       "'위치이순신 광장과는 반대편이라 차량으로 이동해야 합니다 루프탑에서의바다 경치는 좋습니다시설깔끔하고 좋습니다 패밀리룸을 사용 했는데 저녁6시쯤 갔더니 마지막 방이라며 2층을 배정 받았습니다 창문을 여니 약간 쓰레기 냄새가 났고 바다가 보이지 않습니다루프탑바베큐 세트가 저렴 했던거 같고 경치가 좋습니다 수영장도 있었는데 계절이 아닌지 하지만 여름이면 좋을것 같습니다 주차장은 장소가 넓지 않았던거 같고저녁에 나갔다 왔더니 야외 공터에 차를 대라고 하였습니다주말 저녁이라 그런지 가격을 제법 비싸게 준거 같은데 2층이라 마음에 들지 않았습니다 옆에 조선소 같은게 있어 쫌 보기에 좋지 않았습니다'"
      ]
     },
     "execution_count": 247,
     "metadata": {},
     "output_type": "execute_result"
    }
   ],
   "source": [
    "test1 = test1.strip(\".'\\\" \").replace(\":\", \"\").replace(\"\\n\", \"\").replace(\".\",\"\").replace(\"  \", \"\").replace(\"  \",\" \")\n",
    "test1"
   ]
  },
  {
   "cell_type": "markdown",
   "id": "9d1bf5f1",
   "metadata": {},
   "source": [
    "# translate + str.maketrans + string.punctuation\n",
    "* translate(str.maketrans(찾을 문자, 대체 문자, 그 외 없앨 문자))"
   ]
  },
  {
   "cell_type": "code",
   "execution_count": 250,
   "id": "ccc4432b",
   "metadata": {},
   "outputs": [],
   "source": [
    "import string"
   ]
  },
  {
   "cell_type": "code",
   "execution_count": 252,
   "id": "da1b48f4",
   "metadata": {},
   "outputs": [
    {
     "data": {
      "text/plain": [
       "'!\"#$%&\\'()*+,-./:;<=>?@[\\\\]^_`{|}~'"
      ]
     },
     "execution_count": 252,
     "metadata": {},
     "output_type": "execute_result"
    }
   ],
   "source": [
    "string.punctuation"
   ]
  },
  {
   "cell_type": "code",
   "execution_count": null,
   "id": "0f66c1a1",
   "metadata": {},
   "outputs": [],
   "source": []
  },
  {
   "cell_type": "code",
   "execution_count": 253,
   "id": "b17c3362",
   "metadata": {},
   "outputs": [
    {
     "data": {
      "text/plain": [
       "'18062,427535,파크 하얏트 부산 (Park Hyatt Busan),family,2박 가족 여행,2019년 12월 29일,10.0,결혼 1주년 기념으로 아이랑 신랑이랑 다녀왔어요~ 룸컨디션 너무 좋았고 뷰가 최고였습니다! 2박 머물렀는데 청소도 깔끔하게 해주시고 애기가 이불에 살짝 토했는데도 바로 갈아주시고 좋았습니다~ 대신 창가쪽 커튼 한쪽이 떨어져있어서 조금 거슬렸구요... 창가에 침실이 있다보니 암막커튼을 치지 않으면 조금 쌀쌀한 느낌은 있었어요! 아 그리고 아기때문에 침대에 가드를 부탁드렸는데 가드가 너무 별로였습니다... 가드 구실을 못하고 넘 허술하게 매트리스 아래 그냥 끼워진거라 아기가 밤새 두번이나 가드사이에 빠졌습니다... 이점 좀 아쉬워요 ! 그 외에는 다이닝룸 리빙룸, 바까지 모두 이용했는데 서비스 좋았습니다~~!'"
      ]
     },
     "execution_count": 253,
     "metadata": {},
     "output_type": "execute_result"
    }
   ],
   "source": [
    "test2= \"18062,427535,파크 하얏트 부산 (Park Hyatt Busan),family,2박 가족 여행,2019년 12월 29일,10.0,결혼 1주년 기념으로 아이랑 신랑이랑 다녀왔어요~ 룸컨디션 너무 좋았고 뷰가 최고였습니다! 2박 머물렀는데 청소도 깔끔하게 해주시고 애기가 이불에 살짝 토했는데도 바로 갈아주시고 좋았습니다~ 대신 창가쪽 커튼 한쪽이 떨어져있어서 조금 거슬렸구요... 창가에 침실이 있다보니 암막커튼을 치지 않으면 조금 쌀쌀한 느낌은 있었어요! 아 그리고 아기때문에 침대에 가드를 부탁드렸는데 가드가 너무 별로였습니다... 가드 구실을 못하고 넘 허술하게 매트리스 아래 그냥 끼워진거라 아기가 밤새 두번이나 가드사이에 빠졌습니다... 이점 좀 아쉬워요 ! 그 외에는 다이닝룸 리빙룸, 바까지 모두 이용했는데 서비스 좋았습니다~~!\"\n",
    "test2"
   ]
  },
  {
   "cell_type": "code",
   "execution_count": 257,
   "id": "f97e4739",
   "metadata": {},
   "outputs": [
    {
     "data": {
      "text/plain": [
       "'결혼 1주년 기념으로 아이랑 신랑이랑 다녀왔어요~ 룸컨디션 너무 좋았고 뷰가 최고였습니다! 2박 머물렀는데 청소도 깔끔하게 해주시고 애기가 이불에 살짝 토했는데도 바로 갈아주시고 좋았습니다~ 대신 창가쪽 커튼 한쪽이 떨어져있어서 조금 거슬렸구요... 창가에 침실이 있다보니 암막커튼을 치지 않으면 조금 쌀쌀한 느낌은 있었어요! 아 그리고 아기때문에 침대에 가드를 부탁드렸는데 가드가 너무 별로였습니다... 가드 구실을 못하고 넘 허술하게 매트리스 아래 그냥 끼워진거라 아기가 밤새 두번이나 가드사이에 빠졌습니다... 이점 좀 아쉬워요 ! 그 외에는 다이닝룸 리빙룸  바까지 모두 이용했는데 서비스 좋았습니다~~!'"
      ]
     },
     "execution_count": 257,
     "metadata": {},
     "output_type": "execute_result"
    }
   ],
   "source": [
    "test2 = \" \".join(test2.split(\",\")[7:])\n",
    "test2"
   ]
  },
  {
   "cell_type": "code",
   "execution_count": 260,
   "id": "27f00983",
   "metadata": {},
   "outputs": [
    {
     "data": {
      "text/plain": [
       "'결혼 1주년 기념으로 아이랑 신랑이랑 다녀왔어요 룸컨디션 너무 좋았고 뷰가 최고였습니다 2박 머물렀는데 청소도 깔끔하게 해주시고 애기가 이불에 살짝 토했는데도 바로 갈아주시고 좋았습니다 대신 창가쪽 커튼 한쪽이 떨어져있어서 조금 거슬렸구요 창가에 침실이 있다보니 암막커튼을 치지 않으면 조금 쌀쌀한 느낌은 있었어요 아 그리고 아기때문에 침대에 가드를 부탁드렸는데 가드가 너무 별로였습니다 가드 구실을 못하고 넘 허술하게 매트리스 아래 그냥 끼워진거라 아기가 밤새 두번이나 가드사이에 빠졌습니다 이점 좀 아쉬워요 그 외에는 다이닝룸 리빙룸 바까지 모두 이용했는데 서비스 좋았습니다'"
      ]
     },
     "execution_count": 260,
     "metadata": {},
     "output_type": "execute_result"
    }
   ],
   "source": [
    "test2.translate(str.maketrans(\"\",\"\",string.punctuation)).replace(\"  \", \" \")"
   ]
  },
  {
   "cell_type": "markdown",
   "id": "5ba9fdbc",
   "metadata": {},
   "source": [
    "# 정규표현식"
   ]
  },
  {
   "cell_type": "code",
   "execution_count": 262,
   "id": "ccb0049f",
   "metadata": {},
   "outputs": [],
   "source": [
    "import re"
   ]
  },
  {
   "cell_type": "code",
   "execution_count": 264,
   "id": "316447f4",
   "metadata": {},
   "outputs": [],
   "source": [
    "text = \"안녕하세요! This is a test. 1234 @%#^$*%&()\""
   ]
  },
  {
   "cell_type": "code",
   "execution_count": 266,
   "id": "29c519a4",
   "metadata": {},
   "outputs": [
    {
     "data": {
      "text/plain": [
       "'안녕하세요! This is a test. 1234 @%#^$*%&()'"
      ]
     },
     "execution_count": 266,
     "metadata": {},
     "output_type": "execute_result"
    }
   ],
   "source": [
    "text"
   ]
  },
  {
   "cell_type": "code",
   "execution_count": 271,
   "id": "ff35c6aa",
   "metadata": {},
   "outputs": [
    {
     "data": {
      "text/plain": [
       "'안녕하세요 This is a test 1234'"
      ]
     },
     "execution_count": 271,
     "metadata": {},
     "output_type": "execute_result"
    }
   ],
   "source": [
    "re.sub(r'[^가-힣a-zA-Z0-9]', ' ', text).replace(\"  \", \" \").strip()"
   ]
  },
  {
   "cell_type": "code",
   "execution_count": 280,
   "id": "3119829f",
   "metadata": {},
   "outputs": [
    {
     "data": {
      "text/plain": [
       "'112731,239840,서귀포 칼 호텔 (Seogwipo KAL Hotel),family,3박 가족 여행,2020년 11월 19일,8.0,넓디넓은 정원과 산책로 덕분에 코로나 시대 언택트 여행에 좋았구요. 조용하고 한적하게 잘 쉬었어요.\\n아무래도 서귀포가 제주시쪽보단 사람도 적어서 오히려 편하면서, 주변에 식당이나 까페, 편의점 갈때도 걸어서도 다녀올 입지라 좋습니다.\\n실내 수영장은 생각만큼? 작은 규모라 오히려 사람 없이 잘 놀았어요ㅎㅎ \\n라운지바가 넓고 층고도 높아서 커피나 맥주 먹으며 쉬기에 좋고요.\\n매일 주시는 1.5리터 생수ㅎㅎ별거 아닐수 있지만 매우 감사했구요.\\n다만 층수가 낮은 방이어서 그런가 모기가 있었어요^^;; 그외에는 다 깨끗했구요. \\n매트리스가 오래됐는지 묘하게 불편해서 허리가 아프긴 하더라고요;; 다행히? 세미온돌이라 바닥에서 자는게 오히려 나았고요\\n조식은...최근 후기가 다 별로라길래 하루만 가봤는데 역시;;ㅎ 뭐 저렴하기도 하지만.. 저는 나가서 먹었습니다.'"
      ]
     },
     "execution_count": 280,
     "metadata": {},
     "output_type": "execute_result"
    }
   ],
   "source": [
    "test3 = \"\"\"112731,239840,서귀포 칼 호텔 (Seogwipo KAL Hotel),family,3박 가족 여행,2020년 11월 19일,8.0,넓디넓은 정원과 산책로 덕분에 코로나 시대 언택트 여행에 좋았구요. 조용하고 한적하게 잘 쉬었어요.\n",
    "아무래도 서귀포가 제주시쪽보단 사람도 적어서 오히려 편하면서, 주변에 식당이나 까페, 편의점 갈때도 걸어서도 다녀올 입지라 좋습니다.\n",
    "실내 수영장은 생각만큼? 작은 규모라 오히려 사람 없이 잘 놀았어요ㅎㅎ \n",
    "라운지바가 넓고 층고도 높아서 커피나 맥주 먹으며 쉬기에 좋고요.\n",
    "매일 주시는 1.5리터 생수ㅎㅎ별거 아닐수 있지만 매우 감사했구요.\n",
    "다만 층수가 낮은 방이어서 그런가 모기가 있었어요^^;; 그외에는 다 깨끗했구요. \n",
    "매트리스가 오래됐는지 묘하게 불편해서 허리가 아프긴 하더라고요;; 다행히? 세미온돌이라 바닥에서 자는게 오히려 나았고요\n",
    "조식은...최근 후기가 다 별로라길래 하루만 가봤는데 역시;;ㅎ 뭐 저렴하기도 하지만.. 저는 나가서 먹었습니다.\"\"\"\n",
    "test3"
   ]
  },
  {
   "cell_type": "code",
   "execution_count": 282,
   "id": "4411b560",
   "metadata": {},
   "outputs": [
    {
     "data": {
      "text/plain": [
       "['112731',\n",
       " '239840',\n",
       " '서귀포 칼 호텔 (Seogwipo KAL Hotel)',\n",
       " 'family',\n",
       " '3박 가족 여행',\n",
       " '2020년 11월 19일',\n",
       " '8.0',\n",
       " '넓디넓은 정원과 산책로 덕분에 코로나 시대 언택트 여행에 좋았구요. 조용하고 한적하게 잘 쉬었어요.\\n아무래도 서귀포가 제주시쪽보단 사람도 적어서 오히려 편하면서',\n",
       " ' 주변에 식당이나 까페',\n",
       " ' 편의점 갈때도 걸어서도 다녀올 입지라 좋습니다.\\n실내 수영장은 생각만큼? 작은 규모라 오히려 사람 없이 잘 놀았어요ㅎㅎ \\n라운지바가 넓고 층고도 높아서 커피나 맥주 먹으며 쉬기에 좋고요.\\n매일 주시는 1.5리터 생수ㅎㅎ별거 아닐수 있지만 매우 감사했구요.\\n다만 층수가 낮은 방이어서 그런가 모기가 있었어요^^;; 그외에는 다 깨끗했구요. \\n매트리스가 오래됐는지 묘하게 불편해서 허리가 아프긴 하더라고요;; 다행히? 세미온돌이라 바닥에서 자는게 오히려 나았고요\\n조식은...최근 후기가 다 별로라길래 하루만 가봤는데 역시;;ㅎ 뭐 저렴하기도 하지만.. 저는 나가서 먹었습니다.']"
      ]
     },
     "execution_count": 282,
     "metadata": {},
     "output_type": "execute_result"
    }
   ],
   "source": [
    "test3.split(\",\")"
   ]
  },
  {
   "cell_type": "code",
   "execution_count": 283,
   "id": "55811c7e",
   "metadata": {},
   "outputs": [
    {
     "data": {
      "text/plain": [
       "'넓디넓은 정원과 산책로 덕분에 코로나 시대 언택트 여행에 좋았구요. 조용하고 한적하게 잘 쉬었어요.\\n아무래도 서귀포가 제주시쪽보단 사람도 적어서 오히려 편하면서  주변에 식당이나 까페  편의점 갈때도 걸어서도 다녀올 입지라 좋습니다.\\n실내 수영장은 생각만큼? 작은 규모라 오히려 사람 없이 잘 놀았어요ㅎㅎ \\n라운지바가 넓고 층고도 높아서 커피나 맥주 먹으며 쉬기에 좋고요.\\n매일 주시는 1.5리터 생수ㅎㅎ별거 아닐수 있지만 매우 감사했구요.\\n다만 층수가 낮은 방이어서 그런가 모기가 있었어요^^;; 그외에는 다 깨끗했구요. \\n매트리스가 오래됐는지 묘하게 불편해서 허리가 아프긴 하더라고요;; 다행히? 세미온돌이라 바닥에서 자는게 오히려 나았고요\\n조식은...최근 후기가 다 별로라길래 하루만 가봤는데 역시;;ㅎ 뭐 저렴하기도 하지만.. 저는 나가서 먹었습니다.'"
      ]
     },
     "execution_count": 283,
     "metadata": {},
     "output_type": "execute_result"
    }
   ],
   "source": [
    "test3 = \" \".join(test3.split(\",\")[7:])\n",
    "test3"
   ]
  },
  {
   "cell_type": "code",
   "execution_count": 289,
   "id": "0f97d4f1",
   "metadata": {},
   "outputs": [
    {
     "data": {
      "text/plain": [
       "'넓디넓은 정원과 산책로 덕분에 코로나 시대 언택트 여행에 좋았구요 조용하고 한적하게 잘 쉬었어요 아무래도 서귀포가 제주시쪽보단 사람도 적어서 오히려 편하면서 주변에 식당이나 까페  편의점 갈때도 걸어서도 다녀올 입지라 좋습니다  실내 수영장은 생각만큼  작은 규모라 오히려 사람 없이 잘 놀았어요    라운지바가 넓고 층고도 높아서 커피나 맥주 먹으며 쉬기에 좋고요  매일 주시는 1 5리터 생수  별거 아닐수 있지만 매우 감사했구요  다만 층수가 낮은 방이어서 그런가 모기가 있었어요     그외에는 다 깨끗했구요   매트리스가 오래됐는지 묘하게 불편해서 허리가 아프긴 하더라고요   다행히  세미온돌이라 바닥에서 자는게 오히려 나았고요 조식은   최근 후기가 다 별로라길래 하루만 가봤는데 역시    뭐 저렴하기도 하지만   저는 나가서 먹었습니다'"
      ]
     },
     "execution_count": 289,
     "metadata": {},
     "output_type": "execute_result"
    }
   ],
   "source": [
    "re.sub(r'[^가-힣a-zA-Z0-9]', ' ', test3).replace(\"  \", \" \", 3).strip()"
   ]
  },
  {
   "cell_type": "code",
   "execution_count": null,
   "id": "2e786147",
   "metadata": {},
   "outputs": [],
   "source": []
  }
 ],
 "metadata": {
  "kernelspec": {
   "display_name": "Python 3 (ipykernel)",
   "language": "python",
   "name": "python3"
  },
  "language_info": {
   "codemirror_mode": {
    "name": "ipython",
    "version": 3
   },
   "file_extension": ".py",
   "mimetype": "text/x-python",
   "name": "python",
   "nbconvert_exporter": "python",
   "pygments_lexer": "ipython3",
   "version": "3.9.21"
  }
 },
 "nbformat": 4,
 "nbformat_minor": 5
}
