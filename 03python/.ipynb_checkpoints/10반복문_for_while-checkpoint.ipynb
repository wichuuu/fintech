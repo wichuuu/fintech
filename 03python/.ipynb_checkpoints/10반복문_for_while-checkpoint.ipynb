{
 "cells": [
  {
   "cell_type": "markdown",
   "id": "b5582e1d",
   "metadata": {},
   "source": [
    "# 반복문 for, while\n",
    "* 반복문은 동일한 작업을 여러 번 반복해야 할 경우 사용\n",
    "* for, while 두 종류의 반복문이 있음\n",
    "* for는 **반복 횟수가 정해져 있는 경우 사용**\n",
    "* while은 반복 횟수가 정해져 있지 않은 경우 **(무한 반복)** 사용"
   ]
  },
  {
   "cell_type": "markdown",
   "id": "9ea49e81",
   "metadata": {},
   "source": [
    "## for 반복문: 반복할 횟수가 정해져 있는 경우\n",
    "for 변수1, 변수2 in 반복할 객체/자료(문자열, 리스트, 튜플, 딕셔너리): <br>\n",
    "____반복할 코드"
   ]
  },
  {
   "cell_type": "code",
   "execution_count": null,
   "id": "3ae548d9",
   "metadata": {},
   "outputs": [],
   "source": [
    "# 숫자 생성 함수 range(시작, 끝, step)"
   ]
  },
  {
   "cell_type": "code",
   "execution_count": 2,
   "id": "dbb72b19",
   "metadata": {},
   "outputs": [
    {
     "name": "stdout",
     "output_type": "stream",
     "text": [
      "1 2 3 4 5 6 7 8 9 10 "
     ]
    }
   ],
   "source": [
    "# for문을 이용해서 숫자 1-10을 출력\n",
    "for num in range(1, 11):\n",
    "    print(num, end=\" \")"
   ]
  },
  {
   "cell_type": "markdown",
   "id": "76c96c4b",
   "metadata": {},
   "source": [
    "* 순서가 있는 자료형(문자열, 리스트, 튜플) + 순서는 없지만 dict도 가능"
   ]
  },
  {
   "cell_type": "code",
   "execution_count": 5,
   "id": "acc74ae3",
   "metadata": {},
   "outputs": [
    {
     "name": "stdout",
     "output_type": "stream",
     "text": [
      "파이썬은 문자열을 반복문에 넣어 출력 가능"
     ]
    }
   ],
   "source": [
    "# 문자열\n",
    "for char in \"파이썬은 문자열을 반복문에 넣어 출력 가능\":\n",
    "    print(char, end=\"\")"
   ]
  },
  {
   "cell_type": "code",
   "execution_count": 8,
   "id": "2d269789",
   "metadata": {},
   "outputs": [
    {
     "name": "stdout",
     "output_type": "stream",
     "text": [
      "1\n",
      "2\n",
      "3\n",
      "사\n",
      "오\n",
      "[6, 7, 8]\n",
      "(8, 9, 10)\n",
      "{'key': 'value'}\n"
     ]
    }
   ],
   "source": [
    "# 리스트\n",
    "for l_item in [1,2,3,\"사\", \"오\", [6,7,8], (8,9,10), {\"key\":\"value\"}]:\n",
    "    print(l_item)"
   ]
  },
  {
   "cell_type": "code",
   "execution_count": 10,
   "id": "872244ab",
   "metadata": {},
   "outputs": [
    {
     "name": "stdout",
     "output_type": "stream",
     "text": [
      "1\n",
      "2\n",
      "3\n",
      "사\n",
      "오\n",
      "[6, 7, 8]\n",
      "(8, 9, 10)\n",
      "{'key': 'value'}\n"
     ]
    }
   ],
   "source": [
    "# 튜플\n",
    "for l_item in (1,2,3,\"사\", \"오\", [6,7,8], (8,9,10), {\"key\":\"value\"}):\n",
    "    print(l_item)"
   ]
  },
  {
   "cell_type": "code",
   "execution_count": 12,
   "id": "802cb333",
   "metadata": {},
   "outputs": [],
   "source": [
    "d = dict(이름=\"홍길동\", 나이=40, 주소=\"서울\", 전화번호=\"010-1111-1111\")"
   ]
  },
  {
   "cell_type": "code",
   "execution_count": 14,
   "id": "bd0afd0b",
   "metadata": {},
   "outputs": [
    {
     "data": {
      "text/plain": [
       "{'이름': '홍길동', '나이': 40, '주소': '서울', '전화번호': '010-1111-1111'}"
      ]
     },
     "execution_count": 14,
     "metadata": {},
     "output_type": "execute_result"
    }
   ],
   "source": [
    "d"
   ]
  },
  {
   "cell_type": "code",
   "execution_count": 16,
   "id": "001f2837",
   "metadata": {},
   "outputs": [
    {
     "name": "stdout",
     "output_type": "stream",
     "text": [
      "이름\n",
      "나이\n",
      "주소\n",
      "전화번호\n"
     ]
    }
   ],
   "source": [
    "for item in d:\n",
    "    print(item)"
   ]
  },
  {
   "cell_type": "code",
   "execution_count": 19,
   "id": "9c379b55",
   "metadata": {},
   "outputs": [
    {
     "name": "stdout",
     "output_type": "stream",
     "text": [
      "홍길동\n",
      "40\n",
      "서울\n",
      "010-1111-1111\n"
     ]
    }
   ],
   "source": [
    "for item in d:\n",
    "    print(d.get(item, \"key 없음\"))"
   ]
  },
  {
   "cell_type": "markdown",
   "id": "e09ee461",
   "metadata": {},
   "source": [
    "* for 반복문을 이용해서 1부터 10까지 정수를 더한 합을 출력하세요\n",
    "    * 1부터 10까지 숫자를 만들어서 반복문에 넣는다.\n",
    "    * 1부터 10까지 누적 덧셈을 한다.\n",
    "    * 누적 덧셈을 한 결과를 출력한다."
   ]
  },
  {
   "cell_type": "code",
   "execution_count": 28,
   "id": "f5d041e1",
   "metadata": {},
   "outputs": [
    {
     "name": "stdout",
     "output_type": "stream",
     "text": [
      "hap: 0 +num: 1: 1\n",
      "hap: 1 +num: 2: 3\n",
      "hap: 3 +num: 3: 6\n",
      "hap: 6 +num: 4: 10\n",
      "hap: 10 +num: 5: 15\n",
      "hap: 15 +num: 6: 21\n",
      "hap: 21 +num: 7: 28\n",
      "hap: 28 +num: 8: 36\n",
      "hap: 36 +num: 9: 45\n",
      "hap: 45 +num: 10: 55\n"
     ]
    }
   ],
   "source": [
    "hap = 0\n",
    "for num in range(1,11):\n",
    "   # print(num, end=\" \")\n",
    "    print(f\"hap: {hap} +num: {num}\", end=\": \")\n",
    "    hap += num #hap = hap + num\n",
    "    print(f\"{hap}\")"
   ]
  },
  {
   "cell_type": "code",
   "execution_count": null,
   "id": "22fbb49e",
   "metadata": {},
   "outputs": [],
   "source": []
  },
  {
   "cell_type": "code",
   "execution_count": null,
   "id": "898a1f87",
   "metadata": {},
   "outputs": [],
   "source": []
  },
  {
   "cell_type": "code",
   "execution_count": null,
   "id": "7c47212a",
   "metadata": {},
   "outputs": [],
   "source": []
  },
  {
   "cell_type": "code",
   "execution_count": null,
   "id": "203b3878",
   "metadata": {},
   "outputs": [],
   "source": []
  },
  {
   "cell_type": "code",
   "execution_count": null,
   "id": "bf81aa98",
   "metadata": {},
   "outputs": [],
   "source": []
  }
 ],
 "metadata": {
  "kernelspec": {
   "display_name": "Python 3 (ipykernel)",
   "language": "python",
   "name": "python3"
  },
  "language_info": {
   "codemirror_mode": {
    "name": "ipython",
    "version": 3
   },
   "file_extension": ".py",
   "mimetype": "text/x-python",
   "name": "python",
   "nbconvert_exporter": "python",
   "pygments_lexer": "ipython3",
   "version": "3.9.21"
  }
 },
 "nbformat": 4,
 "nbformat_minor": 5
}
