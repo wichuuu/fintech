{
 "cells": [
  {
   "cell_type": "markdown",
   "id": "78b8e20b",
   "metadata": {},
   "source": [
    "# 리스트와 튜플 사용하기 초급편"
   ]
  },
  {
   "cell_type": "code",
   "execution_count": 1,
   "id": "1428e7d8",
   "metadata": {},
   "outputs": [],
   "source": [
    "a = 1\n",
    "b = 2\n",
    "c = 3\n",
    "d = 4\n",
    "e = 5"
   ]
  },
  {
   "cell_type": "code",
   "execution_count": 65,
   "id": "395dbc4e",
   "metadata": {},
   "outputs": [],
   "source": [
    "l = [1, 2, \"파이썬\", 3.0, [4,5,6], (7,8, \"리스트\"), True, False]"
   ]
  },
  {
   "cell_type": "code",
   "execution_count": 3,
   "id": "aa05cb20",
   "metadata": {},
   "outputs": [
    {
     "data": {
      "text/plain": [
       "list"
      ]
     },
     "execution_count": 3,
     "metadata": {},
     "output_type": "execute_result"
    }
   ],
   "source": [
    "type(l)"
   ]
  },
  {
   "cell_type": "markdown",
   "id": "bef249f7",
   "metadata": {},
   "source": [
    "# 리스트 만들기\n",
    "* 대괄호 안에 자료를 나열해서 만듦\n",
    "* 내용이 비어있는 리스트도 생성 가능\n",
    "* 자료가 1개만 있는 리스트도 생성 가능"
   ]
  },
  {
   "cell_type": "code",
   "execution_count": 5,
   "id": "fa767a33",
   "metadata": {},
   "outputs": [
    {
     "name": "stdout",
     "output_type": "stream",
     "text": [
      "[] <class 'list'>\n"
     ]
    }
   ],
   "source": [
    "l2 = []\n",
    "print(l2, type(l2))"
   ]
  },
  {
   "cell_type": "code",
   "execution_count": 7,
   "id": "38d0b852",
   "metadata": {},
   "outputs": [
    {
     "name": "stdout",
     "output_type": "stream",
     "text": [
      "[1] <class 'list'>\n"
     ]
    }
   ],
   "source": [
    "l3 = [1]\n",
    "print(l3, type(l3))"
   ]
  },
  {
   "cell_type": "markdown",
   "id": "de04bc89",
   "metadata": {},
   "source": [
    "## 리스트 형변환 함수 list()"
   ]
  },
  {
   "cell_type": "code",
   "execution_count": 9,
   "id": "49431c6d",
   "metadata": {},
   "outputs": [
    {
     "data": {
      "text/plain": [
       "range"
      ]
     },
     "execution_count": 9,
     "metadata": {},
     "output_type": "execute_result"
    }
   ],
   "source": [
    "type(range(1, 10))"
   ]
  },
  {
   "cell_type": "code",
   "execution_count": 1,
   "id": "28d85a9c",
   "metadata": {},
   "outputs": [
    {
     "data": {
      "text/plain": [
       "[1, 2, 3, 4, 5, 6, 7, 8, 9]"
      ]
     },
     "execution_count": 1,
     "metadata": {},
     "output_type": "execute_result"
    }
   ],
   "source": [
    "#1부터 10까지 출력해라\n",
    "list(range(1, 10))"
   ]
  },
  {
   "cell_type": "code",
   "execution_count": 2,
   "id": "b208f512",
   "metadata": {},
   "outputs": [
    {
     "data": {
      "text/plain": [
       "[2, 3, 4, 5, 6, 7, 8, 9, 10, 11, 12, 13]"
      ]
     },
     "execution_count": 2,
     "metadata": {},
     "output_type": "execute_result"
    }
   ],
   "source": [
    "list(range(2,14))"
   ]
  },
  {
   "cell_type": "code",
   "execution_count": 14,
   "id": "23107416",
   "metadata": {},
   "outputs": [
    {
     "data": {
      "text/plain": [
       "[1, 2, 3, 4]"
      ]
     },
     "execution_count": 14,
     "metadata": {},
     "output_type": "execute_result"
    }
   ],
   "source": [
    "list((1, 2, 3, 4))"
   ]
  },
  {
   "cell_type": "markdown",
   "id": "09d64c36",
   "metadata": {},
   "source": [
    "## 숫자를 생성해주는 range()\n",
    "* range(시작번호, 끝번호+1,step)"
   ]
  },
  {
   "cell_type": "code",
   "execution_count": 15,
   "id": "fbe2e782",
   "metadata": {},
   "outputs": [
    {
     "data": {
      "text/plain": [
       "[1, 3, 5, 7, 9]"
      ]
     },
     "execution_count": 15,
     "metadata": {},
     "output_type": "execute_result"
    }
   ],
   "source": [
    "list(range(1,11,2))"
   ]
  },
  {
   "cell_type": "code",
   "execution_count": 16,
   "id": "5fc7cc91",
   "metadata": {},
   "outputs": [
    {
     "data": {
      "text/plain": [
       "[1,\n",
       " 5,\n",
       " 9,\n",
       " 13,\n",
       " 17,\n",
       " 21,\n",
       " 25,\n",
       " 29,\n",
       " 33,\n",
       " 37,\n",
       " 41,\n",
       " 45,\n",
       " 49,\n",
       " 53,\n",
       " 57,\n",
       " 61,\n",
       " 65,\n",
       " 69,\n",
       " 73,\n",
       " 77,\n",
       " 81,\n",
       " 85,\n",
       " 89,\n",
       " 93,\n",
       " 97]"
      ]
     },
     "execution_count": 16,
     "metadata": {},
     "output_type": "execute_result"
    }
   ],
   "source": [
    "list(range(1,100,4))"
   ]
  },
  {
   "cell_type": "code",
   "execution_count": 3,
   "id": "65686143",
   "metadata": {},
   "outputs": [
    {
     "data": {
      "text/plain": [
       "[100,\n",
       " 96,\n",
       " 92,\n",
       " 88,\n",
       " 84,\n",
       " 80,\n",
       " 76,\n",
       " 72,\n",
       " 68,\n",
       " 64,\n",
       " 60,\n",
       " 56,\n",
       " 52,\n",
       " 48,\n",
       " 44,\n",
       " 40,\n",
       " 36,\n",
       " 32,\n",
       " 28,\n",
       " 24,\n",
       " 20,\n",
       " 16,\n",
       " 12,\n",
       " 8,\n",
       " 4]"
      ]
     },
     "execution_count": 3,
     "metadata": {},
     "output_type": "execute_result"
    }
   ],
   "source": [
    "list(range(100,1,-4))"
   ]
  },
  {
   "cell_type": "code",
   "execution_count": 4,
   "id": "9347fb03",
   "metadata": {},
   "outputs": [
    {
     "data": {
      "text/plain": [
       "[100,\n",
       " 98,\n",
       " 96,\n",
       " 94,\n",
       " 92,\n",
       " 90,\n",
       " 88,\n",
       " 86,\n",
       " 84,\n",
       " 82,\n",
       " 80,\n",
       " 78,\n",
       " 76,\n",
       " 74,\n",
       " 72,\n",
       " 70,\n",
       " 68,\n",
       " 66,\n",
       " 64,\n",
       " 62,\n",
       " 60,\n",
       " 58,\n",
       " 56,\n",
       " 54,\n",
       " 52,\n",
       " 50,\n",
       " 48,\n",
       " 46,\n",
       " 44,\n",
       " 42,\n",
       " 40,\n",
       " 38,\n",
       " 36,\n",
       " 34,\n",
       " 32,\n",
       " 30,\n",
       " 28,\n",
       " 26,\n",
       " 24]"
      ]
     },
     "execution_count": 4,
     "metadata": {},
     "output_type": "execute_result"
    }
   ],
   "source": [
    "list(range(100, 22,-2))"
   ]
  },
  {
   "cell_type": "markdown",
   "id": "ba6255d4",
   "metadata": {},
   "source": [
    "# 리스트에 자료 추가하기 .append()"
   ]
  },
  {
   "cell_type": "code",
   "execution_count": 66,
   "id": "8e9994c0",
   "metadata": {},
   "outputs": [
    {
     "data": {
      "text/plain": [
       "[1, 2, '파이썬', 3.0, [4, 5, 6], (7, 8, '리스트'), True, False, 3]"
      ]
     },
     "execution_count": 66,
     "metadata": {},
     "output_type": "execute_result"
    }
   ],
   "source": [
    "l.append(3)\n",
    "l"
   ]
  },
  {
   "cell_type": "code",
   "execution_count": 67,
   "id": "589c7e62",
   "metadata": {},
   "outputs": [
    {
     "data": {
      "text/plain": [
       "[1, 2, '파이썬', 3.0, [4, 5, 6], (7, 8, '리스트'), True, False, 3, 'append']"
      ]
     },
     "execution_count": 67,
     "metadata": {},
     "output_type": "execute_result"
    }
   ],
   "source": [
    "l.append(\"append\")\n",
    "l"
   ]
  },
  {
   "cell_type": "code",
   "execution_count": 68,
   "id": "ef5d0b64",
   "metadata": {},
   "outputs": [
    {
     "data": {
      "text/plain": [
       "[1,\n",
       " 2,\n",
       " '파이썬',\n",
       " 3.0,\n",
       " [4, 5, 6],\n",
       " (7, 8, '리스트'),\n",
       " True,\n",
       " False,\n",
       " 3,\n",
       " 'append',\n",
       " '[1,2,3]']"
      ]
     },
     "execution_count": 68,
     "metadata": {},
     "output_type": "execute_result"
    }
   ],
   "source": [
    "l.append(\"[1,2,3]\")\n",
    "l"
   ]
  },
  {
   "cell_type": "code",
   "execution_count": 69,
   "id": "52eb5fb4",
   "metadata": {},
   "outputs": [
    {
     "data": {
      "text/plain": [
       "[1,\n",
       " 2,\n",
       " '파이썬',\n",
       " 3.0,\n",
       " [4, 5, 6],\n",
       " (7, 8, '리스트'),\n",
       " True,\n",
       " False,\n",
       " 3,\n",
       " 'append',\n",
       " '[1,2,3]',\n",
       " {1, 2, 3}]"
      ]
     },
     "execution_count": 69,
     "metadata": {},
     "output_type": "execute_result"
    }
   ],
   "source": [
    "l.append({1,2,3})\n",
    "l"
   ]
  },
  {
   "cell_type": "code",
   "execution_count": 70,
   "id": "2c98e150",
   "metadata": {},
   "outputs": [
    {
     "data": {
      "text/plain": [
       "[1,\n",
       " 2,\n",
       " '파이썬',\n",
       " 3.0,\n",
       " [4, 5, 6],\n",
       " (7, 8, '리스트'),\n",
       " True,\n",
       " False,\n",
       " 3,\n",
       " 'append',\n",
       " '[1,2,3]',\n",
       " {1, 2, 3},\n",
       " {'key': 'value'}]"
      ]
     },
     "execution_count": 70,
     "metadata": {},
     "output_type": "execute_result"
    }
   ],
   "source": [
    "l.append({'key':'value'})\n",
    "l"
   ]
  },
  {
   "cell_type": "markdown",
   "id": "975faa74",
   "metadata": {},
   "source": [
    "# 특정 위치에 자료 추가 .insert()\n",
    "* insert()"
   ]
  },
  {
   "cell_type": "code",
   "execution_count": 71,
   "id": "680ea03f",
   "metadata": {},
   "outputs": [
    {
     "data": {
      "text/plain": [
       "[1,\n",
       " 2,\n",
       " 3,\n",
       " '파이썬',\n",
       " 3.0,\n",
       " [4, 5, 6],\n",
       " (7, 8, '리스트'),\n",
       " True,\n",
       " False,\n",
       " 3,\n",
       " 'append',\n",
       " '[1,2,3]',\n",
       " {1, 2, 3},\n",
       " {'key': 'value'}]"
      ]
     },
     "execution_count": 71,
     "metadata": {},
     "output_type": "execute_result"
    }
   ],
   "source": [
    "# 인덱스 2번에 정수 3 넣기,, 0부터 카운트\n",
    "l.insert(2, 3)\n",
    "l"
   ]
  },
  {
   "cell_type": "code",
   "execution_count": 72,
   "id": "d200e67b",
   "metadata": {},
   "outputs": [
    {
     "data": {
      "text/plain": [
       "[1,\n",
       " 2,\n",
       " '김영훈',\n",
       " 3,\n",
       " '파이썬',\n",
       " 3.0,\n",
       " [4, 5, 6],\n",
       " (7, 8, '리스트'),\n",
       " True,\n",
       " False,\n",
       " 3,\n",
       " 'append',\n",
       " '[1,2,3]',\n",
       " {1, 2, 3},\n",
       " {'key': 'value'}]"
      ]
     },
     "execution_count": 72,
     "metadata": {},
     "output_type": "execute_result"
    }
   ],
   "source": [
    "l.insert(2, \"김영훈\")\n",
    "l"
   ]
  },
  {
   "cell_type": "markdown",
   "id": "62bda457",
   "metadata": {},
   "source": [
    "## 리스트의 자료 삭제하기\n",
    "* del 변수명[인덱스 번호] : 해당 인덱스 번호의 자료 삭제\n",
    "* pop() : 리스트의 가장 끝 자료가 출력되면서 삭제됨\n",
    "* remove(값) : 리스트의 앞부터 일치하는 값 1개를 찾아서 삭제 (정수, 실수 구분 X)"
   ]
  },
  {
   "cell_type": "code",
   "execution_count": 73,
   "id": "cfea72e5",
   "metadata": {},
   "outputs": [
    {
     "data": {
      "text/plain": [
       "(7, 8, '리스트')"
      ]
     },
     "execution_count": 73,
     "metadata": {},
     "output_type": "execute_result"
    }
   ],
   "source": [
    "l[7]"
   ]
  },
  {
   "cell_type": "code",
   "execution_count": 74,
   "id": "e082d181",
   "metadata": {},
   "outputs": [
    {
     "data": {
      "text/plain": [
       "[1,\n",
       " 2,\n",
       " '김영훈',\n",
       " 3,\n",
       " '파이썬',\n",
       " 3.0,\n",
       " [4, 5, 6],\n",
       " True,\n",
       " False,\n",
       " 3,\n",
       " 'append',\n",
       " '[1,2,3]',\n",
       " {1, 2, 3},\n",
       " {'key': 'value'}]"
      ]
     },
     "execution_count": 74,
     "metadata": {},
     "output_type": "execute_result"
    }
   ],
   "source": [
    "del l[7]\n",
    "l"
   ]
  },
  {
   "cell_type": "code",
   "execution_count": 75,
   "id": "0ad58fb1",
   "metadata": {},
   "outputs": [],
   "source": [
    "del l[2]"
   ]
  },
  {
   "cell_type": "code",
   "execution_count": 76,
   "id": "09501e4a",
   "metadata": {},
   "outputs": [
    {
     "data": {
      "text/plain": [
       "[1,\n",
       " 2,\n",
       " 3,\n",
       " '파이썬',\n",
       " 3.0,\n",
       " [4, 5, 6],\n",
       " True,\n",
       " False,\n",
       " 3,\n",
       " 'append',\n",
       " '[1,2,3]',\n",
       " {1, 2, 3},\n",
       " {'key': 'value'}]"
      ]
     },
     "execution_count": 76,
     "metadata": {},
     "output_type": "execute_result"
    }
   ],
   "source": [
    "l"
   ]
  },
  {
   "cell_type": "code",
   "execution_count": 77,
   "id": "d5188d85",
   "metadata": {},
   "outputs": [
    {
     "data": {
      "text/plain": [
       "{'key': 'value'}"
      ]
     },
     "execution_count": 77,
     "metadata": {},
     "output_type": "execute_result"
    }
   ],
   "source": [
    "# 제일 마지막 요소가 삭제됨 인덱스 번호 -1 지정 가능\n",
    "l.pop()"
   ]
  },
  {
   "cell_type": "code",
   "execution_count": 78,
   "id": "2f5fcd4d",
   "metadata": {},
   "outputs": [
    {
     "data": {
      "text/plain": [
       "[1,\n",
       " 2,\n",
       " 3,\n",
       " '파이썬',\n",
       " 3.0,\n",
       " [4, 5, 6],\n",
       " True,\n",
       " False,\n",
       " 3,\n",
       " 'append',\n",
       " '[1,2,3]',\n",
       " {1, 2, 3}]"
      ]
     },
     "execution_count": 78,
     "metadata": {},
     "output_type": "execute_result"
    }
   ],
   "source": [
    "l"
   ]
  },
  {
   "cell_type": "code",
   "execution_count": 81,
   "id": "c4e645c7",
   "metadata": {},
   "outputs": [],
   "source": [
    "l.remove(3)"
   ]
  },
  {
   "cell_type": "code",
   "execution_count": 83,
   "id": "c879204b",
   "metadata": {},
   "outputs": [
    {
     "data": {
      "text/plain": [
       "[1, 2, '파이썬', [4, 5, 6], True, False, 3, 'append', '[1,2,3]', {1, 2, 3}]"
      ]
     },
     "execution_count": 83,
     "metadata": {},
     "output_type": "execute_result"
    }
   ],
   "source": [
    "l"
   ]
  },
  {
   "cell_type": "markdown",
   "id": "33e4ae35",
   "metadata": {},
   "source": [
    "## 리스트를 확장하기 .extend()\n",
    "* 리스트의 자료를 추가하되, 요소만 추가"
   ]
  },
  {
   "cell_type": "code",
   "execution_count": 77,
   "id": "270a6493",
   "metadata": {},
   "outputs": [],
   "source": [
    "a = [1, 2, 3]\n",
    "b = [4, 5, 6]"
   ]
  },
  {
   "cell_type": "code",
   "execution_count": 78,
   "id": "22360c0f",
   "metadata": {},
   "outputs": [],
   "source": [
    "a.append(b)"
   ]
  },
  {
   "cell_type": "code",
   "execution_count": 79,
   "id": "7b12b8a6",
   "metadata": {},
   "outputs": [
    {
     "data": {
      "text/plain": [
       "[1, 2, 3, [4, 5, 6]]"
      ]
     },
     "execution_count": 79,
     "metadata": {},
     "output_type": "execute_result"
    }
   ],
   "source": [
    "a"
   ]
  },
  {
   "cell_type": "code",
   "execution_count": 80,
   "id": "c428dd1c",
   "metadata": {},
   "outputs": [
    {
     "data": {
      "text/plain": [
       "4"
      ]
     },
     "execution_count": 80,
     "metadata": {},
     "output_type": "execute_result"
    }
   ],
   "source": [
    "len(a)"
   ]
  },
  {
   "cell_type": "code",
   "execution_count": 81,
   "id": "e9560bec",
   "metadata": {},
   "outputs": [
    {
     "data": {
      "text/plain": [
       "4"
      ]
     },
     "execution_count": 81,
     "metadata": {},
     "output_type": "execute_result"
    }
   ],
   "source": [
    "a[3][0]"
   ]
  },
  {
   "cell_type": "code",
   "execution_count": 82,
   "id": "f9d6e3a3",
   "metadata": {},
   "outputs": [],
   "source": [
    "a.insert(4,b)"
   ]
  },
  {
   "cell_type": "code",
   "execution_count": 83,
   "id": "39803f28",
   "metadata": {},
   "outputs": [
    {
     "data": {
      "text/plain": [
       "[1, 2, 3, [4, 5, 6], [4, 5, 6]]"
      ]
     },
     "execution_count": 83,
     "metadata": {},
     "output_type": "execute_result"
    }
   ],
   "source": [
    "a"
   ]
  },
  {
   "cell_type": "code",
   "execution_count": 84,
   "id": "1cd3fe65",
   "metadata": {},
   "outputs": [
    {
     "data": {
      "text/plain": [
       "[1, 2, 3, [4, 5, 6], [4, 5, 6], 7, 8, 9]"
      ]
     },
     "execution_count": 84,
     "metadata": {},
     "output_type": "execute_result"
    }
   ],
   "source": [
    "a.extend([7,8,9])\n",
    "a"
   ]
  },
  {
   "cell_type": "code",
   "execution_count": 85,
   "id": "ff776f1d",
   "metadata": {},
   "outputs": [],
   "source": [
    "c = [7, 8, 9]"
   ]
  },
  {
   "cell_type": "code",
   "execution_count": 86,
   "id": "ec8c5447",
   "metadata": {},
   "outputs": [
    {
     "data": {
      "text/plain": [
       "[4, 5, 6]"
      ]
     },
     "execution_count": 86,
     "metadata": {},
     "output_type": "execute_result"
    }
   ],
   "source": [
    "b"
   ]
  },
  {
   "cell_type": "code",
   "execution_count": 87,
   "id": "9e092c38",
   "metadata": {},
   "outputs": [
    {
     "data": {
      "text/plain": [
       "[7, 8, 9]"
      ]
     },
     "execution_count": 87,
     "metadata": {},
     "output_type": "execute_result"
    }
   ],
   "source": [
    "c"
   ]
  },
  {
   "cell_type": "code",
   "execution_count": 88,
   "id": "0cd336cd",
   "metadata": {},
   "outputs": [
    {
     "data": {
      "text/plain": [
       "[4, 5, 6, 7, 8, 9]"
      ]
     },
     "execution_count": 88,
     "metadata": {},
     "output_type": "execute_result"
    }
   ],
   "source": [
    "b.extend(c)\n",
    "b"
   ]
  },
  {
   "cell_type": "markdown",
   "id": "70a3c5d6",
   "metadata": {},
   "source": [
    "## list + list = .extend()를 한 것과 동일"
   ]
  },
  {
   "cell_type": "code",
   "execution_count": 89,
   "id": "573e5b31",
   "metadata": {},
   "outputs": [
    {
     "data": {
      "text/plain": [
       "[4, 5, 6, 7, 8, 9, 7, 8, 9]"
      ]
     },
     "execution_count": 89,
     "metadata": {},
     "output_type": "execute_result"
    }
   ],
   "source": [
    "b + c"
   ]
  },
  {
   "cell_type": "markdown",
   "id": "4205b458",
   "metadata": {},
   "source": [
    "## 리스트 안에서 원하는 값의 인덱스 찾기\n",
    "* in, not in: 리스트 안에 원하는 값이 있는지 확인\n",
    "* 원하는 값이 있는 위치를 찾을 때 .index(찾을 값)    \n",
    "* 동일한 값이 여러개 있는 경우 가장 앞의 인덱스를 반환\n",
    "* 2번째 이상의 자료를 찾으려면 옵션에 시작 인덱스를 지정하면 됨\n",
    "* .index(찾는 값, 시작 인덱스 번호)"
   ]
  },
  {
   "cell_type": "code",
   "execution_count": 90,
   "id": "bdef16d5",
   "metadata": {},
   "outputs": [
    {
     "data": {
      "text/plain": [
       "[1, 2, 3, [4, 5, 6, 7, 8, 9], [4, 5, 6, 7, 8, 9], 7, 8, 9]"
      ]
     },
     "execution_count": 90,
     "metadata": {},
     "output_type": "execute_result"
    }
   ],
   "source": [
    "a"
   ]
  },
  {
   "cell_type": "code",
   "execution_count": 91,
   "id": "63f492e9",
   "metadata": {},
   "outputs": [
    {
     "data": {
      "text/plain": [
       "0"
      ]
     },
     "execution_count": 91,
     "metadata": {},
     "output_type": "execute_result"
    }
   ],
   "source": [
    "#박스(리스트)를 열어줘야 함\n",
    "a[3].index(4)"
   ]
  },
  {
   "cell_type": "code",
   "execution_count": 92,
   "id": "fa012866",
   "metadata": {},
   "outputs": [
    {
     "data": {
      "text/plain": [
       "7"
      ]
     },
     "execution_count": 92,
     "metadata": {},
     "output_type": "execute_result"
    }
   ],
   "source": [
    "a[5]"
   ]
  },
  {
   "cell_type": "code",
   "execution_count": 93,
   "id": "37189c5c",
   "metadata": {},
   "outputs": [],
   "source": [
    "a.extend([1,2,3])"
   ]
  },
  {
   "cell_type": "code",
   "execution_count": 94,
   "id": "6d9903ca",
   "metadata": {},
   "outputs": [
    {
     "data": {
      "text/plain": [
       "[1, 2, 3, [4, 5, 6, 7, 8, 9], [4, 5, 6, 7, 8, 9], 7, 8, 9, 1, 2, 3]"
      ]
     },
     "execution_count": 94,
     "metadata": {},
     "output_type": "execute_result"
    }
   ],
   "source": [
    "a"
   ]
  },
  {
   "cell_type": "code",
   "execution_count": 95,
   "id": "ca9d8932",
   "metadata": {},
   "outputs": [
    {
     "data": {
      "text/plain": [
       "2"
      ]
     },
     "execution_count": 95,
     "metadata": {},
     "output_type": "execute_result"
    }
   ],
   "source": [
    "a.index(3)"
   ]
  },
  {
   "cell_type": "markdown",
   "id": "9c4578b4",
   "metadata": {},
   "source": [
    "a에서 2번째 3을 찾으세요"
   ]
  },
  {
   "cell_type": "code",
   "execution_count": 96,
   "id": "74a9944f",
   "metadata": {},
   "outputs": [
    {
     "data": {
      "text/plain": [
       "10"
      ]
     },
     "execution_count": 96,
     "metadata": {},
     "output_type": "execute_result"
    }
   ],
   "source": [
    "a.index(3, 3)"
   ]
  },
  {
   "cell_type": "code",
   "execution_count": 99,
   "id": "9c3f5435",
   "metadata": {},
   "outputs": [
    {
     "data": {
      "text/plain": [
       "2"
      ]
     },
     "execution_count": 99,
     "metadata": {},
     "output_type": "execute_result"
    }
   ],
   "source": [
    "a.index(3, 1)"
   ]
  },
  {
   "cell_type": "markdown",
   "id": "d4070eed",
   "metadata": {},
   "source": [
    "## 리스트 안에서 특정 값의 개수 구하기 .count(값)"
   ]
  },
  {
   "cell_type": "code",
   "execution_count": 27,
   "id": "7484f6c9",
   "metadata": {},
   "outputs": [
    {
     "data": {
      "text/plain": [
       "[1, 2, 3, [4, 5, 6, 7, 8, 9], [4, 5, 6, 7, 8, 9], 7, 8, 9, 1, 2, 3]"
      ]
     },
     "execution_count": 27,
     "metadata": {},
     "output_type": "execute_result"
    }
   ],
   "source": [
    "a"
   ]
  },
  {
   "cell_type": "code",
   "execution_count": 28,
   "id": "7f28a9ae",
   "metadata": {},
   "outputs": [
    {
     "data": {
      "text/plain": [
       "0"
      ]
     },
     "execution_count": 28,
     "metadata": {},
     "output_type": "execute_result"
    }
   ],
   "source": [
    "a.count(4)"
   ]
  },
  {
   "cell_type": "markdown",
   "id": "8ec137b7",
   "metadata": {},
   "source": [
    "## 리스트 순서 뒤집기 .reverse()\n",
    "* 실행 즉시 원본 데이터가 변경됨"
   ]
  },
  {
   "cell_type": "code",
   "execution_count": 29,
   "id": "62bd3e6e",
   "metadata": {},
   "outputs": [
    {
     "data": {
      "text/plain": [
       "[1, 2, 3, [4, 5, 6, 7, 8, 9], [4, 5, 6, 7, 8, 9], 7, 8, 9, 1, 2, 3]"
      ]
     },
     "execution_count": 29,
     "metadata": {},
     "output_type": "execute_result"
    }
   ],
   "source": [
    "a"
   ]
  },
  {
   "cell_type": "code",
   "execution_count": 30,
   "id": "ea452164",
   "metadata": {},
   "outputs": [],
   "source": [
    "a.reverse()"
   ]
  },
  {
   "cell_type": "code",
   "execution_count": 31,
   "id": "06fb4570",
   "metadata": {},
   "outputs": [
    {
     "data": {
      "text/plain": [
       "[3, 2, 1, 9, 8, 7, [4, 5, 6, 7, 8, 9], [4, 5, 6, 7, 8, 9], 3, 2, 1]"
      ]
     },
     "execution_count": 31,
     "metadata": {},
     "output_type": "execute_result"
    }
   ],
   "source": [
    "a"
   ]
  },
  {
   "cell_type": "markdown",
   "id": "d3f19d2b",
   "metadata": {},
   "source": [
    "* 인덱싱으로 순서 뒤집기"
   ]
  },
  {
   "cell_type": "code",
   "execution_count": 34,
   "id": "0abd707f",
   "metadata": {},
   "outputs": [
    {
     "data": {
      "text/plain": [
       "[1, 2, 3, [4, 5, 6, 7, 8, 9], [4, 5, 6, 7, 8, 9], 7, 8, 9, 1, 2, 3]"
      ]
     },
     "execution_count": 34,
     "metadata": {},
     "output_type": "execute_result"
    }
   ],
   "source": [
    "a[::-1]"
   ]
  },
  {
   "cell_type": "markdown",
   "id": "9e045787",
   "metadata": {},
   "source": [
    "### 리스트 정렬 .sort() 오름차순 .sort(reverse=True) 내림차순\n",
    "* 실행 즉시 원본 데이터를 바꿈"
   ]
  },
  {
   "cell_type": "code",
   "execution_count": 35,
   "id": "83923475",
   "metadata": {},
   "outputs": [],
   "source": [
    "a = [1, 6, 7, 4, 5, 7, 9, 4, 5, 754, 9]"
   ]
  },
  {
   "cell_type": "code",
   "execution_count": 37,
   "id": "8282d571",
   "metadata": {},
   "outputs": [
    {
     "data": {
      "text/plain": [
       "[1, 4, 4, 5, 5, 6, 7, 7, 9, 9, 754]"
      ]
     },
     "execution_count": 37,
     "metadata": {},
     "output_type": "execute_result"
    }
   ],
   "source": [
    "a.sort()\n",
    "a"
   ]
  },
  {
   "cell_type": "code",
   "execution_count": 39,
   "id": "2d702a9d",
   "metadata": {},
   "outputs": [
    {
     "data": {
      "text/plain": [
       "[1, 4, 4, 5, 5, 6, 7, 7, 9, 9, 754]"
      ]
     },
     "execution_count": 39,
     "metadata": {},
     "output_type": "execute_result"
    }
   ],
   "source": [
    "a"
   ]
  },
  {
   "cell_type": "code",
   "execution_count": 41,
   "id": "26f83aa1",
   "metadata": {},
   "outputs": [],
   "source": [
    "# 역순 정렬\n",
    "a.sort(reverse=True)"
   ]
  },
  {
   "cell_type": "code",
   "execution_count": 43,
   "id": "547c00af",
   "metadata": {},
   "outputs": [
    {
     "data": {
      "text/plain": [
       "[754, 9, 9, 7, 7, 6, 5, 5, 4, 4, 1]"
      ]
     },
     "execution_count": 43,
     "metadata": {},
     "output_type": "execute_result"
    }
   ],
   "source": [
    "a"
   ]
  },
  {
   "cell_type": "markdown",
   "id": "0c0a0127",
   "metadata": {},
   "source": [
    "### sorted(리스트) 오름차순, sorted(리스트, reverse=True) 내림차순 \n",
    "* 결과 변경 안됨,, 변경값 확인만 하고 싶을 때"
   ]
  },
  {
   "cell_type": "code",
   "execution_count": 44,
   "id": "24b43ebe",
   "metadata": {},
   "outputs": [],
   "source": [
    "b = [1, 6, 7, 4, 5, 7, 9, 4, 5, 754, 9]"
   ]
  },
  {
   "cell_type": "code",
   "execution_count": 45,
   "id": "8985f346",
   "metadata": {},
   "outputs": [
    {
     "data": {
      "text/plain": [
       "[1, 4, 4, 5, 5, 6, 7, 7, 9, 9, 754]"
      ]
     },
     "execution_count": 45,
     "metadata": {},
     "output_type": "execute_result"
    }
   ],
   "source": [
    "sorted(b)"
   ]
  },
  {
   "cell_type": "code",
   "execution_count": 46,
   "id": "32475f76",
   "metadata": {},
   "outputs": [
    {
     "data": {
      "text/plain": [
       "[1, 6, 7, 4, 5, 7, 9, 4, 5, 754, 9]"
      ]
     },
     "execution_count": 46,
     "metadata": {},
     "output_type": "execute_result"
    }
   ],
   "source": [
    "b"
   ]
  },
  {
   "cell_type": "code",
   "execution_count": 48,
   "id": "07bcd377",
   "metadata": {},
   "outputs": [
    {
     "data": {
      "text/plain": [
       "[754, 9, 9, 7, 7, 6, 5, 5, 4, 4, 1]"
      ]
     },
     "execution_count": 48,
     "metadata": {},
     "output_type": "execute_result"
    }
   ],
   "source": [
    "sorted(b, reverse=True)"
   ]
  },
  {
   "cell_type": "code",
   "execution_count": 50,
   "id": "bffdea0a",
   "metadata": {},
   "outputs": [
    {
     "data": {
      "text/plain": [
       "[1, 6, 7, 4, 5, 7, 9, 4, 5, 754, 9]"
      ]
     },
     "execution_count": 50,
     "metadata": {},
     "output_type": "execute_result"
    }
   ],
   "source": [
    "b"
   ]
  },
  {
   "cell_type": "markdown",
   "id": "1bfd5568",
   "metadata": {},
   "source": [
    "# 튜플 tuple\n",
    "* 튜플은 리스트처럼 모든 자료형을 넣어 만들 수 있다.\n",
    "* 순서가 있는 자료형, 인덱스가 있다.\n",
    "* 인덱싱, 슬라이싱 가능\n",
    "* 자료의 추가 삭제가 안 됨\n",
    "* ()안에 자료를 넣어서 만든다.\n",
    "* 튜플 형변환 함수는 tuple()\n",
    "* 자료 1개만 넣어서 만들 수 있다. (1,) 형식이어야 한다.\n",
    "* 튜플 생성시 자료가 2개 이상인 경우 ()는 생략 가능"
   ]
  },
  {
   "cell_type": "code",
   "execution_count": 53,
   "id": "5b10ea38",
   "metadata": {},
   "outputs": [
    {
     "data": {
      "text/plain": [
       "(1, 2, 3)"
      ]
     },
     "execution_count": 53,
     "metadata": {},
     "output_type": "execute_result"
    }
   ],
   "source": [
    "t = (1, 2, 3)\n",
    "t"
   ]
  },
  {
   "cell_type": "code",
   "execution_count": 55,
   "id": "ff99e7d7",
   "metadata": {},
   "outputs": [
    {
     "data": {
      "text/plain": [
       "1"
      ]
     },
     "execution_count": 55,
     "metadata": {},
     "output_type": "execute_result"
    }
   ],
   "source": [
    "t[0]"
   ]
  },
  {
   "cell_type": "code",
   "execution_count": 56,
   "id": "96764acc",
   "metadata": {},
   "outputs": [
    {
     "data": {
      "text/plain": [
       "(3, 2, 1)"
      ]
     },
     "execution_count": 56,
     "metadata": {},
     "output_type": "execute_result"
    }
   ],
   "source": [
    "t[::-1]"
   ]
  },
  {
   "cell_type": "code",
   "execution_count": 57,
   "id": "8e4add50",
   "metadata": {},
   "outputs": [
    {
     "ename": "AttributeError",
     "evalue": "'tuple' object has no attribute 'append'",
     "output_type": "error",
     "traceback": [
      "\u001b[1;31m---------------------------------------------------------------------------\u001b[0m",
      "\u001b[1;31mAttributeError\u001b[0m                            Traceback (most recent call last)",
      "Cell \u001b[1;32mIn[57], line 1\u001b[0m\n\u001b[1;32m----> 1\u001b[0m \u001b[43mt\u001b[49m\u001b[38;5;241;43m.\u001b[39;49m\u001b[43mappend\u001b[49m()\n",
      "\u001b[1;31mAttributeError\u001b[0m: 'tuple' object has no attribute 'append'"
     ]
    }
   ],
   "source": [
    "t.append()"
   ]
  },
  {
   "cell_type": "code",
   "execution_count": 58,
   "id": "a5877cc7",
   "metadata": {},
   "outputs": [],
   "source": [
    "t2 = (4, 5, 6)"
   ]
  },
  {
   "cell_type": "markdown",
   "id": "e66a7563",
   "metadata": {},
   "source": [
    "## 튜플 + 튜플 = 두 개의 튜플의 요소가 하나로 합쳐진다."
   ]
  },
  {
   "cell_type": "code",
   "execution_count": null,
   "id": "baec8223",
   "metadata": {},
   "outputs": [],
   "source": []
  },
  {
   "cell_type": "code",
   "execution_count": 59,
   "id": "ac7349ae",
   "metadata": {},
   "outputs": [
    {
     "data": {
      "text/plain": [
       "(1, 2, 3, 4, 5, 6)"
      ]
     },
     "execution_count": 59,
     "metadata": {},
     "output_type": "execute_result"
    }
   ],
   "source": [
    "t + t2"
   ]
  },
  {
   "cell_type": "code",
   "execution_count": 60,
   "id": "a5e61a77",
   "metadata": {},
   "outputs": [
    {
     "data": {
      "text/plain": [
       "(1, 2, 3, 4, 5)"
      ]
     },
     "execution_count": 60,
     "metadata": {},
     "output_type": "execute_result"
    }
   ],
   "source": [
    "tuple([1,2,3,4,5])"
   ]
  },
  {
   "cell_type": "code",
   "execution_count": 62,
   "id": "1e706239",
   "metadata": {},
   "outputs": [
    {
     "data": {
      "text/plain": [
       "(1, 2, 3)"
      ]
     },
     "execution_count": 62,
     "metadata": {},
     "output_type": "execute_result"
    }
   ],
   "source": [
    "t"
   ]
  },
  {
   "cell_type": "code",
   "execution_count": 63,
   "id": "f42678b3",
   "metadata": {},
   "outputs": [
    {
     "ename": "AttributeError",
     "evalue": "'tuple' object has no attribute 'insert'",
     "output_type": "error",
     "traceback": [
      "\u001b[1;31m---------------------------------------------------------------------------\u001b[0m",
      "\u001b[1;31mAttributeError\u001b[0m                            Traceback (most recent call last)",
      "Cell \u001b[1;32mIn[63], line 1\u001b[0m\n\u001b[1;32m----> 1\u001b[0m \u001b[43mt\u001b[49m\u001b[38;5;241;43m.\u001b[39;49m\u001b[43minsert\u001b[49m(\u001b[38;5;241m2\u001b[39m, \u001b[38;5;241m4\u001b[39m)\n",
      "\u001b[1;31mAttributeError\u001b[0m: 'tuple' object has no attribute 'insert'"
     ]
    }
   ],
   "source": [
    "t.insert(2, 4)"
   ]
  },
  {
   "cell_type": "markdown",
   "id": "8e125065",
   "metadata": {},
   "source": [
    "* list와 같이, 특정 값의 인덱스를 찾는 것은 가능"
   ]
  },
  {
   "cell_type": "code",
   "execution_count": 64,
   "id": "9e566106",
   "metadata": {},
   "outputs": [
    {
     "data": {
      "text/plain": [
       "1"
      ]
     },
     "execution_count": 64,
     "metadata": {},
     "output_type": "execute_result"
    }
   ],
   "source": [
    "t.index(2)"
   ]
  },
  {
   "cell_type": "markdown",
   "id": "3d8f8a73",
   "metadata": {},
   "source": [
    "* list와 같이 특정 값을 개수를 세는 것도 가능"
   ]
  },
  {
   "cell_type": "code",
   "execution_count": null,
   "id": "86fbbe3f",
   "metadata": {},
   "outputs": [],
   "source": [
    "t.count(1)"
   ]
  },
  {
   "cell_type": "markdown",
   "id": "790070c9",
   "metadata": {},
   "source": [
    "* 튜플에 자료를 추가하고 싶을 때\n",
    "* list로 형변환 후 다시 tuple로 형변환 하면 된다"
   ]
  },
  {
   "cell_type": "code",
   "execution_count": 66,
   "id": "1f43af5e",
   "metadata": {},
   "outputs": [
    {
     "data": {
      "text/plain": [
       "(1, 2, 3)"
      ]
     },
     "execution_count": 66,
     "metadata": {},
     "output_type": "execute_result"
    }
   ],
   "source": [
    "t"
   ]
  },
  {
   "cell_type": "code",
   "execution_count": 67,
   "id": "bdd40a90",
   "metadata": {},
   "outputs": [
    {
     "data": {
      "text/plain": [
       "[1, 2, 3]"
      ]
     },
     "execution_count": 67,
     "metadata": {},
     "output_type": "execute_result"
    }
   ],
   "source": [
    "t = list(t)\n",
    "t"
   ]
  },
  {
   "cell_type": "code",
   "execution_count": 68,
   "id": "3787ef98",
   "metadata": {},
   "outputs": [],
   "source": [
    "t.extend([4,5,6])"
   ]
  },
  {
   "cell_type": "code",
   "execution_count": 69,
   "id": "b2fd5c8a",
   "metadata": {},
   "outputs": [
    {
     "data": {
      "text/plain": [
       "[1, 2, 3, 4, 5, 6]"
      ]
     },
     "execution_count": 69,
     "metadata": {},
     "output_type": "execute_result"
    }
   ],
   "source": [
    "t"
   ]
  },
  {
   "cell_type": "code",
   "execution_count": 70,
   "id": "7655affd",
   "metadata": {},
   "outputs": [
    {
     "data": {
      "text/plain": [
       "(1, 2, 3, 4, 5, 6)"
      ]
     },
     "execution_count": 70,
     "metadata": {},
     "output_type": "execute_result"
    }
   ],
   "source": [
    "t = tuple(t)\n",
    "t"
   ]
  },
  {
   "cell_type": "markdown",
   "id": "e33951de",
   "metadata": {},
   "source": [
    "* 튜플에 자료를 1개만 넣고 만들 때\n",
    "* (자료,)"
   ]
  },
  {
   "cell_type": "code",
   "execution_count": 72,
   "id": "3c1b8234",
   "metadata": {},
   "outputs": [
    {
     "name": "stdout",
     "output_type": "stream",
     "text": [
      "튜플 <class 'str'>\n"
     ]
    }
   ],
   "source": [
    "t3 = (\"튜플\")\n",
    "print(t3, type(t3))"
   ]
  },
  {
   "cell_type": "markdown",
   "id": "5ac8bbc3",
   "metadata": {},
   "source": [
    "* 괄호를 생략하고 튜플 만들기"
   ]
  },
  {
   "cell_type": "code",
   "execution_count": 73,
   "id": "03fa0be1",
   "metadata": {},
   "outputs": [
    {
     "data": {
      "text/plain": [
       "('튜플', '괄호 없이', '만들기', 222)"
      ]
     },
     "execution_count": 73,
     "metadata": {},
     "output_type": "execute_result"
    }
   ],
   "source": [
    "t5 = \"튜플\", \"괄호 없이\", \"만들기\", 222\n",
    "t5"
   ]
  },
  {
   "cell_type": "code",
   "execution_count": 75,
   "id": "b6851e4f",
   "metadata": {},
   "outputs": [
    {
     "name": "stdout",
     "output_type": "stream",
     "text": [
      "('튜플', '괄호 없이', '만들기', 222) <class 'tuple'>\n"
     ]
    }
   ],
   "source": [
    "print(t5, type(t5))"
   ]
  },
  {
   "cell_type": "markdown",
   "id": "fae833e6",
   "metadata": {},
   "source": [
    "# 시퀀스 객체 (자료형)\n",
    "* 문자열, 리스트, 튜플 같은 순서가 있는 자료형 : 시퀀스 자료형\n",
    "* 순서가 있고, 인덱스 번호가 부여되며 인덱싱, 슬라이싱이 가능\n",
    "* 반복문에 시퀀스 자료형을 그대로 넣어서 반복시키는 것이 가능"
   ]
  },
  {
   "cell_type": "markdown",
   "id": "4311edfc",
   "metadata": {},
   "source": [
    "특정값이 있는지 확인 in, not in"
   ]
  },
  {
   "cell_type": "code",
   "execution_count": 100,
   "id": "5650d136",
   "metadata": {},
   "outputs": [
    {
     "data": {
      "text/plain": [
       "(4, 5, 6)"
      ]
     },
     "execution_count": 100,
     "metadata": {},
     "output_type": "execute_result"
    }
   ],
   "source": [
    "t2"
   ]
  },
  {
   "cell_type": "code",
   "execution_count": 101,
   "id": "8cdbfc09",
   "metadata": {},
   "outputs": [
    {
     "data": {
      "text/plain": [
       "True"
      ]
     },
     "execution_count": 101,
     "metadata": {},
     "output_type": "execute_result"
    }
   ],
   "source": [
    "4 in t2"
   ]
  },
  {
   "cell_type": "code",
   "execution_count": 102,
   "id": "5afc280a",
   "metadata": {},
   "outputs": [
    {
     "data": {
      "text/plain": [
       "False"
      ]
     },
     "execution_count": 102,
     "metadata": {},
     "output_type": "execute_result"
    }
   ],
   "source": [
    "7 in t2"
   ]
  },
  {
   "cell_type": "code",
   "execution_count": 104,
   "id": "282c434e",
   "metadata": {},
   "outputs": [],
   "source": [
    "c = \"시퀀스 자료형은 in, not in을 자료가 내부에 있는지 확인 가능하다.\""
   ]
  },
  {
   "cell_type": "code",
   "execution_count": 106,
   "id": "bd7e9d04",
   "metadata": {},
   "outputs": [
    {
     "data": {
      "text/plain": [
       "True"
      ]
     },
     "execution_count": 106,
     "metadata": {},
     "output_type": "execute_result"
    }
   ],
   "source": [
    "\"자료\" in c"
   ]
  },
  {
   "cell_type": "code",
   "execution_count": 107,
   "id": "d97eec07",
   "metadata": {},
   "outputs": [
    {
     "data": {
      "text/plain": [
       "True"
      ]
     },
     "execution_count": 107,
     "metadata": {},
     "output_type": "execute_result"
    }
   ],
   "source": [
    "\"확인\" in c"
   ]
  },
  {
   "cell_type": "code",
   "execution_count": 108,
   "id": "eed16e17",
   "metadata": {},
   "outputs": [
    {
     "data": {
      "text/plain": [
       "True"
      ]
     },
     "execution_count": 108,
     "metadata": {},
     "output_type": "execute_result"
    }
   ],
   "source": [
    "list_01 = [1,2,3,4,5]\n",
    "3 in list_01"
   ]
  },
  {
   "cell_type": "markdown",
   "id": "8ae42370",
   "metadata": {},
   "source": [
    "* 시퀀스 객체는 + 연산자를 이용해서 서로 연결이 가능"
   ]
  },
  {
   "cell_type": "code",
   "execution_count": 109,
   "id": "4d82dcc0",
   "metadata": {},
   "outputs": [
    {
     "data": {
      "text/plain": [
       "'시퀀스자료형'"
      ]
     },
     "execution_count": 109,
     "metadata": {},
     "output_type": "execute_result"
    }
   ],
   "source": [
    "\"시퀀스\" + \"자료형\""
   ]
  },
  {
   "cell_type": "code",
   "execution_count": 110,
   "id": "db8a3ec6",
   "metadata": {},
   "outputs": [
    {
     "data": {
      "text/plain": [
       "[1, 2, 3, 4, 5, 6, 7, 8]"
      ]
     },
     "execution_count": 110,
     "metadata": {},
     "output_type": "execute_result"
    }
   ],
   "source": [
    "[1,2,3,4] + [5,6,7,8]"
   ]
  },
  {
   "cell_type": "code",
   "execution_count": 111,
   "id": "40bbed0d",
   "metadata": {},
   "outputs": [
    {
     "data": {
      "text/plain": [
       "(1, 2, 3, 4, 5, 6, 7, 8)"
      ]
     },
     "execution_count": 111,
     "metadata": {},
     "output_type": "execute_result"
    }
   ],
   "source": [
    "(1,2,3,4) + (5,6,7,8)"
   ]
  },
  {
   "cell_type": "markdown",
   "id": "25274ece",
   "metadata": {},
   "source": [
    "* 시퀀스 객체는 * 로 반복 가능"
   ]
  },
  {
   "cell_type": "code",
   "execution_count": 112,
   "id": "d7be9f52",
   "metadata": {},
   "outputs": [
    {
     "data": {
      "text/plain": [
       "'=================================================='"
      ]
     },
     "execution_count": 112,
     "metadata": {},
     "output_type": "execute_result"
    }
   ],
   "source": [
    "\"=\" * 50"
   ]
  },
  {
   "cell_type": "code",
   "execution_count": 113,
   "id": "ab8081e4",
   "metadata": {},
   "outputs": [
    {
     "data": {
      "text/plain": [
       "[1, 2, 3, 1, 2, 3, 1, 2, 3]"
      ]
     },
     "execution_count": 113,
     "metadata": {},
     "output_type": "execute_result"
    }
   ],
   "source": [
    "[1, 2, 3] * 3"
   ]
  },
  {
   "cell_type": "code",
   "execution_count": 114,
   "id": "7a832b8f",
   "metadata": {},
   "outputs": [
    {
     "data": {
      "text/plain": [
       "(4, 5, 6, 4, 5, 6, 4, 5, 6)"
      ]
     },
     "execution_count": 114,
     "metadata": {},
     "output_type": "execute_result"
    }
   ],
   "source": [
    "(4, 5, 6) * 3"
   ]
  },
  {
   "cell_type": "code",
   "execution_count": 115,
   "id": "8ba68022",
   "metadata": {},
   "outputs": [
    {
     "name": "stdout",
     "output_type": "stream",
     "text": [
      "문\n",
      "자\n",
      "열\n",
      "은\n",
      " \n",
      "반\n",
      "복\n",
      "문\n",
      "에\n",
      "서\n",
      " \n",
      "사\n",
      "용\n",
      " \n",
      "가\n",
      "능\n"
     ]
    }
   ],
   "source": [
    "for i in \"문자열은 반복문에서 사용 가능\":\n",
    "    print(i)"
   ]
  },
  {
   "cell_type": "code",
   "execution_count": 116,
   "id": "973d42f2",
   "metadata": {},
   "outputs": [
    {
     "name": "stdout",
     "output_type": "stream",
     "text": [
      "1\n",
      "2\n",
      "3\n",
      "4\n"
     ]
    }
   ],
   "source": [
    "for i in [1, 2, 3, 4]:\n",
    "    print(i)"
   ]
  },
  {
   "cell_type": "code",
   "execution_count": 118,
   "id": "e520b6e0",
   "metadata": {
    "scrolled": true
   },
   "outputs": [
    {
     "name": "stdout",
     "output_type": "stream",
     "text": [
      "1\n",
      "2\n",
      "3\n",
      "4\n",
      "5\n"
     ]
    }
   ],
   "source": [
    "t1 = (1,2,3,4,5)\n",
    "for i in t1:\n",
    "    print(i)"
   ]
  },
  {
   "cell_type": "markdown",
   "id": "0e03cde8",
   "metadata": {},
   "source": [
    "* 리스트, 튜플은 sum(), max(), min()과 같은 함수로 연산도 가능"
   ]
  },
  {
   "cell_type": "code",
   "execution_count": 120,
   "id": "354e61b1",
   "metadata": {},
   "outputs": [
    {
     "data": {
      "text/plain": [
       "(1, 2, 3, 4, 5)"
      ]
     },
     "execution_count": 120,
     "metadata": {},
     "output_type": "execute_result"
    }
   ],
   "source": [
    "t1"
   ]
  },
  {
   "cell_type": "code",
   "execution_count": 119,
   "id": "056f59a2",
   "metadata": {},
   "outputs": [
    {
     "data": {
      "text/plain": [
       "15"
      ]
     },
     "execution_count": 119,
     "metadata": {},
     "output_type": "execute_result"
    }
   ],
   "source": [
    "sum(t1)"
   ]
  },
  {
   "cell_type": "code",
   "execution_count": 121,
   "id": "f52a5d12",
   "metadata": {},
   "outputs": [
    {
     "data": {
      "text/plain": [
       "5"
      ]
     },
     "execution_count": 121,
     "metadata": {},
     "output_type": "execute_result"
    }
   ],
   "source": [
    "max(t1)"
   ]
  },
  {
   "cell_type": "code",
   "execution_count": 122,
   "id": "9e87ca2b",
   "metadata": {},
   "outputs": [
    {
     "data": {
      "text/plain": [
       "1"
      ]
     },
     "execution_count": 122,
     "metadata": {},
     "output_type": "execute_result"
    }
   ],
   "source": [
    "min(t1)"
   ]
  },
  {
   "cell_type": "code",
   "execution_count": null,
   "id": "66bab402",
   "metadata": {},
   "outputs": [],
   "source": []
  }
 ],
 "metadata": {
  "kernelspec": {
   "display_name": "Python 3 (ipykernel)",
   "language": "python",
   "name": "python3"
  },
  "language_info": {
   "codemirror_mode": {
    "name": "ipython",
    "version": 3
   },
   "file_extension": ".py",
   "mimetype": "text/x-python",
   "name": "python",
   "nbconvert_exporter": "python",
   "pygments_lexer": "ipython3",
   "version": "3.9.21"
  }
 },
 "nbformat": 4,
 "nbformat_minor": 5
}
