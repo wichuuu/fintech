{
 "cells": [
  {
   "cell_type": "markdown",
   "id": "39af2c9d",
   "metadata": {},
   "source": [
    "# 딕셔너리 사용하기\n",
    "* dict타입, JSON형이라고도 함\n",
    "* web에서 자료를 주고 받을 때 주로 사용하는 형식\n",
    "* key : value 쌍으로 이루어진 자료형\n",
    "* key를 호출하면 value가 나온다.\n",
    "* key에는 list, dict를 제외한 자료형이 올 수 있다.\n",
    "* value에는 모든 자료형의 자료가 들어갈 수 있다.\n"
   ]
  },
  {
   "cell_type": "markdown",
   "id": "b0a36903",
   "metadata": {},
   "source": [
    "## 딕셔너리 만들기\n",
    "* 중괄호 안에 key : value 쌍으로 만든다\n",
    "* 빈 딕셔너리 생성 가능{}\n",
    "* dict() 함수를 이용해서 대량의 딕셔너리 생성 가능"
   ]
  },
  {
   "cell_type": "code",
   "execution_count": 2,
   "id": "2a1b1638",
   "metadata": {},
   "outputs": [
    {
     "data": {
      "text/plain": [
       "{'년월': '20250314', '국가': '미국', '방문자수': 1000}"
      ]
     },
     "execution_count": 2,
     "metadata": {},
     "output_type": "execute_result"
    }
   ],
   "source": [
    "d = {'년월' : '20250314', '국가': '미국', '방문자수': 1000}\n",
    "d"
   ]
  },
  {
   "cell_type": "code",
   "execution_count": 7,
   "id": "8a91d014",
   "metadata": {},
   "outputs": [
    {
     "data": {
      "text/plain": [
       "'미국'"
      ]
     },
     "execution_count": 7,
     "metadata": {},
     "output_type": "execute_result"
    }
   ],
   "source": [
    "d['국가']"
   ]
  },
  {
   "cell_type": "code",
   "execution_count": 8,
   "id": "4bb37a6d",
   "metadata": {},
   "outputs": [
    {
     "name": "stdout",
     "output_type": "stream",
     "text": [
      "{} <class 'dict'>\n"
     ]
    }
   ],
   "source": [
    "d2 = {}\n",
    "print(d2, type(d2))"
   ]
  },
  {
   "cell_type": "markdown",
   "id": "60f4d1b4",
   "metadata": {},
   "source": [
    "## dict key의 자료형\n",
    "* 문자열, 정수, 실수, 블린(True, False), tuple\n",
    "* dict, list는 key가 될 수 없다"
   ]
  },
  {
   "cell_type": "code",
   "execution_count": 9,
   "id": "75dae35a",
   "metadata": {},
   "outputs": [],
   "source": [
    "d3 = {'백': 100, 100:'백', 3.5:[3.5, 3.7], False:0, (0, \"서울\"): \"종로구\"}"
   ]
  },
  {
   "cell_type": "code",
   "execution_count": 10,
   "id": "4b39161d",
   "metadata": {},
   "outputs": [
    {
     "data": {
      "text/plain": [
       "{'백': 100, 100: '백', 3.5: [3.5, 3.7], False: 0, (0, '서울'): '종로구'}"
      ]
     },
     "execution_count": 10,
     "metadata": {},
     "output_type": "execute_result"
    }
   ],
   "source": [
    "d3"
   ]
  },
  {
   "cell_type": "code",
   "execution_count": 11,
   "id": "17848af6",
   "metadata": {},
   "outputs": [
    {
     "data": {
      "text/plain": [
       "[3.5, 3.7]"
      ]
     },
     "execution_count": 11,
     "metadata": {},
     "output_type": "execute_result"
    }
   ],
   "source": [
    "d3[3.5]"
   ]
  },
  {
   "cell_type": "code",
   "execution_count": 13,
   "id": "6f4d7d62",
   "metadata": {},
   "outputs": [
    {
     "data": {
      "text/plain": [
       "0"
      ]
     },
     "execution_count": 13,
     "metadata": {},
     "output_type": "execute_result"
    }
   ],
   "source": [
    "d3[False]"
   ]
  },
  {
   "cell_type": "code",
   "execution_count": 15,
   "id": "d9b8b4b2",
   "metadata": {},
   "outputs": [
    {
     "data": {
      "text/plain": [
       "'종로구'"
      ]
     },
     "execution_count": 15,
     "metadata": {},
     "output_type": "execute_result"
    }
   ],
   "source": [
    "d3[(0, '서울')]"
   ]
  },
  {
   "cell_type": "markdown",
   "id": "fb5fb742",
   "metadata": {},
   "source": [
    "## 딕셔너리 value의 자료형\n",
    "* value는 모든 자료형이 올 수 있다."
   ]
  },
  {
   "cell_type": "code",
   "execution_count": 16,
   "id": "15cc5611",
   "metadata": {},
   "outputs": [],
   "source": [
    "d4 = {'정수' : 100, '실수' : 3.5, \"문자열\" : '딕셔너리의 값', \n",
    "      '리스트' : [1,2,3,4], '튜플' : (1,2,3,4), \n",
    "      '딕셔너리' : {'key' : 'value'}, '블린' : True}"
   ]
  },
  {
   "cell_type": "code",
   "execution_count": 17,
   "id": "b5342083",
   "metadata": {},
   "outputs": [
    {
     "data": {
      "text/plain": [
       "{'정수': 100,\n",
       " '실수': 3.5,\n",
       " '문자열': '딕셔너리의 값',\n",
       " '리스트': [1, 2, 3, 4],\n",
       " '튜플': (1, 2, 3, 4),\n",
       " '딕셔너리': {'key': 'value'},\n",
       " '블린': True}"
      ]
     },
     "execution_count": 17,
     "metadata": {},
     "output_type": "execute_result"
    }
   ],
   "source": [
    "d4"
   ]
  },
  {
   "cell_type": "code",
   "execution_count": 22,
   "id": "95fe4838",
   "metadata": {},
   "outputs": [
    {
     "data": {
      "text/plain": [
       "100"
      ]
     },
     "execution_count": 22,
     "metadata": {},
     "output_type": "execute_result"
    }
   ],
   "source": [
    "d4['정수']"
   ]
  },
  {
   "cell_type": "code",
   "execution_count": 20,
   "id": "c140a912",
   "metadata": {},
   "outputs": [
    {
     "data": {
      "text/plain": [
       "3.5"
      ]
     },
     "execution_count": 20,
     "metadata": {},
     "output_type": "execute_result"
    }
   ],
   "source": [
    "d4['실수']"
   ]
  },
  {
   "cell_type": "code",
   "execution_count": 24,
   "id": "b04e2d62",
   "metadata": {},
   "outputs": [
    {
     "data": {
      "text/plain": [
       "3"
      ]
     },
     "execution_count": 24,
     "metadata": {},
     "output_type": "execute_result"
    }
   ],
   "source": [
    "d4['리스트'][2]"
   ]
  },
  {
   "cell_type": "code",
   "execution_count": 26,
   "id": "383f0853",
   "metadata": {},
   "outputs": [
    {
     "data": {
      "text/plain": [
       "'value'"
      ]
     },
     "execution_count": 26,
     "metadata": {},
     "output_type": "execute_result"
    }
   ],
   "source": [
    "d4['딕셔너리']['key']"
   ]
  },
  {
   "cell_type": "markdown",
   "id": "420ef4e9",
   "metadata": {},
   "source": [
    "## 빈 딕셔너리 만들기\n",
    "* 변수 = {}\n",
    "* 변수 = dict()"
   ]
  },
  {
   "cell_type": "code",
   "execution_count": 27,
   "id": "519401e0",
   "metadata": {},
   "outputs": [
    {
     "name": "stdout",
     "output_type": "stream",
     "text": [
      "{} <class 'dict'>\n"
     ]
    }
   ],
   "source": [
    "d5 = {}\n",
    "print(d5, type(d5))"
   ]
  },
  {
   "cell_type": "code",
   "execution_count": 29,
   "id": "184b66f4",
   "metadata": {},
   "outputs": [
    {
     "name": "stdout",
     "output_type": "stream",
     "text": [
      "{} <class 'dict'>\n"
     ]
    }
   ],
   "source": [
    "d6 = dict()\n",
    "print(d6, type(d6))"
   ]
  },
  {
   "cell_type": "markdown",
   "id": "863539a6",
   "metadata": {},
   "source": [
    "## 딕셔너리에 자료 추가하기\n",
    "* 변수['key'] = value\n",
    "* 이미 key가 있는 경우에는 자료가 수정됨"
   ]
  },
  {
   "cell_type": "code",
   "execution_count": 31,
   "id": "96fa6f25",
   "metadata": {},
   "outputs": [],
   "source": [
    "d5['번호'] = 0"
   ]
  },
  {
   "cell_type": "code",
   "execution_count": 32,
   "id": "8cdf7b77",
   "metadata": {},
   "outputs": [
    {
     "data": {
      "text/plain": [
       "{'번호': 0}"
      ]
     },
     "execution_count": 32,
     "metadata": {},
     "output_type": "execute_result"
    }
   ],
   "source": [
    "d5"
   ]
  },
  {
   "cell_type": "code",
   "execution_count": 35,
   "id": "59fd3012",
   "metadata": {},
   "outputs": [
    {
     "data": {
      "text/plain": [
       "{'번호': 5}"
      ]
     },
     "execution_count": 35,
     "metadata": {},
     "output_type": "execute_result"
    }
   ],
   "source": [
    "# 이미 key가 있는 경우 다른 자료를 넣으면 자료가 수정됨\n",
    "d5['번호'] = 5\n",
    "d5"
   ]
  },
  {
   "cell_type": "markdown",
   "id": "545aac1c",
   "metadata": {},
   "source": [
    "## 딕셔너리에서 key가 중복되면 나중에 들어온 key로 내용이 변경됨"
   ]
  },
  {
   "cell_type": "code",
   "execution_count": 36,
   "id": "56ba4e5f",
   "metadata": {},
   "outputs": [
    {
     "data": {
      "text/plain": [
       "{'번호': 1, '이름': '둘리', '나이': 15}"
      ]
     },
     "execution_count": 36,
     "metadata": {},
     "output_type": "execute_result"
    }
   ],
   "source": [
    "d7 = {'번호' : 0, \"이름\": \"홍길동\", \"나이\" : 30, \n",
    "      '번호' : 1, \"이름\": \"둘리\", \"나이\": 15}\n",
    "d7"
   ]
  },
  {
   "cell_type": "markdown",
   "id": "24a153f3",
   "metadata": {},
   "source": [
    "## dict 함수를 사용해서 dict 만들기"
   ]
  },
  {
   "cell_type": "markdown",
   "id": "2dd675b1",
   "metadata": {},
   "source": [
    "* dict(key1=value1, key2=value2, key3=value3)\n",
    "* key에 ', \" 를 사용하지 않음\n",
    "* key는 모두 문자형으로 변환된다\n",
    "* value가 문자형 자료면 반드시 \"\" 필요함"
   ]
  },
  {
   "cell_type": "code",
   "execution_count": 38,
   "id": "032ddfd7",
   "metadata": {},
   "outputs": [],
   "source": [
    "dict_ex1 = dict (정수 = 100, 실수 = 3.5, 문자=\"문자열\",\n",
    "                리스트=[1,2,3], 튜플=(1,2,3), \n",
    "                딕셔너리 = {'key','value'})"
   ]
  },
  {
   "cell_type": "code",
   "execution_count": 39,
   "id": "70a48b1b",
   "metadata": {},
   "outputs": [
    {
     "data": {
      "text/plain": [
       "{'정수': 100,\n",
       " '실수': 3.5,\n",
       " '문자': '문자열',\n",
       " '리스트': [1, 2, 3],\n",
       " '튜플': (1, 2, 3),\n",
       " '딕셔너리': {'key', 'value'}}"
      ]
     },
     "execution_count": 39,
     "metadata": {},
     "output_type": "execute_result"
    }
   ],
   "source": [
    "dict_ex1"
   ]
  },
  {
   "cell_type": "markdown",
   "id": "0a8bce25",
   "metadata": {},
   "source": [
    "* dict ([(key1, value1), (key2, value2)])\n",
    "* 리스트 안에 key, value 쌍으로 된 튜플을 넣어서 만듦"
   ]
  },
  {
   "cell_type": "code",
   "execution_count": 43,
   "id": "2c511bd5",
   "metadata": {},
   "outputs": [],
   "source": [
    "dict_ex2 = dict([('정수', 3), ('실수', 3.5), \n",
    "                 ('문자열', \"문자열입니다.\"), (\"list\", [1,2,3]),\n",
    "                (\"tuple\", (1,2,3)),\n",
    "                (\"dict\", {\"key\" : \"value\"})])"
   ]
  },
  {
   "cell_type": "code",
   "execution_count": 44,
   "id": "087ef5e3",
   "metadata": {},
   "outputs": [
    {
     "data": {
      "text/plain": [
       "3.5"
      ]
     },
     "execution_count": 44,
     "metadata": {},
     "output_type": "execute_result"
    }
   ],
   "source": [
    "dict_ex2['실수']"
   ]
  },
  {
   "cell_type": "markdown",
   "id": "319230fe",
   "metadata": {},
   "source": [
    "* dict(zip([key1, key2], [value1, value2]))\n",
    "* key 묶음 리스트와 value 묶음 리스트를 zip 함수로 합친 후 dict 생성\n",
    "* key 묶음의 요소 개수와 value 묶음의 요소 개수가 일치해야 함"
   ]
  },
  {
   "cell_type": "code",
   "execution_count": 48,
   "id": "4244bb82",
   "metadata": {},
   "outputs": [
    {
     "name": "stdout",
     "output_type": "stream",
     "text": [
      "1\n",
      "2\n",
      "3\n"
     ]
    }
   ],
   "source": [
    "for a in [1, 2, 3]:\n",
    "    print(a)"
   ]
  },
  {
   "cell_type": "code",
   "execution_count": 47,
   "id": "088d2adf",
   "metadata": {},
   "outputs": [
    {
     "name": "stdout",
     "output_type": "stream",
     "text": [
      "(1, 5, 9)\n",
      "(2, 6, 10)\n",
      "(3, 7, 11)\n",
      "(4, 8, 12)\n"
     ]
    }
   ],
   "source": [
    "for a in zip([1,2,3,4], [5,6,7,8], [9,10,11,12]):\n",
    "    print(a)"
   ]
  },
  {
   "cell_type": "code",
   "execution_count": 51,
   "id": "f0196cb7",
   "metadata": {},
   "outputs": [],
   "source": [
    "dict_ex3 = dict(zip(['정수','실수','문자열','리스트','튜플','딕셔너리'],\n",
    "                   [10, 13.5, \"문자열입니다.\", [123], (123), {10:30}]))"
   ]
  },
  {
   "cell_type": "code",
   "execution_count": 53,
   "id": "185aa3cf",
   "metadata": {},
   "outputs": [
    {
     "data": {
      "text/plain": [
       "{'정수': 10,\n",
       " '실수': 13.5,\n",
       " '문자열': '문자열입니다.',\n",
       " '리스트': [123],\n",
       " '튜플': 123,\n",
       " '딕셔너리': {10: 30}}"
      ]
     },
     "execution_count": 53,
     "metadata": {},
     "output_type": "execute_result"
    }
   ],
   "source": [
    "dict_ex3"
   ]
  },
  {
   "cell_type": "markdown",
   "id": "524fb4f4",
   "metadata": {},
   "source": [
    "## 딕셔너리에서 값 삭제하기\n",
    "* del 변수명['key']"
   ]
  },
  {
   "cell_type": "code",
   "execution_count": 55,
   "id": "06405efc",
   "metadata": {},
   "outputs": [
    {
     "ename": "KeyError",
     "evalue": "'딕셔너리'",
     "output_type": "error",
     "traceback": [
      "\u001b[1;31m---------------------------------------------------------------------------\u001b[0m",
      "\u001b[1;31mKeyError\u001b[0m                                  Traceback (most recent call last)",
      "Cell \u001b[1;32mIn[55], line 1\u001b[0m\n\u001b[1;32m----> 1\u001b[0m \u001b[38;5;28;01mdel\u001b[39;00m dict_ex3[\u001b[38;5;124m'\u001b[39m\u001b[38;5;124m딕셔너리\u001b[39m\u001b[38;5;124m'\u001b[39m]\n",
      "\u001b[1;31mKeyError\u001b[0m: '딕셔너리'"
     ]
    }
   ],
   "source": [
    "del dict_ex3['딕셔너리']"
   ]
  },
  {
   "cell_type": "code",
   "execution_count": 57,
   "id": "edc1efe0",
   "metadata": {},
   "outputs": [
    {
     "data": {
      "text/plain": [
       "{'정수': 10, '실수': 13.5, '문자열': '문자열입니다.', '리스트': [123], '튜플': 123}"
      ]
     },
     "execution_count": 57,
     "metadata": {},
     "output_type": "execute_result"
    }
   ],
   "source": [
    "dict_ex3"
   ]
  },
  {
   "cell_type": "code",
   "execution_count": 59,
   "id": "49895e80",
   "metadata": {},
   "outputs": [
    {
     "data": {
      "text/plain": [
       "[123]"
      ]
     },
     "execution_count": 59,
     "metadata": {},
     "output_type": "execute_result"
    }
   ],
   "source": [
    "dict_ex3['리스트']"
   ]
  },
  {
   "cell_type": "markdown",
   "id": "b15c5f16",
   "metadata": {},
   "source": [
    "## 딕셔너리 안에 특정 key가 있는지 확인하기"
   ]
  },
  {
   "cell_type": "code",
   "execution_count": 61,
   "id": "154a4a35",
   "metadata": {},
   "outputs": [
    {
     "data": {
      "text/plain": [
       "True"
      ]
     },
     "execution_count": 61,
     "metadata": {},
     "output_type": "execute_result"
    }
   ],
   "source": [
    "'리스트' in dict_ex3"
   ]
  },
  {
   "cell_type": "markdown",
   "id": "c90bd234",
   "metadata": {},
   "source": [
    "## 딕셔너리 안에 key가 몇 개 있는지 확인하기"
   ]
  },
  {
   "cell_type": "code",
   "execution_count": 62,
   "id": "b7a0e70d",
   "metadata": {},
   "outputs": [
    {
     "data": {
      "text/plain": [
       "5"
      ]
     },
     "execution_count": 62,
     "metadata": {},
     "output_type": "execute_result"
    }
   ],
   "source": [
    "len(dict_ex3)"
   ]
  },
  {
   "cell_type": "markdown",
   "id": "eae7d4d3",
   "metadata": {},
   "source": [
    "## 딕셔너리 함수 사용하기"
   ]
  },
  {
   "cell_type": "markdown",
   "id": "d8789f97",
   "metadata": {},
   "source": [
    "### setdefault(key, value)\n",
    "* 딕셔너리에 key와 value를 추가\n",
    "* key가 중복되면 나중에 추가하는 값을 무시함 (원래 자료 보존)\n",
    "* key만 넣고 value를 생략하면 자동으로 'None'이 입력됨"
   ]
  },
  {
   "cell_type": "code",
   "execution_count": 63,
   "id": "9138b486",
   "metadata": {},
   "outputs": [],
   "source": [
    "d['년월'] = 2020412"
   ]
  },
  {
   "cell_type": "code",
   "execution_count": 64,
   "id": "000af59f",
   "metadata": {},
   "outputs": [
    {
     "data": {
      "text/plain": [
       "{'년월': 2020412, '국가': '미국', '방문자수': 1000}"
      ]
     },
     "execution_count": 64,
     "metadata": {},
     "output_type": "execute_result"
    }
   ],
   "source": [
    "d"
   ]
  },
  {
   "cell_type": "code",
   "execution_count": 66,
   "id": "a6cdd310",
   "metadata": {},
   "outputs": [
    {
     "data": {
      "text/plain": [
       "2020412"
      ]
     },
     "execution_count": 66,
     "metadata": {},
     "output_type": "execute_result"
    }
   ],
   "source": [
    "d.setdefault('년월', 20250314)"
   ]
  },
  {
   "cell_type": "code",
   "execution_count": 68,
   "id": "58c8cb0e",
   "metadata": {},
   "outputs": [
    {
     "data": {
      "text/plain": [
       "{'년월': 2020412, '국가': '미국', '방문자수': 1000}"
      ]
     },
     "execution_count": 68,
     "metadata": {},
     "output_type": "execute_result"
    }
   ],
   "source": [
    "d"
   ]
  },
  {
   "cell_type": "markdown",
   "id": "90a7ec7c",
   "metadata": {},
   "source": [
    "### update(key=value)\n",
    "* 기존에 key가 있는 경우 값을 새로운 값으로 update\n",
    "* 기존에 key가 없는 경우 새로운 key, value 생성\n",
    "* key 부분은 ',\" 사용하지 않는다."
   ]
  },
  {
   "cell_type": "code",
   "execution_count": 70,
   "id": "946e913e",
   "metadata": {},
   "outputs": [
    {
     "data": {
      "text/plain": [
       "{'년월': 2020412, '국가': '미국', '방문자수': 500}"
      ]
     },
     "execution_count": 70,
     "metadata": {},
     "output_type": "execute_result"
    }
   ],
   "source": [
    "d.update(방문자수=500)\n",
    "d"
   ]
  },
  {
   "cell_type": "code",
   "execution_count": 72,
   "id": "901aa989",
   "metadata": {},
   "outputs": [],
   "source": [
    "d.update(바람='강함')"
   ]
  },
  {
   "cell_type": "code",
   "execution_count": 74,
   "id": "10ffe6e8",
   "metadata": {},
   "outputs": [
    {
     "data": {
      "text/plain": [
       "{'년월': 2020412, '국가': '미국', '방문자수': 500, '바람': '강함'}"
      ]
     },
     "execution_count": 74,
     "metadata": {},
     "output_type": "execute_result"
    }
   ],
   "source": [
    "d"
   ]
  },
  {
   "cell_type": "markdown",
   "id": "8690ad54",
   "metadata": {},
   "source": [
    "## 딕셔너리에서 value를 가져오는 함수 .get()\n",
    "* .get(key, key가 없을 때 기본 값)\n",
    "* 딕셔너리 내에 key가 있다가 없다가를 반복하는 경우"
   ]
  },
  {
   "cell_type": "markdown",
   "id": "9af24fe4",
   "metadata": {},
   "source": [
    "## 딕셔너리에서 key, value, (key, value)를 가져오는 함수\n",
    "* keys(): 딕셔너리에서 key만 출력\n",
    "* values(): 딕셔너리에서 value만 출력\n",
    "* items() : 딕셔너리의 key와 value를 튜플 묶음 형태로 출력 (key, value)"
   ]
  },
  {
   "cell_type": "code",
   "execution_count": 77,
   "id": "4ce9db5e",
   "metadata": {},
   "outputs": [
    {
     "data": {
      "text/plain": [
       "{'info': [{'name': 'Alice', 'scores': (95, 88, 92)},\n",
       "  {'name': 'Bob', 'scores': (78, 85, 89)}],\n",
       " 'extra': {'hobbies': ['reading', 'coding'], 'location': ('Seoul', 'Busan')}}"
      ]
     },
     "execution_count": 77,
     "metadata": {},
     "output_type": "execute_result"
    }
   ],
   "source": [
    "data = {'info': [{'name': 'Alice', 'scores': (95, 88, 92)},\n",
    "                 {'name': 'Bob', 'scores': (78, 85, 89)}],\n",
    "        'extra': {'hobbies': ['reading', 'coding'], \n",
    "                  'location': ('Seoul', 'Busan')}}\n",
    "data"
   ]
  },
  {
   "cell_type": "code",
   "execution_count": 81,
   "id": "43214fc5",
   "metadata": {},
   "outputs": [
    {
     "data": {
      "text/plain": [
       "dict_keys(['info', 'extra'])"
      ]
     },
     "execution_count": 81,
     "metadata": {},
     "output_type": "execute_result"
    }
   ],
   "source": [
    "data.keys()"
   ]
  },
  {
   "cell_type": "code",
   "execution_count": 82,
   "id": "96e75bee",
   "metadata": {},
   "outputs": [
    {
     "data": {
      "text/plain": [
       "dict_keys"
      ]
     },
     "execution_count": 82,
     "metadata": {},
     "output_type": "execute_result"
    }
   ],
   "source": [
    "type(data.keys())"
   ]
  },
  {
   "cell_type": "code",
   "execution_count": 83,
   "id": "bb89c04b",
   "metadata": {},
   "outputs": [
    {
     "name": "stdout",
     "output_type": "stream",
     "text": [
      "info\n",
      "extra\n"
     ]
    }
   ],
   "source": [
    "for i in data.keys():\n",
    "     print(i)"
   ]
  },
  {
   "cell_type": "markdown",
   "id": "e0aa3e7b",
   "metadata": {},
   "source": [
    "* values() : 딕셔너리에서 value만 추출\n",
    "* list()로 형변환을 해주면 list처럼 사용 가능\n",
    "* 반복문에서 사용 가능"
   ]
  },
  {
   "cell_type": "code",
   "execution_count": 85,
   "id": "955129f2",
   "metadata": {},
   "outputs": [
    {
     "data": {
      "text/plain": [
       "dict_values([[{'name': 'Alice', 'scores': (95, 88, 92)}, {'name': 'Bob', 'scores': (78, 85, 89)}], {'hobbies': ['reading', 'coding'], 'location': ('Seoul', 'Busan')}])"
      ]
     },
     "execution_count": 85,
     "metadata": {},
     "output_type": "execute_result"
    }
   ],
   "source": [
    "data.values()"
   ]
  },
  {
   "cell_type": "code",
   "execution_count": 89,
   "id": "3a85d4e1",
   "metadata": {},
   "outputs": [
    {
     "data": {
      "text/plain": [
       "'Alice'"
      ]
     },
     "execution_count": 89,
     "metadata": {},
     "output_type": "execute_result"
    }
   ],
   "source": [
    "list(data.values())[0][0]['name']"
   ]
  },
  {
   "cell_type": "code",
   "execution_count": 91,
   "id": "f754959b",
   "metadata": {},
   "outputs": [
    {
     "name": "stdout",
     "output_type": "stream",
     "text": [
      "[{'name': 'Alice', 'scores': (95, 88, 92)}, {'name': 'Bob', 'scores': (78, 85, 89)}]\n",
      "\n",
      "{'hobbies': ['reading', 'coding'], 'location': ('Seoul', 'Busan')}\n",
      "\n"
     ]
    }
   ],
   "source": [
    "for i in data.values():\n",
    "    print(i, end=\"\\n\\n\")"
   ]
  },
  {
   "cell_type": "code",
   "execution_count": 1,
   "id": "9569d122",
   "metadata": {},
   "outputs": [
    {
     "ename": "NameError",
     "evalue": "name 'data' is not defined",
     "output_type": "error",
     "traceback": [
      "\u001b[1;31m---------------------------------------------------------------------------\u001b[0m",
      "\u001b[1;31mNameError\u001b[0m                                 Traceback (most recent call last)",
      "Cell \u001b[1;32mIn[1], line 1\u001b[0m\n\u001b[1;32m----> 1\u001b[0m \u001b[38;5;28;01mfor\u001b[39;00m i \u001b[38;5;129;01min\u001b[39;00m \u001b[43mdata\u001b[49m:\n\u001b[0;32m      2\u001b[0m     \u001b[38;5;28mprint\u001b[39m(i)\n",
      "\u001b[1;31mNameError\u001b[0m: name 'data' is not defined"
     ]
    }
   ],
   "source": [
    "for i in data:\n",
    "    print(i)"
   ]
  },
  {
   "cell_type": "code",
   "execution_count": null,
   "id": "35273118",
   "metadata": {},
   "outputs": [],
   "source": [
    "for key, value in d.items():\n",
    "    print(\"key\", key, end=\"\\n\\n\")\n",
    "    print(\"value\", value, end=\"\\n\\n\")"
   ]
  },
  {
   "cell_type": "markdown",
   "id": "216298a1",
   "metadata": {},
   "source": [
    "* items(): key, value 를 튜플 형태의 쌍으로 출력\n",
    "* list() 형변환을 통해서 list처럼 사용 가능"
   ]
  },
  {
   "cell_type": "code",
   "execution_count": 95,
   "id": "2d634545",
   "metadata": {},
   "outputs": [
    {
     "data": {
      "text/plain": [
       "dict_items([('info', [{'name': 'Alice', 'scores': (95, 88, 92)}, {'name': 'Bob', 'scores': (78, 85, 89)}]), ('extra', {'hobbies': ['reading', 'coding'], 'location': ('Seoul', 'Busan')})])"
      ]
     },
     "execution_count": 95,
     "metadata": {},
     "output_type": "execute_result"
    }
   ],
   "source": [
    "data.items()"
   ]
  },
  {
   "cell_type": "code",
   "execution_count": 97,
   "id": "07d9dcfa",
   "metadata": {},
   "outputs": [
    {
     "name": "stdout",
     "output_type": "stream",
     "text": [
      "('년월', 2020412)\n",
      "\n",
      "('국가', '미국')\n",
      "\n",
      "('방문자수', 500)\n",
      "\n",
      "('바람', '강함')\n",
      "\n"
     ]
    }
   ],
   "source": [
    "for item in d.items():\n",
    "    print(item, end=\"\\n\\n\")"
   ]
  },
  {
   "cell_type": "markdown",
   "id": "e9578d31",
   "metadata": {},
   "source": [
    "* 딕셔너리에서 데이터 삭제하기 pop"
   ]
  },
  {
   "cell_type": "code",
   "execution_count": 98,
   "id": "16956b6d",
   "metadata": {},
   "outputs": [
    {
     "data": {
      "text/plain": [
       "{'년월': 2020412, '국가': '미국', '방문자수': 500, '바람': '강함'}"
      ]
     },
     "execution_count": 98,
     "metadata": {},
     "output_type": "execute_result"
    }
   ],
   "source": [
    "d"
   ]
  },
  {
   "cell_type": "code",
   "execution_count": 100,
   "id": "30386e87",
   "metadata": {},
   "outputs": [
    {
     "ename": "KeyError",
     "evalue": "'년월'",
     "output_type": "error",
     "traceback": [
      "\u001b[1;31m---------------------------------------------------------------------------\u001b[0m",
      "\u001b[1;31mKeyError\u001b[0m                                  Traceback (most recent call last)",
      "Cell \u001b[1;32mIn[100], line 1\u001b[0m\n\u001b[1;32m----> 1\u001b[0m \u001b[38;5;28;01mdel\u001b[39;00m d[\u001b[38;5;124m'\u001b[39m\u001b[38;5;124m년월\u001b[39m\u001b[38;5;124m'\u001b[39m]\n",
      "\u001b[1;31mKeyError\u001b[0m: '년월'"
     ]
    }
   ],
   "source": [
    "del d['년월']"
   ]
  },
  {
   "cell_type": "code",
   "execution_count": 101,
   "id": "dc0627ac",
   "metadata": {},
   "outputs": [
    {
     "ename": "TypeError",
     "evalue": "pop expected at least 1 argument, got 0",
     "output_type": "error",
     "traceback": [
      "\u001b[1;31m---------------------------------------------------------------------------\u001b[0m",
      "\u001b[1;31mTypeError\u001b[0m                                 Traceback (most recent call last)",
      "Cell \u001b[1;32mIn[101], line 1\u001b[0m\n\u001b[1;32m----> 1\u001b[0m \u001b[43md\u001b[49m\u001b[38;5;241;43m.\u001b[39;49m\u001b[43mpop\u001b[49m\u001b[43m(\u001b[49m\u001b[43m)\u001b[49m\n",
      "\u001b[1;31mTypeError\u001b[0m: pop expected at least 1 argument, got 0"
     ]
    }
   ],
   "source": [
    "d.pop()"
   ]
  },
  {
   "cell_type": "code",
   "execution_count": 103,
   "id": "e023b92d",
   "metadata": {},
   "outputs": [
    {
     "ename": "KeyError",
     "evalue": "'바람'",
     "output_type": "error",
     "traceback": [
      "\u001b[1;31m---------------------------------------------------------------------------\u001b[0m",
      "\u001b[1;31mKeyError\u001b[0m                                  Traceback (most recent call last)",
      "Cell \u001b[1;32mIn[103], line 1\u001b[0m\n\u001b[1;32m----> 1\u001b[0m \u001b[43md\u001b[49m\u001b[38;5;241;43m.\u001b[39;49m\u001b[43mpop\u001b[49m\u001b[43m(\u001b[49m\u001b[38;5;124;43m'\u001b[39;49m\u001b[38;5;124;43m바람\u001b[39;49m\u001b[38;5;124;43m'\u001b[39;49m\u001b[43m)\u001b[49m\n",
      "\u001b[1;31mKeyError\u001b[0m: '바람'"
     ]
    }
   ],
   "source": [
    "d.pop('바람')"
   ]
  },
  {
   "cell_type": "code",
   "execution_count": 104,
   "id": "8a8226fa",
   "metadata": {},
   "outputs": [
    {
     "data": {
      "text/plain": [
       "{'국가': '미국', '방문자수': 500}"
      ]
     },
     "execution_count": 104,
     "metadata": {},
     "output_type": "execute_result"
    }
   ],
   "source": [
    "d"
   ]
  },
  {
   "cell_type": "code",
   "execution_count": null,
   "id": "2f4cae80",
   "metadata": {},
   "outputs": [],
   "source": []
  }
 ],
 "metadata": {
  "kernelspec": {
   "display_name": "Python 3 (ipykernel)",
   "language": "python",
   "name": "python3"
  },
  "language_info": {
   "codemirror_mode": {
    "name": "ipython",
    "version": 3
   },
   "file_extension": ".py",
   "mimetype": "text/x-python",
   "name": "python",
   "nbconvert_exporter": "python",
   "pygments_lexer": "ipython3",
   "version": "3.9.21"
  }
 },
 "nbformat": 4,
 "nbformat_minor": 5
}
