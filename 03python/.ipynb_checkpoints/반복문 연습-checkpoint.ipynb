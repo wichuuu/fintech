{
 "cells": [
  {
   "cell_type": "code",
   "execution_count": 3,
   "id": "746eacbb",
   "metadata": {},
   "outputs": [
    {
     "data": {
      "text/plain": [
       "{'메이킷': 17, '우진': 9, '시은': 11, '제임스': 10}"
      ]
     },
     "execution_count": 3,
     "metadata": {},
     "output_type": "execute_result"
    }
   ],
   "source": [
    "class_1 = dict(메이킷 = 17, 우진 = 9, 시은 = 11, 제임스 = 10)\n",
    "class_1"
   ]
  },
  {
   "cell_type": "code",
   "execution_count": 7,
   "id": "b8cd0c84",
   "metadata": {},
   "outputs": [
    {
     "data": {
      "text/plain": [
       "{'사는곳': '서울', '성별': '여자', '이름': '시은', '나이': 11, '혈액형': 'b'}"
      ]
     },
     "execution_count": 7,
     "metadata": {},
     "output_type": "execute_result"
    }
   ],
   "source": [
    "intro = dict([('사는곳', '서울'), ('성별', '여자'), ('이름', '시은'), ('나이', 11), ('혈액형', 'b')])\n",
    "intro"
   ]
  },
  {
   "cell_type": "code",
   "execution_count": 12,
   "id": "2403f964",
   "metadata": {},
   "outputs": [
    {
     "name": "stdout",
     "output_type": "stream",
     "text": [
      "내가 살고 있는 곳은 서울 입니다.\n",
      "나의 성별은 여자이고 이름은 시은 입니다.\n",
      "나이는 11 살이고 혈액형은 b 입니다.\n"
     ]
    }
   ],
   "source": [
    "print(f\"내가 살고 있는 곳은 {intro['사는곳']} 입니다.\")\n",
    "print(f\"나의 성별은 {intro['성별']}이고 이름은 {intro['이름']} 입니다.\")\n",
    "print(f\"나이는 {intro['나이']} 살이고 혈액형은 {intro['혈액형']} 입니다.\")"
   ]
  },
  {
   "cell_type": "code",
   "execution_count": 1,
   "id": "ef3bc231",
   "metadata": {},
   "outputs": [
    {
     "data": {
      "text/plain": [
       "{'사는곳': '인천송도', '성별': '남자', '이름': '우진'}"
      ]
     },
     "execution_count": 1,
     "metadata": {},
     "output_type": "execute_result"
    }
   ],
   "source": [
    "s = dict(사는곳 = '인천송도', 성별='남자', 이름='우진')\n",
    "s"
   ]
  },
  {
   "cell_type": "code",
   "execution_count": 2,
   "id": "518297f9",
   "metadata": {},
   "outputs": [
    {
     "name": "stdout",
     "output_type": "stream",
     "text": [
      "나이는 몇 살인가요?44\n",
      "혈액형은 무엇인가요?b\n",
      "44 B\n",
      "나의 성별은 남자 이고 이름은 우진 입니다.\n",
      "나이는 44살이고 혈액형은 B 형입니다.\n"
     ]
    }
   ],
   "source": [
    "age = int(input(\"나이는 몇 살인가요?\"))\n",
    "blood = input(\"혈액형은 무엇인가요?\").upper()\n",
    "\n",
    "print(age, blood)\n",
    "\n",
    "s['나이'] = age\n",
    "s['혈액형'] = blood\n",
    "\n",
    "#update문은 = 기호 사용.. update(소속=더보이즈)\n",
    "\n",
    "print(f\"나의 성별은 {s['성별']} 이고 이름은 {s['이름']} 입니다.\")\n",
    "print(f\"나이는 {s['나이']}살이고 혈액형은 {s['혈액형']} 형입니다.\")"
   ]
  },
  {
   "cell_type": "code",
   "execution_count": 3,
   "id": "2f4de38c",
   "metadata": {},
   "outputs": [
    {
     "data": {
      "text/plain": [
       "{'사는곳': '인천송도', '성별': '남자', '이름': '우진', '나이': 44, '혈액형': 'B'}"
      ]
     },
     "execution_count": 3,
     "metadata": {},
     "output_type": "execute_result"
    }
   ],
   "source": [
    "s"
   ]
  },
  {
   "cell_type": "code",
   "execution_count": 5,
   "id": "da06a210",
   "metadata": {},
   "outputs": [
    {
     "ename": "KeyError",
     "evalue": "'사는곳'",
     "output_type": "error",
     "traceback": [
      "\u001b[1;31m---------------------------------------------------------------------------\u001b[0m",
      "\u001b[1;31mKeyError\u001b[0m                                  Traceback (most recent call last)",
      "Cell \u001b[1;32mIn[5], line 1\u001b[0m\n\u001b[1;32m----> 1\u001b[0m \u001b[38;5;28;01mdel\u001b[39;00m s[\u001b[38;5;124m'\u001b[39m\u001b[38;5;124m사는곳\u001b[39m\u001b[38;5;124m'\u001b[39m],s[\u001b[38;5;124m'\u001b[39m\u001b[38;5;124m나이\u001b[39m\u001b[38;5;124m'\u001b[39m]\n\u001b[0;32m      2\u001b[0m s\n",
      "\u001b[1;31mKeyError\u001b[0m: '사는곳'"
     ]
    }
   ],
   "source": [
    "del s['사는곳'],s['나이']\n",
    "s"
   ]
  },
  {
   "cell_type": "code",
   "execution_count": 7,
   "id": "827490a4",
   "metadata": {},
   "outputs": [
    {
     "ename": "KeyError",
     "evalue": "'혈액형'",
     "output_type": "error",
     "traceback": [
      "\u001b[1;31m---------------------------------------------------------------------------\u001b[0m",
      "\u001b[1;31mKeyError\u001b[0m                                  Traceback (most recent call last)",
      "Cell \u001b[1;32mIn[7], line 1\u001b[0m\n\u001b[1;32m----> 1\u001b[0m \u001b[43ms\u001b[49m\u001b[38;5;241;43m.\u001b[39;49m\u001b[43mpop\u001b[49m\u001b[43m(\u001b[49m\u001b[38;5;124;43m'\u001b[39;49m\u001b[38;5;124;43m혈액형\u001b[39;49m\u001b[38;5;124;43m'\u001b[39;49m\u001b[43m)\u001b[49m\n\u001b[0;32m      2\u001b[0m s\n",
      "\u001b[1;31mKeyError\u001b[0m: '혈액형'"
     ]
    }
   ],
   "source": [
    "s.pop('혈액형')\n",
    "s"
   ]
  },
  {
   "cell_type": "code",
   "execution_count": 6,
   "id": "d5ce6918",
   "metadata": {},
   "outputs": [
    {
     "data": {
      "text/plain": [
       "{'새우칩': 1500, '옥수수칩': 1800, '콜라': 700, '양파칩': 1300}"
      ]
     },
     "execution_count": 6,
     "metadata": {},
     "output_type": "execute_result"
    }
   ],
   "source": [
    "snack = dict(새우칩= 1500, 옥수수칩=1800, 콜라=700, 양파칩=1300)\n",
    "snack"
   ]
  },
  {
   "cell_type": "code",
   "execution_count": 8,
   "id": "005296ab",
   "metadata": {},
   "outputs": [
    {
     "name": "stdout",
     "output_type": "stream",
     "text": [
      "물품을 입력하면 가격을 알려드립니다.\n",
      "물품 이름은?옥수수칩\n",
      "\n",
      "옥수수칩의 가격은 1800입니다.\n"
     ]
    }
   ],
   "source": [
    "print(\"물품을 입력하면 가격을 알려드립니다.\")\n",
    "sugar = input(\"물품 이름은?\")\n",
    "\n",
    "print()\n",
    "\n",
    "if sugar in snack:\n",
    "    print(f\"{sugar}의 가격은 {snack[sugar]}입니다.\")\n",
    "else:\n",
    "    print(f\"{sugar}의 가격은 등록되어 있지 않습니다.\")"
   ]
  },
  {
   "cell_type": "code",
   "execution_count": 17,
   "id": "3445dbe1",
   "metadata": {},
   "outputs": [
    {
     "data": {
      "text/plain": [
       "{'새우칩': (1500, 3), '옥수수칩': (1800, 2), '콜라': (700, 4), '양파칩': (1300, 1)}"
      ]
     },
     "execution_count": 17,
     "metadata": {},
     "output_type": "execute_result"
    }
   ],
   "source": [
    "store = dict(새우칩=(1500, 3), 옥수수칩=(1800, 2), 콜라=(700, 4), 양파칩=(1300, 1))\n",
    "store"
   ]
  },
  {
   "cell_type": "code",
   "execution_count": 22,
   "id": "3da370b3",
   "metadata": {},
   "outputs": [
    {
     "name": "stdout",
     "output_type": "stream",
     "text": [
      "1번 물품은 새우칩 이고 가격은 1500이고 수량은 3개 입니다.\n",
      "2번 물품은 옥수수칩 이고 가격은 1800이고 수량은 2개 입니다.\n",
      "3번 물품은 콜라 이고 가격은 700이고 수량은 4개 입니다.\n",
      "4번 물품은 양파칩 이고 가격은 1300이고 수량은 1개 입니다.\n",
      "우리 가게는 4 개의 물건 종류가 있습니다.\n"
     ]
    }
   ],
   "source": [
    "#enumerate는 인덱스 번호를 부여받은 형태로 만들어줌 -> (index, value)\n",
    "#index 혹은 idx (그저 변수 명칭에 불과) enumerate가 생성한 순번(인덱스)를 받아옴\n",
    "for idx, (key, item) in enumerate(store.items()):\n",
    "    print(f\"{idx+1}번 물품은 {key} 이고 가격은 {item[0]}이고 수량은 {item[1]}개 입니다.\")\n",
    "\n",
    "print(f\"우리 가게는 {len(store)} 개의 물건 종류가 있습니다.\")    \n",
    "\n",
    "\n",
    "    \n",
    "    "
   ]
  },
  {
   "cell_type": "code",
   "execution_count": 25,
   "id": "1b936b0b",
   "metadata": {},
   "outputs": [
    {
     "name": "stdout",
     "output_type": "stream",
     "text": [
      "우리 가게 모든 물건들의 수량은 10 개 입니다.\n",
      "우리 가게 모든 물건들의 가격 총합은 12200 원 입니다.\n",
      "우리 가게 모든 물건들의 평균 가격은 1220.0 원 입니다.\n"
     ]
    }
   ],
   "source": [
    "hap = 0\n",
    "mul = 0\n",
    "for item in store:\n",
    "    hap += store[item][1]\n",
    "    mul += store[item][0] * store[item][1]\n",
    "print(f\"우리 가게 모든 물건들의 수량은 {hap} 개 입니다.\")\n",
    "print(f\"우리 가게 모든 물건들의 가격 총합은 {mul} 원 입니다.\")\n",
    "print(f\"우리 가게 모든 물건들의 평균 가격은 {mul/hap} 원 입니다.\")"
   ]
  },
  {
   "cell_type": "code",
   "execution_count": 3,
   "id": "1592fd5e",
   "metadata": {},
   "outputs": [
    {
     "data": {
      "text/plain": [
       "{'우진': {'코딩': 95, '수학': 99},\n",
       " '시은': {'과학': 100, '코딩': 99},\n",
       " '메이킷': {'영어': 85, '코딩': 100}}"
      ]
     },
     "execution_count": 3,
     "metadata": {},
     "output_type": "execute_result"
    }
   ],
   "source": [
    "#dict 안에 dict가 들어갈 경우 각 dict맏 괄호가 필요함\n",
    "score = dict(우진=dict(코딩= 95, 수학= 99), 시은=dict(과학= 100, 코딩= 99), 메이킷=dict(영어= 85, 코딩= 100))\n",
    "score"
   ]
  },
  {
   "cell_type": "code",
   "execution_count": 4,
   "id": "4c94d0e7",
   "metadata": {},
   "outputs": [
    {
     "data": {
      "text/plain": [
       "95"
      ]
     },
     "execution_count": 4,
     "metadata": {},
     "output_type": "execute_result"
    }
   ],
   "source": [
    "score['우진']['코딩']"
   ]
  },
  {
   "cell_type": "code",
   "execution_count": 6,
   "id": "85f54f1c",
   "metadata": {},
   "outputs": [
    {
     "name": "stdout",
     "output_type": "stream",
     "text": [
      "우진이의 코딩 점수는? 95\n"
     ]
    }
   ],
   "source": [
    "print(f\"우진이의 코딩 점수는? {score['우진']['코딩']}\")"
   ]
  },
  {
   "cell_type": "code",
   "execution_count": null,
   "id": "49459841",
   "metadata": {},
   "outputs": [],
   "source": [
    "print(f\"{list((score.keys()))[0]}이의 코딩 점수는? {score['우진']['코딩']}\")"
   ]
  },
  {
   "cell_type": "code",
   "execution_count": 1,
   "id": "d129005a",
   "metadata": {},
   "outputs": [
    {
     "name": "stdout",
     "output_type": "stream",
     "text": [
      "코딩 점수를 입력하세요: 98\n",
      "A학점\n"
     ]
    }
   ],
   "source": [
    "score = int(input(\"코딩 점수를 입력하세요: \"))\n",
    "if score >= 90:\n",
    "    print(\"A학점\")\n",
    "elif 90 > score >= 80:\n",
    "    print(\"B학점\")\n",
    "elif 80 > score >= 70:\n",
    "    print(\"C학점\")\n",
    "elif 70 > score >= 60:\n",
    "    print(\"D학점\")\n",
    "else:\n",
    "    print(\"F학점\")"
   ]
  },
  {
   "cell_type": "code",
   "execution_count": 6,
   "id": "6d59c802",
   "metadata": {},
   "outputs": [
    {
     "name": "stdout",
     "output_type": "stream",
     "text": [
      "키를 입력하세요: 155\n",
      "성별을 입력하세요: 여자\n",
      "탈 수 있어요\n"
     ]
    }
   ],
   "source": [
    "limit = int(input(\"키를 입력하세요: \"))\n",
    "sex = input(\"성별을 입력하세요: \")\n",
    "if sex == \"여자\" and 150 <= limit < 170 or limit % 5 == 0:\n",
    "        print(\"탈 수 있어요\")\n",
    "else:\n",
    "        print(\"탈 수 없어요\")"
   ]
  },
  {
   "cell_type": "code",
   "execution_count": 9,
   "id": "0d436d8c",
   "metadata": {},
   "outputs": [
    {
     "name": "stdout",
     "output_type": "stream",
     "text": [
      "1\n",
      "2\n",
      "3\n",
      "4\n",
      "5\n",
      "6\n",
      "7\n",
      "8\n",
      "9\n",
      "10\n",
      "발사❤️❤️\n"
     ]
    }
   ],
   "source": [
    "for i in range(1, 11):\n",
    "    print(i)\n",
    "print(\"발사❤️❤️\")"
   ]
  },
  {
   "cell_type": "code",
   "execution_count": 11,
   "id": "f343ab9a",
   "metadata": {},
   "outputs": [
    {
     "name": "stdout",
     "output_type": "stream",
     "text": [
      "1\n",
      "2\n",
      "3\n",
      "4\n",
      "5\n",
      "6\n",
      "7\n",
      "8\n",
      "9\n",
      "10\n",
      "집에 드가자!\n"
     ]
    }
   ],
   "source": [
    "a = list(range(1, 11))\n",
    "a.append(\"집에 드가자!\")\n",
    "for i in a:\n",
    "    print(i)"
   ]
  },
  {
   "cell_type": "code",
   "execution_count": 16,
   "id": "77f9466b",
   "metadata": {},
   "outputs": [
    {
     "name": "stdout",
     "output_type": "stream",
     "text": [
      "1\n",
      "2\n",
      "3\n",
      "4\n",
      "5\n",
      "6\n",
      "7\n",
      "8\n",
      "9\n",
      "10\n",
      "발사!\n"
     ]
    }
   ],
   "source": [
    "i = 1\n",
    "while i < 11:\n",
    "    print(i)\n",
    "    i += 1\n",
    "print(\"발사!\")"
   ]
  },
  {
   "cell_type": "code",
   "execution_count": 21,
   "id": "a390f004",
   "metadata": {},
   "outputs": [
    {
     "name": "stdout",
     "output_type": "stream",
     "text": [
      "카운트다운 몇 초 전인가요? 11\n",
      "11\n",
      "10\n",
      "9\n",
      "8\n",
      "7\n",
      "6\n",
      "5\n",
      "4\n",
      "3\n",
      "2\n",
      "1\n",
      "발사!\n"
     ]
    }
   ],
   "source": [
    "num = int(input(\"카운트다운 몇 초 전인가요? \"))\n",
    "# print(num)\n",
    "for i in list(range(num, 0, -1)): #입력받은 num에서 1번(인덱스0번)까지 -1씩 줄어들며 출력\n",
    "    print(i)\n",
    "print(\"발사!\")"
   ]
  },
  {
   "cell_type": "code",
   "execution_count": 28,
   "id": "0660d9b3",
   "metadata": {},
   "outputs": [
    {
     "name": "stdout",
     "output_type": "stream",
     "text": [
      "숫자를 입력하세요44\n",
      "1부터 44까지 모두 더한 합은: 990\n"
     ]
    }
   ],
   "source": [
    "num = int(input(\"숫자를 입력하세요\"))\n",
    "hap = 0\n",
    "for i in range(1, num+1):\n",
    "    hap += i\n",
    "print(f\"1부터 {num}까지 모두 더한 합은: {hap}\")\n",
    "#i=1 -> hap = 0 + 1 = 1 1번일 때 합은 1"
   ]
  },
  {
   "cell_type": "code",
   "execution_count": 26,
   "id": "2ed03bf2",
   "metadata": {},
   "outputs": [
    {
     "name": "stdout",
     "output_type": "stream",
     "text": [
      "숫자를 입력하세요: 44\n",
      "1부터 44까지 모두 더한 합은 990\n"
     ]
    }
   ],
   "source": [
    "num = int(input(\"숫자를 입력하세요: \"))\n",
    "i = 1 #숫자를 카운트 하는 기능\n",
    "hap = 0 #합계를 저장하는 변수\n",
    "while i <= num:\n",
    "    hap += i\n",
    "    i += 1\n",
    "print(f\"1부터 {num}까지 모두 더한 합은 {hap}\")"
   ]
  },
  {
   "cell_type": "code",
   "execution_count": 30,
   "id": "e17fba1b",
   "metadata": {},
   "outputs": [
    {
     "name": "stdout",
     "output_type": "stream",
     "text": [
      "숫자르 입력하세요 20\n",
      "입력된 숫자는 20\n",
      "숫자르 입력하세요 11\n",
      "종료합니다\n"
     ]
    }
   ],
   "source": [
    "while True:\n",
    "    num = int(input(\"숫자르 입력하세요 \"))\n",
    "    if num >= 20: #20보다 큰 숫자를 입력.. 20보다 작은 수를 입력하면 반복 중지\n",
    "        print(f\"입력된 숫자는 {num}\")\n",
    "    else:\n",
    "        print(\"종료합니다\")\n",
    "        break"
   ]
  },
  {
   "cell_type": "code",
   "execution_count": 32,
   "id": "87ec70de",
   "metadata": {},
   "outputs": [
    {
     "name": "stdout",
     "output_type": "stream",
     "text": [
      "1 2 3 4 5 6 7 8 9 10 "
     ]
    }
   ],
   "source": [
    "for i in range(1, 11):\n",
    "    print(i, end=\" \")"
   ]
  },
  {
   "cell_type": "code",
   "execution_count": 34,
   "id": "5711afbb",
   "metadata": {},
   "outputs": [
    {
     "name": "stdout",
     "output_type": "stream",
     "text": [
      "1 2 3 4 5 6 7 8 9 10 11 12 13 14 15 16 17 18 19 "
     ]
    }
   ],
   "source": [
    "for i in range(1, 20):\n",
    "    print(i, end=\" \")"
   ]
  },
  {
   "cell_type": "code",
   "execution_count": 39,
   "id": "46f07a31",
   "metadata": {},
   "outputs": [
    {
     "name": "stdout",
     "output_type": "stream",
     "text": [
      "첫 번째 숫자를 입력하세요: 1\n",
      "두 번째 숫자를 입력하세요: 9\n",
      "1+2+3+4+5+6+7+8+9 = 45\n"
     ]
    }
   ],
   "source": [
    "a = int(input(\"첫 번째 숫자를 입력하세요: \"))\n",
    "b = int(input(\"두 번째 숫자를 입력하세요: \"))\n",
    "if a < b:\n",
    "    hap = 0\n",
    "    for idx, i in enumerate(range(a, b+1)):\n",
    "        hap += i\n",
    "        if idx == 0:\n",
    "            print(i, end=\"\")\n",
    "        else:\n",
    "            print(f\"+{i}\", end=\"\")\n",
    "    print(\" =\", hap)\n",
    "else:\n",
    "    print(\"두 번째 숫자가 첫 번째 숫자보다 커야합니다.\")"
   ]
  },
  {
   "cell_type": "code",
   "execution_count": 47,
   "id": "af8b9d2c",
   "metadata": {},
   "outputs": [
    {
     "name": "stdout",
     "output_type": "stream",
     "text": [
      "하나의 문자열을 입력하세요: nanana\n",
      "nnn"
     ]
    }
   ],
   "source": [
    "a = input(\"하나의 문자열을 입력하세요: \")\n",
    "for char in a:\n",
    "    if char != 'a':\n",
    "        print(char, end=\"\")"
   ]
  },
  {
   "cell_type": "code",
   "execution_count": 53,
   "id": "8c185ae6",
   "metadata": {},
   "outputs": [
    {
     "name": "stdout",
     "output_type": "stream",
     "text": [
      "여러 개의 문자열을 입력하세요: banana apple boom\n",
      "bananaboom"
     ]
    }
   ],
   "source": [
    "a = input(\"여러 개의 문자열을 입력하세요: \")\n",
    "b = a.split()\n",
    "\n",
    "for bs in b:\n",
    "    if bs != 'apple': #입력할 때 공백을 주고 입력해야 함\n",
    "        print(bs, end=\"\")"
   ]
  },
  {
   "cell_type": "code",
   "execution_count": null,
   "id": "d37f83fa",
   "metadata": {},
   "outputs": [],
   "source": []
  }
 ],
 "metadata": {
  "kernelspec": {
   "display_name": "Python 3 (ipykernel)",
   "language": "python",
   "name": "python3"
  },
  "language_info": {
   "codemirror_mode": {
    "name": "ipython",
    "version": 3
   },
   "file_extension": ".py",
   "mimetype": "text/x-python",
   "name": "python",
   "nbconvert_exporter": "python",
   "pygments_lexer": "ipython3",
   "version": "3.9.21"
  }
 },
 "nbformat": 4,
 "nbformat_minor": 5
}
