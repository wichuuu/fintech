{
 "cells": [
  {
   "cell_type": "markdown",
   "id": "2f36cfaf",
   "metadata": {},
   "source": [
    "1.**빈 리스트 `numbers`를 생성하고 출력하세요.**  \n",
    "   ```python\n",
    "   []\n",
    "   ```"
   ]
  },
  {
   "cell_type": "code",
   "execution_count": 122,
   "id": "cb38001d",
   "metadata": {},
   "outputs": [
    {
     "data": {
      "text/plain": [
       "[]"
      ]
     },
     "execution_count": 122,
     "metadata": {},
     "output_type": "execute_result"
    }
   ],
   "source": [
    "numbers = []\n",
    "numbers"
   ]
  },
  {
   "cell_type": "markdown",
   "id": "c1ee7c56",
   "metadata": {},
   "source": [
    "2.**`'numbers'`에 1,2,3,4,5 를 추가하고 출력하세요.**\n",
    "```python\n",
    "[1,2,3,4,5]\n",
    "```"
   ]
  },
  {
   "cell_type": "code",
   "execution_count": 3,
   "id": "9a7e491c",
   "metadata": {},
   "outputs": [
    {
     "data": {
      "text/plain": [
       "[1, 2, 3, 4, 5]"
      ]
     },
     "execution_count": 3,
     "metadata": {},
     "output_type": "execute_result"
    }
   ],
   "source": [
    "#numbers.extend([1,2,3,4,5])\n",
    "#numbers"
   ]
  },
  {
   "cell_type": "code",
   "execution_count": 123,
   "id": "8b142bd9",
   "metadata": {},
   "outputs": [
    {
     "data": {
      "text/plain": [
       "[1, 2, 3, 4, 5]"
      ]
     },
     "execution_count": 123,
     "metadata": {},
     "output_type": "execute_result"
    }
   ],
   "source": [
    "numbers = numbers + [1,2,3,4,5]\n",
    "numbers"
   ]
  },
  {
   "cell_type": "markdown",
   "id": "b356443b",
   "metadata": {},
   "source": [
    "3.**리스트 `numbers`에 숫자 `6`을 추가하고 출력하세요.**  \n",
    "   ```python\n",
    "   [1, 2, 3, 4, 5, 6]\n",
    "   ```"
   ]
  },
  {
   "cell_type": "code",
   "execution_count": 106,
   "id": "df3b9870",
   "metadata": {},
   "outputs": [
    {
     "data": {
      "text/plain": [
       "[1, 2, 3, 4, 5, 6]"
      ]
     },
     "execution_count": 106,
     "metadata": {},
     "output_type": "execute_result"
    }
   ],
   "source": [
    "numbers.extend([6])\n",
    "numbers"
   ]
  },
  {
   "cell_type": "code",
   "execution_count": 124,
   "id": "95a28888",
   "metadata": {},
   "outputs": [
    {
     "data": {
      "text/plain": [
       "[1, 2, 3, 4, 5, 6]"
      ]
     },
     "execution_count": 124,
     "metadata": {},
     "output_type": "execute_result"
    }
   ],
   "source": [
    "numbers.append(6)\n",
    "numbers"
   ]
  },
  {
   "cell_type": "markdown",
   "id": "29600ada",
   "metadata": {},
   "source": [
    "4.**`'numbers'` 에 자료 1,2,3,4,5 를 추가하세요. append가 아닌 다른 함수로 추가**\n",
    "```python\n",
    "[1, 2, 3, 4, 5, 6, 1, 2, 3, 4, 5]\n",
    "```"
   ]
  },
  {
   "cell_type": "code",
   "execution_count": 125,
   "id": "5ce3df07",
   "metadata": {
    "scrolled": false
   },
   "outputs": [
    {
     "data": {
      "text/plain": [
       "[1, 2, 3, 4, 5, 6, 1, 2, 3, 4, 5]"
      ]
     },
     "execution_count": 125,
     "metadata": {},
     "output_type": "execute_result"
    }
   ],
   "source": [
    "numbers.extend([1,2,3,4,5])\n",
    "numbers"
   ]
  },
  {
   "cell_type": "markdown",
   "id": "4eb7175a",
   "metadata": {},
   "source": [
    "5.**`'numbers'` 에 자료 1,2,3,4,5를 연산자를 이용해 추가하세요.**\n",
    "```python\n",
    "[1, 2, 3, 4, 5, 6, 1, 2, 3, 4, 5, 1, 2, 3, 4, 5]\n",
    "```"
   ]
  },
  {
   "cell_type": "code",
   "execution_count": 126,
   "id": "4b316849",
   "metadata": {},
   "outputs": [
    {
     "data": {
      "text/plain": [
       "[1, 2, 3, 4, 5, 6, 1, 2, 3, 4, 5, 1, 2, 3, 4, 5]"
      ]
     },
     "execution_count": 126,
     "metadata": {},
     "output_type": "execute_result"
    }
   ],
   "source": [
    "numbers = numbers + [1, 2, 3, 4, 5]\n",
    "numbers"
   ]
  },
  {
   "cell_type": "markdown",
   "id": "9b9c7567",
   "metadata": {},
   "source": [
    "6.**`'numbers'` 의 자료를 2배로 늘리세요.**\n",
    "```python\n",
    "[1, 2, 3, 4, 5, 6, 1, 2, 3, 4, 5, 1, 2, 3, 4, 5, 1, 2, 3, 4, 5, 6, 1, 2, 3, 4, 5, 1, 2, 3, 4, 5]\n",
    "```"
   ]
  },
  {
   "cell_type": "code",
   "execution_count": 127,
   "id": "a9a9bd05",
   "metadata": {},
   "outputs": [
    {
     "name": "stdout",
     "output_type": "stream",
     "text": [
      "[1, 2, 3, 4, 5, 6, 1, 2, 3, 4, 5, 1, 2, 3, 4, 5, 1, 2, 3, 4, 5, 6, 1, 2, 3, 4, 5, 1, 2, 3, 4, 5]\n"
     ]
    }
   ],
   "source": [
    "numbers = numbers * 2\n",
    "print(numbers)"
   ]
  },
  {
   "cell_type": "markdown",
   "id": "cb546b6f",
   "metadata": {},
   "source": [
    "7. **리스트 `numbers`에서 두 번째 요소를 `99`로 변경하고 출력하세요.**  \n",
    "```python\n",
    "[1, 99, 3, 4, 5, 6, 1, 2, 3, 4, 5, 1, 2, 3, 4, 5, 1, 2, 3, 4, 5, 6, 1, 2, 3, 4, 5, 1, 2, 3, 4, 5]\n",
    "```"
   ]
  },
  {
   "cell_type": "code",
   "execution_count": 128,
   "id": "c4b0af23",
   "metadata": {},
   "outputs": [],
   "source": [
    "numbers[1] = 99"
   ]
  },
  {
   "cell_type": "code",
   "execution_count": 129,
   "id": "50e691f7",
   "metadata": {},
   "outputs": [
    {
     "name": "stdout",
     "output_type": "stream",
     "text": [
      "[1, 99, 3, 4, 5, 6, 1, 2, 3, 4, 5, 1, 2, 3, 4, 5, 1, 2, 3, 4, 5, 6, 1, 2, 3, 4, 5, 1, 2, 3, 4, 5]\n"
     ]
    }
   ],
   "source": [
    "print(numbers)"
   ]
  },
  {
   "cell_type": "markdown",
   "id": "dc81bba6",
   "metadata": {},
   "source": [
    "8. **리스트 `numbers`에서 마지막 요소를 제거하고 출력하세요.**  \n",
    "```python\n",
    "[1, 99, 3, 4, 5, 6, 1, 2, 3, 4, 5, 1, 2, 3, 4, 5, 1, 2, 3, 4, 5, 6, 1, 2, 3, 4, 5, 1, 2, 3, 4]\n",
    "```"
   ]
  },
  {
   "cell_type": "code",
   "execution_count": 130,
   "id": "bcac9e58",
   "metadata": {},
   "outputs": [
    {
     "name": "stdout",
     "output_type": "stream",
     "text": [
      "[1, 99, 3, 4, 5, 6, 1, 2, 3, 4, 5, 1, 2, 3, 4, 5, 1, 2, 3, 4, 5, 6, 1, 2, 3, 4, 5, 1, 2, 3, 4]\n"
     ]
    }
   ],
   "source": [
    "numbers.pop()\n",
    "print(numbers)"
   ]
  },
  {
   "cell_type": "markdown",
   "id": "06bba1b6",
   "metadata": {},
   "source": [
    "9. **리스트 `numbers`에서 `99`를 삭제하고 출력하세요.**\n",
    "```python\n",
    "[1, 3, 4, 5, 6, 1, 2, 3, 4, 5, 1, 2, 3, 4, 5, 1, 2, 3, 4, 5, 6, 1, 2, 3, 4, 5, 1, 2, 3, 4]\n",
    "```"
   ]
  },
  {
   "cell_type": "code",
   "execution_count": 131,
   "id": "7efadac5",
   "metadata": {},
   "outputs": [],
   "source": [
    "numbers.remove(99)"
   ]
  },
  {
   "cell_type": "code",
   "execution_count": 19,
   "id": "47613219",
   "metadata": {},
   "outputs": [],
   "source": [
    "#del numbers[1]"
   ]
  },
  {
   "cell_type": "code",
   "execution_count": 132,
   "id": "bbd1223b",
   "metadata": {},
   "outputs": [
    {
     "name": "stdout",
     "output_type": "stream",
     "text": [
      "[1, 3, 4, 5, 6, 1, 2, 3, 4, 5, 1, 2, 3, 4, 5, 1, 2, 3, 4, 5, 6, 1, 2, 3, 4, 5, 1, 2, 3, 4]\n"
     ]
    }
   ],
   "source": [
    "print(numbers)"
   ]
  },
  {
   "cell_type": "markdown",
   "id": "2aefd51e",
   "metadata": {},
   "source": [
    "10.**리스트 `numbers`에서 4번째 `4`의 인덱스를 출력하고 삭제하세요.**\n",
    "```python\n",
    "18\n",
    "4\n",
    "[1, 3, 4, 5, 6, 1, 2, 3, 4, 5, 1, 2, 3, 4, 5, 1, 2, 3, 5, 6, 1, 2, 3, 4, 5, 1, 2, 3, 4]\n",
    "```\n"
   ]
  },
  {
   "cell_type": "code",
   "execution_count": 133,
   "id": "fb182ff4",
   "metadata": {},
   "outputs": [
    {
     "data": {
      "text/plain": [
       "18"
      ]
     },
     "execution_count": 133,
     "metadata": {},
     "output_type": "execute_result"
    }
   ],
   "source": [
    "numbers.index(4, 14) #4를 인덱스 14번 이후부터로 찾음"
   ]
  },
  {
   "cell_type": "code",
   "execution_count": 134,
   "id": "057e7bcc",
   "metadata": {},
   "outputs": [
    {
     "data": {
      "text/plain": [
       "4"
      ]
     },
     "execution_count": 134,
     "metadata": {},
     "output_type": "execute_result"
    }
   ],
   "source": [
    "numbers.pop(18)"
   ]
  },
  {
   "cell_type": "code",
   "execution_count": null,
   "id": "69602def",
   "metadata": {},
   "outputs": [],
   "source": [
    "del numbers[18]"
   ]
  },
  {
   "cell_type": "code",
   "execution_count": 135,
   "id": "8d14bbe6",
   "metadata": {},
   "outputs": [
    {
     "name": "stdout",
     "output_type": "stream",
     "text": [
      "[1, 3, 4, 5, 6, 1, 2, 3, 4, 5, 1, 2, 3, 4, 5, 1, 2, 3, 5, 6, 1, 2, 3, 4, 5, 1, 2, 3, 4]\n"
     ]
    }
   ],
   "source": [
    "print(numbers)"
   ]
  },
  {
   "cell_type": "markdown",
   "id": "f5483151",
   "metadata": {},
   "source": [
    "11.**리스트 `numbers`에서 `5`의 개수를 출력하세요.**\n",
    "```python\n",
    "5\n",
    "```\n"
   ]
  },
  {
   "cell_type": "code",
   "execution_count": 136,
   "id": "47c15361",
   "metadata": {
    "scrolled": true
   },
   "outputs": [
    {
     "data": {
      "text/plain": [
       "5"
      ]
     },
     "execution_count": 136,
     "metadata": {},
     "output_type": "execute_result"
    }
   ],
   "source": [
    "numbers.count(5)"
   ]
  },
  {
   "cell_type": "markdown",
   "id": "8a6e6b24",
   "metadata": {},
   "source": [
    "12. **complex_list 변수에 리스트 `[1, 2, 3, [4, 5, 6], (7, 8, \"튜플\")]`을 만들고 ``\"튜플\"`을 출력하세요.**  \n",
    "```python\n",
    "[1, 2, 3, [4, 5, 6], (7, 8, '튜플')]\n",
    "튜플\n",
    "```"
   ]
  },
  {
   "cell_type": "code",
   "execution_count": 138,
   "id": "82ab6dc0",
   "metadata": {},
   "outputs": [],
   "source": [
    "complex_list = [1, 2, 3, [4, 5, 6], (7, 8, '튜플')]"
   ]
  },
  {
   "cell_type": "code",
   "execution_count": 139,
   "id": "e377e7a8",
   "metadata": {},
   "outputs": [
    {
     "data": {
      "text/plain": [
       "[1, 2, 3, [4, 5, 6], (7, 8, '튜플')]"
      ]
     },
     "execution_count": 139,
     "metadata": {},
     "output_type": "execute_result"
    }
   ],
   "source": [
    "complex_list"
   ]
  },
  {
   "cell_type": "code",
   "execution_count": 140,
   "id": "0ee5ab8b",
   "metadata": {},
   "outputs": [
    {
     "name": "stdout",
     "output_type": "stream",
     "text": [
      "튜플\n"
     ]
    }
   ],
   "source": [
    "print(complex_list[4][2])"
   ]
  },
  {
   "cell_type": "markdown",
   "id": "ac469393",
   "metadata": {},
   "source": [
    "13. **`complex_list`의 모든 요소를 역순으로 출력하세요.**  \n",
    "```python\n",
    "[(7, 8, '튜플'), [4, 5, 6], 3, 2, 1]\n",
    "```"
   ]
  },
  {
   "cell_type": "code",
   "execution_count": 144,
   "id": "04e7954d",
   "metadata": {},
   "outputs": [],
   "source": [
    "complex_list.reverse()"
   ]
  },
  {
   "cell_type": "code",
   "execution_count": 145,
   "id": "707a9559",
   "metadata": {},
   "outputs": [
    {
     "data": {
      "text/plain": [
       "[1, 2, 3, [4, 5, 6], (7, 8, '튜플')]"
      ]
     },
     "execution_count": 145,
     "metadata": {},
     "output_type": "execute_result"
    }
   ],
   "source": [
    "complex_list = complex_list[::-1]\n",
    "complex_list"
   ]
  },
  {
   "cell_type": "code",
   "execution_count": 143,
   "id": "deab4ac8",
   "metadata": {},
   "outputs": [
    {
     "data": {
      "text/plain": [
       "[1, 2, 3, [4, 5, 6], (7, 8, '튜플')]"
      ]
     },
     "execution_count": 143,
     "metadata": {},
     "output_type": "execute_result"
    }
   ],
   "source": [
    "complex_list"
   ]
  },
  {
   "cell_type": "code",
   "execution_count": null,
   "id": "d6206416",
   "metadata": {},
   "outputs": [],
   "source": []
  },
  {
   "cell_type": "markdown",
   "id": "f97447ed",
   "metadata": {},
   "source": [
    "14. **`complex_list`내의 [4,5,6] 리스트를 역순 정렬하고 출력하세요.**  \n",
    "```python\n",
    "[1, 2, 3, [6, 5, 4], (7, 8, '튜플')]\n",
    "```"
   ]
  },
  {
   "cell_type": "code",
   "execution_count": 146,
   "id": "8343d397",
   "metadata": {},
   "outputs": [
    {
     "data": {
      "text/plain": [
       "[4, 5, 6]"
      ]
     },
     "execution_count": 146,
     "metadata": {},
     "output_type": "execute_result"
    }
   ],
   "source": [
    "complex_list[3]"
   ]
  },
  {
   "cell_type": "code",
   "execution_count": 147,
   "id": "8a934967",
   "metadata": {},
   "outputs": [],
   "source": [
    "complex_list[3].reverse()"
   ]
  },
  {
   "cell_type": "code",
   "execution_count": 148,
   "id": "bec92605",
   "metadata": {},
   "outputs": [
    {
     "data": {
      "text/plain": [
       "[1, 2, 3, [6, 5, 4], (7, 8, '튜플')]"
      ]
     },
     "execution_count": 148,
     "metadata": {},
     "output_type": "execute_result"
    }
   ],
   "source": [
    "complex_list"
   ]
  },
  {
   "cell_type": "code",
   "execution_count": null,
   "id": "eae9c8f4",
   "metadata": {},
   "outputs": [],
   "source": [
    "complex_list[3] = complex_list[3][::-1]\n",
    "complex_list"
   ]
  },
  {
   "cell_type": "markdown",
   "id": "674f8d21",
   "metadata": {},
   "source": [
    "15. **`complex_list`에서 '튜플'을 삭제하세요**\n",
    "```python\n",
    "[1, 2, 3, [6, 5, 4], [7, 8]]\n",
    "```"
   ]
  },
  {
   "cell_type": "code",
   "execution_count": 159,
   "id": "9fd0c06e",
   "metadata": {},
   "outputs": [],
   "source": [
    "(complex_list[4]) = list(complex_list[4])"
   ]
  },
  {
   "cell_type": "code",
   "execution_count": 160,
   "id": "188d7bd2",
   "metadata": {},
   "outputs": [],
   "source": [
    "del complex_list[4][2]"
   ]
  },
  {
   "cell_type": "code",
   "execution_count": 161,
   "id": "7be89976",
   "metadata": {},
   "outputs": [
    {
     "data": {
      "text/plain": [
       "[1, 2, 3, [6, 5, 4], [7, 8]]"
      ]
     },
     "execution_count": 161,
     "metadata": {},
     "output_type": "execute_result"
    }
   ],
   "source": [
    "complex_list"
   ]
  },
  {
   "cell_type": "code",
   "execution_count": 162,
   "id": "fc0cfffa",
   "metadata": {},
   "outputs": [],
   "source": [
    "complex_list[4] = tuple(complex_list[4])"
   ]
  },
  {
   "cell_type": "code",
   "execution_count": 163,
   "id": "31ece1be",
   "metadata": {},
   "outputs": [
    {
     "name": "stdout",
     "output_type": "stream",
     "text": [
      "[1, 2, 3, [6, 5, 4], (7, 8)]\n"
     ]
    }
   ],
   "source": [
    "print(complex_list)"
   ]
  },
  {
   "cell_type": "markdown",
   "id": "ea115721",
   "metadata": {},
   "source": [
    "16.**변수 t에 튜플 `(10, 20, 30, 40, 50)`을 만들고 최대값과 최소값을 결과 형식에 맞게 출력하세요.**  \n",
    "```python\n",
    "(10, 20, 30, 40, 50)\n",
    "최대값: 50 최솟값: 10\n",
    "```"
   ]
  },
  {
   "cell_type": "code",
   "execution_count": 165,
   "id": "70e0c3ee",
   "metadata": {},
   "outputs": [
    {
     "data": {
      "text/plain": [
       "(10, 20, 30, 40, 50)"
      ]
     },
     "execution_count": 165,
     "metadata": {},
     "output_type": "execute_result"
    }
   ],
   "source": [
    "t = (10, 20, 30, 40, 50)\n",
    "t"
   ]
  },
  {
   "cell_type": "code",
   "execution_count": 167,
   "id": "01e6a10b",
   "metadata": {},
   "outputs": [
    {
     "name": "stdout",
     "output_type": "stream",
     "text": [
      "최댓값: 50 최솟값: 10\n"
     ]
    }
   ],
   "source": [
    "print(f\"최댓값: {max(t)} 최솟값: {min(t)}\")"
   ]
  },
  {
   "cell_type": "code",
   "execution_count": 97,
   "id": "974d660d",
   "metadata": {},
   "outputs": [
    {
     "name": "stdout",
     "output_type": "stream",
     "text": [
      "최대값:  50\n"
     ]
    }
   ],
   "source": [
    "print(\"최대값: \",max(t))"
   ]
  },
  {
   "cell_type": "code",
   "execution_count": 98,
   "id": "8d07b88a",
   "metadata": {},
   "outputs": [
    {
     "name": "stdout",
     "output_type": "stream",
     "text": [
      "최솟값:  10\n"
     ]
    }
   ],
   "source": [
    "print(\"최솟값: \", min(t))"
   ]
  },
  {
   "cell_type": "markdown",
   "id": "7ce95e67",
   "metadata": {},
   "source": [
    "17.**튜플 `t`에서 모든 요소의 합을 출력하세요.**  \n",
    "```python\n",
    "150\n",
    "```"
   ]
  },
  {
   "cell_type": "code",
   "execution_count": 99,
   "id": "3443ba2a",
   "metadata": {},
   "outputs": [
    {
     "data": {
      "text/plain": [
       "150"
      ]
     },
     "execution_count": 99,
     "metadata": {},
     "output_type": "execute_result"
    }
   ],
   "source": [
    "sum(t)"
   ]
  },
  {
   "cell_type": "markdown",
   "id": "ab804deb",
   "metadata": {},
   "source": [
    "18.**튜플 `t`에서 두 번째 요소(20)을 `\"Python\"`으로 변경하고 출력하세요.**  \n",
    "```python\n",
    "(10, 'Python', 30, 40, 50)\n",
    "```"
   ]
  },
  {
   "cell_type": "code",
   "execution_count": 168,
   "id": "a8c2150f",
   "metadata": {},
   "outputs": [
    {
     "data": {
      "text/plain": [
       "[10, 20, 30, 40, 50]"
      ]
     },
     "execution_count": 168,
     "metadata": {},
     "output_type": "execute_result"
    }
   ],
   "source": [
    "t = list(t)\n",
    "t"
   ]
  },
  {
   "cell_type": "code",
   "execution_count": null,
   "id": "b19eb6d7",
   "metadata": {},
   "outputs": [],
   "source": []
  },
  {
   "cell_type": "code",
   "execution_count": 169,
   "id": "8aa9f829",
   "metadata": {},
   "outputs": [
    {
     "data": {
      "text/plain": [
       "[10, 'python', 30, 40, 50]"
      ]
     },
     "execution_count": 169,
     "metadata": {},
     "output_type": "execute_result"
    }
   ],
   "source": [
    "t[1] = 'python'\n",
    "t"
   ]
  },
  {
   "cell_type": "code",
   "execution_count": 170,
   "id": "47726ec4",
   "metadata": {},
   "outputs": [
    {
     "data": {
      "text/plain": [
       "(10, 'python', 30, 40, 50)"
      ]
     },
     "execution_count": 170,
     "metadata": {},
     "output_type": "execute_result"
    }
   ],
   "source": [
    "t = tuple(t)\n",
    "t"
   ]
  },
  {
   "cell_type": "markdown",
   "id": "2e117188",
   "metadata": {},
   "source": [
    "19.**튜플 t에 1,2,3,4,5를 list로 변경 없이 추가하고 출력하세요**\n",
    "```python\n",
    "(10, 'Python', 30, 40, 50, 1, 2, 3, 4, 5)\n",
    "```"
   ]
  },
  {
   "cell_type": "code",
   "execution_count": 171,
   "id": "d0f0a1f5",
   "metadata": {},
   "outputs": [
    {
     "data": {
      "text/plain": [
       "(10, 'python', 30, 40, 50, 1, 2, 3, 4, 5)"
      ]
     },
     "execution_count": 171,
     "metadata": {},
     "output_type": "execute_result"
    }
   ],
   "source": [
    "t = t + (1,2,3,4,5)\n",
    "t"
   ]
  },
  {
   "cell_type": "markdown",
   "id": "187dd6d0",
   "metadata": {},
   "source": [
    "20. **`'튜플 t'`의 요소를 2배로 늘리세요.**\n",
    "```python\n",
    "(10, 'Python', 30, 40, 50, 1, 2, 3, 4, 5, 10, 'Python', 30, 40, 50, 1, 2, 3, 4, 5)\n",
    "```"
   ]
  },
  {
   "cell_type": "code",
   "execution_count": 173,
   "id": "69e34b7b",
   "metadata": {},
   "outputs": [
    {
     "name": "stdout",
     "output_type": "stream",
     "text": [
      "(10, 'python', 30, 40, 50, 1, 2, 3, 4, 5, 10, 'python', 30, 40, 50, 1, 2, 3, 4, 5)\n"
     ]
    }
   ],
   "source": [
    "t = t * 2\n",
    "print(t)"
   ]
  }
 ],
 "metadata": {
  "kernelspec": {
   "display_name": "Python 3 (ipykernel)",
   "language": "python",
   "name": "python3"
  },
  "language_info": {
   "codemirror_mode": {
    "name": "ipython",
    "version": 3
   },
   "file_extension": ".py",
   "mimetype": "text/x-python",
   "name": "python",
   "nbconvert_exporter": "python",
   "pygments_lexer": "ipython3",
   "version": "3.9.21"
  }
 },
 "nbformat": 4,
 "nbformat_minor": 5
}
