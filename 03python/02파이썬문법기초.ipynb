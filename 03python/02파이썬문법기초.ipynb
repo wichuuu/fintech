{
 "cells": [
  {
   "cell_type": "markdown",
   "id": "5299eb1f",
   "metadata": {},
   "source": [
    "# 파이썬 기초 문법\n",
    "* 파이썬의 주석은 문장 앞에 #을 붙여서 만든다.\n",
    "* 파이썬은 들여쓰기를 사용해서 코드를 구분해 작성한다.\n",
    "* 들여쓰기는 4칸이 기본, google colab은 2칸..\n",
    "* 변수를 만들 때 스네이크 표기법을 사용한다. ex) user_name \n",
    "* 예외) 클래스를 만들 때는 카멜 표기법을 사용한다.ex) UserName / like 낙타등"
   ]
  },
  {
   "cell_type": "markdown",
   "id": "d5f885db",
   "metadata": {},
   "source": [
    "# print 문\n",
    "* print 함수 안에 있는 내용을 출력해주는 함수\n",
    "* print(출력할 내용)\n",
    "* print(1) / 출력할 내용이 숫자인 경우, 변수인 경우 따옴표 X\n",
    "* print(\"hello world\") / 출력할 내용이 문자, 문자열인 경우 반드시 따옴표 필요. 단, \"\", '' 모두 사용 가능"
   ]
  },
  {
   "cell_type": "code",
   "execution_count": 1,
   "id": "8e1604d8",
   "metadata": {},
   "outputs": [
    {
     "name": "stdout",
     "output_type": "stream",
     "text": [
      "1\n"
     ]
    }
   ],
   "source": [
    "print(1)"
   ]
  },
  {
   "cell_type": "code",
   "execution_count": 3,
   "id": "f6709a1b",
   "metadata": {},
   "outputs": [
    {
     "name": "stdout",
     "output_type": "stream",
     "text": [
      "3.14\n"
     ]
    }
   ],
   "source": [
    "print(3.14)"
   ]
  },
  {
   "cell_type": "code",
   "execution_count": 4,
   "id": "f0a7ce3c",
   "metadata": {},
   "outputs": [
    {
     "name": "stdout",
     "output_type": "stream",
     "text": [
      "파\n"
     ]
    }
   ],
   "source": [
    "print(\"파\")"
   ]
  },
  {
   "cell_type": "code",
   "execution_count": 5,
   "id": "a8e304df",
   "metadata": {},
   "outputs": [
    {
     "name": "stdout",
     "output_type": "stream",
     "text": [
      "파이썬\n"
     ]
    }
   ],
   "source": [
    "print('파이썬')"
   ]
  },
  {
   "cell_type": "code",
   "execution_count": 6,
   "id": "42aa6032",
   "metadata": {},
   "outputs": [
    {
     "name": "stdout",
     "output_type": "stream",
     "text": [
      "이것은 '파이썬'이다.\n"
     ]
    }
   ],
   "source": [
    "# 따옴표까지 같이 출력하고 싶을 때는 섞어서 \n",
    "print(\"이것은 '파이썬'이다.\")"
   ]
  },
  {
   "cell_type": "code",
   "execution_count": 1,
   "id": "8638fbe6",
   "metadata": {},
   "outputs": [
    {
     "name": "stdout",
     "output_type": "stream",
     "text": [
      "이것은 \"파이썬\"다.\n"
     ]
    }
   ],
   "source": [
    "# 따옴표까지 같이 출력하고 싶을 때는 섞어서 \n",
    "print('이것은 \"파이썬\"다.')"
   ]
  },
  {
   "cell_type": "code",
   "execution_count": 2,
   "id": "b4933c62",
   "metadata": {},
   "outputs": [
    {
     "name": "stdout",
     "output_type": "stream",
     "text": [
      "이것은 \"김영훈\" 이다.\n"
     ]
    }
   ],
   "source": [
    "print('이것은 \"김영훈\" 이다.')"
   ]
  },
  {
   "cell_type": "markdown",
   "id": "6facd2b5",
   "metadata": {},
   "source": [
    "# print 문의 옵션\n",
    "* sep: 구분자 - print 문 안에 여러개의 자료를 출력할 때 자료를 구분해주는 문자\n",
    "* 기본값은 \" \" 공백"
   ]
  },
  {
   "cell_type": "code",
   "execution_count": 8,
   "id": "fcbbb57f",
   "metadata": {},
   "outputs": [
    {
     "name": "stdout",
     "output_type": "stream",
     "text": [
      "이것은 파이썬 입니다.\n"
     ]
    }
   ],
   "source": [
    "print(\"이것은\", '파이썬', '입니다.')"
   ]
  },
  {
   "cell_type": "code",
   "execution_count": 9,
   "id": "424213fd",
   "metadata": {},
   "outputs": [
    {
     "name": "stdout",
     "output_type": "stream",
     "text": [
      "이것은_파이썬_입니다.\n"
     ]
    }
   ],
   "source": [
    "print(\"이것은\", '파이썬', '입니다.', sep=\"_\")"
   ]
  },
  {
   "cell_type": "code",
   "execution_count": 3,
   "id": "8d49325b",
   "metadata": {},
   "outputs": [
    {
     "name": "stdout",
     "output_type": "stream",
     "text": [
      "헐크 vs 아이언맨 vs 스파이더맨\n"
     ]
    }
   ],
   "source": [
    "print(\"헐크\", '아이언맨', '스파이더맨', sep=\" vs \")"
   ]
  },
  {
   "cell_type": "code",
   "execution_count": 6,
   "id": "f04137fb",
   "metadata": {},
   "outputs": [
    {
     "name": "stdout",
     "output_type": "stream",
     "text": [
      "김영훈 vs 이주연 vs 이재현\n"
     ]
    }
   ],
   "source": [
    "print(\"김영훈\", \"이주연\", \"이재현\", sep=\" vs \")"
   ]
  },
  {
   "cell_type": "code",
   "execution_count": 13,
   "id": "1a2c5a9a",
   "metadata": {},
   "outputs": [
    {
     "name": "stdout",
     "output_type": "stream",
     "text": [
      "헐크 vs 아이언맨 vs 스파이더맨\n",
      "헐크 vs 아이언맨 vs 스파이더맨\n"
     ]
    }
   ],
   "source": [
    "print(\"헐크\", '아이언맨', '스파이더맨', sep=\" vs \")\n",
    "print(\"헐크\", '아이언맨', '스파이더맨', sep=\" vs \")"
   ]
  },
  {
   "cell_type": "code",
   "execution_count": 14,
   "id": "2d855506",
   "metadata": {
    "scrolled": true
   },
   "outputs": [
    {
     "name": "stdout",
     "output_type": "stream",
     "text": [
      "헐크 vs 아이언맨 vs 스파이더맨 헐크 vs 아이언맨 vs 스파이더맨\n"
     ]
    }
   ],
   "source": [
    "# end 값을 공백 \" \"으로 준 경우\n",
    "print(\"헐크\", '아이언맨', '스파이더맨', sep=\" vs \", end=\" \")\n",
    "print(\"헐크\", '아이언맨', '스파이더맨', sep=\" vs \")"
   ]
  },
  {
   "cell_type": "code",
   "execution_count": 15,
   "id": "43405a04",
   "metadata": {
    "scrolled": true
   },
   "outputs": [
    {
     "name": "stdout",
     "output_type": "stream",
     "text": [
      "헐크 vs 아이언맨 vs 스파이더맨\t헐크 vs 아이언맨 vs 스파이더맨\n"
     ]
    }
   ],
   "source": [
    "# end 값을 공백 \"\\t\" (tap) 으로 준 경우\n",
    "print(\"헐크\", '아이언맨', '스파이더맨', sep=\" vs \", end=\"\\t\")\n",
    "print(\"헐크\", '아이언맨', '스파이더맨', sep=\" vs \")"
   ]
  },
  {
   "cell_type": "code",
   "execution_count": 17,
   "id": "d429959b",
   "metadata": {
    "scrolled": true
   },
   "outputs": [
    {
     "name": "stdout",
     "output_type": "stream",
     "text": [
      "헐크 vs 아이언맨 vs 스파이더맨\r",
      "스파이더맨 vs 아이언맨 vs 헐크\n"
     ]
    }
   ],
   "source": [
    "# end 값을 공백 \"\\r\" (carrige return) 으로 준 경우\n",
    "print(\"헐크\", '아이언맨', '스파이더맨', sep=\" vs \", end=\"\\r\")\n",
    "print(\"스파이더맨\", '아이언맨', '헐크', sep=\" vs \")"
   ]
  },
  {
   "cell_type": "code",
   "execution_count": 20,
   "id": "0a4c3062",
   "metadata": {
    "scrolled": true
   },
   "outputs": [
    {
     "name": "stdout",
     "output_type": "stream",
     "text": [
      "헐크 vs 아이언맨 vs 스파이더맨\n",
      "\n",
      "스파이더맨 vs 아이언맨 vs 헐크\n"
     ]
    }
   ],
   "source": [
    "# end 값을 공백 \"\\n\" (new line) 으로 준 경우.. html (br)과 같음\n",
    "print(\"헐크\", '아이언맨', '스파이더맨', sep=\" vs \", end=\"\\n\\n\")\n",
    "print(\"스파이더맨\", '아이언맨', '헐크', sep=\" vs \")"
   ]
  },
  {
   "cell_type": "code",
   "execution_count": 24,
   "id": "1d56e550",
   "metadata": {
    "scrolled": true
   },
   "outputs": [
    {
     "name": "stdout",
     "output_type": "stream",
     "text": [
      "헐크-1-3.14\n",
      "\n",
      "스파이더맨 vs 아이언맨 vs 헐크\n"
     ]
    }
   ],
   "source": [
    "# end 값을 공백 \"\\n\" (new line) 으로 준 경우.. html (br)과 같음\n",
    "print(\"헐크\", 1, 3.14, sep=\"-\", end=\"\\n\\n\")\n",
    "print(\"스파이더맨\", '아이언맨', '헐크', sep=\" vs \")"
   ]
  },
  {
   "cell_type": "markdown",
   "id": "082e13a2",
   "metadata": {},
   "source": [
    "* end 옵션 - print가 끝나고 실행될 옵션\n",
    "* 기본값 = \\n - 이스케이프 문자 new line 새줄"
   ]
  },
  {
   "cell_type": "markdown",
   "id": "68c53b09",
   "metadata": {},
   "source": [
    "# 함수의 옵션보기\n",
    "* 함수의 옵션은 괄호 안에 커서를 놓고 shift + tab으로 볼 수 있다."
   ]
  },
  {
   "cell_type": "code",
   "execution_count": null,
   "id": "7cb6948e",
   "metadata": {},
   "outputs": [],
   "source": [
    "# shift + tab\n",
    "print()\n"
   ]
  },
  {
   "cell_type": "markdown",
   "id": "c29c8d10",
   "metadata": {},
   "source": [
    "# 변수\n",
    "* 자료를 담는 택배 상자\n",
    "* 택배 상자는 1개만 넣을 수 있다.\n",
    "* 변수는 영문과 숫자를 조합해서 만들 수 있다.\n",
    "* 변수명의 시작은 반드시 영문자로 시작 or _로 시작\n",
    "* 변수명이 숫자로 시작하거나 -등의 특수문자로 시작하면 오류\n",
    "* 예약어 (이미 파이썬에서 사용하고 있는 함수명, 문법용 단어.. ex) for, list, if, id)는 변수명으로 사용할 수 없다. \n",
    "    * 주의!! 예약어를 써도 파이썬에서는 변수가 만들어진다.\n",
    "    * 그러므로 예약어를 잘 기억해두자!!"
   ]
  },
  {
   "cell_type": "markdown",
   "id": "6f8c2151",
   "metadata": {},
   "source": [
    "* 변수명은 스네이크 표기법으로 만든다.\n",
    "* 변수명 = 자료\n",
    "* = 는 같다라는 표시가 X , 등호 오른쪽의 자료를 왼쪽 변수에 할당(넣는다)"
   ]
  },
  {
   "cell_type": "markdown",
   "id": "f0f21ee8",
   "metadata": {},
   "source": [
    "# 변수에는 자료가 1개만 들어간다."
   ]
  },
  {
   "cell_type": "code",
   "execution_count": 31,
   "id": "74322c73",
   "metadata": {},
   "outputs": [
    {
     "name": "stdout",
     "output_type": "stream",
     "text": [
      "1\n"
     ]
    }
   ],
   "source": [
    "a = 1\n",
    "print(a)"
   ]
  },
  {
   "cell_type": "code",
   "execution_count": 34,
   "id": "31ed627e",
   "metadata": {},
   "outputs": [
    {
     "name": "stdout",
     "output_type": "stream",
     "text": [
      "3\n"
     ]
    }
   ],
   "source": [
    "a = 3\n",
    "print(a)"
   ]
  },
  {
   "cell_type": "code",
   "execution_count": 36,
   "id": "953f47ed",
   "metadata": {},
   "outputs": [
    {
     "name": "stdout",
     "output_type": "stream",
     "text": [
      "문자열은 길이에 상관없이 들어가요\n"
     ]
    }
   ],
   "source": [
    "c = \"문자열은 길이에 상관없이 들어가요\"\n",
    "print(c)"
   ]
  },
  {
   "cell_type": "code",
   "execution_count": 38,
   "id": "f19b6e5b",
   "metadata": {},
   "outputs": [
    {
     "name": "stdout",
     "output_type": "stream",
     "text": [
      "핀테크님\n"
     ]
    }
   ],
   "source": [
    "# 변수명은 스네이크 표기법으로 만든다.\n",
    "user_name = \"핀테크님\"\n",
    "print(user_name)"
   ]
  },
  {
   "cell_type": "code",
   "execution_count": 40,
   "id": "fea221f6",
   "metadata": {},
   "outputs": [
    {
     "data": {
      "text/plain": [
       "'핀테크님'"
      ]
     },
     "execution_count": 40,
     "metadata": {},
     "output_type": "execute_result"
    }
   ],
   "source": [
    "user_name"
   ]
  },
  {
   "cell_type": "code",
   "execution_count": 52,
   "id": "14dfc926",
   "metadata": {},
   "outputs": [],
   "source": [
    "#따옴표로 감싸고 있을 경우 문자임.\n",
    "b = \"3\""
   ]
  },
  {
   "cell_type": "code",
   "execution_count": 53,
   "id": "beba611c",
   "metadata": {},
   "outputs": [
    {
     "name": "stdout",
     "output_type": "stream",
     "text": [
      "3 3\n"
     ]
    }
   ],
   "source": [
    "print(a, b)"
   ]
  },
  {
   "cell_type": "code",
   "execution_count": 54,
   "id": "a590ea0b",
   "metadata": {},
   "outputs": [
    {
     "data": {
      "text/plain": [
       "3"
      ]
     },
     "execution_count": 54,
     "metadata": {},
     "output_type": "execute_result"
    }
   ],
   "source": [
    "a"
   ]
  },
  {
   "cell_type": "code",
   "execution_count": 55,
   "id": "ab905f97",
   "metadata": {},
   "outputs": [
    {
     "data": {
      "text/plain": [
       "'3'"
      ]
     },
     "execution_count": 55,
     "metadata": {},
     "output_type": "execute_result"
    }
   ],
   "source": [
    "b"
   ]
  },
  {
   "cell_type": "markdown",
   "id": "1c932bc7",
   "metadata": {},
   "source": [
    "# 변수 여러 개를 한 번에 만들기"
   ]
  },
  {
   "cell_type": "code",
   "execution_count": 57,
   "id": "8bc35ec3",
   "metadata": {},
   "outputs": [],
   "source": [
    "a = 1\n",
    "b = 3"
   ]
  },
  {
   "cell_type": "code",
   "execution_count": 7,
   "id": "057fb3fa",
   "metadata": {},
   "outputs": [],
   "source": [
    "a, b, c = 1, 3, \"오\""
   ]
  },
  {
   "cell_type": "code",
   "execution_count": 8,
   "id": "8a602e3f",
   "metadata": {},
   "outputs": [],
   "source": [
    "a, b, c = \"이재현\", 29, 179"
   ]
  },
  {
   "cell_type": "code",
   "execution_count": 9,
   "id": "0164990c",
   "metadata": {},
   "outputs": [
    {
     "name": "stdout",
     "output_type": "stream",
     "text": [
      "이재현 29 179\n"
     ]
    }
   ],
   "source": [
    "print(a, b, c)"
   ]
  },
  {
   "cell_type": "markdown",
   "id": "7c617ba4",
   "metadata": {},
   "source": [
    "# 변수 삭제하기 del 변수명"
   ]
  },
  {
   "cell_type": "code",
   "execution_count": 62,
   "id": "87778140",
   "metadata": {},
   "outputs": [],
   "source": [
    "b_ = 24"
   ]
  },
  {
   "cell_type": "code",
   "execution_count": 63,
   "id": "c96867ba",
   "metadata": {},
   "outputs": [],
   "source": [
    "del b_"
   ]
  },
  {
   "cell_type": "code",
   "execution_count": 64,
   "id": "baa6d09c",
   "metadata": {},
   "outputs": [
    {
     "ename": "NameError",
     "evalue": "name 'b_' is not defined",
     "output_type": "error",
     "traceback": [
      "\u001b[1;31m----------------------------------------------------------------\u001b[0m",
      "\u001b[1;31mNameError\u001b[0m                      Traceback (most recent call last)",
      "Cell \u001b[1;32mIn[64], line 1\u001b[0m\n\u001b[1;32m----> 1\u001b[0m \u001b[43mb_\u001b[49m\n",
      "\u001b[1;31mNameError\u001b[0m: name 'b_' is not defined"
     ]
    }
   ],
   "source": [
    "b_"
   ]
  },
  {
   "cell_type": "code",
   "execution_count": null,
   "id": "35cf320f",
   "metadata": {},
   "outputs": [],
   "source": []
  }
 ],
 "metadata": {
  "kernelspec": {
   "display_name": "Python 3 (ipykernel)",
   "language": "python",
   "name": "python3"
  },
  "language_info": {
   "codemirror_mode": {
    "name": "ipython",
    "version": 3
   },
   "file_extension": ".py",
   "mimetype": "text/x-python",
   "name": "python",
   "nbconvert_exporter": "python",
   "pygments_lexer": "ipython3",
   "version": "3.9.21"
  }
 },
 "nbformat": 4,
 "nbformat_minor": 5
}
