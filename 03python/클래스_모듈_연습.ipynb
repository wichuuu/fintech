{
 "cells": [
  {
   "cell_type": "markdown",
   "id": "1001d4d2",
   "metadata": {},
   "source": [
    "# 함수 연습"
   ]
  },
  {
   "cell_type": "markdown",
   "id": "dd57aa8d",
   "metadata": {},
   "source": [
    "* 클래스 하나에 여러 개의 함수(def) 포함\n",
    "* 객체지향 프로그래밍 핵심"
   ]
  },
  {
   "cell_type": "code",
   "execution_count": 4,
   "id": "6a4194c5",
   "metadata": {},
   "outputs": [],
   "source": [
    "r = 0\n",
    "def add(a): #입력값 변수 알아서 설정\n",
    "    global r #값이 누적됨,, 변수명은 알아서 설정\n",
    "    r += a\n",
    "    return r"
   ]
  },
  {
   "cell_type": "code",
   "execution_count": 5,
   "id": "12f99161",
   "metadata": {},
   "outputs": [
    {
     "data": {
      "text/plain": [
       "7"
      ]
     },
     "execution_count": 5,
     "metadata": {},
     "output_type": "execute_result"
    }
   ],
   "source": [
    "add(7)"
   ]
  },
  {
   "cell_type": "code",
   "execution_count": 6,
   "id": "5c7fcba0",
   "metadata": {},
   "outputs": [
    {
     "data": {
      "text/plain": [
       "17"
      ]
     },
     "execution_count": 6,
     "metadata": {},
     "output_type": "execute_result"
    }
   ],
   "source": [
    "add(10)"
   ]
  },
  {
   "cell_type": "code",
   "execution_count": 7,
   "id": "afe627fd",
   "metadata": {},
   "outputs": [],
   "source": [
    "a = 0\n",
    "def add(b):\n",
    "    global a\n",
    "    a += b\n",
    "    return a"
   ]
  },
  {
   "cell_type": "code",
   "execution_count": 8,
   "id": "f1440fe3",
   "metadata": {},
   "outputs": [
    {
     "data": {
      "text/plain": [
       "17"
      ]
     },
     "execution_count": 8,
     "metadata": {},
     "output_type": "execute_result"
    }
   ],
   "source": [
    "add(17)"
   ]
  },
  {
   "cell_type": "code",
   "execution_count": 9,
   "id": "cf60918e",
   "metadata": {},
   "outputs": [
    {
     "data": {
      "text/plain": [
       "27"
      ]
     },
     "execution_count": 9,
     "metadata": {},
     "output_type": "execute_result"
    }
   ],
   "source": [
    "add(10)"
   ]
  },
  {
   "cell_type": "markdown",
   "id": "457bf461",
   "metadata": {},
   "source": [
    "# 클래스 만들기"
   ]
  },
  {
   "cell_type": "markdown",
   "id": "bd80531c",
   "metadata": {},
   "source": [
    "메소드 = 클래스 안에 있는 함수"
   ]
  },
  {
   "cell_type": "code",
   "execution_count": 5,
   "id": "8e5be052",
   "metadata": {},
   "outputs": [],
   "source": [
    "class mom():\n",
    "    def __init__(self): #초기값 0으로 세팅 self는 인스턴스 = 사용자\n",
    "        self.result = 0\n",
    "    def add(self, num):\n",
    "        self.result += num\n",
    "        return self.result"
   ]
  },
  {
   "cell_type": "code",
   "execution_count": 10,
   "id": "0c81375f",
   "metadata": {},
   "outputs": [],
   "source": [
    "# 인스턴스 생성.. n 이라는 사용자를 등록함\n",
    "n = mom() "
   ]
  },
  {
   "cell_type": "code",
   "execution_count": 11,
   "id": "85f900f6",
   "metadata": {},
   "outputs": [
    {
     "data": {
      "text/plain": [
       "10"
      ]
     },
     "execution_count": 11,
     "metadata": {},
     "output_type": "execute_result"
    }
   ],
   "source": [
    "n.add(10) #값이 0부터 누적됨"
   ]
  },
  {
   "cell_type": "code",
   "execution_count": 13,
   "id": "7a8e1d0b",
   "metadata": {},
   "outputs": [
    {
     "data": {
      "text/plain": [
       "16"
      ]
     },
     "execution_count": 13,
     "metadata": {},
     "output_type": "execute_result"
    }
   ],
   "source": [
    "n.add(3)"
   ]
  },
  {
   "cell_type": "code",
   "execution_count": 18,
   "id": "0d241ef8",
   "metadata": {},
   "outputs": [],
   "source": [
    "b = mom()"
   ]
  },
  {
   "cell_type": "code",
   "execution_count": 19,
   "id": "4c9139df",
   "metadata": {},
   "outputs": [
    {
     "data": {
      "text/plain": [
       "13"
      ]
     },
     "execution_count": 19,
     "metadata": {},
     "output_type": "execute_result"
    }
   ],
   "source": [
    "b.add(13) #인스턴스 b가 새롭게 생성,, 마찬가지로 초깃값 0부터 누적"
   ]
  },
  {
   "cell_type": "code",
   "execution_count": 20,
   "id": "3995a2c2",
   "metadata": {},
   "outputs": [
    {
     "data": {
      "text/plain": [
       "23"
      ]
     },
     "execution_count": 20,
     "metadata": {},
     "output_type": "execute_result"
    }
   ],
   "source": [
    "b.add(10)"
   ]
  },
  {
   "cell_type": "markdown",
   "id": "24fe1930",
   "metadata": {},
   "source": [
    "# 사칙연산 계산기"
   ]
  },
  {
   "cell_type": "code",
   "execution_count": 28,
   "id": "7a5849b9",
   "metadata": {},
   "outputs": [],
   "source": [
    "class count():\n",
    "    def setdata(self, num1, num2):\n",
    "        self.num1 = num1\n",
    "        self.num2 = num2\n",
    "        print(\"self.num1\", self.num1)\n",
    "        print(\"self.num2\", self.num2)\n",
    "        \n",
    "    def add(self):\n",
    "        result = self.num1 + self.num2\n",
    "        return result #결과값 반환\n",
    "    \n",
    "    def sub(self):\n",
    "        result = self.num1 - self.num2\n",
    "        return result #결과값 반환\n",
    "    \n",
    "    def mul(self):\n",
    "        result = self.num1 * self.num2\n",
    "        return result #결과값 반환\n",
    "    \n",
    "    def div(self):\n",
    "        result = self.num1 / self.num2\n",
    "        return result #결과값 반환"
   ]
  },
  {
   "cell_type": "code",
   "execution_count": 29,
   "id": "d5781043",
   "metadata": {},
   "outputs": [],
   "source": [
    "sally = count()"
   ]
  },
  {
   "cell_type": "code",
   "execution_count": 30,
   "id": "961f721d",
   "metadata": {},
   "outputs": [
    {
     "ename": "TypeError",
     "evalue": "add() takes 1 positional argument but 3 were given",
     "output_type": "error",
     "traceback": [
      "\u001b[1;31m---------------------------------------------------------------------------\u001b[0m",
      "\u001b[1;31mTypeError\u001b[0m                                 Traceback (most recent call last)",
      "Cell \u001b[1;32mIn[30], line 1\u001b[0m\n\u001b[1;32m----> 1\u001b[0m \u001b[43msally\u001b[49m\u001b[38;5;241;43m.\u001b[39;49m\u001b[43madd\u001b[49m\u001b[43m(\u001b[49m\u001b[38;5;241;43m1\u001b[39;49m\u001b[43m,\u001b[49m\u001b[43m \u001b[49m\u001b[38;5;241;43m2\u001b[39;49m\u001b[43m)\u001b[49m\n",
      "\u001b[1;31mTypeError\u001b[0m: add() takes 1 positional argument but 3 were given"
     ]
    }
   ],
   "source": [
    "sally.add(1, 2)"
   ]
  },
  {
   "cell_type": "code",
   "execution_count": 32,
   "id": "fc098314",
   "metadata": {},
   "outputs": [
    {
     "name": "stdout",
     "output_type": "stream",
     "text": [
      "self.num1 1\n",
      "self.num2 2\n"
     ]
    }
   ],
   "source": [
    "sally.setdata(1, 2) #계산기에 넣을 값 설정"
   ]
  },
  {
   "cell_type": "code",
   "execution_count": 33,
   "id": "e35f86fa",
   "metadata": {},
   "outputs": [
    {
     "data": {
      "text/plain": [
       "3"
      ]
     },
     "execution_count": 33,
     "metadata": {},
     "output_type": "execute_result"
    }
   ],
   "source": [
    "sally.add()"
   ]
  },
  {
   "cell_type": "code",
   "execution_count": 34,
   "id": "bfb8d06c",
   "metadata": {},
   "outputs": [
    {
     "data": {
      "text/plain": [
       "-1"
      ]
     },
     "execution_count": 34,
     "metadata": {},
     "output_type": "execute_result"
    }
   ],
   "source": [
    "sally.sub()"
   ]
  },
  {
   "cell_type": "markdown",
   "id": "836dc3ef",
   "metadata": {},
   "source": [
    "# 생성자\n",
    "* 클래스 실행 뒤 인스턴스를 만들 때 초깃값 받는 메소드  = 함수\n",
    "* 메소드명: \\_\\__init__\\_"
   ]
  },
  {
   "cell_type": "code",
   "execution_count": 35,
   "id": "55c18180",
   "metadata": {},
   "outputs": [],
   "source": [
    "class dad():\n",
    "    def __init__(self, num1, num2):\n",
    "        \n",
    "        self.num1 = num1\n",
    "        self.num2 = num2\n",
    "\n",
    "    def add(self):\n",
    "        result = self.num1 + self.num2\n",
    "        return result #결과값 반환\n",
    "    \n",
    "    def sub(self):\n",
    "        result = self.num1 - self.num2\n",
    "        return result #결과값 반환\n",
    "    \n",
    "    def mul(self):\n",
    "        result = self.num1 * self.num2\n",
    "        return result #결과값 반환\n",
    "    \n",
    "    def div(self):\n",
    "        result = self.num1 / self.num2\n",
    "        return result #결과값 반환"
   ]
  },
  {
   "cell_type": "code",
   "execution_count": 38,
   "id": "9675c7ef",
   "metadata": {},
   "outputs": [],
   "source": [
    "sally = dad(3, 4)  #초깃값 설정 필수"
   ]
  },
  {
   "cell_type": "code",
   "execution_count": 39,
   "id": "a0bd19a5",
   "metadata": {},
   "outputs": [
    {
     "data": {
      "text/plain": [
       "7"
      ]
     },
     "execution_count": 39,
     "metadata": {},
     "output_type": "execute_result"
    }
   ],
   "source": [
    "sally.add()"
   ]
  },
  {
   "cell_type": "code",
   "execution_count": 40,
   "id": "544ea221",
   "metadata": {},
   "outputs": [
    {
     "data": {
      "text/plain": [
       "7"
      ]
     },
     "execution_count": 40,
     "metadata": {},
     "output_type": "execute_result"
    }
   ],
   "source": [
    "sally.add()"
   ]
  },
  {
   "cell_type": "markdown",
   "id": "969d2eb1",
   "metadata": {},
   "source": [
    "# 클래스 상속\n",
    "* 이전 혹은 다른 클래스의 기능을 물려받음\n",
    "* 기존 클래스에 기능 추가\n",
    "* 상속받은 클래스는 이전 클래스의 모든 기능 사용 가능\n",
    "* 메서드 오버라이딩 = 부모 클래스에서 상속 받은 자식 클래스를 재정의함(에러 수정용)"
   ]
  },
  {
   "cell_type": "code",
   "execution_count": 45,
   "id": "925d1f4b",
   "metadata": {},
   "outputs": [],
   "source": [
    "class bro(dad):\n",
    "    def mom(self): #함수명도 알아서 설정\n",
    "        result = self.num1 ** self.num2\n",
    "        return result"
   ]
  },
  {
   "cell_type": "code",
   "execution_count": 42,
   "id": "f805e144",
   "metadata": {},
   "outputs": [],
   "source": [
    "sis = bro(2, 3)"
   ]
  },
  {
   "cell_type": "code",
   "execution_count": 43,
   "id": "1d8fb178",
   "metadata": {},
   "outputs": [
    {
     "data": {
      "text/plain": [
       "5"
      ]
     },
     "execution_count": 43,
     "metadata": {},
     "output_type": "execute_result"
    }
   ],
   "source": [
    "sis.add()"
   ]
  },
  {
   "cell_type": "code",
   "execution_count": 44,
   "id": "cdc38c87",
   "metadata": {},
   "outputs": [
    {
     "data": {
      "text/plain": [
       "8"
      ]
     },
     "execution_count": 44,
     "metadata": {},
     "output_type": "execute_result"
    }
   ],
   "source": [
    "sis.mom()"
   ]
  },
  {
   "cell_type": "markdown",
   "id": "bca09562",
   "metadata": {},
   "source": [
    "# 메소드 오버로딩\n",
    "* 한 클래스 안에서 동일 메서드의 기능들이 약간 변경되고 추가된 상태"
   ]
  },
  {
   "cell_type": "code",
   "execution_count": 1,
   "id": "519ef25a",
   "metadata": {},
   "outputs": [],
   "source": [
    "class hwan():\n",
    "    def add(self, x, y):\n",
    "        return x + y\n",
    "    def add(self, x, y, z):\n",
    "        return x + y + z"
   ]
  },
  {
   "cell_type": "code",
   "execution_count": 3,
   "id": "c176dcb3",
   "metadata": {},
   "outputs": [
    {
     "data": {
      "text/plain": [
       "6"
      ]
     },
     "execution_count": 3,
     "metadata": {},
     "output_type": "execute_result"
    }
   ],
   "source": [
    "mom = hwan()\n",
    "mom.add(1, 2, 3) #두 번째 함수가 적용된 값이 호출됨"
   ]
  },
  {
   "cell_type": "markdown",
   "id": "3a10e14f",
   "metadata": {},
   "source": [
    "**multipledispatch를 통한 메서드 오버로딩**"
   ]
  },
  {
   "cell_type": "code",
   "execution_count": 15,
   "id": "5bf00a88",
   "metadata": {},
   "outputs": [],
   "source": [
    "from multipledispatch import dispatch"
   ]
  },
  {
   "cell_type": "code",
   "execution_count": 19,
   "id": "26ecd656",
   "metadata": {},
   "outputs": [
    {
     "ename": "AttributeError",
     "evalue": "obj",
     "output_type": "error",
     "traceback": [
      "\u001b[1;31m---------------------------------------------------------------------------\u001b[0m",
      "\u001b[1;31mAttributeError\u001b[0m                            Traceback (most recent call last)",
      "Cell \u001b[1;32mIn[19], line 1\u001b[0m\n\u001b[1;32m----> 1\u001b[0m \u001b[38;5;28;01mclass\u001b[39;00m\u001b[38;5;250m \u001b[39m\u001b[38;5;21;01mhwan\u001b[39;00m():\n\u001b[0;32m      2\u001b[0m     \u001b[38;5;129m@dispatch\u001b[39m(\u001b[38;5;28mint\u001b[39m, \u001b[38;5;28mint\u001b[39m)\n\u001b[0;32m      3\u001b[0m     \u001b[38;5;28;01mdef\u001b[39;00m\u001b[38;5;250m \u001b[39m\u001b[38;5;21madd\u001b[39m(\u001b[38;5;28mself\u001b[39m, x, y):\n\u001b[0;32m      4\u001b[0m         \u001b[38;5;28;01mreturn\u001b[39;00m x \u001b[38;5;241m+\u001b[39m y\n",
      "Cell \u001b[1;32mIn[19], line 12\u001b[0m, in \u001b[0;36mhwan\u001b[1;34m()\u001b[0m\n\u001b[0;32m      8\u001b[0m \u001b[38;5;129m@dispatch\u001b[39m(\u001b[38;5;28mfloat\u001b[39m, \u001b[38;5;28mfloat\u001b[39m, \u001b[38;5;28mfloat\u001b[39m)\n\u001b[0;32m      9\u001b[0m \u001b[38;5;28;01mdef\u001b[39;00m\u001b[38;5;250m \u001b[39m\u001b[38;5;21madd\u001b[39m(\u001b[38;5;28mself\u001b[39m, x, y, z):\n\u001b[0;32m     10\u001b[0m     \u001b[38;5;28;01mreturn\u001b[39;00m x \u001b[38;5;241m+\u001b[39m y \u001b[38;5;241m-\u001b[39m z\n\u001b[1;32m---> 12\u001b[0m \u001b[38;5;28mprint\u001b[39m(\u001b[43madd\u001b[49m\u001b[43m(\u001b[49m\u001b[38;5;241;43m1.0\u001b[39;49m\u001b[43m,\u001b[49m\u001b[43m \u001b[49m\u001b[38;5;241;43m2.0\u001b[39;49m\u001b[43m,\u001b[49m\u001b[43m \u001b[49m\u001b[38;5;241;43m5.0\u001b[39;49m\u001b[43m)\u001b[49m)\n",
      "File \u001b[1;32m~\\miniforge3\\envs\\fintech\\lib\\site-packages\\multipledispatch\\dispatcher.py:439\u001b[0m, in \u001b[0;36mMethodDispatcher.__call__\u001b[1;34m(self, *args, **kwargs)\u001b[0m\n\u001b[0;32m    434\u001b[0m \u001b[38;5;28;01mif\u001b[39;00m \u001b[38;5;129;01mnot\u001b[39;00m func:\n\u001b[0;32m    435\u001b[0m     \u001b[38;5;28;01mraise\u001b[39;00m \u001b[38;5;167;01mNotImplementedError\u001b[39;00m(\n\u001b[0;32m    436\u001b[0m         \u001b[38;5;124m\"\u001b[39m\u001b[38;5;124mCould not find signature for \u001b[39m\u001b[38;5;132;01m%s\u001b[39;00m\u001b[38;5;124m: <\u001b[39m\u001b[38;5;132;01m%s\u001b[39;00m\u001b[38;5;124m>\u001b[39m\u001b[38;5;124m\"\u001b[39m\n\u001b[0;32m    437\u001b[0m         \u001b[38;5;241m%\u001b[39m (\u001b[38;5;28mself\u001b[39m\u001b[38;5;241m.\u001b[39mname, str_signature(types))\n\u001b[0;32m    438\u001b[0m     )\n\u001b[1;32m--> 439\u001b[0m \u001b[38;5;28;01mreturn\u001b[39;00m func(\u001b[38;5;28;43mself\u001b[39;49m\u001b[38;5;241;43m.\u001b[39;49m\u001b[43mobj\u001b[49m, \u001b[38;5;241m*\u001b[39margs, \u001b[38;5;241m*\u001b[39m\u001b[38;5;241m*\u001b[39mkwargs)\n",
      "\u001b[1;31mAttributeError\u001b[0m: obj"
     ]
    }
   ],
   "source": [
    "class hwan():\n",
    "    @dispatch(int, int)\n",
    "    def add(self, x, y):\n",
    "        return x + y\n",
    "    @dispatch(int, int, int)\n",
    "    def add(self, x, y, z):\n",
    "        return x + y + z\n",
    "    @dispatch(float, float, float)\n",
    "    def add(self, x, y, z):\n",
    "        return x + y - z\n",
    "    \n",
    "    print(add(1.0, 2.0, 5.0))"
   ]
  },
  {
   "cell_type": "code",
   "execution_count": 17,
   "id": "809a6d14",
   "metadata": {},
   "outputs": [
    {
     "data": {
      "text/plain": [
       "3"
      ]
     },
     "execution_count": 17,
     "metadata": {},
     "output_type": "execute_result"
    }
   ],
   "source": [
    "sam = hwan()\n",
    "sam.add(1, 2)"
   ]
  },
  {
   "cell_type": "code",
   "execution_count": 18,
   "id": "ac623709",
   "metadata": {},
   "outputs": [
    {
     "ename": "NotImplementedError",
     "evalue": "Could not find signature for add: <int, int, float, float>",
     "output_type": "error",
     "traceback": [
      "\u001b[1;31m---------------------------------------------------------------------------\u001b[0m",
      "\u001b[1;31mNotImplementedError\u001b[0m                       Traceback (most recent call last)",
      "Cell \u001b[1;32mIn[18], line 1\u001b[0m\n\u001b[1;32m----> 1\u001b[0m \u001b[43msam\u001b[49m\u001b[38;5;241;43m.\u001b[39;49m\u001b[43madd\u001b[49m\u001b[43m(\u001b[49m\u001b[38;5;241;43m1\u001b[39;49m\u001b[43m,\u001b[49m\u001b[38;5;241;43m0\u001b[39;49m\u001b[43m,\u001b[49m\u001b[43m \u001b[49m\u001b[38;5;241;43m4.0\u001b[39;49m\u001b[43m,\u001b[49m\u001b[43m \u001b[49m\u001b[38;5;241;43m7.0\u001b[39;49m\u001b[43m)\u001b[49m\n",
      "File \u001b[1;32m~\\miniforge3\\envs\\fintech\\lib\\site-packages\\multipledispatch\\dispatcher.py:435\u001b[0m, in \u001b[0;36mMethodDispatcher.__call__\u001b[1;34m(self, *args, **kwargs)\u001b[0m\n\u001b[0;32m    433\u001b[0m func \u001b[38;5;241m=\u001b[39m \u001b[38;5;28mself\u001b[39m\u001b[38;5;241m.\u001b[39mdispatch(\u001b[38;5;241m*\u001b[39mtypes)\n\u001b[0;32m    434\u001b[0m \u001b[38;5;28;01mif\u001b[39;00m \u001b[38;5;129;01mnot\u001b[39;00m func:\n\u001b[1;32m--> 435\u001b[0m     \u001b[38;5;28;01mraise\u001b[39;00m \u001b[38;5;167;01mNotImplementedError\u001b[39;00m(\n\u001b[0;32m    436\u001b[0m         \u001b[38;5;124m\"\u001b[39m\u001b[38;5;124mCould not find signature for \u001b[39m\u001b[38;5;132;01m%s\u001b[39;00m\u001b[38;5;124m: <\u001b[39m\u001b[38;5;132;01m%s\u001b[39;00m\u001b[38;5;124m>\u001b[39m\u001b[38;5;124m\"\u001b[39m\n\u001b[0;32m    437\u001b[0m         \u001b[38;5;241m%\u001b[39m (\u001b[38;5;28mself\u001b[39m\u001b[38;5;241m.\u001b[39mname, str_signature(types))\n\u001b[0;32m    438\u001b[0m     )\n\u001b[0;32m    439\u001b[0m \u001b[38;5;28;01mreturn\u001b[39;00m func(\u001b[38;5;28mself\u001b[39m\u001b[38;5;241m.\u001b[39mobj, \u001b[38;5;241m*\u001b[39margs, \u001b[38;5;241m*\u001b[39m\u001b[38;5;241m*\u001b[39mkwargs)\n",
      "\u001b[1;31mNotImplementedError\u001b[0m: Could not find signature for add: <int, int, float, float>"
     ]
    }
   ],
   "source": [
    "sam.add(1,0, 4.0, 7.0)"
   ]
  },
  {
   "cell_type": "markdown",
   "id": "b6e4c171",
   "metadata": {},
   "source": [
    "* 클래스 속성 : 클래스 전체에서 공유하는 속성, 모든 인스턴스에서도 공유\n",
    "* 인스턴스 속성 : 인스턴스에서만 사용하는 속성, 인스턴스간 공유 불가"
   ]
  },
  {
   "cell_type": "code",
   "execution_count": 20,
   "id": "0d7e4e31",
   "metadata": {},
   "outputs": [],
   "source": [
    "# 클래스 속성\n",
    "class Mm():\n",
    "    password = \"1111\""
   ]
  },
  {
   "cell_type": "code",
   "execution_count": 21,
   "id": "5b5fcc71",
   "metadata": {},
   "outputs": [
    {
     "data": {
      "text/plain": [
       "'1111'"
      ]
     },
     "execution_count": 21,
     "metadata": {},
     "output_type": "execute_result"
    }
   ],
   "source": [
    "a = Mm()\n",
    "a.password"
   ]
  },
  {
   "cell_type": "code",
   "execution_count": 22,
   "id": "44601bde",
   "metadata": {},
   "outputs": [
    {
     "data": {
      "text/plain": [
       "'1111'"
      ]
     },
     "execution_count": 22,
     "metadata": {},
     "output_type": "execute_result"
    }
   ],
   "source": [
    "b = Mm()\n",
    "b.password"
   ]
  },
  {
   "cell_type": "code",
   "execution_count": 25,
   "id": "c69c91b4",
   "metadata": {},
   "outputs": [],
   "source": [
    "#인스턴스 속성\n",
    "c = Mm()\n",
    "c.password = \"1234\" #사용자를 지정하여 인스턴스 사용??"
   ]
  },
  {
   "cell_type": "code",
   "execution_count": 26,
   "id": "8bab8e6f",
   "metadata": {},
   "outputs": [
    {
     "data": {
      "text/plain": [
       "'1234'"
      ]
     },
     "execution_count": 26,
     "metadata": {},
     "output_type": "execute_result"
    }
   ],
   "source": [
    "c.password"
   ]
  },
  {
   "cell_type": "markdown",
   "id": "e05d0c0e",
   "metadata": {},
   "source": [
    "* 비공개 클래스 속성\n",
    "* __변수명 - 비공개 속성\n",
    "* 정보를 노출시키고 싶지 않을 때"
   ]
  },
  {
   "cell_type": "code",
   "execution_count": 27,
   "id": "ec574633",
   "metadata": {},
   "outputs": [],
   "source": [
    "class dad():\n",
    "    lastname = \"김\"\n",
    "    __first_name = \"환희\"\n",
    "    __password = \"1234\""
   ]
  },
  {
   "cell_type": "code",
   "execution_count": 28,
   "id": "3881c877",
   "metadata": {},
   "outputs": [
    {
     "data": {
      "text/plain": [
       "'김'"
      ]
     },
     "execution_count": 28,
     "metadata": {},
     "output_type": "execute_result"
    }
   ],
   "source": [
    "a = dad()\n",
    "a.lastname"
   ]
  },
  {
   "cell_type": "markdown",
   "id": "7d864594",
   "metadata": {},
   "source": [
    "### 비공개 속성은 직접 출력시 오류 발생\n",
    "* 코드 속 이름이나 비밀번호 해당\n",
    "### 클래스 내에서 메소드를 만들어 출력해야 함"
   ]
  },
  {
   "cell_type": "code",
   "execution_count": 29,
   "id": "389bfb72",
   "metadata": {},
   "outputs": [],
   "source": [
    "class dad():\n",
    "    lastname = \"김\"\n",
    "    __first_name = \"환희\"\n",
    "    __password = \"1234\"\n",
    "    \n",
    "    def print_name(self):\n",
    "        print(self.__first_name)\n",
    "        \n",
    "    def print_password(self):\n",
    "        print(self.__password)"
   ]
  },
  {
   "cell_type": "code",
   "execution_count": 32,
   "id": "c4e464a0",
   "metadata": {},
   "outputs": [
    {
     "name": "stdout",
     "output_type": "stream",
     "text": [
      "환희\n"
     ]
    }
   ],
   "source": [
    "a = dad()\n",
    "a.print_name()"
   ]
  },
  {
   "cell_type": "markdown",
   "id": "2f3441ae",
   "metadata": {},
   "source": [
    "## 정적메서드\n",
    "* self(사용자) 인스턴스 속성을 만들지 않고 클래스내 메서드 사용"
   ]
  },
  {
   "cell_type": "code",
   "execution_count": 34,
   "id": "986c55f8",
   "metadata": {},
   "outputs": [],
   "source": [
    "class bro():\n",
    "    @staticmethod\n",
    "    def mul(a, b):\n",
    "        print(a * b)\n",
    "        \n",
    "    def div(a, b):\n",
    "        print(a / b)"
   ]
  },
  {
   "cell_type": "code",
   "execution_count": 36,
   "id": "f22da725",
   "metadata": {},
   "outputs": [
    {
     "name": "stdout",
     "output_type": "stream",
     "text": [
      "12\n"
     ]
    }
   ],
   "source": [
    "d = bro()\n",
    "d.mul(3, 4)"
   ]
  },
  {
   "cell_type": "markdown",
   "id": "6f0bcf8c",
   "metadata": {},
   "source": [
    "## 클래스 메서드 \n",
    "* 클래스 메서는 클래스 속성과 클래스 메서드에 접근해야 할 때 사용\n",
    "* 첫 번째 매개변수에는 cls 지정"
   ]
  },
  {
   "cell_type": "code",
   "execution_count": 5,
   "id": "b22640e3",
   "metadata": {},
   "outputs": [],
   "source": [
    "class Ee():\n",
    "    bb_box = 0\n",
    "    \n",
    "    def __init__(self):\n",
    "        Ee.bb_box += 1\n",
    "    @classmethod\n",
    "    def print_bb_box(cls):\n",
    "        print(f\"{cls.bb_box}개가 제조되었습니다\")"
   ]
  },
  {
   "cell_type": "code",
   "execution_count": 6,
   "id": "19a801fc",
   "metadata": {},
   "outputs": [],
   "source": [
    "ana = Ee()"
   ]
  },
  {
   "cell_type": "code",
   "execution_count": 7,
   "id": "a9ce1231",
   "metadata": {},
   "outputs": [],
   "source": [
    "bab = Ee()"
   ]
  },
  {
   "cell_type": "code",
   "execution_count": 8,
   "id": "bcdf4c76",
   "metadata": {},
   "outputs": [
    {
     "name": "stdout",
     "output_type": "stream",
     "text": [
      "2개가 제조되었습니다\n"
     ]
    }
   ],
   "source": [
    "Ee.print_bb_box()"
   ]
  },
  {
   "cell_type": "code",
   "execution_count": 9,
   "id": "3261afa0",
   "metadata": {},
   "outputs": [],
   "source": [
    "from abc import*"
   ]
  },
  {
   "cell_type": "code",
   "execution_count": null,
   "id": "5fc5583c",
   "metadata": {},
   "outputs": [],
   "source": [
    "class puppy(Ee):\n",
    "    def"
   ]
  }
 ],
 "metadata": {
  "kernelspec": {
   "display_name": "Python 3 (ipykernel)",
   "language": "python",
   "name": "python3"
  },
  "language_info": {
   "codemirror_mode": {
    "name": "ipython",
    "version": 3
   },
   "file_extension": ".py",
   "mimetype": "text/x-python",
   "name": "python",
   "nbconvert_exporter": "python",
   "pygments_lexer": "ipython3",
   "version": "3.9.21"
  }
 },
 "nbformat": 4,
 "nbformat_minor": 5
}
