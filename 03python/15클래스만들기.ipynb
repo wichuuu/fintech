{
 "cells": [
  {
   "cell_type": "markdown",
   "id": "0effbac6",
   "metadata": {},
   "source": [
    "# 프로그래밍 방법 3가지\n",
    "* 1. 절차적 프로그래밍\n",
    "    * 프로그래밍을 순차적으로 하는 것\n",
    "    * 코드가 위에서 아래로 절차적으로 실행\n",
    "```python\n",
    "a = 1\n",
    "b = 2\n",
    "print(a+b)\n",
    "```\n",
    "\n",
    "* 2. 함수형 프로그래밍\n",
    "    * 여러 개의 함수를 작성해서 함수에 기반해 프로그램이 실행\n",
    "    * 코드의 재사용 가능\n",
    "    * 유지보수가 쉬워짐\n",
    "    * 버그 발생률이 낮고, 예측 가능성이 높음\n",
    "    * 병렬처리, 동시성 처리에 강함 - 멀티 코어를 이용할 때 유리\n",
    "```python\n",
    "# 리스트의 제곱합 구하기\n",
    "nums = [1,2,3,4]\n",
    "squares = list(map(lambda x : x  *  x, nums))\n",
    "print(squares)\n",
    "```\n",
    "\n",
    "* 3. 객체지향 프로그래밍\n",
    "    * JAVA, C++\n",
    "    * 클래스 기반으로 프로그래밍 \n",
    "    * 캡슐화, 상속, 다형성 같은 개념 사용\n",
    "    * 코드를 재사용하는 데 특화\n",
    "    * 여러 사람이 이용할 때 같은 코드를 독립적으로 사용 가능"
   ]
  },
  {
   "cell_type": "code",
   "execution_count": 1,
   "id": "c930f081",
   "metadata": {},
   "outputs": [
    {
     "name": "stdout",
     "output_type": "stream",
     "text": [
      "[1, 4, 9, 16]\n"
     ]
    }
   ],
   "source": [
    "nums = [1,2,3,4]\n",
    "squares = list(map(lambda x : x  *  x, nums))\n",
    "print(squares)"
   ]
  },
  {
   "cell_type": "code",
   "execution_count": 2,
   "id": "e5a5d6b0",
   "metadata": {},
   "outputs": [],
   "source": [
    "def add(a, b):\n",
    "    return a+b"
   ]
  },
  {
   "cell_type": "code",
   "execution_count": 4,
   "id": "832cfb2d",
   "metadata": {},
   "outputs": [
    {
     "data": {
      "text/plain": [
       "3"
      ]
     },
     "execution_count": 4,
     "metadata": {},
     "output_type": "execute_result"
    }
   ],
   "source": [
    "add(1, 2)"
   ]
  },
  {
   "cell_type": "markdown",
   "id": "b99b3961",
   "metadata": {},
   "source": [
    "# 클래스 만들기\n",
    "* 클래스는 객체지향 프로그래밍의 핵심\n",
    "* 클래스 하나에 여러 개의 함수(method) 포함\n",
    "* 클래스 = 공장(커피머신 공장) - 커피머신\n",
    "* 메서드 = 커피머신의 기능 (에스프레소, 아메리카노, 카페라떼, 스팀)"
   ]
  },
  {
   "cell_type": "markdown",
   "id": "0ebcaead",
   "metadata": {},
   "source": [
    "* 더하기 함수 만들기"
   ]
  },
  {
   "cell_type": "code",
   "execution_count": 5,
   "id": "8e6e0f93",
   "metadata": {},
   "outputs": [],
   "source": [
    "def add(num1, num2):\n",
    "    result = num1 + num2\n",
    "    return result"
   ]
  },
  {
   "cell_type": "code",
   "execution_count": 6,
   "id": "80cbd1ee",
   "metadata": {},
   "outputs": [
    {
     "data": {
      "text/plain": [
       "8"
      ]
     },
     "execution_count": 6,
     "metadata": {},
     "output_type": "execute_result"
    }
   ],
   "source": [
    "add(3, 5)"
   ]
  },
  {
   "cell_type": "markdown",
   "id": "53ba3e7a",
   "metadata": {},
   "source": [
    "* 이전에 계산했던 결과를 기억하는 계산기"
   ]
  },
  {
   "cell_type": "code",
   "execution_count": 16,
   "id": "bc5b8369",
   "metadata": {},
   "outputs": [],
   "source": [
    "result_cal = 0\n",
    "def add(num, result_cal):\n",
    "    print(\"result_cal\", result_cal) # 값이 업데이트 되는 건 아님\n",
    "    result_cal += num\n",
    "    return result_cal\n",
    "    "
   ]
  },
  {
   "cell_type": "code",
   "execution_count": 17,
   "id": "e056c15a",
   "metadata": {},
   "outputs": [
    {
     "name": "stdout",
     "output_type": "stream",
     "text": [
      "result_cal 0\n"
     ]
    },
    {
     "data": {
      "text/plain": [
       "3"
      ]
     },
     "execution_count": 17,
     "metadata": {},
     "output_type": "execute_result"
    }
   ],
   "source": [
    "add(3, result_cal)"
   ]
  },
  {
   "cell_type": "code",
   "execution_count": 18,
   "id": "03a806f3",
   "metadata": {},
   "outputs": [],
   "source": [
    "result_cal = 0\n",
    "def add(num):\n",
    "    global result_cal\n",
    "    result_cal += num\n",
    "    return result_cal"
   ]
  },
  {
   "cell_type": "code",
   "execution_count": 21,
   "id": "3afb048a",
   "metadata": {},
   "outputs": [
    {
     "data": {
      "text/plain": [
       "13"
      ]
     },
     "execution_count": 21,
     "metadata": {},
     "output_type": "execute_result"
    }
   ],
   "source": [
    "add(5) #값을 넣을 때마다 더해짐(누적) (업데이트가 됨)"
   ]
  },
  {
   "cell_type": "code",
   "execution_count": 22,
   "id": "afe6386b",
   "metadata": {},
   "outputs": [],
   "source": [
    "result_cal = 0\n",
    "def mul10(num):\n",
    "    global result_cal\n",
    "    result_cal += num * 10\n",
    "    return result_cal"
   ]
  },
  {
   "cell_type": "code",
   "execution_count": 26,
   "id": "332b28f9",
   "metadata": {},
   "outputs": [
    {
     "data": {
      "text/plain": [
       "38"
      ]
     },
     "execution_count": 26,
     "metadata": {},
     "output_type": "execute_result"
    }
   ],
   "source": [
    "mul10(2)"
   ]
  },
  {
   "cell_type": "markdown",
   "id": "c52e7e5e",
   "metadata": {},
   "source": [
    "* 만약 mul 함수를 길동이와 둘리가 동시에 같이 쓰고 싶다면?\n",
    "* 각각 사용할 수 있도록 함수를 여러개 만들면 된다.\n",
    "* 하지만 이용자가 많을 경우 매우 비효율적\n",
    "* 하나의 코드로 여러사람이 이용해도 독립적으로 작동하게 하는 것이 클래스"
   ]
  },
  {
   "cell_type": "code",
   "execution_count": 29,
   "id": "e8fc86e4",
   "metadata": {},
   "outputs": [
    {
     "data": {
      "text/plain": [
       "188"
      ]
     },
     "execution_count": 29,
     "metadata": {},
     "output_type": "execute_result"
    }
   ],
   "source": [
    "mul10(5)"
   ]
  },
  {
   "cell_type": "markdown",
   "id": "8a9385e6",
   "metadata": {},
   "source": [
    "# 클래스 만들기\n",
    "* 메소드 = 함수: 클래스 안에 정의한 함수를 메소드라고 함\n",
    "<br>\n",
    "* 클래스의 이름은 카멜표기법으로 만들어 준다. <br>\n",
    "class 클래스명(): <br>\n",
    "____def 메소드명():<br>\n",
    "________실행할 코드<br>\n",
    "________return<br>\n",
    "____def 메소드명2():<br>\n",
    "________실행할 코드<br>\n",
    "________return<br>"
   ]
  },
  {
   "cell_type": "markdown",
   "id": "66088f27",
   "metadata": {},
   "source": [
    "클래스로 계산기 만들기\n"
   ]
  },
  {
   "cell_type": "code",
   "execution_count": 36,
   "id": "406ff359",
   "metadata": {},
   "outputs": [],
   "source": [
    "class Calculator(): #괄호 생략 가능\n",
    "    def __init__(self): # self Calculator()\n",
    "        self.result = 0 # 변수 1개\n",
    "    def add(self, num):\n",
    "        self.result += num\n",
    "        return self.result\n",
    "        \n",
    "    "
   ]
  },
  {
   "cell_type": "markdown",
   "id": "6016223c",
   "metadata": {},
   "source": [
    "# 인스턴스\n",
    "* 만들어진 클래스를 변수에 담는 것\n",
    "* 사용자 등록"
   ]
  },
  {
   "cell_type": "code",
   "execution_count": 38,
   "id": "63fdfb34",
   "metadata": {},
   "outputs": [
    {
     "data": {
      "text/plain": [
       "5"
      ]
     },
     "execution_count": 38,
     "metadata": {},
     "output_type": "execute_result"
    }
   ],
   "source": [
    "gil = Calculator()\n",
    "gil.add(5)"
   ]
  },
  {
   "cell_type": "code",
   "execution_count": 40,
   "id": "dcdc8fbc",
   "metadata": {},
   "outputs": [
    {
     "data": {
      "text/plain": [
       "45"
      ]
     },
     "execution_count": 40,
     "metadata": {},
     "output_type": "execute_result"
    }
   ],
   "source": [
    "gil.add(20)"
   ]
  },
  {
   "cell_type": "code",
   "execution_count": 41,
   "id": "781e2232",
   "metadata": {},
   "outputs": [
    {
     "data": {
      "text/plain": [
       "100"
      ]
     },
     "execution_count": 41,
     "metadata": {},
     "output_type": "execute_result"
    }
   ],
   "source": [
    "dul = Calculator()\n",
    "dul.add(100)"
   ]
  },
  {
   "cell_type": "code",
   "execution_count": 42,
   "id": "67e7f9b0",
   "metadata": {},
   "outputs": [
    {
     "data": {
      "text/plain": [
       "300"
      ]
     },
     "execution_count": 42,
     "metadata": {},
     "output_type": "execute_result"
    }
   ],
   "source": [
    "dul.add(200)"
   ]
  },
  {
   "cell_type": "code",
   "execution_count": 34,
   "id": "9492a59e",
   "metadata": {},
   "outputs": [
    {
     "data": {
      "text/plain": [
       "5"
      ]
     },
     "execution_count": 34,
     "metadata": {},
     "output_type": "execute_result"
    }
   ],
   "source": [
    "cal = Calculator()\n",
    "cal.add(5)"
   ]
  },
  {
   "cell_type": "code",
   "execution_count": 35,
   "id": "7f3a8879",
   "metadata": {},
   "outputs": [
    {
     "data": {
      "text/plain": [
       "15"
      ]
     },
     "execution_count": 35,
     "metadata": {},
     "output_type": "execute_result"
    }
   ],
   "source": [
    "cal.add(10)"
   ]
  },
  {
   "cell_type": "markdown",
   "id": "44df2881",
   "metadata": {},
   "source": [
    "# 클래스 사용방법\n",
    "* 변수에 클래스를 담아서 인스턴스 생성 \n",
    "* 공장에서 만든 커피머신을 사용자에게 배송\n",
    "* 인스턴스 변수명 = 클래스명() => 인스턴스 생성\n",
    "* 인스턴스를 생성하고 나면 인스턴스변수명.메소드 형식으로 클래스에 정의한 메소드를 사용할 수 있다."
   ]
  },
  {
   "cell_type": "markdown",
   "id": "8a6672ac",
   "metadata": {},
   "source": [
    "# 메소드(method)\n",
    "* 클래스 안에 정의하는 함수\n",
    "* 클래스에 기능을 만들어 준다\n",
    "* def 메소드명(self, 매개변수1, *매개변수2=\"\", **kwargs): <br>\n",
    "  ____self.매개변수 = 매개변수<br>"
   ]
  },
  {
   "cell_type": "markdown",
   "id": "fea34038",
   "metadata": {},
   "source": [
    "* 사칙연산이 가능한 FourCal 계산기 만들기"
   ]
  },
  {
   "cell_type": "code",
   "execution_count": 50,
   "id": "28bd41e3",
   "metadata": {},
   "outputs": [],
   "source": [
    "class FourCal():\n",
    "    def setdata(self, num1, num2):\n",
    "        self.num1 = num1\n",
    "        self.num2 = num2\n",
    "        print(\"self.num1\", self.num1)\n",
    "        print(\"self.num2\", self.num2)"
   ]
  },
  {
   "cell_type": "code",
   "execution_count": 51,
   "id": "e1d0ab9a",
   "metadata": {},
   "outputs": [],
   "source": [
    "sam = FourCal()"
   ]
  },
  {
   "cell_type": "code",
   "execution_count": 15,
   "id": "f106a288",
   "metadata": {
    "scrolled": true
   },
   "outputs": [
    {
     "name": "stdout",
     "output_type": "stream",
     "text": [
      "self.num1 4\n",
      "self.num2 2\n"
     ]
    }
   ],
   "source": [
    "sam.setdata(4, 2) #위치인수를 넣었기에 개수 맞춰야 함 / 생성자 없는 경우"
   ]
  },
  {
   "cell_type": "code",
   "execution_count": 53,
   "id": "04d22eae",
   "metadata": {},
   "outputs": [],
   "source": [
    "class FourCal():\n",
    "    #데이터를 입력받는 역할의 setdata method\n",
    "    def setdata(self, num1, *num2): #self는 인스턴스 = 사용자\n",
    "        self.num1 = num1\n",
    "        self.num2 = num2\n",
    "        print(\"self.num1\", self.num1)\n",
    "        print(\"self.num2\", self.num2)"
   ]
  },
  {
   "cell_type": "code",
   "execution_count": 54,
   "id": "6bc11e6e",
   "metadata": {},
   "outputs": [],
   "source": [
    "sam = FourCal()"
   ]
  },
  {
   "cell_type": "code",
   "execution_count": 55,
   "id": "54366603",
   "metadata": {},
   "outputs": [
    {
     "name": "stdout",
     "output_type": "stream",
     "text": [
      "self.num1 4\n",
      "self.num2 (2, 3, 45)\n"
     ]
    }
   ],
   "source": [
    "sam.setdata(4, 2,3,45)"
   ]
  },
  {
   "cell_type": "markdown",
   "id": "1c92483b",
   "metadata": {},
   "source": [
    "클래스에 기능 추가하기"
   ]
  },
  {
   "cell_type": "code",
   "execution_count": 2,
   "id": "cbc45f76",
   "metadata": {},
   "outputs": [],
   "source": [
    "class FourCal():\n",
    "    # 데이터를 입력받는 역할의 setdata method\n",
    "    def setdata(self, num1, num2): #self는 인스턴스 = 사용자\n",
    "        self.num1 = num1\n",
    "        self.num2 = num2\n",
    "        print(\"self.num1\", self.num1)\n",
    "        print(\"self.num2\", self.num2)\n",
    "        \n",
    "    # 덧셈\n",
    "    def add(self):\n",
    "        result = self.num1 + self.num2\n",
    "        return result\n",
    "    \n",
    "    # 뺄셈\n",
    "    def sub(self):\n",
    "        result = self.num1 - self.num2\n",
    "        return result\n",
    "        \n",
    "    # 곱셈\n",
    "    def mul(self):\n",
    "        result = self.num1 * self.num2\n",
    "        return result\n",
    "    \n",
    "    # 나눗셈\n",
    "    def div(self):\n",
    "        result = self.num1 / self.num2\n",
    "        return result"
   ]
  },
  {
   "cell_type": "code",
   "execution_count": null,
   "id": "8c252ad6",
   "metadata": {},
   "outputs": [],
   "source": []
  },
  {
   "cell_type": "code",
   "execution_count": 3,
   "id": "314f42d9",
   "metadata": {},
   "outputs": [],
   "source": [
    "sam = FourCal()"
   ]
  },
  {
   "cell_type": "code",
   "execution_count": 4,
   "id": "f430fe17",
   "metadata": {},
   "outputs": [
    {
     "ename": "AttributeError",
     "evalue": "'FourCal' object has no attribute 'num1'",
     "output_type": "error",
     "traceback": [
      "\u001b[1;31m--------------------------------------------------------------------\u001b[0m",
      "\u001b[1;31mAttributeError\u001b[0m                     Traceback (most recent call last)",
      "Cell \u001b[1;32mIn[4], line 1\u001b[0m\n\u001b[1;32m----> 1\u001b[0m \u001b[43msam\u001b[49m\u001b[38;5;241;43m.\u001b[39;49m\u001b[43madd\u001b[49m\u001b[43m(\u001b[49m\u001b[43m)\u001b[49m\n",
      "Cell \u001b[1;32mIn[2], line 11\u001b[0m, in \u001b[0;36mFourCal.add\u001b[1;34m(self)\u001b[0m\n\u001b[0;32m     10\u001b[0m \u001b[38;5;28;01mdef\u001b[39;00m\u001b[38;5;250m \u001b[39m\u001b[38;5;21madd\u001b[39m(\u001b[38;5;28mself\u001b[39m):\n\u001b[1;32m---> 11\u001b[0m     result \u001b[38;5;241m=\u001b[39m \u001b[38;5;28;43mself\u001b[39;49m\u001b[38;5;241;43m.\u001b[39;49m\u001b[43mnum1\u001b[49m \u001b[38;5;241m+\u001b[39m \u001b[38;5;28mself\u001b[39m\u001b[38;5;241m.\u001b[39mnum2\n\u001b[0;32m     12\u001b[0m     \u001b[38;5;28;01mreturn\u001b[39;00m result\n",
      "\u001b[1;31mAttributeError\u001b[0m: 'FourCal' object has no attribute 'num1'"
     ]
    }
   ],
   "source": [
    "sam.add()"
   ]
  },
  {
   "cell_type": "code",
   "execution_count": 60,
   "id": "32182db6",
   "metadata": {},
   "outputs": [
    {
     "name": "stdout",
     "output_type": "stream",
     "text": [
      "self.num1 3\n",
      "self.num2 5\n"
     ]
    }
   ],
   "source": [
    "sam.setdata(3, 5)"
   ]
  },
  {
   "cell_type": "code",
   "execution_count": 67,
   "id": "4cacf9f9",
   "metadata": {},
   "outputs": [
    {
     "data": {
      "text/plain": [
       "8"
      ]
     },
     "execution_count": 67,
     "metadata": {},
     "output_type": "execute_result"
    }
   ],
   "source": [
    "sam.add()"
   ]
  },
  {
   "cell_type": "code",
   "execution_count": 68,
   "id": "cc4d1b00",
   "metadata": {},
   "outputs": [
    {
     "data": {
      "text/plain": [
       "0.6"
      ]
     },
     "execution_count": 68,
     "metadata": {},
     "output_type": "execute_result"
    }
   ],
   "source": [
    "sam.div()"
   ]
  },
  {
   "cell_type": "code",
   "execution_count": 69,
   "id": "a198cfd5",
   "metadata": {},
   "outputs": [
    {
     "data": {
      "text/plain": [
       "15"
      ]
     },
     "execution_count": 69,
     "metadata": {},
     "output_type": "execute_result"
    }
   ],
   "source": [
    "sam.sub()"
   ]
  },
  {
   "cell_type": "code",
   "execution_count": 71,
   "id": "b29216b9",
   "metadata": {},
   "outputs": [
    {
     "ename": "AttributeError",
     "evalue": "'FourCal' object has no attribute 'mul'",
     "output_type": "error",
     "traceback": [
      "\u001b[1;31m--------------------------------------------------------------------\u001b[0m",
      "\u001b[1;31mAttributeError\u001b[0m                     Traceback (most recent call last)",
      "Cell \u001b[1;32mIn[71], line 1\u001b[0m\n\u001b[1;32m----> 1\u001b[0m \u001b[43msam\u001b[49m\u001b[38;5;241;43m.\u001b[39;49m\u001b[43mmul\u001b[49m()\n",
      "\u001b[1;31mAttributeError\u001b[0m: 'FourCal' object has no attribute 'mul'"
     ]
    }
   ],
   "source": [
    "sam.mul()"
   ]
  },
  {
   "cell_type": "markdown",
   "id": "b7257796",
   "metadata": {},
   "source": [
    "# 생성자\n",
    "* 클래스를 실행해서 인스턴스를 만들 때 초기값을 받도록 해주는 메소드\n",
    "* 생성자(contructor)는 객체(인스턴스)가 생성될 때 자동으로 호출되는 메소드. 주로 초기값을 받을 때 사용\n",
    "* 클래스 내에서 메소드명으로 \\_\\__init__\\_\\ 를 사용하면 그것이 생성자가 됨"
   ]
  },
  {
   "cell_type": "markdown",
   "id": "67b5464a",
   "metadata": {},
   "source": [
    "* 생성자를 이용해 초기값을 입력받는 FourCal2"
   ]
  },
  {
   "cell_type": "code",
   "execution_count": 33,
   "id": "8e5275e1",
   "metadata": {},
   "outputs": [],
   "source": [
    "class FourCal2():\n",
    "    def __init__(self, num1, num2):\n",
    "        \n",
    "        self.num1 = num1\n",
    "        self.num2 = num2\n",
    "    def add(self):\n",
    "        result = self.num1 + self.num2\n",
    "        return result\n",
    "    def sub(self):\n",
    "        result = self.num1 - self.num2\n",
    "        return result\n",
    "    def mul(self):\n",
    "        result = self.num1 * self.num2\n",
    "        return result\n",
    "    def div(self):\n",
    "        result = self.num1 / self.num2\n",
    "        return result"
   ]
  },
  {
   "cell_type": "code",
   "execution_count": 14,
   "id": "81c44396",
   "metadata": {},
   "outputs": [],
   "source": [
    "gildong = FourCal2(3, 5) #생성자를 이용해 초깃값을 받기 때문에 초깃값 입력 필수"
   ]
  },
  {
   "cell_type": "code",
   "execution_count": 13,
   "id": "d5e03702",
   "metadata": {},
   "outputs": [
    {
     "data": {
      "text/plain": [
       "0.6"
      ]
     },
     "execution_count": 13,
     "metadata": {},
     "output_type": "execute_result"
    }
   ],
   "source": [
    "gildong.div()"
   ]
  },
  {
   "cell_type": "code",
   "execution_count": 21,
   "id": "469f7c40",
   "metadata": {},
   "outputs": [],
   "source": [
    "class FourCal3():\n",
    "    def __init__(self):\n",
    "        \n",
    "        self.num1 = 0\n",
    "        self.num2 = 0\n",
    "    def add(self, num1, num2):\n",
    "        self.num1 = num1\n",
    "        self.num2 = num2\n",
    "        result = self.num1 + self.num2\n",
    "        return result\n",
    "    def sub(self):\n",
    "        result = self.num1 - self.num2\n",
    "        return result\n",
    "    def mul(self):\n",
    "        result = self.num1 * self.num2\n",
    "        return result\n",
    "    def div(self):\n",
    "        result = self.num1 / self.num2\n",
    "        return result"
   ]
  },
  {
   "cell_type": "code",
   "execution_count": 24,
   "id": "8aad77b4",
   "metadata": {},
   "outputs": [],
   "source": [
    "sally = FourCal3()"
   ]
  },
  {
   "cell_type": "code",
   "execution_count": 26,
   "id": "c9a582b7",
   "metadata": {},
   "outputs": [
    {
     "data": {
      "text/plain": [
       "9"
      ]
     },
     "execution_count": 26,
     "metadata": {},
     "output_type": "execute_result"
    }
   ],
   "source": [
    "sally.add(4, 5)"
   ]
  },
  {
   "cell_type": "code",
   "execution_count": 28,
   "id": "f2d04963",
   "metadata": {},
   "outputs": [
    {
     "ename": "TypeError",
     "evalue": "sub() takes 1 positional argument but 3 were given",
     "output_type": "error",
     "traceback": [
      "\u001b[1;31m--------------------------------------------------------------------\u001b[0m",
      "\u001b[1;31mTypeError\u001b[0m                          Traceback (most recent call last)",
      "Cell \u001b[1;32mIn[28], line 1\u001b[0m\n\u001b[1;32m----> 1\u001b[0m \u001b[43msally\u001b[49m\u001b[38;5;241;43m.\u001b[39;49m\u001b[43msub\u001b[49m\u001b[43m(\u001b[49m\u001b[38;5;241;43m4\u001b[39;49m\u001b[43m,\u001b[49m\u001b[43m \u001b[49m\u001b[38;5;241;43m6\u001b[39;49m\u001b[43m)\u001b[49m\n",
      "\u001b[1;31mTypeError\u001b[0m: sub() takes 1 positional argument but 3 were given"
     ]
    }
   ],
   "source": [
    "sally.sub(4, 6)"
   ]
  },
  {
   "cell_type": "markdown",
   "id": "13ce51b0",
   "metadata": {},
   "source": [
    "# 클래스의 상속\n",
    "* 어떤 클래스를 만들 때 다른 클래스의 기능을 물려받는 것\n",
    "* 기존 클래스에 기능을 추가할 때\n",
    "* A 클래스를 상속받아 B클래스를 생성한다고 할 때\n",
    "* B 클래스는 A 클래스의 모든 기능 사용 가능"
   ]
  },
  {
   "cell_type": "markdown",
   "id": "4e506680",
   "metadata": {},
   "source": [
    "* FourCal2을 상속받아 제곱 기능을 추가한 MoreFourCal 만들기"
   ]
  },
  {
   "cell_type": "code",
   "execution_count": 34,
   "id": "ab5991c8",
   "metadata": {},
   "outputs": [],
   "source": [
    "class MoreFourCal(FourCal2):\n",
    "    def pow(self):\n",
    "        result = self.num1 ** self.num2 #MoreFourCal에서 추가한 제곱 기능\n",
    "        return result"
   ]
  },
  {
   "cell_type": "code",
   "execution_count": 35,
   "id": "6f7d72f8",
   "metadata": {},
   "outputs": [],
   "source": [
    "dul = MoreFourCal(2,3)"
   ]
  },
  {
   "cell_type": "code",
   "execution_count": 36,
   "id": "fdddc79a",
   "metadata": {},
   "outputs": [
    {
     "data": {
      "text/plain": [
       "8"
      ]
     },
     "execution_count": 36,
     "metadata": {},
     "output_type": "execute_result"
    }
   ],
   "source": [
    "dul.pow()"
   ]
  },
  {
   "cell_type": "code",
   "execution_count": 38,
   "id": "18e04f2f",
   "metadata": {},
   "outputs": [
    {
     "data": {
      "text/plain": [
       "5"
      ]
     },
     "execution_count": 38,
     "metadata": {},
     "output_type": "execute_result"
    }
   ],
   "source": [
    "dul.add()"
   ]
  },
  {
   "cell_type": "markdown",
   "id": "f3dc523c",
   "metadata": {},
   "source": [
    "# 메서드 오버라이딩 (method overriding)\n",
    "* 부모 클래스에서 상속한 메서드를 자식 클래스에서 동일한 이름으로 재정의"
   ]
  },
  {
   "cell_type": "code",
   "execution_count": 40,
   "id": "cfe816d1",
   "metadata": {},
   "outputs": [],
   "source": [
    "kim = FourCal2(4, 0)"
   ]
  },
  {
   "cell_type": "code",
   "execution_count": 41,
   "id": "11efb21f",
   "metadata": {},
   "outputs": [
    {
     "data": {
      "text/plain": [
       "4"
      ]
     },
     "execution_count": 41,
     "metadata": {},
     "output_type": "execute_result"
    }
   ],
   "source": [
    "kim.add()"
   ]
  },
  {
   "cell_type": "code",
   "execution_count": 44,
   "id": "ef7a0130",
   "metadata": {},
   "outputs": [
    {
     "data": {
      "text/plain": [
       "4"
      ]
     },
     "execution_count": 44,
     "metadata": {},
     "output_type": "execute_result"
    }
   ],
   "source": [
    "kim.sub()"
   ]
  },
  {
   "cell_type": "markdown",
   "id": "fb71b8f1",
   "metadata": {},
   "source": [
    "* FourCal2는 num2에 0이 입력될 경우 div메서드 실행시 0으로 나누게 되기 때문에 에러 발생\n",
    "* SafeFourCal를 만들고 FourCal2 상속받은 후 div 함수를 재정의하여 에러를 앲앤다"
   ]
  },
  {
   "cell_type": "code",
   "execution_count": 45,
   "id": "1a5e5dde",
   "metadata": {},
   "outputs": [],
   "source": [
    "class SafeFourCal(FourCal2):\n",
    "    def div(self):\n",
    "        if self.num2 == 0:\n",
    "            return 0\n",
    "        else:\n",
    "            return self.num1 / self.num2\n",
    "        "
   ]
  },
  {
   "cell_type": "code",
   "execution_count": 46,
   "id": "9d8f6590",
   "metadata": {},
   "outputs": [],
   "source": [
    "kim = SafeFourCal(4, 0)"
   ]
  },
  {
   "cell_type": "code",
   "execution_count": 47,
   "id": "7293b94e",
   "metadata": {},
   "outputs": [
    {
     "data": {
      "text/plain": [
       "0"
      ]
     },
     "execution_count": 47,
     "metadata": {},
     "output_type": "execute_result"
    }
   ],
   "source": [
    "kim.div()"
   ]
  },
  {
   "cell_type": "code",
   "execution_count": 48,
   "id": "768f00e5",
   "metadata": {},
   "outputs": [
    {
     "data": {
      "text/plain": [
       "4"
      ]
     },
     "execution_count": 48,
     "metadata": {},
     "output_type": "execute_result"
    }
   ],
   "source": [
    "kim.add()"
   ]
  },
  {
   "cell_type": "code",
   "execution_count": 49,
   "id": "f5ad4cbf",
   "metadata": {},
   "outputs": [
    {
     "ename": "ZeroDivisionError",
     "evalue": "division by zero",
     "output_type": "error",
     "traceback": [
      "\u001b[1;31m--------------------------------------------------------------------\u001b[0m",
      "\u001b[1;31mZeroDivisionError\u001b[0m                  Traceback (most recent call last)",
      "Cell \u001b[1;32mIn[49], line 2\u001b[0m\n\u001b[0;32m      1\u001b[0m john \u001b[38;5;241m=\u001b[39m FourCal2(\u001b[38;5;241m4\u001b[39m, \u001b[38;5;241m0\u001b[39m)\n\u001b[1;32m----> 2\u001b[0m \u001b[43mjohn\u001b[49m\u001b[38;5;241;43m.\u001b[39;49m\u001b[43mdiv\u001b[49m\u001b[43m(\u001b[49m\u001b[43m)\u001b[49m\n",
      "Cell \u001b[1;32mIn[33], line 16\u001b[0m, in \u001b[0;36mFourCal2.div\u001b[1;34m(self)\u001b[0m\n\u001b[0;32m     15\u001b[0m \u001b[38;5;28;01mdef\u001b[39;00m\u001b[38;5;250m \u001b[39m\u001b[38;5;21mdiv\u001b[39m(\u001b[38;5;28mself\u001b[39m):\n\u001b[1;32m---> 16\u001b[0m     result \u001b[38;5;241m=\u001b[39m \u001b[38;5;28;43mself\u001b[39;49m\u001b[38;5;241;43m.\u001b[39;49m\u001b[43mnum1\u001b[49m\u001b[43m \u001b[49m\u001b[38;5;241;43m/\u001b[39;49m\u001b[43m \u001b[49m\u001b[38;5;28;43mself\u001b[39;49m\u001b[38;5;241;43m.\u001b[39;49m\u001b[43mnum2\u001b[49m\n\u001b[0;32m     17\u001b[0m     \u001b[38;5;28;01mreturn\u001b[39;00m result\n",
      "\u001b[1;31mZeroDivisionError\u001b[0m: division by zero"
     ]
    }
   ],
   "source": [
    "john = FourCal2(4, 0) #원래 클래스 속 오류는 그대로임\n",
    "john.div()"
   ]
  },
  {
   "cell_type": "markdown",
   "id": "8f06a086",
   "metadata": {},
   "source": [
    "# 메서드 오버로딩\n",
    "* 한 클래스 안에서 동일 메서드의 기능을 다르게 재정의\n",
    "* 동일한 이름의 메서드가 기능이 약간 변경된 채로 여러개 존재\n",
    "* def add(num1, num2)\n",
    "* def add(num1, num2, num3)\n",
    "* def add(num1, num2, num3, num4)"
   ]
  },
  {
   "cell_type": "code",
   "execution_count": 57,
   "id": "e10add15",
   "metadata": {},
   "outputs": [],
   "source": [
    "class OverloadingEx():\n",
    "    def add(self, x, y):\n",
    "        return x + y\n",
    "    def add(self, x, y, z):\n",
    "        return x + y + z\n",
    "    def add(self, x, y, z, a):\n",
    "        return x + y + z + a"
   ]
  },
  {
   "cell_type": "code",
   "execution_count": 58,
   "id": "0e15df7a",
   "metadata": {},
   "outputs": [],
   "source": [
    "sam = OverloadingEx()"
   ]
  },
  {
   "cell_type": "code",
   "execution_count": 59,
   "id": "bac465d0",
   "metadata": {},
   "outputs": [
    {
     "data": {
      "text/plain": [
       "100"
      ]
     },
     "execution_count": 59,
     "metadata": {},
     "output_type": "execute_result"
    }
   ],
   "source": [
    "sam.add(10, 20, 30, 40)"
   ]
  },
  {
   "cell_type": "markdown",
   "id": "574a79c1",
   "metadata": {},
   "source": [
    "multipledispatch 패키지를 통한 메서드 오버로딩"
   ]
  },
  {
   "cell_type": "code",
   "execution_count": 61,
   "id": "84f8d76a",
   "metadata": {},
   "outputs": [],
   "source": [
    "# !pip install multipledispatch"
   ]
  },
  {
   "cell_type": "code",
   "execution_count": 62,
   "id": "777dd757",
   "metadata": {},
   "outputs": [],
   "source": [
    "from multipledispatch import dispatch"
   ]
  },
  {
   "cell_type": "code",
   "execution_count": 64,
   "id": "6297bcf6",
   "metadata": {},
   "outputs": [],
   "source": [
    "class OverloadingEx2():\n",
    "    @dispatch(int, int)\n",
    "    def add(self, x, y):\n",
    "        return x + y\n",
    "    @dispatch(int, int, int)\n",
    "    def add(self, x, y, z):\n",
    "        return x + y + z\n",
    "    @dispatch(int, int, int, int)\n",
    "    def add(self, x, y, z, a):\n",
    "        return x + y + z - a\n",
    "    @dispatch(float, float, float, float)\n",
    "    def add(self, x, y, z, a):\n",
    "        return (x + y) - (z * a)"
   ]
  },
  {
   "cell_type": "code",
   "execution_count": 65,
   "id": "3c0f4329",
   "metadata": {},
   "outputs": [],
   "source": [
    "sam = OverloadingEx2()"
   ]
  },
  {
   "cell_type": "code",
   "execution_count": 66,
   "id": "d806121c",
   "metadata": {},
   "outputs": [
    {
     "data": {
      "text/plain": [
       "5"
      ]
     },
     "execution_count": 66,
     "metadata": {},
     "output_type": "execute_result"
    }
   ],
   "source": [
    "sam.add(2, 3)"
   ]
  },
  {
   "cell_type": "code",
   "execution_count": 67,
   "id": "204fe24a",
   "metadata": {},
   "outputs": [
    {
     "data": {
      "text/plain": [
       "8"
      ]
     },
     "execution_count": 67,
     "metadata": {},
     "output_type": "execute_result"
    }
   ],
   "source": [
    "sam.add(2, 3, 3)"
   ]
  },
  {
   "cell_type": "code",
   "execution_count": 68,
   "id": "d1ecbea7",
   "metadata": {},
   "outputs": [
    {
     "data": {
      "text/plain": [
       "6"
      ]
     },
     "execution_count": 68,
     "metadata": {},
     "output_type": "execute_result"
    }
   ],
   "source": [
    "sam.add(2,3, 3,2)"
   ]
  },
  {
   "cell_type": "code",
   "execution_count": 69,
   "id": "3bd7814d",
   "metadata": {},
   "outputs": [
    {
     "data": {
      "text/plain": [
       "-1.0"
      ]
     },
     "execution_count": 69,
     "metadata": {},
     "output_type": "execute_result"
    }
   ],
   "source": [
    "sam.add(2.0, 3.0, 3.0, 2.0)"
   ]
  },
  {
   "cell_type": "markdown",
   "id": "3de1b72d",
   "metadata": {},
   "source": [
    "# 클래스 속성과 인스턴스 속성\n",
    "* 클래스 속성: 클래스 전체에서 공유하는 속성(변수), 모든 인스턴스에서 공유\n",
    "* 인스턴스 속성: 인스턴스에서만 사용하는 속성, 인스턴스간 공유 안됨"
   ]
  },
  {
   "cell_type": "code",
   "execution_count": 79,
   "id": "c92b5dba",
   "metadata": {},
   "outputs": [],
   "source": [
    "class Family():\n",
    "    password = \"0000\" # 클래스속성"
   ]
  },
  {
   "cell_type": "code",
   "execution_count": 80,
   "id": "7062569a",
   "metadata": {},
   "outputs": [],
   "source": [
    "kim = Family()"
   ]
  },
  {
   "cell_type": "code",
   "execution_count": 82,
   "id": "b44abc08",
   "metadata": {},
   "outputs": [
    {
     "data": {
      "text/plain": [
       "'0000'"
      ]
     },
     "execution_count": 82,
     "metadata": {},
     "output_type": "execute_result"
    }
   ],
   "source": [
    "kim.password"
   ]
  },
  {
   "cell_type": "code",
   "execution_count": 83,
   "id": "00cc15e6",
   "metadata": {},
   "outputs": [],
   "source": [
    "park = Family()\n",
    "park.password = \"1234\" # 인스턴스 속성"
   ]
  },
  {
   "cell_type": "code",
   "execution_count": 88,
   "id": "e188b42e",
   "metadata": {},
   "outputs": [
    {
     "data": {
      "text/plain": [
       "'1234'"
      ]
     },
     "execution_count": 88,
     "metadata": {},
     "output_type": "execute_result"
    }
   ],
   "source": [
    "park.password"
   ]
  },
  {
   "cell_type": "code",
   "execution_count": 89,
   "id": "4a8ff4a6",
   "metadata": {},
   "outputs": [],
   "source": [
    "sally = Family() "
   ]
  },
  {
   "cell_type": "code",
   "execution_count": 90,
   "id": "5f0b8ad9",
   "metadata": {},
   "outputs": [
    {
     "data": {
      "text/plain": [
       "'0000'"
      ]
     },
     "execution_count": 90,
     "metadata": {},
     "output_type": "execute_result"
    }
   ],
   "source": [
    "sally.password #클래스 속성 상태"
   ]
  },
  {
   "cell_type": "code",
   "execution_count": 86,
   "id": "e5414d54",
   "metadata": {},
   "outputs": [],
   "source": [
    "sally = Family()\n",
    "sally.password = \"6789\""
   ]
  },
  {
   "cell_type": "code",
   "execution_count": 87,
   "id": "f4801e4d",
   "metadata": {},
   "outputs": [
    {
     "data": {
      "text/plain": [
       "'6789'"
      ]
     },
     "execution_count": 87,
     "metadata": {},
     "output_type": "execute_result"
    }
   ],
   "source": [
    "sally.password # 인스턴스 속성 상태"
   ]
  },
  {
   "cell_type": "markdown",
   "id": "82c5e581",
   "metadata": {},
   "source": [
    "# 비공개 클래스 속성\n",
    "* \\_\\_변수명 - 비공개 속성\n",
    "* 보안이 필요해서 남들에게 정보를 노출하고 싶지 않을 때 사용"
   ]
  },
  {
   "cell_type": "code",
   "execution_count": 91,
   "id": "cef62bbd",
   "metadata": {},
   "outputs": [],
   "source": [
    "class PInfo():\n",
    "    lastname = \"최\"\n",
    "    __first_name = \"성연\"\n",
    "    __password = \"9513\"\n",
    "    "
   ]
  },
  {
   "cell_type": "code",
   "execution_count": 96,
   "id": "a3696a96",
   "metadata": {},
   "outputs": [],
   "source": [
    "kim = PInfo()"
   ]
  },
  {
   "cell_type": "code",
   "execution_count": 97,
   "id": "2107a5d1",
   "metadata": {},
   "outputs": [],
   "source": [
    "kim.lastname = \"김\""
   ]
  },
  {
   "cell_type": "code",
   "execution_count": 93,
   "id": "84b04e37",
   "metadata": {},
   "outputs": [
    {
     "data": {
      "text/plain": [
       "'최'"
      ]
     },
     "execution_count": 93,
     "metadata": {},
     "output_type": "execute_result"
    }
   ],
   "source": [
    "kim.lastname"
   ]
  },
  {
   "cell_type": "code",
   "execution_count": 95,
   "id": "52b7b3ac",
   "metadata": {},
   "outputs": [
    {
     "ename": "AttributeError",
     "evalue": "'PInfo' object has no attribute '__first_name'",
     "output_type": "error",
     "traceback": [
      "\u001b[1;31m--------------------------------------------------------------------\u001b[0m",
      "\u001b[1;31mAttributeError\u001b[0m                     Traceback (most recent call last)",
      "Cell \u001b[1;32mIn[95], line 1\u001b[0m\n\u001b[1;32m----> 1\u001b[0m \u001b[43mkim\u001b[49m\u001b[38;5;241;43m.\u001b[39;49m\u001b[43m__first_name\u001b[49m\n",
      "\u001b[1;31mAttributeError\u001b[0m: 'PInfo' object has no attribute '__first_name'"
     ]
    }
   ],
   "source": [
    "kim.__first_name"
   ]
  },
  {
   "cell_type": "markdown",
   "id": "4f806043",
   "metadata": {},
   "source": [
    "* 비공개 클래스 속성을 직접 출력하려고 하면 에러 발생\n",
    "* 클래스 내에서 메서드를 만들어서 출력하면 출력 가능"
   ]
  },
  {
   "cell_type": "code",
   "execution_count": 102,
   "id": "0bde4348",
   "metadata": {},
   "outputs": [],
   "source": [
    "class PInfo():\n",
    "    lastname = \"최\"\n",
    "    __first_name = \"성연\"\n",
    "    __password = \"9513\"\n",
    "    \n",
    "    def print_name(self):\n",
    "        print(self.__first_name)\n",
    "        \n",
    "    def print_password(self):\n",
    "        print(self.__password)"
   ]
  },
  {
   "cell_type": "code",
   "execution_count": 103,
   "id": "cdf45875",
   "metadata": {},
   "outputs": [],
   "source": [
    "sam = PInfo()"
   ]
  },
  {
   "cell_type": "code",
   "execution_count": 104,
   "id": "15f80020",
   "metadata": {},
   "outputs": [
    {
     "name": "stdout",
     "output_type": "stream",
     "text": [
      "성연\n"
     ]
    }
   ],
   "source": [
    "sam.print_name()"
   ]
  },
  {
   "cell_type": "code",
   "execution_count": 105,
   "id": "de42823d",
   "metadata": {},
   "outputs": [
    {
     "name": "stdout",
     "output_type": "stream",
     "text": [
      "9513\n"
     ]
    }
   ],
   "source": [
    "sam.print_password()"
   ]
  },
  {
   "cell_type": "markdown",
   "id": "f257c493",
   "metadata": {},
   "source": [
    "# 정적메서드 static method\n",
    "* 인스턴스를 만들지 않고도 클래스의 메서드를 바로 사용할 수 있는 메서드\n",
    "* 메서드 위에 @staticmethod라는 데코레이터를 붙여서 만든다\n",
    "* static method는 self를 받지 않으므로 인스턴스 속성, 인스턴스 메서드가 필요하지 않을 때 사용"
   ]
  },
  {
   "cell_type": "code",
   "execution_count": 107,
   "id": "aa25e77d",
   "metadata": {},
   "outputs": [],
   "source": [
    "class Cal():\n",
    "    @staticmethod\n",
    "    def add(a, b):\n",
    "        print(a+b)\n",
    "    \n",
    "    @staticmethod\n",
    "    def sub(a, b):\n",
    "        print(a-b)"
   ]
  },
  {
   "cell_type": "code",
   "execution_count": 108,
   "id": "94dd11f5",
   "metadata": {},
   "outputs": [],
   "source": [
    "sam = Cal()"
   ]
  },
  {
   "cell_type": "code",
   "execution_count": 109,
   "id": "e0ead690",
   "metadata": {},
   "outputs": [
    {
     "name": "stdout",
     "output_type": "stream",
     "text": [
      "9\n"
     ]
    }
   ],
   "source": [
    "sam.add(4, 5)"
   ]
  },
  {
   "cell_type": "code",
   "execution_count": 110,
   "id": "0f839e3b",
   "metadata": {},
   "outputs": [],
   "source": [
    "sally = Cal()"
   ]
  },
  {
   "cell_type": "code",
   "execution_count": 111,
   "id": "02fe6756",
   "metadata": {},
   "outputs": [
    {
     "name": "stdout",
     "output_type": "stream",
     "text": [
      "7\n"
     ]
    }
   ],
   "source": [
    "sally.sub(10,3)"
   ]
  },
  {
   "cell_type": "markdown",
   "id": "99a17810",
   "metadata": {},
   "source": [
    "# 클래스 메서드 class method\n",
    "* 메서드 위에 @classmethod를 붙여서 만든다\n",
    "* 클래스 메서드의 첫 번째 매개변수에는 cls를 지정해야 함\n",
    "* 클래스 메서드도 staticmethod처럼 인스턴스 생성 없이 호출이 가능함\n",
    "* 클래스 메서드는 메서드 안에서 클래스 속성, 클래스 메서드에 접근해야 할 때 사용함\n"
   ]
  },
  {
   "cell_type": "code",
   "execution_count": 118,
   "id": "feba99af",
   "metadata": {},
   "outputs": [],
   "source": [
    "class Factory():\n",
    "    n_coffee_machine = 0 #클래스 속성\n",
    "    \n",
    "    def __init__ (self):\n",
    "        Factory.n_coffee_machine += 1 #인스턴스가 생성될 때 클래스 속성에 1을 더함\n",
    "    @classmethod\n",
    "    def print_n_coffee_machine(cls):\n",
    "        print(f\"{cls.n_coffee_machine}개가 제조되었습니다.\")"
   ]
  },
  {
   "cell_type": "code",
   "execution_count": 126,
   "id": "5e468956",
   "metadata": {},
   "outputs": [],
   "source": [
    "sam = Factory()"
   ]
  },
  {
   "cell_type": "code",
   "execution_count": 123,
   "id": "0c77675e",
   "metadata": {},
   "outputs": [],
   "source": [
    "sally = Factory()"
   ]
  },
  {
   "cell_type": "code",
   "execution_count": 127,
   "id": "19c4ebff",
   "metadata": {},
   "outputs": [
    {
     "name": "stdout",
     "output_type": "stream",
     "text": [
      "2개가 제조되었습니다.\n"
     ]
    }
   ],
   "source": [
    "Factory.print_n_coffee_machine()"
   ]
  },
  {
   "cell_type": "markdown",
   "id": "53172f68",
   "metadata": {},
   "source": []
  },
  {
   "cell_type": "markdown",
   "id": "271a44f3",
   "metadata": {},
   "source": [
    "# 추상 클래스 abc(abstarct base class)\n",
    "* abc 모듈 필요\n",
    "* 추상클래스 추상클래스를 상속 받아 클래스를 만들 때 반드시 만들어야 하는 메소드를 지정해주는 클래스\n",
    "* 인터페이스\n",
    "* 규칙을 부여해서 그 규칙에 따라 클래스를 만들도록 강제 함\n",
    "* 추상 클래스를 상속받은 클래스는 반드시 추상클래스에서 정의한 메소드를 overriding으로 구현해야 함\n",
    "* 이력서 양식에 맞추어 내용 적기"
   ]
  },
  {
   "cell_type": "code",
   "execution_count": 1,
   "id": "915580ed",
   "metadata": {},
   "outputs": [],
   "source": [
    "from abc import *"
   ]
  },
  {
   "cell_type": "code",
   "execution_count": 2,
   "id": "ed4b2363",
   "metadata": {},
   "outputs": [],
   "source": [
    "# 추상 클래스\n",
    "class CoffeeBase(metaclass=ABCMeta):\n",
    "    @abstractmethod\n",
    "    def bean_input(self):\n",
    "        pass\n",
    "    @abstractmethod\n",
    "    def grind(self):\n",
    "        pass"
   ]
  },
  {
   "cell_type": "code",
   "execution_count": 3,
   "id": "6fd6c044",
   "metadata": {},
   "outputs": [
    {
     "ename": "TypeError",
     "evalue": "Can't instantiate abstract class CoffeeBase with abstract methods bean_input, grind",
     "output_type": "error",
     "traceback": [
      "\u001b[1;31m--------------------------------------------------------------------\u001b[0m",
      "\u001b[1;31mTypeError\u001b[0m                          Traceback (most recent call last)",
      "Cell \u001b[1;32mIn[3], line 2\u001b[0m\n\u001b[0;32m      1\u001b[0m \u001b[38;5;66;03m# 추상클래스는 인스턴스 생성 불가\u001b[39;00m\n\u001b[1;32m----> 2\u001b[0m sam \u001b[38;5;241m=\u001b[39m \u001b[43mCoffeeBase\u001b[49m\u001b[43m(\u001b[49m\u001b[43m)\u001b[49m\n",
      "\u001b[1;31mTypeError\u001b[0m: Can't instantiate abstract class CoffeeBase with abstract methods bean_input, grind"
     ]
    }
   ],
   "source": [
    "# 추상클래스는 인스턴스 생성 불가\n",
    "sam = CoffeeBase()"
   ]
  },
  {
   "cell_type": "code",
   "execution_count": 4,
   "id": "f618a9b7",
   "metadata": {},
   "outputs": [],
   "source": [
    "class CoffeeMachine(CoffeeBase):\n",
    "    def bean_input(self):\n",
    "        print('커피 원두 넣기')"
   ]
  },
  {
   "cell_type": "code",
   "execution_count": 5,
   "id": "6bf8a86f",
   "metadata": {
    "scrolled": true
   },
   "outputs": [
    {
     "ename": "TypeError",
     "evalue": "Can't instantiate abstract class CoffeeMachine with abstract method grind",
     "output_type": "error",
     "traceback": [
      "\u001b[1;31m--------------------------------------------------------------------\u001b[0m",
      "\u001b[1;31mTypeError\u001b[0m                          Traceback (most recent call last)",
      "Cell \u001b[1;32mIn[5], line 1\u001b[0m\n\u001b[1;32m----> 1\u001b[0m sam \u001b[38;5;241m=\u001b[39m \u001b[43mCoffeeMachine\u001b[49m\u001b[43m(\u001b[49m\u001b[43m)\u001b[49m\n",
      "\u001b[1;31mTypeError\u001b[0m: Can't instantiate abstract class CoffeeMachine with abstract method grind"
     ]
    }
   ],
   "source": [
    "sam = CoffeeMachine()"
   ]
  },
  {
   "cell_type": "code",
   "execution_count": 6,
   "id": "1724e9ca",
   "metadata": {},
   "outputs": [],
   "source": [
    "class CoffeeMachine2(CoffeeBase):\n",
    "    def bean_input(self):\n",
    "        print('커피 원두 넣기')\n",
    "        \n",
    "    def grind(self):\n",
    "        print('커피 원두 갈기')"
   ]
  },
  {
   "cell_type": "code",
   "execution_count": 7,
   "id": "e6f2c581",
   "metadata": {},
   "outputs": [],
   "source": [
    "sam = CoffeeMachine2()"
   ]
  },
  {
   "cell_type": "code",
   "execution_count": 8,
   "id": "8ed87a06",
   "metadata": {},
   "outputs": [
    {
     "name": "stdout",
     "output_type": "stream",
     "text": [
      "커피 원두 넣기\n"
     ]
    }
   ],
   "source": [
    "sam.bean_input()"
   ]
  },
  {
   "cell_type": "code",
   "execution_count": 9,
   "id": "b8e2a412",
   "metadata": {},
   "outputs": [
    {
     "name": "stdout",
     "output_type": "stream",
     "text": [
      "커피 원두 갈기\n"
     ]
    }
   ],
   "source": [
    "sam.grind()"
   ]
  },
  {
   "cell_type": "code",
   "execution_count": null,
   "id": "be5af1e4",
   "metadata": {},
   "outputs": [],
   "source": []
  },
  {
   "cell_type": "code",
   "execution_count": null,
   "id": "5314b1db",
   "metadata": {},
   "outputs": [],
   "source": []
  },
  {
   "cell_type": "code",
   "execution_count": null,
   "id": "f5b1775f",
   "metadata": {},
   "outputs": [],
   "source": []
  },
  {
   "cell_type": "code",
   "execution_count": null,
   "id": "7fe702b7",
   "metadata": {},
   "outputs": [],
   "source": []
  }
 ],
 "metadata": {
  "kernelspec": {
   "display_name": "Python 3 (ipykernel)",
   "language": "python",
   "name": "python3"
  },
  "language_info": {
   "codemirror_mode": {
    "name": "ipython",
    "version": 3
   },
   "file_extension": ".py",
   "mimetype": "text/x-python",
   "name": "python",
   "nbconvert_exporter": "python",
   "pygments_lexer": "ipython3",
   "version": "3.9.21"
  }
 },
 "nbformat": 4,
 "nbformat_minor": 5
}
