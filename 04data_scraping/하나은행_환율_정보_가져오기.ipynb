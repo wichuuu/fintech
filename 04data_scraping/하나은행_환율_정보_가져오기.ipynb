{
 "cells": [
  {
   "cell_type": "markdown",
   "id": "15ac4534",
   "metadata": {},
   "source": [
    "# 하나은행에서 환율조회 부분 찾아서 selenium으로 열기\n",
    "* 날짜 입력 부분 찾아 날짜 넣기\n",
    "* 조회 버튼 찾아 버튼 클릭하기\n",
    "* 조회된 데이터를 pd.read_html을 이용해 dataframe으로 만들기\n",
    "* 데이터프레임에 조회 날짜 컬럼 만들어서 날짜 추가하기"
   ]
  },
  {
   "cell_type": "code",
   "execution_count": null,
   "id": "4811d8b2",
   "metadata": {},
   "outputs": [],
   "source": [
    "from selenium import webdriver\n",
    "from selenium.webdriver.chrome.service import Service\n",
    "from selenium.webdriver.chrome.options import Options\n",
    "from webdriver_manager.chrome import ChromeDriverManager\n",
    "from selenium.webdriver.common.by import By\n",
    "from selenium.webdriver.common.keys import Keys\n",
    "from datetime import datetime, timedelta\n",
    "import time\n",
    "import pandas as pd\n",
    "\n",
    "# from selenium.webdriver.support.ui import WebDriverWait, Select\n",
    "# from selenium.webdriver.support import expected_conditions as EC\n",
    "\n",
    "\n",
    "options = Options()\n",
    "options.add_experimental_option(\"detach\", True)\n",
    "# options.add_argument(\"Mozilla/5.0 (Windows NT 10.0; Win64; x64) AppleWebKit/537.36 (KHTML, like Gecko) Chrome/134.0.0.0 Safari/537.36\")\n",
    "options.add_argument(\"start-maximized\")\n",
    "options.add_argument(\"Chrome/134.0.0.0\")\n",
    "options.add_argument(\"lang=ko_KR\")\n",
    "\n",
    "driver = webdriver.Chrome(\n",
    "    service=Service(ChromeDriverManager().install()),\n",
    "    options=options\n",
    "    )\n",
    "driver.get(url)\n",
    "# time.sleep(2)\n",
    "\n",
    "url = \"https://www.kebhana.com/cms/rate/index.do?contentUrl=/cms/rate/wpfxd651_01i.do\"\n"
   ]
  },
  {
   "cell_type": "code",
   "execution_count": null,
   "id": "871c1c20",
   "metadata": {},
   "outputs": [],
   "source": [
    "date_input = driver.find_element(By.CSS_SELECTOR, \"#tmpInqStrDt\")\n",
    "date_input.clear()\n",
    "date_input.send_keys(\"20250408\")\n",
    "date_input.send_keys(Keys.ENTER)\n",
    "\n",
    "search_button = driver.find_element(By.CSS_SELECTOR, '#HANA_CONTENTS_DIV > div.btnBoxCenter > a')\n",
    "search_button.click()"
   ]
  },
  {
   "cell_type": "code",
   "execution_count": null,
   "id": "831003c9",
   "metadata": {},
   "outputs": [],
   "source": [
    "from io import StringIO"
   ]
  },
  {
   "cell_type": "code",
   "execution_count": null,
   "id": "a0c698d2",
   "metadata": {},
   "outputs": [],
   "source": [
    "df = pd.read_html(StringIO(driver.find_element(By.CSS_SELECTOR, '.tblBasic.leftNone').get_attribute(\"outerHTML\")))[0]\n",
    "df"
   ]
  },
  {
   "cell_type": "code",
   "execution_count": null,
   "id": "22dca34c",
   "metadata": {},
   "outputs": [],
   "source": [
    "df['date'] = \"2025-04-08\"\n",
    "df"
   ]
  },
  {
   "cell_type": "markdown",
   "id": "311b2119",
   "metadata": {},
   "source": [
    "# 날짜 생성하기\n",
    "* 1995-01-03 부터 어제까지의 2025-04-08 날짜 생성하기\n",
    "* 평일만 날짜 생성\n",
    "* 날짜 리스트에 모든 날짜 저장"
   ]
  },
  {
   "cell_type": "code",
   "execution_count": null,
   "id": "9ca53a16",
   "metadata": {},
   "outputs": [],
   "source": [
    "import datetime"
   ]
  },
  {
   "cell_type": "code",
   "execution_count": null,
   "id": "d1c27fb1",
   "metadata": {},
   "outputs": [],
   "source": [
    "current_date = datetime.date(2025, 4, 1)"
   ]
  },
  {
   "cell_type": "code",
   "execution_count": null,
   "id": "81e96f37",
   "metadata": {},
   "outputs": [],
   "source": [
    "current_date < day"
   ]
  },
  {
   "cell_type": "code",
   "execution_count": null,
   "id": "23dfb57c",
   "metadata": {},
   "outputs": [],
   "source": [
    "# weekday() 함수는 요일을 숫자로 표현,,\n",
    "# 월 0, 화 1, 수 2, 목 3, 금 4, 토 5, 일 6 \n",
    "\n",
    "for days in range(1, 10):\n",
    "#     print(current_date + datetime.timedelta(days=days))\n",
    "    day = current_date + datetime.timedelta(days=days)\n",
    "    if day.weekday() < 5:\n",
    "        print(day.weekday())"
   ]
  },
  {
   "cell_type": "markdown",
   "id": "52a09291",
   "metadata": {},
   "source": [
    "# 시작일과 끝일을 입력해서 평일만 생성하기"
   ]
  },
  {
   "cell_type": "code",
   "execution_count": null,
   "id": "f380d22d",
   "metadata": {},
   "outputs": [],
   "source": [
    "start_date = datetime.date(2025, 4, 1)\n",
    "end_date = datetime.date(2025, 4, 8)"
   ]
  },
  {
   "cell_type": "code",
   "execution_count": null,
   "id": "531f4d23",
   "metadata": {},
   "outputs": [],
   "source": [
    "date_list = []\n",
    "while start_date <= end_date:\n",
    "    if start_date.weekday() < 5:\n",
    "        date_list.append(start_date)\n",
    "    start_date += datetime.timedelta(days = 1)\n",
    "date_list"
   ]
  },
  {
   "cell_type": "code",
   "execution_count": null,
   "id": "cabffeee",
   "metadata": {},
   "outputs": [],
   "source": [
    "print(str(date_list[0]))replace(\"-\", \"\")"
   ]
  },
  {
   "cell_type": "markdown",
   "id": "5ec4502f",
   "metadata": {},
   "source": [
    "# 코드 합쳐서 전체 날짜 데이터 추출하기"
   ]
  },
  {
   "cell_type": "code",
   "execution_count": null,
   "id": "db771fd8",
   "metadata": {},
   "outputs": [],
   "source": [
    "def new_col(df):\n",
    "    new_cols = []\n",
    "    for col in df.columns:\n",
    "        if col[0] == col[1] == col[2]:\n",
    "            new_cols.append(col[0].replace(\" \", \"_\"))\n",
    "        else:\n",
    "            new_cols.append(\" \".join(col).strip().replace(\" \", \"_\"))\n",
    "    return new_cols"
   ]
  },
  {
   "cell_type": "code",
   "execution_count": null,
   "id": "26a1830d",
   "metadata": {},
   "outputs": [],
   "source": [
    "from selenium import webdriver\n",
    "from selenium.webdriver.chrome.service import Service\n",
    "from selenium.webdriver.chrome.options import Options\n",
    "from webdriver_manager.chrome import ChromeDriverManager\n",
    "from selenium.webdriver.common.by import By\n",
    "from selenium.webdriver.common.keys import Keys\n",
    "import datetime\n",
    "import time\n",
    "import pandas as pd\n",
    "from io import StringIO\n",
    "from selenium.webdriver.support.ui import WebDriverWait\n",
    "from selenium.webdriver.support import expected_conditions as EC\n",
    "from ex_dbio import to_ex_db\n",
    "\n",
    "# from selenium.webdriver.support.ui import WebDriverWait, Select\n",
    "# from selenium.webdriver.support import expected_conditions as EC\n",
    "\n",
    "\n",
    "options = Options()\n",
    "# options.add_experimental_option(\"detach\", True)\n",
    "# options.add_argument(\"Mozilla/5.0 (Windows NT 10.0; Win64; x64) AppleWebKit/537.36 (KHTML, like Gecko) Chrome/134.0.0.0 Safari/537.36\")\n",
    "options.add_argument(\"start-maximized\")\n",
    "options.add_argument(\"Chrome/134.0.0.0\")\n",
    "options.add_argument(\"lang=ko_KR\")\n",
    "options.add_argument(\"--headless\")\n",
    "options.add_argument(\"--disable-gpu\")\n",
    "options.add_argument(\"--no-sandbox\")\n",
    "\n",
    "\n",
    "\n",
    "\n",
    "\n",
    "driver = webdriver.Chrome(\n",
    "    service=Service(ChromeDriverManager().install()),\n",
    "    options=options\n",
    "    )\n",
    "\n",
    "url = \"https://www.kebhana.com/cms/rate/index.do?contentUrl=/cms/rate/wpfxd651_01i.do\"\n",
    "driver.get(url)\n",
    "\n",
    "wait = WebDriverWait(driver, 10)\n",
    "# driver.get(url)\n",
    "# time.sleep(2)\n",
    "\n",
    "\n",
    "\n",
    "\n",
    "start_date = datetime.date(1995, 1, 3)\n",
    "end_date = datetime.date(2025, 4, 10)\n",
    "\n",
    "date_list = []\n",
    "while start_date <= end_date:\n",
    "    if start_date.weekday() < 5:\n",
    "        date_list.append(start_date)\n",
    "    start_date += datetime.timedelta(days = 1)\n",
    "\n",
    "\n",
    "\n",
    "for date in date_list:\n",
    "    \n",
    "    # 날짜 입력\n",
    "    date_input = wait.until(EC.presence_of_element_located((By.CSS_SELECTOR, '#tmpInqStrDt')))\n",
    "    date_input.clear()\n",
    "    date_input.send_keys(str(date).replace(\"-\", \"\"))\n",
    "    date_input.send_keys(Keys.ENTER)\n",
    "\n",
    "    # 조회버튼 클릭\n",
    "    search_button = driver.find_element(By.CSS_SELECTOR, '#HANA_CONTENTS_DIV > div.btnBoxCenter > a')\n",
    "    search_button.click()\n",
    "    time.sleep(2)\n",
    "    df = pd.read_html(StringIO(driver.find_element(By.CSS_SELECTOR, '.tblBasic.leftNone').get_attribute(\"outerHTML\")))[0]\n",
    "    df['date'] = date\n",
    "    new_columns = new_col(df)\n",
    "    df.columns = new_columns\n",
    "    df = df[['date', '통화', '현찰_사실_때_환율', '현찰_사실_때_Spread', '현찰_파실_때_환율', '현찰_파실_때_Spread',\n",
    "       '송금_보낼_때_보낼_때', '송금_받을_때_받을_때', '외화_수표_파실때', '매매_기준율', '환가_료율',\n",
    "       '미화_환산율']]\n",
    "    to_ex_db(df)"
   ]
  },
  {
   "cell_type": "code",
   "execution_count": null,
   "id": "9f57d969",
   "metadata": {},
   "outputs": [],
   "source": [
    "df = df[[]]"
   ]
  },
  {
   "cell_type": "code",
   "execution_count": null,
   "id": "0d8f3b05",
   "metadata": {},
   "outputs": [],
   "source": [
    "start_date = datetime(1999, 1, 1)\n",
    "end_date = datetime(2025, 4, 8)"
   ]
  },
  {
   "cell_type": "code",
   "execution_count": null,
   "id": "a8efc798",
   "metadata": {},
   "outputs": [],
   "source": [
    "result = []"
   ]
  },
  {
   "cell_type": "code",
   "execution_count": null,
   "id": "60cbb929",
   "metadata": {},
   "outputs": [],
   "source": [
    "driver.find_element(By.ID, \"curCd\").text.split(\"\\n\")"
   ]
  },
  {
   "cell_type": "code",
   "execution_count": null,
   "id": "babce0d0",
   "metadata": {
    "scrolled": true
   },
   "outputs": [],
   "source": [
    "driver.find_element(By.ID, \"tmpInqStrDt\")"
   ]
  },
  {
   "cell_type": "code",
   "execution_count": null,
   "id": "02318a64",
   "metadata": {
    "scrolled": true
   },
   "outputs": [],
   "source": []
  },
  {
   "cell_type": "code",
   "execution_count": null,
   "id": "d9fcc324",
   "metadata": {},
   "outputs": [],
   "source": [
    "# import datetime\n",
    "# today = datetime.datetime.now()\n",
    "# date = f\"{today.year}-{today.month:02d}-{today.day:02d}\"\n",
    "# print(date)"
   ]
  },
  {
   "cell_type": "code",
   "execution_count": 1,
   "id": "17ce9a3c",
   "metadata": {},
   "outputs": [],
   "source": [
    "def new_col(df):\n",
    "    new_cols = []\n",
    "    for col in df.columns:\n",
    "        if col[0] == col[1] == col[2]:\n",
    "            new_cols.append(col[0].replace(\" \", \"_\"))\n",
    "        else:\n",
    "            new_cols.append(\" \".join(col).strip().replace(\" \", \"_\"))\n",
    "    return new_cols"
   ]
  },
  {
   "cell_type": "code",
   "execution_count": 3,
   "id": "60500539",
   "metadata": {},
   "outputs": [
    {
     "name": "stdout",
     "output_type": "stream",
     "text": [
      "2025-04-11 환율 정보 db 저장 완료\r"
     ]
    }
   ],
   "source": [
    "from selenium import webdriver\n",
    "from selenium.webdriver.chrome.service import Service\n",
    "from selenium.webdriver.chrome.options import Options\n",
    "from webdriver_manager.chrome import ChromeDriverManager\n",
    "from selenium.webdriver.common.by import By\n",
    "from selenium.webdriver.common.keys import Keys\n",
    "import datetime\n",
    "import time\n",
    "import pandas as pd\n",
    "from io import StringIO\n",
    "from selenium.webdriver.support.ui import WebDriverWait\n",
    "from selenium.webdriver.support import expected_conditions as EC\n",
    "from ex_dbio import to_ex_db_test\n",
    "\n",
    "# from selenium.webdriver.support.ui import WebDriverWait, Select\n",
    "# from selenium.webdriver.support import expected_conditions as EC\n",
    "\n",
    "\n",
    "options = Options()\n",
    "# options.add_experimental_option(\"detach\", True)\n",
    "# options.add_argument(\"Mozilla/5.0 (Windows NT 10.0; Win64; x64) AppleWebKit/537.36 (KHTML, like Gecko) Chrome/134.0.0.0 Safari/537.36\")\n",
    "options.add_argument(\"start-maximized\")\n",
    "options.add_argument(\"Chrome/134.0.0.0\")\n",
    "options.add_argument(\"lang=ko_KR\")\n",
    "options.add_argument(\"--headless\")\n",
    "options.add_argument(\"--disable-gpu\")\n",
    "options.add_argument(\"--no-sandbox\")\n",
    "\n",
    "\n",
    "\n",
    "\n",
    "\n",
    "driver = webdriver.Chrome(\n",
    "    service=Service(ChromeDriverManager().install()),\n",
    "    options=options\n",
    "    )\n",
    "\n",
    "url = \"https://www.kebhana.com/cms/rate/index.do?contentUrl=/cms/rate/wpfxd651_01i.do\"\n",
    "driver.get(url)\n",
    "\n",
    "wait = WebDriverWait(driver, 10)\n",
    "# driver.get(url)\n",
    "# time.sleep(2)\n",
    "\n",
    "# 오늘날짜 20250411 형식으로 가져오기\n",
    "today = datetime.datetime.now()\n",
    "date = f\"{today.year}-{today.month:02d}-{today.day:02d}\"\n",
    "    \n",
    "# 날짜 입력\n",
    "date_input = wait.until(EC.presence_of_element_located((By.CSS_SELECTOR, '#tmpInqStrDt')))\n",
    "date_input.clear()\n",
    "date_input.send_keys(date.replace(\"-\", \"\"))\n",
    "date_input.send_keys(Keys.ENTER)\n",
    "\n",
    "# 조회버튼 클릭\n",
    "search_button = driver.find_element(By.CSS_SELECTOR, '#HANA_CONTENTS_DIV > div.btnBoxCenter > a')\n",
    "search_button.click()\n",
    "time.sleep(2)\n",
    "df = pd.read_html(StringIO(driver.find_element(By.CSS_SELECTOR, '.tblBasic.leftNone').get_attribute(\"outerHTML\")))[0]\n",
    "df['date'] = date\n",
    "new_columns = new_col(df)\n",
    "df.columns = new_columns\n",
    "df = df[['date', '통화', '현찰_사실_때_환율', '현찰_사실_때_Spread', '현찰_파실_때_환율', '현찰_파실_때_Spread',\n",
    "   '송금_보낼_때_보낼_때', '송금_받을_때_받을_때', '외화_수표_파실때', '매매_기준율', '환가_료율',\n",
    "   '미화_환산율']]\n",
    "to_ex_db_test(df)\n",
    "print(f\"{date} 환율 정보 db 저장 완료\", end=\"\\r\")"
   ]
  }
 ],
 "metadata": {
  "kernelspec": {
   "display_name": "Python 3 (ipykernel)",
   "language": "python",
   "name": "python3"
  },
  "language_info": {
   "codemirror_mode": {
    "name": "ipython",
    "version": 3
   },
   "file_extension": ".py",
   "mimetype": "text/x-python",
   "name": "python",
   "nbconvert_exporter": "python",
   "pygments_lexer": "ipython3",
   "version": "3.9.21"
  }
 },
 "nbformat": 4,
 "nbformat_minor": 5
}
