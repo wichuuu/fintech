{
 "cells": [
  {
   "cell_type": "markdown",
   "id": "b13b219c",
   "metadata": {},
   "source": [
    "# 토스 리뷰 수집하기"
   ]
  },
  {
   "cell_type": "code",
   "execution_count": 53,
   "id": "3887cb45",
   "metadata": {},
   "outputs": [
    {
     "name": "stdout",
     "output_type": "stream",
     "text": [
      "리뷰 버튼 클릭 완료\n"
     ]
    }
   ],
   "source": [
    "from selenium import webdriver\n",
    "from selenium.webdriver.chrome.service import Service\n",
    "from selenium.webdriver.chrome.options import Options\n",
    "from webdriver_manager.chrome import ChromeDriverManager\n",
    "from selenium.webdriver.common.by import By\n",
    "from selenium.webdriver.common.keys import Keys\n",
    "from datetime import datetime, timedelta\n",
    "import time\n",
    "import pandas as pd\n",
    "from io import StringIO\n",
    "from selenium.webdriver.support.ui import WebDriverWait\n",
    "from selenium.webdriver.support import expected_conditions as EC\n",
    "\n",
    "\n",
    "options = Options()\n",
    "# options.add_experimental_option(\"detach\", True)\n",
    "# options.add_argument(\"Mozilla/5.0 (Windows NT 10.0; Win64; x64) AppleWebKit/537.36 (KHTML, like Gecko) Chrome/134.0.0.0 Safari/537.36\")\n",
    "options.add_argument(\"start-maximized\")\n",
    "options.add_argument(\"Chrome/134.0.0.0\")\n",
    "options.add_argument(\"lang=ko_KR\")\n",
    "# options.add_argument(\"--headless\")\n",
    "options.add_argument(\"--disable-gpu\")\n",
    "options.add_argument(\"--no-sandbox\")\n",
    "\n",
    "\n",
    "driver = webdriver.Chrome(\n",
    "    service=Service(ChromeDriverManager().install()),\n",
    "    options=options\n",
    "    )\n",
    "\n",
    "url = \"https://play.google.com/store/apps/details?id=viva.republica.toss\"\n",
    "driver.get(url)\n",
    "\n",
    "driver.execute_script(f\"window.scrollTo({0}, {1400})\")\n",
    "\n",
    "\n",
    "\n",
    "wait = WebDriverWait(driver, 5)\n",
    "\n",
    "time.sleep(10)\n",
    "\n",
    "\n",
    "\n",
    "\n",
    "\n",
    "review_button = wait.until(EC.element_to_be_clickable(\n",
    "    (By.CSS_SELECTOR, 'button[aria-label=\"평점 및 리뷰 자세히 알아보기\"]')\n",
    "))\n",
    "review_button.click()\n",
    "print(\"리뷰 버튼 클릭 완료\")\n",
    "\n",
    "\n",
    "\n",
    "\n",
    "# # 4. 팝업 내 \"정렬 옵션\" 클릭\n",
    "\n",
    "\n",
    "# sort_button = driver.find_element(By.CSS_SELECTOR, 'div#sortBy_1')\n",
    "# sort_button.click()\n",
    "# print(\"정렬 버튼 클릭 완료\")\n",
    "\n",
    "\n",
    "\n",
    "\n",
    "# review_button = wait.until(By.CSS_SELECTOR, 'div.kW9Bj > span.ypTNYd')\n",
    "# review_button.click()\n",
    "# print(\"최신순 버튼 클릭 완료\")\n",
    "\n",
    "\n",
    "\n",
    "\n",
    "#5. \"최신순\" 선택 (inner text를 기준으로 선택)\n",
    "# wait = WebDriverWait(driver, 10)\n",
    "# review_button = wait.until(EC.element_to_be_clickable(\n",
    "#     (By.CSS_SELECTOR, 'span[aria-label*=\"최신\"]')\n",
    "# ))\n",
    "# review_button.click()\n",
    "# print(\"최신순 버튼 클릭 완료\")\n",
    "# # latest_option.click()\n",
    "\n",
    "# #리뷰가 담긴 창을 찾아서 Javascript로 100px씩 아래로 스크롤\n",
    "# driver.execute_script(\"document.querySelector('.fysCi.Vk3ZVd').scrollBy(0, 1000)\")\n",
    "\n",
    "\n",
    "# #리뷰일\n",
    "# driver.find_element(By.CSS_SELECTOR, \"div.Jx4nYe > span.bp9Aid\").text\n",
    "\n",
    "# #사용자리뷰\n",
    "# driver.find_element(BY.CSS_SELECTOR, \"div.h3YV2d\").text\n",
    "\n",
    "# driver.find_element(By.CSS_SELECTOR, \"div.ras4vb\").get_attribute(\"innerHTML\")\n"
   ]
  },
  {
   "cell_type": "code",
   "execution_count": 56,
   "id": "bec076bd",
   "metadata": {},
   "outputs": [
    {
     "name": "stdout",
     "output_type": "stream",
     "text": [
      "정렬 버튼 클릭 완료\n"
     ]
    }
   ],
   "source": [
    "sort_button = driver.find_element(By.CSS_SELECTOR, 'div#sortBy_1')\n",
    "sort_button.click()\n",
    "print(\"정렬 버튼 클릭 완료\")"
   ]
  },
  {
   "cell_type": "code",
   "execution_count": 59,
   "id": "b135d35b",
   "metadata": {},
   "outputs": [
    {
     "name": "stdout",
     "output_type": "stream",
     "text": [
      "최신순 버튼 클릭 완료\n"
     ]
    }
   ],
   "source": [
    "# 최신을 찾아 클릭\n",
    "wait = WebDriverWait(driver, 10)\n",
    "button = wait.until(EC.element_to_be_clickable((By.CSS_SELECTOR, \"span[aria-label*='최신']\")))\n",
    "button.click()\n",
    "print(\"최신순 버튼 클릭 완료\")"
   ]
  },
  {
   "cell_type": "code",
   "execution_count": 60,
   "id": "ef5e29e2",
   "metadata": {},
   "outputs": [
    {
     "name": "stdout",
     "output_type": "stream",
     "text": [
      "스크롤 완료\n"
     ]
    }
   ],
   "source": [
    "# #리뷰가 담긴 창을 찾아서 Javascript로 100px씩 아래로 스크롤\n",
    "driver.execute_script(\"document.querySelector('.fysCi.Vk3ZVd').scrollBy(0, 1000)\")\n",
    "print(\"스크롤 완료\")"
   ]
  },
  {
   "cell_type": "code",
   "execution_count": 61,
   "id": "4f731b2a",
   "metadata": {},
   "outputs": [
    {
     "data": {
      "text/plain": [
       "'1'"
      ]
     },
     "execution_count": 61,
     "metadata": {},
     "output_type": "execute_result"
    }
   ],
   "source": [
    "# 별점\n",
    "driver.find_element(By.CSS_SELECTOR, \"div.Jx4nYe > div\").get_attribute(\"aria-label\").split()[3][0]"
   ]
  },
  {
   "cell_type": "code",
   "execution_count": 62,
   "id": "6fa702a4",
   "metadata": {},
   "outputs": [],
   "source": [
    "# #리뷰일\n",
    "review_date = driver.find_element(By.CSS_SELECTOR, \"div.Jx4nYe > span.bp9Aid\").text"
   ]
  },
  {
   "cell_type": "code",
   "execution_count": 63,
   "id": "a38531bb",
   "metadata": {},
   "outputs": [
    {
     "data": {
      "text/plain": [
       "'첫화면 계좌 설정을 왜 시스템이 설정하게 하나요... 제가 원하는 대로 설정 다 해놨는데 멋대로 고정시켜놔서 확인만 더 불편해졌습니다. 정말 이용자가 사용하기 쉽게 업데이트 한게 맞나요?? 이렇게 아무런 통지도 없이 갑작스럽게 시스템 변경하고 잔액 확인하는게 너무 불편해져서 화나네요. 자율성이 떨어져서 이용성이 매우 떨어집니다. 사용하기 쉬운걸로 유명한 토스니까 이 문제도 곧바로 해결해 주실거라 믿습니다. 다시 사용자가 원하는대로 홈화면 설정할 수 있도록 변경해주세요. 계속 이 상태가 계속되면 어쩔 수 없이 토스 계좌를 없애는 것이 방법이 될 수밖에 없네요. 토스의 장점이 없어졌습니다.'"
      ]
     },
     "execution_count": 63,
     "metadata": {},
     "output_type": "execute_result"
    }
   ],
   "source": [
    "# #사용자리뷰\n",
    "driver.find_element(By.CSS_SELECTOR, \"div.h3YV2d\").text"
   ]
  },
  {
   "cell_type": "code",
   "execution_count": 64,
   "id": "b0c2ab1c",
   "metadata": {},
   "outputs": [
    {
     "data": {
      "text/plain": [
       "'<div>안녕하세요. 수징 님, 토스팀입니다. 토스를 이용하시면서 느끼신 소중한 의견을 주셔서 감사합니다. 반영될 수 있다 확답 드리기는 어려우나, 고객님께서 말씀해주신 내용은 팀내에 공유하여 보다 편리한 토스 사용 경험을 하실 수 있도록 노력 하겠습니다. 다른 문의 사항이 있다면 24시간 운영되는 카카오톡(@toss) 또는 고객센터 1599-4905로 문의 부탁드립니다. 감사합니다.</div>'"
      ]
     },
     "execution_count": 64,
     "metadata": {},
     "output_type": "execute_result"
    }
   ],
   "source": [
    "driver.find_element(By.CSS_SELECTOR, \"div.ras4vb\").get_attribute(\"innerHTML\")"
   ]
  },
  {
   "cell_type": "code",
   "execution_count": 65,
   "id": "8711634d",
   "metadata": {},
   "outputs": [
    {
     "data": {
      "text/plain": [
       "'<div>안녕하세요. 수징 님, 토스팀입니다. 토스를 이용하시면서 느끼신 소중한 의견을 주셔서 감사합니다. 반영될 수 있다 확답 드리기는 어려우나, 고객님께서 말씀해주신 내용은 팀내에 공유하여 보다 편리한 토스 사용 경험을 하실 수 있도록 노력 하겠습니다. 다른 문의 사항이 있다면 24시간 운영되는 카카오톡(@toss) 또는 고객센터 1599-4905로 문의 부탁드립니다. 감사합니다.</div>'"
      ]
     },
     "execution_count": 65,
     "metadata": {},
     "output_type": "execute_result"
    }
   ],
   "source": [
    "driver.find_element(By.CSS_SELECTOR, \"div.ocpBU div.ras4vb \").get_attribute(\"innerHTML\")"
   ]
  },
  {
   "cell_type": "code",
   "execution_count": 69,
   "id": "a96a2551",
   "metadata": {},
   "outputs": [
    {
     "ename": "ValueError",
     "evalue": "time data '2025- 4- 11' does not match format '%Y-%m-%d'",
     "output_type": "error",
     "traceback": [
      "\u001b[1;31m---------------------------------------------------------------------------\u001b[0m",
      "\u001b[1;31mValueError\u001b[0m                                Traceback (most recent call last)",
      "Cell \u001b[1;32mIn[69], line 4\u001b[0m\n\u001b[0;32m      1\u001b[0m \u001b[38;5;66;03m# 리뷰일을 날짜형 데이터로 변경\u001b[39;00m\n\u001b[0;32m      2\u001b[0m \u001b[38;5;66;03m# datetime.striptime(yyyy-mm-dd, '%Y-%m-%d')\u001b[39;00m\n\u001b[0;32m      3\u001b[0m review_date \u001b[38;5;241m=\u001b[39m review_date\u001b[38;5;241m.\u001b[39mreplace(\u001b[38;5;124m\"\u001b[39m\u001b[38;5;124m년 \u001b[39m\u001b[38;5;124m\"\u001b[39m, \u001b[38;5;124m\"\u001b[39m\u001b[38;5;124m-\u001b[39m\u001b[38;5;124m\"\u001b[39m)\u001b[38;5;241m.\u001b[39mreplace(\u001b[38;5;124m\"\u001b[39m\u001b[38;5;124m월 \u001b[39m\u001b[38;5;124m\"\u001b[39m, \u001b[38;5;124m\"\u001b[39m\u001b[38;5;124m-\u001b[39m\u001b[38;5;124m\"\u001b[39m)\u001b[38;5;241m.\u001b[39mreplace(\u001b[38;5;124m\"\u001b[39m\u001b[38;5;124m일\u001b[39m\u001b[38;5;124m\"\u001b[39m, \u001b[38;5;124m\"\u001b[39m\u001b[38;5;124m\"\u001b[39m)\n\u001b[1;32m----> 4\u001b[0m review_date \u001b[38;5;241m=\u001b[39m \u001b[43mdatetime\u001b[49m\u001b[38;5;241;43m.\u001b[39;49m\u001b[43mstrptime\u001b[49m\u001b[43m(\u001b[49m\u001b[43mreview_date\u001b[49m\u001b[43m,\u001b[49m\u001b[43m \u001b[49m\u001b[38;5;124;43m'\u001b[39;49m\u001b[38;5;124;43m%\u001b[39;49m\u001b[38;5;124;43mY-\u001b[39;49m\u001b[38;5;124;43m%\u001b[39;49m\u001b[38;5;124;43mm-\u001b[39;49m\u001b[38;5;132;43;01m%d\u001b[39;49;00m\u001b[38;5;124;43m'\u001b[39;49m\u001b[43m)\u001b[49m\n\u001b[0;32m      5\u001b[0m review_date\n",
      "File \u001b[1;32m~\\miniforge3\\envs\\fintech\\lib\\_strptime.py:568\u001b[0m, in \u001b[0;36m_strptime_datetime\u001b[1;34m(cls, data_string, format)\u001b[0m\n\u001b[0;32m    565\u001b[0m \u001b[38;5;28;01mdef\u001b[39;00m\u001b[38;5;250m \u001b[39m\u001b[38;5;21m_strptime_datetime\u001b[39m(\u001b[38;5;28mcls\u001b[39m, data_string, \u001b[38;5;28mformat\u001b[39m\u001b[38;5;241m=\u001b[39m\u001b[38;5;124m\"\u001b[39m\u001b[38;5;132;01m%a\u001b[39;00m\u001b[38;5;124m \u001b[39m\u001b[38;5;124m%\u001b[39m\u001b[38;5;124mb \u001b[39m\u001b[38;5;132;01m%d\u001b[39;00m\u001b[38;5;124m \u001b[39m\u001b[38;5;124m%\u001b[39m\u001b[38;5;124mH:\u001b[39m\u001b[38;5;124m%\u001b[39m\u001b[38;5;124mM:\u001b[39m\u001b[38;5;124m%\u001b[39m\u001b[38;5;124mS \u001b[39m\u001b[38;5;124m%\u001b[39m\u001b[38;5;124mY\u001b[39m\u001b[38;5;124m\"\u001b[39m):\n\u001b[0;32m    566\u001b[0m \u001b[38;5;250m    \u001b[39m\u001b[38;5;124;03m\"\"\"Return a class cls instance based on the input string and the\u001b[39;00m\n\u001b[0;32m    567\u001b[0m \u001b[38;5;124;03m    format string.\"\"\"\u001b[39;00m\n\u001b[1;32m--> 568\u001b[0m     tt, fraction, gmtoff_fraction \u001b[38;5;241m=\u001b[39m \u001b[43m_strptime\u001b[49m\u001b[43m(\u001b[49m\u001b[43mdata_string\u001b[49m\u001b[43m,\u001b[49m\u001b[43m \u001b[49m\u001b[38;5;28;43mformat\u001b[39;49m\u001b[43m)\u001b[49m\n\u001b[0;32m    569\u001b[0m     tzname, gmtoff \u001b[38;5;241m=\u001b[39m tt[\u001b[38;5;241m-\u001b[39m\u001b[38;5;241m2\u001b[39m:]\n\u001b[0;32m    570\u001b[0m     args \u001b[38;5;241m=\u001b[39m tt[:\u001b[38;5;241m6\u001b[39m] \u001b[38;5;241m+\u001b[39m (fraction,)\n",
      "File \u001b[1;32m~\\miniforge3\\envs\\fintech\\lib\\_strptime.py:349\u001b[0m, in \u001b[0;36m_strptime\u001b[1;34m(data_string, format)\u001b[0m\n\u001b[0;32m    347\u001b[0m found \u001b[38;5;241m=\u001b[39m format_regex\u001b[38;5;241m.\u001b[39mmatch(data_string)\n\u001b[0;32m    348\u001b[0m \u001b[38;5;28;01mif\u001b[39;00m \u001b[38;5;129;01mnot\u001b[39;00m found:\n\u001b[1;32m--> 349\u001b[0m     \u001b[38;5;28;01mraise\u001b[39;00m \u001b[38;5;167;01mValueError\u001b[39;00m(\u001b[38;5;124m\"\u001b[39m\u001b[38;5;124mtime data \u001b[39m\u001b[38;5;132;01m%r\u001b[39;00m\u001b[38;5;124m does not match format \u001b[39m\u001b[38;5;132;01m%r\u001b[39;00m\u001b[38;5;124m\"\u001b[39m \u001b[38;5;241m%\u001b[39m\n\u001b[0;32m    350\u001b[0m                      (data_string, \u001b[38;5;28mformat\u001b[39m))\n\u001b[0;32m    351\u001b[0m \u001b[38;5;28;01mif\u001b[39;00m \u001b[38;5;28mlen\u001b[39m(data_string) \u001b[38;5;241m!=\u001b[39m found\u001b[38;5;241m.\u001b[39mend():\n\u001b[0;32m    352\u001b[0m     \u001b[38;5;28;01mraise\u001b[39;00m \u001b[38;5;167;01mValueError\u001b[39;00m(\u001b[38;5;124m\"\u001b[39m\u001b[38;5;124munconverted data remains: \u001b[39m\u001b[38;5;132;01m%s\u001b[39;00m\u001b[38;5;124m\"\u001b[39m \u001b[38;5;241m%\u001b[39m\n\u001b[0;32m    353\u001b[0m                       data_string[found\u001b[38;5;241m.\u001b[39mend():])\n",
      "\u001b[1;31mValueError\u001b[0m: time data '2025- 4- 11' does not match format '%Y-%m-%d'"
     ]
    }
   ],
   "source": [
    "# 리뷰일을 날짜형 데이터로 변경\n",
    "# datetime.striptime(yyyy-mm-dd, '%Y-%m-%d')\n",
    "review_date = review_date.replace(\"년 \", \"-\").replace(\"월 \", \"-\").replace(\"일\", \"\")\n",
    "review_date = datetime.strptime(review_date, '%Y-%m-%d')\n",
    "review_date"
   ]
  },
  {
   "cell_type": "code",
   "execution_count": 70,
   "id": "9577d8f8",
   "metadata": {},
   "outputs": [],
   "source": [
    "today = datetime.today()\n",
    "today = today - timedelta(days=30)"
   ]
  },
  {
   "cell_type": "code",
   "execution_count": 72,
   "id": "22d434e0",
   "metadata": {},
   "outputs": [
    {
     "ename": "TypeError",
     "evalue": "'WebElement' object is not subscriptable",
     "output_type": "error",
     "traceback": [
      "\u001b[1;31m---------------------------------------------------------------------------\u001b[0m",
      "\u001b[1;31mTypeError\u001b[0m                                 Traceback (most recent call last)",
      "Cell \u001b[1;32mIn[72], line 2\u001b[0m\n\u001b[0;32m      1\u001b[0m review \u001b[38;5;241m=\u001b[39m driver\u001b[38;5;241m.\u001b[39mfind_elements(By\u001b[38;5;241m.\u001b[39mCSS_SELECTOR, \u001b[38;5;124m\"\u001b[39m\u001b[38;5;124m.RHo1pe\u001b[39m\u001b[38;5;124m\"\u001b[39m)[\u001b[38;5;241m-\u001b[39m\u001b[38;5;241m1\u001b[39m]\n\u001b[1;32m----> 2\u001b[0m end_date \u001b[38;5;241m=\u001b[39m \u001b[43mreview\u001b[49m\u001b[43m[\u001b[49m\u001b[38;5;241;43m0\u001b[39;49m\u001b[43m]\u001b[49m\u001b[38;5;241m.\u001b[39mfind_element(By\u001b[38;5;241m.\u001b[39mCSS_SELECTOR, \u001b[38;5;124m\"\u001b[39m\u001b[38;5;124mdiv.Jx4nYe > span.bp9Aid\u001b[39m\u001b[38;5;124m\"\u001b[39m)\u001b[38;5;241m.\u001b[39mtext\n\u001b[0;32m      3\u001b[0m end_date \u001b[38;5;241m=\u001b[39m end_date\u001b[38;5;241m.\u001b[39mreview_date\u001b[38;5;241m.\u001b[39mreplace(\u001b[38;5;124m\"\u001b[39m\u001b[38;5;124m년\u001b[39m\u001b[38;5;124m\"\u001b[39m, \u001b[38;5;124m\"\u001b[39m\u001b[38;5;124m-\u001b[39m\u001b[38;5;124m\"\u001b[39m)\u001b[38;5;241m.\u001b[39mreplace(\u001b[38;5;124m\"\u001b[39m\u001b[38;5;124m월\u001b[39m\u001b[38;5;124m\"\u001b[39m, \u001b[38;5;124m\"\u001b[39m\u001b[38;5;124m-\u001b[39m\u001b[38;5;124m\"\u001b[39m)\u001b[38;5;241m.\u001b[39mreplace(\u001b[38;5;124m\"\u001b[39m\u001b[38;5;124m일\u001b[39m\u001b[38;5;124m\"\u001b[39m, \u001b[38;5;124m\"\u001b[39m\u001b[38;5;124m\"\u001b[39m)\n\u001b[0;32m      4\u001b[0m end_date \u001b[38;5;241m=\u001b[39m datetime\u001b[38;5;241m.\u001b[39mstrptime(end_date, \u001b[38;5;124m\"\u001b[39m\u001b[38;5;124m%\u001b[39m\u001b[38;5;124mY-\u001b[39m\u001b[38;5;124m%\u001b[39m\u001b[38;5;124mm-\u001b[39m\u001b[38;5;132;01m%d\u001b[39;00m\u001b[38;5;124m\"\u001b[39m)\n",
      "\u001b[1;31mTypeError\u001b[0m: 'WebElement' object is not subscriptable"
     ]
    }
   ],
   "source": [
    "review = driver.find_elements(By.CSS_SELECTOR, \".RHo1pe\")[-1]\n",
    "end_date = review[0].find_element(By.CSS_SELECTOR, \"div.Jx4nYe > span.bp9Aid\").text\n",
    "end_date = end_date.review_date.replace(\"년\", \"-\").replace(\"월\", \"-\").replace(\"일\", \"\")\n",
    "end_date = datetime.strptime(end_date, \"%Y-%m-%d\")\n",
    "end_date"
   ]
  },
  {
   "cell_type": "code",
   "execution_count": 73,
   "id": "502c8e0f",
   "metadata": {},
   "outputs": [
    {
     "ename": "NameError",
     "evalue": "name 'twoyrago' is not defined",
     "output_type": "error",
     "traceback": [
      "\u001b[1;31m---------------------------------------------------------------------------\u001b[0m",
      "\u001b[1;31mNameError\u001b[0m                                 Traceback (most recent call last)",
      "Cell \u001b[1;32mIn[73], line 1\u001b[0m\n\u001b[1;32m----> 1\u001b[0m \u001b[38;5;28mprint\u001b[39m(end_date, \u001b[43mtwoyrago\u001b[49m)\n\u001b[0;32m      2\u001b[0m end_date \u001b[38;5;241m<\u001b[39m twoyrago\n",
      "\u001b[1;31mNameError\u001b[0m: name 'twoyrago' is not defined"
     ]
    }
   ],
   "source": [
    "print(end_date, twoyrago)\n",
    "end_date < twoyrago"
   ]
  },
  {
   "cell_type": "markdown",
   "id": "8b5f0ee5",
   "metadata": {},
   "source": [
    "# 개별 코드 합치기"
   ]
  },
  {
   "cell_type": "code",
   "execution_count": 3,
   "id": "285e84bf",
   "metadata": {},
   "outputs": [
    {
     "name": "stdout",
     "output_type": "stream",
     "text": [
      "최신순 버튼 클릭 완료\n",
      "현재 리뷰 날짜:2025-03-15 11:14:04.179440, 리뷰수: 20\r"
     ]
    },
    {
     "ename": "TypeError",
     "evalue": "'<' not supported between instances of 'str' and 'datetime.datetime'",
     "output_type": "error",
     "traceback": [
      "\u001b[1;31m---------------------------------------------------------------------------\u001b[0m",
      "\u001b[1;31mTypeError\u001b[0m                                 Traceback (most recent call last)",
      "Cell \u001b[1;32mIn[3], line 92\u001b[0m\n\u001b[0;32m     89\u001b[0m     reviews \u001b[38;5;241m=\u001b[39m driver\u001b[38;5;241m.\u001b[39mfind_elements(By\u001b[38;5;241m.\u001b[39mCSS_SELECTOR, \u001b[38;5;124m\"\u001b[39m\u001b[38;5;124m.RHo1pe\u001b[39m\u001b[38;5;124m\"\u001b[39m)\n\u001b[0;32m     90\u001b[0m     \u001b[38;5;28mprint\u001b[39m(\u001b[38;5;124mf\u001b[39m\u001b[38;5;124m\"\u001b[39m\u001b[38;5;124m현재 리뷰 날짜:\u001b[39m\u001b[38;5;132;01m{\u001b[39;00mend_date\u001b[38;5;132;01m}\u001b[39;00m\u001b[38;5;124m, 리뷰수: \u001b[39m\u001b[38;5;132;01m{\u001b[39;00m\u001b[38;5;28mlen\u001b[39m(reviews)\u001b[38;5;132;01m}\u001b[39;00m\u001b[38;5;124m\"\u001b[39m, end\u001b[38;5;241m=\u001b[39m\u001b[38;5;124m\"\u001b[39m\u001b[38;5;130;01m\\r\u001b[39;00m\u001b[38;5;124m\"\u001b[39m)\n\u001b[1;32m---> 92\u001b[0m \u001b[38;5;28;01mif\u001b[39;00m \u001b[43mcurrent_date\u001b[49m\u001b[43m \u001b[49m\u001b[38;5;241;43m<\u001b[39;49m\u001b[43m \u001b[49m\u001b[43mend_date\u001b[49m:\n\u001b[0;32m     93\u001b[0m     \u001b[38;5;28;01mbreak\u001b[39;00m\n",
      "\u001b[1;31mTypeError\u001b[0m: '<' not supported between instances of 'str' and 'datetime.datetime'"
     ]
    }
   ],
   "source": [
    "from selenium import webdriver\n",
    "from selenium.webdriver.chrome.service import Service\n",
    "from selenium.webdriver.chrome.options import Options\n",
    "from webdriver_manager.chrome import ChromeDriverManager\n",
    "from selenium.webdriver.common.by import By\n",
    "from selenium.webdriver.common.keys import Keys\n",
    "from datetime import datetime, timedelta\n",
    "import time\n",
    "from tqdm import tqdm\n",
    "import pandas as pd\n",
    "from io import StringIO\n",
    "from selenium.webdriver.support.ui import WebDriverWait\n",
    "from selenium.webdriver.support import expected_conditions as EC\n",
    "\n",
    "\n",
    "options = Options()\n",
    "# options.add_experimental_option(\"detach\", True)\n",
    "# options.add_argument(\"Mozilla/5.0 (Windows NT 10.0; Win64; x64) AppleWebKit/537.36 (KHTML, like Gecko) Chrome/134.0.0.0 Safari/537.36\")\n",
    "options.add_argument(\"start-maximized\")\n",
    "options.add_argument(\"Chrome/134.0.0.0\")\n",
    "options.add_argument(\"lang=ko_KR\")\n",
    "# options.add_argument(\"--headless\")\n",
    "options.add_argument(\"--disable-gpu\")\n",
    "options.add_argument(\"--no-sandbox\")\n",
    "\n",
    "\n",
    "driver = webdriver.Chrome(\n",
    "    service=Service(ChromeDriverManager().install()),\n",
    "    options=options\n",
    "    )\n",
    "\n",
    "url = \"https://play.google.com/store/apps/details?id=viva.republica.toss\"\n",
    "driver.get(url)\n",
    "\n",
    "driver.execute_script(f\"window.scrollTo({0}, {1400})\")\n",
    "\n",
    "\n",
    "\n",
    "wait = WebDriverWait(driver, 5)\n",
    "\n",
    "time.sleep(10)\n",
    "\n",
    "\n",
    "\n",
    "\n",
    "\n",
    "review_button = wait.until(EC.element_to_be_clickable(\n",
    "    (By.CSS_SELECTOR, 'button[aria-label=\"평점 및 리뷰 자세히 알아보기\"]')\n",
    "))\n",
    "review_button.click()\n",
    "# print(\"리뷰 버튼 클릭 완료\")\n",
    "\n",
    "time.sleep(1)\n",
    "\n",
    "sort_button = driver.find_element(By.CSS_SELECTOR, 'div#sortBy_1')\n",
    "sort_button.click()\n",
    "# print(\"정렬 버튼 클릭 완료\")\n",
    "\n",
    "time.sleep(1)\n",
    "\n",
    "# 최신을 찾아 클릭\n",
    "wait = WebDriverWait(driver, 10)\n",
    "button = wait.until(EC.element_to_be_clickable((By.CSS_SELECTOR, \"span[aria-label*='최신']\")))\n",
    "button.click()\n",
    "print(\"최신순 버튼 클릭 완료\")\n",
    "\n",
    "\n",
    "time.sleep(1)\n",
    "\n",
    "\n",
    "# 오늘로부터 1달 전 날짜\n",
    "today = datetime.today()\n",
    "end_date = today - timedelta(days=30)\n",
    "current_date = \"\"\n",
    "reviews = \"\"\n",
    "\n",
    "while True:\n",
    "    \n",
    "    \n",
    "    try:\n",
    "        driver.execute_script(\"document.querySelector('.fysCi.Vk3ZVd').scrollBy(0, 1000)\")\n",
    "        time.sleep(1)\n",
    "\n",
    "        reviews = driver.find_elements(By.CSS_SELECTOR, \".RHo1pe\")\n",
    "        current_date = reviews[-1].find_element(By.CSS_SELECTOR, \"div.Jx4nYe > span.bp9Aid\").text\n",
    "        current_date = current_date.replace(\"년\", \"-\").replace(\"월\", \"-\").replace(\"일\", \"\")\n",
    "        current_date = datetime.strptime(current_date, \"%Y-%m-%d\")\n",
    "        print(f\"현재 리뷰 날짜:{end_date}, 리뷰수: {len(reviews)}\", end=\"\\r\")\n",
    "    except:\n",
    "        reviews = driver.find_elements(By.CSS_SELECTOR, \".RHo1pe\")\n",
    "        print(f\"현재 리뷰 날짜:{end_date}, 리뷰수: {len(reviews)}\", end=\"\\r\")\n",
    "        \n",
    "    if current_date < end_date:\n",
    "        break\n",
    "        \n",
    "        \n",
    "############################################################\n",
    "# 리뷰 추출 부분\n",
    "\n",
    "all_result = []\n",
    "for review in tqdm(reviews):\n",
    "# #리뷰일\n",
    "    driver.find_element(By.CSS_SELECTOR, \"div.Jx4nYe > span.bp9Aid\").text\n",
    "    # 리뷰일 날짜 데이터로\n",
    "    review_date = review_date.replace(\"년 \", \"-\").replace(\"월 \", \"-\").replace(\"일\", \"\")\n",
    "    review_date = datetime.strptime(review_date, '%Y-%m-%d')\n",
    "    # 별점\n",
    "    rating = review.find_element(By.CSS_SELECTOR, \"div.Jx4nYe > div\").get_attribute(\"aria-label\").split()[3][0]\n",
    "    # #사용자리뷰\n",
    "    user_review = review.find_element(By.CSS_SELECTOR, \"div.h3YV2d\").text\n",
    "\n",
    "    #업체댓글\n",
    "    try:\n",
    "        reply = review.find_element(By.CSS_SELECTOR, \"div.ocpBU div.ras4vb \").get_attribute(\"innerHTML\")\n",
    "    except:\n",
    "        reply = None\n",
    "    result = (reveiw_date, rating, user_review, reply)\n",
    "    all_result.append(result)\n",
    "result_df = pd.DataFrame(all_result, columns = ['리뷰일', '평점', '사용자리뷰', '업체답변'])\n",
    "result_df.to_csv(\"./scraping_results/viva_republica_toss_review.csv\", index=False, encoding=\"utf-8-sig\")"
   ]
  },
  {
   "cell_type": "code",
   "execution_count": null,
   "id": "8d525583",
   "metadata": {},
   "outputs": [],
   "source": [
    "result_df.to_csv(\"./scraping_results/viva_republica_toss_review.csv\", index=False, encoding=\"utf-8-sig\")"
   ]
  },
  {
   "cell_type": "code",
   "execution_count": null,
   "id": "f6992d56",
   "metadata": {},
   "outputs": [],
   "source": [
    "result_df"
   ]
  },
  {
   "cell_type": "code",
   "execution_count": null,
   "id": "2d4e6a30",
   "metadata": {},
   "outputs": [],
   "source": [
    "from tqdm import tqdm\n",
    "\n",
    "all_result = []\n",
    "for review in tqdm(reviews):\n",
    "# #리뷰일\n",
    "    driver.find_element(By.CSS_SELECTOR, \"div.Jx4nYe > span.bp9Aid\").text\n",
    "    # 리뷰일 날짜 데이터로\n",
    "    review_date = review_date.replace(\"년 \", \"-\").replace(\"월 \", \"-\").replace(\"일\", \"\")\n",
    "    review_date = datetime.strptime(review_date, '%Y-%m-%d')\n",
    "    # 별점\n",
    "    rating = review.find_element(By.CSS_SELECTOR, \"div.Jx4nYe > div\").get_attribute(\"aria-label\").split()[3][0]\n",
    "    # #사용자리뷰\n",
    "    user_review = review.find_element(By.CSS_SELECTOR, \"div.h3YV2d\").text\n",
    "\n",
    "    #업체댓글\n",
    "    try:\n",
    "        reply = review.find_element(By.CSS_SELECTOR, \"div.ocpBU div.ras4vb \").get_attribute(\"innerHTML\")\n",
    "    except:\n",
    "        reply = None\n",
    "    result = (reveiw_date, rating, user_review, reply)\n",
    "    all_result.append(result)\n",
    "result_df = pd.DataFrame(all_result, columns = ['리뷰일', '평점', '사용자리뷰', '업체답변'])\n",
    "result_df"
   ]
  },
  {
   "cell_type": "code",
   "execution_count": null,
   "id": "47e9f953",
   "metadata": {},
   "outputs": [],
   "source": [
    "from selenium import webdriver\n",
    "from selenium.webdriver.chrome.service import Service\n",
    "from selenium.webdriver.chrome.options import Options\n",
    "from webdriver_manager.chrome import ChromeDriverManager\n",
    "from selenium.webdriver.common.by import By\n",
    "from selenium.webdriver.common.keys import Keys\n",
    "from datetime import datetime, timedelta\n",
    "import time\n",
    "from tqdm import tqdm\n",
    "import pandas as pd\n",
    "from io import StringIO\n",
    "from selenium.webdriver.support.ui import WebDriverWait\n",
    "from selenium.webdriver.support import expected_conditions as EC\n",
    "\n",
    "\n",
    "options = Options()\n",
    "# options.add_experimental_option(\"detach\", True)\n",
    "# options.add_argument(\"Mozilla/5.0 (Windows NT 10.0; Win64; x64) AppleWebKit/537.36 (KHTML, like Gecko) Chrome/134.0.0.0 Safari/537.36\")\n",
    "options.add_argument(\"start-maximized\")\n",
    "options.add_argument(\"Chrome/134.0.0.0\")\n",
    "options.add_argument(\"lang=ko_KR\")\n",
    "# options.add_argument(\"--headless\")\n",
    "options.add_argument(\"--disable-gpu\")\n",
    "options.add_argument(\"--no-sandbox\")\n",
    "\n",
    "\n",
    "driver = webdriver.Chrome(\n",
    "    service=Service(ChromeDriverManager().install()),\n",
    "    options=options\n",
    "    )\n",
    "\n",
    "\n",
    "bank_app_list = ['viva.republica.toss', 'com.shinhan.sbanking', 'com.kbstar.kbbank', 'com.kebhana.hanapush', 'com.wooribank.smart.npib', 'com.rainist.banksalad2']\n",
    "\n",
    "for bank in bank_app_list:"
   ]
  },
  {
   "cell_type": "code",
   "execution_count": 3,
   "id": "e2041dc0",
   "metadata": {},
   "outputs": [
    {
     "name": "stdout",
     "output_type": "stream",
     "text": [
      "최신순 버튼 클릭 완료\n",
      "현재 리뷰 날짜:2025-03-15 11:14:04.179440, 리뷰수: 20\r"
     ]
    },
    {
     "ename": "TypeError",
     "evalue": "'<' not supported between instances of 'str' and 'datetime.datetime'",
     "output_type": "error",
     "traceback": [
      "\u001b[1;31m---------------------------------------------------------------------------\u001b[0m",
      "\u001b[1;31mTypeError\u001b[0m                                 Traceback (most recent call last)",
      "Cell \u001b[1;32mIn[3], line 92\u001b[0m\n\u001b[0;32m     89\u001b[0m     reviews \u001b[38;5;241m=\u001b[39m driver\u001b[38;5;241m.\u001b[39mfind_elements(By\u001b[38;5;241m.\u001b[39mCSS_SELECTOR, \u001b[38;5;124m\"\u001b[39m\u001b[38;5;124m.RHo1pe\u001b[39m\u001b[38;5;124m\"\u001b[39m)\n\u001b[0;32m     90\u001b[0m     \u001b[38;5;28mprint\u001b[39m(\u001b[38;5;124mf\u001b[39m\u001b[38;5;124m\"\u001b[39m\u001b[38;5;124m현재 리뷰 날짜:\u001b[39m\u001b[38;5;132;01m{\u001b[39;00mend_date\u001b[38;5;132;01m}\u001b[39;00m\u001b[38;5;124m, 리뷰수: \u001b[39m\u001b[38;5;132;01m{\u001b[39;00m\u001b[38;5;28mlen\u001b[39m(reviews)\u001b[38;5;132;01m}\u001b[39;00m\u001b[38;5;124m\"\u001b[39m, end\u001b[38;5;241m=\u001b[39m\u001b[38;5;124m\"\u001b[39m\u001b[38;5;130;01m\\r\u001b[39;00m\u001b[38;5;124m\"\u001b[39m)\n\u001b[1;32m---> 92\u001b[0m \u001b[38;5;28;01mif\u001b[39;00m \u001b[43mcurrent_date\u001b[49m\u001b[43m \u001b[49m\u001b[38;5;241;43m<\u001b[39;49m\u001b[43m \u001b[49m\u001b[43mend_date\u001b[49m:\n\u001b[0;32m     93\u001b[0m     \u001b[38;5;28;01mbreak\u001b[39;00m\n",
      "\u001b[1;31mTypeError\u001b[0m: '<' not supported between instances of 'str' and 'datetime.datetime'"
     ]
    }
   ],
   "source": [
    "from selenium import webdriver\n",
    "from selenium.webdriver.chrome.service import Service\n",
    "from selenium.webdriver.chrome.options import Options\n",
    "from webdriver_manager.chrome import ChromeDriverManager\n",
    "from selenium.webdriver.common.by import By\n",
    "from selenium.webdriver.common.keys import Keys\n",
    "from datetime import datetime, timedelta\n",
    "import time\n",
    "from tqdm import tqdm\n",
    "import pandas as pd\n",
    "from io import StringIO\n",
    "from selenium.webdriver.support.ui import WebDriverWait\n",
    "from selenium.webdriver.support import expected_conditions as EC\n",
    "\n",
    "\n",
    "options = Options()\n",
    "# options.add_experimental_option(\"detach\", True)\n",
    "# options.add_argument(\"Mozilla/5.0 (Windows NT 10.0; Win64; x64) AppleWebKit/537.36 (KHTML, like Gecko) Chrome/134.0.0.0 Safari/537.36\")\n",
    "options.add_argument(\"start-maximized\")\n",
    "options.add_argument(\"Chrome/134.0.0.0\")\n",
    "options.add_argument(\"lang=ko_KR\")\n",
    "# options.add_argument(\"--headless\")\n",
    "options.add_argument(\"--disable-gpu\")\n",
    "options.add_argument(\"--no-sandbox\")\n",
    "\n",
    "\n",
    "driver = webdriver.Chrome(\n",
    "    service=Service(ChromeDriverManager().install()),\n",
    "    options=options\n",
    "    )\n",
    "\n",
    "url = \"https://play.google.com/store/apps/details?id=viva.republica.toss\"\n",
    "driver.get(url)\n",
    "\n",
    "driver.execute_script(f\"window.scrollTo({0}, {1400})\")\n",
    "\n",
    "\n",
    "\n",
    "wait = WebDriverWait(driver, 5)\n",
    "\n",
    "time.sleep(10)\n",
    "\n",
    "\n",
    "\n",
    "\n",
    "\n",
    "review_button = wait.until(EC.element_to_be_clickable(\n",
    "    (By.CSS_SELECTOR, 'button[aria-label=\"평점 및 리뷰 자세히 알아보기\"]')\n",
    "))\n",
    "review_button.click()\n",
    "# print(\"리뷰 버튼 클릭 완료\")\n",
    "\n",
    "time.sleep(1)\n",
    "\n",
    "sort_button = driver.find_element(By.CSS_SELECTOR, 'div#sortBy_1')\n",
    "sort_button.click()\n",
    "# print(\"정렬 버튼 클릭 완료\")\n",
    "\n",
    "time.sleep(1)\n",
    "\n",
    "# 최신을 찾아 클릭\n",
    "wait = WebDriverWait(driver, 10)\n",
    "button = wait.until(EC.element_to_be_clickable((By.CSS_SELECTOR, \"span[aria-label*='최신']\")))\n",
    "button.click()\n",
    "print(\"최신순 버튼 클릭 완료\")\n",
    "\n",
    "\n",
    "time.sleep(1)\n",
    "\n",
    "\n",
    "# 오늘로부터 1달 전 날짜\n",
    "today = datetime.today()\n",
    "end_date = today - timedelta(days=30)\n",
    "current_date = \"\"\n",
    "reviews = \"\"\n",
    "\n",
    "while True:\n",
    "    \n",
    "    \n",
    "    try:\n",
    "        driver.execute_script(\"document.querySelector('.fysCi.Vk3ZVd').scrollBy(0, 1000)\")\n",
    "        time.sleep(1)\n",
    "\n",
    "        reviews = driver.find_elements(By.CSS_SELECTOR, \".RHo1pe\")\n",
    "        current_date = reviews[-1].find_element(By.CSS_SELECTOR, \"div.Jx4nYe > span.bp9Aid\").text\n",
    "        current_date = current_date.replace(\"년\", \"-\").replace(\"월\", \"-\").replace(\"일\", \"\")\n",
    "        current_date = datetime.strptime(current_date, \"%Y-%m-%d\")\n",
    "        print(f\"{bank}현재 리뷰 날짜:{end_date}, 리뷰수: {len(reviews)}\", end=\"\\r\")\n",
    "    except:\n",
    "        reviews = driver.find_elements(By.CSS_SELECTOR, \".RHo1pe\")\n",
    "        print(f\"현재 리뷰 날짜:{end_date}, 리뷰수: {len(reviews)}\", end=\"\\r\")\n",
    "        \n",
    "    if current_date < end_date:\n",
    "        break\n",
    "        \n",
    "        \n",
    "############################################################\n",
    "# 리뷰 추출 부분\n",
    "\n",
    "all_result = []\n",
    "for review in tqdm(reviews):\n",
    "# #리뷰일\n",
    "    driver.find_element(By.CSS_SELECTOR, \"div.Jx4nYe > span.bp9Aid\").text\n",
    "    # 리뷰일 날짜 데이터로\n",
    "    review_date = review_date.replace(\"년 \", \"-\").replace(\"월 \", \"-\").replace(\"일\", \"\")\n",
    "    review_date = datetime.strptime(review_date, '%Y-%m-%d')\n",
    "    # 별점\n",
    "    rating = review.find_element(By.CSS_SELECTOR, \"div.Jx4nYe > div\").get_attribute(\"aria-label\").split()[3][0]\n",
    "    # #사용자리뷰\n",
    "    user_review = review.find_element(By.CSS_SELECTOR, \"div.h3YV2d\").text\n",
    "\n",
    "    #업체댓글\n",
    "    try:\n",
    "        reply = review.find_element(By.CSS_SELECTOR, \"div.ocpBU div.ras4vb \").get_attribute(\"innerHTML\")\n",
    "    except:\n",
    "        reply = None\n",
    "    result = (reveiw_date, rating, user_review, reply)\n",
    "    all_result.append(result)\n",
    "result_df = pd.DataFrame(all_result, columns = ['리뷰일', '평점', '사용자리뷰', '업체답변'])\n",
    "result_df.to_csv(\"./scraping_results/{bank}_review.result.csv\", index=False, encoding=\"utf-8-sig\")"
   ]
  },
  {
   "cell_type": "code",
   "execution_count": null,
   "id": "5243adb1",
   "metadata": {},
   "outputs": [],
   "source": [
    "from selenium import webdriver\n",
    "from selenium.webdriver.chrome.service import Service\n",
    "from selenium.webdriver.chrome.options import Options\n",
    "from webdriver_manager.chrome import ChromeDriverManager\n",
    "from selenium.webdriver.common.by import By\n",
    "from selenium.webdriver.common.keys import Keys\n",
    "from datetime import datetime, timedelta\n",
    "import time\n",
    "from tqdm import tqdm\n",
    "import pandas as pd\n",
    "from io import StringIO\n",
    "from selenium.webdriver.support.ui import WebDriverWait\n",
    "from selenium.webdriver.support import expected_conditions as EC"
   ]
  },
  {
   "cell_type": "code",
   "execution_count": null,
   "id": "2986937c",
   "metadata": {},
   "outputs": [],
   "source": [
    "\n",
    "\n",
    "\n",
    "\n",
    "bank_app_list = ['viva.republica.toss', 'com.shinhan.sbanking',\n",
    "                 'com.kbstar.kbbank', 'com.kebhana.hanapush',\n",
    "                 'com.wooribank.smart.npib', 'com.rainist.banksalad2']\n",
    "\n",
    "for bank in bank_app_list:\n",
    "    reviews = bank_app_reviews(bank)\n",
    "    review_extraction(reviews)"
   ]
  },
  {
   "cell_type": "code",
   "execution_count": null,
   "id": "8cd5027b",
   "metadata": {},
   "outputs": [],
   "source": [
    "def review_extraction(reviews):\n",
    "    all_result = []\n",
    "    for review in reviews:\n",
    "        #리뷰일\n",
    "        driver.find_element(By.CSS_SELECTOR, \"div.Jx4nYe > span.bp9Aid\").text\n",
    "        # 리뷰일 날짜 데이터로\n",
    "        review_date = review_date.replace(\"년 \", \"-\").replace(\"월 \", \"-\").replace(\"일\", \"\")\n",
    "        review_date = datetime.strptime(review_date, '%Y-%m-%d')\n",
    "        # 별점\n",
    "        rating = review.find_element(By.CSS_SELECTOR, \"div.Jx4nYe > div\").get_attribute(\"aria-label\").split()[3][0]\n",
    "        # #사용자리뷰\n",
    "        user_review = review.find_element(By.CSS_SELECTOR, \"div.h3YV2d\").text\n",
    "\n",
    "        #업체댓글\n",
    "        try:\n",
    "            reply = review.find_element(By.CSS_SELECTOR, \"div.ocpBU div.ras4vb \").get_attribute(\"innerHTML\")\n",
    "        except:\n",
    "            reply = None"
   ]
  },
  {
   "cell_type": "code",
   "execution_count": null,
   "id": "e3e837ef",
   "metadata": {},
   "outputs": [],
   "source": []
  }
 ],
 "metadata": {
  "kernelspec": {
   "display_name": "Python 3 (ipykernel)",
   "language": "python",
   "name": "python3"
  },
  "language_info": {
   "codemirror_mode": {
    "name": "ipython",
    "version": 3
   },
   "file_extension": ".py",
   "mimetype": "text/x-python",
   "name": "python",
   "nbconvert_exporter": "python",
   "pygments_lexer": "ipython3",
   "version": "3.9.21"
  }
 },
 "nbformat": 4,
 "nbformat_minor": 5
}
