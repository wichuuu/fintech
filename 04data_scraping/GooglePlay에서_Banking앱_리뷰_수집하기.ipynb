{
 "cells": [
  {
   "cell_type": "markdown",
   "id": "b13b219c",
   "metadata": {},
   "source": [
    "# 토스 리뷰 수집하기"
   ]
  },
  {
   "cell_type": "code",
   "execution_count": 23,
   "id": "3887cb45",
   "metadata": {},
   "outputs": [
    {
     "name": "stdout",
     "output_type": "stream",
     "text": [
      "리뷰 버튼 클릭 완료\n",
      "정렬 버튼 클릭 완료\n"
     ]
    }
   ],
   "source": [
    "from selenium import webdriver\n",
    "from selenium.webdriver.chrome.service import Service\n",
    "from selenium.webdriver.chrome.options import Options\n",
    "from webdriver_manager.chrome import ChromeDriverManager\n",
    "from selenium.webdriver.common.by import By\n",
    "from selenium.webdriver.common.keys import Keys\n",
    "import datetime\n",
    "import time\n",
    "import pandas as pd\n",
    "from io import StringIO\n",
    "from selenium.webdriver.support.ui import WebDriverWait\n",
    "from selenium.webdriver.support import expected_conditions as EC\n",
    "\n",
    "\n",
    "options = Options()\n",
    "# options.add_experimental_option(\"detach\", True)\n",
    "# options.add_argument(\"Mozilla/5.0 (Windows NT 10.0; Win64; x64) AppleWebKit/537.36 (KHTML, like Gecko) Chrome/134.0.0.0 Safari/537.36\")\n",
    "options.add_argument(\"start-maximized\")\n",
    "options.add_argument(\"Chrome/134.0.0.0\")\n",
    "options.add_argument(\"lang=ko_KR\")\n",
    "# options.add_argument(\"--headless\")\n",
    "options.add_argument(\"--disable-gpu\")\n",
    "options.add_argument(\"--no-sandbox\")\n",
    "\n",
    "\n",
    "driver = webdriver.Chrome(\n",
    "    service=Service(ChromeDriverManager().install()),\n",
    "    options=options\n",
    "    )\n",
    "\n",
    "url = \"https://play.google.com/store/apps/details?id=viva.republica.toss\"\n",
    "driver.get(url)\n",
    "\n",
    "driver.execute_script(f\"window.scrollTo({0}, {1400})\")\n",
    "\n",
    "\n",
    "\n",
    "wait = WebDriverWait(driver, 5)\n",
    "\n",
    "time.sleep(10)\n",
    "\n",
    "\n",
    "\n",
    "\n",
    "\n",
    "review_button = wait.until(EC.element_to_be_clickable(\n",
    "    (By.CSS_SELECTOR, 'button[aria-label=\"평점 및 리뷰 자세히 알아보기\"]')\n",
    "))\n",
    "review_button.click()\n",
    "print(\"리뷰 버튼 클릭 완료\")\n",
    "\n",
    "\n",
    "\n",
    "\n",
    "# # 4. 팝업 내 \"정렬 옵션\" 클릭\n",
    "\n",
    "\n",
    "sort_button = driver.find_element(By.CSS_SELECTOR, 'div#sortBy_1')\n",
    "sort_button.click()\n",
    "print(\"정렬 버튼 클릭 완료\")\n",
    "\n",
    "\n",
    "\n",
    "\n",
    "# review_button = wait.until(By.CSS_SELECTOR, 'div.kW9Bj > span.ypTNYd')\n",
    "# review_button.click()\n",
    "# print(\"최신순 버튼 클릭 완료\")\n",
    "\n",
    "\n",
    "\n",
    "\n",
    "#5. \"최신순\" 선택 (inner text를 기준으로 선택)\n",
    "# wait = WebDriverWait(driver, 10)\n",
    "# review_button = wait.until(EC.element_to_be_clickable(\n",
    "#     (By.CSS_SELECTOR, 'span[aria-label*=\"최신\"]')\n",
    "# ))\n",
    "# review_button.click()\n",
    "# print(\"최신순 버튼 클릭 완료\")\n",
    "# # latest_option.click()\n",
    "\n",
    "# #리뷰가 담긴 창을 찾아서 Javascript로 100px씩 아래로 스크롤\n",
    "# driver.execute_script(\"document.querySelector('.fysCi.Vk3ZVd').scrollBy(0, 1000)\")\n",
    "\n",
    "\n",
    "# #리뷰일\n",
    "# driver.find_element(By.CSS_SELECTOR, \"div.Jx4nYe > span.bp9Aid\").text\n",
    "\n",
    "# #사용자리뷰\n",
    "# driver.find_element(BY.CSS_SELECTOR, \"div.h3YV2d\").text\n",
    "\n",
    "# driver.find_element(By.CSS_SELECTOR, \"div.ras4vb\").get_attribute(\"innerHTML\")\n"
   ]
  },
  {
   "cell_type": "code",
   "execution_count": 24,
   "id": "b135d35b",
   "metadata": {},
   "outputs": [
    {
     "name": "stdout",
     "output_type": "stream",
     "text": [
      "최신순 버튼 클릭 완료\n"
     ]
    }
   ],
   "source": [
    "# 최신을 찾아 클릭\n",
    "wait = WebDriverWait(driver, 10)\n",
    "button = wait.until(EC.element_to_be_clickable((By.CSS_SELECTOR, \"span[aria-label*='최신']\")))\n",
    "button.click()\n",
    "print(\"최신순 버튼 클릭 완료\")"
   ]
  },
  {
   "cell_type": "code",
   "execution_count": 26,
   "id": "ef5e29e2",
   "metadata": {},
   "outputs": [
    {
     "name": "stdout",
     "output_type": "stream",
     "text": [
      "스크롤 완료\n"
     ]
    }
   ],
   "source": [
    "# #리뷰가 담긴 창을 찾아서 Javascript로 100px씩 아래로 스크롤\n",
    "driver.execute_script(\"document.querySelector('.fysCi.Vk3ZVd').scrollBy(0, 1000)\")\n",
    "print(\"스크롤 완료\")"
   ]
  },
  {
   "cell_type": "code",
   "execution_count": 28,
   "id": "6fa702a4",
   "metadata": {},
   "outputs": [
    {
     "data": {
      "text/plain": [
       "'2025년 4월 11일'"
      ]
     },
     "execution_count": 28,
     "metadata": {},
     "output_type": "execute_result"
    }
   ],
   "source": [
    "# #리뷰일\n",
    "driver.find_element(By.CSS_SELECTOR, \"div.Jx4nYe > span.bp9Aid\").text"
   ]
  },
  {
   "cell_type": "code",
   "execution_count": 31,
   "id": "a38531bb",
   "metadata": {},
   "outputs": [
    {
     "data": {
      "text/plain": [
       "'첫화면 계좌 설정을 왜 시스템이 설정하게 하나요... 제가 원하는 대로 설정 다 해놨는데 멋대로 고정시켜놔서 확인만 더 불편해졌습니다. 정말 이용자가 사용하기 쉽게 업데이트 한게 맞나요?? 이렇게 아무런 통지도 없이 갑작스럽게 시스템 변경하고 잔액 확인하는게 너무 불편해져서 화나네요. 자율성이 떨어져서 이용성이 매우 떨어집니다. 사용하기 쉬운걸로 유명한 토스니까 이 문제도 곧바로 해결해 주실거라 믿습니다. 다시 사용자가 원하는대로 홈화면 설정할 수 있도록 변경해주세요. 계속 이 상태가 계속되면 어쩔 수 없이 토스 계좌를 없애는 것이 방법이 될 수밖에 없네요. 토스의 장점이 없어졌습니다.'"
      ]
     },
     "execution_count": 31,
     "metadata": {},
     "output_type": "execute_result"
    }
   ],
   "source": [
    "# #사용자리뷰\n",
    "driver.find_element(By.CSS_SELECTOR, \"div.h3YV2d\").text"
   ]
  },
  {
   "cell_type": "code",
   "execution_count": 32,
   "id": "b0c2ab1c",
   "metadata": {},
   "outputs": [
    {
     "data": {
      "text/plain": [
       "'<div>안녕하세요. 수징 님, 토스팀입니다. 토스를 이용하시면서 느끼신 소중한 의견을 주셔서 감사합니다. 반영될 수 있다 확답 드리기는 어려우나, 고객님께서 말씀해주신 내용은 팀내에 공유하여 보다 편리한 토스 사용 경험을 하실 수 있도록 노력 하겠습니다. 다른 문의 사항이 있다면 24시간 운영되는 카카오톡(@toss) 또는 고객센터 1599-4905로 문의 부탁드립니다. 감사합니다.</div>'"
      ]
     },
     "execution_count": 32,
     "metadata": {},
     "output_type": "execute_result"
    }
   ],
   "source": [
    "driver.find_element(By.CSS_SELECTOR, \"div.ras4vb\").get_attribute(\"innerHTML\")"
   ]
  }
 ],
 "metadata": {
  "kernelspec": {
   "display_name": "Python 3 (ipykernel)",
   "language": "python",
   "name": "python3"
  },
  "language_info": {
   "codemirror_mode": {
    "name": "ipython",
    "version": 3
   },
   "file_extension": ".py",
   "mimetype": "text/x-python",
   "name": "python",
   "nbconvert_exporter": "python",
   "pygments_lexer": "ipython3",
   "version": "3.9.21"
  }
 },
 "nbformat": 4,
 "nbformat_minor": 5
}
