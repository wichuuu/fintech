{
 "cells": [
  {
   "cell_type": "markdown",
   "id": "b13b219c",
   "metadata": {},
   "source": [
    "# 토스 리뷰 수집하기"
   ]
  },
  {
   "cell_type": "code",
   "execution_count": 26,
   "id": "3887cb45",
   "metadata": {},
   "outputs": [
    {
     "name": "stdout",
     "output_type": "stream",
     "text": [
      "리뷰 버튼 클릭 완료\n"
     ]
    },
    {
     "ename": "ElementNotInteractableException",
     "evalue": "Message: element not interactable\n  (Session info: chrome=135.0.7049.85)\nStacktrace:\n\tGetHandleVerifier [0x007A80E3+60707]\n\tGetHandleVerifier [0x007A8124+60772]\n\t(No symbol) [0x005D04FE]\n\t(No symbol) [0x006197DB]\n\t(No symbol) [0x0060E215]\n\t(No symbol) [0x0063D04C]\n\t(No symbol) [0x0060DCA4]\n\t(No symbol) [0x0063D2C4]\n\t(No symbol) [0x0065E824]\n\t(No symbol) [0x0063CE46]\n\t(No symbol) [0x0060C5D3]\n\t(No symbol) [0x0060D424]\n\tGetHandleVerifier [0x009EBBC3+2435075]\n\tGetHandleVerifier [0x009E7163+2416035]\n\tGetHandleVerifier [0x00A0350C+2531660]\n\tGetHandleVerifier [0x007BF1B5+155125]\n\tGetHandleVerifier [0x007C5B5D+182173]\n\tGetHandleVerifier [0x007AF9B8+91640]\n\tGetHandleVerifier [0x007AFB60+92064]\n\tGetHandleVerifier [0x0079A620+4704]\n\tBaseThreadInitThunk [0x76C75D49+25]\n\tRtlInitializeExceptionChain [0x779ECF0B+107]\n\tRtlGetAppContainerNamedObjectPath [0x779ECE91+561]\n",
     "output_type": "error",
     "traceback": [
      "\u001b[1;31m---------------------------------------------------------------------------\u001b[0m",
      "\u001b[1;31mElementNotInteractableException\u001b[0m           Traceback (most recent call last)",
      "Cell \u001b[1;32mIn[26], line 70\u001b[0m\n\u001b[0;32m     63\u001b[0m \u001b[38;5;66;03m#ow18 > section > header > div > div:nth-child(2) > button\u001b[39;00m\n\u001b[0;32m     64\u001b[0m \n\u001b[0;32m     65\u001b[0m \u001b[38;5;66;03m# # 4. 팝업 내 \"정렬 옵션\" 클릭\u001b[39;00m\n\u001b[0;32m     66\u001b[0m \u001b[38;5;66;03m# sort_button = wait.until(EC.element_to_be_clickable((By.CSS_SELECTOR, 'div#sortBy_1')))\u001b[39;00m\n\u001b[0;32m     67\u001b[0m \u001b[38;5;66;03m# sort_button.click()\u001b[39;00m\n\u001b[0;32m     69\u001b[0m sort_button \u001b[38;5;241m=\u001b[39m driver\u001b[38;5;241m.\u001b[39mfind_element(By\u001b[38;5;241m.\u001b[39mCSS_SELECTOR, \u001b[38;5;124m'\u001b[39m\u001b[38;5;124mdiv#sortBy_1\u001b[39m\u001b[38;5;124m'\u001b[39m)\n\u001b[1;32m---> 70\u001b[0m \u001b[43msort_button\u001b[49m\u001b[38;5;241;43m.\u001b[39;49m\u001b[43mclick\u001b[49m\u001b[43m(\u001b[49m\u001b[43m)\u001b[49m\n\u001b[0;32m     71\u001b[0m \u001b[38;5;28mprint\u001b[39m(\u001b[38;5;124m\"\u001b[39m\u001b[38;5;124m정렬 버튼 클릭 완료\u001b[39m\u001b[38;5;124m\"\u001b[39m)\n\u001b[0;32m     75\u001b[0m \u001b[38;5;66;03m# 5. \"최신순\" 선택 (inner text를 기준으로 선택)\u001b[39;00m\n",
      "File \u001b[1;32m~\\miniforge3\\envs\\fintech\\lib\\site-packages\\selenium\\webdriver\\remote\\webelement.py:119\u001b[0m, in \u001b[0;36mWebElement.click\u001b[1;34m(self)\u001b[0m\n\u001b[0;32m    111\u001b[0m \u001b[38;5;28;01mdef\u001b[39;00m\u001b[38;5;250m \u001b[39m\u001b[38;5;21mclick\u001b[39m(\u001b[38;5;28mself\u001b[39m) \u001b[38;5;241m-\u001b[39m\u001b[38;5;241m>\u001b[39m \u001b[38;5;28;01mNone\u001b[39;00m:\n\u001b[0;32m    112\u001b[0m \u001b[38;5;250m    \u001b[39m\u001b[38;5;124;03m\"\"\"Clicks the element.\u001b[39;00m\n\u001b[0;32m    113\u001b[0m \n\u001b[0;32m    114\u001b[0m \u001b[38;5;124;03m    Example:\u001b[39;00m\n\u001b[1;32m   (...)\u001b[0m\n\u001b[0;32m    117\u001b[0m \u001b[38;5;124;03m    >>> element.click()\u001b[39;00m\n\u001b[0;32m    118\u001b[0m \u001b[38;5;124;03m    \"\"\"\u001b[39;00m\n\u001b[1;32m--> 119\u001b[0m     \u001b[38;5;28;43mself\u001b[39;49m\u001b[38;5;241;43m.\u001b[39;49m\u001b[43m_execute\u001b[49m\u001b[43m(\u001b[49m\u001b[43mCommand\u001b[49m\u001b[38;5;241;43m.\u001b[39;49m\u001b[43mCLICK_ELEMENT\u001b[49m\u001b[43m)\u001b[49m\n",
      "File \u001b[1;32m~\\miniforge3\\envs\\fintech\\lib\\site-packages\\selenium\\webdriver\\remote\\webelement.py:572\u001b[0m, in \u001b[0;36mWebElement._execute\u001b[1;34m(self, command, params)\u001b[0m\n\u001b[0;32m    570\u001b[0m     params \u001b[38;5;241m=\u001b[39m {}\n\u001b[0;32m    571\u001b[0m params[\u001b[38;5;124m\"\u001b[39m\u001b[38;5;124mid\u001b[39m\u001b[38;5;124m\"\u001b[39m] \u001b[38;5;241m=\u001b[39m \u001b[38;5;28mself\u001b[39m\u001b[38;5;241m.\u001b[39m_id\n\u001b[1;32m--> 572\u001b[0m \u001b[38;5;28;01mreturn\u001b[39;00m \u001b[38;5;28;43mself\u001b[39;49m\u001b[38;5;241;43m.\u001b[39;49m\u001b[43m_parent\u001b[49m\u001b[38;5;241;43m.\u001b[39;49m\u001b[43mexecute\u001b[49m\u001b[43m(\u001b[49m\u001b[43mcommand\u001b[49m\u001b[43m,\u001b[49m\u001b[43m \u001b[49m\u001b[43mparams\u001b[49m\u001b[43m)\u001b[49m\n",
      "File \u001b[1;32m~\\miniforge3\\envs\\fintech\\lib\\site-packages\\selenium\\webdriver\\remote\\webdriver.py:429\u001b[0m, in \u001b[0;36mWebDriver.execute\u001b[1;34m(self, driver_command, params)\u001b[0m\n\u001b[0;32m    427\u001b[0m response \u001b[38;5;241m=\u001b[39m \u001b[38;5;28mself\u001b[39m\u001b[38;5;241m.\u001b[39mcommand_executor\u001b[38;5;241m.\u001b[39mexecute(driver_command, params)\n\u001b[0;32m    428\u001b[0m \u001b[38;5;28;01mif\u001b[39;00m response:\n\u001b[1;32m--> 429\u001b[0m     \u001b[38;5;28;43mself\u001b[39;49m\u001b[38;5;241;43m.\u001b[39;49m\u001b[43merror_handler\u001b[49m\u001b[38;5;241;43m.\u001b[39;49m\u001b[43mcheck_response\u001b[49m\u001b[43m(\u001b[49m\u001b[43mresponse\u001b[49m\u001b[43m)\u001b[49m\n\u001b[0;32m    430\u001b[0m     response[\u001b[38;5;124m\"\u001b[39m\u001b[38;5;124mvalue\u001b[39m\u001b[38;5;124m\"\u001b[39m] \u001b[38;5;241m=\u001b[39m \u001b[38;5;28mself\u001b[39m\u001b[38;5;241m.\u001b[39m_unwrap_value(response\u001b[38;5;241m.\u001b[39mget(\u001b[38;5;124m\"\u001b[39m\u001b[38;5;124mvalue\u001b[39m\u001b[38;5;124m\"\u001b[39m, \u001b[38;5;28;01mNone\u001b[39;00m))\n\u001b[0;32m    431\u001b[0m     \u001b[38;5;28;01mreturn\u001b[39;00m response\n",
      "File \u001b[1;32m~\\miniforge3\\envs\\fintech\\lib\\site-packages\\selenium\\webdriver\\remote\\errorhandler.py:232\u001b[0m, in \u001b[0;36mErrorHandler.check_response\u001b[1;34m(self, response)\u001b[0m\n\u001b[0;32m    230\u001b[0m         alert_text \u001b[38;5;241m=\u001b[39m value[\u001b[38;5;124m\"\u001b[39m\u001b[38;5;124malert\u001b[39m\u001b[38;5;124m\"\u001b[39m]\u001b[38;5;241m.\u001b[39mget(\u001b[38;5;124m\"\u001b[39m\u001b[38;5;124mtext\u001b[39m\u001b[38;5;124m\"\u001b[39m)\n\u001b[0;32m    231\u001b[0m     \u001b[38;5;28;01mraise\u001b[39;00m exception_class(message, screen, stacktrace, alert_text)  \u001b[38;5;66;03m# type: ignore[call-arg]  # mypy is not smart enough here\u001b[39;00m\n\u001b[1;32m--> 232\u001b[0m \u001b[38;5;28;01mraise\u001b[39;00m exception_class(message, screen, stacktrace)\n",
      "\u001b[1;31mElementNotInteractableException\u001b[0m: Message: element not interactable\n  (Session info: chrome=135.0.7049.85)\nStacktrace:\n\tGetHandleVerifier [0x007A80E3+60707]\n\tGetHandleVerifier [0x007A8124+60772]\n\t(No symbol) [0x005D04FE]\n\t(No symbol) [0x006197DB]\n\t(No symbol) [0x0060E215]\n\t(No symbol) [0x0063D04C]\n\t(No symbol) [0x0060DCA4]\n\t(No symbol) [0x0063D2C4]\n\t(No symbol) [0x0065E824]\n\t(No symbol) [0x0063CE46]\n\t(No symbol) [0x0060C5D3]\n\t(No symbol) [0x0060D424]\n\tGetHandleVerifier [0x009EBBC3+2435075]\n\tGetHandleVerifier [0x009E7163+2416035]\n\tGetHandleVerifier [0x00A0350C+2531660]\n\tGetHandleVerifier [0x007BF1B5+155125]\n\tGetHandleVerifier [0x007C5B5D+182173]\n\tGetHandleVerifier [0x007AF9B8+91640]\n\tGetHandleVerifier [0x007AFB60+92064]\n\tGetHandleVerifier [0x0079A620+4704]\n\tBaseThreadInitThunk [0x76C75D49+25]\n\tRtlInitializeExceptionChain [0x779ECF0B+107]\n\tRtlGetAppContainerNamedObjectPath [0x779ECE91+561]\n"
     ]
    }
   ],
   "source": [
    "from selenium import webdriver\n",
    "from selenium.webdriver.chrome.service import Service\n",
    "from selenium.webdriver.chrome.options import Options\n",
    "from webdriver_manager.chrome import ChromeDriverManager\n",
    "from selenium.webdriver.common.by import By\n",
    "from selenium.webdriver.common.keys import Keys\n",
    "import datetime\n",
    "import time\n",
    "import pandas as pd\n",
    "from io import StringIO\n",
    "from selenium.webdriver.support.ui import WebDriverWait\n",
    "from selenium.webdriver.support import expected_conditions as EC\n",
    "\n",
    "\n",
    "options = Options()\n",
    "# options.add_experimental_option(\"detach\", True)\n",
    "# options.add_argument(\"Mozilla/5.0 (Windows NT 10.0; Win64; x64) AppleWebKit/537.36 (KHTML, like Gecko) Chrome/134.0.0.0 Safari/537.36\")\n",
    "options.add_argument(\"start-maximized\")\n",
    "options.add_argument(\"Chrome/134.0.0.0\")\n",
    "options.add_argument(\"lang=ko_KR\")\n",
    "# options.add_argument(\"--headless\")\n",
    "options.add_argument(\"--disable-gpu\")\n",
    "options.add_argument(\"--no-sandbox\")\n",
    "\n",
    "\n",
    "driver = webdriver.Chrome(\n",
    "    service=Service(ChromeDriverManager().install()),\n",
    "    options=options\n",
    "    )\n",
    "\n",
    "url = \"https://play.google.com/store/apps/details?id=viva.republica.toss\"\n",
    "driver.get(url)\n",
    "\n",
    "wait = WebDriverWait(driver, 5)\n",
    "\n",
    "time.sleep(10)\n",
    "\n",
    "\n",
    "\n",
    "# ton = driver.find_element(By.CSS_SELECTOR, \".VfPpkd-Bz112c-LgbsSe yHy1rc eT1oJ QDwDD mN1ivc VxpoF\")\n",
    "# ton.click()\n",
    "# print(\"리뷰 버튼 클릭\")\n",
    "\n",
    "# 3. 전체 리뷰 버튼 클릭\n",
    "# review_button = wait.until(EC.element_to_be_clickable((By.CSS_SELECTOR, 'button.VfPpkd-Bz112c-LgbsSe yHy1rc eT1oJ QDwDD mN1ivc VxpoF')))\n",
    "# review_button.click()\n",
    "# print(\"리뷰 버튼 클릭 완료\")\n",
    "\n",
    "# review_button = wait.until(EC.element_to_be_clickable(\n",
    "#     (By.XPATH, '//button[@aria-label=\"평점 및 리뷰 자세히 알아보기\"]')\n",
    "# ))\n",
    "# review_button.click()\n",
    "# print(\"리뷰 버튼 클릭 완료\")\n",
    "\n",
    "\n",
    "review_button = wait.until(EC.element_to_be_clickable(\n",
    "    (By.CSS_SELECTOR, 'button[aria-label=\"평점 및 리뷰 자세히 알아보기\"]')\n",
    "))\n",
    "review_button.click()\n",
    "print(\"리뷰 버튼 클릭 완료\")\n",
    "\n",
    "\n",
    "#ow18 > section > header > div > div:nth-child(2) > button\n",
    "\n",
    "# # 4. 팝업 내 \"정렬 옵션\" 클릭\n",
    "# sort_button = wait.until(EC.element_to_be_clickable((By.CSS_SELECTOR, 'div#sortBy_1')))\n",
    "# sort_button.click()\n",
    "\n",
    "sort_button = driver.find_element(By.CSS_SELECTOR, 'div#sortBy_1')\n",
    "sort_button.click()\n",
    "print(\"정렬 버튼 클릭 완료\")\n",
    "\n",
    "\n",
    "\n",
    "# 5. \"최신순\" 선택 (inner text를 기준으로 선택)\n",
    "review_button = wait.until(EC.element_to_be_clickable(\n",
    "    (By.CSS_SELECTOR, 'span[aria-label*=\"최신\"]')\n",
    "))\n",
    "review_button.click()\n",
    "# latest_option.click()\n",
    "\n",
    "driver.exute_script(\"document.querySelector('fysCi.Vk37Vd').scrollBy(0, 1000)\")\n",
    "\n",
    "driver.find_element(By.CSS_SELECTOR, \"div.Jx4nYe > span.bp9Aid\").text\n",
    "\n",
    "\n",
    "driver.find_element(Bu.CSS_SELECTOR, \"div.h3YV2d\").text\n",
    "\n",
    "driver.find_element(By.CSS_SELECTOR, \"div.ras4vb\").text\n",
    "\n"
   ]
  }
 ],
 "metadata": {
  "kernelspec": {
   "display_name": "Python 3 (ipykernel)",
   "language": "python",
   "name": "python3"
  },
  "language_info": {
   "codemirror_mode": {
    "name": "ipython",
    "version": 3
   },
   "file_extension": ".py",
   "mimetype": "text/x-python",
   "name": "python",
   "nbconvert_exporter": "python",
   "pygments_lexer": "ipython3",
   "version": "3.9.21"
  }
 },
 "nbformat": 4,
 "nbformat_minor": 5
}
