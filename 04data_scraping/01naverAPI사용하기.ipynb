{
 "cells": [
  {
   "cell_type": "markdown",
   "id": "9a9b0a43",
   "metadata": {},
   "source": [
    "# 웹에서 자료를 수집하는 방법\n",
    "* 1. **API를 이용해서 자료 수집**\n",
    "    * naver, google, kakao, 공공데이터에서 제공하는 API를 이용해서 자료 수집\n",
    "* 2. **Web 페이지를 직접 스크래핑해서 자료 수집**\n",
    "    * 정적페이지 수집: javascript 없이 수집 가능한 사이트\n",
    "    * 동적페이지 수집: javascript에 의해서 콘텐츠가 제어. 웹브라우저 제어를 통해 수집"
   ]
  },
  {
   "cell_type": "code",
   "execution_count": 1,
   "id": "edf618d9",
   "metadata": {},
   "outputs": [
    {
     "name": "stdout",
     "output_type": "stream",
     "text": [
      "{\n",
      "\t\"lastBuildDate\":\"Mon, 31 Mar 2025 13:29:38 +0900\",\n",
      "\t\"total\":456039,\n",
      "\t\"start\":1,\n",
      "\t\"display\":10,\n",
      "\t\"items\":[\n",
      "\t\t{\n",
      "\t\t\t\"title\":\"<b>핀테크<\\/b> 투자 후기\",\n",
      "\t\t\t\"link\":\"https:\\/\\/blog.naver.com\\/kan1687\\/223812724931\",\n",
      "\t\t\t\"description\":\"<b>핀테크<\\/b> 투자, 아직도 망설이고 계신가요?  여러분 혹시 이런 고민 해보신 적 있나요? &quot;<b>핀테크<\\/b> 분야가 떴다는데, 지금 시작해도 괜찮을까? 좀 더 상황을 지켜봐야 하나?&quot; 사실 이런 생각은 투자를 고민하는 우리... \",\n",
      "\t\t\t\"bloggername\":\"우정잉♥\",\n",
      "\t\t\t\"bloggerlink\":\"blog.naver.com\\/kan1687\",\n",
      "\t\t\t\"postdate\":\"20250329\"\n",
      "\t\t},\n",
      "\t\t{\n",
      "\t\t\t\"title\":\"[<b>핀테크<\\/b>] 2024년 <b>핀테크<\\/b> 업계 결산: 놀라운 3가지 변화\",\n",
      "\t\t\t\"link\":\"https:\\/\\/blog.naver.com\\/xoom777\\/223708685044\",\n",
      "\t\t\t\"description\":\"동안 <b>핀테크<\\/b> 업계에는 예상치 못한 변화의 바람이 불었습니다. 한동안 주춤했던 트렌드가... 올 한 해 <b>핀테크<\\/b> 업계를 뜨겁게 달군 3가지 트렌드에 대해 자세히 살펴보겠습니다. 암호화폐의 귀환, 기관... \",\n",
      "\t\t\t\"bloggername\":\"Ich fange an\",\n",
      "\t\t\t\"bloggerlink\":\"blog.naver.com\\/xoom777\",\n",
      "\t\t\t\"postdate\":\"20241229\"\n",
      "\t\t},\n",
      "\t\t{\n",
      "\t\t\t\"title\":\"[인사이트 캠퍼스] 2025 동계 <b>핀테크<\\/b> 캠프 (with 전주대학교... \",\n",
      "\t\t\t\"link\":\"https:\\/\\/blog.naver.com\\/fininsight\\/223734638126\",\n",
      "\t\t\t\"description\":\"전주대학교 친구들이 직접 여의도까지 방문하여 <b>핀테크<\\/b>(FinTech)의 세계를 탐구할 기회를 가질 수... <b>핀테크<\\/b>의 개념부터 해당 기술을 적용하는 사업 분야 그리고 앞으로의 트렌드까지 현업자의 시선에서 면밀하게... \",\n",
      "\t\t\t\"bloggername\":\"핀인사이트 (Fininsight)\",\n",
      "\t\t\t\"bloggerlink\":\"blog.naver.com\\/fininsight\",\n",
      "\t\t\t\"postdate\":\"20250122\"\n",
      "\t\t},\n",
      "\t\t{\n",
      "\t\t\t\"title\":\"[AI <b>핀테크<\\/b>] AI와 빅데이터로 금융 시장을 재편하는 <b>핀테크<\\/b>... \",\n",
      "\t\t\t\"link\":\"https:\\/\\/blog.naver.com\\/jangpung_\\/223765345858\",\n",
      "\t\t\t\"description\":\"이제 대출도 AI가 하는 시대 출처 : 파가야 테크놀러지스 홈페이지 금융과 기술이 만나는 <b>핀테크<\\/b>... 제공하는 <b>핀테크<\\/b> 기업으로, 현재 미국, 이스라엘, 케이맨 제도 등여러나라에서 사업을 진행하고 있다.... \",\n",
      "\t\t\t\"bloggername\":\"낭만을 꿈꾸는 일상\",\n",
      "\t\t\t\"bloggerlink\":\"blog.naver.com\\/jangpung_\",\n",
      "\t\t\t\"postdate\":\"20250218\"\n",
      "\t\t},\n",
      "\t\t{\n",
      "\t\t\t\"title\":\"IPAY <b>핀테크<\\/b>관련주 ETF -미국 CBDC 코인 서비스 실험 확대\",\n",
      "\t\t\t\"link\":\"https:\\/\\/blog.naver.com\\/jaso_\\/223736810791\",\n",
      "\t\t\t\"description\":\"IPAY <b>핀테크<\\/b>관련주 ETF -미국 CBDC 코인 서비스 실험 확대 IPAY ETF는 모바일 결제 산업에 투자하는 ETF로 <b>핀테크<\\/b>관련주라고 보시면 되는데요. 이번 포스팅에선 IPAY <b>핀테크<\\/b>관련주 ETF, 투자수익률, 미국 CBDC... \",\n",
      "\t\t\t\"bloggername\":\"미국주식 퍼주마\",\n",
      "\t\t\t\"bloggerlink\":\"blog.naver.com\\/jaso_\",\n",
      "\t\t\t\"postdate\":\"20250130\"\n",
      "\t\t},\n",
      "\t\t{\n",
      "\t\t\t\"title\":\"맨틀 MNT 코인 디파이 <b>핀테크<\\/b> 서비스 소개\",\n",
      "\t\t\t\"link\":\"https:\\/\\/blog.naver.com\\/tmglove\\/223781181469\",\n",
      "\t\t\t\"description\":\"웹2와 웹3을 아우르며 기관과 개인 그리고 리테일을 위한 다양한 <b>핀테크<\\/b> 서비스 출시를 준비하고 있다고 하는데요. 그래서 오늘은 MNT 코인의 디파이 <b>핀테크<\\/b> 서비스에 대해 알아보겠습니다. <b>핀테크<\\/b>로... \",\n",
      "\t\t\t\"bloggername\":\"Hello-\",\n",
      "\t\t\t\"bloggerlink\":\"blog.naver.com\\/tmglove\",\n",
      "\t\t\t\"postdate\":\"20250302\"\n",
      "\t\t},\n",
      "\t\t{\n",
      "\t\t\t\"title\":\"[<b>핀테크<\\/b> 리더] # 2024 금융위원회 선정 10대 기업 _ 1편\",\n",
      "\t\t\t\"link\":\"https:\\/\\/blog.naver.com\\/koreafintech\\/223675560515\",\n",
      "\t\t\t\"description\":\"[<b>핀테크<\\/b> 리더] ⭐ # 2024 금융위원회 선정 10대 기업 _ 1편 금융위원회는 &lt;코리아 <b>핀테크<\\/b> 위크 2024&gt;에서 작년에 이어 'K-Fintech 30' 프로젝트에 선정된 유망 <b>핀테크<\\/b> 기업 10개사를 발굴하여 소개하였습니다. 'K... \",\n",
      "\t\t\t\"bloggername\":\"한국핀테크지원센터\",\n",
      "\t\t\t\"bloggerlink\":\"blog.naver.com\\/koreafintech\",\n",
      "\t\t\t\"postdate\":\"20241128\"\n",
      "\t\t},\n",
      "\t\t{\n",
      "\t\t\t\"title\":\"맨틀 네트워크 코인 MNT <b>핀테크<\\/b> 서비스 등장\",\n",
      "\t\t\t\"link\":\"https:\\/\\/blog.naver.com\\/ghfjvb465\\/223781841217\",\n",
      "\t\t\t\"description\":\"맨틀네트워크 코인 <b>핀테크<\\/b>와 크립토 경계 허물기 소개, 시세, 전망 코하! 경제적 자유 얻기... 이번 포스팅에서는 맨틀네트워크 코인 MNT의 <b>핀테크<\\/b> 분야 진출 서비스 소개에 대한 내용을 함께 알아보는... \",\n",
      "\t\t\t\"bloggername\":\"노마드신지테의 경제적자유얻기 챌린지\",\n",
      "\t\t\t\"bloggerlink\":\"blog.naver.com\\/ghfjvb465\",\n",
      "\t\t\t\"postdate\":\"20250303\"\n",
      "\t\t},\n",
      "\t\t{\n",
      "\t\t\t\"title\":\"신규 상장 더즌 <b>핀테크<\\/b> B2B 기업용 금융통신망 쉿 쉿 조용 조용\",\n",
      "\t\t\t\"link\":\"https:\\/\\/blog.naver.com\\/2yongki\\/223805949459\",\n",
      "\t\t\t\"description\":\"기업 개요 20017년 설립 기업용 금융 통신망 서비스를 제공하는 <b>핀테크<\\/b> 업체 금융 인프라를 기반으로... ② 경쟁 심화: * <b>핀테크<\\/b> 시장은 경쟁이 치열하며, 새로운 경쟁자의 등장 가능성도 있습니다. * 새로운... \",\n",
      "\t\t\t\"bloggername\":\"행복한남 경제야놀자\",\n",
      "\t\t\t\"bloggerlink\":\"blog.naver.com\\/2yongki\",\n",
      "\t\t\t\"postdate\":\"20250323\"\n",
      "\t\t},\n",
      "\t\t{\n",
      "\t\t\t\"title\":\"테크놀로지스(PGY): AI 기반 대출 혁신의 주목받는 <b>핀테크<\\/b> 기업\",\n",
      "\t\t\t\"link\":\"https:\\/\\/blog.naver.com\\/an5217\\/223810108719\",\n",
      "\t\t\t\"description\":\"최근 <b>핀테크<\\/b> 업계에서 주목받는 기업 **파가야 테크놀로지스(NASDAQ:PGY)**가 투자자와 애널리스트들... 제공하는 <b>핀테크<\\/b> 기업입니다. 머신러닝 알고리즘을 통해 개인 대출, 자동차 대출, POS(Point-of-Sale)... \",\n",
      "\t\t\t\"bloggername\":\"오늘 하루도 절도있고 검소하게\",\n",
      "\t\t\t\"bloggerlink\":\"blog.naver.com\\/an5217\",\n",
      "\t\t\t\"postdate\":\"20250326\"\n",
      "\t\t}\n",
      "\t]\n",
      "}\n"
     ]
    }
   ],
   "source": [
    "# 네이버 검색 API 예제 - 블로그 검색\n",
    "import os\n",
    "import sys\n",
    "import urllib.request\n",
    "client_id = \"_U7XmwtmPDpKOYSG5dic\"\n",
    "client_secret = \"ji5dkOMzd9\"\n",
    "encText = urllib.parse.quote(\"핀테크\") #utf-8로 인코딩을 하는 코드\n",
    "url = \"https://openapi.naver.com/v1/search/blog?query=\" + encText # JSON 결과\n",
    "# url = \"https://openapi.naver.com/v1/search/blog.xml?query=\" + encText # XML 결과\n",
    "request = urllib.request.Request(url)\n",
    "request.add_header(\"X-Naver-Client-Id\",client_id)\n",
    "request.add_header(\"X-Naver-Client-Secret\",client_secret)\n",
    "response = urllib.request.urlopen(request) # 실제 요청\n",
    "rescode = response.getcode()\n",
    "if(rescode==200):\n",
    "    response_body = response.read()\n",
    "    print(response_body.decode('utf-8'))\n",
    "else:\n",
    "    print(\"Error Code:\" + rescode)"
   ]
  },
  {
   "cell_type": "markdown",
   "id": "58ed62b8",
   "metadata": {},
   "source": [
    "* url: http://로 시작하는 웹페이지 접속 주소\n",
    "* url: 실제 서비스 서버에 접속하는 주소\n",
    "    * https://openapi.naver.com/v1/search/blog.json?\n",
    "* parameter: 서비스에 요청하는 값\n",
    "    * query=%EB%A6%AC%EB%B7%B0&display=10&start=1&sort=sim <br>\n",
    "**=> get 방식**\n",
    "\n",
    "* url 주소로 서버에 url과 parameter를 보냄\n",
    "* 서버로부터 응답을 받음\n",
    "* 응답코드가 200이면 출력"
   ]
  },
  {
   "cell_type": "code",
   "execution_count": 2,
   "id": "05200874",
   "metadata": {},
   "outputs": [
    {
     "data": {
      "text/plain": [
       "'%ED%95%80%ED%85%8C%ED%81%AC'"
      ]
     },
     "execution_count": 2,
     "metadata": {},
     "output_type": "execute_result"
    }
   ],
   "source": [
    "encText"
   ]
  },
  {
   "cell_type": "code",
   "execution_count": 3,
   "id": "0954aa14",
   "metadata": {},
   "outputs": [
    {
     "data": {
      "text/plain": [
       "'https://openapi.naver.com/v1/search/blog?query=%ED%95%80%ED%85%8C%ED%81%AC'"
      ]
     },
     "execution_count": 3,
     "metadata": {},
     "output_type": "execute_result"
    }
   ],
   "source": [
    "\"https://openapi.naver.com/v1/search/blog?query=\" + encText"
   ]
  },
  {
   "cell_type": "code",
   "execution_count": 4,
   "id": "5395f2d2",
   "metadata": {},
   "outputs": [
    {
     "data": {
      "text/plain": [
       "'{\\n\\t\"lastBuildDate\":\"Mon, 31 Mar 2025 13:29:38 +0900\",\\n\\t\"total\":456039,\\n\\t\"start\":1,\\n\\t\"display\":10,\\n\\t\"items\":[\\n\\t\\t{\\n\\t\\t\\t\"title\":\"<b>핀테크<\\\\/b> 투자 후기\",\\n\\t\\t\\t\"link\":\"https:\\\\/\\\\/blog.naver.com\\\\/kan1687\\\\/223812724931\",\\n\\t\\t\\t\"description\":\"<b>핀테크<\\\\/b> 투자, 아직도 망설이고 계신가요?  여러분 혹시 이런 고민 해보신 적 있나요? &quot;<b>핀테크<\\\\/b> 분야가 떴다는데, 지금 시작해도 괜찮을까? 좀 더 상황을 지켜봐야 하나?&quot; 사실 이런 생각은 투자를 고민하는 우리... \",\\n\\t\\t\\t\"bloggername\":\"우정잉♥\",\\n\\t\\t\\t\"bloggerlink\":\"blog.naver.com\\\\/kan1687\",\\n\\t\\t\\t\"postdate\":\"20250329\"\\n\\t\\t},\\n\\t\\t{\\n\\t\\t\\t\"title\":\"[<b>핀테크<\\\\/b>] 2024년 <b>핀테크<\\\\/b> 업계 결산: 놀라운 3가지 변화\",\\n\\t\\t\\t\"link\":\"https:\\\\/\\\\/blog.naver.com\\\\/xoom777\\\\/223708685044\",\\n\\t\\t\\t\"description\":\"동안 <b>핀테크<\\\\/b> 업계에는 예상치 못한 변화의 바람이 불었습니다. 한동안 주춤했던 트렌드가... 올 한 해 <b>핀테크<\\\\/b> 업계를 뜨겁게 달군 3가지 트렌드에 대해 자세히 살펴보겠습니다. 암호화폐의 귀환, 기관... \",\\n\\t\\t\\t\"bloggername\":\"Ich fange an\",\\n\\t\\t\\t\"bloggerlink\":\"blog.naver.com\\\\/xoom777\",\\n\\t\\t\\t\"postdate\":\"20241229\"\\n\\t\\t},\\n\\t\\t{\\n\\t\\t\\t\"title\":\"[인사이트 캠퍼스] 2025 동계 <b>핀테크<\\\\/b> 캠프 (with 전주대학교... \",\\n\\t\\t\\t\"link\":\"https:\\\\/\\\\/blog.naver.com\\\\/fininsight\\\\/223734638126\",\\n\\t\\t\\t\"description\":\"전주대학교 친구들이 직접 여의도까지 방문하여 <b>핀테크<\\\\/b>(FinTech)의 세계를 탐구할 기회를 가질 수... <b>핀테크<\\\\/b>의 개념부터 해당 기술을 적용하는 사업 분야 그리고 앞으로의 트렌드까지 현업자의 시선에서 면밀하게... \",\\n\\t\\t\\t\"bloggername\":\"핀인사이트 (Fininsight)\",\\n\\t\\t\\t\"bloggerlink\":\"blog.naver.com\\\\/fininsight\",\\n\\t\\t\\t\"postdate\":\"20250122\"\\n\\t\\t},\\n\\t\\t{\\n\\t\\t\\t\"title\":\"[AI <b>핀테크<\\\\/b>] AI와 빅데이터로 금융 시장을 재편하는 <b>핀테크<\\\\/b>... \",\\n\\t\\t\\t\"link\":\"https:\\\\/\\\\/blog.naver.com\\\\/jangpung_\\\\/223765345858\",\\n\\t\\t\\t\"description\":\"이제 대출도 AI가 하는 시대 출처 : 파가야 테크놀러지스 홈페이지 금융과 기술이 만나는 <b>핀테크<\\\\/b>... 제공하는 <b>핀테크<\\\\/b> 기업으로, 현재 미국, 이스라엘, 케이맨 제도 등여러나라에서 사업을 진행하고 있다.... \",\\n\\t\\t\\t\"bloggername\":\"낭만을 꿈꾸는 일상\",\\n\\t\\t\\t\"bloggerlink\":\"blog.naver.com\\\\/jangpung_\",\\n\\t\\t\\t\"postdate\":\"20250218\"\\n\\t\\t},\\n\\t\\t{\\n\\t\\t\\t\"title\":\"IPAY <b>핀테크<\\\\/b>관련주 ETF -미국 CBDC 코인 서비스 실험 확대\",\\n\\t\\t\\t\"link\":\"https:\\\\/\\\\/blog.naver.com\\\\/jaso_\\\\/223736810791\",\\n\\t\\t\\t\"description\":\"IPAY <b>핀테크<\\\\/b>관련주 ETF -미국 CBDC 코인 서비스 실험 확대 IPAY ETF는 모바일 결제 산업에 투자하는 ETF로 <b>핀테크<\\\\/b>관련주라고 보시면 되는데요. 이번 포스팅에선 IPAY <b>핀테크<\\\\/b>관련주 ETF, 투자수익률, 미국 CBDC... \",\\n\\t\\t\\t\"bloggername\":\"미국주식 퍼주마\",\\n\\t\\t\\t\"bloggerlink\":\"blog.naver.com\\\\/jaso_\",\\n\\t\\t\\t\"postdate\":\"20250130\"\\n\\t\\t},\\n\\t\\t{\\n\\t\\t\\t\"title\":\"맨틀 MNT 코인 디파이 <b>핀테크<\\\\/b> 서비스 소개\",\\n\\t\\t\\t\"link\":\"https:\\\\/\\\\/blog.naver.com\\\\/tmglove\\\\/223781181469\",\\n\\t\\t\\t\"description\":\"웹2와 웹3을 아우르며 기관과 개인 그리고 리테일을 위한 다양한 <b>핀테크<\\\\/b> 서비스 출시를 준비하고 있다고 하는데요. 그래서 오늘은 MNT 코인의 디파이 <b>핀테크<\\\\/b> 서비스에 대해 알아보겠습니다. <b>핀테크<\\\\/b>로... \",\\n\\t\\t\\t\"bloggername\":\"Hello-\",\\n\\t\\t\\t\"bloggerlink\":\"blog.naver.com\\\\/tmglove\",\\n\\t\\t\\t\"postdate\":\"20250302\"\\n\\t\\t},\\n\\t\\t{\\n\\t\\t\\t\"title\":\"[<b>핀테크<\\\\/b> 리더] # 2024 금융위원회 선정 10대 기업 _ 1편\",\\n\\t\\t\\t\"link\":\"https:\\\\/\\\\/blog.naver.com\\\\/koreafintech\\\\/223675560515\",\\n\\t\\t\\t\"description\":\"[<b>핀테크<\\\\/b> 리더] ⭐ # 2024 금융위원회 선정 10대 기업 _ 1편 금융위원회는 &lt;코리아 <b>핀테크<\\\\/b> 위크 2024&gt;에서 작년에 이어 \\'K-Fintech 30\\' 프로젝트에 선정된 유망 <b>핀테크<\\\\/b> 기업 10개사를 발굴하여 소개하였습니다. \\'K... \",\\n\\t\\t\\t\"bloggername\":\"한국핀테크지원센터\",\\n\\t\\t\\t\"bloggerlink\":\"blog.naver.com\\\\/koreafintech\",\\n\\t\\t\\t\"postdate\":\"20241128\"\\n\\t\\t},\\n\\t\\t{\\n\\t\\t\\t\"title\":\"맨틀 네트워크 코인 MNT <b>핀테크<\\\\/b> 서비스 등장\",\\n\\t\\t\\t\"link\":\"https:\\\\/\\\\/blog.naver.com\\\\/ghfjvb465\\\\/223781841217\",\\n\\t\\t\\t\"description\":\"맨틀네트워크 코인 <b>핀테크<\\\\/b>와 크립토 경계 허물기 소개, 시세, 전망 코하! 경제적 자유 얻기... 이번 포스팅에서는 맨틀네트워크 코인 MNT의 <b>핀테크<\\\\/b> 분야 진출 서비스 소개에 대한 내용을 함께 알아보는... \",\\n\\t\\t\\t\"bloggername\":\"노마드신지테의 경제적자유얻기 챌린지\",\\n\\t\\t\\t\"bloggerlink\":\"blog.naver.com\\\\/ghfjvb465\",\\n\\t\\t\\t\"postdate\":\"20250303\"\\n\\t\\t},\\n\\t\\t{\\n\\t\\t\\t\"title\":\"신규 상장 더즌 <b>핀테크<\\\\/b> B2B 기업용 금융통신망 쉿 쉿 조용 조용\",\\n\\t\\t\\t\"link\":\"https:\\\\/\\\\/blog.naver.com\\\\/2yongki\\\\/223805949459\",\\n\\t\\t\\t\"description\":\"기업 개요 20017년 설립 기업용 금융 통신망 서비스를 제공하는 <b>핀테크<\\\\/b> 업체 금융 인프라를 기반으로... ② 경쟁 심화: * <b>핀테크<\\\\/b> 시장은 경쟁이 치열하며, 새로운 경쟁자의 등장 가능성도 있습니다. * 새로운... \",\\n\\t\\t\\t\"bloggername\":\"행복한남 경제야놀자\",\\n\\t\\t\\t\"bloggerlink\":\"blog.naver.com\\\\/2yongki\",\\n\\t\\t\\t\"postdate\":\"20250323\"\\n\\t\\t},\\n\\t\\t{\\n\\t\\t\\t\"title\":\"테크놀로지스(PGY): AI 기반 대출 혁신의 주목받는 <b>핀테크<\\\\/b> 기업\",\\n\\t\\t\\t\"link\":\"https:\\\\/\\\\/blog.naver.com\\\\/an5217\\\\/223810108719\",\\n\\t\\t\\t\"description\":\"최근 <b>핀테크<\\\\/b> 업계에서 주목받는 기업 **파가야 테크놀로지스(NASDAQ:PGY)**가 투자자와 애널리스트들... 제공하는 <b>핀테크<\\\\/b> 기업입니다. 머신러닝 알고리즘을 통해 개인 대출, 자동차 대출, POS(Point-of-Sale)... \",\\n\\t\\t\\t\"bloggername\":\"오늘 하루도 절도있고 검소하게\",\\n\\t\\t\\t\"bloggerlink\":\"blog.naver.com\\\\/an5217\",\\n\\t\\t\\t\"postdate\":\"20250326\"\\n\\t\\t}\\n\\t]\\n}'"
      ]
     },
     "execution_count": 4,
     "metadata": {},
     "output_type": "execute_result"
    }
   ],
   "source": [
    "data = response_body.decode('utf-8')\n",
    "data"
   ]
  },
  {
   "cell_type": "code",
   "execution_count": 5,
   "id": "34d8db1b",
   "metadata": {},
   "outputs": [],
   "source": [
    "import json"
   ]
  },
  {
   "cell_type": "code",
   "execution_count": 6,
   "id": "e7b04b7e",
   "metadata": {},
   "outputs": [
    {
     "data": {
      "text/plain": [
       "{'lastBuildDate': 'Mon, 31 Mar 2025 13:29:38 +0900',\n",
       " 'total': 456039,\n",
       " 'start': 1,\n",
       " 'display': 10,\n",
       " 'items': [{'title': '<b>핀테크</b> 투자 후기',\n",
       "   'link': 'https://blog.naver.com/kan1687/223812724931',\n",
       "   'description': '<b>핀테크</b> 투자, 아직도 망설이고 계신가요?  여러분 혹시 이런 고민 해보신 적 있나요? &quot;<b>핀테크</b> 분야가 떴다는데, 지금 시작해도 괜찮을까? 좀 더 상황을 지켜봐야 하나?&quot; 사실 이런 생각은 투자를 고민하는 우리... ',\n",
       "   'bloggername': '우정잉♥',\n",
       "   'bloggerlink': 'blog.naver.com/kan1687',\n",
       "   'postdate': '20250329'},\n",
       "  {'title': '[<b>핀테크</b>] 2024년 <b>핀테크</b> 업계 결산: 놀라운 3가지 변화',\n",
       "   'link': 'https://blog.naver.com/xoom777/223708685044',\n",
       "   'description': '동안 <b>핀테크</b> 업계에는 예상치 못한 변화의 바람이 불었습니다. 한동안 주춤했던 트렌드가... 올 한 해 <b>핀테크</b> 업계를 뜨겁게 달군 3가지 트렌드에 대해 자세히 살펴보겠습니다. 암호화폐의 귀환, 기관... ',\n",
       "   'bloggername': 'Ich fange an',\n",
       "   'bloggerlink': 'blog.naver.com/xoom777',\n",
       "   'postdate': '20241229'},\n",
       "  {'title': '[인사이트 캠퍼스] 2025 동계 <b>핀테크</b> 캠프 (with 전주대학교... ',\n",
       "   'link': 'https://blog.naver.com/fininsight/223734638126',\n",
       "   'description': '전주대학교 친구들이 직접 여의도까지 방문하여 <b>핀테크</b>(FinTech)의 세계를 탐구할 기회를 가질 수... <b>핀테크</b>의 개념부터 해당 기술을 적용하는 사업 분야 그리고 앞으로의 트렌드까지 현업자의 시선에서 면밀하게... ',\n",
       "   'bloggername': '핀인사이트 (Fininsight)',\n",
       "   'bloggerlink': 'blog.naver.com/fininsight',\n",
       "   'postdate': '20250122'},\n",
       "  {'title': '[AI <b>핀테크</b>] AI와 빅데이터로 금융 시장을 재편하는 <b>핀테크</b>... ',\n",
       "   'link': 'https://blog.naver.com/jangpung_/223765345858',\n",
       "   'description': '이제 대출도 AI가 하는 시대 출처 : 파가야 테크놀러지스 홈페이지 금융과 기술이 만나는 <b>핀테크</b>... 제공하는 <b>핀테크</b> 기업으로, 현재 미국, 이스라엘, 케이맨 제도 등여러나라에서 사업을 진행하고 있다.... ',\n",
       "   'bloggername': '낭만을 꿈꾸는 일상',\n",
       "   'bloggerlink': 'blog.naver.com/jangpung_',\n",
       "   'postdate': '20250218'},\n",
       "  {'title': 'IPAY <b>핀테크</b>관련주 ETF -미국 CBDC 코인 서비스 실험 확대',\n",
       "   'link': 'https://blog.naver.com/jaso_/223736810791',\n",
       "   'description': 'IPAY <b>핀테크</b>관련주 ETF -미국 CBDC 코인 서비스 실험 확대 IPAY ETF는 모바일 결제 산업에 투자하는 ETF로 <b>핀테크</b>관련주라고 보시면 되는데요. 이번 포스팅에선 IPAY <b>핀테크</b>관련주 ETF, 투자수익률, 미국 CBDC... ',\n",
       "   'bloggername': '미국주식 퍼주마',\n",
       "   'bloggerlink': 'blog.naver.com/jaso_',\n",
       "   'postdate': '20250130'},\n",
       "  {'title': '맨틀 MNT 코인 디파이 <b>핀테크</b> 서비스 소개',\n",
       "   'link': 'https://blog.naver.com/tmglove/223781181469',\n",
       "   'description': '웹2와 웹3을 아우르며 기관과 개인 그리고 리테일을 위한 다양한 <b>핀테크</b> 서비스 출시를 준비하고 있다고 하는데요. 그래서 오늘은 MNT 코인의 디파이 <b>핀테크</b> 서비스에 대해 알아보겠습니다. <b>핀테크</b>로... ',\n",
       "   'bloggername': 'Hello-',\n",
       "   'bloggerlink': 'blog.naver.com/tmglove',\n",
       "   'postdate': '20250302'},\n",
       "  {'title': '[<b>핀테크</b> 리더] # 2024 금융위원회 선정 10대 기업 _ 1편',\n",
       "   'link': 'https://blog.naver.com/koreafintech/223675560515',\n",
       "   'description': \"[<b>핀테크</b> 리더] ⭐ # 2024 금융위원회 선정 10대 기업 _ 1편 금융위원회는 &lt;코리아 <b>핀테크</b> 위크 2024&gt;에서 작년에 이어 'K-Fintech 30' 프로젝트에 선정된 유망 <b>핀테크</b> 기업 10개사를 발굴하여 소개하였습니다. 'K... \",\n",
       "   'bloggername': '한국핀테크지원센터',\n",
       "   'bloggerlink': 'blog.naver.com/koreafintech',\n",
       "   'postdate': '20241128'},\n",
       "  {'title': '맨틀 네트워크 코인 MNT <b>핀테크</b> 서비스 등장',\n",
       "   'link': 'https://blog.naver.com/ghfjvb465/223781841217',\n",
       "   'description': '맨틀네트워크 코인 <b>핀테크</b>와 크립토 경계 허물기 소개, 시세, 전망 코하! 경제적 자유 얻기... 이번 포스팅에서는 맨틀네트워크 코인 MNT의 <b>핀테크</b> 분야 진출 서비스 소개에 대한 내용을 함께 알아보는... ',\n",
       "   'bloggername': '노마드신지테의 경제적자유얻기 챌린지',\n",
       "   'bloggerlink': 'blog.naver.com/ghfjvb465',\n",
       "   'postdate': '20250303'},\n",
       "  {'title': '신규 상장 더즌 <b>핀테크</b> B2B 기업용 금융통신망 쉿 쉿 조용 조용',\n",
       "   'link': 'https://blog.naver.com/2yongki/223805949459',\n",
       "   'description': '기업 개요 20017년 설립 기업용 금융 통신망 서비스를 제공하는 <b>핀테크</b> 업체 금융 인프라를 기반으로... ② 경쟁 심화: * <b>핀테크</b> 시장은 경쟁이 치열하며, 새로운 경쟁자의 등장 가능성도 있습니다. * 새로운... ',\n",
       "   'bloggername': '행복한남 경제야놀자',\n",
       "   'bloggerlink': 'blog.naver.com/2yongki',\n",
       "   'postdate': '20250323'},\n",
       "  {'title': '테크놀로지스(PGY): AI 기반 대출 혁신의 주목받는 <b>핀테크</b> 기업',\n",
       "   'link': 'https://blog.naver.com/an5217/223810108719',\n",
       "   'description': '최근 <b>핀테크</b> 업계에서 주목받는 기업 **파가야 테크놀로지스(NASDAQ:PGY)**가 투자자와 애널리스트들... 제공하는 <b>핀테크</b> 기업입니다. 머신러닝 알고리즘을 통해 개인 대출, 자동차 대출, POS(Point-of-Sale)... ',\n",
       "   'bloggername': '오늘 하루도 절도있고 검소하게',\n",
       "   'bloggerlink': 'blog.naver.com/an5217',\n",
       "   'postdate': '20250326'}]}"
      ]
     },
     "execution_count": 6,
     "metadata": {},
     "output_type": "execute_result"
    }
   ],
   "source": [
    "data = json.loads(data)\n",
    "data #결과 출력하여 jsonformatter 사용"
   ]
  },
  {
   "cell_type": "code",
   "execution_count": 7,
   "id": "8f8ffa67",
   "metadata": {},
   "outputs": [
    {
     "data": {
      "text/plain": [
       "dict_keys(['lastBuildDate', 'total', 'start', 'display', 'items'])"
      ]
     },
     "execution_count": 7,
     "metadata": {},
     "output_type": "execute_result"
    }
   ],
   "source": [
    "data.keys()"
   ]
  },
  {
   "cell_type": "code",
   "execution_count": 10,
   "id": "c9848583",
   "metadata": {},
   "outputs": [
    {
     "data": {
      "text/plain": [
       "'<b>핀테크</b> 투자 후기'"
      ]
     },
     "execution_count": 10,
     "metadata": {},
     "output_type": "execute_result"
    }
   ],
   "source": [
    "data['items'][0]['title'] # items의 첫번째 리스트"
   ]
  },
  {
   "cell_type": "code",
   "execution_count": 17,
   "id": "92ce0946",
   "metadata": {},
   "outputs": [
    {
     "name": "stdout",
     "output_type": "stream",
     "text": [
      "title <b>핀테크</b> 투자 후기\n",
      "link https://blog.naver.com/kan1687/223812724931\n",
      "description <b>핀테크</b> 투자, 아직도 망설이고 계신가요?  여러분 혹시 이런 고민 해보신 적 있나요? &quot;<b>핀테크</b> 분야가 떴다는데, 지금 시작해도 괜찮을까? 좀 더 상황을 지켜봐야 하나?&quot; 사실 이런 생각은 투자를 고민하는 우리... \n",
      "bloggername 우정잉♥\n",
      "bloggerlink blog.naver.com/kan1687\n",
      "postdate 20250329\n",
      "title [<b>핀테크</b>] 2024년 <b>핀테크</b> 업계 결산: 놀라운 3가지 변화\n",
      "link https://blog.naver.com/xoom777/223708685044\n",
      "description 동안 <b>핀테크</b> 업계에는 예상치 못한 변화의 바람이 불었습니다. 한동안 주춤했던 트렌드가... 올 한 해 <b>핀테크</b> 업계를 뜨겁게 달군 3가지 트렌드에 대해 자세히 살펴보겠습니다. 암호화폐의 귀환, 기관... \n",
      "bloggername Ich fange an\n",
      "bloggerlink blog.naver.com/xoom777\n",
      "postdate 20241229\n",
      "title [인사이트 캠퍼스] 2025 동계 <b>핀테크</b> 캠프 (with 전주대학교... \n",
      "link https://blog.naver.com/fininsight/223734638126\n",
      "description 전주대학교 친구들이 직접 여의도까지 방문하여 <b>핀테크</b>(FinTech)의 세계를 탐구할 기회를 가질 수... <b>핀테크</b>의 개념부터 해당 기술을 적용하는 사업 분야 그리고 앞으로의 트렌드까지 현업자의 시선에서 면밀하게... \n",
      "bloggername 핀인사이트 (Fininsight)\n",
      "bloggerlink blog.naver.com/fininsight\n",
      "postdate 20250122\n",
      "title [AI <b>핀테크</b>] AI와 빅데이터로 금융 시장을 재편하는 <b>핀테크</b>... \n",
      "link https://blog.naver.com/jangpung_/223765345858\n",
      "description 이제 대출도 AI가 하는 시대 출처 : 파가야 테크놀러지스 홈페이지 금융과 기술이 만나는 <b>핀테크</b>... 제공하는 <b>핀테크</b> 기업으로, 현재 미국, 이스라엘, 케이맨 제도 등여러나라에서 사업을 진행하고 있다.... \n",
      "bloggername 낭만을 꿈꾸는 일상\n",
      "bloggerlink blog.naver.com/jangpung_\n",
      "postdate 20250218\n",
      "title IPAY <b>핀테크</b>관련주 ETF -미국 CBDC 코인 서비스 실험 확대\n",
      "link https://blog.naver.com/jaso_/223736810791\n",
      "description IPAY <b>핀테크</b>관련주 ETF -미국 CBDC 코인 서비스 실험 확대 IPAY ETF는 모바일 결제 산업에 투자하는 ETF로 <b>핀테크</b>관련주라고 보시면 되는데요. 이번 포스팅에선 IPAY <b>핀테크</b>관련주 ETF, 투자수익률, 미국 CBDC... \n",
      "bloggername 미국주식 퍼주마\n",
      "bloggerlink blog.naver.com/jaso_\n",
      "postdate 20250130\n",
      "title 맨틀 MNT 코인 디파이 <b>핀테크</b> 서비스 소개\n",
      "link https://blog.naver.com/tmglove/223781181469\n",
      "description 웹2와 웹3을 아우르며 기관과 개인 그리고 리테일을 위한 다양한 <b>핀테크</b> 서비스 출시를 준비하고 있다고 하는데요. 그래서 오늘은 MNT 코인의 디파이 <b>핀테크</b> 서비스에 대해 알아보겠습니다. <b>핀테크</b>로... \n",
      "bloggername Hello-\n",
      "bloggerlink blog.naver.com/tmglove\n",
      "postdate 20250302\n",
      "title [<b>핀테크</b> 리더] # 2024 금융위원회 선정 10대 기업 _ 1편\n",
      "link https://blog.naver.com/koreafintech/223675560515\n",
      "description [<b>핀테크</b> 리더] ⭐ # 2024 금융위원회 선정 10대 기업 _ 1편 금융위원회는 &lt;코리아 <b>핀테크</b> 위크 2024&gt;에서 작년에 이어 'K-Fintech 30' 프로젝트에 선정된 유망 <b>핀테크</b> 기업 10개사를 발굴하여 소개하였습니다. 'K... \n",
      "bloggername 한국핀테크지원센터\n",
      "bloggerlink blog.naver.com/koreafintech\n",
      "postdate 20241128\n",
      "title 맨틀 네트워크 코인 MNT <b>핀테크</b> 서비스 등장\n",
      "link https://blog.naver.com/ghfjvb465/223781841217\n",
      "description 맨틀네트워크 코인 <b>핀테크</b>와 크립토 경계 허물기 소개, 시세, 전망 코하! 경제적 자유 얻기... 이번 포스팅에서는 맨틀네트워크 코인 MNT의 <b>핀테크</b> 분야 진출 서비스 소개에 대한 내용을 함께 알아보는... \n",
      "bloggername 노마드신지테의 경제적자유얻기 챌린지\n",
      "bloggerlink blog.naver.com/ghfjvb465\n",
      "postdate 20250303\n",
      "title 신규 상장 더즌 <b>핀테크</b> B2B 기업용 금융통신망 쉿 쉿 조용 조용\n",
      "link https://blog.naver.com/2yongki/223805949459\n",
      "description 기업 개요 20017년 설립 기업용 금융 통신망 서비스를 제공하는 <b>핀테크</b> 업체 금융 인프라를 기반으로... ② 경쟁 심화: * <b>핀테크</b> 시장은 경쟁이 치열하며, 새로운 경쟁자의 등장 가능성도 있습니다. * 새로운... \n",
      "bloggername 행복한남 경제야놀자\n",
      "bloggerlink blog.naver.com/2yongki\n",
      "postdate 20250323\n",
      "title 테크놀로지스(PGY): AI 기반 대출 혁신의 주목받는 <b>핀테크</b> 기업\n",
      "link https://blog.naver.com/an5217/223810108719\n",
      "description 최근 <b>핀테크</b> 업계에서 주목받는 기업 **파가야 테크놀로지스(NASDAQ:PGY)**가 투자자와 애널리스트들... 제공하는 <b>핀테크</b> 기업입니다. 머신러닝 알고리즘을 통해 개인 대출, 자동차 대출, POS(Point-of-Sale)... \n",
      "bloggername 오늘 하루도 절도있고 검소하게\n",
      "bloggerlink blog.naver.com/an5217\n",
      "postdate 20250326\n"
     ]
    }
   ],
   "source": [
    "for item in data['items']:\n",
    "    for key, value in item.items():\n",
    "        print(key, value)"
   ]
  },
  {
   "cell_type": "code",
   "execution_count": 32,
   "id": "7a3f852a",
   "metadata": {},
   "outputs": [],
   "source": [
    "def text_clean(x):\n",
    "    result = x.replace(\"<b>\", \"\").replace(\"</b>\", \"\")\n",
    "    return result"
   ]
  },
  {
   "cell_type": "code",
   "execution_count": 33,
   "id": "5e280d83",
   "metadata": {},
   "outputs": [
    {
     "data": {
      "text/plain": [
       "{'title': ['핀테크 투자 후기',\n",
       "  '[핀테크] 2024년 핀테크 업계 결산: 놀라운 3가지 변화',\n",
       "  '[인사이트 캠퍼스] 2025 동계 핀테크 캠프 (with 전주대학교... ',\n",
       "  '[AI 핀테크] AI와 빅데이터로 금융 시장을 재편하는 핀테크... ',\n",
       "  'IPAY 핀테크관련주 ETF -미국 CBDC 코인 서비스 실험 확대',\n",
       "  '맨틀 MNT 코인 디파이 핀테크 서비스 소개',\n",
       "  '[핀테크 리더] # 2024 금융위원회 선정 10대 기업 _ 1편',\n",
       "  '맨틀 네트워크 코인 MNT 핀테크 서비스 등장',\n",
       "  '신규 상장 더즌 핀테크 B2B 기업용 금융통신망 쉿 쉿 조용 조용',\n",
       "  '테크놀로지스(PGY): AI 기반 대출 혁신의 주목받는 핀테크 기업'],\n",
       " 'link': ['https://blog.naver.com/kan1687/223812724931',\n",
       "  'https://blog.naver.com/xoom777/223708685044',\n",
       "  'https://blog.naver.com/fininsight/223734638126',\n",
       "  'https://blog.naver.com/jangpung_/223765345858',\n",
       "  'https://blog.naver.com/jaso_/223736810791',\n",
       "  'https://blog.naver.com/tmglove/223781181469',\n",
       "  'https://blog.naver.com/koreafintech/223675560515',\n",
       "  'https://blog.naver.com/ghfjvb465/223781841217',\n",
       "  'https://blog.naver.com/2yongki/223805949459',\n",
       "  'https://blog.naver.com/an5217/223810108719'],\n",
       " 'description': ['핀테크 투자, 아직도 망설이고 계신가요?  여러분 혹시 이런 고민 해보신 적 있나요? &quot;핀테크 분야가 떴다는데, 지금 시작해도 괜찮을까? 좀 더 상황을 지켜봐야 하나?&quot; 사실 이런 생각은 투자를 고민하는 우리... ',\n",
       "  '동안 핀테크 업계에는 예상치 못한 변화의 바람이 불었습니다. 한동안 주춤했던 트렌드가... 올 한 해 핀테크 업계를 뜨겁게 달군 3가지 트렌드에 대해 자세히 살펴보겠습니다. 암호화폐의 귀환, 기관... ',\n",
       "  '전주대학교 친구들이 직접 여의도까지 방문하여 핀테크(FinTech)의 세계를 탐구할 기회를 가질 수... 핀테크의 개념부터 해당 기술을 적용하는 사업 분야 그리고 앞으로의 트렌드까지 현업자의 시선에서 면밀하게... ',\n",
       "  '이제 대출도 AI가 하는 시대 출처 : 파가야 테크놀러지스 홈페이지 금융과 기술이 만나는 핀테크... 제공하는 핀테크 기업으로, 현재 미국, 이스라엘, 케이맨 제도 등여러나라에서 사업을 진행하고 있다.... ',\n",
       "  'IPAY 핀테크관련주 ETF -미국 CBDC 코인 서비스 실험 확대 IPAY ETF는 모바일 결제 산업에 투자하는 ETF로 핀테크관련주라고 보시면 되는데요. 이번 포스팅에선 IPAY 핀테크관련주 ETF, 투자수익률, 미국 CBDC... ',\n",
       "  '웹2와 웹3을 아우르며 기관과 개인 그리고 리테일을 위한 다양한 핀테크 서비스 출시를 준비하고 있다고 하는데요. 그래서 오늘은 MNT 코인의 디파이 핀테크 서비스에 대해 알아보겠습니다. 핀테크로... ',\n",
       "  \"[핀테크 리더] ⭐ # 2024 금융위원회 선정 10대 기업 _ 1편 금융위원회는 &lt;코리아 핀테크 위크 2024&gt;에서 작년에 이어 'K-Fintech 30' 프로젝트에 선정된 유망 핀테크 기업 10개사를 발굴하여 소개하였습니다. 'K... \",\n",
       "  '맨틀네트워크 코인 핀테크와 크립토 경계 허물기 소개, 시세, 전망 코하! 경제적 자유 얻기... 이번 포스팅에서는 맨틀네트워크 코인 MNT의 핀테크 분야 진출 서비스 소개에 대한 내용을 함께 알아보는... ',\n",
       "  '기업 개요 20017년 설립 기업용 금융 통신망 서비스를 제공하는 핀테크 업체 금융 인프라를 기반으로... ② 경쟁 심화: * 핀테크 시장은 경쟁이 치열하며, 새로운 경쟁자의 등장 가능성도 있습니다. * 새로운... ',\n",
       "  '최근 핀테크 업계에서 주목받는 기업 **파가야 테크놀로지스(NASDAQ:PGY)**가 투자자와 애널리스트들... 제공하는 핀테크 기업입니다. 머신러닝 알고리즘을 통해 개인 대출, 자동차 대출, POS(Point-of-Sale)... '],\n",
       " 'bloggername': ['우정잉♥',\n",
       "  'Ich fange an',\n",
       "  '핀인사이트 (Fininsight)',\n",
       "  '낭만을 꿈꾸는 일상',\n",
       "  '미국주식 퍼주마',\n",
       "  'Hello-',\n",
       "  '한국핀테크지원센터',\n",
       "  '노마드신지테의 경제적자유얻기 챌린지',\n",
       "  '행복한남 경제야놀자',\n",
       "  '오늘 하루도 절도있고 검소하게'],\n",
       " 'bloggerlink': ['blog.naver.com/kan1687',\n",
       "  'blog.naver.com/xoom777',\n",
       "  'blog.naver.com/fininsight',\n",
       "  'blog.naver.com/jangpung_',\n",
       "  'blog.naver.com/jaso_',\n",
       "  'blog.naver.com/tmglove',\n",
       "  'blog.naver.com/koreafintech',\n",
       "  'blog.naver.com/ghfjvb465',\n",
       "  'blog.naver.com/2yongki',\n",
       "  'blog.naver.com/an5217'],\n",
       " 'postdate': ['20250329',\n",
       "  '20241229',\n",
       "  '20250122',\n",
       "  '20250218',\n",
       "  '20250130',\n",
       "  '20250302',\n",
       "  '20241128',\n",
       "  '20250303',\n",
       "  '20250323',\n",
       "  '20250326']}"
      ]
     },
     "execution_count": 33,
     "metadata": {},
     "output_type": "execute_result"
    }
   ],
   "source": [
    "result = {}\n",
    "for item in data['items']:\n",
    "    for key, value in item.items():\n",
    "        value = text_clean(value)\n",
    "        result.setdefault(key, []).append(value)\n",
    "result"
   ]
  },
  {
   "cell_type": "code",
   "execution_count": 34,
   "id": "6facd842",
   "metadata": {},
   "outputs": [],
   "source": [
    "import pandas as pd"
   ]
  },
  {
   "cell_type": "code",
   "execution_count": 35,
   "id": "de9c88aa",
   "metadata": {},
   "outputs": [
    {
     "data": {
      "text/html": [
       "<div>\n",
       "<style scoped>\n",
       "    .dataframe tbody tr th:only-of-type {\n",
       "        vertical-align: middle;\n",
       "    }\n",
       "\n",
       "    .dataframe tbody tr th {\n",
       "        vertical-align: top;\n",
       "    }\n",
       "\n",
       "    .dataframe thead th {\n",
       "        text-align: right;\n",
       "    }\n",
       "</style>\n",
       "<table border=\"1\" class=\"dataframe\">\n",
       "  <thead>\n",
       "    <tr style=\"text-align: right;\">\n",
       "      <th></th>\n",
       "      <th>title</th>\n",
       "      <th>link</th>\n",
       "      <th>description</th>\n",
       "      <th>bloggername</th>\n",
       "      <th>bloggerlink</th>\n",
       "      <th>postdate</th>\n",
       "    </tr>\n",
       "  </thead>\n",
       "  <tbody>\n",
       "    <tr>\n",
       "      <th>0</th>\n",
       "      <td>핀테크 투자 후기</td>\n",
       "      <td>https://blog.naver.com/kan1687/223812724931</td>\n",
       "      <td>핀테크 투자, 아직도 망설이고 계신가요?  여러분 혹시 이런 고민 해보신 적 있나요...</td>\n",
       "      <td>우정잉♥</td>\n",
       "      <td>blog.naver.com/kan1687</td>\n",
       "      <td>20250329</td>\n",
       "    </tr>\n",
       "    <tr>\n",
       "      <th>1</th>\n",
       "      <td>[핀테크] 2024년 핀테크 업계 결산: 놀라운 3가지 변화</td>\n",
       "      <td>https://blog.naver.com/xoom777/223708685044</td>\n",
       "      <td>동안 핀테크 업계에는 예상치 못한 변화의 바람이 불었습니다. 한동안 주춤했던 트렌드...</td>\n",
       "      <td>Ich fange an</td>\n",
       "      <td>blog.naver.com/xoom777</td>\n",
       "      <td>20241229</td>\n",
       "    </tr>\n",
       "    <tr>\n",
       "      <th>2</th>\n",
       "      <td>[인사이트 캠퍼스] 2025 동계 핀테크 캠프 (with 전주대학교...</td>\n",
       "      <td>https://blog.naver.com/fininsight/223734638126</td>\n",
       "      <td>전주대학교 친구들이 직접 여의도까지 방문하여 핀테크(FinTech)의 세계를 탐구할...</td>\n",
       "      <td>핀인사이트 (Fininsight)</td>\n",
       "      <td>blog.naver.com/fininsight</td>\n",
       "      <td>20250122</td>\n",
       "    </tr>\n",
       "    <tr>\n",
       "      <th>3</th>\n",
       "      <td>[AI 핀테크] AI와 빅데이터로 금융 시장을 재편하는 핀테크...</td>\n",
       "      <td>https://blog.naver.com/jangpung_/223765345858</td>\n",
       "      <td>이제 대출도 AI가 하는 시대 출처 : 파가야 테크놀러지스 홈페이지 금융과 기술이 ...</td>\n",
       "      <td>낭만을 꿈꾸는 일상</td>\n",
       "      <td>blog.naver.com/jangpung_</td>\n",
       "      <td>20250218</td>\n",
       "    </tr>\n",
       "    <tr>\n",
       "      <th>4</th>\n",
       "      <td>IPAY 핀테크관련주 ETF -미국 CBDC 코인 서비스 실험 확대</td>\n",
       "      <td>https://blog.naver.com/jaso_/223736810791</td>\n",
       "      <td>IPAY 핀테크관련주 ETF -미국 CBDC 코인 서비스 실험 확대 IPAY ETF...</td>\n",
       "      <td>미국주식 퍼주마</td>\n",
       "      <td>blog.naver.com/jaso_</td>\n",
       "      <td>20250130</td>\n",
       "    </tr>\n",
       "    <tr>\n",
       "      <th>5</th>\n",
       "      <td>맨틀 MNT 코인 디파이 핀테크 서비스 소개</td>\n",
       "      <td>https://blog.naver.com/tmglove/223781181469</td>\n",
       "      <td>웹2와 웹3을 아우르며 기관과 개인 그리고 리테일을 위한 다양한 핀테크 서비스 출시...</td>\n",
       "      <td>Hello-</td>\n",
       "      <td>blog.naver.com/tmglove</td>\n",
       "      <td>20250302</td>\n",
       "    </tr>\n",
       "    <tr>\n",
       "      <th>6</th>\n",
       "      <td>[핀테크 리더] # 2024 금융위원회 선정 10대 기업 _ 1편</td>\n",
       "      <td>https://blog.naver.com/koreafintech/223675560515</td>\n",
       "      <td>[핀테크 리더] ⭐ # 2024 금융위원회 선정 10대 기업 _ 1편 금융위원회는 ...</td>\n",
       "      <td>한국핀테크지원센터</td>\n",
       "      <td>blog.naver.com/koreafintech</td>\n",
       "      <td>20241128</td>\n",
       "    </tr>\n",
       "    <tr>\n",
       "      <th>7</th>\n",
       "      <td>맨틀 네트워크 코인 MNT 핀테크 서비스 등장</td>\n",
       "      <td>https://blog.naver.com/ghfjvb465/223781841217</td>\n",
       "      <td>맨틀네트워크 코인 핀테크와 크립토 경계 허물기 소개, 시세, 전망 코하! 경제적 자...</td>\n",
       "      <td>노마드신지테의 경제적자유얻기 챌린지</td>\n",
       "      <td>blog.naver.com/ghfjvb465</td>\n",
       "      <td>20250303</td>\n",
       "    </tr>\n",
       "    <tr>\n",
       "      <th>8</th>\n",
       "      <td>신규 상장 더즌 핀테크 B2B 기업용 금융통신망 쉿 쉿 조용 조용</td>\n",
       "      <td>https://blog.naver.com/2yongki/223805949459</td>\n",
       "      <td>기업 개요 20017년 설립 기업용 금융 통신망 서비스를 제공하는 핀테크 업체 금융...</td>\n",
       "      <td>행복한남 경제야놀자</td>\n",
       "      <td>blog.naver.com/2yongki</td>\n",
       "      <td>20250323</td>\n",
       "    </tr>\n",
       "    <tr>\n",
       "      <th>9</th>\n",
       "      <td>테크놀로지스(PGY): AI 기반 대출 혁신의 주목받는 핀테크 기업</td>\n",
       "      <td>https://blog.naver.com/an5217/223810108719</td>\n",
       "      <td>최근 핀테크 업계에서 주목받는 기업 **파가야 테크놀로지스(NASDAQ:PGY)**...</td>\n",
       "      <td>오늘 하루도 절도있고 검소하게</td>\n",
       "      <td>blog.naver.com/an5217</td>\n",
       "      <td>20250326</td>\n",
       "    </tr>\n",
       "  </tbody>\n",
       "</table>\n",
       "</div>"
      ],
      "text/plain": [
       "                                       title  \\\n",
       "0                                  핀테크 투자 후기   \n",
       "1          [핀테크] 2024년 핀테크 업계 결산: 놀라운 3가지 변화   \n",
       "2  [인사이트 캠퍼스] 2025 동계 핀테크 캠프 (with 전주대학교...    \n",
       "3     [AI 핀테크] AI와 빅데이터로 금융 시장을 재편하는 핀테크...    \n",
       "4      IPAY 핀테크관련주 ETF -미국 CBDC 코인 서비스 실험 확대   \n",
       "5                   맨틀 MNT 코인 디파이 핀테크 서비스 소개   \n",
       "6       [핀테크 리더] # 2024 금융위원회 선정 10대 기업 _ 1편   \n",
       "7                  맨틀 네트워크 코인 MNT 핀테크 서비스 등장   \n",
       "8       신규 상장 더즌 핀테크 B2B 기업용 금융통신망 쉿 쉿 조용 조용   \n",
       "9      테크놀로지스(PGY): AI 기반 대출 혁신의 주목받는 핀테크 기업   \n",
       "\n",
       "                                               link  \\\n",
       "0       https://blog.naver.com/kan1687/223812724931   \n",
       "1       https://blog.naver.com/xoom777/223708685044   \n",
       "2    https://blog.naver.com/fininsight/223734638126   \n",
       "3     https://blog.naver.com/jangpung_/223765345858   \n",
       "4         https://blog.naver.com/jaso_/223736810791   \n",
       "5       https://blog.naver.com/tmglove/223781181469   \n",
       "6  https://blog.naver.com/koreafintech/223675560515   \n",
       "7     https://blog.naver.com/ghfjvb465/223781841217   \n",
       "8       https://blog.naver.com/2yongki/223805949459   \n",
       "9        https://blog.naver.com/an5217/223810108719   \n",
       "\n",
       "                                         description          bloggername  \\\n",
       "0  핀테크 투자, 아직도 망설이고 계신가요?  여러분 혹시 이런 고민 해보신 적 있나요...                 우정잉♥   \n",
       "1  동안 핀테크 업계에는 예상치 못한 변화의 바람이 불었습니다. 한동안 주춤했던 트렌드...         Ich fange an   \n",
       "2  전주대학교 친구들이 직접 여의도까지 방문하여 핀테크(FinTech)의 세계를 탐구할...   핀인사이트 (Fininsight)   \n",
       "3  이제 대출도 AI가 하는 시대 출처 : 파가야 테크놀러지스 홈페이지 금융과 기술이 ...           낭만을 꿈꾸는 일상   \n",
       "4  IPAY 핀테크관련주 ETF -미국 CBDC 코인 서비스 실험 확대 IPAY ETF...             미국주식 퍼주마   \n",
       "5  웹2와 웹3을 아우르며 기관과 개인 그리고 리테일을 위한 다양한 핀테크 서비스 출시...               Hello-   \n",
       "6  [핀테크 리더] ⭐ # 2024 금융위원회 선정 10대 기업 _ 1편 금융위원회는 ...            한국핀테크지원센터   \n",
       "7  맨틀네트워크 코인 핀테크와 크립토 경계 허물기 소개, 시세, 전망 코하! 경제적 자...  노마드신지테의 경제적자유얻기 챌린지   \n",
       "8  기업 개요 20017년 설립 기업용 금융 통신망 서비스를 제공하는 핀테크 업체 금융...           행복한남 경제야놀자   \n",
       "9  최근 핀테크 업계에서 주목받는 기업 **파가야 테크놀로지스(NASDAQ:PGY)**...     오늘 하루도 절도있고 검소하게   \n",
       "\n",
       "                   bloggerlink  postdate  \n",
       "0       blog.naver.com/kan1687  20250329  \n",
       "1       blog.naver.com/xoom777  20241229  \n",
       "2    blog.naver.com/fininsight  20250122  \n",
       "3     blog.naver.com/jangpung_  20250218  \n",
       "4         blog.naver.com/jaso_  20250130  \n",
       "5       blog.naver.com/tmglove  20250302  \n",
       "6  blog.naver.com/koreafintech  20241128  \n",
       "7     blog.naver.com/ghfjvb465  20250303  \n",
       "8       blog.naver.com/2yongki  20250323  \n",
       "9        blog.naver.com/an5217  20250326  "
      ]
     },
     "execution_count": 35,
     "metadata": {},
     "output_type": "execute_result"
    }
   ],
   "source": [
    "df = pd.DataFrame(result)\n",
    "df"
   ]
  }
 ],
 "metadata": {
  "kernelspec": {
   "display_name": "Python 3 (ipykernel)",
   "language": "python",
   "name": "python3"
  },
  "language_info": {
   "codemirror_mode": {
    "name": "ipython",
    "version": 3
   },
   "file_extension": ".py",
   "mimetype": "text/x-python",
   "name": "python",
   "nbconvert_exporter": "python",
   "pygments_lexer": "ipython3",
   "version": "3.9.21"
  }
 },
 "nbformat": 4,
 "nbformat_minor": 5
}
