{
 "cells": [
  {
   "cell_type": "markdown",
   "id": "8b5f02d8",
   "metadata": {},
   "source": [
    "# 정적 웹페이지 수집하기\n",
    "* 순수 HTML, CSS로 만들어진 페이지\n",
    "* javascript로 내용을 갱신하지 않는 페이지"
   ]
  },
  {
   "cell_type": "code",
   "execution_count": 3,
   "id": "23946760",
   "metadata": {},
   "outputs": [],
   "source": [
    "import time\n",
    "import requests\n",
    "import pandas as pd\n",
    "from bs4 import BeautifulSoup as bs"
   ]
  },
  {
   "cell_type": "markdown",
   "id": "ea610e63",
   "metadata": {},
   "source": [
    "# yes24 베스트셀러 자료 수집하기"
   ]
  },
  {
   "cell_type": "code",
   "execution_count": 16,
   "id": "60da0b6e",
   "metadata": {},
   "outputs": [
    {
     "ename": "SyntaxError",
     "evalue": "invalid syntax (1327645662.py, line 1)",
     "output_type": "error",
     "traceback": [
      "\u001b[1;36m  Cell \u001b[1;32mIn[16], line 1\u001b[1;36m\u001b[0m\n\u001b[1;33m    https://www.yes24.com/product/category/bestseller?categoryNumber=001&pageNumber=1&pageSize=24\u001b[0m\n\u001b[1;37m          ^\u001b[0m\n\u001b[1;31mSyntaxError\u001b[0m\u001b[1;31m:\u001b[0m invalid syntax\n"
     ]
    }
   ],
   "source": [
    "https://www.yes24.com/product/category/bestseller?categoryNumber=001&pageNumber=1&pageSize=24"
   ]
  },
  {
   "cell_type": "code",
   "execution_count": 4,
   "id": "d52dd27e",
   "metadata": {},
   "outputs": [],
   "source": [
    "# yes24 전체 페이지에서 책 정보가 들어있는 부분만 잘라서 book_list에 저장\n",
    "book_list = soup.select(\"ul#yesBestList > li\")"
   ]
  },
  {
   "cell_type": "code",
   "execution_count": 5,
   "id": "07efff3c",
   "metadata": {},
   "outputs": [
    {
     "name": "stdout",
     "output_type": "stream",
     "text": [
      "https://www.yes24.com/product/category/bestseller?categoryNumber=001&pageNumber=10&pageSize=120\n",
      "200\n"
     ]
    },
    {
     "data": {
      "text/html": [
       "<div>\n",
       "<style scoped>\n",
       "    .dataframe tbody tr th:only-of-type {\n",
       "        vertical-align: middle;\n",
       "    }\n",
       "\n",
       "    .dataframe tbody tr th {\n",
       "        vertical-align: top;\n",
       "    }\n",
       "\n",
       "    .dataframe thead th {\n",
       "        text-align: right;\n",
       "    }\n",
       "</style>\n",
       "<table border=\"1\" class=\"dataframe\">\n",
       "  <thead>\n",
       "    <tr style=\"text-align: right;\">\n",
       "      <th></th>\n",
       "    </tr>\n",
       "  </thead>\n",
       "  <tbody>\n",
       "  </tbody>\n",
       "</table>\n",
       "</div>"
      ],
      "text/plain": [
       "Empty DataFrame\n",
       "Columns: []\n",
       "Index: []"
      ]
     },
     "execution_count": 5,
     "metadata": {},
     "output_type": "execute_result"
    }
   ],
   "source": [
    "result = {}\n",
    "\n",
    "url = \"https://www.yes24.com/product/category/bestseller\"\n",
    "payload = dict(categoryNumber=\"001\", pageNumber=10, pageSize=120)\n",
    "r = requests.get(url, params=payload)\n",
    "print(r.url)\n",
    "print(r.status_code)\n",
    "soup = bs(r.content, \"lxml\")\n",
    "# time.sleep(5)\n",
    "soup\n",
    "\n",
    "\n",
    "for idx, book in enumerate(book_list):\n",
    "    print(f\"{idx}/{len(book_list)} 추출 중\", end=\"\\r\")\n",
    "    # 책 제목\n",
    "    book_title = book.select_one(\".gd_name\").text\n",
    "    # 링크\n",
    "    link = \"https://www.yes24.com\" + book.select_one(\".gd_name\")['href']\n",
    "    # 저자\n",
    "    author = book.select_one(\".info_row.info_pubGrp a\").text\n",
    "    # 사진\n",
    "    photo = book.select_one(\".img_grp em.img_bdr\")\n",
    "    # 출판사\n",
    "    publisher = book.select_one(\".authPub.info_pub a\").text\n",
    "    # 출간일\n",
    "    data_hub = book.select_one(\".authPub.info_date\").text\n",
    "    # 가격\n",
    "    price = book.select_one(\".info_row.info_price em.yes_b\").text\n",
    "    # 회원리뷰 건수\n",
    "    score = book.select_one(\".rating_grade em.yes_b\").text if book.select_one(\".rating_grade em.yes_b\") != None else 0.0\n",
    "    # 회원리뷰 점수\n",
    "    n_reviews =book.select_one(\".info_row.info_rating em.txC_blue\").text if book.select_one(\".info_row.info_rating em.txC_blue\") != None else 0.0\n",
    "    \n",
    "    \n",
    "    keys = ['book_tifle', 'author', 'publisher', 'data_hub', 'price', 'score', 'n_reviews']\n",
    "    values = [book_title, author, publisher, data_hub, price, score, n_reviews]\n",
    "    for key, value in zip(keys, values):\n",
    "        result.setdefault(key, []).append(value)\n",
    "        \n",
    "for key, value in result.items():\n",
    "    print(key, len(value))\n",
    "    \n",
    "df = pd.DataFrame(result)\n",
    "df"
   ]
  },
  {
   "cell_type": "markdown",
   "id": "647f7927",
   "metadata": {},
   "source": [
    "* 전체 yes24 베스트셀러 페이지 중 책 정보가 들어있는 곳: ul#yesBestList\n",
    "* ul#yesBestList 아래의 li에 책 1권의 정보가 들어있음"
   ]
  },
  {
   "cell_type": "code",
   "execution_count": 6,
   "id": "08dcbc73",
   "metadata": {},
   "outputs": [
    {
     "data": {
      "text/plain": [
       "<ul class=\"sGLi tp_book tp_chkG tp_best tp_list\" id=\"yesBestList\">\n",
       "<div class=\"noData\">\n",
       "<p class=\"txt_tit\">조회되는 상품이 없습니다.</p>\n",
       "<p class=\"noData_cmt\">\n",
       "        선택하신 카테고리 또는 옵션 조건을 변경해주세요.\n",
       "    </p>\n",
       "</div>\n",
       "</ul>"
      ]
     },
     "execution_count": 6,
     "metadata": {},
     "output_type": "execute_result"
    }
   ],
   "source": [
    "soup.select_one(\"ul#yesBestList\")"
   ]
  },
  {
   "cell_type": "code",
   "execution_count": 7,
   "id": "82381a48",
   "metadata": {},
   "outputs": [],
   "source": [
    "# for book in book_list:\n",
    "#     print(book)\n",
    "#     print()"
   ]
  },
  {
   "cell_type": "code",
   "execution_count": 9,
   "id": "0ee4a7a8",
   "metadata": {},
   "outputs": [
    {
     "ename": "IndexError",
     "evalue": "list index out of range",
     "output_type": "error",
     "traceback": [
      "\u001b[1;31m---------------------------------------------------------------------------\u001b[0m",
      "\u001b[1;31mIndexError\u001b[0m                                Traceback (most recent call last)",
      "Cell \u001b[1;32mIn[9], line 2\u001b[0m\n\u001b[0;32m      1\u001b[0m \u001b[38;5;66;03m# 책 제목\u001b[39;00m\n\u001b[1;32m----> 2\u001b[0m book_title \u001b[38;5;241m=\u001b[39m \u001b[43mbook_list\u001b[49m\u001b[43m[\u001b[49m\u001b[38;5;241;43m0\u001b[39;49m\u001b[43m]\u001b[49m\u001b[38;5;241m.\u001b[39mselect_one(\u001b[38;5;124m\"\u001b[39m\u001b[38;5;124m.gd_name\u001b[39m\u001b[38;5;124m\"\u001b[39m)\u001b[38;5;241m.\u001b[39mtext\n\u001b[0;32m      3\u001b[0m book_title\n",
      "\u001b[1;31mIndexError\u001b[0m: list index out of range"
     ]
    }
   ],
   "source": [
    "# 책 제목\n",
    "book_title = book_list[0].select_one(\".gd_name\").text\n",
    "book_title"
   ]
  },
  {
   "cell_type": "code",
   "execution_count": 10,
   "id": "3d5930d8",
   "metadata": {},
   "outputs": [
    {
     "ename": "IndexError",
     "evalue": "list index out of range",
     "output_type": "error",
     "traceback": [
      "\u001b[1;31m---------------------------------------------------------------------------\u001b[0m",
      "\u001b[1;31mIndexError\u001b[0m                                Traceback (most recent call last)",
      "Cell \u001b[1;32mIn[10], line 2\u001b[0m\n\u001b[0;32m      1\u001b[0m \u001b[38;5;66;03m# 저자\u001b[39;00m\n\u001b[1;32m----> 2\u001b[0m author \u001b[38;5;241m=\u001b[39m \u001b[43mbook_list\u001b[49m\u001b[43m[\u001b[49m\u001b[38;5;241;43m0\u001b[39;49m\u001b[43m]\u001b[49m\u001b[38;5;241m.\u001b[39mselect_one(\u001b[38;5;124m\"\u001b[39m\u001b[38;5;124m.info_row.info_pubGrp a\u001b[39m\u001b[38;5;124m\"\u001b[39m)\u001b[38;5;241m.\u001b[39mtext\n\u001b[0;32m      4\u001b[0m author\n",
      "\u001b[1;31mIndexError\u001b[0m: list index out of range"
     ]
    }
   ],
   "source": [
    "# 저자\n",
    "author = book_list[0].select_one(\".info_row.info_pubGrp a\").text\n",
    "\n",
    "author"
   ]
  },
  {
   "cell_type": "code",
   "execution_count": 27,
   "id": "54acef50",
   "metadata": {},
   "outputs": [
    {
     "ename": "IndexError",
     "evalue": "list index out of range",
     "output_type": "error",
     "traceback": [
      "\u001b[1;31m---------------------------------------------------------------------------\u001b[0m",
      "\u001b[1;31mIndexError\u001b[0m                                Traceback (most recent call last)",
      "Cell \u001b[1;32mIn[27], line 2\u001b[0m\n\u001b[0;32m      1\u001b[0m \u001b[38;5;66;03m# 출판사\u001b[39;00m\n\u001b[1;32m----> 2\u001b[0m publisher \u001b[38;5;241m=\u001b[39m \u001b[43mbook_list\u001b[49m\u001b[43m[\u001b[49m\u001b[38;5;241;43m0\u001b[39;49m\u001b[43m]\u001b[49m\u001b[38;5;241m.\u001b[39mselect_one(\u001b[38;5;124m\"\u001b[39m\u001b[38;5;124m.authPub.info_pub a\u001b[39m\u001b[38;5;124m\"\u001b[39m)\u001b[38;5;241m.\u001b[39mtext\n\u001b[0;32m      3\u001b[0m publisher\n",
      "\u001b[1;31mIndexError\u001b[0m: list index out of range"
     ]
    }
   ],
   "source": [
    "# 출판사\n",
    "publisher = book_list[0].select_one(\".authPub.info_pub a\").text\n",
    "publisher"
   ]
  },
  {
   "cell_type": "code",
   "execution_count": 28,
   "id": "89ee9744",
   "metadata": {},
   "outputs": [
    {
     "ename": "IndexError",
     "evalue": "list index out of range",
     "output_type": "error",
     "traceback": [
      "\u001b[1;31m---------------------------------------------------------------------------\u001b[0m",
      "\u001b[1;31mIndexError\u001b[0m                                Traceback (most recent call last)",
      "Cell \u001b[1;32mIn[28], line 2\u001b[0m\n\u001b[0;32m      1\u001b[0m \u001b[38;5;66;03m# 출간일\u001b[39;00m\n\u001b[1;32m----> 2\u001b[0m data_hub \u001b[38;5;241m=\u001b[39m \u001b[43mbook_list\u001b[49m\u001b[43m[\u001b[49m\u001b[38;5;241;43m0\u001b[39;49m\u001b[43m]\u001b[49m\u001b[38;5;241m.\u001b[39mselect_one(\u001b[38;5;124m\"\u001b[39m\u001b[38;5;124m.authPub.info_date\u001b[39m\u001b[38;5;124m\"\u001b[39m)\u001b[38;5;241m.\u001b[39mtext\n",
      "\u001b[1;31mIndexError\u001b[0m: list index out of range"
     ]
    }
   ],
   "source": [
    "# 출간일\n",
    "data_hub = book_list[0].select_one(\".authPub.info_date\").text"
   ]
  },
  {
   "cell_type": "code",
   "execution_count": 29,
   "id": "e6935778",
   "metadata": {},
   "outputs": [
    {
     "ename": "IndexError",
     "evalue": "list index out of range",
     "output_type": "error",
     "traceback": [
      "\u001b[1;31m---------------------------------------------------------------------------\u001b[0m",
      "\u001b[1;31mIndexError\u001b[0m                                Traceback (most recent call last)",
      "Cell \u001b[1;32mIn[29], line 2\u001b[0m\n\u001b[0;32m      1\u001b[0m \u001b[38;5;66;03m# 가격\u001b[39;00m\n\u001b[1;32m----> 2\u001b[0m price \u001b[38;5;241m=\u001b[39m \u001b[43mbook_list\u001b[49m\u001b[43m[\u001b[49m\u001b[38;5;241;43m0\u001b[39;49m\u001b[43m]\u001b[49m\u001b[38;5;241m.\u001b[39mselect_one(\u001b[38;5;124m\"\u001b[39m\u001b[38;5;124m.info_row.info_price em.yes_b\u001b[39m\u001b[38;5;124m\"\u001b[39m)\u001b[38;5;241m.\u001b[39mtext\n",
      "\u001b[1;31mIndexError\u001b[0m: list index out of range"
     ]
    }
   ],
   "source": [
    "# 가격\n",
    "price = book_list[0].select_one(\".info_row.info_price em.yes_b\").text"
   ]
  },
  {
   "cell_type": "code",
   "execution_count": 30,
   "id": "ecb98cff",
   "metadata": {},
   "outputs": [
    {
     "ename": "IndexError",
     "evalue": "list index out of range",
     "output_type": "error",
     "traceback": [
      "\u001b[1;31m---------------------------------------------------------------------------\u001b[0m",
      "\u001b[1;31mIndexError\u001b[0m                                Traceback (most recent call last)",
      "Cell \u001b[1;32mIn[30], line 2\u001b[0m\n\u001b[0;32m      1\u001b[0m \u001b[38;5;66;03m# 회원리뷰 점수\u001b[39;00m\n\u001b[1;32m----> 2\u001b[0m score \u001b[38;5;241m=\u001b[39m \u001b[43mbook_list\u001b[49m\u001b[43m[\u001b[49m\u001b[38;5;241;43m0\u001b[39;49m\u001b[43m]\u001b[49m\u001b[38;5;241m.\u001b[39mselect_one(\u001b[38;5;124m\"\u001b[39m\u001b[38;5;124m.rating_grade em.yes_b\u001b[39m\u001b[38;5;124m\"\u001b[39m)\u001b[38;5;241m.\u001b[39mtext\n",
      "\u001b[1;31mIndexError\u001b[0m: list index out of range"
     ]
    }
   ],
   "source": [
    "# 회원리뷰 점수\n",
    "score = book_list[0].select_one(\".rating_grade em.yes_b\").text"
   ]
  },
  {
   "cell_type": "code",
   "execution_count": 32,
   "id": "a99ab1c4",
   "metadata": {},
   "outputs": [
    {
     "ename": "IndexError",
     "evalue": "list index out of range",
     "output_type": "error",
     "traceback": [
      "\u001b[1;31m---------------------------------------------------------------------------\u001b[0m",
      "\u001b[1;31mIndexError\u001b[0m                                Traceback (most recent call last)",
      "Cell \u001b[1;32mIn[32], line 2\u001b[0m\n\u001b[0;32m      1\u001b[0m \u001b[38;5;66;03m# 회원리뷰 점수\u001b[39;00m\n\u001b[1;32m----> 2\u001b[0m n_reviews \u001b[38;5;241m=\u001b[39m\u001b[43mbook_list\u001b[49m\u001b[43m[\u001b[49m\u001b[38;5;241;43m0\u001b[39;49m\u001b[43m]\u001b[49m\u001b[38;5;241m.\u001b[39mselect_one(\u001b[38;5;124m\"\u001b[39m\u001b[38;5;124m.info_row.info_rating em.txC_blue\u001b[39m\u001b[38;5;124m\"\u001b[39m)\u001b[38;5;241m.\u001b[39mtext\n",
      "\u001b[1;31mIndexError\u001b[0m: list index out of range"
     ]
    }
   ],
   "source": [
    "# 회원리뷰 점수\n",
    "n_reviews =book_list[0].select_one(\".info_row.info_rating em.txC_blue\").text\n"
   ]
  },
  {
   "cell_type": "code",
   "execution_count": 33,
   "id": "e0ebf8b4",
   "metadata": {},
   "outputs": [],
   "source": [
    "result = {}\n",
    "for idx, book in enumerate(book_list):\n",
    "    print(f\"{idx}/{len(book_list)} 추출 중\", end=\"\\r\")\n",
    "    # 책 제목\n",
    "    book_title = book.select_one(\".gd_name\").text\n",
    "    # 저자\n",
    "    author = book.select_one(\".info_row.info_pubGrp a\").text\n",
    "    # 출판사\n",
    "    publisher = book.select_one(\".authPub.info_pub a\").text\n",
    "    # 출간일\n",
    "    data_hub = book.select_one(\".authPub.info_date\").text\n",
    "    # 가격\n",
    "    price = book.select_one(\".info_row.info_price em.yes_b\").text\n",
    "    # 회원리뷰 건수\n",
    "    score = book.select_one(\".rating_grade em.yes_b\").text if book.select_one(\".rating_grade em.yes_b\") != None else 0.0\n",
    "    # 회원리뷰 점수\n",
    "    n_reviews =book.select_one(\".info_row.info_rating em.txC_blue\").text if book.select_one(\".info_row.info_rating em.txC_blue\") != None else 0.0\n",
    "    \n",
    "    \n",
    "    keys = ['book_tifle', 'author', 'publisher', 'data_hub', 'price', 'score', 'n_reviews']\n",
    "    values = [book_title, author, publisher, data_hub, price, score, n_reviews]\n",
    "    for key, value in zip(keys, values):\n",
    "        result.setdefault(key, []).append(value)\n",
    "        \n",
    "for key, value in result.items():\n",
    "    print(key, len(value))"
   ]
  },
  {
   "cell_type": "code",
   "execution_count": 166,
   "id": "5b0bd1f7",
   "metadata": {},
   "outputs": [
    {
     "name": "stdout",
     "output_type": "stream",
     "text": [
      "홀수\n"
     ]
    }
   ],
   "source": [
    "x = 3\n",
    "print(\"짝수\") if x % 2 == 0 else print(\"홀수\")"
   ]
  },
  {
   "cell_type": "code",
   "execution_count": 34,
   "id": "77a65d87",
   "metadata": {},
   "outputs": [
    {
     "ename": "KeyError",
     "evalue": "'author'",
     "output_type": "error",
     "traceback": [
      "\u001b[1;31m---------------------------------------------------------------------------\u001b[0m",
      "\u001b[1;31mKeyError\u001b[0m                                  Traceback (most recent call last)",
      "Cell \u001b[1;32mIn[34], line 1\u001b[0m\n\u001b[1;32m----> 1\u001b[0m \u001b[43mresult\u001b[49m\u001b[43m[\u001b[49m\u001b[38;5;124;43m'\u001b[39;49m\u001b[38;5;124;43mauthor\u001b[39;49m\u001b[38;5;124;43m'\u001b[39;49m\u001b[43m]\u001b[49m[\u001b[38;5;241m28\u001b[39m]\n",
      "\u001b[1;31mKeyError\u001b[0m: 'author'"
     ]
    }
   ],
   "source": [
    "result['author'][28]"
   ]
  },
  {
   "cell_type": "code",
   "execution_count": 35,
   "id": "bb3b8b96",
   "metadata": {},
   "outputs": [
    {
     "ename": "IndexError",
     "evalue": "list index out of range",
     "output_type": "error",
     "traceback": [
      "\u001b[1;31m---------------------------------------------------------------------------\u001b[0m",
      "\u001b[1;31mIndexError\u001b[0m                                Traceback (most recent call last)",
      "Cell \u001b[1;32mIn[35], line 1\u001b[0m\n\u001b[1;32m----> 1\u001b[0m \u001b[38;5;28;01mfor\u001b[39;00m author \u001b[38;5;129;01min\u001b[39;00m \u001b[43mbook_list\u001b[49m\u001b[43m[\u001b[49m\u001b[38;5;241;43m28\u001b[39;49m\u001b[43m]\u001b[49m\u001b[38;5;241m.\u001b[39mselect(\u001b[38;5;124m\"\u001b[39m\u001b[38;5;124m.info_row.info_pubGrp a\u001b[39m\u001b[38;5;124m\"\u001b[39m):\n\u001b[0;32m      2\u001b[0m     \u001b[38;5;28mprint\u001b[39m(author\u001b[38;5;241m.\u001b[39mtext)\n",
      "\u001b[1;31mIndexError\u001b[0m: list index out of range"
     ]
    }
   ],
   "source": [
    "for author in book_list[28].select(\".info_row.info_pubGrp a\"):\n",
    "    print(author.text)"
   ]
  },
  {
   "cell_type": "code",
   "execution_count": 36,
   "id": "95f5bc2b",
   "metadata": {},
   "outputs": [
    {
     "ename": "IndexError",
     "evalue": "list index out of range",
     "output_type": "error",
     "traceback": [
      "\u001b[1;31m---------------------------------------------------------------------------\u001b[0m",
      "\u001b[1;31mIndexError\u001b[0m                                Traceback (most recent call last)",
      "Cell \u001b[1;32mIn[36], line 1\u001b[0m\n\u001b[1;32m----> 1\u001b[0m \u001b[38;5;124m\"\u001b[39m\u001b[38;5;124mhttps://www.yes24.com\u001b[39m\u001b[38;5;124m\"\u001b[39m \u001b[38;5;241m+\u001b[39m \u001b[43mbook_list\u001b[49m\u001b[43m[\u001b[49m\u001b[38;5;241;43m20\u001b[39;49m\u001b[43m]\u001b[49m\u001b[38;5;241m.\u001b[39mselect_one(\u001b[38;5;124m\"\u001b[39m\u001b[38;5;124m.gd_name\u001b[39m\u001b[38;5;124m\"\u001b[39m)[\u001b[38;5;124m'\u001b[39m\u001b[38;5;124mhref\u001b[39m\u001b[38;5;124m'\u001b[39m]\n",
      "\u001b[1;31mIndexError\u001b[0m: list index out of range"
     ]
    }
   ],
   "source": [
    "\"https://www.yes24.com\" + book_list[20].select_one(\".gd_name\")['href']"
   ]
  },
  {
   "cell_type": "code",
   "execution_count": 37,
   "id": "3682ad3d",
   "metadata": {},
   "outputs": [
    {
     "ename": "IndexError",
     "evalue": "list index out of range",
     "output_type": "error",
     "traceback": [
      "\u001b[1;31m---------------------------------------------------------------------------\u001b[0m",
      "\u001b[1;31mIndexError\u001b[0m                                Traceback (most recent call last)",
      "Cell \u001b[1;32mIn[37], line 1\u001b[0m\n\u001b[1;32m----> 1\u001b[0m \u001b[43mbook_list\u001b[49m\u001b[43m[\u001b[49m\u001b[38;5;241;43m20\u001b[39;49m\u001b[43m]\u001b[49m\u001b[38;5;241m.\u001b[39mselect_one(\u001b[38;5;124m\"\u001b[39m\u001b[38;5;124m.authPub.info_auth\u001b[39m\u001b[38;5;124m\"\u001b[39m)\u001b[38;5;241m.\u001b[39mtext\u001b[38;5;241m.\u001b[39msplit(\u001b[38;5;124m\"\u001b[39m\u001b[38;5;124m/\u001b[39m\u001b[38;5;124m\"\u001b[39m)[\u001b[38;5;241m1\u001b[39m]\n",
      "\u001b[1;31mIndexError\u001b[0m: list index out of range"
     ]
    }
   ],
   "source": [
    "book_list[20].select_one(\".authPub.info_auth\").text.split(\"/\")[1]"
   ]
  },
  {
   "cell_type": "code",
   "execution_count": 92,
   "id": "baedaf47",
   "metadata": {},
   "outputs": [
    {
     "data": {
      "text/plain": [
       "24"
      ]
     },
     "execution_count": 92,
     "metadata": {},
     "output_type": "execute_result"
    }
   ],
   "source": [
    "len(soup.select(\"ul#yesBestList > li\"))"
   ]
  },
  {
   "cell_type": "code",
   "execution_count": 44,
   "id": "46424173",
   "metadata": {
    "scrolled": true
   },
   "outputs": [
    {
     "data": {
      "text/plain": [
       "<a class=\"gd_name\" href=\"/product/goods/144021119\" onclick=\"wiseLogV2('BS', '001_005_001', ''); \">단 한 번의 삶</a>"
      ]
     },
     "execution_count": 44,
     "metadata": {},
     "output_type": "execute_result"
    }
   ],
   "source": [
    "soup.select_one(\"a.gd_name\")"
   ]
  },
  {
   "cell_type": "code",
   "execution_count": 202,
   "id": "7d67d483",
   "metadata": {},
   "outputs": [
    {
     "data": {
      "text/plain": [
       "<em class=\"img_bdr\">\n",
       "<img alt=\"단 한 번의 삶\" border=\"0\" class=\"lazy\" data-original=\"https://image.yes24.com/goods/144021119/L\" src=\"https://image.yes24.com/momo/Noimg_L.jpg\"/>\n",
       "</em>"
      ]
     },
     "execution_count": 202,
     "metadata": {},
     "output_type": "execute_result"
    }
   ],
   "source": [
    "book.select_one(\".img_grp em.img_bdr\")"
   ]
  },
  {
   "cell_type": "markdown",
   "id": "d44ebe03",
   "metadata": {},
   "source": [
    "# 전체페이지 수집하기"
   ]
  },
  {
   "cell_type": "code",
   "execution_count": 1,
   "id": "6bf16aad",
   "metadata": {},
   "outputs": [],
   "source": [
    "import time\n",
    "import requests\n",
    "import pandas as pd\n",
    "from bs4 import BeautifulSoup as bs"
   ]
  },
  {
   "cell_type": "code",
   "execution_count": 3,
   "id": "489ab108",
   "metadata": {},
   "outputs": [
    {
     "name": "stdout",
     "output_type": "stream",
     "text": [
      "https://www.yes24.com/product/category/bestseller?categoryNumber=001&pageNumber=1&pageSize=120\n",
      "200\n",
      "book_tifle 120\n",
      "author 120\n",
      "publisher 120\n",
      "data_hub 120\n",
      "price 120\n",
      "score 120\n",
      "n_reviews 120\n",
      "https://www.yes24.com/product/category/bestseller?categoryNumber=001&pageNumber=2&pageSize=120\n",
      "200\n",
      "book_tifle 120\n",
      "author 120\n",
      "publisher 120\n",
      "data_hub 120\n",
      "price 120\n",
      "score 120\n",
      "n_reviews 120\n",
      "https://www.yes24.com/product/category/bestseller?categoryNumber=001&pageNumber=3&pageSize=120\n",
      "200\n",
      "book_tifle 120\n",
      "author 120\n",
      "publisher 120\n",
      "data_hub 120\n",
      "price 120\n",
      "score 120\n",
      "n_reviews 120\n",
      "https://www.yes24.com/product/category/bestseller?categoryNumber=001&pageNumber=4&pageSize=120\n",
      "200\n",
      "book_tifle 120\n",
      "author 120\n",
      "publisher 120\n",
      "data_hub 120\n",
      "price 120\n",
      "score 120\n",
      "n_reviews 120\n",
      "https://www.yes24.com/product/category/bestseller?categoryNumber=001&pageNumber=5&pageSize=120\n",
      "200\n",
      "book_tifle 120\n",
      "author 120\n",
      "publisher 120\n",
      "data_hub 120\n",
      "price 120\n",
      "score 120\n",
      "n_reviews 120\n",
      "https://www.yes24.com/product/category/bestseller?categoryNumber=001&pageNumber=6&pageSize=120\n",
      "200\n",
      "book_tifle 120\n",
      "author 120\n",
      "publisher 120\n",
      "data_hub 120\n",
      "price 120\n",
      "score 120\n",
      "n_reviews 120\n",
      "https://www.yes24.com/product/category/bestseller?categoryNumber=001&pageNumber=7&pageSize=120\n",
      "200\n",
      "book_tifle 120\n",
      "author 120\n",
      "publisher 120\n",
      "data_hub 120\n",
      "price 120\n",
      "score 120\n",
      "n_reviews 120\n",
      "https://www.yes24.com/product/category/bestseller?categoryNumber=001&pageNumber=8&pageSize=120\n",
      "200\n",
      "book_tifle 120\n",
      "author 120\n",
      "publisher 120\n",
      "data_hub 120\n",
      "price 120\n",
      "score 120\n",
      "n_reviews 120\n",
      "https://www.yes24.com/product/category/bestseller?categoryNumber=001&pageNumber=9&pageSize=120\n",
      "200\n",
      "book_tifle 39\n",
      "author 39\n",
      "publisher 39\n",
      "data_hub 39\n",
      "price 39\n",
      "score 39\n",
      "n_reviews 39\n",
      "https://www.yes24.com/product/category/bestseller?categoryNumber=001&pageNumber=10&pageSize=120\n",
      "200\n",
      "https://www.yes24.com/product/category/bestseller?categoryNumber=001&pageNumber=11&pageSize=120\n",
      "200\n",
      "https://www.yes24.com/product/category/bestseller?categoryNumber=001&pageNumber=12&pageSize=120\n",
      "200\n"
     ]
    },
    {
     "data": {
      "text/html": [
       "<div>\n",
       "<style scoped>\n",
       "    .dataframe tbody tr th:only-of-type {\n",
       "        vertical-align: middle;\n",
       "    }\n",
       "\n",
       "    .dataframe tbody tr th {\n",
       "        vertical-align: top;\n",
       "    }\n",
       "\n",
       "    .dataframe thead th {\n",
       "        text-align: right;\n",
       "    }\n",
       "</style>\n",
       "<table border=\"1\" class=\"dataframe\">\n",
       "  <thead>\n",
       "    <tr style=\"text-align: right;\">\n",
       "      <th></th>\n",
       "      <th>book_tifle</th>\n",
       "      <th>author</th>\n",
       "      <th>publisher</th>\n",
       "      <th>data_hub</th>\n",
       "      <th>price</th>\n",
       "      <th>score</th>\n",
       "      <th>n_reviews</th>\n",
       "    </tr>\n",
       "  </thead>\n",
       "  <tbody>\n",
       "    <tr>\n",
       "      <th>0</th>\n",
       "      <td>단 한 번의 삶</td>\n",
       "      <td>김영하</td>\n",
       "      <td>복복서가</td>\n",
       "      <td>2025년 04월</td>\n",
       "      <td>15,120</td>\n",
       "      <td>8.6</td>\n",
       "      <td>13</td>\n",
       "    </tr>\n",
       "    <tr>\n",
       "      <th>1</th>\n",
       "      <td>듀얼 브레인</td>\n",
       "      <td>이선 몰릭</td>\n",
       "      <td>상상스퀘어</td>\n",
       "      <td>2025년 03월</td>\n",
       "      <td>18,900</td>\n",
       "      <td>8.7</td>\n",
       "      <td>38</td>\n",
       "    </tr>\n",
       "    <tr>\n",
       "      <th>2</th>\n",
       "      <td>어른의 품격을 채우는 100일 필사 노트</td>\n",
       "      <td>김종원</td>\n",
       "      <td>청림Life</td>\n",
       "      <td>2025년 03월</td>\n",
       "      <td>18,000</td>\n",
       "      <td>9.9</td>\n",
       "      <td>56</td>\n",
       "    </tr>\n",
       "    <tr>\n",
       "      <th>3</th>\n",
       "      <td>소년이 온다</td>\n",
       "      <td>한강</td>\n",
       "      <td>창비</td>\n",
       "      <td>2014년 05월</td>\n",
       "      <td>13,500</td>\n",
       "      <td>9.7</td>\n",
       "      <td>3,846</td>\n",
       "    </tr>\n",
       "    <tr>\n",
       "      <th>4</th>\n",
       "      <td>성적 초격차를 만드는 독서력 수업</td>\n",
       "      <td>김수미</td>\n",
       "      <td>빅피시</td>\n",
       "      <td>2025년 03월</td>\n",
       "      <td>17,820</td>\n",
       "      <td>9.9</td>\n",
       "      <td>67</td>\n",
       "    </tr>\n",
       "    <tr>\n",
       "      <th>...</th>\n",
       "      <td>...</td>\n",
       "      <td>...</td>\n",
       "      <td>...</td>\n",
       "      <td>...</td>\n",
       "      <td>...</td>\n",
       "      <td>...</td>\n",
       "      <td>...</td>\n",
       "    </tr>\n",
       "    <tr>\n",
       "      <th>994</th>\n",
       "      <td>오십의 기술</td>\n",
       "      <td>이호선</td>\n",
       "      <td>카시오페아</td>\n",
       "      <td>2023년 04월</td>\n",
       "      <td>16,200</td>\n",
       "      <td>9.2</td>\n",
       "      <td>48</td>\n",
       "    </tr>\n",
       "    <tr>\n",
       "      <th>995</th>\n",
       "      <td>햇빛초 대나무 숲에 새 글이 올라왔습니다</td>\n",
       "      <td>황지영</td>\n",
       "      <td>우리학교</td>\n",
       "      <td>2020년 08월</td>\n",
       "      <td>13,050</td>\n",
       "      <td>9.9</td>\n",
       "      <td>68</td>\n",
       "    </tr>\n",
       "    <tr>\n",
       "      <th>996</th>\n",
       "      <td>처음 읽는 그리스 로마 신화 2</td>\n",
       "      <td>최설희</td>\n",
       "      <td>미래엔아이세움</td>\n",
       "      <td>2020년 08월</td>\n",
       "      <td>10,800</td>\n",
       "      <td>9.9</td>\n",
       "      <td>84</td>\n",
       "    </tr>\n",
       "    <tr>\n",
       "      <th>997</th>\n",
       "      <td>칵테일, 러브, 좀비</td>\n",
       "      <td>조예은</td>\n",
       "      <td>안전가옥</td>\n",
       "      <td>2020년 04월</td>\n",
       "      <td>11,700</td>\n",
       "      <td>9.2</td>\n",
       "      <td>1,132</td>\n",
       "    </tr>\n",
       "    <tr>\n",
       "      <th>998</th>\n",
       "      <td>와일드 로봇</td>\n",
       "      <td>피터 브라운</td>\n",
       "      <td>거북이북스</td>\n",
       "      <td>2019년 07월</td>\n",
       "      <td>15,120</td>\n",
       "      <td>9.9</td>\n",
       "      <td>86</td>\n",
       "    </tr>\n",
       "  </tbody>\n",
       "</table>\n",
       "<p>999 rows × 7 columns</p>\n",
       "</div>"
      ],
      "text/plain": [
       "                 book_tifle  author publisher   data_hub   price score  \\\n",
       "0                  단 한 번의 삶     김영하      복복서가  2025년 04월  15,120   8.6   \n",
       "1                    듀얼 브레인   이선 몰릭     상상스퀘어  2025년 03월  18,900   8.7   \n",
       "2    어른의 품격을 채우는 100일 필사 노트     김종원    청림Life  2025년 03월  18,000   9.9   \n",
       "3                    소년이 온다      한강        창비  2014년 05월  13,500   9.7   \n",
       "4        성적 초격차를 만드는 독서력 수업     김수미       빅피시  2025년 03월  17,820   9.9   \n",
       "..                      ...     ...       ...        ...     ...   ...   \n",
       "994                  오십의 기술     이호선     카시오페아  2023년 04월  16,200   9.2   \n",
       "995  햇빛초 대나무 숲에 새 글이 올라왔습니다     황지영      우리학교  2020년 08월  13,050   9.9   \n",
       "996       처음 읽는 그리스 로마 신화 2     최설희   미래엔아이세움  2020년 08월  10,800   9.9   \n",
       "997             칵테일, 러브, 좀비     조예은      안전가옥  2020년 04월  11,700   9.2   \n",
       "998                  와일드 로봇  피터 브라운     거북이북스  2019년 07월  15,120   9.9   \n",
       "\n",
       "    n_reviews  \n",
       "0          13  \n",
       "1          38  \n",
       "2          56  \n",
       "3       3,846  \n",
       "4          67  \n",
       "..        ...  \n",
       "994        48  \n",
       "995        68  \n",
       "996        84  \n",
       "997     1,132  \n",
       "998        86  \n",
       "\n",
       "[999 rows x 7 columns]"
      ]
     },
     "execution_count": 3,
     "metadata": {},
     "output_type": "execute_result"
    }
   ],
   "source": [
    "result_list = []\n",
    "page = 1\n",
    "while True:\n",
    "\n",
    "    url = \"https://www.yes24.com/product/category/bestseller\"\n",
    "    payload = dict(categoryNumber=\"001\", pageNumber=page, pageSize=120)\n",
    "    r = requests.get(url, params=payload)\n",
    "    print(r.url)\n",
    "    print(r.status_code)\n",
    "    soup = bs(r.content, \"lxml\")\n",
    "    time.sleep(5)\n",
    "    # yes24 전체페이지에서 책 정보가 들어있는 부분만 잘라서 book_list에 저장\n",
    "    book_list = soup.select(\"ul#yesBestList > li\")\n",
    "\n",
    "    result = {}\n",
    "\n",
    "    for idx, book in enumerate(book_list):\n",
    "        print(f\"{idx}/{len(book_list)} 추출 중\", end=\"\\r\")\n",
    "        # 책 제목\n",
    "        book_title = book.select_one(\".gd_name\").text\n",
    "        # 저자\n",
    "        author = book.select_one(\".info_row.info_pubGrp a\").text\n",
    "        # 출판사\n",
    "        publisher = book.select_one(\".authPub.info_pub a\").text\n",
    "        # 출간일\n",
    "        data_hub = book.select_one(\".authPub.info_date\").text\n",
    "        # 가격\n",
    "        price = book.select_one(\".info_row.info_price em.yes_b\").text\n",
    "        # 회원리뷰 건수\n",
    "        score = book.select_one(\".rating_grade em.yes_b\").text if book.select_one(\".rating_grade em.yes_b\") != None else 0.0\n",
    "        # 회원리뷰 점수\n",
    "        n_reviews =book.select_one(\".info_row.info_rating em.txC_blue\").text if book.select_one(\".info_row.info_rating em.txC_blue\") != None else 0.0\n",
    "\n",
    "\n",
    "        keys = ['book_tifle', 'author', 'publisher', 'data_hub', 'price', 'score', 'n_reviews']\n",
    "        values = [book_title, author, publisher, data_hub, price, score, n_reviews]\n",
    "        for key, value in zip(keys, values):\n",
    "            result.setdefault(key, []).append(value)\n",
    "\n",
    "    for key, value in result.items():\n",
    "        print(key, len(value))\n",
    "    \n",
    "    result_list.append(pd.DataFrame(result))\n",
    "    \n",
    "    if page < 12:\n",
    "        page += 1\n",
    "    else:\n",
    "        break\n",
    "result_list = pd.concat(result_list)\n",
    "result_list = result_list.reset_index(drop=True)\n",
    "result_list"
   ]
  },
  {
   "cell_type": "code",
   "execution_count": 9,
   "id": "61589cb1",
   "metadata": {},
   "outputs": [],
   "source": [
    "# yes24 전체 페이지에서 책 정보가 들어있는 부분만 잘라서 book_list에 저장\n",
    "book_list = soup.select(\"ul#yesBestList > li\")"
   ]
  },
  {
   "cell_type": "markdown",
   "id": "7752bc44",
   "metadata": {},
   "source": [
    "## 저자, 역자, 글그림, 편저, 공동저자 등 구분하기"
   ]
  },
  {
   "cell_type": "code",
   "execution_count": 10,
   "id": "af5b3d91",
   "metadata": {},
   "outputs": [
    {
     "name": "stdout",
     "output_type": "stream",
     "text": [
      "https://www.yes24.com/product/category/bestseller?categoryNumber=001&pageNumber=12&pageSize=120\n",
      "200\n"
     ]
    }
   ],
   "source": [
    "url = \"https://www.yes24.com/product/category/bestseller\"\n",
    "payload = dict(categoryNumber=\"001\", pageNumber=1, pageSize=120)\n",
    "r = requests.get(url, params=payload)\n",
    "print(r.url)\n",
    "print(r.status_code)\n",
    "soup = bs(r.content, \"lxml\")\n",
    "time.sleep(5)\n",
    "# yes24 전체페이지에서 책 정보가 들어있는 부분만 잘라서 book_list에 저장\n",
    "book_list = soup.select(\"ul#yesBestList > li\")"
   ]
  },
  {
   "cell_type": "code",
   "execution_count": 11,
   "id": "d6ea1b0b",
   "metadata": {},
   "outputs": [],
   "source": [
    "def text_clean(text):\n",
    "    return text.replace(\"\\n\", \" \").replace(\"\\r\", \" \").strip()"
   ]
  },
  {
   "cell_type": "code",
   "execution_count": 13,
   "id": "320aab31",
   "metadata": {},
   "outputs": [],
   "source": [
    "for book in book_list:\n",
    "    author = \"\"\n",
    "    photo = \"\"\n",
    "    trans = \"\"\n",
    "    paint = \"\"\n",
    "    for item in text_clean(book.select_one(\".authPub.info_auth\").text).split(\"/\"):\n",
    "        if \"저\" == item[-1]:\n",
    "            author = item\n",
    "        elif \"정보 더 보기\" == item[-7:]:\n",
    "            auhtor = item.replace(\"정보 더 보기\", \"\").strip()\n",
    "        elif \"사진\" == item[-2:]:\n",
    "            photo = item\n",
    "        elif \"역\" == item[-1]:\n",
    "            trans = item\n",
    "        elif \"글그림\" == item[-3:]:\n",
    "            paint = item\n",
    "    print(f\"author{author}, photo{photo}, trans{trans}, paint{paint}\")"
   ]
  },
  {
   "cell_type": "code",
   "execution_count": 18,
   "id": "6d41f4ad",
   "metadata": {},
   "outputs": [
    {
     "ename": "IndexError",
     "evalue": "list index out of range",
     "output_type": "error",
     "traceback": [
      "\u001b[1;31m---------------------------------------------------------------------------\u001b[0m",
      "\u001b[1;31mIndexError\u001b[0m                                Traceback (most recent call last)",
      "Cell \u001b[1;32mIn[18], line 1\u001b[0m\n\u001b[1;32m----> 1\u001b[0m \u001b[38;5;28;01mfor\u001b[39;00m item \u001b[38;5;129;01min\u001b[39;00m text_clean(\u001b[43mbook_list\u001b[49m\u001b[43m[\u001b[49m\u001b[38;5;241;43m20\u001b[39;49m\u001b[43m]\u001b[49m\u001b[38;5;241m.\u001b[39mselect_one(\u001b[38;5;124m\"\u001b[39m\u001b[38;5;124m.authPub.info_auth\u001b[39m\u001b[38;5;124m\"\u001b[39m)\u001b[38;5;241m.\u001b[39mtext)\u001b[38;5;241m.\u001b[39msplit(\u001b[38;5;124m\"\u001b[39m\u001b[38;5;124m/\u001b[39m\u001b[38;5;124m\"\u001b[39m):\n\u001b[0;32m      2\u001b[0m     \u001b[38;5;28;01mif\u001b[39;00m \u001b[38;5;124m\"\u001b[39m\u001b[38;5;124m감추기\u001b[39m\u001b[38;5;124m\"\u001b[39m \u001b[38;5;129;01min\u001b[39;00m item[:\u001b[38;5;241m4\u001b[39m]:\n\u001b[0;32m      3\u001b[0m         author \u001b[38;5;241m=\u001b[39m item\u001b[38;5;241m.\u001b[39mreplace(\u001b[38;5;124m\"\u001b[39m\u001b[38;5;124m감추기\u001b[39m\u001b[38;5;124m\"\u001b[39m, \u001b[38;5;124m\"\u001b[39m\u001b[38;5;124m\"\u001b[39m)\u001b[38;5;241m.\u001b[39mstrip()\n",
      "\u001b[1;31mIndexError\u001b[0m: list index out of range"
     ]
    }
   ],
   "source": [
    "for item in text_clean(book_list[20].select_one(\".authPub.info_auth\").text).split(\"/\"):\n",
    "    if \"감추기\" in item[:4]:\n",
    "        author = item.replace(\"감추기\", \"\").strip()\n",
    "        print(author)"
   ]
  }
 ],
 "metadata": {
  "kernelspec": {
   "display_name": "Python 3 (ipykernel)",
   "language": "python",
   "name": "python3"
  },
  "language_info": {
   "codemirror_mode": {
    "name": "ipython",
    "version": 3
   },
   "file_extension": ".py",
   "mimetype": "text/x-python",
   "name": "python",
   "nbconvert_exporter": "python",
   "pygments_lexer": "ipython3",
   "version": "3.9.21"
  }
 },
 "nbformat": 4,
 "nbformat_minor": 5
}
