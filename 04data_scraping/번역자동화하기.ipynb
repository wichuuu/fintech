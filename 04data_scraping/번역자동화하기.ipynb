{
 "cells": [
  {
   "cell_type": "code",
   "execution_count": null,
   "id": "1b6451ce",
   "metadata": {},
   "outputs": [],
   "source": [
    "url = (\"https://translate.google.co.kr/?hl=ko&tab=TT&sl=en&tl=ko&op=translate\")\n",
    "driver.get(url)"
   ]
  },
  {
   "cell_type": "code",
   "execution_count": null,
   "id": "cdb5c435",
   "metadata": {},
   "outputs": [],
   "source": [
    "wait = WebDriverWait(driver, 10)\n",
    "search_text_box = wait.until(EC.presence_of_element_located((By.CSS_SELECTOR, \"div > textarea\")))\n",
    "search_text_box.send_keys(\"keyword\")\n",
    "search_text_box.send_keys(Keys.ENTER)"
   ]
  },
  {
   "cell_type": "code",
   "execution_count": null,
   "id": "4ac0bf64",
   "metadata": {},
   "outputs": [],
   "source": [
    "wait = WebDriverWait(driver, 10)\n",
    "kor_text_box = wait.until(EC.presence_of_element_located((By.CSS_SELECTOR, \"div < textarea\")\n",
    "kor_text_box.send_keys(keyword)\n",
    "kor_text_box.send_keys(keys.ENTER)"
   ]
  },
  {
   "cell_type": "code",
   "execution_count": null,
   "id": "13fb44dd",
   "metadata": {},
   "outputs": [],
   "source": [
    "wait.until(EC.presence_of_element_located((By.CSS_SELECTOR, \"div < textarea\")"
   ]
  },
  {
   "cell_type": "code",
   "execution_count": null,
   "id": "d283233c",
   "metadata": {},
   "outputs": [],
   "source": [
    "driver.find_element(By.CSS_SELECTOR, \"div.IRu31 span.ryNqvb\").text"
   ]
  },
  {
   "cell_type": "code",
   "execution_count": null,
   "id": "ec8cef10",
   "metadata": {},
   "outputs": [],
   "source": [
    "translated_box = wait.until(EC.presence_of_element_located((By.CSS_SELECTOR, \"div.IRu31 span.ryNqvb\")))\n",
    "translated_box.text"
   ]
  },
  {
   "cell_type": "code",
   "execution_count": 4,
   "id": "cdca211b",
   "metadata": {
    "scrolled": true
   },
   "outputs": [],
   "source": [
    "from selenium import webdriver\n",
    "from selenium.webdriver.chrome.service import Service\n",
    "from selenium.webdriver.chrome.options import Options\n",
    "from webdriver_manager.chrome import ChromeDriverManager\n",
    "from selenium.webdriver.common.by import By\n",
    "from selenium.webdriver.common.keys import Keys\n",
    "from selenium.webdriver.support.ui import WebDriverWait\n",
    "from selenium.webdriver.support import expected_conditions as EC\n",
    "import time\n",
    "from translate import kor2eng\n",
    "# import pandas as pd\n",
    "# from sqlalchemy import create_engine, text\n",
    "# import pymysql\n",
    "# from datetime import datetime\n",
    "# pymysql.install_as_MySQLdb()\n",
    "\n",
    "\n",
    "options = Options()\n",
    "options.add_experimental_option(\"detach\", True)\n",
    "# options.add_argument(\"Mozilla/5.0 (Windows NT 10.0; Win64; x64) AppleWebKit/537.36 (KHTML, like Gecko) Chrome/134.0.0.0 Safari/537.36\")\n",
    "options.add_argument(\"start-maximized\")\n",
    "options.add_argument(\"Chrome/134.0.0.0\")\n",
    "options.add_argument(\"lang=ko_KR\")\n",
    "\n",
    "driver = webdriver.Chrome(\n",
    "    service=Service(ChromeDriverManager().install()),\n",
    "    options=options\n",
    "    )\n",
    "\n",
    "def kor2eng(keyword)\n",
    "# keyword = input(\"검색할 내용을 입력하세요 : \")\n",
    "# eng_keyword = kor2eng(keyword)\n",
    "\n",
    "    options = Options()\n",
    "    options.add_experimental_option(\"detach\", True)\n",
    "    # options.add_argument(\"Mozilla/5.0 (Windows NT 10.0; Win64; x64) AppleWebKit/537.36 (KHTML, like Gecko) Chrome/134.0.0.0 Safari/537.36\")\n",
    "    options.add_argument(\"start-maximized\")\n",
    "    options.add_argument(\"Chrome/134.0.0.0\")\n",
    "    options.add_argument(\"lang=ko_KR\")\n",
    "    options.add_argument(\"--headless\")\n",
    "    options.add_agrument(\"--no-sandbox\")\n",
    "\n",
    "    driver = webdriver.Chrome(\n",
    "        service=Service(ChromeDriverManager().install()),\n",
    "        options=options\n",
    "        )\n",
    "\n",
    "\n",
    "    url = (\"https://translate.google.co.kr/?hl=ko&tab=TT&sl=en&tl=ko&op=translate\")\n",
    "    driver.get(url)\n",
    "\n",
    "\n",
    "    wait = WebDriverWait(driver, 10)\n",
    "    kor_text_box = wait.until(EC.presence_of_element_located((By.CSS_SELECTOR, \"div < textarea\")\n",
    "    kor_text_box.send_keys(keyword)\n",
    "    kor_text_box.send_keys(keys.ENTER)\n",
    "    translated_box = wait.until(EC.presence_of_element_located((By.CSS_SELECTOR, \"div.IRu31 span.ryNqvb\")))\n",
    "    # print(translated_box.text)\n",
    "    return translated_box.text"
   ]
  }
 ],
 "metadata": {
  "kernelspec": {
   "display_name": "Python 3 (ipykernel)",
   "language": "python",
   "name": "python3"
  },
  "language_info": {
   "codemirror_mode": {
    "name": "ipython",
    "version": 3
   },
   "file_extension": ".py",
   "mimetype": "text/x-python",
   "name": "python",
   "nbconvert_exporter": "python",
   "pygments_lexer": "ipython3",
   "version": "3.9.21"
  }
 },
 "nbformat": 4,
 "nbformat_minor": 5
}
