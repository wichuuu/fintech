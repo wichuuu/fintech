{
 "cells": [
  {
   "cell_type": "code",
   "execution_count": 1,
   "id": "d63f8b0b",
   "metadata": {},
   "outputs": [],
   "source": [
    "import pandas as pd\n",
    "import numpy as np\n",
    "import matplotlib.pyplot as plt\n",
    "import seaborn as sns\n",
    "import koreanize_matplotlib"
   ]
  },
  {
   "cell_type": "code",
   "execution_count": 2,
   "id": "eafaa7af",
   "metadata": {},
   "outputs": [
    {
     "data": {
      "text/html": [
       "<div>\n",
       "<style scoped>\n",
       "    .dataframe tbody tr th:only-of-type {\n",
       "        vertical-align: middle;\n",
       "    }\n",
       "\n",
       "    .dataframe tbody tr th {\n",
       "        vertical-align: top;\n",
       "    }\n",
       "\n",
       "    .dataframe thead th {\n",
       "        text-align: right;\n",
       "    }\n",
       "</style>\n",
       "<table border=\"1\" class=\"dataframe\">\n",
       "  <thead>\n",
       "    <tr style=\"text-align: right;\">\n",
       "      <th></th>\n",
       "      <th>리뷰일</th>\n",
       "      <th>평점</th>\n",
       "      <th>사용자리뷰</th>\n",
       "      <th>업체답변</th>\n",
       "      <th>은행명</th>\n",
       "    </tr>\n",
       "  </thead>\n",
       "  <tbody>\n",
       "    <tr>\n",
       "      <th>0</th>\n",
       "      <td>2023-12-21</td>\n",
       "      <td>5</td>\n",
       "      <td>엄빠 폰에 설치해드렸는데 두분 다 쓰기 편하다고 하시네요 ㅎㅎ 저도 쓰고있음!</td>\n",
       "      <td>NaN</td>\n",
       "      <td>하나</td>\n",
       "    </tr>\n",
       "    <tr>\n",
       "      <th>1</th>\n",
       "      <td>2025-02-17</td>\n",
       "      <td>1</td>\n",
       "      <td>Cd기 축소 연장하려면 이 어플 깔라는데 왜 30퍼에서 안깔리는지 아니 애초에 슈퍼...</td>\n",
       "      <td>안녕하세요. 신한은행입니다.\\n먼저 SOL사용에 불편을 드려 죄송합니다.\\n어플의 ...</td>\n",
       "      <td>신한</td>\n",
       "    </tr>\n",
       "    <tr>\n",
       "      <th>2</th>\n",
       "      <td>2024-07-26</td>\n",
       "      <td>5</td>\n",
       "      <td>서비스가 통합되어 있어서 점점 사용빈도가 높아지네요.</td>\n",
       "      <td>고객님 안녕하세요! KB스타뱅킹을 이용해 주셔서 진심으로 감사드립니다. KB스타뱅킹...</td>\n",
       "      <td>국민</td>\n",
       "    </tr>\n",
       "    <tr>\n",
       "      <th>3</th>\n",
       "      <td>2024-09-01</td>\n",
       "      <td>1</td>\n",
       "      <td>카드 충천이 안됌</td>\n",
       "      <td>안녕하세요. 전민구 님, 토스팀입니다. 남겨주신 내용만으로는 겪고계신 불편사항의 자...</td>\n",
       "      <td>토스</td>\n",
       "    </tr>\n",
       "    <tr>\n",
       "      <th>4</th>\n",
       "      <td>2023-11-13</td>\n",
       "      <td>1</td>\n",
       "      <td>알뜰폰 인증이 안돼요.....</td>\n",
       "      <td>안녕하세요 헤이모두들안녕님, 우리은행입니다. 먼저 이용에 불편을 드려 매우 죄송합니...</td>\n",
       "      <td>우리</td>\n",
       "    </tr>\n",
       "    <tr>\n",
       "      <th>...</th>\n",
       "      <td>...</td>\n",
       "      <td>...</td>\n",
       "      <td>...</td>\n",
       "      <td>...</td>\n",
       "      <td>...</td>\n",
       "    </tr>\n",
       "    <tr>\n",
       "      <th>22241</th>\n",
       "      <td>2025-03-12</td>\n",
       "      <td>3</td>\n",
       "      <td>어플 시작오류가 가끔 나네요.</td>\n",
       "      <td>안녕하세요 푸딩 고객님. 우리은행 우리WON뱅킹 이용에 불편을 드려 죄송합니다. 2...</td>\n",
       "      <td>우리</td>\n",
       "    </tr>\n",
       "    <tr>\n",
       "      <th>22242</th>\n",
       "      <td>2025-01-09</td>\n",
       "      <td>1</td>\n",
       "      <td>업데이트 후에 계좌이체하는 게 자주 튕겨요</td>\n",
       "      <td>안녕하세요 일월구일 고객님. 먼저 우리WON뱅킹 이용에 불편을 드려 죄송합니다. 보...</td>\n",
       "      <td>우리</td>\n",
       "    </tr>\n",
       "    <tr>\n",
       "      <th>22243</th>\n",
       "      <td>2023-07-07</td>\n",
       "      <td>5</td>\n",
       "      <td>굳굳굳</td>\n",
       "      <td>Seung Woo Kim 고객님, 안녕하세요! KB스타뱅킹을 이용해 주셔서 진심으로...</td>\n",
       "      <td>국민</td>\n",
       "    </tr>\n",
       "    <tr>\n",
       "      <th>22244</th>\n",
       "      <td>2024-10-10</td>\n",
       "      <td>5</td>\n",
       "      <td>오래시간 같이한 나의은행 든든합니다.</td>\n",
       "      <td>안녕하세요 lee jeong seon (isate) 고객님. 칭찬 진심으로 감사드리...</td>\n",
       "      <td>우리</td>\n",
       "    </tr>\n",
       "    <tr>\n",
       "      <th>22245</th>\n",
       "      <td>2023-08-09</td>\n",
       "      <td>1</td>\n",
       "      <td>라이브 광고 전보다 더 안좋네 아무리 주기 싫어도 겨우 3원줄거면서 너무 쪼잔하게 ...</td>\n",
       "      <td>안녕하세요. 송재영님, 토스 고객센터입니다. 토스를 이용하시면서 느끼신 소중한 의견...</td>\n",
       "      <td>토스</td>\n",
       "    </tr>\n",
       "  </tbody>\n",
       "</table>\n",
       "<p>22246 rows × 5 columns</p>\n",
       "</div>"
      ],
      "text/plain": [
       "              리뷰일  평점                                              사용자리뷰  \\\n",
       "0      2023-12-21   5        엄빠 폰에 설치해드렸는데 두분 다 쓰기 편하다고 하시네요 ㅎㅎ 저도 쓰고있음!   \n",
       "1      2025-02-17   1  Cd기 축소 연장하려면 이 어플 깔라는데 왜 30퍼에서 안깔리는지 아니 애초에 슈퍼...   \n",
       "2      2024-07-26   5                      서비스가 통합되어 있어서 점점 사용빈도가 높아지네요.   \n",
       "3      2024-09-01   1                                          카드 충천이 안됌   \n",
       "4      2023-11-13   1                                   알뜰폰 인증이 안돼요.....   \n",
       "...           ...  ..                                                ...   \n",
       "22241  2025-03-12   3                                   어플 시작오류가 가끔 나네요.   \n",
       "22242  2025-01-09   1                            업데이트 후에 계좌이체하는 게 자주 튕겨요   \n",
       "22243  2023-07-07   5                                                굳굳굳   \n",
       "22244  2024-10-10   5                               오래시간 같이한 나의은행 든든합니다.   \n",
       "22245  2023-08-09   1  라이브 광고 전보다 더 안좋네 아무리 주기 싫어도 겨우 3원줄거면서 너무 쪼잔하게 ...   \n",
       "\n",
       "                                                    업체답변 은행명  \n",
       "0                                                    NaN  하나  \n",
       "1      안녕하세요. 신한은행입니다.\\n먼저 SOL사용에 불편을 드려 죄송합니다.\\n어플의 ...  신한  \n",
       "2      고객님 안녕하세요! KB스타뱅킹을 이용해 주셔서 진심으로 감사드립니다. KB스타뱅킹...  국민  \n",
       "3      안녕하세요. 전민구 님, 토스팀입니다. 남겨주신 내용만으로는 겪고계신 불편사항의 자...  토스  \n",
       "4      안녕하세요 헤이모두들안녕님, 우리은행입니다. 먼저 이용에 불편을 드려 매우 죄송합니...  우리  \n",
       "...                                                  ...  ..  \n",
       "22241  안녕하세요 푸딩 고객님. 우리은행 우리WON뱅킹 이용에 불편을 드려 죄송합니다. 2...  우리  \n",
       "22242  안녕하세요 일월구일 고객님. 먼저 우리WON뱅킹 이용에 불편을 드려 죄송합니다. 보...  우리  \n",
       "22243  Seung Woo Kim 고객님, 안녕하세요! KB스타뱅킹을 이용해 주셔서 진심으로...  국민  \n",
       "22244  안녕하세요 lee jeong seon (isate) 고객님. 칭찬 진심으로 감사드리...  우리  \n",
       "22245  안녕하세요. 송재영님, 토스 고객센터입니다. 토스를 이용하시면서 느끼신 소중한 의견...  토스  \n",
       "\n",
       "[22246 rows x 5 columns]"
      ]
     },
     "execution_count": 2,
     "metadata": {},
     "output_type": "execute_result"
    }
   ],
   "source": [
    "train_df = pd.read_csv(\"./data/bank_app_reviews_train.csv\")\n",
    "train_df"
   ]
  },
  {
   "cell_type": "code",
   "execution_count": 3,
   "id": "7fbff468",
   "metadata": {},
   "outputs": [
    {
     "data": {
      "text/html": [
       "<div>\n",
       "<style scoped>\n",
       "    .dataframe tbody tr th:only-of-type {\n",
       "        vertical-align: middle;\n",
       "    }\n",
       "\n",
       "    .dataframe tbody tr th {\n",
       "        vertical-align: top;\n",
       "    }\n",
       "\n",
       "    .dataframe thead th {\n",
       "        text-align: right;\n",
       "    }\n",
       "</style>\n",
       "<table border=\"1\" class=\"dataframe\">\n",
       "  <thead>\n",
       "    <tr style=\"text-align: right;\">\n",
       "      <th></th>\n",
       "      <th>리뷰일</th>\n",
       "      <th>평점</th>\n",
       "      <th>사용자리뷰</th>\n",
       "      <th>업체답변</th>\n",
       "      <th>은행명</th>\n",
       "    </tr>\n",
       "  </thead>\n",
       "  <tbody>\n",
       "    <tr>\n",
       "      <th>0</th>\n",
       "      <td>2024-02-08</td>\n",
       "      <td>5</td>\n",
       "      <td>고경민계장님감사해요</td>\n",
       "      <td>안녕하세요 최순녀 고객님. 칭찬 진심으로 감사드리며, 더욱 편리하고 안정적인 서비스...</td>\n",
       "      <td>우리</td>\n",
       "    </tr>\n",
       "    <tr>\n",
       "      <th>1</th>\n",
       "      <td>2023-07-24</td>\n",
       "      <td>5</td>\n",
       "      <td>저축목표피드 새로 생긴거 너무좋은데 분명 카테고리를 저축으로 했는데 왜 인식이 안되...</td>\n",
       "      <td>신아​ 님, 안녕하세요? 뱅크샐러드 고객감동팀​입니다. 소중한 시간내어 고객센터에 ...</td>\n",
       "      <td>뱅크샐러드</td>\n",
       "    </tr>\n",
       "    <tr>\n",
       "      <th>2</th>\n",
       "      <td>2023-09-25</td>\n",
       "      <td>1</td>\n",
       "      <td>아니 이딴걸 편리하게 사용하는앱이라고 쳐만들엇나 이렇게 불편하게만든건 일부러그런거에...</td>\n",
       "      <td>안녕하세요. 우리은행입니다. 먼저 우리WON뱅킹 이용에 불편을 드려 죄송합니다. 보...</td>\n",
       "      <td>우리</td>\n",
       "    </tr>\n",
       "    <tr>\n",
       "      <th>3</th>\n",
       "      <td>2024-02-15</td>\n",
       "      <td>3</td>\n",
       "      <td>몇 년째 만족하며 사용중이라 조금식 개선되어거는 모습에 만족하며 사용중입니다. 하지...</td>\n",
       "      <td>안녕하세요? 뱅크샐러드 고객감동팀입니다. 뱅크샐러드에 KB pay를 연결해 모든 자...</td>\n",
       "      <td>뱅크샐러드</td>\n",
       "    </tr>\n",
       "    <tr>\n",
       "      <th>4</th>\n",
       "      <td>2023-06-19</td>\n",
       "      <td>5</td>\n",
       "      <td>스타뱅킹을 사용 하고나서부터 편안해서 좋아요</td>\n",
       "      <td>한송림 고객님, 안녕하세요! KB스타뱅킹을 이용해 주셔서 진심으로 감사드립니다. 앞...</td>\n",
       "      <td>국민</td>\n",
       "    </tr>\n",
       "  </tbody>\n",
       "</table>\n",
       "</div>"
      ],
      "text/plain": [
       "          리뷰일  평점                                              사용자리뷰  \\\n",
       "0  2024-02-08   5                                         고경민계장님감사해요   \n",
       "1  2023-07-24   5  저축목표피드 새로 생긴거 너무좋은데 분명 카테고리를 저축으로 했는데 왜 인식이 안되...   \n",
       "2  2023-09-25   1  아니 이딴걸 편리하게 사용하는앱이라고 쳐만들엇나 이렇게 불편하게만든건 일부러그런거에...   \n",
       "3  2024-02-15   3  몇 년째 만족하며 사용중이라 조금식 개선되어거는 모습에 만족하며 사용중입니다. 하지...   \n",
       "4  2023-06-19   5                           스타뱅킹을 사용 하고나서부터 편안해서 좋아요   \n",
       "\n",
       "                                                업체답변    은행명  \n",
       "0  안녕하세요 최순녀 고객님. 칭찬 진심으로 감사드리며, 더욱 편리하고 안정적인 서비스...     우리  \n",
       "1  신아​ 님, 안녕하세요? 뱅크샐러드 고객감동팀​입니다. 소중한 시간내어 고객센터에 ...  뱅크샐러드  \n",
       "2  안녕하세요. 우리은행입니다. 먼저 우리WON뱅킹 이용에 불편을 드려 죄송합니다. 보...     우리  \n",
       "3  안녕하세요? 뱅크샐러드 고객감동팀입니다. 뱅크샐러드에 KB pay를 연결해 모든 자...  뱅크샐러드  \n",
       "4  한송림 고객님, 안녕하세요! KB스타뱅킹을 이용해 주셔서 진심으로 감사드립니다. 앞...     국민  "
      ]
     },
     "execution_count": 3,
     "metadata": {},
     "output_type": "execute_result"
    }
   ],
   "source": [
    "test_df = pd.read_csv(\"./data/bank_app_reviews_test.csv\")\n",
    "test_df.head()"
   ]
  },
  {
   "cell_type": "code",
   "execution_count": 4,
   "id": "ba50a7b5",
   "metadata": {},
   "outputs": [
    {
     "name": "stdout",
     "output_type": "stream",
     "text": [
      "<class 'pandas.core.frame.DataFrame'>\n",
      "RangeIndex: 22246 entries, 0 to 22245\n",
      "Data columns (total 5 columns):\n",
      " #   Column  Non-Null Count  Dtype \n",
      "---  ------  --------------  ----- \n",
      " 0   리뷰일     22246 non-null  object\n",
      " 1   평점      22246 non-null  int64 \n",
      " 2   사용자리뷰   22246 non-null  object\n",
      " 3   업체답변    19141 non-null  object\n",
      " 4   은행명     22246 non-null  object\n",
      "dtypes: int64(1), object(4)\n",
      "memory usage: 869.1+ KB\n"
     ]
    }
   ],
   "source": [
    "train_df.info()"
   ]
  },
  {
   "cell_type": "code",
   "execution_count": 5,
   "id": "d0401d8e",
   "metadata": {},
   "outputs": [
    {
     "name": "stdout",
     "output_type": "stream",
     "text": [
      "<class 'pandas.core.frame.DataFrame'>\n",
      "RangeIndex: 9534 entries, 0 to 9533\n",
      "Data columns (total 5 columns):\n",
      " #   Column  Non-Null Count  Dtype \n",
      "---  ------  --------------  ----- \n",
      " 0   리뷰일     9534 non-null   object\n",
      " 1   평점      9534 non-null   int64 \n",
      " 2   사용자리뷰   9534 non-null   object\n",
      " 3   업체답변    8221 non-null   object\n",
      " 4   은행명     9534 non-null   object\n",
      "dtypes: int64(1), object(4)\n",
      "memory usage: 372.5+ KB\n"
     ]
    }
   ],
   "source": [
    "test_df.info()"
   ]
  },
  {
   "cell_type": "code",
   "execution_count": 6,
   "id": "4b2ae650",
   "metadata": {},
   "outputs": [
    {
     "data": {
      "text/plain": [
       "평점\n",
       "5    11416\n",
       "1     6751\n",
       "4     1824\n",
       "3     1308\n",
       "2      947\n",
       "Name: count, dtype: int64"
      ]
     },
     "execution_count": 6,
     "metadata": {},
     "output_type": "execute_result"
    }
   ],
   "source": [
    "train_df['평점'].value_counts()"
   ]
  },
  {
   "cell_type": "code",
   "execution_count": 7,
   "id": "90f3ce6c",
   "metadata": {},
   "outputs": [
    {
     "data": {
      "text/plain": [
       "<Axes: xlabel='평점'>"
      ]
     },
     "execution_count": 7,
     "metadata": {},
     "output_type": "execute_result"
    },
    {
     "data": {
      "image/png": "[encoded data removed]",
      "text/plain": [
       "<Figure size 640x480 with 1 Axes>"
      ]
     },
     "metadata": {},
     "output_type": "display_data"
    }
   ],
   "source": [
    "train_df['평점'].value_counts().plot(kind='bar')"
   ]
  },
  {
   "cell_type": "code",
   "execution_count": 39,
   "id": "88a9ab9a",
   "metadata": {},
   "outputs": [
    {
     "data": {
      "text/plain": [
       "11                                                   좋아요\n",
       "14                                                    좋음\n",
       "27     Not Found 실행이 안됩니다 하나은행 어플 누르면 Not Found 메세지 뜨...\n",
       "30     이전거보다 메뉴가 많아진건지 내가 사용하는게 걷기가 숨겨져 불편.확인 할때마다 일상...\n",
       "38              보상을 얻기위해 광고를 보는건 상관없는데 광고 좀 가려 받으면 안되나요?\n",
       "69     오늘 토스 재가입 후 저도 모르는 사이 토스페이가입되었네요. 가입 금액(5,900원...\n",
       "75                                     빠르고 정확함 이용을 권장합니다\n",
       "82                                    아직까지 잘 사용하고 있습니다 ?\n",
       "91     지난 달부터 갑자기 홈->앞으로 낼 카드값 부분에 특정 카드사 한곳만 뜹니다ㅠ 분명...\n",
       "97                                                    만족\n",
       "98                                                    좋음\n",
       "106    가상계좌가 브랜드콘 같은걸 살때는 아무 불편함이없는데 온라인으로 결제를할때 제계좌명...\n",
       "107                                  토스아이디를 제발 다시 만들어주세요\n",
       "118                                       금액이조금적어서 아쉬었어요\n",
       "130                 해외(영국)현지번호를 쓰다보니, 인증번호를 받을수가 없습니다. ㅠ\n",
       "145                     항상 먼저 고객상황을 고려해서 정보을 알려주어 감사감사^^\n",
       "151     역대 은행앱 중 가장 만족. 허나 이벤트를 하려고 버튼을 누르면 오류가 생겼다며 안됨.\n",
       "153    소비 관리하는 데 아주 유용하게 쓰고 있습니다. ktx 예매 때문에 코레일을 이용했...\n",
       "156                                                  효율적\n",
       "157                           전산상 확인이 안되는 상품설명이 있어서 아쉽네요\n",
       "165                                                    굿\n",
       "175                                              사용하기 좋음\n",
       "191    업데이트 하고 나서부터 비밀번호, 지문인식 등등 한 후 그 다음 화면으로 안넘어가고...\n",
       "205                                                    굳\n",
       "206                                                  좋아요\n",
       "208    전.조흥은행때최최초로싸인.서명을한사람인겄같습니다. 신용등급으로~ 지금은 보이스피싱피...\n",
       "222                                                    굿\n",
       "223    알람이 안떠서 직접 가서 알람 뜨도록 설정 을 했는데 돈만 가져가고 알람 안뜨네요 ...\n",
       "232                                           직관적이고 쉬워요!\n",
       "235    하루에 가장 많이 사용하는 어플입니다. 근데 라이브쇼핑에서 60초 기다리고 최대 5...\n",
       "247                                               빨라서좋네요\n",
       "255                                               Gooooo\n",
       "259                                게좌숨기기 기능 굿~!! 쉽고 편해요.\n",
       "260                                            대체로 만족합니다\n",
       "267                                                  좋아요\n",
       "296                                            앱이 너무 버벅댐\n",
       "303                                넘나 편하지만 교통카드 충전이 불편해요\n",
       "304    kb국민인증서 유효기간이 340일 넘게 남았는데 계속 연장하겠냐고 탭이뜨네요.. 적...\n",
       "315                      수수료 1300원이나 내야함 (700원정도면 상관없어요)\n",
       "329                                            간편하여 좋습니다\n",
       "348              이것저것 뒤로가는 단계에서 삑나서 귀찮게하는게있긴한데 이정도면 편리해요\n",
       "360                               토스증권 아이패드도 쓸 수 있게 해주세요\n",
       "361    정말 다 좋은데 만보기가 작동을 안해서 가족 중 나만 돈을 못벌고 있음. 알림 허용...\n",
       "384    알기쉽고 따라하기 쉽게 구성되어 있네요,한가지 아쉬운점은 간편비밀번호 입력에 일부제...\n",
       "392                  토스피드에 만원내고 사진 올리면 포인트 수익은 따로 없는건가요?\n",
       "399                                          카드 포안트가 안떠요\n",
       "423                          한가지가 다마칠땍까지는 비밀번호를넣지안앟음좋것어요\n",
       "429                                             안전하고 편리함\n",
       "438                                                 좋아요.\n",
       "443    번호표 발행에 (개인대출,예금,입출금 각 각) 세부 항목별로 인원수 대로 나오게 만...\n",
       "445    예.적금 안내와 기타 상담시 답변도 빠르고 친절합니다 이번엔 N일 적금으로 모은 작...\n",
       "460    잘 사용했는데 호가창에서 체결강도랑 보이던게 안보이니까 너무 불편해요.. 설정할 수...\n",
       "465    ㅂㄴㅣㅓ든2 aaa×²aㅁㅂㅁㅈㅇㅋㄷㅃㄷㅓㅗ6ㅗㅓㄷ6ㄴㅍㄴㅇㄴㅇ릅린ㅍ1ㅜㅗ 000 ...\n",
       "470                                                    굿\n",
       "472              내역합치기 기능 어떻게 쓰나요? 내역 길게 눌러도 삭제 버튼만 뜹니다.\n",
       "482                                                아주좋아요\n",
       "527                                                   깔끔\n",
       "603                                                 좋습니다\n",
       "625                                                  좋아요\n",
       "627                                              사용하기편해요\n",
       "Name: 사용자리뷰, dtype: object"
      ]
     },
     "execution_count": 39,
     "metadata": {},
     "output_type": "execute_result"
    }
   ],
   "source": [
    "train_df[train_df['평점'] == 4]['사용자리뷰'].head(60)"
   ]
  },
  {
   "cell_type": "code",
   "execution_count": 40,
   "id": "efa7a849",
   "metadata": {},
   "outputs": [
    {
     "data": {
      "text/plain": [
       "6                           고양이키우기 쿠폰 유효기간 6일. 넘 한거 아닌가요?\n",
       "18      배터리가 빨리 줄어요..서비스센터 가면 토스앱이 배터리 사용이 많다고 하네요.. 방...\n",
       "32                                입출금목록에서 터치해서메모입력하던게안되네요\n",
       "39                             앱 켤때 70%는 다시 켜야됨. 캐시 남아있다고\n",
       "89      제일 큰 문제중 하나는 혜택으로 알림설정을 유도하면서 알림이 제대로 동작 안합니다....\n",
       "132     포인트통의 포인트를 포인트리로 전환하려는데 보내기가 안되네요 오류 개선 좀 부탁드려...\n",
       "176     은행.신한카드 잘 쓰고 있는데 이거 왜? 출시? 수퍼 Opt 재발행하고,은행쓸려 했...\n",
       "177                                   토스 요즘 쫌 짜증난다 맨날 버그야\n",
       "184      데이터로 하나원큐 들어가려는데 너무 오래 걸립니다... 옛날에는 안그랬는데 버그인가요?\n",
       "197                 할부금 완납한거는 왜 반영이 안돼서 계속 할부금액으로 계속 잡히나요\n",
       "209     무슨 점검을 밥 먹듯이 하세요.. 할꺼면 새벽 2시 이후로 해주세요 타이밍 진짜.....\n",
       "253     쇼핑, 주식 메뉴가 삼성 덱스에선 안나옵니다. 다른앱은 이런게 없는데 토스만 그렇군...\n",
       "266                                  만족합니다. 간단하고 빠르고~~~~~\n",
       "305     토스를 사용하고 싶어도 비번을 틀려서 못 사용중 ㅠㅠㅠ 이거 어떻하나요? 저 번호도...\n",
       "352     홈화면에서 노란색 이체 버튼 눌렀을때 최근계좌에 입금금액이랑 입금날짜가 같이 떴었는...\n",
       "357     10월4일 부터 푸시알림(?)이 이상네요. 며칠 전 앱 업데이를 많이 한 것 같은데...\n",
       "362     다 좋은데 요즘 고양이??키우기 100%채운 후 새 고양이로 넘어갈때 화면 정지되고...\n",
       "389     토스 요즘 배터리 너무 많이 잡아 먹는데 저만 그런건가요? 폰 최적화하면 토스만 매...\n",
       "391     토스 만보기 나이 만12세로 낮춰주세요ㅜㅜㅠ 토스 사용연량이 만12센데 왜 만보기는...\n",
       "401                          잘쓰고 있는데 점점앱이 무거워지고 느려지는게 느껴짐\n",
       "413     매일걷기 연동이 되다 안되다 바뀌고 나서 이상 하네요 다른 걷기 앱은 똑같이 걸음수...\n",
       "414                                 왜 자꾸 포인트받는 양을 줄이는지 ㅋㅋ\n",
       "432     왜 뒤로가기 버튼이 실행이 안되죠? 핸드폰 뒤로가기도 토스에 있는 뒤로가기도 안먹히는데요\n",
       "450     토스뱅크 접속은 되는데 다른메뉴로 넘어가지 않습니다. 미라클 모닝 이벤트, 증권 등...\n",
       "456              알림앱은 왜 삭제하셨는지요... 다시 만들어 주세요! 글고 앱이 느립니다\n",
       "511     잘 쓰고는 있는데 일주일 방문미션으로 광고보면서 실제로 그 광고제품을 구매한적도 있...\n",
       "534     업데이트가 종료된 폰이기에 커스텀롬을 사용하는데. 해킹위험 감지라며 더 이상 사용이...\n",
       "550     일주일 걷기 미션이 없어져서 아쉽네요. 그나마 고정포인트라서 좋았는데.. 걷기 미션...\n",
       "562     토스 프라임 적립 금액이 1원 미만이라서 적립이 안 된다는데 이제 배민은 지원 안 ...\n",
       "611                                      지문인식 로그인 왜 사라짐??\n",
       "618                   잘쓰고있는데 귀찮게 자꾸 뭐 입력하라마라좀 그만했으면 좋겠습니다\n",
       "665     사용하기 편하고 좋습니다. 다만 건강탭에 발병률 부분은 이해가 안가네요 관련 수치도...\n",
       "669                                           진원 ㅈㅈㄷㅈㅈㅍ2ㅈ\n",
       "672     위비뱅크 진짜 편했는데 종료된거에 대해 아직도 이해가 안되고 자동로그인이라도 있었음...\n",
       "686                            갑자기 카테고리가 왜 없어진건가요???;;;;,\n",
       "693                       토스 잘쓰고 있는데 하루가 지났는데 왜 돈이 안 꺼내저여\n",
       "723     간편 로그인하기 설정좀 한번만 뜨게하면 안되나 들어갈때마다 안하기 누르기 짜증남. ...\n",
       "741     앱 사용중 홈키를 누르거나 다른 앱 실행시 백그라운드에서 실행중인 어플리케이션 목록...\n",
       "746     보안상이유로 가상기기 에서는 사용 할수없다고 뜨는데 어떻게해야되나요? 가상기기 가 ...\n",
       "767     가위바위보 누구 아이디어냐ㅋㅋ 놀리는거도 아니고ㅋㅋ 0.1초 보다 빠르게 바뀌면 어...\n",
       "780     어제부터 실행이 안되서 오늘 앱 삭제후 새로 설치하고 실행할려고해도 어제와 동일하게...\n",
       "781                                                편리한 구성\n",
       "797                                   ㅌㄹㄹㄷㄷᆢㄹㅡㅡㄹㆍ로ㅡㄹ르ㅡㅡ둗됴\n",
       "798     고양이 키우기 애용하고 있는데 버벅임이 눈에 띄게 많고, 최근 광고가 무료 폰게임 ...\n",
       "804     너무잘사용중인데 최근 업데이트후 너무 느려지네요. 앱이 멈추기도하고 스크롤 반응이 ...\n",
       "824                                    아니 왜 오늘 접속이 안되는건가요\n",
       "848     기존 알림서비스 앱에서는 입출금내역 선택적으로 삭제가 가능했는데, 통합되면서 내역삭...\n",
       "870                                        편리한 가입 및 저축 가입\n",
       "900                                 와!!! 추가이체 겁나게 불편 하네요ㅜ\n",
       "932                                      인터넷 뱅킹이 너무 어려워요.\n",
       "958     광고 소리 없애고 보기만 하는건 안되는건가요? 음악들으면서 토스 앱 켜서 만보기든 ...\n",
       "977     사용하다가 종종 그냥 하얀색 창만 뜨고 떠야할 페이지가 안뜰 때가 있습니다. 이러기...\n",
       "1001    안녕하세요 계좌이체를 하는데 돈 보낸사람 이름으로 뜨는 문제점이 있어 큰 어려움과 ...\n",
       "1027                                           토스가 안깔려요ㅠㅠ\n",
       "1028    앱내 kbpay 결제를 하려고 해도 앱이 설치되어 있는데 구글플레이로 넘어가요. 결...\n",
       "1029    농협 손해보험 연결이 안되네요 처음에 연결되었지만 작년부터 연결이 안되네요 왜 그런...\n",
       "1057    제가 사용한지얼마안된 사람인데 나쁜점이 있습니다 급식표를 보려고하는데 계속 점검중이...\n",
       "1071    Not found 오류 저만 뜨는 건가요..? 접속이 아예 안되는데요 삭제하고 다시...\n",
       "1099                왜 토스 업데이트가 안되죠? 와이파이연결 저장공간 다 되있는데...\n",
       "1125    토스앱 다운로드 받으려면 넘 시간이 걸리는데 왜 그런지 모르겠네요..다른 앱은 빨리...\n",
       "Name: 사용자리뷰, dtype: object"
      ]
     },
     "execution_count": 40,
     "metadata": {},
     "output_type": "execute_result"
    }
   ],
   "source": [
    "train_df[train_df['평점'] == 3]['사용자리뷰'].head(60)"
   ]
  },
  {
   "cell_type": "code",
   "execution_count": 8,
   "id": "0ef1b60b",
   "metadata": {},
   "outputs": [
    {
     "data": {
      "text/html": [
       "<div>\n",
       "<style scoped>\n",
       "    .dataframe tbody tr th:only-of-type {\n",
       "        vertical-align: middle;\n",
       "    }\n",
       "\n",
       "    .dataframe tbody tr th {\n",
       "        vertical-align: top;\n",
       "    }\n",
       "\n",
       "    .dataframe thead th {\n",
       "        text-align: right;\n",
       "    }\n",
       "</style>\n",
       "<table border=\"1\" class=\"dataframe\">\n",
       "  <thead>\n",
       "    <tr style=\"text-align: right;\">\n",
       "      <th></th>\n",
       "      <th>리뷰일</th>\n",
       "      <th>평점</th>\n",
       "      <th>사용자리뷰</th>\n",
       "      <th>업체답변</th>\n",
       "      <th>은행명</th>\n",
       "      <th>긍정</th>\n",
       "    </tr>\n",
       "  </thead>\n",
       "  <tbody>\n",
       "    <tr>\n",
       "      <th>0</th>\n",
       "      <td>2023-12-21</td>\n",
       "      <td>5</td>\n",
       "      <td>엄빠 폰에 설치해드렸는데 두분 다 쓰기 편하다고 하시네요 ㅎㅎ 저도 쓰고있음!</td>\n",
       "      <td>NaN</td>\n",
       "      <td>하나</td>\n",
       "      <td>1</td>\n",
       "    </tr>\n",
       "    <tr>\n",
       "      <th>1</th>\n",
       "      <td>2025-02-17</td>\n",
       "      <td>1</td>\n",
       "      <td>Cd기 축소 연장하려면 이 어플 깔라는데 왜 30퍼에서 안깔리는지 아니 애초에 슈퍼...</td>\n",
       "      <td>안녕하세요. 신한은행입니다.\\n먼저 SOL사용에 불편을 드려 죄송합니다.\\n어플의 ...</td>\n",
       "      <td>신한</td>\n",
       "      <td>0</td>\n",
       "    </tr>\n",
       "    <tr>\n",
       "      <th>2</th>\n",
       "      <td>2024-07-26</td>\n",
       "      <td>5</td>\n",
       "      <td>서비스가 통합되어 있어서 점점 사용빈도가 높아지네요.</td>\n",
       "      <td>고객님 안녕하세요! KB스타뱅킹을 이용해 주셔서 진심으로 감사드립니다. KB스타뱅킹...</td>\n",
       "      <td>국민</td>\n",
       "      <td>1</td>\n",
       "    </tr>\n",
       "    <tr>\n",
       "      <th>3</th>\n",
       "      <td>2024-09-01</td>\n",
       "      <td>1</td>\n",
       "      <td>카드 충천이 안됌</td>\n",
       "      <td>안녕하세요. 전민구 님, 토스팀입니다. 남겨주신 내용만으로는 겪고계신 불편사항의 자...</td>\n",
       "      <td>토스</td>\n",
       "      <td>0</td>\n",
       "    </tr>\n",
       "    <tr>\n",
       "      <th>4</th>\n",
       "      <td>2023-11-13</td>\n",
       "      <td>1</td>\n",
       "      <td>알뜰폰 인증이 안돼요.....</td>\n",
       "      <td>안녕하세요 헤이모두들안녕님, 우리은행입니다. 먼저 이용에 불편을 드려 매우 죄송합니...</td>\n",
       "      <td>우리</td>\n",
       "      <td>0</td>\n",
       "    </tr>\n",
       "    <tr>\n",
       "      <th>...</th>\n",
       "      <td>...</td>\n",
       "      <td>...</td>\n",
       "      <td>...</td>\n",
       "      <td>...</td>\n",
       "      <td>...</td>\n",
       "      <td>...</td>\n",
       "    </tr>\n",
       "    <tr>\n",
       "      <th>22241</th>\n",
       "      <td>2025-03-12</td>\n",
       "      <td>3</td>\n",
       "      <td>어플 시작오류가 가끔 나네요.</td>\n",
       "      <td>안녕하세요 푸딩 고객님. 우리은행 우리WON뱅킹 이용에 불편을 드려 죄송합니다. 2...</td>\n",
       "      <td>우리</td>\n",
       "      <td>0</td>\n",
       "    </tr>\n",
       "    <tr>\n",
       "      <th>22242</th>\n",
       "      <td>2025-01-09</td>\n",
       "      <td>1</td>\n",
       "      <td>업데이트 후에 계좌이체하는 게 자주 튕겨요</td>\n",
       "      <td>안녕하세요 일월구일 고객님. 먼저 우리WON뱅킹 이용에 불편을 드려 죄송합니다. 보...</td>\n",
       "      <td>우리</td>\n",
       "      <td>0</td>\n",
       "    </tr>\n",
       "    <tr>\n",
       "      <th>22243</th>\n",
       "      <td>2023-07-07</td>\n",
       "      <td>5</td>\n",
       "      <td>굳굳굳</td>\n",
       "      <td>Seung Woo Kim 고객님, 안녕하세요! KB스타뱅킹을 이용해 주셔서 진심으로...</td>\n",
       "      <td>국민</td>\n",
       "      <td>1</td>\n",
       "    </tr>\n",
       "    <tr>\n",
       "      <th>22244</th>\n",
       "      <td>2024-10-10</td>\n",
       "      <td>5</td>\n",
       "      <td>오래시간 같이한 나의은행 든든합니다.</td>\n",
       "      <td>안녕하세요 lee jeong seon (isate) 고객님. 칭찬 진심으로 감사드리...</td>\n",
       "      <td>우리</td>\n",
       "      <td>1</td>\n",
       "    </tr>\n",
       "    <tr>\n",
       "      <th>22245</th>\n",
       "      <td>2023-08-09</td>\n",
       "      <td>1</td>\n",
       "      <td>라이브 광고 전보다 더 안좋네 아무리 주기 싫어도 겨우 3원줄거면서 너무 쪼잔하게 ...</td>\n",
       "      <td>안녕하세요. 송재영님, 토스 고객센터입니다. 토스를 이용하시면서 느끼신 소중한 의견...</td>\n",
       "      <td>토스</td>\n",
       "      <td>0</td>\n",
       "    </tr>\n",
       "  </tbody>\n",
       "</table>\n",
       "<p>22246 rows × 6 columns</p>\n",
       "</div>"
      ],
      "text/plain": [
       "              리뷰일  평점                                              사용자리뷰  \\\n",
       "0      2023-12-21   5        엄빠 폰에 설치해드렸는데 두분 다 쓰기 편하다고 하시네요 ㅎㅎ 저도 쓰고있음!   \n",
       "1      2025-02-17   1  Cd기 축소 연장하려면 이 어플 깔라는데 왜 30퍼에서 안깔리는지 아니 애초에 슈퍼...   \n",
       "2      2024-07-26   5                      서비스가 통합되어 있어서 점점 사용빈도가 높아지네요.   \n",
       "3      2024-09-01   1                                          카드 충천이 안됌   \n",
       "4      2023-11-13   1                                   알뜰폰 인증이 안돼요.....   \n",
       "...           ...  ..                                                ...   \n",
       "22241  2025-03-12   3                                   어플 시작오류가 가끔 나네요.   \n",
       "22242  2025-01-09   1                            업데이트 후에 계좌이체하는 게 자주 튕겨요   \n",
       "22243  2023-07-07   5                                                굳굳굳   \n",
       "22244  2024-10-10   5                               오래시간 같이한 나의은행 든든합니다.   \n",
       "22245  2023-08-09   1  라이브 광고 전보다 더 안좋네 아무리 주기 싫어도 겨우 3원줄거면서 너무 쪼잔하게 ...   \n",
       "\n",
       "                                                    업체답변 은행명  긍정  \n",
       "0                                                    NaN  하나   1  \n",
       "1      안녕하세요. 신한은행입니다.\\n먼저 SOL사용에 불편을 드려 죄송합니다.\\n어플의 ...  신한   0  \n",
       "2      고객님 안녕하세요! KB스타뱅킹을 이용해 주셔서 진심으로 감사드립니다. KB스타뱅킹...  국민   1  \n",
       "3      안녕하세요. 전민구 님, 토스팀입니다. 남겨주신 내용만으로는 겪고계신 불편사항의 자...  토스   0  \n",
       "4      안녕하세요 헤이모두들안녕님, 우리은행입니다. 먼저 이용에 불편을 드려 매우 죄송합니...  우리   0  \n",
       "...                                                  ...  ..  ..  \n",
       "22241  안녕하세요 푸딩 고객님. 우리은행 우리WON뱅킹 이용에 불편을 드려 죄송합니다. 2...  우리   0  \n",
       "22242  안녕하세요 일월구일 고객님. 먼저 우리WON뱅킹 이용에 불편을 드려 죄송합니다. 보...  우리   0  \n",
       "22243  Seung Woo Kim 고객님, 안녕하세요! KB스타뱅킹을 이용해 주셔서 진심으로...  국민   1  \n",
       "22244  안녕하세요 lee jeong seon (isate) 고객님. 칭찬 진심으로 감사드리...  우리   1  \n",
       "22245  안녕하세요. 송재영님, 토스 고객센터입니다. 토스를 이용하시면서 느끼신 소중한 의견...  토스   0  \n",
       "\n",
       "[22246 rows x 6 columns]"
      ]
     },
     "execution_count": 8,
     "metadata": {},
     "output_type": "execute_result"
    }
   ],
   "source": [
    "train_df['긍정'] = train_df['평점'].apply(lambda x: 1 if x in [5, 4] else 0)\n",
    "train_df"
   ]
  },
  {
   "cell_type": "code",
   "execution_count": 9,
   "id": "e8530326",
   "metadata": {},
   "outputs": [
    {
     "data": {
      "text/html": [
       "<div>\n",
       "<style scoped>\n",
       "    .dataframe tbody tr th:only-of-type {\n",
       "        vertical-align: middle;\n",
       "    }\n",
       "\n",
       "    .dataframe tbody tr th {\n",
       "        vertical-align: top;\n",
       "    }\n",
       "\n",
       "    .dataframe thead th {\n",
       "        text-align: right;\n",
       "    }\n",
       "</style>\n",
       "<table border=\"1\" class=\"dataframe\">\n",
       "  <thead>\n",
       "    <tr style=\"text-align: right;\">\n",
       "      <th></th>\n",
       "      <th>리뷰일</th>\n",
       "      <th>평점</th>\n",
       "      <th>사용자리뷰</th>\n",
       "      <th>업체답변</th>\n",
       "      <th>은행명</th>\n",
       "      <th>긍정</th>\n",
       "    </tr>\n",
       "  </thead>\n",
       "  <tbody>\n",
       "    <tr>\n",
       "      <th>0</th>\n",
       "      <td>2024-02-08</td>\n",
       "      <td>5</td>\n",
       "      <td>고경민계장님감사해요</td>\n",
       "      <td>안녕하세요 최순녀 고객님. 칭찬 진심으로 감사드리며, 더욱 편리하고 안정적인 서비스...</td>\n",
       "      <td>우리</td>\n",
       "      <td>1</td>\n",
       "    </tr>\n",
       "    <tr>\n",
       "      <th>1</th>\n",
       "      <td>2023-07-24</td>\n",
       "      <td>5</td>\n",
       "      <td>저축목표피드 새로 생긴거 너무좋은데 분명 카테고리를 저축으로 했는데 왜 인식이 안되...</td>\n",
       "      <td>신아​ 님, 안녕하세요? 뱅크샐러드 고객감동팀​입니다. 소중한 시간내어 고객센터에 ...</td>\n",
       "      <td>뱅크샐러드</td>\n",
       "      <td>1</td>\n",
       "    </tr>\n",
       "    <tr>\n",
       "      <th>2</th>\n",
       "      <td>2023-09-25</td>\n",
       "      <td>1</td>\n",
       "      <td>아니 이딴걸 편리하게 사용하는앱이라고 쳐만들엇나 이렇게 불편하게만든건 일부러그런거에...</td>\n",
       "      <td>안녕하세요. 우리은행입니다. 먼저 우리WON뱅킹 이용에 불편을 드려 죄송합니다. 보...</td>\n",
       "      <td>우리</td>\n",
       "      <td>0</td>\n",
       "    </tr>\n",
       "    <tr>\n",
       "      <th>3</th>\n",
       "      <td>2024-02-15</td>\n",
       "      <td>3</td>\n",
       "      <td>몇 년째 만족하며 사용중이라 조금식 개선되어거는 모습에 만족하며 사용중입니다. 하지...</td>\n",
       "      <td>안녕하세요? 뱅크샐러드 고객감동팀입니다. 뱅크샐러드에 KB pay를 연결해 모든 자...</td>\n",
       "      <td>뱅크샐러드</td>\n",
       "      <td>0</td>\n",
       "    </tr>\n",
       "    <tr>\n",
       "      <th>4</th>\n",
       "      <td>2023-06-19</td>\n",
       "      <td>5</td>\n",
       "      <td>스타뱅킹을 사용 하고나서부터 편안해서 좋아요</td>\n",
       "      <td>한송림 고객님, 안녕하세요! KB스타뱅킹을 이용해 주셔서 진심으로 감사드립니다. 앞...</td>\n",
       "      <td>국민</td>\n",
       "      <td>1</td>\n",
       "    </tr>\n",
       "    <tr>\n",
       "      <th>...</th>\n",
       "      <td>...</td>\n",
       "      <td>...</td>\n",
       "      <td>...</td>\n",
       "      <td>...</td>\n",
       "      <td>...</td>\n",
       "      <td>...</td>\n",
       "    </tr>\n",
       "    <tr>\n",
       "      <th>9529</th>\n",
       "      <td>2025-04-05</td>\n",
       "      <td>1</td>\n",
       "      <td>만보기 이벤트는 실망스러워요. 후기 말투 다 똑같고 사기 맞죠? 양심이 참... 정...</td>\n",
       "      <td>안녕하세요. 송송님, 토스팀입니다. 만족스러운 서비스를 제공하기 위해 노력하였으나,...</td>\n",
       "      <td>토스</td>\n",
       "      <td>0</td>\n",
       "    </tr>\n",
       "    <tr>\n",
       "      <th>9530</th>\n",
       "      <td>2023-05-17</td>\n",
       "      <td>5</td>\n",
       "      <td>기능이 많아 다 사용해보진 못 했지만 대체적으로 편한거 같아요</td>\n",
       "      <td>이강욱 고객님 안녕하세요! KB스타뱅킹을 이용해 주셔서 진심으로 감사드립니다. 고객...</td>\n",
       "      <td>국민</td>\n",
       "      <td>1</td>\n",
       "    </tr>\n",
       "    <tr>\n",
       "      <th>9531</th>\n",
       "      <td>2023-07-05</td>\n",
       "      <td>5</td>\n",
       "      <td>편리하네요.</td>\n",
       "      <td>농사꾼 고객님, 안녕하세요! KB스타뱅킹을 이용해 주셔서 진심으로 감사드립니다. 앞...</td>\n",
       "      <td>국민</td>\n",
       "      <td>1</td>\n",
       "    </tr>\n",
       "    <tr>\n",
       "      <th>9532</th>\n",
       "      <td>2024-12-20</td>\n",
       "      <td>5</td>\n",
       "      <td>사용하기 편리해요</td>\n",
       "      <td>고객님 안녕하세요! KB스타뱅킹을 이용해 주셔서 진심으로 감사드립니다. KB스타뱅킹...</td>\n",
       "      <td>국민</td>\n",
       "      <td>1</td>\n",
       "    </tr>\n",
       "    <tr>\n",
       "      <th>9533</th>\n",
       "      <td>2024-03-06</td>\n",
       "      <td>1</td>\n",
       "      <td>너무 후져서 오랜만에 어플이용하다가 욕했답니다 인증방식이 2010년대에 머물러계심 ...</td>\n",
       "      <td>안녕하세요 신한은행입니다.\\n먼저 SOL사용에 불편을 드려 정말 죄송합니다.\\n고객...</td>\n",
       "      <td>신한</td>\n",
       "      <td>0</td>\n",
       "    </tr>\n",
       "  </tbody>\n",
       "</table>\n",
       "<p>9534 rows × 6 columns</p>\n",
       "</div>"
      ],
      "text/plain": [
       "             리뷰일  평점                                              사용자리뷰  \\\n",
       "0     2024-02-08   5                                         고경민계장님감사해요   \n",
       "1     2023-07-24   5  저축목표피드 새로 생긴거 너무좋은데 분명 카테고리를 저축으로 했는데 왜 인식이 안되...   \n",
       "2     2023-09-25   1  아니 이딴걸 편리하게 사용하는앱이라고 쳐만들엇나 이렇게 불편하게만든건 일부러그런거에...   \n",
       "3     2024-02-15   3  몇 년째 만족하며 사용중이라 조금식 개선되어거는 모습에 만족하며 사용중입니다. 하지...   \n",
       "4     2023-06-19   5                           스타뱅킹을 사용 하고나서부터 편안해서 좋아요   \n",
       "...          ...  ..                                                ...   \n",
       "9529  2025-04-05   1  만보기 이벤트는 실망스러워요. 후기 말투 다 똑같고 사기 맞죠? 양심이 참... 정...   \n",
       "9530  2023-05-17   5                 기능이 많아 다 사용해보진 못 했지만 대체적으로 편한거 같아요   \n",
       "9531  2023-07-05   5                                             편리하네요.   \n",
       "9532  2024-12-20   5                                          사용하기 편리해요   \n",
       "9533  2024-03-06   1  너무 후져서 오랜만에 어플이용하다가 욕했답니다 인증방식이 2010년대에 머물러계심 ...   \n",
       "\n",
       "                                                   업체답변    은행명  긍정  \n",
       "0     안녕하세요 최순녀 고객님. 칭찬 진심으로 감사드리며, 더욱 편리하고 안정적인 서비스...     우리   1  \n",
       "1     신아​ 님, 안녕하세요? 뱅크샐러드 고객감동팀​입니다. 소중한 시간내어 고객센터에 ...  뱅크샐러드   1  \n",
       "2     안녕하세요. 우리은행입니다. 먼저 우리WON뱅킹 이용에 불편을 드려 죄송합니다. 보...     우리   0  \n",
       "3     안녕하세요? 뱅크샐러드 고객감동팀입니다. 뱅크샐러드에 KB pay를 연결해 모든 자...  뱅크샐러드   0  \n",
       "4     한송림 고객님, 안녕하세요! KB스타뱅킹을 이용해 주셔서 진심으로 감사드립니다. 앞...     국민   1  \n",
       "...                                                 ...    ...  ..  \n",
       "9529  안녕하세요. 송송님, 토스팀입니다. 만족스러운 서비스를 제공하기 위해 노력하였으나,...     토스   0  \n",
       "9530  이강욱 고객님 안녕하세요! KB스타뱅킹을 이용해 주셔서 진심으로 감사드립니다. 고객...     국민   1  \n",
       "9531  농사꾼 고객님, 안녕하세요! KB스타뱅킹을 이용해 주셔서 진심으로 감사드립니다. 앞...     국민   1  \n",
       "9532  고객님 안녕하세요! KB스타뱅킹을 이용해 주셔서 진심으로 감사드립니다. KB스타뱅킹...     국민   1  \n",
       "9533  안녕하세요 신한은행입니다.\\n먼저 SOL사용에 불편을 드려 정말 죄송합니다.\\n고객...     신한   0  \n",
       "\n",
       "[9534 rows x 6 columns]"
      ]
     },
     "execution_count": 9,
     "metadata": {},
     "output_type": "execute_result"
    }
   ],
   "source": [
    "test_df['긍정'] = test_df['평점'].apply(lambda x: 1 if x in [5, 4] else 0)\n",
    "test_df"
   ]
  },
  {
   "cell_type": "code",
   "execution_count": 10,
   "id": "b46e1269",
   "metadata": {},
   "outputs": [
    {
     "data": {
      "text/plain": [
       "은행명\n",
       "국민       8863\n",
       "토스       6201\n",
       "우리       2969\n",
       "하나       1932\n",
       "신한       1764\n",
       "뱅크샐러드     517\n",
       "Name: count, dtype: int64"
      ]
     },
     "execution_count": 10,
     "metadata": {},
     "output_type": "execute_result"
    }
   ],
   "source": [
    "train_df['은행명'].value_counts()"
   ]
  },
  {
   "cell_type": "markdown",
   "id": "35d9e9b7",
   "metadata": {},
   "source": [
    "# 변수를 자동으로 생성하면서 긍정/부정 데이터프레임 만들기\n",
    "* globals()[변수명]"
   ]
  },
  {
   "cell_type": "code",
   "execution_count": 11,
   "id": "9c994e38",
   "metadata": {},
   "outputs": [],
   "source": [
    "bank_en_list = ['hana', 'shinhan', 'kb', 'toss', 'woori', 'b_salad']"
   ]
  },
  {
   "cell_type": "code",
   "execution_count": 12,
   "id": "92385702",
   "metadata": {},
   "outputs": [
    {
     "data": {
      "image/png": "[encoded data removed]",
      "text/plain": [
       "<Figure size 640x480 with 1 Axes>"
      ]
     },
     "metadata": {},
     "output_type": "display_data"
    },
    {
     "name": "stdout",
     "output_type": "stream",
     "text": [
      "\n",
      "1042 890\n"
     ]
    },
    {
     "data": {
      "image/png": "[encoded data removed]",
      "text/plain": [
       "<Figure size 640x480 with 1 Axes>"
      ]
     },
     "metadata": {},
     "output_type": "display_data"
    },
    {
     "name": "stdout",
     "output_type": "stream",
     "text": [
      "\n",
      "755 1009\n"
     ]
    },
    {
     "data": {
      "image/png": "[encoded data removed]",
      "text/plain": [
       "<Figure size 640x480 with 1 Axes>"
      ]
     },
     "metadata": {},
     "output_type": "display_data"
    },
    {
     "name": "stdout",
     "output_type": "stream",
     "text": [
      "\n",
      "7553 1310\n"
     ]
    },
    {
     "data": {
      "image/png": "[encoded data removed]",
      "text/plain": [
       "<Figure size 640x480 with 1 Axes>"
      ]
     },
     "metadata": {},
     "output_type": "display_data"
    },
    {
     "name": "stdout",
     "output_type": "stream",
     "text": [
      "\n",
      "2415 3786\n"
     ]
    },
    {
     "data": {
      "image/png": "[encoded data removed]",
      "text/plain": [
       "<Figure size 640x480 with 1 Axes>"
      ]
     },
     "metadata": {},
     "output_type": "display_data"
    },
    {
     "name": "stdout",
     "output_type": "stream",
     "text": [
      "\n",
      "1146 1823\n"
     ]
    },
    {
     "data": {
      "image/png": "[encoded data removed]",
      "text/plain": [
       "<Figure size 640x480 with 1 Axes>"
      ]
     },
     "metadata": {},
     "output_type": "display_data"
    },
    {
     "name": "stdout",
     "output_type": "stream",
     "text": [
      "\n",
      "329 188\n"
     ]
    }
   ],
   "source": [
    "pos_neg_list = []\n",
    "\n",
    "for bank, bank_eng in zip(train_df['은행명'].unique(), bank_en_list):\n",
    "    # 은행별 긍정/부정 리뷰를 필터링\n",
    "    pos = train_df[(train_df['은행명'] == bank) & (train_df['긍정'] == 1)]\n",
    "    neg = train_df[(train_df['은행명'] == bank) & (train_df['긍정'] == 0)]\n",
    "    # 전역 변수를 자동 생성해서 저장\n",
    "    globals()[f\"{bank_eng}_pos\"] = pos\n",
    "    globals()[f\"{bank_eng}_neg\"] = neg\n",
    "    pos_neg_list.append(f\"{bank_eng}_pos\")\n",
    "    pos_neg_list.append(f\"{bank_eng}_neg\")\n",
    "    \n",
    "    # 시각화 \n",
    "    plt.bar(['긍정', '부정'], [pos.shape[0], neg.shape[0]], color=['skyblue', 'salmon'])\n",
    "    plt.title(f\"{bank} 긍정/부정 분포\")\n",
    "    plt.ylabel(\"리뷰수\")\n",
    "    plt.ylim(0, max(pos.shape[0], neg.shape[0] + 100))\n",
    "    \n",
    "    plt.show()\n",
    "    print()\n",
    "    print(pos.shape[0], neg.shape[0])"
   ]
  },
  {
   "cell_type": "code",
   "execution_count": 13,
   "id": "015b943d",
   "metadata": {},
   "outputs": [
    {
     "data": {
      "text/plain": [
       "['hana_pos',\n",
       " 'hana_neg',\n",
       " 'shinhan_pos',\n",
       " 'shinhan_neg',\n",
       " 'kb_pos',\n",
       " 'kb_neg',\n",
       " 'toss_pos',\n",
       " 'toss_neg',\n",
       " 'woori_pos',\n",
       " 'woori_neg',\n",
       " 'b_salad_pos',\n",
       " 'b_salad_neg']"
      ]
     },
     "execution_count": 13,
     "metadata": {},
     "output_type": "execute_result"
    }
   ],
   "source": [
    "pos_neg_list"
   ]
  },
  {
   "cell_type": "code",
   "execution_count": 49,
   "id": "27eb92f2",
   "metadata": {},
   "outputs": [],
   "source": [
    "# for bank in pos_neg_list:\n",
    "#     display(globals()[bank])"
   ]
  },
  {
   "cell_type": "markdown",
   "id": "1b1249b1",
   "metadata": {},
   "source": [
    "모든 데이터 프레임에서 특수문자 제거하기"
   ]
  },
  {
   "cell_type": "code",
   "execution_count": 14,
   "id": "b1c6b69c",
   "metadata": {},
   "outputs": [],
   "source": [
    "import re\n",
    "def text_clean(x):\n",
    "    pattern = r'[가-힣0-9a-zA-Z]+'\n",
    "    matches = re.findall(pattern, x)\n",
    "    matches = \" \".join(matches)\n",
    "    return matches"
   ]
  },
  {
   "cell_type": "code",
   "execution_count": 15,
   "id": "5e79145e",
   "metadata": {},
   "outputs": [
    {
     "name": "stderr",
     "output_type": "stream",
     "text": [
      "/tmp/ipykernel_627/295539541.py:2: SettingWithCopyWarning: \n",
      "A value is trying to be set on a copy of a slice from a DataFrame.\n",
      "Try using .loc[row_indexer,col_indexer] = value instead\n",
      "\n",
      "See the caveats in the documentation: https://pandas.pydata.org/pandas-docs/stable/user_guide/indexing.html#returning-a-view-versus-a-copy\n",
      "  globals()[bank]['사용자리뷰'] = globals()[bank]['사용자리뷰'].apply(text_clean)\n"
     ]
    }
   ],
   "source": [
    "for bank in pos_neg_list:\n",
    "    globals()[bank]['사용자리뷰'] = globals()[bank]['사용자리뷰'].apply(text_clean)"
   ]
  },
  {
   "cell_type": "code",
   "execution_count": 16,
   "id": "7838aa7d",
   "metadata": {},
   "outputs": [
    {
     "data": {
      "text/plain": [
       "0                  엄빠 폰에 설치해드렸는데 두분 다 쓰기 편하다고 하시네요 저도 쓰고있음\n",
       "27       Not Found 실행이 안됩니다 하나은행 어플 누르면 Not Found 메세지 뜨...\n",
       "58                 뱅킹 잘 이용하고 있어요 항상친절 하게 설명 해 주셔서 감사 수고하세요\n",
       "59                                                  잘쓰고잇어용\n",
       "66                                                   감사합니다\n",
       "                               ...                        \n",
       "22120                         입 출 현황을 확인할 수 있어 매우 편리하고 좋아요\n",
       "22165                                          최고입니다 감사합니다\n",
       "22196                                                감사합니다\n",
       "22202                                             간편하고 좋네요\n",
       "22214                                                  좋아요\n",
       "Name: 사용자리뷰, Length: 1042, dtype: object"
      ]
     },
     "execution_count": 16,
     "metadata": {},
     "output_type": "execute_result"
    }
   ],
   "source": [
    "hana_pos['사용자리뷰']"
   ]
  },
  {
   "cell_type": "markdown",
   "id": "1ff72d33",
   "metadata": {},
   "source": [
    "# 은행별 긍정/부정 리뷰 워드클라우드 만들기"
   ]
  },
  {
   "cell_type": "code",
   "execution_count": 50,
   "id": "2aa7f73a",
   "metadata": {},
   "outputs": [
    {
     "name": "stdout",
     "output_type": "stream",
     "text": [
      "Requirement already satisfied: wordcloud in /home/wichuuu/miniforge3/envs/fintech/lib/python3.9/site-packages (1.9.4)\n",
      "Requirement already satisfied: numpy>=1.6.1 in /home/wichuuu/miniforge3/envs/fintech/lib/python3.9/site-packages (from wordcloud) (2.0.2)\n",
      "Requirement already satisfied: pillow in /home/wichuuu/miniforge3/envs/fintech/lib/python3.9/site-packages (from wordcloud) (11.1.0)\n",
      "Requirement already satisfied: matplotlib in /home/wichuuu/miniforge3/envs/fintech/lib/python3.9/site-packages (from wordcloud) (3.9.4)\n",
      "Requirement already satisfied: contourpy>=1.0.1 in /home/wichuuu/miniforge3/envs/fintech/lib/python3.9/site-packages (from matplotlib->wordcloud) (1.3.0)\n",
      "Requirement already satisfied: cycler>=0.10 in /home/wichuuu/miniforge3/envs/fintech/lib/python3.9/site-packages (from matplotlib->wordcloud) (0.12.1)\n",
      "Requirement already satisfied: fonttools>=4.22.0 in /home/wichuuu/miniforge3/envs/fintech/lib/python3.9/site-packages (from matplotlib->wordcloud) (4.57.0)\n",
      "Requirement already satisfied: kiwisolver>=1.3.1 in /home/wichuuu/miniforge3/envs/fintech/lib/python3.9/site-packages (from matplotlib->wordcloud) (1.4.7)\n",
      "Requirement already satisfied: packaging>=20.0 in /home/wichuuu/miniforge3/envs/fintech/lib/python3.9/site-packages (from matplotlib->wordcloud) (24.2)\n",
      "Requirement already satisfied: pyparsing>=2.3.1 in /home/wichuuu/miniforge3/envs/fintech/lib/python3.9/site-packages (from matplotlib->wordcloud) (3.2.3)\n",
      "Requirement already satisfied: python-dateutil>=2.7 in /home/wichuuu/miniforge3/envs/fintech/lib/python3.9/site-packages (from matplotlib->wordcloud) (2.9.0.post0)\n",
      "Requirement already satisfied: importlib-resources>=3.2.0 in /home/wichuuu/miniforge3/envs/fintech/lib/python3.9/site-packages (from matplotlib->wordcloud) (6.5.2)\n",
      "Requirement already satisfied: zipp>=3.1.0 in /home/wichuuu/miniforge3/envs/fintech/lib/python3.9/site-packages (from importlib-resources>=3.2.0->matplotlib->wordcloud) (3.21.0)\n",
      "Requirement already satisfied: six>=1.5 in /home/wichuuu/miniforge3/envs/fintech/lib/python3.9/site-packages (from python-dateutil>=2.7->matplotlib->wordcloud) (1.17.0)\n",
      "\n",
      "\u001b[1m[\u001b[0m\u001b[34;49mnotice\u001b[0m\u001b[1;39;49m]\u001b[0m\u001b[39;49m A new release of pip is available: \u001b[0m\u001b[31;49m25.0.1\u001b[0m\u001b[39;49m -> \u001b[0m\u001b[32;49m25.1.1\u001b[0m\n",
      "\u001b[1m[\u001b[0m\u001b[34;49mnotice\u001b[0m\u001b[1;39;49m]\u001b[0m\u001b[39;49m To update, run: \u001b[0m\u001b[32;49mpip install --upgrade pip\u001b[0m\n"
     ]
    }
   ],
   "source": [
    "! pip install wordcloud"
   ]
  },
  {
   "cell_type": "code",
   "execution_count": 17,
   "id": "1158f47c",
   "metadata": {},
   "outputs": [],
   "source": [
    "from wordcloud import WordCloud\n",
    "from konlpy.tag import Mecab\n",
    "mecab = Mecab()"
   ]
  },
  {
   "cell_type": "code",
   "execution_count": 18,
   "id": "da898668",
   "metadata": {},
   "outputs": [
    {
     "data": {
      "text/plain": [
       "['hana_pos',\n",
       " 'hana_neg',\n",
       " 'shinhan_pos',\n",
       " 'shinhan_neg',\n",
       " 'kb_pos',\n",
       " 'kb_neg',\n",
       " 'toss_pos',\n",
       " 'toss_neg',\n",
       " 'woori_pos',\n",
       " 'woori_neg',\n",
       " 'b_salad_pos',\n",
       " 'b_salad_neg']"
      ]
     },
     "execution_count": 18,
     "metadata": {},
     "output_type": "execute_result"
    }
   ],
   "source": [
    "pos_neg_list"
   ]
  },
  {
   "cell_type": "code",
   "execution_count": 19,
   "id": "e8be4599",
   "metadata": {
    "scrolled": true
   },
   "outputs": [
    {
     "data": {
      "text/plain": [
       "0                  엄빠 폰에 설치해드렸는데 두분 다 쓰기 편하다고 하시네요 저도 쓰고있음\n",
       "27       Not Found 실행이 안됩니다 하나은행 어플 누르면 Not Found 메세지 뜨...\n",
       "58                 뱅킹 잘 이용하고 있어요 항상친절 하게 설명 해 주셔서 감사 수고하세요\n",
       "59                                                  잘쓰고잇어용\n",
       "66                                                   감사합니다\n",
       "                               ...                        \n",
       "22120                         입 출 현황을 확인할 수 있어 매우 편리하고 좋아요\n",
       "22165                                          최고입니다 감사합니다\n",
       "22196                                                감사합니다\n",
       "22202                                             간편하고 좋네요\n",
       "22214                                                  좋아요\n",
       "Name: 사용자리뷰, Length: 1042, dtype: object"
      ]
     },
     "execution_count": 19,
     "metadata": {},
     "output_type": "execute_result"
    }
   ],
   "source": [
    "hana_pos['사용자리뷰']"
   ]
  },
  {
   "cell_type": "code",
   "execution_count": 20,
   "id": "48a558e6",
   "metadata": {},
   "outputs": [
    {
     "data": {
      "text/plain": [
       "(1042, 6)"
      ]
     },
     "execution_count": 20,
     "metadata": {},
     "output_type": "execute_result"
    }
   ],
   "source": [
    "hana_pos.shape"
   ]
  },
  {
   "cell_type": "code",
   "execution_count": 21,
   "id": "00754818",
   "metadata": {},
   "outputs": [],
   "source": [
    "text_data = hana_pos['사용자리뷰'].astype(str).tolist()\n",
    "#리스트 형태로 변환\n",
    "\n",
    "full_text = \" \".join(text_data)"
   ]
  },
  {
   "cell_type": "code",
   "execution_count": 22,
   "id": "e374803d",
   "metadata": {},
   "outputs": [
    {
     "data": {
      "text/plain": [
       "'엄빠 폰에 설치해드렸는데 두분 다 쓰기 편하다고 하시네요 저도 쓰고있음 Not Found 실행이 안됩니다 하나은행 어플 누르면 Not Found 메세지 뜨면서 튕기네요 재부팅도 해보고 어플 삭제 후 재설치 해도 마찬가지네요 참고로 3년간 아무이상 없이 잘 사용했고 오늘 갑자기 이럽니다 뱅킹 잘 이용하고 있어요 항상친절 하게 설명 해 주셔서 감사 수고하세요 잘쓰고잇어용 감사합니다 등 h 2 5s0 아직까지 잘 사용하고 있습니다 좋음 매우 잘 쓰고 있습니다 그런데 앱이 실행이 안되네요 월급통장 자유적금 안내가 바로나와서 너무 편하고 좋네요 직관적으로 알아보기 쉬워요 쓰기 편함 굿입니다 원하는대로 척척 다됩니다 일상생활에 늘 사용중입니다 알람이 안떠서 직접 가서 알람 뜨도록 설정 을 했는데 돈만 가져가고 알람 안뜨네요 은행에서도 가서 얘기를 했더니 알람 뜨게 설정했다고 말만 하고 조취를 안해주네요 이제는 앱 들어 갈라고 할때마다 튕귀고 폰 껐다켰다 해봐도 안 들어가지네요 하나에 이체 보내야 되는데 못하고 있고 하나 업데이트 해라고 뜨는데 막상 스토어에들어가서 업데이트 할라니깐 업데이트가 안뜨고 뭐 어떻게 해라는지 모르겠네요 굿 Gooooo good 굿 조아요 우리는 하나다 한반도는 하나의 민족임을 알려주는 하나은행입니다 운전면허증을 촬영했으나 2번이나 사본 대신 원본을 촬영하라는 메시지가 떠서 결국은 3번을 촬영하고 나서야 확인됨 인식 기능에 문제가 있는 것으로 사료되오니 개선하여 주십시오 감사합니다 앱에서 혼자 다 할수있게 설명 잘되어있어요 쉽게 설명돼 있어서 좋으네요 간단하게 대출이 되네요 자산관리 한눈에 보이게 정리해 줘서 정말 편합니다 언제 얼마나 지출했는지 그래프로 보여주니 한눈에 보이고 좋아요 사용이 편리해요 좋아요 잘보이고요 티켓 사려고 설치했는데 계좌 없어도 되네요 좋아요 사용하기로 편해서 좋아요 좋습니다 대출 알아봤는데 잘 해결했습니다 고맙습니다 다른 은행 앱이랑 다르게 빠르고 모바일로 처리할수 있는 일도 많은듯 꽤 편리하네요 매우 만족합니다 잘쓰고있습니다 좋와요 국민은행 쓰다가 하나은행 쓰니까 넘나 좋음 상담원도 친절하고 사기꾼한테 전화도 안옴 이체한도 변경 원큐에 잘 되네요 좋아요 좋아요 이건가 다른은행보다 대출 이체한도등 간편하였음 잘 이용하고 있는데 한가지 전체계좌 들어가서 타행계좌들 잔액만 보려고 했는데 업데이트가 안되있고 그 계좌 들어가서 클릭하니 잔액이 업데이트 되거나 그리해도 아예 안되는 경우가 있네요 간편합니다 좋아요 오늘 월급통장 달달 하나통장 만들었는데 너무 편해요 매일 이용할거 같아요 한도 계좌 풀러면 3개월치 월급들어와야지 풀수 있다고 설명 들어서 너무 행복했어요 굿굿 하나은행 최고 감사합니다 개인정보 보호관리체계가 잘되여있어 마음놓입니다 처음에 쓸 땐 불편했는데 자꾸 하다보니 세뇌되는건가 그냥 적응함 잘쓰고 있었습니다 업데이트 후 메모기능을 터치해야 쓰는게 불편합니다 바로 바로 입출금 내역에서 메모할 수 있게 예전으로 바뀌었으면 좋겠습니다 감사합니다 world traveler카드 이용하다가 사용중 폰 잠금상태에서는 입 출금 알림이 바로 오지를 않고 잠금해제를 해야만 알림이 옵니다 잠금상태에서는 30분 1시간이 지나야 알림이 옵니다 잠금을 해제하면 입 출금 알림이 옵니다 그리고 잠금상태에서 충전 케이블을 연결을 하면 알림이 옵니다 잠금해제후 알림이 오지만 전화기가 잠금상태가 된지 3 4분의 시간이 경과되면 알림이 오진 않습니다 전화기 충전중 일때는 잠금상태 상관없이 알림이 옵니다 다른 기기에서도 동일한 증상 발생 됩니다 타사 은행어플은 잠금상태 상관없이 알림이 바로 옵니다 참고로 배터리 최적화 하지 하지 않은 상태이고 하나은행 어플은 배터리 절전상태도 아닙니다 앱 삭제후 설치를 여러번 해봤지만 결과는 마찬가지 입니다 어플리케이션은 최신버전 으로 업데이트 되어있는 상태입니다 wite lte 수신에 전혀 문제 없습니다 만족합니다 계속거래하고싶네요 편하고 좋아요 직관적으로 보이기 쉽게 만들어놔서 좋아요 1 2초도 소중한 시간이니까요 편리합니다 이해하기 좋게 설명이 잘되서 별 5개요 편해요 편하고 이벤트가 좋음 금융 상품에 가입하는 방법이 간편하고 직관적이어서 좋습니다 비대면 거래 가 좋긴하네요 없음 은행 앱중 최고 친절한 상담사님과의 빠른 연결이 인상적입니다 고맙습니다  편리하고 간편해서 정말 좋아요 쏠쏠한 용돈 생기는게 좋아요 하나은행게시 폰번호 바꿨더니 인증서는 자동폐기 안되는게 여러가지 폰번호를 바꾸지를 말라고 하던가 계좌개설 화면 바뀐 디자인이 예전보다 훨나음 간편해서 좋아요 너무 편리하고 유익하게 잘 쓰고있어요 좋은상품입니다 괜찮네요 앱이 많이 무거운거는 개선필요성이 있어보입니다 Good UIUX 좋습니다 간편하고 좋았습니다 설명도 잘해주시고요 처음하는 사람인데도 쉽게 잘했습니다 감사합니다 하나은행 좋아요 좋아요 티 없는 어플 좋아요 비대면 작업 빨라서 좋습니다 굿굿굿베리굿입니다 어플 들어가려는데 갑자기 안전한 금융거래를 의해 임의 개조되지 않은 정상적인 os에서만 서비스 이용이 가능합니다 자꾸 이런메세지가 떠요 핸드폰든 정상폰인데 왜이런거죠 정말빠르네요 굿 다 만족합니다 비대면인증 편리합니다 순차적으로 잘 되어 있네요 좋아요 안전 간편 이용 너무 편해요  좋네요 굿 자유로운 정보를 얻음 선택도 자유롭게 함 편리하군요 편리한 뱅킹앱 좋아요 좋아요 김지정입니다 안녕하십니까 반갑습니다 저희는 본인이 김지정입니다 상자분하고 1만원 내 이외를 몬하고 사람 말을 그런 식으로 줬는디 저희도 남의 그런 거도 많이 사용하고 싶었고 아니 그 관심도 있었습니다 감사합니다 없음 편리하고 메뉴구성이 좋네요 버그도 없는것 같아요 최고 완벽해요 빠르게 정확한 입출금 관리에 최적입니다 편리합니다 친절 고마워요 하나외환은행 간편해서 좋아요 간편하고 손쉽게 접근할 수 있어서 편리한 이용이 가능했습니다 감사합니다 감사합니다 사용자가 사용이 편리해서 저같은 50대이상연령대도 편리하게 사용할 수가 있네요 모두 앱사용 해보세요 적금은 가입이 생가보다 쉽게 되서 다행이다 빠르게 잘 돌아가고 불편한 거 없습니다 버퍼링 긴거빼곤 쓸만해요 간편해서좋아요 빨라서 좋다 임의 개조되지않은 정상적인os에서만가능하다는게 뭐임 잘되다가 갑자기 이런문구가 뜨면서 안되네요 직원분이 친절히 설명해주셨다 이젠 토스보다 편한느낌 하나은행앱에 버그가 있다고 실행이 안되는데요 굿 이용하기 편해요 속도도 빠르고 감사합니다 좋읍니다 앱 설치하기 전에 평점이 안 좋아서 걱정했는데 오류없이 잘 사용되네요 비대면 기능이 효율적이다 접근 편의성 간편성 신속성 등 좋아요 이용에 간펺 서 도움이 됩니다 아주 편하구 좋아요 사용이편리해요 좋은상품 가입해서 좋아요 Good 간편해용 엡은69세입니다 엡은어렸습니다 신속정확 나만 괜찮은거였나 사용하기 편리하고 각종 상품가입도 자유롭게 할수 있으며 이벤트도 많아 매우 좋습니다 휴대전화 신용등급 이 있어서 다행이 만듬 편리해서 좋아요 최고 굿 좋아요 편리합니다 너무친절하시고 세심하게 알 려주셔서 감사요 금융앱중에서 가장많이용하는 앱이 하나원큐입니다 앞으로도 많은 이용하고 대한민국의 힘이되어주기를 기원합니다 감사합니다 굿 사용 쉽고 편리함 좋아요 아주 만족합니다 이해를 돕기위해 예시를 보여주었으면 더 좋겠습니다 다양한 활동 좋아요 좋아용 간편하구 편리하네요 굳굳 사용도 편하고 혜택도 많아서 좋아요 잘 쓰고 있어요 직원이 친절해요 편리하고 좋아요 편하고 좋아요 굿 편리해서 쓰기가 좋습니다 이번 직장 옮기면서 하나은행이 주거래은행이여서 설치하게됐는데 쓰기도 간편하고 좋아요 쉽게 설명을 하여 주고 자세히 안내 하여 줍니다 좋아요 간편하긴 해요 좋아요 만족합니다 좋아요 조와요 편하게 금융거래 하고있음 은행안간지 오래 너무좋은앱인데 갑자기 정상적은os에서 작동한다는알림문이 뜨네요 사용이 안됩니다 폰 아무것도한게없는데 해결방법이있나요 하나은행 이하나 대리의 친절한 안내와 추천으로 연금통장도 개설하고 적금 가입도 했습니다 내 주거래 은행 신뢰할수있는 은행임 사용도간편하고 신속하게 처리되어 만족합니다 좋습니다 다른 은행앱보다 직관적이고 좋아요 최고에요 역시 하나은행 유일무이 좋아요 그냥 사용하기 좋아요 직관적이고 사용자 편의 앱 매우만족함 카카오톡 운영정책 위반이다하여 2개월 후 03 23일 개통된다고 합니다 71살입니다 520619 음 인시초 안승환 아주 신뢰적이며 간편해서 참 좋아요 땡큐입니다 좋아요 좋아요 좋았어요 적금을 갑자기 해지해야했는데 어플로 하니까 바로 됐네욯 편리합니다 간편가입 은행앱 때문에 은행거래를 고민하게되는 수준인데 대체 왜 개선을 안합니까 대출받으러 가서 지점 직원도 고객도 가만히 멍때리고 있게 만드는 개발자는 제발 대책 좀 내놓아요 화면이 빙글빙글 돌면서 에러나고 넘어가지도 않음 이거 어떻게 해야됩니까 이체한번 할때마다 5분이상 기다려도 도무지 화면이 안넘어가는데 열받아서 다 때려부수고싶음 사용하기에 타 앱 비교 편리하네요 감사합니다 편한가요 편리하고 빨라서 좋아요 잘 쓰고있습니다 저한텐 잘맞고 편한거 같아서 조하요 헿 대출때매 주거래 옮겼는데 전에쓰던 앱보다 잘돼있네요 깔끔하고 빨라요 굳 감사합니다 간편하고 좋습니다 좋았어요 아티스트 임영웅 당행이 손쉽게잘알려줌 상공회의소지점 의견 리뷰 이용이 편리해요 편리하고 혜택도 많아요 이벤트 많이 자주 해주세요 간편하고 편리해요 이상한앱을 발견하면 자동으로 앱이 작동을 중단합니다 다른은행은 그런 작동이 없습니다 사용해보니 편하고 좋아요 통장 관리를 앱으로 하는데 너무 편하고 좋아요 계좌 비밀번호도 본인 신분증과 본인 명의 다른 은행 계좌 그리고 그 계좌 비밀번호를 통해 상담원이나 영업점 내방 없이 재설정 가능하다는 편리함 국민은행은 바꾸려는 계좌 정보 만으로도 변경 가능한데 더 편리해지면 좋겠습니다 어제까지만 해도 월급확인했는데 잘되다가 오늘 다시 실행 해보니 로딩이 길어지네요 꾸준히 이용자인데 개선좀 부탁드립니다 저만 그러는건지 좋아요 사용자 남자 우종대를 앞으로는 무지개로 바꿔주세요 초보자도 이용하기 편리해 너무 좋아요 너무 좋아요 좋습니다 편하고 좋아요 편하고 좋아요 주거래은행 넘필요해요 다른 앱에서 하나인증서로 인증을 선택하면 알림창에 인증 알림이 와야 편리하게 인증하는데 감감무소식입니다 그래서 번거롭게 은행앱에 들어가서 인증서 란에 찾아들어가서 인증을 해야 합니다 고쳐주세요 알림차단 안되어 있고 기타 하나은행 알림은 잘 나옵니다 여기는 은행앱 중에서 인증받기에는 완전 쉽고 아주 간편하고 이체를 진행하기에도 매우 편리한 서비스이지만 게다가 보안체계적까지로도 이루어졌으니 진짜로 은근히 마음이 놓여집니다 네이버하나파킹통장 추천합니다 만족합니다 좋아요 친절 편리해요 좀 무겁네요 빠른 버그 수정 감사합니다 정릉점 임길현부장님 최고예요 간편하고좋아요 좋아요 깔끔 직관적 항상 감사합니다 편합니다 상대방 입금 내역 확인할때 계좌번호는 왜 안떠요 아주 좋아요 보기 좋고 쓰기 좋아요 불편한점 없이 사용 가능함 추천 쉽게쉽게 이해할수있게 잘 구성이 되어 좋습니다 인터넷이 어려운 세대도 그리 어렵지 않으니 한번 도전해 보세요 무척 좋습니다 다른거 다 잘 쓰고 있긴 한데 입출금 계좌 복사할때 앞에 하나은행은 왜 복붙되는거에요 복사해서 붙여넣기 쓰는 경우가 대부분 1 특정 양식 채울때 2 친구한테 계좌 알려줄때 일거 같은데 수정이 간편한 2 랑 다르게 1 때문에 매번 앞에 지우느라 번거롭고 글자수제한때문에 뒤에 숫자 지워져서 결국 하나하나 다시쳐야하고 배로 번거로워요 기껏 편리한 기능 만들어놓고 못쓰는거 같은데 그냥 계좌 복사는 계좌번호만 복사되게 만들어주세요 앱이 사용하기 좋아요 편리 기능 다 있었고 상담원 연결도 쉽게 잘 돼서 은행 업무 보는데 좋습니다 굿 감사합니다 좋아요 간다하고 사용하기 편리함 매우편리함 편리하고 이해가 쉬웠어요 Ui가 직관적이고 편리 자세하고 친절합니다 은헹 안가도 편리하게 좋네요 어플 스마트함 만족 편리합니다 너무편하게 잘되어 있습니다 편리함 감사합니다 최초 실행시 변경 된 디바이스가 어쩌구 알럿이 떳습니다 해서 개발자모드해제하고 루팅체크했는데 루팅은 안되어 있습니다 그리고 재실행했지만 로딩바가 계속돌고 있습니다 그영향인지 데이터를 559mb를 사용하여 mmorpg게임같이요 노트10 안드로이드12입니다 답변을 듣고싶어요 일단 화면이 깔끔하고 보기 편해서 무척 만족합니다 이체 할 때 따로 수수료를 내지 않아도 되니 부담도 적네요 개인적으로 제가 해외 갈 일이 종종 있는데 환전지갑 기능이 아주 편리하네요 사용하기편함니다 편리합니다 좋은 서비스 감사해여 이번에 상품가입 앱으로 했는데 편하더라구요 내손에 은행 거래 편리하네요 사용하기 편해요 국민은행에서는 안되는게 되네요 제 앞에 친구도 청년드림청약 하려햇는데 국민은 모바일로 안된데요 친절 하십니다 업데이트 된 이후로 속도도 빨라지고 테마도 귀여워지고 편리해졌어요 개선해주셔서 감사합니다람쥐 잘쓰고잇습니다 굳 좋아요 깔끔해요 앱이 좋아요 편합니다 아주 만족합니다 세상 참 많이 편리해졌습니다 굿굿 너무 좋아요 은행 가기 귀찮을 때 굿 잘쓰고있어요 개인적으로 딱히 불편한건 없어요 편리하게 가입할 수 있어서 좋았어용 타 은행앱 대비 편의성 좋습니다 다양한 로그인 방식 사용가능 입출금 편리하고 예적금 상품 조회 및 가입할때 내 예상 금리나 만기시 예상 금액 보여주는거 아주 편해요 꼭필요한 엡이라 생각합니다 편하네요 편하게 사용하고 있어여 편리함 좋아요 친절 정확 결제내역 볼때 어디에서 썼는지 기억이 안나서 정확히 보고싶은데 이름이 정확히 안나오고 글자가 나오다가 말아서 너무 불편해요 좋음 좋아요 조아요 굿 잘 쓰고 있어요 좋습니다 편하고 괜찮음 가입이 간편해요 편리성 완전 잘 사용하고 있음 앞으로도 잘 만들어주세요 이해가 쉽다 편리해요 사용이 간편하고 빨라요 좋아요 은행갈일 없음 편리하고 빠름 보기편하고 좋아요 편리해요 좋아요 은행 앱 중 제일 깔끔함 이거때매 하나은행 계좌 만듬 이체도 잘되고 적금도 빨리빨리 잘돼서 좋은듯 좋아 아즈만족해요 최고의 앱입니다 좋아요 예적금 가입과 관리가 편해요 Good 너무 쉬워요 좋아요 앱쓰기편하네요 Good 편합니다 편해요 쓸데 없는 어플 어플 결제 유도 위해 기존 결제 막아 다른 금융권으로 이동을 유도시키는 일 그만 하시길 주거래 은행을 하나 하나두고 쓰는데 이 어플들 때문에 다른 은행 생각하게 됨 굿 까먹고 있던 쿠폰도 알려줘서 이율 우대 받고 적금 가입했어요 나 니니 끼까 입출금 알림 좋아요 사용하기에 편리해서 좋음 은행은 역시 하나은행 너무 이쁘고 좋아요 따봉 만족중 감사합니다 편하고 사용하기 좋아요 굿럭 정확하고 편리 최고 하나최고네 빠르네요 안녕하세요 앱이 직관적이라 보기편하고 앱 반응도 상당히 빠르네요 서비스 너무 좋습니다 좋아요 빨라서좋아요 좋은 상품 감사해요 빠르고안전합니다 친절하고 빠르네요 빠르고 쉽습니다 이체히기가 편 애세 좋와요 빠르고 좋아요 굿 쓸만해요 다른 앱보다 색깔이나 디자인도 괜찮고 오 오류없고 렉없고 굿 편리하네요 굿 좋음 급하게 이체할 일이 잦은데 빠르게 이체돼서 속시원합니다 좋아요 그지같은 일부 은행 어플에 비하면 선녀다 자동이체 같은 메뉴가 숨어있는 경우가 많아서 찾기 힘든 경우 있음 다른 어플에 고통받다가 옮겼기 때문에 5점 역시 하나은행은 우리나라 최고 어플 사용하기 편리해요 아주 쉽고 이해하기 좋았습니다 계좌이체할때 돈을 받을 계좌를 입력하지 않아도 자동으로 특정 계좌로 지정됩니다 심지어 바꿀수도 지울수도 없더라구요 생각없이 돈 입력하고 이체하다가 착오송금할 뻔했습니다 사용자 편의를 고려하는건 좋지만 돈이 왔다갔다하는 민감한부분에는 돈받을계좌가 미리 지정되어있는게 아니라 사용자가 반드시 확인하고 선택하도록 바꾸는게 좋겠습니다 최소한 자동지정 안되는 옵션이라도 넣어주던지요 문제가 있어보입니다 다른 앱보다 찾기 편해요 좋아요 이 앱은 초보자도 사용하기 쉽게 잘 만들어져 있습니다 만족합니다 감사합니다 좋아요 편리하고 빠른처리 좋아요 펼리합니다 하나원큐 최고여요 빠르고 좋은 금융써비스 조회이체 편하고 환전할 때 다른은행 통장에서도 뺄 수 있어 좋아요 하나은행 어플이 갑자기 안열려요 좋아요 하나은행 어플사용하니깐 너무좋네요 오류없이 문제를안생기게 해주시면 감사하겠습니다 에러코드안뜨게 해주세요 갑자기 하나은행 어플들어가니깐 지문도 안되구 상태문구 뭐라고 뜨는데 오류인가요 아니면 시스템이 문제인가요 되게 너무불편합니다 하나은행 8년차 매우만족하나 어플을 좀 더 심플하게 개선하면 더 좋을거같습니다 만족합니다 굿 가계부작성을 시작하면서 우리집의 수입과 지출의 규모를 파악하고 인생주기 플랜을 짜나가는 중이다 불필요한 소비를 줄이려고 노력하면서 물품가격 비교로 꼭 필요한 것이지 다시 생각하게 되고 즉흥적인 소비패턴으로 카드를 긁었던 소비성향이 이제는 달라져가고 있는 성향이다 미래 목돈지출에 대한 대책을 세워나가게 되어 준비하는 습관으로 바뀌어가는 중이다 처음 이라서 쉽게해결되어감사합니다 모바일로 편리하게 이용할 수 있어서 감사합니다 간편하고 좋아요 결제에서 쿠폰사면 리워드 주는거 쏠쏠해요 이벤트 많았으면 좋겠어요 간편하고 빠르고 좋아요 좋아요 갑자기 앱을키면 not found 라는 창이뜨면서 열리지가 않아요 빨리 처리 좀 부탁드립니다 설명도 쉽게잘되어있고 사용하기편해요 항사우잘 쓰고있습니다 여러번 변경 끝에 잘 된 앱인거 같습니다 편리하게 적금 가입이 가능해 좋음 쓰기 편하네요 잘 쓰고있습니다 좋아요 좋아요 잘쓰고 있습니다 굿잡 모바일로 예적금도 하고 좋아졌네요 좋아오 쓰기편한데 한번씩 느려터진거말곤 좋아요 좋아요 굿 앱디자인도 항상 예쁘게 개선하려고 노력하시고 친절한 상담도 좋습니다 편리 편리하게 가입할수 있어 좋습니다 간편하고 쉬워서 좋아요 혼자서 읽어보고 할 수 있을 수준이며 오류가 없음 사용하기 편리하고 혜택도 많고 이벤트도 다양하고 너무 좋아요 Good 하나원큐 사용하기 편리합니다 만족해요 감사합니다 좋습니다 수수료없어서 편리해요  상품설명이 자세하게 잘 적혀있고 가입도 간편해서 굳 서비스 이용이 쉽고 편리해요 해외에서 사용할 때도 아주 굿임 주거래은행 앱인데 사용이 편해요 좋아요 이체 수수료 원래 안나가서 혜택인지 몰랐음 좋아요 좋네요 여러가지상품추천도좋구요 바로가입까지할수있어좋습니다 예정말좋아요은행통장을매일보고또한쓸때도있고요아직도쓸수있어서요아주좋아요마음에들어요항상쓸수있어서요참좋아요언제까지나함께하는그날까지열심히노력해주세요새해복많히받으세요늘건강하시길바람니다 아주 빠르고 좋아요 편해요 편하게 늘 사용하고 있습니다 적극 추천드려요 편리함 간단함 좋아요 열리는 속도 좀 느린거 말고는 좋음 굿 사용하기 편하고 좋아요 신속 간편합니다 참 편리합니다 원하는 것을 편하게 좋아요 편리하고 사용하기 편해서 좋아요 좋아요 메뉴 최근 이용 에서 자동이체 계좌간자동이체 메뉴들은 이미 눌러진 별을 해제하려고 하면 바로 앱이 강제 종료되고 별을 해제할 수 없습니다 굿입니다 별점 너무 낮은게 많아서 일단 5개로 의견남겨요 이전에 갤럭시20 설치후 사용하다가 잘쓰다 지문 인증안됌 버그발생해서 강제종료 현상으로 리뷰 남겼습니다 이후 삭제 후 재설치 하라고 하셔서 다시 가입해 쓰고있는지 2주쯤 됐네요 그런데 오늘 또 강제종료 되면서 본인인증도 안되서 결제금액이나 명세서도 못보고있습니다 왜자꾸 같은 오류가 반복되는걸까요 화려한 새로운 기능 탑재보다는 사용자들은 자주쓰는 한정된 기능이 무겁지않게 오류 없이 사용되는 안정성을 기대합니다 업데이트라든가 빠른 시정 조치 해주세요 대출 절차가 생각보다는 매우 편하게 진행되었다 좋아요 빨라서 편했어요 편리합니다 만족합니다 쪼아요 좋아요 짠테크 천국 이벤트 짱 좋아요 이번에 해외 갈 준비하면서 환전지갑 잘 씀요 가입절차가 간단하고 명료함 좋아요 짱 이용이 매우 편리함 임영웅 님이 건강여심히 항상 국민가수 잘했어요 쉬세요 이용하기 편해요 모바일번호표 첨 써봄 근데 메뉴 찾기 너무 힘듬 최고에요 편함 시간이많이 안걸림 공과금의 납부하기 글씨가 바로 확인될수있도록 좀더 크고 진했으면 합니다 지방세 납부하러 들어왓다가 바로납부가 잘 안보여서 한참 찾았어요 잘 사용하고 있어요 한 눈에 보기 편리해서 예금이 쉬워요 사용하기 편해요 친절 좋아요 좋아요 좋아요 좋아요 좋아요 좋아요 좋아요 좋아요 상세한 설명에 만족 합니다 굳 좋아요 좋아요 쓰기 편해요 간편대출 편해요 만족함 편리해요 최고의 금융앱입니다 앞으로도 풍성하고 알찬 콘텐츠들로 많은 분들과 공감하고 더 가깝게 소통하는 채널로 사랑받길 바라며 응원해요 언제 어디서나 편안한 하나원큐 20대도 하나은행 30대도 하나은행 40대도 하나은행 이용중 동네에 하나은행없어서 항상 어플로 사용 땡큐 마이 뱅크 굿 타행 이체 할 일이 진짜 많은데 이체 수수료가 그냥 다 무료인거 맘에 들어서 꾸준히 쓰고 있는 중 최고 의정부 삼성물산특성화교육 좋습니다 Good 앱이 빠르고 편리하네요 이체가 자주 있는편이라 이제도 간편하고 좋네요 하나은행방문하면직원분들환한미소로반겨주시니늘감사합니다요즘처럼힘든서민들에게희망을 안겨주는따뜻한미소늘감사합니다 리소스 다운로드 때문에 들어가지질 않아요 돈 받아야되서 빨리 좀 복구 해줬으면 해요 조아요 편하고 좋아용 굿 인증 너무 많아 굳 세상참 편리해졌네요 뭔가 다된다는 것 같긴한데 내용 자체가 어려워서 이해를 못하겠음 넘 편하게 잘 되어있습니다 좋아요 잘 사용중입니다 자세하고 간편하게 이용하기 너무 좋았습니다 하나로 통일 그게 합이죠 간편하게 이체도하고 은행앱 여러개 쓰지만 그래도 가장 편하게 쓰이네요 굿 간단하고 만족합니다 간편하고 쉬워서좋습니다 감사합니다 편하게 하세요 감사합니다 사용하기가 훨씬 쉬워졌습니다 대출관련 쉽고르게 진행 편리와 만족감 제공 이벤트 덕에 쿠폰 받아서 아부지한테 커피 사드렸어요 고마워요 최고예요 좋은 서비스 감사드립니다 사용하기 편리함 가입 상품 정리 잘 돼있어요 필요한 거랑 중요한 거 잘 보여서 알아볼 때 유용하게 씁니다 다른은행어플로 못잡은 보이스피싱 파일 로그인했을 뿐인데 찾아서 전화해서 알려주시네요 덕분에 큰피해 막았습니다 갠춘함 좋아요 편리합니다 사용하기에 편한 하나은행 화이팅입니다 편하고 좋아요 좋아요 편리하고 넘 넘 좋아요 친절하게 잘 도와주셨습니다 Good 쪼아요 간단한다 환전지갑 잘 썼어용 편하게 잘 쓰고 있어요 폰 바꾸고도 다시 설치한 은행 앱 쓰기편하고 좋아요 간편하고 좋아요 편리하고 우대조건이 있다 만족 편해여 좋아요 전반적인 앱 디자인이 깔끔하고 글자보다 이모지를 사용함으로써 가독성이 좋았습니다 하지만 페이지를 넘어가는 도중 무한정 로딩되는 문제는 고쳐주었으면 합니다 그래도 고객 편의 기능이 많아서 사용하기 편하였습니다 앱사용이 쉽고 적금가입도 완전 편리합니다 누구나 사용하기 쉽고편해서 좋아요 감사합니다 잘 이해되게 함 신속정확 작동이 잘 된다 좋아요 하나짱 번거롭게 은행방문 안해서 편리해요 사용 적극 추천입니다 메뉴 구성이 쓰기 좋게 잘되어있습니다 그래서 부모님도 잘찾아서 쓰시네요 알려드리니 편리함 좋아요 원큐짱 내 사랑 하나짱 이체 빼고는 별로 안 쓰는 편이긴 한데 그래도 빠르고 간편해서 편하긴 합니다 좋아요 통일한국의 남바원은행 되셔라 만족합니다 편리해요 주거래은행이 하나은행이라서 쓰지만 편하고 좋습니다 말그대로 원큐 간단히 집에서 폰으로 해결 편리합니다 좋아요 좋아요 앱을 통하여 가입하니 플러스도 되어좋구 일석이조라서 아주 좋으네염 편리해요 단 문서읽기 기능을 좀 간소화해주심 좋겠습니다 편리해요 가입이 쉬워요 하나은행이 젤편함 업무에 수고가 많으십니다 앱 잘 사용중입니다 다만 초기 로딩 속도가 조금 빨라지면 더 좋을 듯 합니다 제가 4개은행 앱을 사용중 인데요 초기화면 뜨는 시간이 카뱅 우리 국민 앱은 4초 가장 많이 사용중인 하나는 두배인 8초가 소요됩니다 20년 이상 이용하고 있는 은행인데 서비스도 좋고 상품도 다양하고 다 좋네요 잘사용중입니다 항상 100퍼센트 오류 많지만 그나마 고치긴 하는 것 같음 딴데는 쓰나마나 좋아 사용하기 편함 좋아요 굿 자산 보고서처럼 보여주고 막상 보니깐 별 도움은 안되긴하는데 그렇다고 불편하지도 낳음이벤트 경품도 괜찮 편리하다 하나은행 정신 차린듯 깔끔하고 좋아졌어요 편리하게 사용할수있어서 넘 좋아요 좋아요 아주 잘 쓰고 있습니다 쉽고 간편합니다 원활한 이용 따라하면 되도록 설계되어 쉬움 편리하고 좋아요 아이디가 어디있는지몰르겟다  감사합니다 간편하고 좋아요  신상정보 확인을 신속하고 정확하게 처리하는 방식이 듣보임 편리하고 빠르고 좋아요 요새 다른데도 통장 혜택때문에 이체수수료 안나가긴 하는데 뭐 어쨌든 만들자마자 실적검증없이 무료로 해주는건 좋은 것 같아요 매우 편리하게 이용하고 있어요 유용해요 우대금리 쿠폰으로 3분만에 가입했어요 되게 쉽고 편하게 되어있어서 만족합니다 심플한 절차가 좋았습니다 이체한도 올려야해서 어플로 했는데 바로 되서 편했어요 정말 많이 발전한 앱 고칠 건 고치고 은행 앱 중에 가장 고객반응 잘 들어준다고 생각함 사용도 편하고 혜택도 많아서좋아요 잘쓰고있어요 굳이 은행 갈일 없어서 좋아요 재미있다 너무 좋아요 앱이 많이 안정화되어 잘 사용하고 있습니다 좋아요 사용하기 편리하고 설명이 쉬워서 좋아요 넘 잘 되어 있네요 좋습니다 잘사용하고 있어요 타행 이체 할 때 수수료 없는거 맘에 듬 개인적으로는 하나은행어플 잘 이용하고있습니다 좋아요 편리해요 쉬워요 감사합니다 고맙습니다 정말 좋은 은행입니다 간편해서 좋아요 좋아요 하나원큐 좋아요 좋아요 환율 정보 챙겨 보면서 환테크 하고 있어요 굿 이사하면서 근처에 하나은행이있어서 쓰는데 앱도 잘만들어진것같습니다 편리해요 좋음 앱을 사용할때 시인성도 좋고 메뉴 등 쉽게 활용이 가능합니다 업데이트후 다른 은행이 잘 안열려요 핸드폰이 느려서 빠쁜세상 정지가 되었네요 사용하다 그만 그만 자른일을 하다보니 정지사항이라 속상했습니다 Good 하나은행 잔액 출금 등을 확인하기 위한 앱 한도제한 해제 카톡알림받고 앱 깔았는데 대성이 아니라니 앱 설치인원 늘리려고 낚시한거 같아서 다시 지울까 하다가 그래도 한도변경은 할수 있어서 한도변경하였고 요즘 적금을 많이 하는 시대라 적금도 하나 들었습니다 아주유용합니다 굿 좋아요 굳 편합니다  GOOD 좋아요 좋아요 아주 좋아요 좋아요 좋아요 은행에서 참 유익할 정도니까 대단합니다 편리하고 안전합니다 입출금 알림도 편하게 확인할 수 잇어서 조아요 이체수수료도 다 안나오고 굿굿굿 이용이 편리해요 친절해요 아직은 지금까지 상품 가입하기가 쉬운편이어서 사용이 편리해요 로그인도 간편하구요 계좌이체 하거나 기본적인 것들 말고도 쓸만한 기능들이 많네요 굿 편해요 편리하고 좋아요 좋아요 편해요 간편하고 빨라요 은행 갈 시간이 없을때 집에서 편리하게 처리할 수 있어서 너무 편리하고 좋습니다 편리하게 잘 사용하고 있어요 별점 리뷰 남기고 갑니다 편하게 사용할수있는 김석현김석현김석현김석현김석현김석현 좋아요 간편로그인 관련 오류가 해결돼서 성공적으로 등록했습니다 수정까지 시간이 다소 걸렸으나 조치해주셔서 감사합니다 좋네요 쫌그래 막히는 부분 내가 공부더 해야지요 늘 감사합니다 좋음 더 편해졌어요 편리함 앱에 접속할 때마다 가입된 휴대폰정보가 일치하지 않습니다 라고 뜨는데 이거 어떻게 해결하나요 개인정보조회 변경에 제대로 전화번호 들어있어요 왜 자꾸 재가입하라고 나오는건가요 편리하네요 복잡하지않고 자세히 알려주는 문고 마음에 들어요 편리하고 쉬웠어요 조아요 편리하고 빠릅니다 손쉬운 설명 유용한 은행 금융 어플 빠른처리가 되는 하나은행 예전에 보이스피싱 막아주신적 있어서 그이후부터 신뢰하고 있어요 이체도 간단하게 할수있고 번거로움없이 쓸수있어요 굿 지난번 정기예금 가입하였는데 만기되니까 내 입출금 통장에 이자와원금이 입금되어 번거롭지 않아서 참 좋았습니다 편해요 트래블로그 카드 편해요 본인인증을 토스로 했을때는 주민등록번호에 문제가 있었는데 휴대폰 인증으로 하니 3으로 변경되었습니다 감사합니당 찾기쉬운 편리함 쉬는날 은행 안갈수있어서 감사해요 간편하게 이용할 수 있어서 좋습니다 아주 편해요 적급 새로들었는데 엄청 빨랐습니다 갤럭시 업데이트 이후 개조되지 않은 OS에서만 사용가능하다는 메세지가 뜹니다 조치해주세요 좋아요 한도변경 처리가 빠르네요 쓰기 좋아요 카드 다음에는 꼭 하나카드로 쭉 할꺼에요 제일 이에요 사욤해보면 알꺼에요 감사합니다 여러어플쓰는데 하나가 제일편해요 화려하비않아서좋아요 navernaver 처음해보는데 설명대로 하니까 잘 된것같네요 사용하기 편하네요 강력추천합니다 베리굿 이체할때 기존 이체한 기록이 남아있어서 이용하기 편하고 입출금 내역 확인할 수 있는 기간이 길었으면 좋겠음 이벤트 자주 하는데 잘 찾아먹으면 은근 개꿀입니다 좋아요 참 사용하기 좋은 앱이에요 하나은행 파이팅입니다 빠른결제 빠른업무처리에 대 대 대 만족합니다 하나원큐 아주아주 끝내주내요 고객센터 상담원님 너무너무 쉽게 알려주시고 친절하셔서 너무너무 감사드려요 고맙습니다 사용이 편해요 넘 좋아요 힘들었네요 자꾸하다보면 잘되겠죠 하나체크만사용한다 하나신용카드없앤거진짜후회한다 갑자기 신용이안좋아져서 주택금융공사 어플보다 100만배 나음 쉽고 간단하게 가입됩니다 매우만족합니다 하나짱 좋아요 굿 훌륭합니다 완전편하고 좋아요 아주편리하네요 정말 편리해요 혜택이 많아서 좋아요 편하고좋습니다 방문 안해도 됩니다 최고 의 은행앱 예금상품가입 편합니다 아주 편리합니다 간편하고 편리합니다 서비스최고 좋아요 조아용 처음이라 잘 모름 빨라졌네요 엄마 주거래라 깔았는데 가끔 보면 심플하고 편하다고 생각함 은행안간지 얼마나 됐는지 기억도 안나는거보면 앱이 잘 돌아가고 있다는거겠죠 감사합니다 친절하고 편리해서 좋아요 좋음 최고의 은행 굿 너무 편리해요 항상 잘 이용하고 있어요 왜 갑자기 하나은행접속을 하는데 안전한 금융거래를 위해 임의 개조되지않은 정상적인OS에서만 서비스이용이 가능합니다라고 뜨는데 이게 먼가요 왜 들어가지지않는지답답합니다 돈을 이체해야할일이있는데 답변주신데로 해보니 실행이 됩니다 왜그런걸까요 편하게 사용할수있습니다 편리함 편하게 잘 이용했어요 사용하기편리함 가끔 쿠폰 주는데 소소하지만 행복함 하나은행 주거래하면서 느낀건데 외환거래가 주로하는 서비스 라고 생각되는데요 하지만 언어전환이 안되는게 굉장히 아쉽군요 하나머니 하나페이 모두 마찬가진해요 다문화가정이 있는곳에 서비스를 잘 받기 위해서라도 한번쯤은 고려해보심이 어떨까요 언젠가 언어전환 업뎃 된다면 다시 후기 작성합니다 굿앱입니다 편리하고 좋아요 간편하고 좋아요 좋습니다 굿 편안한 대출 인것같습니다  사용하기 편해요 은행거래가 편해짐 편리하게 만족합니다 아주 편리하고 잘 짜여있음 주거래은행 굿 쉬워서 편리했습니다 크게 불편함 없이 사용중이에요 좋아요 편하고 사용 설명이 잘되어있어 문제없이 가입 매우친절함 만족합니다 나 핸드폰 손대적없는데 OS개조했다고 강제종료시킴 리뷰쓰고 탭변경으로 켜니까 이제 됨 클립보드에 계좌복사되어 있어서 그랬나 싶고 암튼 잘 쓰고는있음 Good 굿 청약상품 가입도 바로 되고 넘 간편해서 좋네요 편리해요 좋아요 굿 편리합니다 사용하기 편합니다 한번에 해결됩니다 좋아요 앱 깔끔하고 편리하네요 좋아요 좋아요 외화의 중요성이 커지는거 같아서 좋음 박민성 형님 사용하기 편리합니다 친절하게 제공해주셔서 감사합니다 신속 정확 빠르고간편해서좋아요 계죄번호 를 로그인없이 가능하나요 타은행에 비해서 이벤트 많이하는것같아요 어제도 당첨되서 메가커피 사먹었어요 그래서 좋은듯 앞으로도 많이 해 주세요 굿 나한테 맞는 어플 찾느라 설치했다 지웠다 여러 번 했었는데 하나원큐 깔고 그냥 정착했습니다 앞으로도 더 좋게 업데이트 잘 해주세요 좋습니다 굳 친절하다 잘사용해오고있는데 오늘계속 not found 뜨네요 삭제후 재설치해도 같아요 어떡해야하죠 퍈리하게 쓰고 있어요 주거래은행 진짜 앱 처음 들어갈 때 너무 짜증나고 불편한데 그래도 상담원이 6시까지 아니라서 좋아요 다른 은행들 대다수가 6시까지 하고 채팅상담인데 여긴 6시 넘어도 상담원 연결되는게 좋음 그래서 5점 남김 근데 앱은 쓰기 불편함 그리고 상담할 때 채팅 하나 보내면 키보드 뒤로가기되서 다시 키보드 눌러야하는거 진짜 개불편하거든요 이미지 첨부 안되는 것도 불편하고요 답답한것도 많고 검색창도 보통 시작화면에 바로 있어야하는데 여긴 다른거 눌러야나오고 짜증나죽겠는데 상담원 연결이 6시 넘어도 되는거 그거 하나 때문에 5점 남깁니다 이게 넘사벽이네요 어디처럼 6시까지만 안해서 좋음 점점 서비스가 편리해지고 안정적이에요 너무편리해요 복잡스럽지않아 좋습니다 좋아용 정말 간편하고 싶네요 그룹에 등록된 사람 중에 1명한테만 이체하려고 할때는 꼭 그룹이체에 들어가서 나머지 사람들을 X 표 눌러서 다 지우는 방법밖에 없나요 너무 불편합니다 다른 은행 어플은 통장에서 계좌이체시에 계좌번호 직접 입력할수도 있고 그룹에 등록된 사람 중에 1명 골라서 바로 입력할 수도 있는데 너무너무 불편합니다 개선해주세요 상세설명으로 쉽게 증액처리를 할 수 있었습니다 이벤트가 다양하고 자주 해서 좋아요 좋아요 좋아요 좋아요 좋아요 굿잡 감사합니다 등본 봐야됐는데 은행에서 되서 잘씀 편해요 좋아요 좋아용 굿 앱에서 가입하는데 쉬운 설정으로 편리하게 사용할수 있었습니다 혹시 갤럭시탭s9 기기에서 mts말고 hts로 주식거래할수 있을까요 좋아요 편하게쓰고있어요 편해요 전 화면 보면 한 눈에 딱딱 들어오는거 좋구요 UI나 이런거 사용하기에도 편리하다고 봅니다 매달 얼마나 돈 썼는지 체크할 수 있는 기능들도 절약하는데 도움을 많이 주고 있어요 앞으로도 더 좋은 앱으로 꾸준히 관리 해주시면 저도 믿고 오래 사용할 생각입니당 사용하기 편리하고 외환거래하기 좋습니다 추천합니다 좋아요 나 지금 집 방문 예정 나 이제 은행을 방문하지 않고 바로 가입 해지 할 수 있어서 편리합니다 혜택이많고 사용이편리합니다 잘쓰고 있습니다 잘 보았습니다 정말좋았요 쉽고편리함 사용하기가 펼리하다 펺해요 림5 딘 2 만 디2 칵 7 은행에 방문하지않고도 대출이되니 감사합니다 언어 설정이 안되네요 좋아요 쉽게 사용가능하며 정보 제공이 잘 되어있음 편리해요 하나은행 하나원큐 최고입니다 고객으로서 자부심을 가집니다 감사하고 사랑합니다 항상잘쓰고있어요 직장바꾸면서 주거래로 사용하게된 은행인데 앱기능 편의성이 최고라 편하게 쓰고있어요 하나은행 정착 편해요 정말 좋아요 너무 좋아요 편해요 예금을 지정날짜로 할 수 있어 매우 좋네요 편리하고 좋아요 정말 시간없어 은행가기 힘든데 손안에서 다해결 도네요 시스템이 편리해 만족합니다 와우대박 앱 재설치 시 본인명의 계좌 인증해야하는 다른 은행 어플과 달리 기기에 앱 설치 후 사용했던 이력이 있다면 간편 비밀번호만 확인되면 바로 로그인이 되는 점이 매우 편리하고 좋아요 좋네요 이체할때 계좌번호가 너무 작아서 잘 안 보여요 뭐가 틀렸는지 잘 안 보여서 몇번이나 헤맸네요 계좌번호가 크게 보였으면 좋겠어요 매우 좋음 아주간단하고 좋아요 빠르고 편리합니다 추천합니다 어플 접속 하려고하는데 리소스 다운로드에 실패했습니다 라는 메세지가 자꾸 뜨고 접속 자체가 안돼요 간편하게 사용방법 도움 받았어요 알기쉽게 잘설명되어있네요 한눈에알볼수있어넘좋우네요 괜찬습니다 9월20일 아침부터 갑자기 안전한 금융거래를 위해 임의 개조되지 않은 정상적인 OS에서만 서비스 이용이 가능합니다 라는 팝업창이 뜨면서 어플이 꺼지기도 하고 접속 되기도 합니다 어떻게 해결해야하나요 예금상품 가입및 해지 방법이 쉽다 편리하고 영업점 방문하지 않고 가입함 굿굿 좋아요 잘이해됨 상품설명잘해중 매우간편하고 편리함 다 좋은데 계좌 해지하고 싶은데 해지버튼이 없어요 공공마이데이터 시스템 장애관련 이유가뭔가요 하나뮤직박스는 없어졌나요 편하네요 좋아요 하나원큐에서 IRP 잘 만들었어요 굿 앱에서 은행업무 보기에 탁월합니다 조야요 정말 유용한앱 입니다 좋아요 주거래은행은 아니지만 가끔 와 보면 머무르게 되는 곳이죠 매월 풍차저축하게되네요 편리해요 사요하기 편리합니다 좋아요 좋아요 감사합니다 사용하기 편리하고 쉬워요 빠르고 쉬워서 좋습니다 좋아요 편리성 그냥쓰다보니편해요 네 좋았어요 아웃백 쿠폰사거 리워드 받았는데 쓸 때 제휴할인 하나도 적용안되서 어차피 그게 그거임 Very good 좋아요 편해요 감사합니다 하나은행 모바일앱 하나원큐 하나페이 하나머니 3개앱이 박자가 딱딱 맞아 떨어져서 갈수록 좋아지는거 같습니다 정기 예금을 편리하게 가입할수 있어서 좋았습니다 항상고맙습니다 좋아요 좋습니다 좋아요 Good 너무좋아요 최고입니다 아주 좋아요 좋아요 굿 간편해서조아요 편리하고 신속처리가좋았음 편하다 여러모로 편의로운 앱입니다 적극 추천합니다 굿 좋아요 근데 이중보안있으면 좋겠어요 좋습니다 굿이요 편해요 타은행에 비해 속도가 빠르고 UX가 편리합니다 디자인 너무 마음에 들어요 개인이 꾸밀수있는 ui 도 만들어졌으면 좋겠어요 새 비밀번호도 잘 바꿀수 있어 편리해요 사용이 편하네요 편하고 빨리 처리됨 아주 편리 합니다 시스탬이 완전 잘되어 있어요 베리굿 리뉴얼 이후 타은행 조회가 안됩니다 좋아요 직관적인 메뉴와 아이콘에 사용하기 쉽고 재밌어요 하나원큐 잘 사용 하고 있습니다 아주 편하고 쉽습니다 사용편리함 괜찮아요 늘 하루에도 몇번씩 사용하고 있습니다 편리하고 안전해요 좋아요 땡큐 좋습니다 마이데이터 지출 탭 아래처럼 계속 오류나요 업데이트해도 똑같네요 시스템 장애중 입니다 잠시후 다시 이용해 주시기 바랍니다 오류코드 error 좋아요 다른 은행앱보다 빨라서 좋다 이 앱만 너무 렉이 많이 걸려서 고혈압 합병증 생길 것 같아요 빠르고 편리함 힘들게 이용할게요 가끔 클릭하기 어려운 ui가 있는 것을 제외하면 쓸만합니다 좋아요 편리해요 고마운 앱입니다 이체도 편하고 수수료도 없어서 별 불편없이 잘 쓰고 있습니다 기분 좋은 하루 되세요 잘 설명이 되어 좋습니다 예금 하는데 어려움이 없었습니다 본인인증 좋아요 나이든 사람도 사용하기 편리해요 편해요 엄청 편리해요 대출 처리과정이 신속 초 스피드로 진행되어 너무만족합니다 잘사용함 사용이편리합니다 굿좋아요 복잡하여 결국 창구에 가서 해결하였습니다 평소 사용을 자주하시는 분들의 경우는 모르겠으나 어쩌다한번 사용하는 경우는 중간중간에 아는길이 아니기에 헤맬수 밖에 없는것 같습니다 각각의 이슈별 사용법에 대한 따라하기나 순서도가 있다면 처음 사용하는 사람도 보다 쉽게 할수있지 않을까 합니다 은행 역사상 최고 GOAT 처음 써보는 건데 어렵거나 막히는 부분은 아직까지 없어요 편해요 괜찮았습니다 편해요 사용하기 편리함 편리하고 은행갈필요없어 시간절약되고 좋아요 최근 업데이트의 경우 오히려 자주 사용하는 항목 찾기가 더 불편합니다 15년동안사용하면서아무이상없이사용하고있습니다 관련 설명이 좋았습니다 트래블로그랑 환전지갑이랑 잘 사용하고 있 어요 빠른 처리 최고입니다 최고에요 좋아용 강서희 친절하세요 감사합니다 트래블로그 쓰려고 가입했어요 괜춘하네요 좋아요 good 기계치인 나도 쉽게 가입할수 있고 시간내서 은행 방문하지않고 가입할수 있다는게 편하고 좋습니다 이용하기 편리해요 굿 UI 깔끔하고 사용하기 편하네요 쉽고 편하게 은행업무를 볼 수 있어서 좋아요 빠르고 편리해요 직장 관계로 통장 개설 하고 그 과정에서 고객을 대하는 직원분의 친절함이 너무 좋았어요 좋아요 만족합니다 편리하고 깔끔해용 하나은행 좋아요 안녕하세요 하나은행 원큐 유저입니다 오늘 오후 2시까지만 해도 잘 작동하던 앱이 갑자기 not found 오류가 뜨면서 접속도 안됩니다 해결 방법이 있을지 문의드립니다 편리하고 좋아요 좋다 은행앱중에 최고임 앱 쓰기 나쁘지 않음 잘 사용하면 검소해짐 친절하고 정확한 금융정보 제공에 감사드립니다 좋아요 잘사용하고 있습니다 아주 편리해 자주 이용 할 계획 입니다 간단 명료합니다 좋아용 좋아요 조금 어렵지만 도움받아 힘내서 했어요 너무 편리하게 외화 관리할수 있어서 좋았어요 굿 잡 은행까지 가기안아도 사용하기 편리하고 좋아요 하나은행 축구이벤트많아요 영웅이 덕분에 하나은행을 알게 되었네요 오늘 하나카드 출금하고 내일쯤 하나카드도 이곳에서 인출이 되도록 하겠어요 영웅이와 함께 늘 번성하시길 바랍니다 좋음 따봉 적절한 시간에 응대 만족합니다 은행앱 최초로 버벅거림 없이 깔끔하게 일처리했다 UI도 깔끔하고 가시성 좋고 제발 이상하게만 업데이트 하지 말아주세요 다른 그지발싸개같은 은행 증권앱보다 압도적으로 좋음 신분증인증 및 계좌등록이 훨씬 심리스하게 진행됨 하나은행 별로 안썼는데 인식이 바뀌었음 PM및 개발진 상줘야함 예스 조아요 처음 나왔을 때부터 편하게 잘 쓰고 있네요 폰 화면 큰거 안쓰는데도 보는데 딱히 불편한 점은 없어요 다른 은행 계좌끼리 이체할 때도 좋습니다 메인화면 글씨 키울 수 있어서 좋아요 사용이 간편하네요 은행창구직원 상담설명이 친절하고 쉬웠다 앱도 사용하기 쉬웠고 빨랐다 편해요 좋음 좋음 이용하기가 어렵지 않아서 정말 좋아요 굿 자택에서 폰으로 은행일도 보는등 자산관리할수잇어서 굿 아주 잘사용하고 있음 많이 편하게 되엇네요 하나원큐 사용하기 좋네요 굿 예전에는 앱 구동이 잘 안된다 싶었는데 지금은 너무 잘 됨 이대로만 가자 편리하고좋음 지금은 잘 쓰고 있어요 최고다 사용하기 편하게 되어있어요 정보가 다양하여 사용자들 모두 편리하게 사용하고 있습니다 굿 잘쓰고있어요 편리해요 좋아요 굿 50년 계속하여 사용하고 있지요 해외여행 1 년에 꽤 많이 나가는 편이라 이 앱으로 트래블로그 적금들었네요 사용 불편함이 없어서좋네요 비대면 상품도 좋아요 아이폰에서 쓰다가 갤럭시로 바꾸고 다시 깔았는데 안드로이드에서도 호환 잘되네요 주거래은행이 하나은행이어서 하나원큐 앱 자주 쓰게 되는데 간편하고 좋아요 너무 좋은 앱인것 같습니다 전 만족하면서 쓰고 있어요 그래도 은행 앱 중에는 젤 편함 간편하게 이용할 수 있어서 좋아요 좋아요 주거래은행이 하나은행이라 쓰지만 타은행도 같이 쓰고있지만 앱은 하나은행이 좋음 5학년 대박임 편함 친절해요 빠르고 간단한가입 최고예요 좋아요 좋아여 쉽고 빠른 그리고 정확한 서비스가 편리해서 좋습니다 최고의은행 감사합니다 잘쓰고있어요 UI가 개선되어 사용하기 편함 편리해서 좋아요 사용하기 이렇게 편할수가 최고임 글 내용 단지글이어서글2024년9월10일월요일에글 내용기재해서글쓰다외에깔고나서한번지우기두요내용에요 신속한 처리 하나원큐사용에 혜택많이주시기바랍니다 최고 원큐에 입 출 현황을 확인할 수 있어 매우 편리하고 좋아요 최고입니다 감사합니다 감사합니다 간편하고 좋네요 좋아요'"
      ]
     },
     "execution_count": 22,
     "metadata": {},
     "output_type": "execute_result"
    }
   ],
   "source": [
    "full_text"
   ]
  },
  {
   "cell_type": "code",
   "execution_count": 23,
   "id": "fa35df71",
   "metadata": {},
   "outputs": [],
   "source": [
    "# 불용어 세트 생성\n",
    "stopwords = set(['은행', '어플', '뱅킹'])\n",
    "\n",
    "# 명사 추출\n",
    "nouns = mecab.nouns(full_text)\n",
    "filltered = [word for word in nouns if len(word) > 1 and word not in stopwords]\n",
    "\n",
    "# 빈도수 집계\n"
   ]
  },
  {
   "cell_type": "code",
   "execution_count": null,
   "id": "5ca8ba2c",
   "metadata": {},
   "outputs": [],
   "source": []
  },
  {
   "cell_type": "code",
   "execution_count": null,
   "id": "8df98a63",
   "metadata": {},
   "outputs": [],
   "source": []
  },
  {
   "cell_type": "code",
   "execution_count": null,
   "id": "5cf9c13c",
   "metadata": {},
   "outputs": [],
   "source": []
  },
  {
   "cell_type": "code",
   "execution_count": null,
   "id": "4ff6fa80",
   "metadata": {},
   "outputs": [],
   "source": []
  },
  {
   "cell_type": "code",
   "execution_count": null,
   "id": "8af963ef",
   "metadata": {},
   "outputs": [],
   "source": []
  },
  {
   "cell_type": "code",
   "execution_count": null,
   "id": "36b4af8c",
   "metadata": {},
   "outputs": [],
   "source": []
  },
  {
   "cell_type": "code",
   "execution_count": null,
   "id": "0aa353e6",
   "metadata": {},
   "outputs": [],
   "source": []
  }
 ],
 "metadata": {
  "kernelspec": {
   "display_name": "Python 3 (ipykernel)",
   "language": "python",
   "name": "python3"
  },
  "language_info": {
   "codemirror_mode": {
    "name": "ipython",
    "version": 3
   },
   "file_extension": ".py",
   "mimetype": "text/x-python",
   "name": "python",
   "nbconvert_exporter": "python",
   "pygments_lexer": "ipython3",
   "version": "3.9.22"
  }
 },
 "nbformat": 4,
 "nbformat_minor": 5
}
