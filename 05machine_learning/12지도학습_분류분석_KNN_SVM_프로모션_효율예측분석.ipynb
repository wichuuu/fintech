{
 "cells": [
  {
   "cell_type": "markdown",
   "id": "9848b987",
   "metadata": {},
   "source": [
    "# KNN_SVM_프로모션_효율예측분석"
   ]
  },
  {
   "cell_type": "code",
   "execution_count": 2,
   "id": "83269788",
   "metadata": {},
   "outputs": [],
   "source": [
    "import pandas as pd\n",
    "import numpy as np\n",
    "import matplotlib.pyplot as plt\n",
    "import seaborn as sns\n",
    "import koreanize_matplotlib"
   ]
  },
  {
   "cell_type": "code",
   "execution_count": 3,
   "id": "a6678e9f",
   "metadata": {},
   "outputs": [],
   "source": [
    "mem = pd.read_csv(\"./data/member.csv\")\n",
    "tran = pd.read_csv(\"./data/transaction.csv\")"
   ]
  },
  {
   "cell_type": "code",
   "execution_count": 5,
   "id": "2c566fa6",
   "metadata": {},
   "outputs": [
    {
     "data": {
      "text/html": [
       "<div>\n",
       "<style scoped>\n",
       "    .dataframe tbody tr th:only-of-type {\n",
       "        vertical-align: middle;\n",
       "    }\n",
       "\n",
       "    .dataframe tbody tr th {\n",
       "        vertical-align: top;\n",
       "    }\n",
       "\n",
       "    .dataframe thead th {\n",
       "        text-align: right;\n",
       "    }\n",
       "</style>\n",
       "<table border=\"1\" class=\"dataframe\">\n",
       "  <thead>\n",
       "    <tr style=\"text-align: right;\">\n",
       "      <th></th>\n",
       "      <th>id</th>\n",
       "      <th>recency</th>\n",
       "      <th>zip_code</th>\n",
       "      <th>is_referral</th>\n",
       "      <th>channel</th>\n",
       "      <th>conversion</th>\n",
       "    </tr>\n",
       "  </thead>\n",
       "  <tbody>\n",
       "    <tr>\n",
       "      <th>0</th>\n",
       "      <td>906145</td>\n",
       "      <td>10</td>\n",
       "      <td>Surburban</td>\n",
       "      <td>0</td>\n",
       "      <td>Phone</td>\n",
       "      <td>0</td>\n",
       "    </tr>\n",
       "    <tr>\n",
       "      <th>1</th>\n",
       "      <td>184478</td>\n",
       "      <td>6</td>\n",
       "      <td>Rural</td>\n",
       "      <td>1</td>\n",
       "      <td>Web</td>\n",
       "      <td>0</td>\n",
       "    </tr>\n",
       "  </tbody>\n",
       "</table>\n",
       "</div>"
      ],
      "text/plain": [
       "       id  recency   zip_code  is_referral channel  conversion\n",
       "0  906145       10  Surburban            0   Phone           0\n",
       "1  184478        6      Rural            1     Web           0"
      ]
     },
     "execution_count": 5,
     "metadata": {},
     "output_type": "execute_result"
    }
   ],
   "source": [
    "mem.head(2)"
   ]
  },
  {
   "cell_type": "code",
   "execution_count": 6,
   "id": "af35e318",
   "metadata": {},
   "outputs": [
    {
     "data": {
      "text/html": [
       "<div>\n",
       "<style scoped>\n",
       "    .dataframe tbody tr th:only-of-type {\n",
       "        vertical-align: middle;\n",
       "    }\n",
       "\n",
       "    .dataframe tbody tr th {\n",
       "        vertical-align: top;\n",
       "    }\n",
       "\n",
       "    .dataframe thead th {\n",
       "        text-align: right;\n",
       "    }\n",
       "</style>\n",
       "<table border=\"1\" class=\"dataframe\">\n",
       "  <thead>\n",
       "    <tr style=\"text-align: right;\">\n",
       "      <th></th>\n",
       "      <th>id</th>\n",
       "      <th>num_item</th>\n",
       "      <th>total_amount</th>\n",
       "    </tr>\n",
       "  </thead>\n",
       "  <tbody>\n",
       "    <tr>\n",
       "      <th>0</th>\n",
       "      <td>906145</td>\n",
       "      <td>5</td>\n",
       "      <td>34000</td>\n",
       "    </tr>\n",
       "    <tr>\n",
       "      <th>1</th>\n",
       "      <td>906145</td>\n",
       "      <td>1</td>\n",
       "      <td>27000</td>\n",
       "    </tr>\n",
       "  </tbody>\n",
       "</table>\n",
       "</div>"
      ],
      "text/plain": [
       "       id  num_item  total_amount\n",
       "0  906145         5         34000\n",
       "1  906145         1         27000"
      ]
     },
     "execution_count": 6,
     "metadata": {},
     "output_type": "execute_result"
    }
   ],
   "source": [
    "tran.head(2)"
   ]
  },
  {
   "cell_type": "markdown",
   "id": "68ca66f1",
   "metadata": {},
   "source": [
    "* 쇼핑몰 고객 데이터, 프로모션 쿠폰을 발행하고 사용 여부 데이터 수집\n",
    "* mem: 고객 id, 최근 방문일, 사는 지역, 추천여부, 주요접속채널, 쿠폰사용여부(target)\n",
    "* tran: 고객id, 구매수량, 총 구매금액\n",
    "* 전통적 마케팅 분석 방법 RFM 기법을 활용해 고객 데이터에서 파생변수 생성 후 분석\n",
    "* R: Recency: 현재일 - 최근 구매일\n",
    "* F: Frequency: 구매빈도\n",
    "* M: Monetary : 구매 금액\n",
    "* 종속변수: coversion => 고객이 프로모션에 반응 했는가? 1 = yes, 0 = no"
   ]
  },
  {
   "cell_type": "markdown",
   "id": "5a70ffcc",
   "metadata": {},
   "source": [
    "# 결측값 탐지"
   ]
  },
  {
   "cell_type": "code",
   "execution_count": null,
   "id": "195dfc73",
   "metadata": {},
   "outputs": [],
   "source": [
    "mem.isna().sum()"
   ]
  },
  {
   "cell_type": "code",
   "execution_count": null,
   "id": "f06b55fd",
   "metadata": {},
   "outputs": [],
   "source": [
    "tran.isna().sum()"
   ]
  },
  {
   "cell_type": "code",
   "execution_count": null,
   "id": "82f263df",
   "metadata": {},
   "outputs": [],
   "source": [
    "mem.info()"
   ]
  },
  {
   "cell_type": "code",
   "execution_count": null,
   "id": "0dfe6fb2",
   "metadata": {},
   "outputs": [],
   "source": [
    "tran.info()"
   ]
  },
  {
   "cell_type": "code",
   "execution_count": null,
   "id": "3a7a1faf",
   "metadata": {},
   "outputs": [],
   "source": [
    "mem.describe()"
   ]
  },
  {
   "cell_type": "code",
   "execution_count": null,
   "id": "702e98e5",
   "metadata": {},
   "outputs": [],
   "source": [
    "tran.describe()"
   ]
  },
  {
   "cell_type": "code",
   "execution_count": null,
   "id": "94341d88",
   "metadata": {},
   "outputs": [],
   "source": [
    "mem['id'].nunique()"
   ]
  },
  {
   "cell_type": "code",
   "execution_count": null,
   "id": "a9d104dd",
   "metadata": {},
   "outputs": [],
   "source": [
    "mem['recency'].value_counts()"
   ]
  },
  {
   "cell_type": "code",
   "execution_count": null,
   "id": "d93c2555",
   "metadata": {},
   "outputs": [],
   "source": [
    "mem['zip_code'].value_counts()\n"
   ]
  },
  {
   "cell_type": "code",
   "execution_count": null,
   "id": "8a62a250",
   "metadata": {},
   "outputs": [],
   "source": [
    "mem['is_referral'].value_counts()"
   ]
  },
  {
   "cell_type": "code",
   "execution_count": null,
   "id": "cc17f11f",
   "metadata": {},
   "outputs": [],
   "source": [
    "mem['channel'].value_counts()\n"
   ]
  },
  {
   "cell_type": "code",
   "execution_count": null,
   "id": "898a0f7d",
   "metadata": {},
   "outputs": [],
   "source": [
    "mem['conversion'].value_counts()"
   ]
  },
  {
   "cell_type": "code",
   "execution_count": null,
   "id": "949d1a95",
   "metadata": {},
   "outputs": [],
   "source": [
    "mem.columns"
   ]
  },
  {
   "cell_type": "code",
   "execution_count": null,
   "id": "a3986a8d",
   "metadata": {},
   "outputs": [],
   "source": [
    "tran"
   ]
  },
  {
   "cell_type": "code",
   "execution_count": null,
   "id": "6371fa0b",
   "metadata": {},
   "outputs": [],
   "source": [
    "mean_item_amount = tran.groupby('id')[['num_item','total_amount']].mean()\n",
    "mean_item_amount = mean_item_amount.reset_index()\n",
    "mean_item_amount.columns = ['id', 'mean_num_item', 'mean_total_amount']\n",
    "mean_item_amount"
   ]
  },
  {
   "cell_type": "code",
   "execution_count": null,
   "id": "bc3c59f7",
   "metadata": {},
   "outputs": [],
   "source": [
    "freq = tran.groupby('id')[['id']].count()\n",
    "freq\n"
   ]
  },
  {
   "cell_type": "code",
   "execution_count": null,
   "id": "81b98421",
   "metadata": {},
   "outputs": [],
   "source": [
    "mean_item_amount = mean_item_amount.set_index('id')\n",
    "mean_item_amount\n"
   ]
  },
  {
   "cell_type": "code",
   "execution_count": null,
   "id": "a68d08e8",
   "metadata": {},
   "outputs": [],
   "source": [
    "mean_item_amount = mean_item_amount.join(freq)\n",
    "mean_item_amount\n"
   ]
  },
  {
   "cell_type": "code",
   "execution_count": null,
   "id": "ae2c6ad8",
   "metadata": {},
   "outputs": [],
   "source": [
    "mean_item_amount = mean_item_amount.rename(columns={'id':'frequency'})\n",
    "mean_item_amount"
   ]
  },
  {
   "cell_type": "markdown",
   "id": "a3dd5d06",
   "metadata": {},
   "source": [
    "총구매 개수, 총 금액 추가"
   ]
  },
  {
   "cell_type": "code",
   "execution_count": null,
   "id": "0325f9ff",
   "metadata": {},
   "outputs": [],
   "source": [
    "total_num_amount = tran.groupby('id')[['num_item', 'total_amount']].sum()\n",
    "total_num_amount"
   ]
  },
  {
   "cell_type": "code",
   "execution_count": null,
   "id": "f73601ed",
   "metadata": {},
   "outputs": [],
   "source": [
    "mean_item_amount = mean_item_amount.join(total_num_amount)\n",
    "mean_item_amount\n"
   ]
  },
  {
   "cell_type": "code",
   "execution_count": null,
   "id": "7cfd0224",
   "metadata": {},
   "outputs": [],
   "source": [
    "mean_item_amount = mean_item_amount.reset_index()\n",
    "mean_item_amount"
   ]
  },
  {
   "cell_type": "markdown",
   "id": "71579749",
   "metadata": {},
   "source": [
    "회원정보 테이블과 구매갯수, 금액 등을 그룹연산한 mean_item_amount 합치기"
   ]
  },
  {
   "cell_type": "code",
   "execution_count": null,
   "id": "c7498062",
   "metadata": {},
   "outputs": [],
   "source": [
    "data = pd.merge(mem, mean_item_amount, how='left', on='id')\n",
    "data"
   ]
  },
  {
   "cell_type": "code",
   "execution_count": null,
   "id": "9689a1bf",
   "metadata": {},
   "outputs": [],
   "source": [
    "data.columns\n"
   ]
  },
  {
   "cell_type": "code",
   "execution_count": null,
   "id": "0e7016ca",
   "metadata": {},
   "outputs": [],
   "source": [
    "\n",
    "\n",
    "data['mean_num_item'].plot(kind='hist')"
   ]
  },
  {
   "cell_type": "code",
   "execution_count": null,
   "id": "37be9319",
   "metadata": {},
   "outputs": [],
   "source": [
    "data['frequency'].plot(kind='hist')\n"
   ]
  },
  {
   "cell_type": "code",
   "execution_count": null,
   "id": "1c63ef94",
   "metadata": {},
   "outputs": [],
   "source": [
    "data['num_item'].plot(kind='hist')"
   ]
  },
  {
   "cell_type": "code",
   "execution_count": null,
   "id": "be045762",
   "metadata": {},
   "outputs": [],
   "source": [
    "\n",
    "\n",
    "data['total_amount'].plot(kind='hist')\n"
   ]
  },
  {
   "cell_type": "code",
   "execution_count": null,
   "id": "4d12fa74",
   "metadata": {},
   "outputs": [],
   "source": [
    "col_names = ['recency', 'zip_code', 'is_referral', 'channel', \n",
    "       'mean_num_item', 'mean_total_amount', 'frequency', 'num_item',\n",
    "       'total_amount']\n"
   ]
  },
  {
   "cell_type": "code",
   "execution_count": null,
   "id": "d193885c",
   "metadata": {},
   "outputs": [],
   "source": [
    "for col in col_names:\n",
    "    print(\"=\"*30, col, \"=\"*30)\n",
    "    print(data.groupby(col)['conversion'].mean().sort_values(ascending=False))\n",
    "    print()"
   ]
  },
  {
   "cell_type": "code",
   "execution_count": null,
   "id": "8218a1c7",
   "metadata": {},
   "outputs": [],
   "source": []
  },
  {
   "cell_type": "code",
   "execution_count": null,
   "id": "0a3db3ee",
   "metadata": {},
   "outputs": [],
   "source": []
  },
  {
   "cell_type": "code",
   "execution_count": null,
   "id": "0d1be232",
   "metadata": {},
   "outputs": [],
   "source": []
  },
  {
   "cell_type": "code",
   "execution_count": null,
   "id": "385d35bb",
   "metadata": {},
   "outputs": [],
   "source": []
  },
  {
   "cell_type": "code",
   "execution_count": null,
   "id": "f41d6d94",
   "metadata": {},
   "outputs": [],
   "source": []
  },
  {
   "cell_type": "code",
   "execution_count": null,
   "id": "6e737462",
   "metadata": {},
   "outputs": [],
   "source": []
  },
  {
   "cell_type": "markdown",
   "id": "ada77372",
   "metadata": {},
   "source": [
    "# 거리기반의 알고리즘을 사용시 독립변수들 간의 단위를 꼭 맞춰 주어야 함\n",
    "# 스케일링\n",
    "* MinMaxScaler: 모든 숫자를 0-1 사이의 숫자로 변환 - 데이터 분포의 모양을 그대로 유지\n",
    "* StandardScaler: 평균을 0, 표준편차를 1로 하는 정규분포 형태로 변환 - 데이터의 분포 모양이 정규 분포로 바뀜\n",
    "* RobustScaler: 사분위수를 이용해서 데이터를 스케일링 - 데이터에 이상값이 있을 때 사용, 이상값에 영향을 최소화 "
   ]
  },
  {
   "cell_type": "markdown",
   "id": "bc1af557",
   "metadata": {},
   "source": [
    "# 머신러닝 모델별 스케일러\n",
    "* knn(최근접이웃): MinMaxScaler, 이상치가 있는 경우 RobustScaler\n",
    "* SVM(서포트 벡터 머신): StandardScaler, 이상치가 있는 경우 RobustScaler\n",
    "* Logistic Regression: Standard, 이상치가 있는 경우 RobustScaler\n",
    "* Linear / Ridge / Lasso: StandardScaler, 이상치가 있는 경우 RobustScaler\n",
    "* KMeans / DBSCAN: MinMax or Standard, 이상치가 있는 경우 RobustScaler\n",
    "* DecisionTree, RandomForest, XGBoost: 스케일링 불필요, 이상치가 있는 경우에도 안 해도 됨\n",
    "* Navie Bayes: 스케일링 불필요,"
   ]
  },
  {
   "cell_type": "markdown",
   "id": "6b168f2d",
   "metadata": {},
   "source": [
    "# 스케일링 시점: train / test로 나눈 후에 실시"
   ]
  },
  {
   "cell_type": "code",
   "execution_count": null,
   "id": "e5a24550",
   "metadata": {},
   "outputs": [],
   "source": [
    "data"
   ]
  },
  {
   "cell_type": "code",
   "execution_count": null,
   "id": "305d2836",
   "metadata": {},
   "outputs": [],
   "source": [
    "data.columns"
   ]
  },
  {
   "cell_type": "code",
   "execution_count": null,
   "id": "23c1932c",
   "metadata": {},
   "outputs": [],
   "source": [
    "data = pd.get_dummies(data, columns=['zip_code', 'channel'], drop_first=True)"
   ]
  },
  {
   "cell_type": "markdown",
   "id": "58a8fc59",
   "metadata": {},
   "source": [
    "홀드아웃"
   ]
  },
  {
   "cell_type": "code",
   "execution_count": null,
   "id": "c0e3e499",
   "metadata": {},
   "outputs": [],
   "source": [
    "X = data.drop(['id', 'conversion'], axis=1)\n",
    "y = data['conversion']\n"
   ]
  },
  {
   "cell_type": "code",
   "execution_count": null,
   "id": "493b6582",
   "metadata": {},
   "outputs": [],
   "source": [
    "\n",
    "\n",
    "from sklearn.model_selection import train_test_split"
   ]
  },
  {
   "cell_type": "code",
   "execution_count": null,
   "id": "4c07cdfa",
   "metadata": {},
   "outputs": [],
   "source": [
    "X_train, X_valid, y_train, y_valid = train_test_split(X, y, test_size=0.4, stratify=y, random_state=42)\n",
    "X_valid, X_test, y_valid, y_test = train_test_split(X_valid, y_valid, test_size=0.5, stratify=y_valid, random_state=42)\n",
    "\n"
   ]
  },
  {
   "cell_type": "markdown",
   "id": "38bd8a52",
   "metadata": {},
   "source": [
    "# 데이터 단위를 맞추기 위해서 Scaling"
   ]
  },
  {
   "cell_type": "code",
   "execution_count": null,
   "id": "70c3eb30",
   "metadata": {},
   "outputs": [],
   "source": [
    "from sklearn.preprocessing import StandardScaler, MinMaxScaler, RobustScaler"
   ]
  },
  {
   "cell_type": "code",
   "execution_count": null,
   "id": "165343a5",
   "metadata": {},
   "outputs": [],
   "source": [
    "mms = MinMaxScaler()\n",
    "mms.fit(X_train)\n",
    "mms_X_train = mms.transform(X_train)\n",
    "mms_X_valid = mms.transform(X_valid)\n",
    "mms_X_test = mms.transform(X_test)\n"
   ]
  },
  {
   "cell_type": "code",
   "execution_count": null,
   "id": "86d8b923",
   "metadata": {},
   "outputs": [],
   "source": [
    "\n",
    "\n",
    "mms_X_train = pd.DataFrame(mms_X_train, columns=X_train.columns)\n",
    "mms_X_valid = pd.DataFrame(mms_X_valid, columns=X_train.columns)\n",
    "mms_X_test = pd.DataFrame(mms_X_test, columns=X_train.columns)"
   ]
  },
  {
   "cell_type": "code",
   "execution_count": null,
   "id": "8f45bffd",
   "metadata": {},
   "outputs": [],
   "source": [
    "X_test"
   ]
  },
  {
   "cell_type": "code",
   "execution_count": null,
   "id": "0574e864",
   "metadata": {},
   "outputs": [],
   "source": [
    "mms_X_test"
   ]
  },
  {
   "cell_type": "markdown",
   "id": "5ed1f8ca",
   "metadata": {},
   "source": [
    "# KNN (K-nearest Neighbor)"
   ]
  },
  {
   "cell_type": "code",
   "execution_count": null,
   "id": "bc0eae54",
   "metadata": {},
   "outputs": [],
   "source": [
    "\n",
    "\n",
    "from sklearn.neighbors import KNeighborsClassifier\n",
    "from sklearn.metrics import classification_report"
   ]
  },
  {
   "cell_type": "code",
   "execution_count": null,
   "id": "4de3bb8d",
   "metadata": {},
   "outputs": [],
   "source": [
    "\n",
    "\n",
    "knn = KNeighborsClassifier(n_jobs=8)\n",
    "knn.fit(mms_X_train, y_train)\n",
    "valid_pred = knn.predict(mms_X_valid)\n",
    "print(classification_report(y_valid, valid_pred))"
   ]
  },
  {
   "cell_type": "markdown",
   "id": "7e4af1bd",
   "metadata": {},
   "source": [
    "# KNN의 하이퍼파라미터 튜닝\n",
    "* n_neighbors = ?\n",
    "* 전체 샘플 수가 적을 때 10000개 이하일 때 3, 5, 7 같은 홀수 값\n",
    "* 전체 샘플 수가 10000개 초과시 루트 (n), log2(n)"
   ]
  },
  {
   "cell_type": "code",
   "execution_count": null,
   "id": "a869caa9",
   "metadata": {},
   "outputs": [],
   "source": [
    "len(mms_X_train)"
   ]
  },
  {
   "cell_type": "markdown",
   "id": "10437661",
   "metadata": {},
   "source": [
    "# 최적 K 는?"
   ]
  },
  {
   "cell_type": "code",
   "execution_count": null,
   "id": "36ef2868",
   "metadata": {},
   "outputs": [],
   "source": [
    "\n",
    "\n",
    "# 루트를 이용한 최적 K 계산\n",
    "n = len(mms_X_train)\n",
    "print(n)\n",
    "k = int(np.sqrt(n))\n",
    "print(np.sqrt(n), k)\n"
   ]
  },
  {
   "cell_type": "code",
   "execution_count": null,
   "id": "63f6474c",
   "metadata": {},
   "outputs": [],
   "source": [
    "# log2(n)을 이용한 최적 k 계산\n",
    "n = len(mms_X_train)\n",
    "k_log2 = int(np.log2(n))\n",
    "print(k_log2)"
   ]
  },
  {
   "cell_type": "code",
   "execution_count": null,
   "id": "f47c7cbe",
   "metadata": {},
   "outputs": [],
   "source": [
    "# 루트를 이용해 계산한 k 값 195 적용\n",
    "knn = KNeighborsClassifier(n_neighbors=195, n_jobs=8)\n",
    "knn.fit(mms_X_train, y_train)\n",
    "valid_pred = knn.predict(mms_X_valid)\n",
    "print(classification_report(y_valid, valid_pred))"
   ]
  },
  {
   "cell_type": "code",
   "execution_count": null,
   "id": "7748f9cb",
   "metadata": {},
   "outputs": [],
   "source": [
    "# log2(n)를 이용해 계산한 k 값 15 적용\n",
    "knn = KNeighborsClassifier(n_neighbors=15, n_jobs=8)\n",
    "knn.fit(mms_X_train, y_train)\n",
    "valid_pred = knn.predict(mms_X_valid)\n",
    "print(classification_report(y_valid, valid_pred))"
   ]
  },
  {
   "cell_type": "code",
   "execution_count": null,
   "id": "d8c4ec6d",
   "metadata": {},
   "outputs": [],
   "source": [
    "y.value_counts()"
   ]
  },
  {
   "cell_type": "code",
   "execution_count": null,
   "id": "c95dd40c",
   "metadata": {},
   "outputs": [],
   "source": [
    "mms_X_train.columns"
   ]
  },
  {
   "cell_type": "code",
   "execution_count": null,
   "id": "b8de316d",
   "metadata": {},
   "outputs": [],
   "source": [
    "from imblearn.over_sampling import SMOTENC"
   ]
  },
  {
   "cell_type": "code",
   "execution_count": null,
   "id": "f3e28122",
   "metadata": {},
   "outputs": [],
   "source": [
    "smtnc = SMOTENC(categorical_features=[1, 7, 8, 9, 10], random_state=42)\n",
    "smt_X_train, smt_y_train = smtnc.fit_resample(mms_X_train, y_train)"
   ]
  },
  {
   "cell_type": "code",
   "execution_count": null,
   "id": "e85f2aad",
   "metadata": {},
   "outputs": [],
   "source": [
    "smt_y_train.value_counts()"
   ]
  },
  {
   "cell_type": "code",
   "execution_count": null,
   "id": "e7aace61",
   "metadata": {},
   "outputs": [],
   "source": [
    "\n",
    "\n",
    "len(smt_X_train)"
   ]
  },
  {
   "cell_type": "code",
   "execution_count": null,
   "id": "8478a004",
   "metadata": {},
   "outputs": [],
   "source": [
    "n = len(smt_X_train)\n",
    "k_log2 = int(np.log2(n))\n",
    "print(k_log2)\n"
   ]
  },
  {
   "cell_type": "code",
   "execution_count": null,
   "id": "08496ca4",
   "metadata": {},
   "outputs": [],
   "source": [
    "# log2(n)를 이용해 계산한 k 값 15 적용\n",
    "knn = KNeighborsClassifier(n_neighbors=15, n_jobs=8)\n",
    "knn.fit(smt_X_train, smt_y_train)\n",
    "valid_pred = knn.predict(mms_X_valid)\n",
    "print(classification_report(y_valid, valid_pred))\n",
    "print(\"========= Test Result=========\")\n",
    "test_pred = knn.predict(X_test)\n",
    "print(classification_report(y_test, test_pred))\n"
   ]
  },
  {
   "cell_type": "code",
   "execution_count": null,
   "id": "1314bf36",
   "metadata": {},
   "outputs": [],
   "source": [
    "\n",
    "\n",
    "# log2(n)를 이용해 계산한 k 값 15 적용\n",
    "for i in range(3, 22, 2):\n",
    "    knn = KNeighborsClassifier(n_neighbors=i, n_jobs=8)\n",
    "    knn.fit(smt_X_train, smt_y_train)\n",
    "    valid_pred = knn.predict(mms_X_valid)\n",
    "    print(classification_report(y_valid, valid_pred))\n",
    "    print(f\"========= Test Result {i}=========\")\n",
    "    test_pred = knn.predict(X_test)\n",
    "    print(classification_report(y_test, test_pred))"
   ]
  },
  {
   "cell_type": "code",
   "execution_count": null,
   "id": "05b1b61a",
   "metadata": {},
   "outputs": [],
   "source": [
    "from sklearn.ensemble import RandomForestClassifier\n",
    "rfc = RandomForestClassifier(class_weight=\"balanced\", n_jobs=8, random_state=42)\n",
    "rfc.fit(smt_X_train, smt_y_train)\n",
    "valid_pred = rfc.predict(mms_X_valid)\n",
    "print(\"========= Valid Result=========\")\n",
    "print(classification_report(y_valid, valid_pred))\n",
    "print(\"========= Test Result=========\")\n",
    "test_pred = rfc.predict(X_test)\n",
    "print(classification_report(y_test, test_pred))\n",
    "print()\n",
    "\n"
   ]
  },
  {
   "cell_type": "markdown",
   "id": "60ac550d",
   "metadata": {},
   "source": [
    "# 서포트 벡터 SVC를 사용해서 분석\n",
    "* standardScaler\n",
    "* 카테고리 변수를 제외하고 StandardSclaer를 사용하는 것이 좋음"
   ]
  },
  {
   "cell_type": "code",
   "execution_count": null,
   "id": "01e38f9a",
   "metadata": {},
   "outputs": [],
   "source": [
    "\n",
    "\n",
    "from sklearn.preprocessing import StandardScaler"
   ]
  },
  {
   "cell_type": "code",
   "execution_count": null,
   "id": "c052e6d1",
   "metadata": {},
   "outputs": [],
   "source": [
    "X_train.columns"
   ]
  },
  {
   "cell_type": "code",
   "execution_count": null,
   "id": "077f6dce",
   "metadata": {},
   "outputs": [],
   "source": [
    "\n",
    "\n",
    "X_train_cat = X_train[['is_referral', 'zip_code_Surburban',\n",
    "       'zip_code_Urban', 'channel_Phone', 'channel_Web']]\n",
    "X_train_num = X_train[['recency', 'mean_num_item', 'mean_total_amount',\n",
    "       'frequency', 'num_item', 'total_amount']]\n",
    "X_valid_cat = X_valid[['is_referral', 'zip_code_Surburban',\n",
    "       'zip_code_Urban', 'channel_Phone', 'channel_Web']]\n",
    "X_valid_num = X_valid[['recency', 'mean_num_item', 'mean_total_amount',\n",
    "       'frequency', 'num_item', 'total_amount']]\n",
    "X_test_cat = X_test[['is_referral', 'zip_code_Surburban',\n",
    "       'zip_code_Urban', 'channel_Phone', 'channel_Web']]\n",
    "X_test_num = X_test[['recency', 'mean_num_item', 'mean_total_amount',\n",
    "       'frequency', 'num_item', 'total_amount']]\n"
   ]
  },
  {
   "cell_type": "code",
   "execution_count": null,
   "id": "29dfac55",
   "metadata": {},
   "outputs": [],
   "source": [
    "X_train_num.columns\n"
   ]
  },
  {
   "cell_type": "code",
   "execution_count": null,
   "id": "b0c59db0",
   "metadata": {},
   "outputs": [],
   "source": [
    "num_cols = X_train_num.columns"
   ]
  },
  {
   "cell_type": "code",
   "execution_count": null,
   "id": "4f9d76c9",
   "metadata": {},
   "outputs": [],
   "source": [
    "X_valid[num_cols]\n"
   ]
  },
  {
   "cell_type": "code",
   "execution_count": null,
   "id": "2f956d30",
   "metadata": {},
   "outputs": [],
   "source": [
    "\n",
    "\n",
    "ss = StandardScaler()\n",
    "ss.fit(X_train_num)\n",
    "X_train_num_temp = ss.transform(X_train_num)\n",
    "X_valid_num_temp = ss.transform(X_valid[num_cols])\n",
    "X_test_num_temp = ss.transform(X_test[num_cols])\n"
   ]
  },
  {
   "cell_type": "code",
   "execution_count": null,
   "id": "e0f5d975",
   "metadata": {},
   "outputs": [],
   "source": [
    "X_train_num.index\n"
   ]
  },
  {
   "cell_type": "code",
   "execution_count": null,
   "id": "abe561af",
   "metadata": {},
   "outputs": [],
   "source": [
    "ss_X_train_num = pd.DataFrame(X_train_num_temp, columns=num_cols, index=X_train_num.index)\n",
    "ss_X_valid_num = pd.DataFrame(X_valid_num_temp, columns=num_cols, index=X_valid.index)\n",
    "ss_X_test_num = pd.DataFrame(X_test_num_temp, columns=num_cols, index=X_test.index)"
   ]
  },
  {
   "cell_type": "code",
   "execution_count": null,
   "id": "448935ae",
   "metadata": {},
   "outputs": [],
   "source": [
    "X_train_cat.columns"
   ]
  },
  {
   "cell_type": "code",
   "execution_count": null,
   "id": "9860f08a",
   "metadata": {},
   "outputs": [],
   "source": [
    "cat_cols = X_train_cat.columns"
   ]
  },
  {
   "cell_type": "code",
   "execution_count": null,
   "id": "0de5731b",
   "metadata": {},
   "outputs": [],
   "source": [
    "ss_X_train = pd.concat([ss_X_train_num, X_train_cat], axis=1)"
   ]
  },
  {
   "cell_type": "code",
   "execution_count": null,
   "id": "d4d2c160",
   "metadata": {},
   "outputs": [],
   "source": [
    "ss_X_valid = pd.concat([ss_X_valid_num, X_valid[cat_cols]], axis=1)\n",
    "ss_X_test = pd.concat([ss_X_test_num, X_test[cat_cols]], axis=1)\n"
   ]
  },
  {
   "cell_type": "code",
   "execution_count": null,
   "id": "b1bc73a9",
   "metadata": {},
   "outputs": [],
   "source": [
    "\n",
    "\n",
    "from sklearn.svm import SVC"
   ]
  },
  {
   "cell_type": "code",
   "execution_count": null,
   "id": "b1d4bc0f",
   "metadata": {},
   "outputs": [],
   "source": [
    "\n",
    "\n",
    "svc = SVC()\n",
    "svc.fit(ss_X_train, y_train)\n",
    "valid_pred = svc.predict(ss_X_valid)\n",
    "print(\"========= Valid Result=========\")\n",
    "print(classification_report(y_valid, valid_pred))\n",
    "print(\"========= Test Result=========\")\n",
    "test_pred = svc.predict(ss_X_test)\n",
    "print(classification_report(y_test, test_pred))\n",
    "print()\n"
   ]
  },
  {
   "cell_type": "code",
   "execution_count": null,
   "id": "138ab774",
   "metadata": {},
   "outputs": [],
   "source": []
  },
  {
   "cell_type": "code",
   "execution_count": null,
   "id": "2ff82ace",
   "metadata": {},
   "outputs": [],
   "source": []
  },
  {
   "cell_type": "code",
   "execution_count": null,
   "id": "dc5f491b",
   "metadata": {},
   "outputs": [],
   "source": []
  }
 ],
 "metadata": {
  "kernelspec": {
   "display_name": "Python 3 (ipykernel)",
   "language": "python",
   "name": "python3"
  },
  "language_info": {
   "codemirror_mode": {
    "name": "ipython",
    "version": 3
   },
   "file_extension": ".py",
   "mimetype": "text/x-python",
   "name": "python",
   "nbconvert_exporter": "python",
   "pygments_lexer": "ipython3",
   "version": "3.9.21"
  }
 },
 "nbformat": 4,
 "nbformat_minor": 5
}
